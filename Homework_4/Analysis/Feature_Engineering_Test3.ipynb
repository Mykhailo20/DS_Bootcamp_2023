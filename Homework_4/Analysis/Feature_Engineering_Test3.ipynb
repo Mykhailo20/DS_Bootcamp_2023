{
 "cells": [
  {
   "cell_type": "code",
   "execution_count": null,
   "id": "e0b1dbe5-ec83-46d8-a342-f67ea487da0c",
   "metadata": {},
   "outputs": [],
   "source": [
    "import numpy as np\n",
    "import pandas as pd\n",
    "import matplotlib.pyplot as plt\n",
    "import seaborn as sns\n",
    "\n",
    "from scipy import stats\n",
    "from scipy.signal import find_peaks\n",
    "import warnings\n",
    "warnings.filterwarnings('ignore')\n",
    "\n",
    "from sklearn.model_selection import train_test_split\n",
    "from math import ceil\n",
    "\n",
    "from sklearn.preprocessing import StandardScaler\n",
    "from sklearn.linear_model import LogisticRegression\n",
    "from sklearn.metrics import accuracy_score\n",
    "from sklearn.metrics import classification_report\n",
    "from sklearn.metrics import confusion_matrix"
   ]
  },
  {
   "cell_type": "markdown",
   "id": "03aac31a-549e-466f-a5ad-2dda926b70d6",
   "metadata": {
    "tags": []
   },
   "source": [
    "# Functions"
   ]
  },
  {
   "cell_type": "markdown",
   "id": "8ce2348f-90ea-4c20-b00d-1c0361eced8e",
   "metadata": {
    "tags": []
   },
   "source": [
    "## Creating activity df"
   ]
  },
  {
   "cell_type": "code",
   "execution_count": null,
   "id": "3e3be32c-dad4-484e-894e-8ec61410d496",
   "metadata": {},
   "outputs": [],
   "source": [
    "def create_activities_df(path):\n",
    "    \"\"\" A function for creating a dataframe containing information about the beginning, end and name of each physical activity\n",
    "    Args:\n",
    "        1) path - the path to the Label Studio file that contains the labeled signals\n",
    "    Returns:\n",
    "        Dataframe containing information about the beginning, end and name of each physical activity\n",
    "    \"\"\"\n",
    "    labeled_activities = pd.read_csv(path)\n",
    "    labels = labeled_activities['label']\n",
    "    labels = np.array(labels)[0]    # the original type of labels is pd.Series\n",
    "    labels = labels.split('},')\n",
    "    \n",
    "    activities_dict = {'start_time': [], 'end_time': [], 'activity': []}\n",
    "    for label in labels:\n",
    "        start_time, end_time, _, activity = label.split(',')\n",
    "        activities_dict['start_time'].append(float(start_time.split(':')[1]))\n",
    "        activities_dict['end_time'].append(float(end_time.split(':')[1]))\n",
    "        activities_dict['activity'].append(activity.split(':')[1].strip('[]}\"'))\n",
    "    \n",
    "    activities_df = pd.DataFrame.from_dict(activities_dict)\n",
    "    activities_df = activities_df.sort_values(by='start_time').reset_index(drop=True)\n",
    "    return activities_df\n",
    "\n",
    "def add_activity_column(path, df, df_merge_col):\n",
    "    \"\"\" Function to add 'activity' column to dataframe df\n",
    "    Args:\n",
    "        1) path - the path to the Label Studio file that contains the labeled signals\n",
    "        2) df - a dataframe that contains the results of accelerometer and gyroscope measurements\n",
    "        3) df_merge_col - the name of the column of the dataframe df, which contains data about the measurement time ('time' column)\n",
    "    \"\"\"\n",
    "    activities_df_local = create_activities_df(path)\n",
    "    merged_df = pd.merge_asof(df, activities_df_local, left_on=df_merge_col, right_on='start_time', direction='backward')\n",
    "    df['activity'] = merged_df['activity']\n",
    "    \n",
    "    \n",
    "def display_activity_freq_spectrum_one_axes(df, activity_name, axes_name, sampling_rate, is_divided_by_g=False, x_lim=10, color='blue'):\n",
    "    \"\"\" Function to display the frequency spectrum of the specified type of activity on the OX, OY and OZ axes for the specified device \n",
    "    (accelerometer or gyroscope)\n",
    "    Args:\n",
    "        1) df - a dataframe that contains the results of accelerometer and gyroscope measurements\n",
    "        2) activity_name - selected activity type (among the values of the 'activity' column of df)\n",
    "        3) axes_name - the column name of the dataframe df that contain the measurement results for the OX, OY, or OZ axes\n",
    "        4) sampling_rate - actual sampling rate of your dataset (samples per second)\n",
    "        5) is_divided_by_g - True if the content of the column was divided by the free fall acceleration g (g=9.81 m/s^2)\n",
    "        6) x_lim - the limits of the graph along the OX axis are [-x_lim; x_lim]\n",
    "        7) color - the color of the graph\n",
    "    \"\"\"\n",
    "    activity_data = df[df['activity'] == activity_name]\n",
    "    \n",
    "    signal = np.array(activity_data[axes_name])\n",
    "    \n",
    "    if is_divided_by_g:\n",
    "        signal *= 9.81\n",
    "        \n",
    "    fft_result = fft(signal)\n",
    "\n",
    "    fft_freqs = fftfreq(len(activity_data), 1/sampling_rate)\n",
    "\n",
    "    fig = plt.figure(figsize=(12, 5))\n",
    "    axes = fig.add_axes([0.1, 0.1, 1, 1])\n",
    "    axes.plot(fft_freqs, np.abs(fft_result), color=color)\n",
    "    axes.set_title(f'{activity_name} {axes_name}')\n",
    "\n",
    "    axes.set_xlabel('Frequency (Hz)')\n",
    "    axes.set_xlim(-x_lim, x_lim)\n",
    "    axes.set_ylabel('Amplitude')\n",
    "    axes.grid(alpha=0.5)\n",
    "\n",
    "    plt.show()\n",
    "\n",
    "    \n",
    "def display_activity_freq_spectrum(df, activity_name, axes_names, sampling_rate, is_divided_by_g=False, x_lim=10):\n",
    "    \"\"\" Function to display the frequency spectrum of the specified type of activity on the OX, OY and OZ axes for the specified device \n",
    "    (accelerometer or gyroscope)\n",
    "    Args:\n",
    "        1) df - a dataframe that contains the results of accelerometer and gyroscope measurements\n",
    "        2) activity_name - selected activity type (among the values of the 'activity' column of df)\n",
    "        3) axes_names - an array containing the column names of the dataframe df that contain the measurement results for the OX, OY, and OZ axes, \n",
    "        respectively\n",
    "        4) sampling_rate - actual sampling rate of your dataset (samples per second)\n",
    "        5) is_divided_by_g - True if the content of the column was divided by the free fall acceleration g (g=9.81 m/s^2)\n",
    "        6) x_lim - the limits of the graph along the OX axis are [-x_lim; x_lim]\n",
    "    \"\"\"\n",
    "    activity_data = df[df['activity'] == activity_name]\n",
    "    \n",
    "    signal_x = np.array(activity_data[axes_names[0]])\n",
    "    signal_y = np.array(activity_data[axes_names[1]])\n",
    "    signal_z = np.array(activity_data[axes_names[2]])\n",
    "    \n",
    "    if is_divided_by_g:\n",
    "        signal_x *= 9.81\n",
    "        signal_y *= 9.81\n",
    "        signal_z *= 9.81\n",
    "        \n",
    "    fft_x = fft(signal_x)\n",
    "    fft_y = fft(signal_y)\n",
    "    fft_z = fft(signal_z)\n",
    "\n",
    "    fft_freqs = fftfreq(len(activity_data), 1/sampling_rate)\n",
    "\n",
    "    fig, axes = plt.subplots(1, 3, figsize=(12, 4))\n",
    "    axes[0].plot(fft_freqs, np.abs(fft_x), label='X', color='blue')\n",
    "    axes[0].set_title(f'{activity_name} {axes_names[0]}')\n",
    "\n",
    "    axes[1].plot(fft_freqs, np.abs(fft_y), label='Y', color='yellow')\n",
    "    axes[1].set_title(f'{activity_name} {axes_names[1]}')\n",
    "\n",
    "    axes[2].plot(fft_freqs, np.abs(fft_z), label='Z', color='green')\n",
    "    axes[2].set_title(f'{activity_name} {axes_names[2]}')\n",
    "\n",
    "    for ax in axes:\n",
    "        ax.set_xlabel('Frequency (Hz)')\n",
    "        ax.set_xlim(-x_lim, x_lim)\n",
    "        ax.set_xticks([i for i in range(-x_lim, x_lim+1, 2)])\n",
    "        ax.set_ylabel('Amplitude')\n",
    "        ax.grid(alpha=0.5)\n",
    "        ax.legend()\n",
    "\n",
    "    plt.tight_layout()\n",
    "    plt.show()"
   ]
  },
  {
   "cell_type": "markdown",
   "id": "3b89a0d1-c2cd-4b0f-9bcb-2d71e6f114e5",
   "metadata": {
    "tags": []
   },
   "source": [
    "## Visualizing results"
   ]
  },
  {
   "cell_type": "code",
   "execution_count": null,
   "id": "b3182948-7256-4477-bf4a-85b5078aebaf",
   "metadata": {},
   "outputs": [],
   "source": [
    "def display_three_axes(df, x, y, title=None, x_label=None, y_label=None):\n",
    "    \"\"\" Function for visualization of three axes (X, Y, Z) of the measurement results of the device\n",
    "    Args:\n",
    "        1) df - a dataframe containing the results of the device measurement;\n",
    "        2) x - the name of the column of the dataframe that contains the data for the OX axis (for the three lines, this is the same data);\n",
    "        3) y - the list containing the dataframe column names corresponding to the OX, OY, and OZ axis measurements, respectively;\n",
    "        4) title - title of the graph;\n",
    "        5) x_label - the name of the OX axis of the graph;\n",
    "        6) y_label - the name of the OY axis of the graph.\n",
    "    Returns:\n",
    "        Nothing, but plots graph\n",
    "    \"\"\"\n",
    "    plt.figure(figsize=(12, 6))\n",
    "    plt.plot(df[x], df[y[0]], label='X')\n",
    "    plt.plot(df[x], df[y[1]], label='Y')\n",
    "    plt.plot(df[x], df[y[2]], label='Z')\n",
    "    plt.title(title)\n",
    "    plt.xlabel(x_label)\n",
    "    plt.ylabel(y_label)\n",
    "    plt.legend()\n",
    "    plt.savefig(f'graphs/{title}.png', bbox_inches='tight')\n",
    "    plt.show()\n",
    "    \n",
    "\n",
    "def display_three_axes_sep(df, x, y, title=None, x_label=None, y_labels=None):\n",
    "    \"\"\" Function for visualization of three axes (X, Y, Z) of the measurement results of the device, a separate graph for each axis\n",
    "    Args:\n",
    "        1) df - a dataframe containing the results of the device measurement;\n",
    "        2) x - the name of the column of the dataframe that contains the data for the OX axis (for the three lines, this is the same data);\n",
    "        3) y - the list containing the dataframe column names corresponding to the OX, OY, and OZ axis measurements, respectively;\n",
    "        4) title - title of the graph;\n",
    "        5) x_label - the name of the OX axis of the graph;\n",
    "        6) y_labels - the list of names of the OY axis of the graph.\n",
    "    Returns:\n",
    "        Nothing, but plots graph\n",
    "    \"\"\"\n",
    "    fig, axes = plt.subplots(3, 1, figsize=(10, 18))\n",
    "    axes[0].plot(df[x], df[y[0]], color='blue')\n",
    "    axes[0].set_xlabel(x_label)\n",
    "    axes[0].set_ylabel(y_labels[0])\n",
    "    axes[0].set_title(title + ' accX')\n",
    "\n",
    "    axes[1].plot(df[x], df[y[1]], color='yellow')\n",
    "    axes[1].set_xlabel(x_label)\n",
    "    axes[1].set_ylabel(y_labels[1])\n",
    "    axes[1].set_title(title + ' accY')\n",
    "\n",
    "    axes[2].plot(df[x], df[y[2]], color='green')\n",
    "    axes[2].set_xlabel(x_label)\n",
    "    axes[2].set_ylabel(y_labels[2])\n",
    "    axes[2].set_title(title + ' accZ')\n",
    "\n",
    "    plt.show()"
   ]
  },
  {
   "cell_type": "markdown",
   "id": "29a6d5e1-173e-49aa-af1e-0a4329dfb711",
   "metadata": {
    "tags": []
   },
   "source": [
    "## Windowing"
   ]
  },
  {
   "cell_type": "code",
   "execution_count": null,
   "id": "d55e6850-7482-4715-a05b-ccd824212de1",
   "metadata": {},
   "outputs": [],
   "source": [
    "def windowed_pie_chart(original_df, windowed_df, column, first_chart_title='Original DataFrame', second_chart_title='Windowed DataFrame'):\n",
    "    \"\"\"Function for displaying the ratio of column content between the original dataframe and the windowed dataframe in the form of a pie chart\n",
    "    Args:\n",
    "        1) original_df - the original dataframe that contains the required information;\n",
    "        2) windowed_df - a dataframe that contains the results of windowing;\n",
    "        3) column - the name of the dataframe column whose percentage values are to be found.\n",
    "    Returns:\n",
    "        None; just builds a pie chart to display the ratio of column contents between the original dataframe and the windowed dataframe\n",
    "    \"\"\"\n",
    "    # Calculate the percentage of each activity in original_df\n",
    "    activity_percentages_df = original_df[column].value_counts(normalize=True) * 100\n",
    "\n",
    "    # Calculate the percentage of each activity in windowed_df\n",
    "    activity_percentages_windowed = windowed_df[column].value_counts(normalize=True) * 100\n",
    "\n",
    "    # Create subplots for pie charts\n",
    "    fig, axes = plt.subplots(1, 2, figsize=(12, 6))\n",
    "\n",
    "    # Plot pie chart for df\n",
    "    sns.set_palette(\"Set3\")\n",
    "    axes[0].pie(activity_percentages_df, labels=activity_percentages_df.index, autopct='%1.1f%%', startangle=140)\n",
    "    axes[0].set_title(first_chart_title)\n",
    "\n",
    "    # Plot pie chart for windowed_df\n",
    "    sns.set_palette(\"Set3\")\n",
    "    axes[1].pie(activity_percentages_windowed, labels=activity_percentages_df.index, autopct='%1.1f%%', startangle=140)\n",
    "    axes[1].set_title(second_chart_title)\n",
    "\n",
    "    # Adjust layout\n",
    "    plt.tight_layout()\n",
    "    plt.savefig(f'graphs/{second_chart_title}.png', bbox_inches='tight')\n",
    "    plt.show()"
   ]
  },
  {
   "cell_type": "markdown",
   "id": "942b181e-0385-4e6e-a117-3d6e75fa2c28",
   "metadata": {
    "tags": []
   },
   "source": [
    "## Feature Engineering"
   ]
  },
  {
   "cell_type": "code",
   "execution_count": null,
   "id": "614858a6-c9da-4b2e-82c9-a3b2a1d7bc30",
   "metadata": {},
   "outputs": [],
   "source": [
    "def add_statistical_measures_columns(X_df, data_df, X_df_columns_add, data_df_columns_add):\n",
    "    \"\"\"Function to add columns, which contains statistical measures, to X_df\n",
    "    Args:\n",
    "        1) X_df - the dataframe to which the new columns will be added;\n",
    "        2) data_df - a dataframe that contains arrays with data needed to calculate statistical measures;\n",
    "        3) X_df_columns_add - a suffix that specifies what the new columns of X_df will be named \n",
    "           (for example, for the suffix 'accel', the first 3 columns will be named 'accel_x_mean', 'accel_y_mean' and 'accel_z_mean');\n",
    "        4) data_df_columns_add - a suffix that determines from which columns of the data frame data_df the necessary data for calculating \n",
    "           statistical measures will be taken.\n",
    "           For example, if you need to calculate statistical parameters for the accelerometer, you should specify a suffix as the beginning\n",
    "           of the name of the accelerometer readings in the data_df dataframe, in particular 'gF'.\n",
    "    \"\"\"\n",
    "    # mean\n",
    "    X_df[f'{X_df_columns_add}_x_mean'] = data_df[f'{data_df_columns_add}x_s'].apply(lambda x: x.mean())\n",
    "    X_df[f'{X_df_columns_add}_y_mean'] = data_df[f'{data_df_columns_add}y_s'].apply(lambda x: x.mean())\n",
    "    X_df[f'{X_df_columns_add}_z_mean'] = data_df[f'{data_df_columns_add}z_s'].apply(lambda x: x.mean())\n",
    "\n",
    "    # variation\n",
    "    X_df[f'{X_df_columns_add}_x_variation'] = data_df[f'{data_df_columns_add}x_s'].apply(lambda x: np.std(x, ddof=0) / np.mean(x))\n",
    "    X_df[f'{X_df_columns_add}_y_variation'] = data_df[f'{data_df_columns_add}y_s'].apply(lambda x: np.std(x, ddof=0) / np.mean(x))\n",
    "    X_df[f'{X_df_columns_add}_z_variation'] = data_df[f'{data_df_columns_add}z_s'].apply(lambda x: np.std(x, ddof=0) / np.mean(x))\n",
    "\n",
    "    # std deviation\n",
    "    X_df[f'{X_df_columns_add}_x_std'] = data_df[f'{data_df_columns_add}x_s'].apply(lambda x: x.std())\n",
    "    X_df[f'{X_df_columns_add}_y_std'] = data_df[f'{data_df_columns_add}y_s'].apply(lambda x: x.std())\n",
    "    X_df[f'{X_df_columns_add}_z_std'] = data_df[f'{data_df_columns_add}z_s'].apply(lambda x: x.std())\n",
    "\n",
    "    # avg absolute diff\n",
    "    X_df[f'{X_df_columns_add}_x_aad'] = data_df[f'{data_df_columns_add}x_s'].apply(lambda x: np.mean(np.absolute(x - np.mean(x))))\n",
    "    X_df[f'{X_df_columns_add}_y_aad'] = data_df[f'{data_df_columns_add}y_s'].apply(lambda x: np.mean(np.absolute(x - np.mean(x))))\n",
    "    X_df[f'{X_df_columns_add}_z_aad'] = data_df[f'{data_df_columns_add}z_s'].apply(lambda x: np.mean(np.absolute(x - np.mean(x))))\n",
    "\n",
    "    # min\n",
    "    X_df[f'{X_df_columns_add}_x_min'] = data_df[f'{data_df_columns_add}x_s'].apply(lambda x: x.min())\n",
    "    X_df[f'{X_df_columns_add}_y_min'] = data_df[f'{data_df_columns_add}y_s'].apply(lambda x: x.min())\n",
    "    X_df[f'{X_df_columns_add}_z_min'] = data_df[f'{data_df_columns_add}z_s'].apply(lambda x: x.min())\n",
    "\n",
    "    # max\n",
    "    X_df[f'{X_df_columns_add}_x_max'] = data_df[f'{data_df_columns_add}x_s'].apply(lambda x: x.max())\n",
    "    X_df[f'{X_df_columns_add}_y_max'] = data_df[f'{data_df_columns_add}y_s'].apply(lambda x: x.max())\n",
    "    X_df[f'{X_df_columns_add}_z_max'] = data_df[f'{data_df_columns_add}z_s'].apply(lambda x: x.max())\n",
    "\n",
    "    # max-min diff\n",
    "    X_df[f'{X_df_columns_add}_x_maxmin_diff'] = X_df[f'{X_df_columns_add}_x_max'] - X_df[f'{X_df_columns_add}_x_min']\n",
    "    X_df[f'{X_df_columns_add}_y_maxmin_diff'] = X_df[f'{X_df_columns_add}_y_max'] - X_df[f'{X_df_columns_add}_y_min']\n",
    "    X_df[f'{X_df_columns_add}_z_maxmin_diff'] = X_df[f'{X_df_columns_add}_z_max'] - X_df[f'{X_df_columns_add}_z_min']\n",
    "\n",
    "    # median\n",
    "    X_df[f'{X_df_columns_add}_x_median'] = data_df[f'{data_df_columns_add}x_s'].apply(lambda x: np.median(x))\n",
    "    X_df[f'{X_df_columns_add}_y_median'] = data_df[f'{data_df_columns_add}y_s'].apply(lambda x: np.median(x))\n",
    "    X_df[f'{X_df_columns_add}_z_median'] = data_df[f'{data_df_columns_add}z_s'].apply(lambda x: np.median(x))\n",
    "\n",
    "    # median abs dev \n",
    "    X_df[f'{X_df_columns_add}_x_mad'] = data_df[f'{data_df_columns_add}x_s'].apply(lambda x: np.median(np.absolute(x - np.median(x))))\n",
    "    X_df[f'{X_df_columns_add}_y_mad'] = data_df[f'{data_df_columns_add}y_s'].apply(lambda x: np.median(np.absolute(x - np.median(x))))\n",
    "    X_df[f'{X_df_columns_add}_z_mad'] = data_df[f'{data_df_columns_add}z_s'].apply(lambda x: np.median(np.absolute(x - np.median(x))))\n",
    "\n",
    "    # interquartile range\n",
    "    X_df[f'{X_df_columns_add}_x_IQR'] = data_df[f'{data_df_columns_add}x_s'].apply(lambda x: np.percentile(x, 75) - np.percentile(x, 25))\n",
    "    X_df[f'{X_df_columns_add}_y_IQR'] = data_df[f'{data_df_columns_add}y_s'].apply(lambda x: np.percentile(x, 75) - np.percentile(x, 25))\n",
    "    X_df[f'{X_df_columns_add}_z_IQR'] = data_df[f'{data_df_columns_add}z_s'].apply(lambda x: np.percentile(x, 75) - np.percentile(x, 25))\n",
    "\n",
    "    # negative count\n",
    "    X_df[f'{X_df_columns_add}_x_neg_count'] = data_df[f'{data_df_columns_add}x_s'].apply(lambda x: np.sum(x < 0))\n",
    "    X_df[f'{X_df_columns_add}_y_neg_count'] = data_df[f'{data_df_columns_add}y_s'].apply(lambda x: np.sum(x < 0))\n",
    "    X_df[f'{X_df_columns_add}_z_neg_count'] = data_df[f'{data_df_columns_add}z_s'].apply(lambda x: np.sum(x < 0))\n",
    "\n",
    "    # positive count\n",
    "    X_df[f'{X_df_columns_add}_x_pos_count'] = data_df[f'{data_df_columns_add}x_s'].apply(lambda x: np.sum(x > 0))\n",
    "    X_df[f'{X_df_columns_add}_y_pos_count'] = data_df[f'{data_df_columns_add}y_s'].apply(lambda x: np.sum(x > 0))\n",
    "    X_df[f'{X_df_columns_add}_z_pos_count'] = data_df[f'{data_df_columns_add}z_s'].apply(lambda x: np.sum(x > 0))\n",
    "\n",
    "    # values above mean\n",
    "    X_df[f'{X_df_columns_add}_x_above_mean'] = data_df[f'{data_df_columns_add}x_s'].apply(lambda x: np.sum(x > x.mean()))\n",
    "    X_df[f'{X_df_columns_add}_y_above_mean'] = data_df[f'{data_df_columns_add}y_s'].apply(lambda x: np.sum(x > x.mean()))\n",
    "    X_df[f'{X_df_columns_add}_z_above_mean'] = data_df[f'{data_df_columns_add}z_s'].apply(lambda x: np.sum(x > x.mean()))\n",
    "\n",
    "    # number of peaks\n",
    "    X_df[f'{X_df_columns_add}_x_peak_count'] = data_df[f'{data_df_columns_add}x_s'].apply(lambda x: len(find_peaks(x)[0]))\n",
    "    X_df[f'{X_df_columns_add}_y_peak_count'] = data_df[f'{data_df_columns_add}y_s'].apply(lambda x: len(find_peaks(x)[0]))\n",
    "    X_df[f'{X_df_columns_add}_z_peak_count'] = data_df[f'{data_df_columns_add}z_s'].apply(lambda x: len(find_peaks(x)[0]))\n",
    "\n",
    "    # skewness = assymetry\n",
    "    X_df[f'{X_df_columns_add}_x_assymetry'] = data_df[f'{data_df_columns_add}x_s'].apply(lambda x: stats.skew(x))\n",
    "    X_df[f'{X_df_columns_add}_y_assymetry'] = data_df[f'{data_df_columns_add}y_s'].apply(lambda x: stats.skew(x))\n",
    "    X_df[f'{X_df_columns_add}_z_assymetry'] = data_df[f'{data_df_columns_add}z_s'].apply(lambda x: stats.skew(x))\n",
    "\n",
    "    # kurtosis\n",
    "    X_df[f'{X_df_columns_add}_x_kurtosis'] = data_df[f'{data_df_columns_add}x_s'].apply(lambda x: stats.kurtosis(x))\n",
    "    X_df[f'{X_df_columns_add}_y_kurtosis'] = data_df[f'{data_df_columns_add}y_s'].apply(lambda x: stats.kurtosis(x))\n",
    "    X_df[f'{X_df_columns_add}_z_kurtosis'] = data_df[f'{data_df_columns_add}z_s'].apply(lambda x: stats.kurtosis(x))\n",
    "\n",
    "    # energy\n",
    "    X_df[f'{X_df_columns_add}_x_energy'] = data_df[f'{data_df_columns_add}x_s'].apply(lambda x: np.sum(x**2)/100)\n",
    "    X_df[f'{X_df_columns_add}_y_energy'] = data_df[f'{data_df_columns_add}y_s'].apply(lambda x: np.sum(x**2)/100)\n",
    "    X_df[f'{X_df_columns_add}_z_energy'] = data_df[f'{data_df_columns_add}z_s'].apply(lambda x: np.sum(x**2/100))\n",
    "\n",
    "    # avg resultant\n",
    "    X_df[f'{X_df_columns_add}_avg_result_accl'] = [i.mean() for i in ((data_df[f'{data_df_columns_add}x_s']**2 \n",
    "                                                   + data_df[f'{data_df_columns_add}y_s']**2 + data_df[f'{data_df_columns_add}z_s']**2)**0.5)]\n",
    "\n",
    "    # signal magnitude area\n",
    "    X_df[f'{X_df_columns_add}_sma'] =data_df[f'{data_df_columns_add}x_s'].apply(lambda x: np.sum(abs(x)/100)) + data_df[f'{data_df_columns_add}y_s'].apply(lambda x: np.sum(abs(x)/100)) + data_df[f'{data_df_columns_add}z_s'].apply(lambda x: np.sum(abs(x)/100))"
   ]
  },
  {
   "cell_type": "code",
   "execution_count": null,
   "id": "91ff10a4-2539-4a5f-b35d-8e54900a8a1f",
   "metadata": {},
   "outputs": [],
   "source": [
    "def add_fft_columns(X_df, data_df, X_df_columns_add, data_df_columns_add, window_size, is_divided_by_g=False):\n",
    "    \"\"\"A function to add columns that contain the results of performing a fast Fourier transform to X_df\n",
    "    Args:\n",
    "        1) X_df - the dataframe to which the new columns will be added;\n",
    "        2) data_df - a dataframe that contains arrays with data needed to calculate statistical measures;\n",
    "        3) X_df_columns_add - a suffix that specifies what the new columns of X_df will be named \n",
    "           (for example, for the suffix 'accel', the first 3 columns will be named 'accel_x_mean_fft', 'accel_y_mean_fft' and 'accel_z_mean_fft');\n",
    "        4) data_df_columns_add - a suffix that determines from which columns of the data frame data_df the necessary data for calculating \n",
    "           statistical measures will be taken.\n",
    "           For example, if you need to calculate statistical parameters for the accelerometer, you should specify a suffix as the beginning\n",
    "           of the name of the accelerometer readings in the data_df dataframe, in particular 'gF';\n",
    "        5) window_size - the size of the window into which the original dataframe was divided \n",
    "           (we take only half of the fft, since the signal is symmetrical about the center);\n",
    "        6) is_divided_by_g - the content of the column was divided by the free fall acceleration g (g=9.81).\n",
    "    \"\"\"\n",
    "    # converting the signals from time domain to frequency domain using FFT\n",
    "    if is_divided_by_g:\n",
    "        x_list_fft = data_df[f\"{data_df_columns_add}x_s\"].apply(lambda x: np.abs(np.fft.fft(x*9.81))[1:(window_size//2 + 1)])\n",
    "        y_list_fft = data_df[f\"{data_df_columns_add}y_s\"].apply(lambda x: np.abs(np.fft.fft(x*9.81))[1:(window_size//2 + 1)])\n",
    "        z_list_fft = data_df[f\"{data_df_columns_add}z_s\"].apply(lambda x: np.abs(np.fft.fft(x*9.81))[1:(window_size//2 + 1)])\n",
    "    else:    \n",
    "        x_list_fft = data_df[f\"{data_df_columns_add}x_s\"].apply(lambda x: np.abs(np.fft.fft(x))[1:(window_size//2 + 1)])\n",
    "        y_list_fft = data_df[f\"{data_df_columns_add}y_s\"].apply(lambda x: np.abs(np.fft.fft(x))[1:(window_size//2 + 1)])\n",
    "        z_list_fft = data_df[f\"{data_df_columns_add}z_s\"].apply(lambda x: np.abs(np.fft.fft(x))[1:(window_size//2 + 1)])\n",
    "\n",
    "    # Statistical Features on raw x, y and z in frequency domain\n",
    "    # FFT mean\n",
    "    X_df[f'{X_df_columns_add}_x_mean_fft'] = pd.Series(x_list_fft).apply(lambda x: x.mean())\n",
    "    X_df[f'{X_df_columns_add}_y_mean_fft'] = pd.Series(y_list_fft).apply(lambda x: x.mean())\n",
    "    X_df[f'{X_df_columns_add}_z_mean_fft'] = pd.Series(z_list_fft).apply(lambda x: x.mean())\n",
    "    \n",
    "    # variation\n",
    "    X_df[f'{X_df_columns_add}_x_variation_fft'] = pd.Series(x_list_fft).apply(lambda x: np.std(x, ddof=0) / np.mean(x))\n",
    "    X_df[f'{X_df_columns_add}_y_variation_fft'] = pd.Series(y_list_fft).apply(lambda x: np.std(x, ddof=0) / np.mean(x))\n",
    "    X_df[f'{X_df_columns_add}_z_variation_fft'] = pd.Series(z_list_fft).apply(lambda x: np.std(x, ddof=0) / np.mean(x))\n",
    "    \n",
    "    # FFT std dev\n",
    "    X_df[f'{X_df_columns_add}_x_std_fft'] = pd.Series(x_list_fft).apply(lambda x: x.std())\n",
    "    X_df[f'{X_df_columns_add}_y_std_fft'] = pd.Series(y_list_fft).apply(lambda x: x.std())\n",
    "    X_df[f'{X_df_columns_add}_z_std_fft'] = pd.Series(z_list_fft).apply(lambda x: x.std())\n",
    "\n",
    "    # FFT avg absolute diff\n",
    "    X_df[f'{X_df_columns_add}_x_aad_fft'] = pd.Series(x_list_fft).apply(lambda x: np.mean(np.absolute(x - np.mean(x))))\n",
    "    X_df[f'{X_df_columns_add}_y_aad_fft'] = pd.Series(y_list_fft).apply(lambda x: np.mean(np.absolute(x - np.mean(x))))\n",
    "    X_df[f'{X_df_columns_add}_z_aad_fft'] = pd.Series(z_list_fft).apply(lambda x: np.mean(np.absolute(x - np.mean(x))))\n",
    "\n",
    "    # FFT min\n",
    "    X_df[f'{X_df_columns_add}_x_min_fft'] = pd.Series(x_list_fft).apply(lambda x: x.min())\n",
    "    X_df[f'{X_df_columns_add}_y_min_fft'] = pd.Series(y_list_fft).apply(lambda x: x.min())\n",
    "    X_df[f'{X_df_columns_add}_z_min_fft'] = pd.Series(z_list_fft).apply(lambda x: x.min())\n",
    "\n",
    "    # FFT max\n",
    "    X_df[f'{X_df_columns_add}_x_max_fft'] = pd.Series(x_list_fft).apply(lambda x: x.max())\n",
    "    X_df[f'{X_df_columns_add}_y_max_fft'] = pd.Series(y_list_fft).apply(lambda x: x.max())\n",
    "    X_df[f'{X_df_columns_add}_z_max_fft'] = pd.Series(z_list_fft).apply(lambda x: x.max())\n",
    "\n",
    "    # FFT max-min diff\n",
    "    X_df[f'{X_df_columns_add}_x_maxmin_diff_fft'] = X_df[f'{X_df_columns_add}_x_max_fft'] - X_df[f'{X_df_columns_add}_x_min_fft']\n",
    "    X_df[f'{X_df_columns_add}_y_maxmin_diff_fft'] = X_df[f'{X_df_columns_add}_y_max_fft'] - X_df[f'{X_df_columns_add}_y_min_fft']\n",
    "    X_df[f'{X_df_columns_add}_z_maxmin_diff_fft'] = X_df[f'{X_df_columns_add}_z_max_fft'] - X_df[f'{X_df_columns_add}_z_min_fft']\n",
    "\n",
    "    # FFT median\n",
    "    X_df[f'{X_df_columns_add}_x_median_fft'] = pd.Series(x_list_fft).apply(lambda x: np.median(x))\n",
    "    X_df[f'{X_df_columns_add}_y_median_fft'] = pd.Series(y_list_fft).apply(lambda x: np.median(x))\n",
    "    X_df[f'{X_df_columns_add}_z_median_fft'] = pd.Series(z_list_fft).apply(lambda x: np.median(x))\n",
    "\n",
    "    # FFT median abs dev \n",
    "    X_df[f'{X_df_columns_add}_x_mad_fft'] = pd.Series(x_list_fft).apply(lambda x: np.median(np.absolute(x - np.median(x))))\n",
    "    X_df[f'{X_df_columns_add}_y_mad_fft'] = pd.Series(y_list_fft).apply(lambda x: np.median(np.absolute(x - np.median(x))))\n",
    "    X_df[f'{X_df_columns_add}_z_mad_fft'] = pd.Series(z_list_fft).apply(lambda x: np.median(np.absolute(x - np.median(x))))\n",
    "\n",
    "    # FFT Interquartile range\n",
    "    X_df[f'{X_df_columns_add}_x_IQR_fft'] = pd.Series(x_list_fft).apply(lambda x: np.percentile(x, 75) - np.percentile(x, 25))\n",
    "    X_df[f'{X_df_columns_add}_y_IQR_fft'] = pd.Series(y_list_fft).apply(lambda x: np.percentile(x, 75) - np.percentile(x, 25))\n",
    "    X_df[f'{X_df_columns_add}_z_IQR_fft'] = pd.Series(z_list_fft).apply(lambda x: np.percentile(x, 75) - np.percentile(x, 25))\n",
    "\n",
    "    # FFT values above mean\n",
    "    X_df[f'{X_df_columns_add}_x_above_mean_fft'] = pd.Series(x_list_fft).apply(lambda x: np.sum(x > x.mean()))\n",
    "    X_df[f'{X_df_columns_add}_y_above_mean_fft'] = pd.Series(y_list_fft).apply(lambda x: np.sum(x > x.mean()))\n",
    "    X_df[f'{X_df_columns_add}_z_above_mean_fft'] = pd.Series(z_list_fft).apply(lambda x: np.sum(x > x.mean()))\n",
    "\n",
    "    # FFT number of peaks\n",
    "    X_df[f'{X_df_columns_add}_x_peak_count_fft'] = pd.Series(x_list_fft).apply(lambda x: len(find_peaks(x)[0]))\n",
    "    X_df[f'{X_df_columns_add}_y_peak_count_fft'] = pd.Series(y_list_fft).apply(lambda x: len(find_peaks(x)[0]))\n",
    "    X_df[f'{X_df_columns_add}_z_peak_count_fft'] = pd.Series(z_list_fft).apply(lambda x: len(find_peaks(x)[0]))\n",
    "\n",
    "    # FFT skewness = assymetry\n",
    "    X_df[f'{X_df_columns_add}_x_assymetry_fft'] = pd.Series(x_list_fft).apply(lambda x: stats.skew(x))\n",
    "    X_df[f'{X_df_columns_add}_y_assymetry_fft'] = pd.Series(y_list_fft).apply(lambda x: stats.skew(x))\n",
    "    X_df[f'{X_df_columns_add}_z_assymetry_fft'] = pd.Series(z_list_fft).apply(lambda x: stats.skew(x))\n",
    "\n",
    "    # FFT kurtosis\n",
    "    X_df[f'{X_df_columns_add}_x_kurtosis_fft'] = pd.Series(x_list_fft).apply(lambda x: stats.kurtosis(x))\n",
    "    X_df[f'{X_df_columns_add}_y_kurtosis_fft'] = pd.Series(y_list_fft).apply(lambda x: stats.kurtosis(x))\n",
    "    X_df[f'{X_df_columns_add}_z_kurtosis_fft'] = pd.Series(z_list_fft).apply(lambda x: stats.kurtosis(x))\n",
    "\n",
    "    # FFT energy\n",
    "    X_df[f'{X_df_columns_add}_x_energy_fft'] = pd.Series(x_list_fft).apply(lambda x: np.sum(x**2)/50)\n",
    "    X_df[f'{X_df_columns_add}_y_energy_fft'] = pd.Series(y_list_fft).apply(lambda x: np.sum(x**2)/50)\n",
    "    X_df[f'{X_df_columns_add}_z_energy_fft'] = pd.Series(z_list_fft).apply(lambda x: np.sum(x**2/50))\n",
    "\n",
    "    # FFT avg resultant\n",
    "    X_df[f'{X_df_columns_add}_avg_result_accl_fft'] = [i.mean() for i in ((pd.Series(x_list_fft)**2 + pd.Series(y_list_fft)**2 + pd.Series(z_list_fft)**2)**0.5)]\n",
    "\n",
    "    # FFT Signal magnitude area\n",
    "    X_df[f'{X_df_columns_add}_sma_fft'] = pd.Series(x_list_fft).apply(lambda x: np.sum(abs(x)/50)) + pd.Series(y_list_fft).apply(lambda x: np.sum(abs(x)/50)) \\\n",
    "                         + pd.Series(z_list_fft).apply(lambda x: np.sum(abs(x)/50))"
   ]
  },
  {
   "cell_type": "code",
   "execution_count": null,
   "id": "3162fda3-417d-4a9b-bd65-e43d1141dcfc",
   "metadata": {},
   "outputs": [],
   "source": [
    "def add_indices_columns(X_df, data_df, X_df_columns_add, data_df_columns_add, window_size, is_divided_by_g=False):\n",
    "    \"\"\"A function to add columns that contain indices of minimum, maximum elements, etc. to X_df\n",
    "    Args:\n",
    "        1) X_df - the dataframe to which the new columns will be added;\n",
    "        2) data_df - a dataframe that contains arrays with data needed to calculate statistical measures;\n",
    "        3) X_df_columns_add - a suffix that specifies what the new columns of X_df will be named \n",
    "           (for example, for the suffix 'accel', the first 3 columns will be named 'accel_x_mean_fft', 'accel_y_mean_fft' and 'accel_z_mean_fft');\n",
    "        4) data_df_columns_add - a suffix that determines from which columns of the data frame data_df the necessary data for calculating \n",
    "           statistical measures will be taken.\n",
    "           For example, if you need to calculate statistical parameters for the accelerometer, you should specify a suffix as the beginning\n",
    "           of the name of the accelerometer readings in the data_df dataframe, in particular 'gF'.\n",
    "        5) window_size - the size of the window into which the original dataframe was divided \n",
    "           (we take only half of the fft, since the signal is symmetrical about the center);\n",
    "        6) is_divided_by_g - the content of the column was divided by the free fall acceleration g (g=9.81).\n",
    "    \"\"\"\n",
    "    # index of max value in time domain\n",
    "    X_df[f'{X_df_columns_add}_x_argmax'] = data_df[f'{data_df_columns_add}x_s'].apply(lambda x: np.argmax(x))\n",
    "    X_df[f'{X_df_columns_add}_y_argmax'] = data_df[f'{data_df_columns_add}y_s'].apply(lambda x: np.argmax(x))\n",
    "    X_df[f'{X_df_columns_add}_z_argmax'] = data_df[f'{data_df_columns_add}z_s'].apply(lambda x: np.argmax(x))\n",
    "\n",
    "    # index of min value in time domain\n",
    "    X_df[f'{X_df_columns_add}_x_argmin'] = data_df[f'{data_df_columns_add}x_s'].apply(lambda x: np.argmin(x))\n",
    "    X_df[f'{X_df_columns_add}_y_argmin'] = data_df[f'{data_df_columns_add}y_s'].apply(lambda x: np.argmin(x))\n",
    "    X_df[f'{X_df_columns_add}_z_argmin'] = data_df[f'{data_df_columns_add}z_s'].apply(lambda x: np.argmin(x))\n",
    "\n",
    "    # absolute difference between above indices\n",
    "    X_df[f'{X_df_columns_add}_x_arg_diff'] = abs(X_df[f'{X_df_columns_add}_x_argmax'] - X_df[f'{X_df_columns_add}_x_argmin'])\n",
    "    X_df[f'{X_df_columns_add}_y_arg_diff'] = abs(X_df[f'{X_df_columns_add}_y_argmax'] - X_df[f'{X_df_columns_add}_y_argmin'])\n",
    "    X_df[f'{X_df_columns_add}_z_arg_diff'] = abs(X_df[f'{X_df_columns_add}_z_argmax'] - X_df[f'{X_df_columns_add}_z_argmin'])\n",
    "\n",
    "    if is_divided_by_g:\n",
    "        x_list_fft = data_df[f\"{data_df_columns_add}x_s\"].apply(lambda x: np.abs(np.fft.fft(x*9.81))[1:(window_size//2 + 1)])\n",
    "        y_list_fft = data_df[f\"{data_df_columns_add}y_s\"].apply(lambda x: np.abs(np.fft.fft(x*9.81))[1:(window_size//2 + 1)])\n",
    "        z_list_fft = data_df[f\"{data_df_columns_add}z_s\"].apply(lambda x: np.abs(np.fft.fft(x*9.81))[1:(window_size//2 + 1)])\n",
    "    else:    \n",
    "        x_list_fft = data_df[f\"{data_df_columns_add}x_s\"].apply(lambda x: np.abs(np.fft.fft(x))[1:(window_size//2 + 1)])\n",
    "        y_list_fft = data_df[f\"{data_df_columns_add}y_s\"].apply(lambda x: np.abs(np.fft.fft(x))[1:(window_size//2 + 1)])\n",
    "        z_list_fft = data_df[f\"{data_df_columns_add}z_s\"].apply(lambda x: np.abs(np.fft.fft(x))[1:(window_size//2 + 1)])\n",
    "\n",
    "    # index of max value in frequency domain\n",
    "    X_df[f'{X_df_columns_add}_x_argmax_fft'] = pd.Series(x_list_fft).apply(lambda x: np.argmax(x))\n",
    "    X_df[f'{X_df_columns_add}_y_argmax_fft'] = pd.Series(y_list_fft).apply(lambda x: np.argmax(x))\n",
    "    X_df[f'{X_df_columns_add}_z_argmax_fft'] = pd.Series(z_list_fft).apply(lambda x: np.argmax(x))\n",
    "\n",
    "    # index of min value in frequency domain\n",
    "    X_df[f'{X_df_columns_add}_x_argmin_fft'] = pd.Series(x_list_fft).apply(lambda x: np.argmin(x))\n",
    "    X_df[f'{X_df_columns_add}_y_argmin_fft'] = pd.Series(y_list_fft).apply(lambda x: np.argmin(x))\n",
    "    X_df[f'{X_df_columns_add}_z_argmin_fft'] = pd.Series(z_list_fft).apply(lambda x: np.argmin(x))\n",
    "\n",
    "    # absolute difference between above indices \n",
    "    X_df[f'{X_df_columns_add}_x_arg_diff_fft'] = abs(X_df[f'{X_df_columns_add}_x_argmax_fft'] - X_df[f'{X_df_columns_add}_x_argmin_fft'])\n",
    "    X_df[f'{X_df_columns_add}_y_arg_diff_fft'] = abs(X_df[f'{X_df_columns_add}_y_argmax_fft'] - X_df[f'{X_df_columns_add}_y_argmin_fft'])\n",
    "    X_df[f'{X_df_columns_add}_z_arg_diff_fft'] = abs(X_df[f'{X_df_columns_add}_z_argmax_fft'] - X_df[f'{X_df_columns_add}_z_argmin_fft'])"
   ]
  },
  {
   "cell_type": "markdown",
   "id": "5ee729f4-62bc-4350-951b-d0cdb42a63d0",
   "metadata": {
    "tags": []
   },
   "source": [
    "# Create activity_df"
   ]
  },
  {
   "cell_type": "code",
   "execution_count": null,
   "id": "6649ec4f-29bd-443f-b29b-457a1c501626",
   "metadata": {},
   "outputs": [],
   "source": [
    "labels_df = create_activities_df(path='data/labeled_data/Test_3_labeled_3.csv')\n",
    "labels_df"
   ]
  },
  {
   "cell_type": "code",
   "execution_count": null,
   "id": "c2c82c4a-6871-4466-ab24-c99ca0d847fd",
   "metadata": {},
   "outputs": [],
   "source": [
    "df = pd.read_csv('data/correct_csv_data/2023-08-08.08_59_09_Test_3.csv')\n",
    "df.head()"
   ]
  },
  {
   "cell_type": "code",
   "execution_count": null,
   "id": "d7000464-8b32-4823-bee0-5cd09ca46d4c",
   "metadata": {},
   "outputs": [],
   "source": [
    "add_activity_column(path='data/labeled_data/Test_3_labeled_3.csv', df=df, df_merge_col='time')\n",
    "df.head()"
   ]
  },
  {
   "cell_type": "code",
   "execution_count": null,
   "id": "11742610-0aa7-4c80-8e85-edcc0efbf1e9",
   "metadata": {},
   "outputs": [],
   "source": [
    "time_diffs = df['time'].diff()\n",
    "freq = 1.0 / time_diffs.mean()\n",
    "print(f\"Measurement time = {df.iloc[-1]['time'] - df.iloc[0]['time']} s\")\n",
    "print(f\"Number of measurements (number of rows in the data set) = {len(df)}\")\n",
    "print(f\"Frequency of measurement = {freq} Hz\")"
   ]
  },
  {
   "cell_type": "markdown",
   "id": "179dbaab-b02b-45b5-ac73-3aac4546bfac",
   "metadata": {
    "tags": []
   },
   "source": [
    "### Check activities"
   ]
  },
  {
   "cell_type": "code",
   "execution_count": null,
   "id": "6d0385f9-e5fb-4df7-b224-377eef172a85",
   "metadata": {},
   "outputs": [],
   "source": [
    "df[df['time'] > 3.625][:5]"
   ]
  },
  {
   "cell_type": "code",
   "execution_count": null,
   "id": "9653f2b8-f7c0-45e4-8e43-b42b3f386113",
   "metadata": {},
   "outputs": [],
   "source": [
    "df[df['time'] > 18.607][:5]"
   ]
  },
  {
   "cell_type": "code",
   "execution_count": null,
   "id": "cd03ee4b-63a7-4518-971f-07aeedb66beb",
   "metadata": {},
   "outputs": [],
   "source": [
    "df[df['time'] > 25.744][:5]"
   ]
  },
  {
   "cell_type": "code",
   "execution_count": null,
   "id": "f8f027d7-22d6-48da-8682-f0f4efd7dddb",
   "metadata": {},
   "outputs": [],
   "source": [
    "df[df['time'] > 51.681][:5]"
   ]
  },
  {
   "cell_type": "code",
   "execution_count": null,
   "id": "5c7786ce-d70b-42b4-bddf-018852d7be82",
   "metadata": {},
   "outputs": [],
   "source": [
    "df[df['time'] > 55.528][:5]"
   ]
  },
  {
   "cell_type": "code",
   "execution_count": null,
   "id": "3eb46282-a551-4273-bbf4-9745ba657f8d",
   "metadata": {},
   "outputs": [],
   "source": [
    "df[df['time'] > 89.205][:5]"
   ]
  },
  {
   "cell_type": "code",
   "execution_count": null,
   "id": "3f2818dc-24f4-4240-a1b7-0790140ffb0e",
   "metadata": {},
   "outputs": [],
   "source": [
    "df[df['time'] > 120.878][:5]"
   ]
  },
  {
   "cell_type": "markdown",
   "id": "3f226b7e-622c-4620-aa23-4470bffb404a",
   "metadata": {
    "tags": []
   },
   "source": [
    "# Data Cleaning and Preprocessing"
   ]
  },
  {
   "cell_type": "code",
   "execution_count": null,
   "id": "e1b23742-3dae-4c94-aab6-48cd3a554c6b",
   "metadata": {},
   "outputs": [],
   "source": [
    "df.head()"
   ]
  },
  {
   "cell_type": "markdown",
   "id": "d28b84da-b037-4079-9f77-bbb9be742bad",
   "metadata": {
    "tags": []
   },
   "source": [
    "### We execute the following steps based on the observation:\n",
    "- drop null values.\n",
    "- drop the rows where the timestamp is 0.\n",
    "- sort data in ascending order of timestamp."
   ]
  },
  {
   "cell_type": "code",
   "execution_count": null,
   "id": "a2f41b30-651a-4b0d-bcef-806e85730d0e",
   "metadata": {},
   "outputs": [],
   "source": [
    "df.info()"
   ]
  },
  {
   "cell_type": "code",
   "execution_count": null,
   "id": "5a6727b2-63b9-4e1f-a653-065882deadc6",
   "metadata": {},
   "outputs": [],
   "source": [
    "len(df[df['time'] <= 0])"
   ]
  },
  {
   "cell_type": "code",
   "execution_count": null,
   "id": "64b3c161-690c-4b68-a707-1a68e792159e",
   "metadata": {},
   "outputs": [],
   "source": [
    "# Check if the 'time' column of the dataframe is sorted in ascending order\n",
    "df['time'].is_monotonic_increasing"
   ]
  },
  {
   "cell_type": "markdown",
   "id": "ecba6a84-9e90-4a3d-8475-cbd3a31901cd",
   "metadata": {
    "tags": []
   },
   "source": [
    "# Data Filtering"
   ]
  },
  {
   "cell_type": "code",
   "execution_count": null,
   "id": "72e3fdef-16ed-4ce7-a3b7-8b012fabfd41",
   "metadata": {},
   "outputs": [],
   "source": [
    "display_three_axes(df=df, x='time', y=['gFx', 'gFy', 'gFz'], title='Time Dependence of Linear Acceleration (Raw Data)', \n",
    "                   x_label='Time, s', y_label='Linear acceleration / g')\n",
    "display_three_axes(df=df, x='time', y=['wx', 'wy', 'wz'], title='Time Dependence of Angular Velocity (Raw Data)', \n",
    "                x_label='Time, s', y_label='Angular velocity, rad/s')"
   ]
  },
  {
   "cell_type": "code",
   "execution_count": null,
   "id": "74a486b5-44ea-4ebc-a73f-7f54033325ce",
   "metadata": {},
   "outputs": [],
   "source": [
    "window_size = 10  # Define the size of the moving average window\n",
    "\n",
    "# Apply moving average filtering to accelerometer data\n",
    "df['gFx_filtered'] = df['gFx'].rolling(window=window_size, center=True, min_periods=1).mean()\n",
    "df['gFy_filtered'] = df['gFy'].rolling(window=window_size, center=True, min_periods=1).mean()\n",
    "df['gFz_filtered'] = df['gFz'].rolling(window=window_size, center=True, min_periods=1).mean()\n",
    "\n",
    "# Apply moving average filtering to gyroscope data\n",
    "df['wx_filtered'] = df['wx'].rolling(window=window_size, center=True, min_periods=1).mean()\n",
    "df['wy_filtered'] = df['wy'].rolling(window=window_size, center=True, min_periods=1).mean()\n",
    "df['wz_filtered'] = df['wz'].rolling(window=window_size, center=True, min_periods=1).mean()\n",
    "\n",
    "df.head(3)"
   ]
  },
  {
   "cell_type": "code",
   "execution_count": null,
   "id": "ff9ee1e5-b397-49cf-8c8a-170ec44c8b5f",
   "metadata": {},
   "outputs": [],
   "source": [
    "display_three_axes(df=df, x='time', y=['gFx_filtered', 'gFy_filtered', 'gFz_filtered'], title='Time Dependence of Linear Acceleration (Filtered Data)', \n",
    "                x_label='Time, s', y_label='Linear acceleration / g')\n",
    "display_three_axes(df=df, x='time', y=['wx_filtered', 'wy_filtered', 'wz_filtered'], title='Time Dependence of Angular Velocity (Filtered Data)', \n",
    "                x_label='Time, s', y_label='Angular velocity, rad/s')"
   ]
  },
  {
   "cell_type": "code",
   "execution_count": null,
   "id": "3c35a793-ddd9-47c4-ab5f-4b3e168be039",
   "metadata": {},
   "outputs": [],
   "source": [
    "plt.figure(figsize=(12, 6))\n",
    "plt.plot(df['time'], df['gFx'], label='Raw Data', color='green')\n",
    "plt.plot(df['time'], df['gFx_filtered'], label='Filtered_data', color='orange')\n",
    "plt.xlabel('Time, s')\n",
    "plt.ylabel('Linear acceleration / g')\n",
    "plt.legend()\n",
    "plt.title('gForce OX: Raw vs Filtered')\n",
    "plt.savefig('graphs/accelX_filtered.png', bbox_inches='tight')\n",
    "plt.show()"
   ]
  },
  {
   "cell_type": "markdown",
   "id": "2750be30-ff85-41f9-8b46-71368cb8eca0",
   "metadata": {
    "tags": []
   },
   "source": [
    "# Exploratory Data Analysis"
   ]
  },
  {
   "cell_type": "markdown",
   "id": "56e01e7b-c022-424b-a82f-5daf43cfb43f",
   "metadata": {
    "tags": []
   },
   "source": [
    "## Analyzing class label distribution"
   ]
  },
  {
   "cell_type": "code",
   "execution_count": null,
   "id": "45458433-7dbb-41dc-b1c5-dad131c7cb12",
   "metadata": {},
   "outputs": [],
   "source": [
    "sns.set_style('whitegrid')\n",
    "plt.figure(figsize=(10, 5))\n",
    "sns.countplot(data=df, x='activity')\n",
    "plt.title('Number of samples by activity')\n",
    "plt.savefig('graphs/activities_countplot.png', bbox_inches='tight')\n",
    "plt.show()"
   ]
  },
  {
   "cell_type": "code",
   "execution_count": null,
   "id": "373be2e1-c752-4d9b-a14c-9c213ba002e2",
   "metadata": {},
   "outputs": [],
   "source": [
    "# Calculate the percentage of each activity in original_df\n",
    "activity_percentages_df = df['activity'].value_counts(normalize=True) * 100\n",
    "\n",
    "plt.figure(figsize=(12, 6))\n",
    "\n",
    "# Plot pie chart for df\n",
    "sns.set_palette(\"Set3\")\n",
    "plt.pie(activity_percentages_df, labels=activity_percentages_df.index, autopct='%1.1f%%', startangle=140)\n",
    "plt.title('Class label distribution')\n",
    "\n",
    "# Adjust layout\n",
    "plt.tight_layout()\n",
    "plt.savefig('graphs/class_label_distribution.png', bbox_inches='tight')\n",
    "plt.show()"
   ]
  },
  {
   "cell_type": "markdown",
   "id": "a0a3feb1-53cb-450d-b741-746e4139a175",
   "metadata": {
    "tags": []
   },
   "source": [
    "## Observe how the signal values in each of the x, y and z dimension varies with time"
   ]
  },
  {
   "cell_type": "code",
   "execution_count": null,
   "id": "e5e1faa1-944c-4625-a0a2-db4330c7517d",
   "metadata": {},
   "outputs": [],
   "source": [
    "plt.rcdefaults()\n",
    "display_three_axes(df=df, x='time', y=['gFx', 'gFy', 'gFz'], title='Time Dependence of Linear Acceleration (Raw Data)', \n",
    "                   x_label='Time, s', y_label='Linear acceleration / g')\n",
    "display_three_axes(df=df, x='time', y=['wx', 'wy', 'wz'], title='Time Dependence of Angular Velocity (Raw Data)', \n",
    "                x_label='Time, s', y_label='Angular velocity, rad/s')"
   ]
  },
  {
   "cell_type": "markdown",
   "id": "966e6df3-ca54-410d-bf4b-d5c111c0f288",
   "metadata": {
    "jp-MarkdownHeadingCollapsed": true,
    "tags": []
   },
   "source": [
    "### Observe how the signal values in each of the x, y and z dimension varies with time for each activity"
   ]
  },
  {
   "cell_type": "code",
   "execution_count": null,
   "id": "9f9a4aa7-f677-4b65-ba4b-07aa4f33319d",
   "metadata": {},
   "outputs": [],
   "source": [
    "\"\"\"for activity in ['Jump', 'Lateral squat slide', 'Leg land', 'No activity', 'Squat', 'Turn', 'Walk']:\n",
    "  plt.figure(figsize = (15, 6))\n",
    "  sns.lineplot(y = 'gFx_filtered', x = 'time', data = df[df['activity'] == activity])\n",
    "  sns.lineplot(y = 'gFy_filtered', x = 'time', data = df[df['activity'] == activity])\n",
    "  sns.lineplot(y = 'gFz_filtered', x = 'time', data = df[df['activity'] == activity])\n",
    "  plt.legend(['x-axis', 'y-axis', 'z-axis'])\n",
    "  plt.ylabel(activity)\n",
    "  plt.title(activity, fontsize = 15)\n",
    "  plt.show()\n",
    "  \"\"\""
   ]
  },
  {
   "cell_type": "code",
   "execution_count": null,
   "id": "e2f48bc0-b6e3-497b-aadc-99ce63fca3b6",
   "metadata": {},
   "outputs": [],
   "source": [
    "data_to_visualize = df[df['activity'] == 'Jump'][:2500]\n",
    "plt.figure(figsize = (15, 6))\n",
    "sns.lineplot(data = data_to_visualize, x = 'time', y = 'gFx_filtered', label='x-axis', color='blue')\n",
    "sns.lineplot(data = data_to_visualize, x = 'time', y = 'gFy_filtered', label='y-axis', color='orange')\n",
    "sns.lineplot(data = data_to_visualize, x = 'time', y = 'gFz_filtered', label='z-axis', color='green')\n",
    "plt.legend()\n",
    "plt.ylabel('Jump')\n",
    "plt.title('Jump', fontsize = 15)\n",
    "plt.show()"
   ]
  },
  {
   "cell_type": "code",
   "execution_count": null,
   "id": "ba281b32-ede9-40c3-b786-3c7fe97cd54d",
   "metadata": {},
   "outputs": [],
   "source": [
    "view_df = pd.DataFrame()\n",
    "view_df['gFx'] = df['gFx_filtered']\n",
    "view_df['gFy'] = df['gFy_filtered']\n",
    "view_df['gFz'] = df['gFz_filtered']\n",
    "\n",
    "view_df['wx'] = df['wx_filtered']\n",
    "view_df['wy'] = df['wy_filtered']\n",
    "view_df['wz'] = df['wz_filtered']\n",
    "\n",
    "view_df['activity'] = df['activity']\n",
    "view_df.head()"
   ]
  },
  {
   "cell_type": "markdown",
   "id": "dc501865-c262-4dcf-ae2d-738d8815ccbe",
   "metadata": {
    "jp-MarkdownHeadingCollapsed": true,
    "tags": []
   },
   "source": [
    "#### Trying transpose version"
   ]
  },
  {
   "cell_type": "code",
   "execution_count": null,
   "id": "2d61299d-4e42-4d76-bbe5-882556d7fde5",
   "metadata": {},
   "outputs": [],
   "source": [
    "by_transposed_activity_df = view_df.groupby(['activity']).describe().transpose()\n",
    "by_transposed_activity_df.keys"
   ]
  },
  {
   "cell_type": "code",
   "execution_count": null,
   "id": "20c6f83d-19b6-4734-8ec7-5479e91291cb",
   "metadata": {},
   "outputs": [],
   "source": [
    "for key in by_transposed_activity_df.keys():\n",
    "    print(f'key = {key}')\n",
    "    print(f'values = {by_transposed_activity_df[key]}')\n",
    "    break"
   ]
  },
  {
   "cell_type": "code",
   "execution_count": null,
   "id": "fcc75f8d-43b4-4875-a149-f3855d91a899",
   "metadata": {},
   "outputs": [],
   "source": [
    "for key in by_transposed_activity_df.keys():\n",
    "    print(f'{key}: {by_transposed_activity_df[key].transpose()}')\n",
    "    break"
   ]
  },
  {
   "cell_type": "code",
   "execution_count": null,
   "id": "c92c929c-e7a4-49b4-9537-ef5bdcccee36",
   "metadata": {},
   "outputs": [],
   "source": [
    "import os\n",
    "\n",
    "output_directory = 'statistics'\n",
    "# Iterate over the keys in by_activity_transposed_df\n",
    "for key in by_transposed_activity_df.keys():\n",
    "    output_filename = os.path.join(output_directory, f'statistics_{key}.csv')\n",
    "    by_transposed_activity_df[key].to_csv(output_filename)\n",
    "    print(f'Statistics for activity {key} saved to {output_filename}')\n",
    "    break"
   ]
  },
  {
   "cell_type": "code",
   "execution_count": null,
   "id": "ca27eff3-ddcc-4974-960d-16829bb99c07",
   "metadata": {},
   "outputs": [],
   "source": [
    "jump_df = pd.read_csv(\"statistics\\statistics_Jump.csv\", names=['axis', 'st_parameter', 'Jump'], skiprows=1)\n",
    "jump_df.head()"
   ]
  },
  {
   "cell_type": "code",
   "execution_count": null,
   "id": "bb2d81bc-2299-4e43-a08b-0495e6b203b3",
   "metadata": {},
   "outputs": [],
   "source": [
    "len(jump_df)"
   ]
  },
  {
   "cell_type": "markdown",
   "id": "3f20cba8-2768-4060-916f-58a774e70753",
   "metadata": {
    "jp-MarkdownHeadingCollapsed": true,
    "tags": []
   },
   "source": [
    "#### Trying without transpose"
   ]
  },
  {
   "cell_type": "code",
   "execution_count": null,
   "id": "b63bf5f9-dd06-44b5-a826-8956b3611017",
   "metadata": {},
   "outputs": [],
   "source": [
    "by_activity_df = view_df.groupby(['activity']).describe()\n",
    "by_activity_df.keys"
   ]
  },
  {
   "cell_type": "code",
   "execution_count": null,
   "id": "3cabeb8c-d7bd-4886-a164-0a894b4e5b06",
   "metadata": {},
   "outputs": [],
   "source": [
    "for key in by_activity_df.keys():\n",
    "    print(f'{key[0], key[1]}: {by_activity_df[key]}')\n",
    "    print('---------------------------------')"
   ]
  },
  {
   "cell_type": "markdown",
   "id": "fc9a3b88-13f6-4ffc-bf9d-a2879133ecc3",
   "metadata": {
    "tags": []
   },
   "source": [
    "## Observe activity-wise distribution of the signal data along x, y and z axes"
   ]
  },
  {
   "cell_type": "markdown",
   "id": "96dcb298-dccf-42ea-b8e7-6d4bd13563b6",
   "metadata": {
    "jp-MarkdownHeadingCollapsed": true,
    "tags": []
   },
   "source": [
    "#### The purpose of such observation is to see if there is any obvious pattern based on the range and distribution of the values"
   ]
  },
  {
   "cell_type": "markdown",
   "id": "2c27f1b9-ff44-4c5f-95bf-079fd98c4b59",
   "metadata": {
    "tags": []
   },
   "source": [
    "#### Accelerometer"
   ]
  },
  {
   "cell_type": "markdown",
   "id": "6e23af75-798b-4566-aaf0-37164b9a1b00",
   "metadata": {
    "tags": []
   },
   "source": [
    "##### accX"
   ]
  },
  {
   "cell_type": "code",
   "execution_count": null,
   "id": "9b79f16b-4d5e-44b5-a073-7f086936d1b6",
   "metadata": {},
   "outputs": [],
   "source": [
    "plt.rcdefaults()\n",
    "sns.FacetGrid(data=df, hue='activity', height=10).map(sns.distplot, 'gFx_filtered').add_legend()\n",
    "plt.grid(alpha=0.5)\n",
    "plt.savefig('graphs/accX_distplot.png', bbox_inches='tight')"
   ]
  },
  {
   "cell_type": "markdown",
   "id": "ade45be3-4b04-4f25-b1ef-91f58962359a",
   "metadata": {
    "tags": []
   },
   "source": [
    "##### accY"
   ]
  },
  {
   "cell_type": "code",
   "execution_count": null,
   "id": "d6c63d90-9fee-40ba-a4e2-7a58e6926517",
   "metadata": {},
   "outputs": [],
   "source": [
    "sns.FacetGrid(data=df, hue='activity', height=8).map(sns.distplot, 'gFy_filtered').add_legend()\n",
    "plt.grid(alpha=0.5)\n",
    "plt.savefig('graphs/accY_distplot.png', bbox_inches='tight')"
   ]
  },
  {
   "cell_type": "markdown",
   "id": "4339a1ad-996e-4d23-b93d-fed63b5e90e2",
   "metadata": {
    "tags": []
   },
   "source": [
    "##### accZ"
   ]
  },
  {
   "cell_type": "code",
   "execution_count": null,
   "id": "c3e23130-5f1b-4436-8675-ad8ca8790f9c",
   "metadata": {},
   "outputs": [],
   "source": [
    "sns.FacetGrid(data=df, hue='activity', height=10).map(sns.distplot, 'gFz_filtered').add_legend()\n",
    "plt.grid(alpha=0.5)\n",
    "plt.savefig('graphs/accZ_distplot.png', bbox_inches='tight')"
   ]
  },
  {
   "cell_type": "markdown",
   "id": "0064e393-0ef1-42cc-82f2-9e33681fe61d",
   "metadata": {
    "tags": []
   },
   "source": [
    "#### Gyroscope"
   ]
  },
  {
   "cell_type": "markdown",
   "id": "8e781aa6-d76b-4356-9cef-4423763cf25a",
   "metadata": {
    "tags": []
   },
   "source": [
    "##### gyrX"
   ]
  },
  {
   "cell_type": "code",
   "execution_count": null,
   "id": "98680e4f-f49f-47e5-8ecf-189711991a04",
   "metadata": {},
   "outputs": [],
   "source": [
    "sns.FacetGrid(data=df, hue='activity', height=10).map(sns.distplot, 'wx_filtered').add_legend()\n",
    "plt.grid(alpha=0.5)\n",
    "plt.savefig('graphs/gyrX_distplot.png', bbox_inches='tight')"
   ]
  },
  {
   "cell_type": "markdown",
   "id": "eb714b61-f512-48ed-833f-bf751f689114",
   "metadata": {
    "tags": []
   },
   "source": [
    "##### gyrY"
   ]
  },
  {
   "cell_type": "code",
   "execution_count": null,
   "id": "b436cf17-411f-4c07-ac35-29f06641a7ec",
   "metadata": {},
   "outputs": [],
   "source": [
    "sns.FacetGrid(data=df, hue='activity', height=10).map(sns.distplot, 'wy_filtered').add_legend()\n",
    "plt.grid(alpha=0.5)\n",
    "plt.savefig('graphs/gyrY_distplot.png', bbox_inches='tight')"
   ]
  },
  {
   "cell_type": "markdown",
   "id": "db18ee70-1b30-49fd-9b27-01a0a99770d4",
   "metadata": {
    "tags": []
   },
   "source": [
    "##### gyrZ"
   ]
  },
  {
   "cell_type": "code",
   "execution_count": null,
   "id": "c976be1c-c624-46d8-9503-274762e9aaee",
   "metadata": {},
   "outputs": [],
   "source": [
    "sns.FacetGrid(data=df, hue='activity', height=10).map(sns.distplot, 'wz_filtered').add_legend()\n",
    "plt.grid(alpha=0.5)\n",
    "plt.savefig('graphs/gyrZ_distplot.png', bbox_inches='tight')"
   ]
  },
  {
   "cell_type": "markdown",
   "id": "af175d76-7939-4f17-8569-0dd17682d812",
   "metadata": {
    "tags": []
   },
   "source": [
    "# Data Transformation and Feature Engineering"
   ]
  },
  {
   "cell_type": "markdown",
   "id": "03344516-a383-4a3e-962e-ef7f07a32f1d",
   "metadata": {
    "jp-MarkdownHeadingCollapsed": true,
    "tags": []
   },
   "source": [
    "### Split the data into train and test using sklearn"
   ]
  },
  {
   "cell_type": "code",
   "execution_count": null,
   "id": "48975843-557e-43a2-8327-aeedd9ccd539",
   "metadata": {},
   "outputs": [],
   "source": [
    "X = df\n",
    "y = df['activity']\n",
    "\n",
    "# Splitting into training and test datasets while maintaining the proportion of each class\n",
    "# !!! The time sequence of measurement results is not preserved\n",
    "df_train, df_test, train_labels, test_labels = train_test_split(X, y, test_size=0.3, stratify=y, random_state=42)\n",
    "\n",
    "# Display the class distribution in the training and test datasets\n",
    "print(\"Training dataset class distribution:\")\n",
    "print(train_labels.value_counts(normalize=True))\n",
    "\n",
    "print(\"\\nTest dataset class distribution:\")\n",
    "print(test_labels.value_counts(normalize=True))"
   ]
  },
  {
   "cell_type": "code",
   "execution_count": null,
   "id": "4e914593-3ad0-47a6-8507-a0e04a9a641a",
   "metadata": {},
   "outputs": [],
   "source": [
    "print(f\"len(df_train) = {len(df_train)}\")\n",
    "print(f\"len(df_test) = {len(df_test)}\")    "
   ]
  },
  {
   "cell_type": "code",
   "execution_count": null,
   "id": "6a1c5428-2a1a-4bb4-82a3-dae0d6c9d82f",
   "metadata": {},
   "outputs": [],
   "source": [
    "# Display the class distribution in the training and test datasets\n",
    "print(\"Training dataset class distribution:\")\n",
    "print(df_train['activity'].value_counts(normalize=True))\n",
    "\n",
    "print(\"\\nTest dataset class distribution:\")\n",
    "print(df_test['activity'].value_counts(normalize=True))"
   ]
  },
  {
   "cell_type": "code",
   "execution_count": null,
   "id": "48896e09-d630-4f1d-9ff9-e9eef75dca68",
   "metadata": {},
   "outputs": [],
   "source": [
    "df_train[df_train['activity'] == 'Turn']"
   ]
  },
  {
   "cell_type": "markdown",
   "id": "f105079f-0fd3-4182-9471-eb825516867a",
   "metadata": {
    "tags": []
   },
   "source": [
    "##### Visualize results"
   ]
  },
  {
   "cell_type": "code",
   "execution_count": null,
   "id": "cbc4951d-33f2-4008-99b6-e0cada5f394c",
   "metadata": {},
   "outputs": [],
   "source": [
    "display_three_axes(df=df_train, x='time', y=['gFx', 'gFy', 'gFz'], title='Time Dependence of Linear Acceleration (Raw Data)', \n",
    "                   x_label='Time, s', y_label='Linear acceleration / g')\n",
    "display_three_axes(df=df_train, x='time', y=['wx', 'wy', 'wz'], title='Time Dependence of Angular Velocity (Raw Data)', \n",
    "                x_label='Time, s', y_label='Angular velocity, rad/s')"
   ]
  },
  {
   "cell_type": "markdown",
   "id": "f0273f55-c23e-450f-adc9-c71a1986e20f",
   "metadata": {
    "tags": []
   },
   "source": [
    "### Split the data into train and test manually"
   ]
  },
  {
   "cell_type": "markdown",
   "id": "55bf8455-1513-4b92-99e2-d845f33d7e3e",
   "metadata": {
    "jp-MarkdownHeadingCollapsed": true,
    "tags": []
   },
   "source": [
    "#### Firstly split into train and test, then create windowed dataframes"
   ]
  },
  {
   "cell_type": "code",
   "execution_count": null,
   "id": "9db5e8ff-83a7-4bb7-8eb0-7c08d4fb3b02",
   "metadata": {},
   "outputs": [],
   "source": [
    "activities_trains = []\n",
    "activities_tests = []\n",
    "for activity in df['activity'].unique():\n",
    "    activity_df = df[df['activity'] == activity]\n",
    "    \n",
    "    # Split activity_df into training and test while preserving the sequence\n",
    "    train_size = int(len(activity_df) * 0.7)\n",
    "    train_df = activity_df.iloc[:train_size]\n",
    "    test_df = activity_df.iloc[train_size:]\n",
    "    \n",
    "    activities_trains.append(train_df)\n",
    "    activities_tests.append(test_df)\n",
    "print(f\"len(activities_trains) = {len(activities_trains)}\")\n",
    "print(f\"len(activities_tests) = {len(activities_tests)}\")"
   ]
  },
  {
   "cell_type": "code",
   "execution_count": null,
   "id": "d6a95a5d-ceac-4eb7-b483-fdd2e6ef8256",
   "metadata": {},
   "outputs": [],
   "source": [
    "# Combine all train dataframes into a single dataframe\n",
    "train_df = pd.concat(activities_trains)\n",
    "\n",
    "# Combine all train dataframes into a single dataframe\n",
    "test_df = pd.concat(activities_tests)\n",
    "\n",
    "print(f\"len(train_df) = {len(train_df)}\")\n",
    "print(f\"len(test_df) = {len(test_df)}\")"
   ]
  },
  {
   "cell_type": "code",
   "execution_count": null,
   "id": "1e16424b-2462-4188-aba3-87daa5a6010b",
   "metadata": {},
   "outputs": [],
   "source": [
    "train_df.head()"
   ]
  },
  {
   "cell_type": "markdown",
   "id": "7309da9c-1f03-4add-b27d-fef444f0c965",
   "metadata": {
    "tags": []
   },
   "source": [
    "##### Visualize results"
   ]
  },
  {
   "cell_type": "code",
   "execution_count": null,
   "id": "7e53dcbe-86c9-4967-bb8c-ba7a383999f8",
   "metadata": {},
   "outputs": [],
   "source": [
    "display_three_axes(df=train_df, x='time', y=['gFx', 'gFy', 'gFz'], title='Time Dependence of Linear Acceleration (Raw Data)', \n",
    "                   x_label='Time, s', y_label='Linear acceleration / g')\n",
    "display_three_axes(df=train_df, x='time', y=['wx', 'wy', 'wz'], title='Time Dependence of Angular Velocity (Raw Data)', \n",
    "                x_label='Time, s', y_label='Angular velocity, rad/s')"
   ]
  },
  {
   "cell_type": "code",
   "execution_count": null,
   "id": "04693fd0-1cf3-49d5-8d85-1ec43fc37169",
   "metadata": {},
   "outputs": [],
   "source": [
    "display_three_axes(df=test_df, x='time', y=['gFx', 'gFy', 'gFz'], title='Time Dependence of Linear Acceleration (Raw Data)', \n",
    "                   x_label='Time, s', y_label='Linear acceleration / g')\n",
    "display_three_axes(df=test_df, x='time', y=['wx', 'wy', 'wz'], title='Time Dependence of Angular Velocity (Raw Data)', \n",
    "                x_label='Time, s', y_label='Angular velocity, rad/s')"
   ]
  },
  {
   "cell_type": "markdown",
   "id": "f58980d6-b481-4dd5-8ef3-37cb16a6fae5",
   "metadata": {
    "tags": []
   },
   "source": [
    "#### Firstly create windowed dataframe, then split into train and test +"
   ]
  },
  {
   "cell_type": "code",
   "execution_count": null,
   "id": "f8641553-25c6-4948-a4f1-7513f0fe32be",
   "metadata": {},
   "outputs": [],
   "source": [
    "# Calculate the number of data points within a 2-second window\n",
    "sampling_frequency =  1.0 / df['time'].diff().mean()  # Hz\n",
    "window_duration = 3 # seconds\n",
    "window_size = ceil(sampling_frequency * window_duration)\n",
    "step_size = window_size // 2\n",
    "# Create a list to store the windowed dataframes\n",
    "windowed_dfs = []\n",
    "\n",
    "print(f\"window size = {window_size}\")\n",
    "windowed_dict = {'start_time': [], 'end_time': [], 'gFx_s': [], 'gFy_s': [], 'gFz_s': [], 'wx_s': [], 'wy_s': [], 'wz_s': [], 'activity': []}\n",
    "# Divide the entire dataframe into 2-second windows\n",
    "for i in range(0, len(df), step_size):\n",
    "    window_df = df.iloc[i:i + window_size]\n",
    "    \n",
    "    windowed_dict['start_time'].append(window_df['time'].iloc[0])\n",
    "    windowed_dict['end_time'].append(window_df['time'].iloc[-1])\n",
    "    windowed_dict['gFx_s'].append(window_df['gFx_filtered'].values)\n",
    "    windowed_dict['gFy_s'].append(window_df['gFy_filtered'].values)\n",
    "    windowed_dict['gFz_s'].append(window_df['gFz_filtered'].values)\n",
    "    \n",
    "    windowed_dict['wx_s'].append(window_df['wx_filtered'].values)\n",
    "    windowed_dict['wy_s'].append(window_df['wy_filtered'].values)\n",
    "    windowed_dict['wz_s'].append(window_df['wz_filtered'].values)\n",
    "    \n",
    "    # Determine the most frequent activity in the window\n",
    "    most_frequent_activity = window_df['activity'].value_counts().idxmax()\n",
    "    label = stats.mode(df['activity'][i: i + window_size])[0][0]\n",
    "    if label != most_frequent_activity:\n",
    "        print(\"label != most_frequent_activity\")\n",
    "        print(f'most_frequent_activity = {most_frequent_activity}')\n",
    "        print(f'label = {label}')\n",
    "        break\n",
    "    # Assign the most frequent activity to all rows in the window\n",
    "    windowed_dict['activity'].append(most_frequent_activity)\n",
    "    \n",
    "    windowed_dfs.append(window_df)\n",
    "\n",
    "windowed_df = pd.DataFrame.from_dict(windowed_dict)\n",
    "print(f\"len(windowed_dfs) = {len(windowed_dfs)}\")\n",
    "print(f\"len(windowed_df) = {len(windowed_df)}\")"
   ]
  },
  {
   "cell_type": "code",
   "execution_count": null,
   "id": "2b9d9806-b183-404c-95ee-6088d339fae7",
   "metadata": {},
   "outputs": [],
   "source": [
    "windowed_df.head()"
   ]
  },
  {
   "cell_type": "code",
   "execution_count": null,
   "id": "c4ee5691-9a2f-4352-aa4d-c60ac414cec1",
   "metadata": {},
   "outputs": [],
   "source": [
    "print(f'len(df) = {len(df)}')\n",
    "print(f'len(windowed_df) = {len(windowed_df)}')"
   ]
  },
  {
   "cell_type": "code",
   "execution_count": null,
   "id": "1e88940b-ce7d-4733-8574-e91cbb7595e6",
   "metadata": {},
   "outputs": [],
   "source": [
    "len(windowed_df.iloc[0]['gFx_s'])"
   ]
  },
  {
   "cell_type": "code",
   "execution_count": null,
   "id": "851de83d-7569-4fc8-aded-d62b8adf0f95",
   "metadata": {},
   "outputs": [],
   "source": [
    "windowed_df[30:40]"
   ]
  },
  {
   "cell_type": "code",
   "execution_count": null,
   "id": "58870681-2516-4973-800a-890f76ac5569",
   "metadata": {},
   "outputs": [],
   "source": [
    "windowed_df[70:]"
   ]
  },
  {
   "cell_type": "code",
   "execution_count": null,
   "id": "9444a20a-2b1c-4ba9-a2d3-5fc960c56a11",
   "metadata": {},
   "outputs": [],
   "source": [
    "print(f\"len(df[df['activity'] == 'Turn']) = {len(df[df['activity'] == 'Turn'])}\")\n",
    "print(f\"len(windowed_df[windowed_df['activity'] == 'Turn']) = {len(windowed_df[windowed_df['activity'] == 'Turn'])}\")"
   ]
  },
  {
   "cell_type": "code",
   "execution_count": null,
   "id": "e053473e-58ff-4804-bf4f-54c39e7c7682",
   "metadata": {},
   "outputs": [],
   "source": [
    "windowed_df[windowed_df['activity'] == 'Turn']"
   ]
  },
  {
   "cell_type": "markdown",
   "id": "ae4fddf2-4902-4c97-acaa-e3ffaee98f3c",
   "metadata": {
    "tags": []
   },
   "source": [
    "##### View the results of windowing"
   ]
  },
  {
   "cell_type": "code",
   "execution_count": null,
   "id": "36b93cce-fea3-43f8-ad94-810194e3ba82",
   "metadata": {},
   "outputs": [],
   "source": [
    "sns.set_style('whitegrid')\n",
    "plt.figure(figsize=(10, 5))\n",
    "sns.countplot(data=df, x='activity')\n",
    "plt.title('Number of samples by activity')\n",
    "plt.show()"
   ]
  },
  {
   "cell_type": "code",
   "execution_count": null,
   "id": "6da7a551-41fc-4162-9c6c-4d83b95412f3",
   "metadata": {},
   "outputs": [],
   "source": [
    "sns.set_style('whitegrid')\n",
    "plt.figure(figsize=(10, 5))\n",
    "sns.countplot(data=windowed_df, x='activity')\n",
    "plt.title('Number of samples by activity')\n",
    "plt.show()"
   ]
  },
  {
   "cell_type": "code",
   "execution_count": null,
   "id": "41929ca7-06cc-4066-99fd-4f53c60596f9",
   "metadata": {},
   "outputs": [],
   "source": [
    "windowed_df['activity'].value_counts(normalize=True) * 100"
   ]
  },
  {
   "cell_type": "code",
   "execution_count": null,
   "id": "a48e76ed-3298-43cb-9add-d8363dcbcf85",
   "metadata": {},
   "outputs": [],
   "source": [
    "activity_percentages_df = df['activity'].value_counts(normalize=True) * 100\n",
    "\n",
    "# Calculate the percentage of each activity in windowed_df\n",
    "activity_percentages_windowed = windowed_df['activity'].value_counts(normalize=True) * 100\n",
    "\n",
    "# Create subplots for pie charts\n",
    "fig, axes = plt.subplots(1, 2, figsize=(12, 6))\n",
    "\n",
    "# Plot pie chart for df\n",
    "sns.set_palette(\"Set3\")\n",
    "sns.barplot(x=activity_percentages_df.values, y=activity_percentages_df.index, ax=axes[0])\n",
    "axes[0].set_title(\"Original DataFrame\")\n",
    "axes[0].set_xlabel(\"Percentage\")\n",
    "axes[0].set_ylabel(\"Activity\")\n",
    "\n",
    "# Plot pie chart for windowed_df\n",
    "sns.barplot(x=activity_percentages_windowed.values, y=activity_percentages_windowed.index, ax=axes[1])\n",
    "axes[1].set_title(\"Windowed DataFrame\")\n",
    "axes[1].set_xlabel(\"Percentage\")\n",
    "axes[1].set_ylabel(\"Activity\")\n",
    "\n",
    "# Adjust layout\n",
    "plt.tight_layout()\n",
    "plt.show()"
   ]
  },
  {
   "cell_type": "code",
   "execution_count": null,
   "id": "e484084a-9c54-44d2-a32f-9ae8630662c0",
   "metadata": {},
   "outputs": [],
   "source": [
    "sns.set_palette(\"Set3\")\n",
    "windowed_pie_chart(original_df=df, windowed_df=windowed_df, column='activity')"
   ]
  },
  {
   "cell_type": "markdown",
   "id": "bd7bf6c6-898a-4903-9561-599eec112a2e",
   "metadata": {
    "tags": []
   },
   "source": [
    "##### Split windowed_df into train and test"
   ]
  },
  {
   "cell_type": "code",
   "execution_count": null,
   "id": "0a2b93d5-03d8-4910-b149-6e984e9be3f2",
   "metadata": {},
   "outputs": [],
   "source": [
    "activities_trains = []\n",
    "activities_tests = []\n",
    "for activity in windowed_df['activity'].unique():\n",
    "    activity_df = windowed_df[windowed_df['activity'] == activity]\n",
    "    \n",
    "    # Split activity_df into training and test while preserving the sequence\n",
    "    train_size = ceil(len(activity_df) * 0.7)\n",
    "    train_df = activity_df.iloc[:train_size]\n",
    "    test_df = activity_df.iloc[train_size:]\n",
    "    \n",
    "    activities_trains.append(train_df)\n",
    "    activities_tests.append(test_df)\n",
    "print(f\"len(activities_trains) = {len(activities_trains)}\")\n",
    "print(f\"len(activities_tests) = {len(activities_tests)}\")"
   ]
  },
  {
   "cell_type": "code",
   "execution_count": null,
   "id": "737c3165-a911-4985-b535-748fe966cad2",
   "metadata": {},
   "outputs": [],
   "source": [
    "# Combine all train dataframes into a single dataframe\n",
    "train_df = pd.concat(activities_trains)\n",
    "train_df.reset_index(inplace=True)\n",
    "\n",
    "# Combine all test dataframes into a single dataframe\n",
    "test_df = pd.concat(activities_tests)\n",
    "test_df.reset_index(inplace=True)\n",
    "\n",
    "print(f\"len(train_df) = {len(train_df)}\")\n",
    "print(f\"len(test_df) = {len(test_df)}\")"
   ]
  },
  {
   "cell_type": "markdown",
   "id": "51e9588a-116c-487b-9326-21aa7d50412e",
   "metadata": {
    "tags": []
   },
   "source": [
    "###### Visualize the results of dividing into train_df and test_df"
   ]
  },
  {
   "cell_type": "code",
   "execution_count": null,
   "id": "add7a7d1-6cd8-420b-870f-0663cfd166a0",
   "metadata": {},
   "outputs": [],
   "source": [
    "windowed_pie_chart(original_df=windowed_df, windowed_df=train_df, column='activity', first_chart_title='Windowed DataFrame',\n",
    "                  second_chart_title='Train DataFrame')"
   ]
  },
  {
   "cell_type": "code",
   "execution_count": null,
   "id": "aac3f117-7a03-4335-8ef4-8c72c6b7d4b6",
   "metadata": {},
   "outputs": [],
   "source": [
    "windowed_pie_chart(original_df=windowed_df, windowed_df=test_df, column='activity', first_chart_title='Windowed DataFrame',\n",
    "                  second_chart_title='Test DataFrame')"
   ]
  },
  {
   "cell_type": "code",
   "execution_count": null,
   "id": "ab39722f-5b60-471e-b1ab-030eace2ff7f",
   "metadata": {},
   "outputs": [],
   "source": [
    "print(f\"len(train_df[train_df['activity'] == 'Turn']) = {len(train_df[train_df['activity'] == 'Turn'])}\")\n",
    "print(f\"len(test_df[test_df['activity'] == 'Turn']) = {len(test_df[test_df['activity'] == 'Turn'])}\")"
   ]
  },
  {
   "cell_type": "markdown",
   "id": "0c00ba1b-ea9b-4423-b805-08d29bc0f178",
   "metadata": {},
   "source": [
    "### Feature Engineering Stage 1: Statistical measures"
   ]
  },
  {
   "cell_type": "markdown",
   "id": "e33057f4-b19d-4b4d-8749-62b250c9decd",
   "metadata": {
    "tags": []
   },
   "source": [
    "#### In the stage 1 of the feature engineering, we will build a total of 19 simple statistical features\n",
    "1. mean\n",
    "2. standard deviation\n",
    "3. variation\n",
    "4. average absolute deviation\n",
    "5. minimum value\n",
    "6. maximum value\n",
    "7. difference of maximum and minimum values\n",
    "8. median\n",
    "9. median absolute deviation\n",
    "10. interquartile range\n",
    "11. negative values count\n",
    "12. positive values count\n",
    "13. number of values above mean\n",
    "14. number of peaks\n",
    "15. skewness = assymetry\n",
    "16. kurtosis\n",
    "17. energy\n",
    "18. average resultant acceleration\n",
    "19. signal magnitude area"
   ]
  },
  {
   "cell_type": "markdown",
   "id": "776ef92d-8846-40df-8d29-25ed0ad50a12",
   "metadata": {
    "jp-MarkdownHeadingCollapsed": true,
    "tags": []
   },
   "source": [
    "##### View mean freq and period"
   ]
  },
  {
   "cell_type": "code",
   "execution_count": null,
   "id": "86a4d003-c6db-41c5-b1ac-1d58f85c6d03",
   "metadata": {},
   "outputs": [],
   "source": [
    "time_diffs = df['time'].diff()\n",
    "freq = 1.0 / time_diffs.mean()\n",
    "print(f\"Measurement time = {df.iloc[-1]['time'] - df.iloc[0]['time']} s\")\n",
    "print(f\"Number of measurements (number of rows in the data set) = {len(df)}\")\n",
    "print(f\"Frequency of measurement = {freq} Hz\")"
   ]
  },
  {
   "cell_type": "code",
   "execution_count": null,
   "id": "a905033c-b838-4a4e-a370-114ae7e8213d",
   "metadata": {},
   "outputs": [],
   "source": [
    "time_diffs.mean()"
   ]
  },
  {
   "cell_type": "code",
   "execution_count": null,
   "id": "72e54732-a030-42e1-a48d-b38e9886a74d",
   "metadata": {},
   "outputs": [],
   "source": [
    "1.0 / df['time'].diff().mean()"
   ]
  },
  {
   "cell_type": "markdown",
   "id": "2ad6a580-7c73-44be-9b6d-a5dba022db0e",
   "metadata": {
    "jp-MarkdownHeadingCollapsed": true,
    "tags": []
   },
   "source": [
    "##### Example tests"
   ]
  },
  {
   "cell_type": "code",
   "execution_count": null,
   "id": "a943e1f3-50d8-4475-a886-fa40978f149b",
   "metadata": {},
   "outputs": [],
   "source": [
    "sampling_frequency = ceil(1.0 / df['time'].diff().mean())  # Hz\n",
    "window_duration = 2  # seconds\n",
    "data_points_per_window = sampling_frequency * window_duration\n",
    "\n",
    "print(f\"data_points_per_window = {data_points_per_window}\")\n",
    "\n",
    "# Create a list to store the windowed dataframes\n",
    "windowed_dfs = []\n",
    "\n",
    "# Iterate through the dataframe and create subsets for each window\n",
    "for i in range(0, len(X_train), data_points_per_window):\n",
    "    window_df = X_train.iloc[i:i + data_points_per_window]\n",
    "    if len(window_df) >= data_points_per_window:\n",
    "        windowed_dfs.append(window_df)\n",
    "\n",
    "# Display the number of windows created\n",
    "print(f\"Number of windows: {len(windowed_dfs)}\")"
   ]
  },
  {
   "cell_type": "code",
   "execution_count": null,
   "id": "813b706b-acae-4c94-bc06-1a235d7ff54d",
   "metadata": {},
   "outputs": [],
   "source": [
    "sampling_frequency = 1.0 / df['time'].diff().mean()  # Hz\n",
    "window_duration = 2  # seconds\n",
    "data_points_per_window = ceil(sampling_frequency * window_duration)\n",
    "\n",
    "# Calculate the step for overlapping windows (50% overlap)\n",
    "overlap_step = data_points_per_window // 2\n",
    "\n",
    "# Create a list to store the windowed dataframes\n",
    "windowed_dfs = []\n",
    "\n",
    "# Iterate through the dataframe and create overlapping windows\n",
    "for i in range(0, len(X_train) - data_points_per_window + 1, overlap_step):\n",
    "    window_df = X_train.iloc[i:i + data_points_per_window]\n",
    "    windowed_dfs.append(window_df)\n",
    "\n",
    "# Display the number of overlapping windows created\n",
    "print(f\"Number of overlapping windows: {len(windowed_dfs)}\")"
   ]
  },
  {
   "cell_type": "code",
   "execution_count": null,
   "id": "98c38258-6a42-4ad6-af66-7f1820cc35c0",
   "metadata": {},
   "outputs": [],
   "source": [
    "# Calculate the sampling frequency\n",
    "sampling_frequency = 1.0 / df['time'].diff().mean()  # Hz\n",
    "window_duration = 2  # seconds\n",
    "data_points_per_window = ceil(sampling_frequency * window_duration)\n",
    "\n",
    "# Calculate the step for overlapping windows (50% overlap)\n",
    "overlap_step = data_points_per_window // 2\n",
    "\n",
    "# Create a list to store the windowed dataframes\n",
    "windowed_dfs = []\n",
    "\n",
    "# Iterate through the dataframe and create overlapping windows\n",
    "for i in range(0, len(X_train) - data_points_per_window + 1, overlap_step):\n",
    "    window_df = X_train.iloc[i:i + data_points_per_window]\n",
    "    windowed_dfs.append(window_df)\n",
    "\n",
    "# Include the remaining data points that may not form a complete window\n",
    "if len(X_train) % data_points_per_window != 0:\n",
    "    remaining_df = X_train.iloc[-data_points_per_window:]\n",
    "    windowed_dfs.append(remaining_df)\n",
    "\n",
    "# Display the number of overlapping windows created\n",
    "print(f\"Number of overlapping windows: {len(windowed_dfs)}\")"
   ]
  },
  {
   "cell_type": "markdown",
   "id": "3b2dc4f3-4ac4-41ab-aaf1-c16e887cb1ea",
   "metadata": {
    "jp-MarkdownHeadingCollapsed": true,
    "tags": []
   },
   "source": [
    "##### X_train"
   ]
  },
  {
   "cell_type": "markdown",
   "id": "a5e52073-dc3f-4f9e-a26c-bbc709fa7520",
   "metadata": {
    "jp-MarkdownHeadingCollapsed": true,
    "tags": []
   },
   "source": [
    "###### X_train accelerometer"
   ]
  },
  {
   "cell_type": "code",
   "execution_count": null,
   "id": "79cc191d-d6d6-4b1a-8b25-70bd026ec8f3",
   "metadata": {},
   "outputs": [],
   "source": [
    "X_train = pd.DataFrame()\n",
    "\n",
    "# mean\n",
    "X_train['accel_x_mean'] = train_df['gFx_s'].apply(lambda x: x.mean())\n",
    "X_train['accel_y_mean'] = train_df['gFy_s'].apply(lambda x: x.mean())\n",
    "X_train['accel_z_mean'] = train_df['gFz_s'].apply(lambda x: x.mean())\n",
    "\n",
    "# variation\n",
    "X_train['accel_x_variation'] = train_df['gFx_s'].apply(lambda x: np.std(x, ddof=0) / np.mean(x))\n",
    "X_train['accel_y_variation'] = train_df['gFy_s'].apply(lambda x: np.std(x, ddof=0) / np.mean(x))\n",
    "X_train['accel_z_variation'] = train_df['gFz_s'].apply(lambda x: np.std(x, ddof=0) / np.mean(x))\n",
    "\n",
    "# std deviation\n",
    "X_train['accel_x_std'] = train_df['gFx_s'].apply(lambda x: x.std())\n",
    "X_train['accel_y_std'] = train_df['gFy_s'].apply(lambda x: x.std())\n",
    "X_train['accel_z_std'] = train_df['gFz_s'].apply(lambda x: x.std())\n",
    "\n",
    "# avg absolute diff\n",
    "X_train['accel_x_aad'] = train_df['gFx_s'].apply(lambda x: np.mean(np.absolute(x - np.mean(x))))\n",
    "X_train['accel_y_aad'] = train_df['gFy_s'].apply(lambda x: np.mean(np.absolute(x - np.mean(x))))\n",
    "X_train['accel_z_aad'] = train_df['gFz_s'].apply(lambda x: np.mean(np.absolute(x - np.mean(x))))\n",
    "\n",
    "# min\n",
    "X_train['accel_x_min'] = train_df['gFx_s'].apply(lambda x: x.min())\n",
    "X_train['accel_y_min'] = train_df['gFy_s'].apply(lambda x: x.min())\n",
    "X_train['accel_z_min'] = train_df['gFz_s'].apply(lambda x: x.min())\n",
    "\n",
    "# max\n",
    "X_train['accel_x_max'] = train_df['gFx_s'].apply(lambda x: x.max())\n",
    "X_train['accel_y_max'] = train_df['gFy_s'].apply(lambda x: x.max())\n",
    "X_train['accel_z_max'] = train_df['gFz_s'].apply(lambda x: x.max())\n",
    "\n",
    "# max-min diff\n",
    "X_train['accel_x_maxmin_diff'] = X_train['accel_x_max'] - X_train['accel_x_min']\n",
    "X_train['accel_y_maxmin_diff'] = X_train['accel_y_max'] - X_train['accel_y_min']\n",
    "X_train['accel_z_maxmin_diff'] = X_train['accel_z_max'] - X_train['accel_z_min']\n",
    "\n",
    "# median\n",
    "X_train['accel_x_median'] = train_df['gFx_s'].apply(lambda x: np.median(x))\n",
    "X_train['accel_y_median'] = train_df['gFy_s'].apply(lambda x: np.median(x))\n",
    "X_train['accel_z_median'] = train_df['gFz_s'].apply(lambda x: np.median(x))\n",
    "\n",
    "# median abs dev \n",
    "X_train['accel_x_mad'] = train_df['gFx_s'].apply(lambda x: np.median(np.absolute(x - np.median(x))))\n",
    "X_train['accel_y_mad'] = train_df['gFy_s'].apply(lambda x: np.median(np.absolute(x - np.median(x))))\n",
    "X_train['accel_z_mad'] = train_df['gFz_s'].apply(lambda x: np.median(np.absolute(x - np.median(x))))\n",
    "\n",
    "# interquartile range\n",
    "X_train['accel_x_IQR'] = train_df['gFx_s'].apply(lambda x: np.percentile(x, 75) - np.percentile(x, 25))\n",
    "X_train['accel_y_IQR'] = train_df['gFy_s'].apply(lambda x: np.percentile(x, 75) - np.percentile(x, 25))\n",
    "X_train['accel_z_IQR'] = train_df['gFz_s'].apply(lambda x: np.percentile(x, 75) - np.percentile(x, 25))\n",
    "\n",
    "# negative count\n",
    "X_train['accel_x_neg_count'] = train_df['gFx_s'].apply(lambda x: np.sum(x < 0))\n",
    "X_train['accel_y_neg_count'] = train_df['gFy_s'].apply(lambda x: np.sum(x < 0))\n",
    "X_train['accel_z_neg_count'] = train_df['gFz_s'].apply(lambda x: np.sum(x < 0))\n",
    "\n",
    "# positive count\n",
    "X_train['accel_x_pos_count'] = train_df['gFx_s'].apply(lambda x: np.sum(x > 0))\n",
    "X_train['accel_y_pos_count'] = train_df['gFy_s'].apply(lambda x: np.sum(x > 0))\n",
    "X_train['accel_z_pos_count'] = train_df['gFz_s'].apply(lambda x: np.sum(x > 0))\n",
    "\n",
    "# values above mean\n",
    "X_train['accel_x_above_mean'] = train_df['gFx_s'].apply(lambda x: np.sum(x > x.mean()))\n",
    "X_train['accel_y_above_mean'] = train_df['gFy_s'].apply(lambda x: np.sum(x > x.mean()))\n",
    "X_train['accel_z_above_mean'] = train_df['gFz_s'].apply(lambda x: np.sum(x > x.mean()))\n",
    "\n",
    "# number of peaks\n",
    "X_train['accel_x_peak_count'] = train_df['gFx_s'].apply(lambda x: len(find_peaks(x)[0]))\n",
    "X_train['accel_y_peak_count'] = train_df['gFy_s'].apply(lambda x: len(find_peaks(x)[0]))\n",
    "X_train['accel_z_peak_count'] = train_df['gFz_s'].apply(lambda x: len(find_peaks(x)[0]))\n",
    "\n",
    "# skewness = assymetry\n",
    "X_train['accel_x_assymetry'] = train_df['gFx_s'].apply(lambda x: stats.skew(x))\n",
    "X_train['accel_y_assymetry'] = train_df['gFy_s'].apply(lambda x: stats.skew(x))\n",
    "X_train['accel_z_assymetry'] = train_df['gFz_s'].apply(lambda x: stats.skew(x))\n",
    "\n",
    "# kurtosis\n",
    "X_train['accel_x_kurtosis'] = train_df['gFx_s'].apply(lambda x: stats.kurtosis(x))\n",
    "X_train['accel_y_kurtosis'] = train_df['gFy_s'].apply(lambda x: stats.kurtosis(x))\n",
    "X_train['accel_z_kurtosis'] = train_df['gFz_s'].apply(lambda x: stats.kurtosis(x))\n",
    "\n",
    "# energy\n",
    "X_train['accel_x_energy'] = train_df['gFx_s'].apply(lambda x: np.sum(x**2)/100)\n",
    "X_train['accel_y_energy'] = train_df['gFy_s'].apply(lambda x: np.sum(x**2)/100)\n",
    "X_train['accel_z_energy'] = train_df['gFz_s'].apply(lambda x: np.sum(x**2/100))\n",
    "\n",
    "# avg resultant\n",
    "X_train['accel_avg_result_accl'] = [i.mean() for i in ((train_df['gFx_s']**2 + train_df['gFy_s']**2 + train_df['gFz_s']**2)**0.5)]\n",
    "\n",
    "# signal magnitude area\n",
    "X_train['accel_sma'] = train_df['gFx_s'].apply(lambda x: np.sum(abs(x)/100)) + train_df['gFy_s'].apply(lambda x: np.sum(abs(x)/100)) \\\n",
    "                  + train_df['gFz_s'].apply(lambda x: np.sum(abs(x)/100))\n",
    "X_train.head()"
   ]
  },
  {
   "cell_type": "code",
   "execution_count": null,
   "id": "949ac0d1-328d-466b-bebe-83cc0029dce9",
   "metadata": {},
   "outputs": [],
   "source": [
    "print(f\"len(train_df) = {len(train_df)}\")\n",
    "print(f\"len(X_train) = {len(X_train)}\")\n",
    "print(\"len(X_train.columns) must be 53\")\n",
    "print(f\"len(X_train.columns) = {len(X_train.columns)}\")"
   ]
  },
  {
   "cell_type": "markdown",
   "id": "5f238210-9951-456c-956d-f283e649afc6",
   "metadata": {
    "jp-MarkdownHeadingCollapsed": true,
    "tags": []
   },
   "source": [
    "###### X_train gyroscope"
   ]
  },
  {
   "cell_type": "code",
   "execution_count": null,
   "id": "943f4ead-2334-466e-ab5f-6a05d1b01b2f",
   "metadata": {},
   "outputs": [],
   "source": [
    "# mean\n",
    "X_train['gyr_x_mean'] = train_df['wx_s'].apply(lambda x: x.mean())\n",
    "X_train['gyr_y_mean'] = train_df['wy_s'].apply(lambda x: x.mean())\n",
    "X_train['gyr_z_mean'] = train_df['wz_s'].apply(lambda x: x.mean())\n",
    "\n",
    "# variation\n",
    "X_train['gyr_x_variation'] = train_df['wx_s'].apply(lambda x: np.std(x, ddof=0) / np.mean(x))\n",
    "X_train['gyr_y_variation'] = train_df['wy_s'].apply(lambda x: np.std(x, ddof=0) / np.mean(x))\n",
    "X_train['gyr_z_variation'] = train_df['wz_s'].apply(lambda x: np.std(x, ddof=0) / np.mean(x))\n",
    "\n",
    "# std deviation\n",
    "X_train['gyr_x_std'] = train_df['wx_s'].apply(lambda x: x.std())\n",
    "X_train['gyr_y_std'] = train_df['wy_s'].apply(lambda x: x.std())\n",
    "X_train['gyr_z_std'] = train_df['wz_s'].apply(lambda x: x.std())\n",
    "\n",
    "# avg absolute diff\n",
    "X_train['gyr_x_aad'] = train_df['wx_s'].apply(lambda x: np.mean(np.absolute(x - np.mean(x))))\n",
    "X_train['gyr_y_aad'] = train_df['wy_s'].apply(lambda x: np.mean(np.absolute(x - np.mean(x))))\n",
    "X_train['gyr_z_aad'] = train_df['wz_s'].apply(lambda x: np.mean(np.absolute(x - np.mean(x))))\n",
    "\n",
    "# min\n",
    "X_train['gyr_x_min'] = train_df['wx_s'].apply(lambda x: x.min())\n",
    "X_train['gyr_y_min'] = train_df['wy_s'].apply(lambda x: x.min())\n",
    "X_train['gyr_z_min'] = train_df['wz_s'].apply(lambda x: x.min())\n",
    "\n",
    "# max\n",
    "X_train['gyr_x_max'] = train_df['wx_s'].apply(lambda x: x.max())\n",
    "X_train['gyr_y_max'] = train_df['wy_s'].apply(lambda x: x.max())\n",
    "X_train['gyr_z_max'] = train_df['wz_s'].apply(lambda x: x.max())\n",
    "\n",
    "# max-min diff\n",
    "X_train['gyr_x_maxmin_diff'] = X_train['gyr_x_max'] - X_train['gyr_x_min']\n",
    "X_train['gyr_y_maxmin_diff'] = X_train['gyr_y_max'] - X_train['gyr_y_min']\n",
    "X_train['gyr_z_maxmin_diff'] = X_train['gyr_z_max'] - X_train['gyr_z_min']\n",
    "\n",
    "# median\n",
    "X_train['gyr_x_median'] = train_df['wx_s'].apply(lambda x: np.median(x))\n",
    "X_train['gyr_y_median'] = train_df['wy_s'].apply(lambda x: np.median(x))\n",
    "X_train['gyr_z_median'] = train_df['wz_s'].apply(lambda x: np.median(x))\n",
    "\n",
    "# median abs dev \n",
    "X_train['gyr_x_mad'] = train_df['wx_s'].apply(lambda x: np.median(np.absolute(x - np.median(x))))\n",
    "X_train['gyr_y_mad'] = train_df['wy_s'].apply(lambda x: np.median(np.absolute(x - np.median(x))))\n",
    "X_train['gyr_z_mad'] = train_df['wz_s'].apply(lambda x: np.median(np.absolute(x - np.median(x))))\n",
    "\n",
    "# interquartile range\n",
    "X_train['gyr_x_IQR'] = train_df['wx_s'].apply(lambda x: np.percentile(x, 75) - np.percentile(x, 25))\n",
    "X_train['gyr_y_IQR'] = train_df['wy_s'].apply(lambda x: np.percentile(x, 75) - np.percentile(x, 25))\n",
    "X_train['gyr_z_IQR'] = train_df['wz_s'].apply(lambda x: np.percentile(x, 75) - np.percentile(x, 25))\n",
    "\n",
    "# negative count\n",
    "X_train['gyr_x_neg_count'] = train_df['wx_s'].apply(lambda x: np.sum(x < 0))\n",
    "X_train['gyr_y_neg_count'] = train_df['wy_s'].apply(lambda x: np.sum(x < 0))\n",
    "X_train['gyr_z_neg_count'] = train_df['wz_s'].apply(lambda x: np.sum(x < 0))\n",
    "\n",
    "# positive count\n",
    "X_train['gyr_x_pos_count'] = train_df['wx_s'].apply(lambda x: np.sum(x > 0))\n",
    "X_train['gyr_y_pos_count'] = train_df['wy_s'].apply(lambda x: np.sum(x > 0))\n",
    "X_train['gyr_z_pos_count'] = train_df['wz_s'].apply(lambda x: np.sum(x > 0))\n",
    "\n",
    "# values above mean\n",
    "X_train['gyr_x_above_mean'] = train_df['wx_s'].apply(lambda x: np.sum(x > x.mean()))\n",
    "X_train['gyr_y_above_mean'] = train_df['wy_s'].apply(lambda x: np.sum(x > x.mean()))\n",
    "X_train['gyr_z_above_mean'] = train_df['wz_s'].apply(lambda x: np.sum(x > x.mean()))\n",
    "\n",
    "# number of peaks\n",
    "X_train['gyr_x_peak_count'] = train_df['wx_s'].apply(lambda x: len(find_peaks(x)[0]))\n",
    "X_train['gyr_y_peak_count'] = train_df['wy_s'].apply(lambda x: len(find_peaks(x)[0]))\n",
    "X_train['gyr_z_peak_count'] = train_df['wz_s'].apply(lambda x: len(find_peaks(x)[0]))\n",
    "\n",
    "# skewness = assymetry\n",
    "X_train['gyr_x_assymetry'] = train_df['wx_s'].apply(lambda x: stats.skew(x))\n",
    "X_train['gyr_y_assymetry'] = train_df['wy_s'].apply(lambda x: stats.skew(x))\n",
    "X_train['gyr_z_assymetry'] = train_df['wz_s'].apply(lambda x: stats.skew(x))\n",
    "\n",
    "# kurtosis\n",
    "X_train['gyr_x_kurtosis'] = train_df['wx_s'].apply(lambda x: stats.kurtosis(x))\n",
    "X_train['gyr_y_kurtosis'] = train_df['wy_s'].apply(lambda x: stats.kurtosis(x))\n",
    "X_train['gyr_z_kurtosis'] = train_df['wz_s'].apply(lambda x: stats.kurtosis(x))\n",
    "\n",
    "# energy\n",
    "X_train['gyr_x_energy'] = train_df['wx_s'].apply(lambda x: np.sum(x**2)/100)\n",
    "X_train['gyr_y_energy'] = train_df['wy_s'].apply(lambda x: np.sum(x**2)/100)\n",
    "X_train['gyr_z_energy'] = train_df['wz_s'].apply(lambda x: np.sum(x**2/100))\n",
    "\n",
    "# avg resultant\n",
    "X_train['gyr_avg_result_accl'] = [i.mean() for i in ((train_df['wx_s']**2 + train_df['wy_s']**2 + train_df['wz_s']**2)**0.5)]\n",
    "\n",
    "# signal magnitude area\n",
    "X_train['gyr_sma'] = train_df['wx_s'].apply(lambda x: np.sum(abs(x)/100)) + train_df['wy_s'].apply(lambda x: np.sum(abs(x)/100)) \\\n",
    "                  + train_df['wz_s'].apply(lambda x: np.sum(abs(x)/100))\n",
    "X_train.head()"
   ]
  },
  {
   "cell_type": "code",
   "execution_count": null,
   "id": "36f71d53-8edb-40b2-9ccb-cf4ea2c77d4e",
   "metadata": {},
   "outputs": [],
   "source": [
    "print(\"len(X_train.columns) must be 106\")\n",
    "print(f\"len(X_train.columns) = {len(X_train.columns)}\")"
   ]
  },
  {
   "cell_type": "markdown",
   "id": "6dc4d2f3-642c-49db-9903-f6de79b1fb18",
   "metadata": {
    "tags": []
   },
   "source": [
    "##### X_train using functions and y_train"
   ]
  },
  {
   "cell_type": "code",
   "execution_count": null,
   "id": "3689954b-e2d2-4669-b1cf-0c3e0aca70d0",
   "metadata": {},
   "outputs": [],
   "source": [
    "X_train = pd.DataFrame()\n",
    "add_statistical_measures_columns(X_df=X_train, data_df=train_df, X_df_columns_add='accel', data_df_columns_add='gF')\n",
    "X_train.head()"
   ]
  },
  {
   "cell_type": "code",
   "execution_count": null,
   "id": "ad254c52-815a-4ed3-ba1e-e95819ce4d57",
   "metadata": {},
   "outputs": [],
   "source": [
    "add_statistical_measures_columns(X_df=X_train, data_df=train_df, X_df_columns_add='gyr', data_df_columns_add='w')\n",
    "X_train.head()"
   ]
  },
  {
   "cell_type": "code",
   "execution_count": null,
   "id": "c390ce5a-1fb4-4fa6-ab99-eab50406012e",
   "metadata": {},
   "outputs": [],
   "source": [
    "add_fft_columns(X_df=X_train, data_df=train_df, X_df_columns_add='accel', data_df_columns_add='gF', window_size=window_size, is_divided_by_g=True)\n",
    "X_train.head()"
   ]
  },
  {
   "cell_type": "markdown",
   "id": "1bec890d-cdcc-46af-9ce8-b1881cd5c7a9",
   "metadata": {},
   "source": [
    "len(X_train.columns) must be equal to 153 (added 47 new columns)"
   ]
  },
  {
   "cell_type": "code",
   "execution_count": null,
   "id": "cbc7837b-6a7f-4779-aa3c-50e790375b79",
   "metadata": {},
   "outputs": [],
   "source": [
    "add_fft_columns(X_df=X_train, data_df=train_df, X_df_columns_add='gyr', window_size=window_size, data_df_columns_add='w')\n",
    "X_train.head()"
   ]
  },
  {
   "cell_type": "markdown",
   "id": "2a95d9ab-65c0-4f6f-bd8d-6e339c62ed1e",
   "metadata": {},
   "source": [
    "len(X_train.columns) must be equal to 200 (added 47 new columns)"
   ]
  },
  {
   "cell_type": "code",
   "execution_count": null,
   "id": "32890f74-1e70-4ac2-a89e-d585bac16b8d",
   "metadata": {},
   "outputs": [],
   "source": [
    "add_indices_columns(X_df=X_train, data_df=train_df, X_df_columns_add='accel', data_df_columns_add='gF', window_size=window_size, is_divided_by_g=True)\n",
    "X_train.head()"
   ]
  },
  {
   "cell_type": "code",
   "execution_count": null,
   "id": "f3285704-5923-424c-9ae1-796e2e1b8aca",
   "metadata": {},
   "outputs": [],
   "source": [
    "add_indices_columns(X_df=X_train, data_df=train_df, X_df_columns_add='gyr', data_df_columns_add='w', window_size=window_size, is_divided_by_g=False)\n",
    "X_train.head()"
   ]
  },
  {
   "cell_type": "code",
   "execution_count": null,
   "id": "51a26061-a760-45e7-a1f5-31652c0cc93f",
   "metadata": {},
   "outputs": [],
   "source": [
    "y_train = train_df['activity']\n",
    "print(f\"len(X_train) = {len(X_train)}\")\n",
    "print(f\"len(y_train) = {len(y_train)}\")"
   ]
  },
  {
   "cell_type": "markdown",
   "id": "7fa0f099-6a23-4056-a313-97e3c1ef2e6b",
   "metadata": {
    "tags": []
   },
   "source": [
    "##### X_test and y_test"
   ]
  },
  {
   "cell_type": "code",
   "execution_count": null,
   "id": "03e6854f-32e3-4f69-b97d-0e373d08e7e2",
   "metadata": {},
   "outputs": [],
   "source": [
    "X_test = pd.DataFrame()\n",
    "add_statistical_measures_columns(X_df=X_test, data_df=test_df, X_df_columns_add='accel', data_df_columns_add='gF')\n",
    "X_test.head()"
   ]
  },
  {
   "cell_type": "code",
   "execution_count": null,
   "id": "f7030515-5739-4a4d-86e5-747a2fb5c9bb",
   "metadata": {},
   "outputs": [],
   "source": [
    "add_statistical_measures_columns(X_df=X_test, data_df=test_df, X_df_columns_add='gyr', data_df_columns_add='w')\n",
    "X_test.head()"
   ]
  },
  {
   "cell_type": "code",
   "execution_count": null,
   "id": "6350cc67-349a-4e83-8f65-d49ddcf20eb0",
   "metadata": {},
   "outputs": [],
   "source": [
    "add_fft_columns(X_df=X_test, data_df=test_df, X_df_columns_add='accel', data_df_columns_add='gF', window_size=window_size, is_divided_by_g=True)\n",
    "X_test.head()"
   ]
  },
  {
   "cell_type": "code",
   "execution_count": null,
   "id": "98ad51fe-031a-42db-b307-2ed4d7aae297",
   "metadata": {},
   "outputs": [],
   "source": [
    "add_fft_columns(X_df=X_test, data_df=test_df, X_df_columns_add='gyr', data_df_columns_add='w', window_size=window_size)\n",
    "X_test.head()"
   ]
  },
  {
   "cell_type": "code",
   "execution_count": null,
   "id": "22273b4b-881b-44a2-a936-9ca6b40abb4c",
   "metadata": {},
   "outputs": [],
   "source": [
    "add_indices_columns(X_df=X_test, data_df=test_df, X_df_columns_add='accel', data_df_columns_add='gF', window_size=window_size, is_divided_by_g=True)\n",
    "X_test.head()"
   ]
  },
  {
   "cell_type": "code",
   "execution_count": null,
   "id": "a2ee6fc5-b152-409f-bc02-9cf8d2728bc6",
   "metadata": {},
   "outputs": [],
   "source": [
    "add_indices_columns(X_df=X_test, data_df=test_df, X_df_columns_add='gyr', data_df_columns_add='w', window_size=window_size, is_divided_by_g=False)\n",
    "X_test.head()"
   ]
  },
  {
   "cell_type": "code",
   "execution_count": null,
   "id": "f5eb0118-372f-40f0-a13b-dc240a0be22b",
   "metadata": {},
   "outputs": [],
   "source": [
    "y_test = test_df['activity']\n",
    "print(f\"len(X_test) = {len(X_test)}\")\n",
    "print(f\"len(y_test) = {len(y_test)}\")"
   ]
  },
  {
   "cell_type": "markdown",
   "id": "d7e18218-eb67-40b2-a377-0d7e3bd312f0",
   "metadata": {},
   "source": [
    "# Implementing a Linear model for Activity Prediction"
   ]
  },
  {
   "cell_type": "code",
   "execution_count": null,
   "id": "84cd2158-5423-46f5-8864-f8df8d4ad479",
   "metadata": {},
   "outputs": [],
   "source": [
    "y_train = np.array(y_train)\n",
    "y_test = np.array(y_test)\n",
    "\n",
    "print(f\"len(y_train) = {len(y_train)}\")\n",
    "print(f\"len(y_test) = {len(y_test)}\")"
   ]
  },
  {
   "cell_type": "code",
   "execution_count": 41,
   "id": "81c317dc-4ebd-4d97-919b-ffa2be5bcdd1",
   "metadata": {},
   "outputs": [
    {
     "name": "stdout",
     "output_type": "stream",
     "text": [
      "Accuracy: 0.75\n",
      "\n",
      " -------------Classification Report-------------\n",
      "\n",
      "                     precision    recall  f1-score   support\n",
      "\n",
      "               Jump       1.00      1.00      1.00         3\n",
      "Lateral squat slide       0.67      0.80      0.73         5\n",
      "           Leg land       1.00      0.67      0.80         3\n",
      "        No activity       0.78      0.78      0.78         9\n",
      "              Squat       1.00      1.00      1.00         3\n",
      "               Turn       0.00      0.00      0.00         1\n",
      "               Walk       0.40      0.50      0.44         4\n",
      "\n",
      "           accuracy                           0.75        28\n",
      "          macro avg       0.69      0.68      0.68        28\n",
      "       weighted avg       0.75      0.75      0.74        28\n",
      "\n"
     ]
    }
   ],
   "source": [
    "# standardization\n",
    "scaler = StandardScaler()\n",
    "scaler.fit(X_train)\n",
    "X_train_data_lr = scaler.transform(X_train)\n",
    "X_test_data_lr = scaler.transform(X_test)\n",
    "# logistic regression model\n",
    "lr = LogisticRegression(random_state = 21)\n",
    "lr.fit(X_train_data_lr, y_train)\n",
    "y_pred = lr.predict(X_test_data_lr)\n",
    "print(\"Accuracy:\", accuracy_score(y_test, y_pred))\n",
    "print(\"\\n -------------Classification Report-------------\\n\")\n",
    "print(classification_report(y_test, y_pred))"
   ]
  },
  {
   "cell_type": "markdown",
   "id": "f82a851c-92b2-44d6-a7e0-4beedfa9d187",
   "metadata": {},
   "source": [
    "### Analyse the confusion matrix"
   ]
  },
  {
   "cell_type": "code",
   "execution_count": 42,
   "id": "ebfe3c41-71e7-4881-9eda-576e27943141",
   "metadata": {},
   "outputs": [
    {
     "data": {
      "image/png": "[encoded data removed]",
      "text/plain": [
       "<Figure size 640x480 with 2 Axes>"
      ]
     },
     "metadata": {},
     "output_type": "display_data"
    }
   ],
   "source": [
    "labels = ['Jump', 'Lateral squat slide', 'Leg land', 'No activity', 'Squat', 'Turn', 'Walk']\n",
    "cm = confusion_matrix(y_test, y_pred)\n",
    "sns.heatmap(cm, xticklabels=labels, yticklabels=labels, annot=True,linewidths = 0.1, fmt=\"d\", cmap = 'YlGnBu')\n",
    "plt.title(\"Confusion matrix\", fontsize = 15)\n",
    "plt.ylabel('True label')\n",
    "plt.xlabel('Predicted label')\n",
    "\n",
    "# Save the heatmap as an image locally\n",
    "plt.savefig('confusion_matrix.png', bbox_inches='tight')\n",
    "\n",
    "plt.show()"
   ]
  }
 ],
 "metadata": {
  "kernelspec": {
   "display_name": "Python 3 (ipykernel)",
   "language": "python",
   "name": "python3"
  },
  "language_info": {
   "codemirror_mode": {
    "name": "ipython",
    "version": 3
   },
   "file_extension": ".py",
   "mimetype": "text/x-python",
   "name": "python",
   "nbconvert_exporter": "python",
   "pygments_lexer": "ipython3",
   "version": "3.10.8"
  }
 },
 "nbformat": 4,
 "nbformat_minor": 5
}
