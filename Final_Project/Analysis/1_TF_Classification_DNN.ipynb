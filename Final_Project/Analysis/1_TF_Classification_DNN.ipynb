{
 "cells": [
  {
   "cell_type": "code",
   "execution_count": 1,
   "id": "7832e03b-b3f7-44fd-8280-b4e721842008",
   "metadata": {},
   "outputs": [],
   "source": [
    "import numpy as np\n",
    "import pandas as pd\n",
    "import matplotlib.pyplot as plt\n",
    "import matplotlib.image as mpimg\n",
    "import seaborn as sns\n",
    "\n",
    "import tensorflow as tf\n",
    "from tensorflow.keras.preprocessing.image import ImageDataGenerator\n",
    "\n",
    "import os\n",
    "import shutil\n",
    "from shutil import copyfile"
   ]
  },
  {
   "cell_type": "markdown",
   "id": "a19fa0e8-6098-41f8-9901-09e18d152bce",
   "metadata": {},
   "source": [
    "# Functions"
   ]
  },
  {
   "cell_type": "markdown",
   "id": "0cfe9557-7afc-43fe-ac84-46e7c3b26d47",
   "metadata": {},
   "source": [
    "## Split data"
   ]
  },
  {
   "cell_type": "code",
   "execution_count": 2,
   "id": "979887c5-9518-4f9b-860a-9f6e586085fd",
   "metadata": {},
   "outputs": [],
   "source": [
    "def create_train_valid_test_dirs(root_path, subdir_names, train_valid_test_names=['train', 'valid', 'test']):\n",
    "    \"\"\" Function for creating separate folders that contain data for training, validation and testing of the model\n",
    "    Args:\n",
    "        1) root_path - the path to the parent folder in which you want to create subfolders\n",
    "        2) subdir_names - a list of label class names (subfolders with the specified names will be created in each of the train, valid, and test folders)\n",
    "        3) train_valid_test_names - a list of names of training, validation and test samples\n",
    "    Returns:\n",
    "        None; but creates folders\n",
    "    \"\"\"\n",
    "    parent_directories = []\n",
    "    for dir_name in train_valid_test_names:\n",
    "        parent_directories.append(os.path.join(root_path, dir_name))\n",
    "\n",
    "    for directory in parent_directories:\n",
    "        if not os.path.exists(directory):\n",
    "            os.makedirs(directory)\n",
    "        for subdirectory in subdir_names:\n",
    "            subdir_name = os.path.join(directory + '/', subdirectory)\n",
    "            if not os.path.exists(subdir_name):\n",
    "                os.makedirs(subdir_name)"
   ]
  },
  {
   "cell_type": "code",
   "execution_count": 3,
   "id": "5f80dbb7-bd2f-4f93-9f3c-0aa96fea158d",
   "metadata": {},
   "outputs": [],
   "source": [
    "def split_data(source_dir_path, train_dir_path, valid_dir_path, test_dir_path, train_test_split=0.8, train_valid_split=0.85, random_sample=True):\n",
    "    \"\"\" Function to split the files of the specified folder into training, validation and test samples by copying \n",
    "    the files from source_dir_path to the corresponding folders\n",
    "    Args:\n",
    "        1) source_dir_path - the path to the folder containing the original data to be split into train/valid/test\n",
    "        2) train_dir_path - the path to the folder that will contain the training data\n",
    "        3) valid_dir_path - the path to the folder that will contain the validation data\n",
    "        4) test_dir_path - the path to the folder that will contain the test data\n",
    "        5) train_test_split - the ratio between training and test samples ([0; 1])\n",
    "        6) train_valid_split - the ratio between training and validation samples ([0; 1])\n",
    "        7) random_sample - whether files need to be shuffled randomly before splitting into training, validation, and test samples\n",
    "    Returns:\n",
    "        None, but split the files into training, validation and test samples\n",
    "    \"\"\"\n",
    "    fnames = os.listdir(source_dir_path)\n",
    "\n",
    "    processed_fnames = []\n",
    "    for file_name in fnames:\n",
    "        if os.path.getsize(os.path.join(source_dir_path, file_name)) > 0:\n",
    "            processed_fnames.append(file_name)\n",
    "        else:\n",
    "            print(f'{file_name} is zero length, so ignoring.')\n",
    "    \n",
    "    if random_sample:\n",
    "        processed_fnames = random.sample(processed_fnames, len(processed_fnames))\n",
    "        \n",
    "    split_index = int(train_test_split * len(processed_fnames))\n",
    "    print(f\"train_test_split_index = {split_index}\")\n",
    "    train_valid_files = processed_fnames[:split_index]\n",
    "    test_files = processed_fnames[split_index:]\n",
    "    \n",
    "    split_index = int(train_valid_split * len(train_valid_files))\n",
    "    print(f\"train_valid_split_index = {split_index}\")\n",
    "    train_files = train_valid_files[:split_index]\n",
    "    valid_files = train_valid_files[split_index:]\n",
    "    \n",
    "    # Copy training files\n",
    "    for file in train_files:\n",
    "        source = os.path.join(source_dir_path, file)\n",
    "        destination = os.path.join(train_dir_path, file)\n",
    "        copyfile(source, destination)\n",
    "    \n",
    "    # Copy validation files\n",
    "    for file in valid_files:\n",
    "        source = os.path.join(source_dir_path, file)\n",
    "        destination = os.path.join(valid_dir_path, file)\n",
    "        copyfile(source, destination)\n",
    "    \n",
    "    # Copy test files\n",
    "    for file in test_files:\n",
    "        source = os.path.join(source_dir_path, file)\n",
    "        destination = os.path.join(test_dir_path, file)\n",
    "        copyfile(source, destination)\n",
    "        "
   ]
  },
  {
   "cell_type": "code",
   "execution_count": 11,
   "id": "da75baf0-c207-4220-bcb3-2f936d00049d",
   "metadata": {},
   "outputs": [],
   "source": [
    "def split_class_data(source_dir_path, train_valid_test_paths, class_dir_name, train_test_split=0.8, train_valid_split=0.85, random_sample=True):\n",
    "    \"\"\" Function for dividing the data of one label class into train/valid/test\n",
    "    Args:\n",
    "        1) source_dir_path - the path to the folder containing the original data of all label classes which needs to be splitted into train/valid/test;\n",
    "        2) train_valid_test_paths - the list of paths to the folders of training, validation and test samples \n",
    "        (the paths are specified in this order: train, valid, test)\n",
    "        3) class_dir_name - the name of the folder that contains the label class data\n",
    "        4) train_test_split - the ratio between training and test samples ([0; 1])\n",
    "        5) train_valid_split - the ratio between training and validation samples ([0; 1])\n",
    "        6) random_sample - whether files need to be shuffled randomly before splitting into training, validation, and test samples\n",
    "    Returns:\n",
    "        None, but split the files of label class into training, validation and test samples\n",
    "    \"\"\"\n",
    "    train_dir_path_class = os.path.join(train_valid_test_paths[0], class_dir_name)\n",
    "    valid_dir_path_class = os.path.join(train_valid_test_paths[1], class_dir_name)\n",
    "    test_dir_path_class = os.path.join(train_valid_test_paths[2], class_dir_name)\n",
    "    source_dir_path_class = os.path.join(source_dir_path, class_dir_name)\n",
    "    split_data(source_dir_path=source_dir_path_class, train_dir_path=train_dir_path_class, valid_dir_path=valid_dir_path_class, \n",
    "               test_dir_path=test_dir_path_class, \n",
    "               train_test_split=train_test_split, train_valid_split=train_valid_split, random_sample=random_sample)"
   ]
  },
  {
   "cell_type": "markdown",
   "id": "ff87ed02-b353-41ff-a831-495238d0361b",
   "metadata": {
    "jp-MarkdownHeadingCollapsed": true,
    "tags": []
   },
   "source": [
    "## View data"
   ]
  },
  {
   "cell_type": "code",
   "execution_count": 55,
   "id": "8f1d9ac6-0bdb-4eaf-9c52-861d2f9ae222",
   "metadata": {},
   "outputs": [],
   "source": [
    "def display_image(root_path, image_name, title=None):\n",
    "    \"\"\" Function to display an image\n",
    "    Args:\n",
    "        1) root_path - the path to the folder that contains the image\n",
    "        2) image_name - the name of the image\n",
    "        3) title - the title that will be displayed above the image\n",
    "    Returns:\n",
    "        None; but displays an image\n",
    "    \"\"\"\n",
    "    img = mpimg.imread(os.path.join(root_path, image_name))\n",
    "    plt.imshow(img)\n",
    "    plt.title(title)\n",
    "    plt.show()"
   ]
  },
  {
   "cell_type": "markdown",
   "id": "099e9f3d-af53-4f7d-92ac-f6347091c448",
   "metadata": {},
   "source": [
    "# Load data"
   ]
  },
  {
   "cell_type": "code",
   "execution_count": 5,
   "id": "089707ba-256c-4e27-9a65-c764999f41ac",
   "metadata": {},
   "outputs": [],
   "source": [
    "source_path = 'data/garbage_classification_6_classes/garbage_classification/'\n",
    "\n",
    "source_path_cardboard = os.path.join(source_path, 'cardboard')\n",
    "source_path_glass = os.path.join(source_path, 'glass')\n",
    "source_path_metal = os.path.join(source_path, 'metal')\n",
    "source_path_paper = os.path.join(source_path, 'paper')\n",
    "source_path_plastic = os.path.join(source_path, 'plastic')\n",
    "source_path_trash = os.path.join(source_path, 'trash')"
   ]
  },
  {
   "cell_type": "code",
   "execution_count": 6,
   "id": "6808b080-50b3-423d-aca4-60fc14129e79",
   "metadata": {},
   "outputs": [],
   "source": [
    "cardboard_image_names = os.listdir(source_path_cardboard)\n",
    "glass_image_names = os.listdir(source_path_glass)\n",
    "metal_image_names = os.listdir(source_path_metal)\n",
    "paper_image_names = os.listdir(source_path_paper)\n",
    "plastic_image_names = os.listdir(source_path_plastic)\n",
    "trash_image_names = os.listdir(source_path_trash)"
   ]
  },
  {
   "cell_type": "code",
   "execution_count": 7,
   "id": "c8a4b24a-5a1b-4108-ba5a-70397d4e711a",
   "metadata": {},
   "outputs": [
    {
     "name": "stdout",
     "output_type": "stream",
     "text": [
      "There are 403 images of cardboard.\n",
      "There are 501 images of glass.\n",
      "There are 410 images of metal.\n",
      "There are 594 images of paper.\n",
      "There are 482 images of plastic.\n",
      "There are 137 images of trash.\n"
     ]
    }
   ],
   "source": [
    "print(f\"There are {len(cardboard_image_names)} images of cardboard.\") # 403\n",
    "print(f\"There are {len(glass_image_names)} images of glass.\") # 501\n",
    "print(f\"There are {len(metal_image_names)} images of metal.\") # 410\n",
    "print(f\"There are {len(paper_image_names)} images of paper.\") # 594\n",
    "print(f\"There are {len(plastic_image_names)} images of plastic.\") # 482\n",
    "print(f\"There are {len(trash_image_names)} images of trash.\") # 137"
   ]
  },
  {
   "cell_type": "markdown",
   "id": "e59dd5b1-3054-4e06-a376-42362774907a",
   "metadata": {},
   "source": [
    "## Display representatives of each class"
   ]
  },
  {
   "cell_type": "markdown",
   "id": "158972c1-8c86-45a5-a767-c7b37b1b6608",
   "metadata": {
    "tags": []
   },
   "source": [
    "### Cardboard"
   ]
  },
  {
   "cell_type": "code",
   "execution_count": null,
   "id": "8c54f6cf-5e6e-4c6a-8aba-7e41a527606d",
   "metadata": {},
   "outputs": [],
   "source": [
    "for cardboard_image_name in cardboard_image_names[:5]:\n",
    "    display_image(root_path=source_path_cardboard, image_name=cardboard_image_name, title=cardboard_image_name)"
   ]
  },
  {
   "cell_type": "markdown",
   "id": "0e30e87b-01c4-4e6a-8f4e-7ef81fffec74",
   "metadata": {
    "tags": []
   },
   "source": [
    "### Glass"
   ]
  },
  {
   "cell_type": "code",
   "execution_count": null,
   "id": "146b058c-c8ae-4bd2-a99c-789900d0ed5f",
   "metadata": {},
   "outputs": [],
   "source": [
    "for glass_image_name in glass_image_names[:5]:\n",
    "    display_image(root_path=source_path_glass, image_name=glass_image_name, title=glass_image_name)"
   ]
  },
  {
   "cell_type": "markdown",
   "id": "a8c79431-99ee-48ee-9dc6-447e4a2db56b",
   "metadata": {
    "tags": []
   },
   "source": [
    "### Metal"
   ]
  },
  {
   "cell_type": "code",
   "execution_count": null,
   "id": "d111dde7-c214-4c69-aa42-58c907e167d8",
   "metadata": {},
   "outputs": [],
   "source": [
    "for metal_image_name in metal_image_names[:5]:\n",
    "    display_image(root_path=source_path_metal, image_name=metal_image_name, title=metal_image_name)"
   ]
  },
  {
   "cell_type": "markdown",
   "id": "3f09ee41-db3b-4db9-825c-ae22aaa2f0ac",
   "metadata": {
    "tags": []
   },
   "source": [
    "### Paper"
   ]
  },
  {
   "cell_type": "code",
   "execution_count": null,
   "id": "0095e9ea-86af-404e-969d-d077462c81b4",
   "metadata": {},
   "outputs": [],
   "source": [
    "for paper_image_name in paper_image_names[:5]:\n",
    "    display_image(root_path=source_path_paper, image_name=paper_image_name, title=paper_image_name)"
   ]
  },
  {
   "cell_type": "markdown",
   "id": "7b6c2703-d81c-49b1-b6f9-0e3d8329b81a",
   "metadata": {
    "tags": []
   },
   "source": [
    "### Plastic"
   ]
  },
  {
   "cell_type": "code",
   "execution_count": null,
   "id": "5828c49e-8871-4ff3-9dff-fd8a6759bb05",
   "metadata": {},
   "outputs": [],
   "source": [
    "for plastic_image_name in plastic_image_names[:5]:\n",
    "    display_image(root_path=source_path_plastic, image_name=plastic_image_name, title=plastic_image_name)"
   ]
  },
  {
   "cell_type": "markdown",
   "id": "c62d1f5f-2dea-40f9-bfb9-23ad3ff89452",
   "metadata": {
    "tags": []
   },
   "source": [
    "### Trash"
   ]
  },
  {
   "cell_type": "code",
   "execution_count": null,
   "id": "1daeeab6-5043-47a2-b9bd-3b6b2eec38b6",
   "metadata": {},
   "outputs": [],
   "source": [
    "for trash_image_name in trash_image_names[:5]:\n",
    "    display_image(root_path=source_path_trash, image_name=trash_image_name, title=trash_image_name)"
   ]
  },
  {
   "cell_type": "markdown",
   "id": "94b8c9cb-0be9-44f4-9952-beb639920617",
   "metadata": {},
   "source": [
    "# Split data into train, validation and test"
   ]
  },
  {
   "cell_type": "markdown",
   "id": "816fa6b4-1a9c-4020-ab88-83e2fd228a39",
   "metadata": {},
   "source": [
    "## Create folders for train/valid/test data"
   ]
  },
  {
   "cell_type": "code",
   "execution_count": 8,
   "id": "38efe25e-64ce-4075-b6b4-dd251c0550c0",
   "metadata": {},
   "outputs": [],
   "source": [
    "destination_path = 'data/garbage_classification_6_classes/garbage_classification_TrainValidTest/'\n",
    "\n",
    "garbage_class_names = ['cardboard', 'glass', 'metal', 'paper', 'plastic', 'trash']\n",
    "create_train_valid_test_dirs(root_path=destination_path, subdir_names=garbage_class_names)"
   ]
  },
  {
   "cell_type": "markdown",
   "id": "70ce8b08-d600-431e-9365-395f20cf0402",
   "metadata": {},
   "source": [
    "## Split the data and save it in the appropriate folders"
   ]
  },
  {
   "cell_type": "markdown",
   "id": "714859d3-5c02-41de-9aa2-27511e50401a",
   "metadata": {
    "jp-MarkdownHeadingCollapsed": true,
    "tags": []
   },
   "source": [
    "### Check the correct operation of the split_class_data() function"
   ]
  },
  {
   "cell_type": "code",
   "execution_count": 84,
   "id": "4c3d4f50-3471-4d45-b324-6891c648c78d",
   "metadata": {},
   "outputs": [
    {
     "name": "stdout",
     "output_type": "stream",
     "text": [
      "train_test_split_index = 362\n",
      "train_valid_split_index = 307\n",
      "Cardboard: train = 307\n",
      "Cardboard: valid = 55\n",
      "Cardboard: test = 41\n"
     ]
    }
   ],
   "source": [
    "train_dir_path = 'data/garbage_classification_6_classes/garbage_classification_TrainValidTest/train/'\n",
    "valid_dir_path = 'data/garbage_classification_6_classes/garbage_classification_TrainValidTest/valid/'\n",
    "test_dir_path = 'data/garbage_classification_6_classes/garbage_classification_TrainValidTest/test/'\n",
    "train_valid_test_paths = [train_dir_path, valid_dir_path, test_dir_path]\n",
    "\n",
    "split_class_data(source_dir_path=source_path, train_valid_test_paths=train_valid_test_paths, \n",
    "                 class_dir_name='cardboard', train_test_split=0.9, train_valid_split=0.85, random_sample=False)\n",
    "\n",
    "cardboard_train_images = os.listdir(os.path.join(train_dir_path, 'cardboard'))\n",
    "cardboard_valid_images = os.listdir(os.path.join(valid_dir_path, 'cardboard'))\n",
    "cardboard_test_images = os.listdir(os.path.join(test_dir_path, 'cardboard'))\n",
    "\n",
    "print(f\"Cardboard: train = {len(cardboard_train_images)}\") # 307\n",
    "print(f\"Cardboard: valid = {len(cardboard_valid_images)}\") # 55\n",
    "print(f\"Cardboard: test = {len(cardboard_test_images)}\") # 41"
   ]
  },
  {
   "cell_type": "code",
   "execution_count": 85,
   "id": "6b542f57-b381-4272-a09a-af52de3ec251",
   "metadata": {},
   "outputs": [
    {
     "name": "stdout",
     "output_type": "stream",
     "text": [
      "train_test_split_index = 450\n",
      "train_valid_split_index = 382\n",
      "Glass: train = 382\n",
      "Glass: valid = 68\n",
      "Glass: test = 51\n"
     ]
    }
   ],
   "source": [
    "split_class_data(source_dir_path=source_path, train_valid_test_paths=train_valid_test_paths, \n",
    "                 class_dir_name='glass', train_test_split=0.9, train_valid_split=0.85, random_sample=False)\n",
    "\n",
    "glass_train_images = os.listdir(os.path.join(train_dir_path, 'glass'))\n",
    "glass_valid_images = os.listdir(os.path.join(valid_dir_path, 'glass'))\n",
    "glass_test_images = os.listdir(os.path.join(test_dir_path, 'glass'))\n",
    "\n",
    "print(f\"Glass: train = {len(glass_train_images)}\") # 382\n",
    "print(f\"Glass: valid = {len(glass_valid_images)}\") # 68\n",
    "print(f\"Glass: test = {len(glass_test_images)}\") # 51"
   ]
  },
  {
   "cell_type": "code",
   "execution_count": 86,
   "id": "bfe1fd9e-0536-4172-8772-2009a6949dff",
   "metadata": {},
   "outputs": [
    {
     "name": "stdout",
     "output_type": "stream",
     "text": [
      "train_test_split_index = 369\n",
      "train_valid_split_index = 313\n",
      "Metal: train = 313\n",
      "Metal: valid = 56\n",
      "Metal: test = 41\n"
     ]
    }
   ],
   "source": [
    "split_class_data(source_dir_path=source_path, train_valid_test_paths=train_valid_test_paths, \n",
    "                 class_dir_name='metal', train_test_split=0.9, train_valid_split=0.85, random_sample=False)\n",
    "\n",
    "metal_train_images = os.listdir(os.path.join(train_dir_path, 'metal'))\n",
    "metal_valid_images = os.listdir(os.path.join(valid_dir_path, 'metal'))\n",
    "metal_test_images = os.listdir(os.path.join(test_dir_path, 'metal'))\n",
    "\n",
    "print(f\"Metal: train = {len(metal_train_images)}\") # 313\n",
    "print(f\"Metal: valid = {len(metal_valid_images)}\") # 56\n",
    "print(f\"Metal: test = {len(metal_test_images)}\") # 41"
   ]
  },
  {
   "cell_type": "markdown",
   "id": "8036996f-3ff8-4839-8ace-d9c5e1fbc3e5",
   "metadata": {},
   "source": [
    "### Split classes data"
   ]
  },
  {
   "cell_type": "code",
   "execution_count": 12,
   "id": "c322c4aa-2a09-4a8d-8ecd-b1d599f2d2a3",
   "metadata": {},
   "outputs": [
    {
     "name": "stdout",
     "output_type": "stream",
     "text": [
      "train_test_split_index = 362\n",
      "train_valid_split_index = 307\n",
      "cardboard: train = 307\n",
      "cardboard: valid = 55\n",
      "cardboard: test = 41\n",
      "\n",
      "train_test_split_index = 450\n",
      "train_valid_split_index = 382\n",
      "glass: train = 382\n",
      "glass: valid = 68\n",
      "glass: test = 51\n",
      "\n",
      "train_test_split_index = 369\n",
      "train_valid_split_index = 313\n",
      "metal: train = 313\n",
      "metal: valid = 56\n",
      "metal: test = 41\n",
      "\n",
      "train_test_split_index = 534\n",
      "train_valid_split_index = 453\n",
      "paper: train = 453\n",
      "paper: valid = 81\n",
      "paper: test = 60\n",
      "\n",
      "train_test_split_index = 433\n",
      "train_valid_split_index = 368\n",
      "plastic: train = 368\n",
      "plastic: valid = 65\n",
      "plastic: test = 49\n",
      "\n",
      "train_test_split_index = 123\n",
      "train_valid_split_index = 104\n",
      "trash: train = 104\n",
      "trash: valid = 19\n",
      "trash: test = 14\n",
      "\n"
     ]
    }
   ],
   "source": [
    "train_dir_path = 'data/garbage_classification_6_classes/garbage_classification_TrainValidTest/train/'\n",
    "valid_dir_path = 'data/garbage_classification_6_classes/garbage_classification_TrainValidTest/valid/'\n",
    "test_dir_path = 'data/garbage_classification_6_classes/garbage_classification_TrainValidTest/test/'\n",
    "train_valid_test_paths = [train_dir_path, valid_dir_path, test_dir_path]\n",
    "\n",
    "for class_name in garbage_class_names:\n",
    "    split_class_data(source_dir_path=source_path, train_valid_test_paths=train_valid_test_paths, \n",
    "                 class_dir_name=class_name, train_test_split=0.9, train_valid_split=0.85, random_sample=False)\n",
    "    \n",
    "    class_train_images = os.listdir(os.path.join(train_dir_path, class_name))\n",
    "    class_valid_images = os.listdir(os.path.join(valid_dir_path, class_name))\n",
    "    class_test_images = os.listdir(os.path.join(test_dir_path, class_name))\n",
    "\n",
    "    print(f\"{class_name}: train = {len(class_train_images)}\") \n",
    "    print(f\"{class_name}: valid = {len(class_valid_images)}\") \n",
    "    print(f\"{class_name}: test = {len(class_test_images)}\") \n",
    "    print(\"\")"
   ]
  }
 ],
 "metadata": {
  "kernelspec": {
   "display_name": "Python 3 (ipykernel)",
   "language": "python",
   "name": "python3"
  },
  "language_info": {
   "codemirror_mode": {
    "name": "ipython",
    "version": 3
   },
   "file_extension": ".py",
   "mimetype": "text/x-python",
   "name": "python",
   "nbconvert_exporter": "python",
   "pygments_lexer": "ipython3",
   "version": "3.10.8"
  }
 },
 "nbformat": 4,
 "nbformat_minor": 5
}
