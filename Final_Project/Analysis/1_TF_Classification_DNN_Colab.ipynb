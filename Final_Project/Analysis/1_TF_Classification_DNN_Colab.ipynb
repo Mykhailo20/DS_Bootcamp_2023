{
 "cells": [
  {
   "cell_type": "markdown",
   "id": "053753b4-a1c8-4c8c-bc03-dccc9843402b",
   "metadata": {
    "id": "053753b4-a1c8-4c8c-bc03-dccc9843402b"
   },
   "source": [
    "### Link to the dataset: https://www.kaggle.com/datasets/asdasdasasdas/garbage-classification"
   ]
  },
  {
   "cell_type": "code",
   "execution_count": 1,
   "id": "RKCaaWRKQye8",
   "metadata": {
    "colab": {
     "base_uri": "https://localhost:8080/",
     "height": 73
    },
    "id": "RKCaaWRKQye8",
    "outputId": "ddc984a2-6bab-449b-b57a-653d868e009b"
   },
   "outputs": [
    {
     "data": {
      "text/html": [
       "\n",
       "     <input type=\"file\" id=\"files-c3113757-ff43-47d0-9e98-206bc17f369b\" name=\"files[]\" multiple disabled\n",
       "        style=\"border:none\" />\n",
       "     <output id=\"result-c3113757-ff43-47d0-9e98-206bc17f369b\">\n",
       "      Upload widget is only available when the cell has been executed in the\n",
       "      current browser session. Please rerun this cell to enable.\n",
       "      </output>\n",
       "      <script>// Copyright 2017 Google LLC\n",
       "//\n",
       "// Licensed under the Apache License, Version 2.0 (the \"License\");\n",
       "// you may not use this file except in compliance with the License.\n",
       "// You may obtain a copy of the License at\n",
       "//\n",
       "//      http://www.apache.org/licenses/LICENSE-2.0\n",
       "//\n",
       "// Unless required by applicable law or agreed to in writing, software\n",
       "// distributed under the License is distributed on an \"AS IS\" BASIS,\n",
       "// WITHOUT WARRANTIES OR CONDITIONS OF ANY KIND, either express or implied.\n",
       "// See the License for the specific language governing permissions and\n",
       "// limitations under the License.\n",
       "\n",
       "/**\n",
       " * @fileoverview Helpers for google.colab Python module.\n",
       " */\n",
       "(function(scope) {\n",
       "function span(text, styleAttributes = {}) {\n",
       "  const element = document.createElement('span');\n",
       "  element.textContent = text;\n",
       "  for (const key of Object.keys(styleAttributes)) {\n",
       "    element.style[key] = styleAttributes[key];\n",
       "  }\n",
       "  return element;\n",
       "}\n",
       "\n",
       "// Max number of bytes which will be uploaded at a time.\n",
       "const MAX_PAYLOAD_SIZE = 100 * 1024;\n",
       "\n",
       "function _uploadFiles(inputId, outputId) {\n",
       "  const steps = uploadFilesStep(inputId, outputId);\n",
       "  const outputElement = document.getElementById(outputId);\n",
       "  // Cache steps on the outputElement to make it available for the next call\n",
       "  // to uploadFilesContinue from Python.\n",
       "  outputElement.steps = steps;\n",
       "\n",
       "  return _uploadFilesContinue(outputId);\n",
       "}\n",
       "\n",
       "// This is roughly an async generator (not supported in the browser yet),\n",
       "// where there are multiple asynchronous steps and the Python side is going\n",
       "// to poll for completion of each step.\n",
       "// This uses a Promise to block the python side on completion of each step,\n",
       "// then passes the result of the previous step as the input to the next step.\n",
       "function _uploadFilesContinue(outputId) {\n",
       "  const outputElement = document.getElementById(outputId);\n",
       "  const steps = outputElement.steps;\n",
       "\n",
       "  const next = steps.next(outputElement.lastPromiseValue);\n",
       "  return Promise.resolve(next.value.promise).then((value) => {\n",
       "    // Cache the last promise value to make it available to the next\n",
       "    // step of the generator.\n",
       "    outputElement.lastPromiseValue = value;\n",
       "    return next.value.response;\n",
       "  });\n",
       "}\n",
       "\n",
       "/**\n",
       " * Generator function which is called between each async step of the upload\n",
       " * process.\n",
       " * @param {string} inputId Element ID of the input file picker element.\n",
       " * @param {string} outputId Element ID of the output display.\n",
       " * @return {!Iterable<!Object>} Iterable of next steps.\n",
       " */\n",
       "function* uploadFilesStep(inputId, outputId) {\n",
       "  const inputElement = document.getElementById(inputId);\n",
       "  inputElement.disabled = false;\n",
       "\n",
       "  const outputElement = document.getElementById(outputId);\n",
       "  outputElement.innerHTML = '';\n",
       "\n",
       "  const pickedPromise = new Promise((resolve) => {\n",
       "    inputElement.addEventListener('change', (e) => {\n",
       "      resolve(e.target.files);\n",
       "    });\n",
       "  });\n",
       "\n",
       "  const cancel = document.createElement('button');\n",
       "  inputElement.parentElement.appendChild(cancel);\n",
       "  cancel.textContent = 'Cancel upload';\n",
       "  const cancelPromise = new Promise((resolve) => {\n",
       "    cancel.onclick = () => {\n",
       "      resolve(null);\n",
       "    };\n",
       "  });\n",
       "\n",
       "  // Wait for the user to pick the files.\n",
       "  const files = yield {\n",
       "    promise: Promise.race([pickedPromise, cancelPromise]),\n",
       "    response: {\n",
       "      action: 'starting',\n",
       "    }\n",
       "  };\n",
       "\n",
       "  cancel.remove();\n",
       "\n",
       "  // Disable the input element since further picks are not allowed.\n",
       "  inputElement.disabled = true;\n",
       "\n",
       "  if (!files) {\n",
       "    return {\n",
       "      response: {\n",
       "        action: 'complete',\n",
       "      }\n",
       "    };\n",
       "  }\n",
       "\n",
       "  for (const file of files) {\n",
       "    const li = document.createElement('li');\n",
       "    li.append(span(file.name, {fontWeight: 'bold'}));\n",
       "    li.append(span(\n",
       "        `(${file.type || 'n/a'}) - ${file.size} bytes, ` +\n",
       "        `last modified: ${\n",
       "            file.lastModifiedDate ? file.lastModifiedDate.toLocaleDateString() :\n",
       "                                    'n/a'} - `));\n",
       "    const percent = span('0% done');\n",
       "    li.appendChild(percent);\n",
       "\n",
       "    outputElement.appendChild(li);\n",
       "\n",
       "    const fileDataPromise = new Promise((resolve) => {\n",
       "      const reader = new FileReader();\n",
       "      reader.onload = (e) => {\n",
       "        resolve(e.target.result);\n",
       "      };\n",
       "      reader.readAsArrayBuffer(file);\n",
       "    });\n",
       "    // Wait for the data to be ready.\n",
       "    let fileData = yield {\n",
       "      promise: fileDataPromise,\n",
       "      response: {\n",
       "        action: 'continue',\n",
       "      }\n",
       "    };\n",
       "\n",
       "    // Use a chunked sending to avoid message size limits. See b/62115660.\n",
       "    let position = 0;\n",
       "    do {\n",
       "      const length = Math.min(fileData.byteLength - position, MAX_PAYLOAD_SIZE);\n",
       "      const chunk = new Uint8Array(fileData, position, length);\n",
       "      position += length;\n",
       "\n",
       "      const base64 = btoa(String.fromCharCode.apply(null, chunk));\n",
       "      yield {\n",
       "        response: {\n",
       "          action: 'append',\n",
       "          file: file.name,\n",
       "          data: base64,\n",
       "        },\n",
       "      };\n",
       "\n",
       "      let percentDone = fileData.byteLength === 0 ?\n",
       "          100 :\n",
       "          Math.round((position / fileData.byteLength) * 100);\n",
       "      percent.textContent = `${percentDone}% done`;\n",
       "\n",
       "    } while (position < fileData.byteLength);\n",
       "  }\n",
       "\n",
       "  // All done.\n",
       "  yield {\n",
       "    response: {\n",
       "      action: 'complete',\n",
       "    }\n",
       "  };\n",
       "}\n",
       "\n",
       "scope.google = scope.google || {};\n",
       "scope.google.colab = scope.google.colab || {};\n",
       "scope.google.colab._files = {\n",
       "  _uploadFiles,\n",
       "  _uploadFilesContinue,\n",
       "};\n",
       "})(self);\n",
       "</script> "
      ],
      "text/plain": [
       "<IPython.core.display.HTML object>"
      ]
     },
     "metadata": {},
     "output_type": "display_data"
    },
    {
     "name": "stdout",
     "output_type": "stream",
     "text": [
      "Saving kaggle.json to kaggle.json\n"
     ]
    }
   ],
   "source": [
    "from google.colab import files\n",
    "\n",
    "# Upload the Kaggle API key file (kaggle.json) that you downloaded from Kaggle\n",
    "uploaded = files.upload()\n",
    "\n",
    "# Move the uploaded API key to the required directory\n",
    "!mkdir -p ~/.kaggle\n",
    "!mv kaggle.json ~/.kaggle/\n",
    "!chmod 600 ~/.kaggle/kaggle.json"
   ]
  },
  {
   "cell_type": "code",
   "execution_count": null,
   "id": "143vln3rRExD",
   "metadata": {
    "id": "143vln3rRExD"
   },
   "outputs": [],
   "source": [
    "!pip install kaggle"
   ]
  },
  {
   "cell_type": "code",
   "execution_count": 3,
   "id": "CRRvWPlURJXy",
   "metadata": {
    "colab": {
     "base_uri": "https://localhost:8080/"
    },
    "id": "CRRvWPlURJXy",
    "outputId": "703a85bf-5060-4d5a-828a-ea4ae2459a16"
   },
   "outputs": [
    {
     "name": "stdout",
     "output_type": "stream",
     "text": [
      "Downloading garbage-classification.zip to /content\n",
      " 70% 57.0M/82.0M [00:00<00:00, 176MB/s]\n",
      "100% 82.0M/82.0M [00:00<00:00, 182MB/s]\n"
     ]
    }
   ],
   "source": [
    "!kaggle datasets download -d asdasdasasdas/garbage-classification"
   ]
  },
  {
   "cell_type": "code",
   "execution_count": null,
   "id": "qFh2FFk3RQID",
   "metadata": {
    "id": "qFh2FFk3RQID"
   },
   "outputs": [],
   "source": [
    "!unzip garbage-classification.zip"
   ]
  },
  {
   "cell_type": "code",
   "execution_count": 5,
   "id": "56b3d70c-d1d5-4cff-9af8-db7e2d405a9c",
   "metadata": {
    "id": "56b3d70c-d1d5-4cff-9af8-db7e2d405a9c"
   },
   "outputs": [],
   "source": [
    "import numpy as np\n",
    "import pandas as pd\n",
    "import matplotlib.pyplot as plt\n",
    "import seaborn as sns\n",
    "\n",
    "from tensorflow.keras.preprocessing.image import ImageDataGenerator\n",
    "from tensorflow.keras.callbacks import EarlyStopping\n",
    "import tensorflow as tf\n",
    "import pickle\n",
    "\n",
    "import cv2\n",
    "\n",
    "import os\n",
    "import shutil\n",
    "from shutil import copyfile"
   ]
  },
  {
   "cell_type": "markdown",
   "id": "a19fa0e8-6098-41f8-9901-09e18d152bce",
   "metadata": {
    "id": "a19fa0e8-6098-41f8-9901-09e18d152bce"
   },
   "source": [
    "# Functions"
   ]
  },
  {
   "cell_type": "markdown",
   "id": "0cfe9557-7afc-43fe-ac84-46e7c3b26d47",
   "metadata": {
    "id": "0cfe9557-7afc-43fe-ac84-46e7c3b26d47"
   },
   "source": [
    "## Split data"
   ]
  },
  {
   "cell_type": "code",
   "execution_count": 6,
   "id": "979887c5-9518-4f9b-860a-9f6e586085fd",
   "metadata": {
    "id": "979887c5-9518-4f9b-860a-9f6e586085fd"
   },
   "outputs": [],
   "source": [
    "def create_train_valid_test_dirs(root_path, subdir_names, train_valid_test_names=['train', 'valid', 'test']):\n",
    "    \"\"\" Function for creating separate folders that contain data for training, validation and testing of the model\n",
    "    Args:\n",
    "        1) root_path - the path to the parent folder in which you want to create subfolders\n",
    "        2) subdir_names - a list of label class names (subfolders with the specified names will be created in each of the train, valid, and test folders)\n",
    "        3) train_valid_test_names - a list of names of training, validation and test samples\n",
    "    Returns:\n",
    "        None; but creates folders\n",
    "    \"\"\"\n",
    "    parent_directories = []\n",
    "    for dir_name in train_valid_test_names:\n",
    "        parent_directories.append(os.path.join(root_path, dir_name))\n",
    "\n",
    "    for directory in parent_directories:\n",
    "        if not os.path.exists(directory):\n",
    "            os.makedirs(directory)\n",
    "        for subdirectory in subdir_names:\n",
    "            subdir_name = os.path.join(directory + '/', subdirectory)\n",
    "            if not os.path.exists(subdir_name):\n",
    "                os.makedirs(subdir_name)"
   ]
  },
  {
   "cell_type": "code",
   "execution_count": 7,
   "id": "5f80dbb7-bd2f-4f93-9f3c-0aa96fea158d",
   "metadata": {
    "id": "5f80dbb7-bd2f-4f93-9f3c-0aa96fea158d"
   },
   "outputs": [],
   "source": [
    "def split_data(source_dir_path, train_dir_path, valid_dir_path, test_dir_path, train_test_split=0.8, train_valid_split=0.85, random_sample=True):\n",
    "    \"\"\" Function to split the files of the specified folder into training, validation and test samples by copying\n",
    "    the files from source_dir_path to the corresponding folders\n",
    "    Args:\n",
    "        1) source_dir_path - the path to the folder containing the original data to be split into train/valid/test\n",
    "        2) train_dir_path - the path to the folder that will contain the training data\n",
    "        3) valid_dir_path - the path to the folder that will contain the validation data\n",
    "        4) test_dir_path - the path to the folder that will contain the test data\n",
    "        5) train_test_split - the ratio between training and test samples ([0; 1])\n",
    "        6) train_valid_split - the ratio between training and validation samples ([0; 1])\n",
    "        7) random_sample - whether files need to be shuffled randomly before splitting into training, validation, and test samples\n",
    "    Returns:\n",
    "        None, but split the files into training, validation and test samples\n",
    "    \"\"\"\n",
    "    fnames = os.listdir(source_dir_path)\n",
    "\n",
    "    processed_fnames = []\n",
    "    for file_name in fnames:\n",
    "        if os.path.getsize(os.path.join(source_dir_path, file_name)) > 0:\n",
    "            processed_fnames.append(file_name)\n",
    "        else:\n",
    "            print(f'{file_name} is zero length, so ignoring.')\n",
    "\n",
    "    if random_sample:\n",
    "        processed_fnames = random.sample(processed_fnames, len(processed_fnames))\n",
    "\n",
    "    split_index = int(train_test_split * len(processed_fnames))\n",
    "    train_valid_files = processed_fnames[:split_index]\n",
    "    test_files = processed_fnames[split_index:]\n",
    "\n",
    "    split_index = int(train_valid_split * len(train_valid_files))\n",
    "    train_files = train_valid_files[:split_index]\n",
    "    valid_files = train_valid_files[split_index:]\n",
    "\n",
    "    # Copy training files\n",
    "    for file in train_files:\n",
    "        source = os.path.join(source_dir_path, file)\n",
    "        destination = os.path.join(train_dir_path, file)\n",
    "        copyfile(source, destination)\n",
    "\n",
    "    # Copy validation files\n",
    "    for file in valid_files:\n",
    "        source = os.path.join(source_dir_path, file)\n",
    "        destination = os.path.join(valid_dir_path, file)\n",
    "        copyfile(source, destination)\n",
    "\n",
    "    # Copy test files\n",
    "    for file in test_files:\n",
    "        source = os.path.join(source_dir_path, file)\n",
    "        destination = os.path.join(test_dir_path, file)\n",
    "        copyfile(source, destination)\n"
   ]
  },
  {
   "cell_type": "code",
   "execution_count": 8,
   "id": "da75baf0-c207-4220-bcb3-2f936d00049d",
   "metadata": {
    "id": "da75baf0-c207-4220-bcb3-2f936d00049d"
   },
   "outputs": [],
   "source": [
    "def split_class_data(source_dir_path, train_valid_test_paths, class_dir_name, train_test_split=0.8, train_valid_split=0.85, random_sample=True):\n",
    "    \"\"\" Function for dividing the data of one label class into train/valid/test\n",
    "    Args:\n",
    "        1) source_dir_path - the path to the folder containing the original data of all label classes which needs to be splitted into train/valid/test;\n",
    "        2) train_valid_test_paths - the list of paths to the folders of training, validation and test samples\n",
    "        (the paths are specified in this order: train, valid, test)\n",
    "        3) class_dir_name - the name of the folder that contains the label class data\n",
    "        4) train_test_split - the ratio between training and test samples ([0; 1])\n",
    "        5) train_valid_split - the ratio between training and validation samples ([0; 1])\n",
    "        6) random_sample - whether files need to be shuffled randomly before splitting into training, validation, and test samples\n",
    "    Returns:\n",
    "        None, but split the files of label class into training, validation and test samples\n",
    "    \"\"\"\n",
    "    train_dir_path_class = os.path.join(train_valid_test_paths[0], class_dir_name)\n",
    "    valid_dir_path_class = os.path.join(train_valid_test_paths[1], class_dir_name)\n",
    "    test_dir_path_class = os.path.join(train_valid_test_paths[2], class_dir_name)\n",
    "    source_dir_path_class = os.path.join(source_dir_path, class_dir_name)\n",
    "    split_data(source_dir_path=source_dir_path_class, train_dir_path=train_dir_path_class, valid_dir_path=valid_dir_path_class,\n",
    "               test_dir_path=test_dir_path_class,\n",
    "               train_test_split=train_test_split, train_valid_split=train_valid_split, random_sample=random_sample)"
   ]
  },
  {
   "cell_type": "markdown",
   "id": "QtwmTbl9PK5u",
   "metadata": {
    "id": "QtwmTbl9PK5u"
   },
   "source": [
    "## Display images"
   ]
  },
  {
   "cell_type": "code",
   "execution_count": 9,
   "id": "uDa_N5C5PKbQ",
   "metadata": {
    "id": "uDa_N5C5PKbQ"
   },
   "outputs": [],
   "source": [
    "def display_image(img, title=None):\n",
    "    \"\"\" Function to display an image\n",
    "    Args:\n",
    "        1) img - image object\n",
    "        2) title - the title that will be displayed above the image\n",
    "    Returns:\n",
    "        None; but displays an image\n",
    "    \"\"\"\n",
    "    plt.imshow(img)\n",
    "    plt.title(title)\n",
    "    plt.show()"
   ]
  },
  {
   "cell_type": "code",
   "execution_count": 10,
   "id": "GnJCHNEDPWLG",
   "metadata": {
    "id": "GnJCHNEDPWLG"
   },
   "outputs": [],
   "source": [
    "def display_original_augmented_img(original_img, augmented_img, original_title=None, augmented_title=None):\n",
    "    \"\"\" Function to display the original and augmented image on the same graph\n",
    "    Args:\n",
    "        1) original_img - object of the original image\n",
    "        2) augmented_img - augmented image object\n",
    "        3) original_title - title for the original image\n",
    "        4) augmented_title - title for the augmented image\n",
    "    Returns:\n",
    "        None; but displays images\n",
    "    \"\"\"\n",
    "    fig, axes = plt.subplots(1, 2, figsize=(12, 6))\n",
    "    axes[0].imshow(original_img)\n",
    "    axes[0].set_title(original_title)\n",
    "\n",
    "    axes[1].imshow(augmented_img)\n",
    "    axes[1].set_title(augmented_title)\n",
    "    plt.show()"
   ]
  },
  {
   "cell_type": "markdown",
   "id": "ff87ed02-b353-41ff-a831-495238d0361b",
   "metadata": {
    "id": "ff87ed02-b353-41ff-a831-495238d0361b",
    "tags": []
   },
   "source": [
    "## Display data"
   ]
  },
  {
   "cell_type": "code",
   "execution_count": 11,
   "id": "_cc_OjlNRHcM",
   "metadata": {
    "id": "_cc_OjlNRHcM"
   },
   "outputs": [],
   "source": [
    "def load_display_image(root_path, image_name, title=None):\n",
    "    \"\"\" Function to display an image\n",
    "    Args:\n",
    "        1) root_path - the path to the folder that contains the image\n",
    "        2) image_name - the name of the image\n",
    "        3) title - the title that will be displayed above the image\n",
    "    Returns:\n",
    "        None; but displays an image\n",
    "    \"\"\"\n",
    "    img = cv2.imread(os.path.join(root_path, image_name))\n",
    "    plt.imshow(img)\n",
    "    plt.title(title)\n",
    "    plt.show()"
   ]
  },
  {
   "cell_type": "code",
   "execution_count": 12,
   "id": "e8b3f412-e0cb-4a3e-a99f-88f30d0f90a4",
   "metadata": {
    "id": "e8b3f412-e0cb-4a3e-a99f-88f30d0f90a4"
   },
   "outputs": [],
   "source": [
    "def display_pie_chart(df, column_name, title=None, column_contains_count=False, filename=None):\n",
    "    \"\"\" Function to display the percentage ratio of column (with the name column_name) content\n",
    "    Args:\n",
    "        1) df - the original dataframe that contains the required information\n",
    "        2) column_name - the name of the df dataframe column whose percentage values are to be found\n",
    "        3) title - the title of the graph\n",
    "        4) column_contains_count - the dataframe column already contains the number of repetitions of the target values (target value count)\n",
    "        5) filename - the relative path where the file will be saved (with the file name, the file extension is not required) or just the filename\n",
    "    Returns:\n",
    "        None, but plots graph\n",
    "    \"\"\"\n",
    "    # Calculate the percentage of each activity in original_df\n",
    "    if column_contains_count:\n",
    "        activity_percentages_df = df[column_name] / sum(df[column_name])\n",
    "    else:\n",
    "        activity_percentages_df = df[column_name].value_counts(normalize=True) * 100\n",
    "\n",
    "    plt.figure(figsize=(12, 6))\n",
    "\n",
    "    # Plot pie chart for df\n",
    "    sns.set_palette(\"Set3\")\n",
    "    plt.pie(activity_percentages_df, labels=activity_percentages_df.index, autopct='%1.1f%%', startangle=140)\n",
    "    plt.title(title)\n",
    "\n",
    "    # Adjust layout\n",
    "    plt.tight_layout()\n",
    "    if filename:\n",
    "        plt.savefig(f'{filename}.png', bbox_inches='tight')\n",
    "    plt.show()\n",
    "\n",
    "\n",
    "def display_pie_charts(first_df, second_df, column, column_contains_count=False, first_chart_title='First DataFrame', second_chart_title='Second DataFrame', filename=None):\n",
    "    \"\"\"Function for displaying the ratio of column content between two dataframes in the form of pie charts\n",
    "    Args:\n",
    "        1) first_df - the original dataframe that contains the required information\n",
    "        2) second_df - a dataframe that contains the results of windowing\n",
    "        3) column - the name of the dataframe column whose percentage values are to be found\n",
    "        4) column_contains_count - the dataframe column already contains the number of repetitions of the target values (target value count)\n",
    "        5) first_chart_title - the title for the first pie chart\n",
    "        6) second_chart_title - the title for the second pie chart\n",
    "        7) filename - the relative path where the file will be saved (with the file name, the file extension is not required) or just the filename\n",
    "    Returns:\n",
    "        None; just builds a pie chart to display the ratio of column contents between two dataframes\n",
    "    \"\"\"\n",
    "    # Calculate the percentage of each activity in first_df\n",
    "    if column_contains_count:\n",
    "        activity_percentages_first_df = first_df[column] / sum(first_df[column]) * 100\n",
    "    else:\n",
    "        activity_percentages_first_df = first_df[column].value_counts(normalize=True) * 100\n",
    "\n",
    "    # Calculate the percentage of each activity in second_df\n",
    "    if column_contains_count:\n",
    "        activity_percentages_second_df = second_df[column] / sum(second_df[column]) * 100\n",
    "    else:\n",
    "        activity_percentages_second_df = second_df[column].value_counts(normalize=True) * 100\n",
    "\n",
    "    # Create subplots for pie charts\n",
    "    fig, axes = plt.subplots(1, 2, figsize=(12, 6))\n",
    "\n",
    "    # Plot pie chart for df\n",
    "    sns.set_palette(\"Set3\")\n",
    "    axes[0].pie(activity_percentages_first_df, labels=activity_percentages_first_df.index, autopct='%1.1f%%', startangle=140)\n",
    "    axes[0].set_title(first_chart_title)\n",
    "\n",
    "    # Plot pie chart for windowed_df\n",
    "    sns.set_palette(\"Set3\")\n",
    "    axes[1].pie(activity_percentages_second_df, labels=activity_percentages_first_df.index, autopct='%1.1f%%', startangle=140)\n",
    "    axes[1].set_title(second_chart_title)\n",
    "\n",
    "    # Adjust layout\n",
    "    plt.tight_layout()\n",
    "    if filename:\n",
    "        plt.savefig(f'{filename}.png', bbox_inches='tight')\n",
    "    plt.show()"
   ]
  },
  {
   "cell_type": "markdown",
   "id": "jH-5MYFlPiGG",
   "metadata": {
    "id": "jH-5MYFlPiGG"
   },
   "source": [
    "## Perform image augmentation using ImageDataGenerator"
   ]
  },
  {
   "cell_type": "code",
   "execution_count": 13,
   "id": "kdVdixQDPhmW",
   "metadata": {
    "id": "kdVdixQDPhmW"
   },
   "outputs": [],
   "source": [
    "def perform_ImageDataGen_augmentation(imageDataGenerator, images, image_filenames, target_size,\n",
    "                                      augm_prefix, num_augm_images=3, augm_images_dir_path=None,\n",
    "                                      save_augm_image=True, display_orig_augm_images=False):\n",
    "    \"\"\" Function to create augmented images from images using imageDataGenerator\n",
    "    Args:\n",
    "        1) imageDataGenerator - ImageDataGenerator class object\n",
    "        2) images - a list of images, each of which is stored as a numpy array\n",
    "        3) image_filenames - a list of image file names images (the names are used in the headers of the images that will be saved)\n",
    "        4) target_size - the size of the images\n",
    "        5) augm_prefix - prefix to be added to the beginning of the file name to indicate the augmentation technique\n",
    "        6) num_augm_images - the number of instances of augmented images for one original\n",
    "        7) augm_images_dir_path - the path to the folder where you want to save the augmented images (used if save_augm_image=True)\n",
    "        8) save_augm_image - whether to save the augmented image\n",
    "        9) display_orig_augm_images - whether to display the original and augmented image at the same time (original - left, augmented - right)\n",
    "    Returns:\n",
    "        None; but saves or displays augmented_images\n",
    "    \"\"\"\n",
    "    augmented_index = 0\n",
    "    for (image_name, img) in zip(image_filenames, images):\n",
    "        x = img.copy()\n",
    "        x = np.expand_dims(x, axis=0)\n",
    "\n",
    "        i = 0\n",
    "        for batch in datagen.flow(x, batch_size=1):\n",
    "            i += 1\n",
    "            if i > num_augm_images:\n",
    "                augmented_index = 0\n",
    "                break\n",
    "\n",
    "            augmented_image_name = f\"{augm_prefix}_{image_name.split('.')[0]}_{augmented_index}.jpg\"\n",
    "\n",
    "            augmented_index += 1\n",
    "\n",
    "            if save_augm_image and (augm_images_dir_path is not None):\n",
    "                os.makedirs(augmented_images_dir, exist_ok=True)\n",
    "                augmented_image_path = os.path.join(augmented_images_dir, augmented_image_name)\n",
    "                # tf.keras.preprocessing.image.save_img(augmented_image_path, batch[0])\n",
    "                cv2.imwrite(augmented_image_path, cv2.cvtColor(batch[0].copy().astype(np.uint8), cv2.COLOR_BGR2RGB))\n",
    "            if display_orig_augm_images:\n",
    "                display_original_augmented_img(original_img=img, augmented_img=batch[0].copy().astype(np.uint8),\n",
    "                                               original_title=f\"Original_image: {image_name}\",\n",
    "                                               augmented_title=f\"{augm_prefix}: {image_name}\")"
   ]
  },
  {
   "cell_type": "markdown",
   "id": "oewmXvvYPoS2",
   "metadata": {
    "id": "oewmXvvYPoS2"
   },
   "source": [
    "## Perform image augmentation using CV2"
   ]
  },
  {
   "cell_type": "markdown",
   "id": "5PxQiefcUULF",
   "metadata": {
    "id": "5PxQiefcUULF"
   },
   "source": [
    "### Augmentation functions"
   ]
  },
  {
   "cell_type": "code",
   "execution_count": 14,
   "id": "l42CveFAPquW",
   "metadata": {
    "id": "l42CveFAPquW"
   },
   "outputs": [],
   "source": [
    "def get_width_shift_image(image, width_shift_fraction):\n",
    "    \"\"\" Function for performing width_shift augmentation over the image 'image'\n",
    "    Args:\n",
    "        1) image - image object\n",
    "        2) width_shift_fraction - offset value ([-1; 1])\n",
    "    Returns:\n",
    "        augmented_image\n",
    "    \"\"\"\n",
    "    # Get the height and width of the image\n",
    "    height, width = image.shape[:2]\n",
    "\n",
    "    # Calculate the height shift value\n",
    "    width_shift = int(height * width_shift_fraction)\n",
    "\n",
    "    # Calculate the new y-coordinate for height shift\n",
    "    y_shifted = height // 2 + width_shift\n",
    "\n",
    "    # Calculate the rotation matrix for height shift\n",
    "    shift_matrix = np.float32([[1, 0, 0], [0, 1, width_shift]])\n",
    "\n",
    "    # Apply the height shift to the image using warpAffine\n",
    "    changed_image = cv2.warpAffine(image, shift_matrix, (width, height))\n",
    "    return changed_image"
   ]
  },
  {
   "cell_type": "code",
   "execution_count": 15,
   "id": "yjmv3HHoPtqd",
   "metadata": {
    "id": "yjmv3HHoPtqd"
   },
   "outputs": [],
   "source": [
    "def get_height_shift_image(image, height_shift_fraction):\n",
    "    \"\"\" Function for performing height_shift augmentation over the image 'image'\n",
    "    Args:\n",
    "        1) image - image object\n",
    "        2) height_shift_fraction - offset value ([-1; 1])\n",
    "    Returns:\n",
    "        augmented_image\n",
    "    \"\"\"\n",
    "    # Get the height and width of the image\n",
    "    height, width = image.shape[:2]\n",
    "\n",
    "    # Calculate the height shift value\n",
    "    height_shift = int(width * height_shift_fraction)\n",
    "\n",
    "    # Calculate the new x-coordinate for height shift\n",
    "    x_shifted = width // 2 + height_shift\n",
    "\n",
    "    # Calculate the rotation matrix for height shift\n",
    "    shift_matrix = np.float32([[1, 0, height_shift], [0, 1, 0]])\n",
    "\n",
    "    # Apply the height shift to the image using warpAffine\n",
    "    changed_image = cv2.warpAffine(image, shift_matrix, (width, height))\n",
    "    return changed_image"
   ]
  },
  {
   "cell_type": "code",
   "execution_count": 16,
   "id": "eG8FTDtWPwGe",
   "metadata": {
    "id": "eG8FTDtWPwGe"
   },
   "outputs": [],
   "source": [
    "def get_brightness_augmentation_image(image, brightness_range=(0.5, 1.5)):\n",
    "    # Convert the image to HSV color space\n",
    "    hsv = cv2.cvtColor(image, cv2.COLOR_BGR2HSV)\n",
    "\n",
    "    # Generate a random brightness factor within the specified range\n",
    "    brightness_factor = np.random.uniform(brightness_range[0], brightness_range[1])\n",
    "\n",
    "    # Adjust the brightness by scaling the V channel\n",
    "    hsv[:, :, 2] = np.clip(hsv[:, :, 2] * brightness_factor, 0, 255)\n",
    "\n",
    "    # Convert the image back to the original color space (BGR)\n",
    "    augmented_image = cv2.cvtColor(hsv, cv2.COLOR_HSV2BGR)\n",
    "\n",
    "    return augmented_image"
   ]
  },
  {
   "cell_type": "code",
   "execution_count": 17,
   "id": "2tYCvwyDPx3V",
   "metadata": {
    "id": "2tYCvwyDPx3V"
   },
   "outputs": [],
   "source": [
    "def get_contrast_augmentation_image(image, contrast_factor):\n",
    "    \"\"\" Function for performing height_shift augmentation over the image 'image'\n",
    "    Args:\n",
    "        1) image - image object\n",
    "        2) contrast_factor - adjusts the contrast of the image by applying CLAHE; possible values: [1.0; 4.0]\n",
    "    Returns:\n",
    "        augmented_image\n",
    "    \"\"\"\n",
    "    # Convert the image to LAB color space\n",
    "    lab = cv2.cvtColor(image, cv2.COLOR_BGR2LAB)\n",
    "\n",
    "    # Split the LAB image into L, A, and B channels\n",
    "    l, a, b = cv2.split(lab)\n",
    "\n",
    "    # Apply CLAHE (Contrast Limited Adaptive Histogram Equalization) to the L channel\n",
    "    clahe = cv2.createCLAHE(clipLimit=contrast_factor, tileGridSize=(8, 8))\n",
    "    cl = clahe.apply(l)\n",
    "\n",
    "    # Merge the CLAHE enhanced L channel with the original A and B channels\n",
    "    limg = cv2.merge((cl, a, b))\n",
    "\n",
    "    # Convert the LAB image back to BGR color space\n",
    "    contrast_augmented_image = cv2.cvtColor(limg, cv2.COLOR_LAB2BGR)\n",
    "\n",
    "    return contrast_augmented_image"
   ]
  },
  {
   "cell_type": "code",
   "execution_count": 18,
   "id": "KqcGVI2NP1j-",
   "metadata": {
    "id": "KqcGVI2NP1j-"
   },
   "outputs": [],
   "source": [
    "def get_hsv_image(image, hue_shift, saturation_scale=1, value_scale=1):\n",
    "    \"\"\" Function to change the color tone of the image when switching to the HSV model\n",
    "    Args:\n",
    "        1) image - image object\n",
    "        2) hue_shift - the value of the Hue parameter of the hsv model; possible values: [0; 179] (OpenCV)\n",
    "        3) saturation_scale - coefficient by which the Saturation parameter of the HSV model will be multiplied\n",
    "        4) value_scale - coefficient by which the Value parameter of the HSV model will be multiplied\n",
    "    Returns:\n",
    "        augmented_image\n",
    "    \"\"\"\n",
    "    # Convert the original image to the HSV color space\n",
    "    hsv_image = cv2.cvtColor(image, cv2.COLOR_BGR2HSV)\n",
    "\n",
    "    # Apply the hue shift to the hue channel\n",
    "    hsv_image[:, :, 0] = (hsv_image[:, :, 0] + hue_shift) % 180\n",
    "    hsv_image[:, :, 1] = np.clip(hsv_image[:, :, 1] * saturation_scale, 0, 255)\n",
    "    hsv_image[:, :, 2] = np.clip(hsv_image[:, :, 2] * value_scale, 0, 255)\n",
    "\n",
    "    # Convert the image back to the RGB color space\n",
    "    augmented_image = cv2.cvtColor(hsv_image, cv2.COLOR_HSV2RGB)\n",
    "    return augmented_image"
   ]
  },
  {
   "cell_type": "markdown",
   "id": "cwXhFVwTUYPI",
   "metadata": {
    "id": "cwXhFVwTUYPI"
   },
   "source": [
    "### Augmentation algorithms"
   ]
  },
  {
   "cell_type": "code",
   "execution_count": 19,
   "id": "OBXdj3gTUbgd",
   "metadata": {
    "id": "OBXdj3gTUbgd"
   },
   "outputs": [],
   "source": [
    "def perform_cv2_rotation_augmentation(rotation_range, images, image_filenames,\n",
    "                                      target_size, augm_prefix,\n",
    "                                      num_augm_images=3, augm_images_dir_path=None,\n",
    "                                      save_augm_image=True, display_orig_augm_images=False):\n",
    "    \"\"\" Function to create augmented images from images using imageDataGenerator\n",
    "    Args:\n",
    "        1) rotation_range - the range (a list of two elements: [range_min; range_max]) in which the angle value will change linearly (depending on num_augm_images)\n",
    "        2) images - a list of images, each of which is stored as a numpy array\n",
    "        3) image_filenames - a list of image file names images (the names are used in the headers of the images that will be saved)\n",
    "        4) target_size - the size of the images\n",
    "        5) augm_prefix - prefix to be added to the beginning of the file name to indicate the augmentation technique\n",
    "        6) num_augm_images - the number of instances of augmented images for one original\n",
    "        7) augm_images_dir_path - the path to the folder where you want to save the augmented images (used if save_augm_image=True)\n",
    "        8) save_augm_image - whether to save the augmented image\n",
    "        9) display_orig_augm_images - whether to display the original and augmented image at the same time (original - left, augmented - right)\n",
    "    Returns:\n",
    "        None; but saves or displays augmented_images\n",
    "    \"\"\"\n",
    "    height = target_size[0]\n",
    "    width = target_size[1]\n",
    "    angle_increment = int((rotation_range[1] - rotation_range[0]) / num_augm_images)\n",
    "    for (image_name, img) in zip(image_filenames, images):\n",
    "        augmented_index = 0\n",
    "        angle = rotation_range[0]\n",
    "        for i in range(num_augm_images):\n",
    "            # Calculate the rotation matrix\n",
    "            rotation_matrix = cv2.getRotationMatrix2D((width / 2, height / 2), angle, 1)\n",
    "\n",
    "            # Apply the rotation to the image using warpAffine\n",
    "            augmented_image = cv2.warpAffine(img, rotation_matrix, (width, height))\n",
    "            augmented_image_name = f\"{augm_prefix}_{image_name.split('.')[0]}_{augmented_index}.jpg\"\n",
    "            augmented_index += 1\n",
    "            angle += angle_increment\n",
    "            if angle == 0:\n",
    "                angle += angle_increment\n",
    "\n",
    "            if save_augm_image and (augm_images_dir_path is not None):\n",
    "                os.makedirs(augm_images_dir_path, exist_ok=True)\n",
    "                augmented_image_path = os.path.join(augm_images_dir_path, augmented_image_name)\n",
    "                cv2.imwrite(augmented_image_path, cv2.cvtColor(augmented_image, cv2.COLOR_BGR2RGB))\n",
    "            if display_orig_augm_images:\n",
    "                display_original_augmented_img(original_img=img, augmented_img=augmented_image,\n",
    "                                               original_title=f\"Original_image: {image_name}\",\n",
    "                                               augmented_title=f\"{augm_prefix}: {image_name}\")"
   ]
  },
  {
   "cell_type": "code",
   "execution_count": 20,
   "id": "dAaU8XHhUeAG",
   "metadata": {
    "id": "dAaU8XHhUeAG"
   },
   "outputs": [],
   "source": [
    "def perform_cv2_flip_augmentation(flip_code, images, image_filenames,\n",
    "                                  target_size, augm_prefix,\n",
    "                                  num_augm_images=3, augm_images_dir_path=None,\n",
    "                                  save_augm_image=True, display_orig_augm_images=False):\n",
    "    \"\"\" Function to create augmented images from images using imageDataGenerator\n",
    "    Args:\n",
    "        1) flip_code - the type of flip augmentation to perform on the image: 0 - vertical, 1 - horizontal\n",
    "        2) images - a list of images, each of which is stored as a numpy array\n",
    "        3) image_filenames - a list of image file names images (the names are used in the headers of the images that will be saved)\n",
    "        4) target_size - the size of the images\n",
    "        5) augm_prefix - prefix to be added to the beginning of the file name to indicate the augmentation technique\n",
    "        6) num_augm_images - the number of instances of augmented images for one original\n",
    "        7) augm_images_dir_path - the path to the folder where you want to save the augmented images (used if save_augm_image=True)\n",
    "        8) save_augm_image - whether to save the augmented image\n",
    "        9) display_orig_augm_images - whether to display the original and augmented image at the same time (original - left, augmented - right)\n",
    "    Returns:\n",
    "        None; but saves or displays augmented_images\n",
    "    \"\"\"\n",
    "\n",
    "    for (image_name, img) in zip(image_filenames, images):\n",
    "        augmented_index = 0\n",
    "        for i in range(num_augm_images):\n",
    "            augmented_image = cv2.flip(img.copy(), flip_code)\n",
    "\n",
    "            augmented_image_name = f\"{augm_prefix}_{image_name.split('.')[0]}_{augmented_index}.jpg\"\n",
    "            augmented_index += 1\n",
    "\n",
    "            if save_augm_image and (augm_images_dir_path is not None):\n",
    "                os.makedirs(augmented_images_dir, exist_ok=True)\n",
    "                augmented_image_path = os.path.join(augmented_images_dir, augmented_image_name)\n",
    "                cv2.imwrite(augmented_image_path, cv2.cvtColor(augmented_image, cv2.COLOR_BGR2RGB))\n",
    "            if display_orig_augm_images:\n",
    "                display_original_augmented_img(original_img=img, augmented_img=augmented_image,\n",
    "                                               original_title=f\"Original_image: {image_name}\",\n",
    "                                               augmented_title=f\"{augm_prefix}: {image_name}\")"
   ]
  },
  {
   "cell_type": "markdown",
   "id": "dbf37818-0dab-4224-a771-2ed14b1bb34c",
   "metadata": {
    "id": "dbf37818-0dab-4224-a771-2ed14b1bb34c"
   },
   "source": [
    "## Model training"
   ]
  },
  {
   "cell_type": "code",
   "execution_count": 21,
   "id": "ed0c44e8-5a2a-41e0-8566-539bc6c81bba",
   "metadata": {
    "id": "ed0c44e8-5a2a-41e0-8566-539bc6c81bba"
   },
   "outputs": [],
   "source": [
    "def plot_graphs(history, strings, filename=None):\n",
    "    \"\"\"Function to plot graphs for two training history parameters (eg accuracy and loss)\n",
    "    Args:\n",
    "        1) history - model training history\n",
    "        2) strings - an array of names of history parameters (only the data of the first two history parameters specified in this array will be taken for graphing)\n",
    "        3) filename - the relative path where the file will be saved (with the file name, the file extension is not required) or just the filename\n",
    "    \"\"\"\n",
    "    fig, axes = plt.subplots(1, 2, figsize=(12, 6))\n",
    "    axes[0].plot(history.history[strings[0]], label=strings[0])\n",
    "    axes[0].plot(history.history[f\"val_{strings[0]}\"], label=f\"val_{strings[0]}\")\n",
    "    axes[0].set_xlabel('Epochs')\n",
    "    axes[0].set_ylabel(strings[0])\n",
    "    axes[0].legend()\n",
    "\n",
    "    axes[1].plot(history.history[strings[1]], label=strings[1])\n",
    "    axes[1].plot(history.history[f\"val_{strings[1]}\"], label=f\"val_{strings[1]}\")\n",
    "    axes[1].set_xlabel('Epochs')\n",
    "    axes[1].set_ylabel(strings[1])\n",
    "    axes[1].legend()\n",
    "\n",
    "    if filename:\n",
    "        plt.savefig(f\"{filename}.png\", bbox_inches='tight')\n",
    "    plt.show()"
   ]
  },
  {
   "cell_type": "markdown",
   "id": "099e9f3d-af53-4f7d-92ac-f6347091c448",
   "metadata": {
    "id": "099e9f3d-af53-4f7d-92ac-f6347091c448",
    "jp-MarkdownHeadingCollapsed": true,
    "tags": []
   },
   "source": [
    "# Load data"
   ]
  },
  {
   "cell_type": "code",
   "execution_count": 22,
   "id": "089707ba-256c-4e27-9a65-c764999f41ac",
   "metadata": {
    "id": "089707ba-256c-4e27-9a65-c764999f41ac"
   },
   "outputs": [],
   "source": [
    "source_path = '/content/Garbage classification/Garbage classification'\n",
    "\n",
    "source_path_cardboard = os.path.join(source_path, 'cardboard')\n",
    "source_path_glass = os.path.join(source_path, 'glass')\n",
    "source_path_metal = os.path.join(source_path, 'metal')\n",
    "source_path_paper = os.path.join(source_path, 'paper')\n",
    "source_path_plastic = os.path.join(source_path, 'plastic')\n",
    "source_path_trash = os.path.join(source_path, 'trash')"
   ]
  },
  {
   "cell_type": "code",
   "execution_count": 23,
   "id": "6808b080-50b3-423d-aca4-60fc14129e79",
   "metadata": {
    "id": "6808b080-50b3-423d-aca4-60fc14129e79"
   },
   "outputs": [],
   "source": [
    "cardboard_image_names = os.listdir(source_path_cardboard)\n",
    "glass_image_names = os.listdir(source_path_glass)\n",
    "metal_image_names = os.listdir(source_path_metal)\n",
    "paper_image_names = os.listdir(source_path_paper)\n",
    "plastic_image_names = os.listdir(source_path_plastic)\n",
    "trash_image_names = os.listdir(source_path_trash)"
   ]
  },
  {
   "cell_type": "code",
   "execution_count": 24,
   "id": "c8a4b24a-5a1b-4108-ba5a-70397d4e711a",
   "metadata": {
    "colab": {
     "base_uri": "https://localhost:8080/"
    },
    "id": "c8a4b24a-5a1b-4108-ba5a-70397d4e711a",
    "outputId": "7acaa58d-c2c4-4f93-b0d8-cf648a5494a3"
   },
   "outputs": [
    {
     "name": "stdout",
     "output_type": "stream",
     "text": [
      "There are 403 images of cardboard.\n",
      "There are 501 images of glass.\n",
      "There are 410 images of metal.\n",
      "There are 594 images of paper.\n",
      "There are 482 images of plastic.\n",
      "There are 137 images of trash.\n"
     ]
    }
   ],
   "source": [
    "print(f\"There are {len(cardboard_image_names)} images of cardboard.\") # 403\n",
    "print(f\"There are {len(glass_image_names)} images of glass.\") # 501\n",
    "print(f\"There are {len(metal_image_names)} images of metal.\") # 410\n",
    "print(f\"There are {len(paper_image_names)} images of paper.\") # 594\n",
    "print(f\"There are {len(plastic_image_names)} images of plastic.\") # 482\n",
    "print(f\"There are {len(trash_image_names)} images of trash.\") # 137"
   ]
  },
  {
   "cell_type": "markdown",
   "id": "a9d3365a-13fe-480a-b5a1-a73191acca39",
   "metadata": {
    "id": "a9d3365a-13fe-480a-b5a1-a73191acca39"
   },
   "source": [
    "## Display classes distribution"
   ]
  },
  {
   "cell_type": "code",
   "execution_count": 25,
   "id": "7969d554-c740-45fe-800a-b886f9cbf94f",
   "metadata": {
    "colab": {
     "base_uri": "https://localhost:8080/"
    },
    "id": "7969d554-c740-45fe-800a-b886f9cbf94f",
    "outputId": "2ceb8fbf-79c3-4db2-f479-05cacc0c2e6d"
   },
   "outputs": [
    {
     "name": "stdout",
     "output_type": "stream",
     "text": [
      "There are 403 images of cardboard.\n",
      "There are 501 images of glass.\n",
      "There are 410 images of metal.\n",
      "There are 594 images of paper.\n",
      "There are 482 images of plastic.\n",
      "There are 137 images of trash.\n"
     ]
    }
   ],
   "source": [
    "classes_representatives = {'cardboard': len(cardboard_image_names),\n",
    "                           'glass': len(glass_image_names),\n",
    "                           'metal': len(metal_image_names),\n",
    "                           'paper': len(paper_image_names),\n",
    "                           'plastic': len(plastic_image_names),\n",
    "                           'trash': len(trash_image_names)\n",
    "                          }\n",
    "for label_class in classes_representatives.keys():\n",
    "    print(f\"There are {classes_representatives[label_class]} images of {label_class}.\")"
   ]
  },
  {
   "cell_type": "code",
   "execution_count": 26,
   "id": "a8925c56-c641-491b-8937-d069eddbe8a1",
   "metadata": {
    "colab": {
     "base_uri": "https://localhost:8080/",
     "height": 0
    },
    "id": "a8925c56-c641-491b-8937-d069eddbe8a1",
    "outputId": "63c8e93a-abbc-4fea-97aa-c0016531e3e8"
   },
   "outputs": [
    {
     "data": {
      "text/html": [
       "\n",
       "  <div id=\"df-0ad7c433-b003-4330-933c-1422eac89b91\" class=\"colab-df-container\">\n",
       "    <div>\n",
       "<style scoped>\n",
       "    .dataframe tbody tr th:only-of-type {\n",
       "        vertical-align: middle;\n",
       "    }\n",
       "\n",
       "    .dataframe tbody tr th {\n",
       "        vertical-align: top;\n",
       "    }\n",
       "\n",
       "    .dataframe thead th {\n",
       "        text-align: right;\n",
       "    }\n",
       "</style>\n",
       "<table border=\"1\" class=\"dataframe\">\n",
       "  <thead>\n",
       "    <tr style=\"text-align: right;\">\n",
       "      <th></th>\n",
       "      <th>class</th>\n",
       "      <th>count</th>\n",
       "    </tr>\n",
       "  </thead>\n",
       "  <tbody>\n",
       "    <tr>\n",
       "      <th>0</th>\n",
       "      <td>cardboard</td>\n",
       "      <td>403</td>\n",
       "    </tr>\n",
       "    <tr>\n",
       "      <th>1</th>\n",
       "      <td>glass</td>\n",
       "      <td>501</td>\n",
       "    </tr>\n",
       "    <tr>\n",
       "      <th>2</th>\n",
       "      <td>metal</td>\n",
       "      <td>410</td>\n",
       "    </tr>\n",
       "    <tr>\n",
       "      <th>3</th>\n",
       "      <td>paper</td>\n",
       "      <td>594</td>\n",
       "    </tr>\n",
       "    <tr>\n",
       "      <th>4</th>\n",
       "      <td>plastic</td>\n",
       "      <td>482</td>\n",
       "    </tr>\n",
       "    <tr>\n",
       "      <th>5</th>\n",
       "      <td>trash</td>\n",
       "      <td>137</td>\n",
       "    </tr>\n",
       "  </tbody>\n",
       "</table>\n",
       "</div>\n",
       "    <div class=\"colab-df-buttons\">\n",
       "\n",
       "  <div class=\"colab-df-container\">\n",
       "    <button class=\"colab-df-convert\" onclick=\"convertToInteractive('df-0ad7c433-b003-4330-933c-1422eac89b91')\"\n",
       "            title=\"Convert this dataframe to an interactive table.\"\n",
       "            style=\"display:none;\">\n",
       "\n",
       "  <svg xmlns=\"http://www.w3.org/2000/svg\" height=\"24px\" viewBox=\"0 -960 960 960\">\n",
       "    <path d=\"M120-120v-720h720v720H120Zm60-500h600v-160H180v160Zm220 220h160v-160H400v160Zm0 220h160v-160H400v160ZM180-400h160v-160H180v160Zm440 0h160v-160H620v160ZM180-180h160v-160H180v160Zm440 0h160v-160H620v160Z\"/>\n",
       "  </svg>\n",
       "    </button>\n",
       "\n",
       "  <style>\n",
       "    .colab-df-container {\n",
       "      display:flex;\n",
       "      gap: 12px;\n",
       "    }\n",
       "\n",
       "    .colab-df-convert {\n",
       "      background-color: #E8F0FE;\n",
       "      border: none;\n",
       "      border-radius: 50%;\n",
       "      cursor: pointer;\n",
       "      display: none;\n",
       "      fill: #1967D2;\n",
       "      height: 32px;\n",
       "      padding: 0 0 0 0;\n",
       "      width: 32px;\n",
       "    }\n",
       "\n",
       "    .colab-df-convert:hover {\n",
       "      background-color: #E2EBFA;\n",
       "      box-shadow: 0px 1px 2px rgba(60, 64, 67, 0.3), 0px 1px 3px 1px rgba(60, 64, 67, 0.15);\n",
       "      fill: #174EA6;\n",
       "    }\n",
       "\n",
       "    .colab-df-buttons div {\n",
       "      margin-bottom: 4px;\n",
       "    }\n",
       "\n",
       "    [theme=dark] .colab-df-convert {\n",
       "      background-color: #3B4455;\n",
       "      fill: #D2E3FC;\n",
       "    }\n",
       "\n",
       "    [theme=dark] .colab-df-convert:hover {\n",
       "      background-color: #434B5C;\n",
       "      box-shadow: 0px 1px 3px 1px rgba(0, 0, 0, 0.15);\n",
       "      filter: drop-shadow(0px 1px 2px rgba(0, 0, 0, 0.3));\n",
       "      fill: #FFFFFF;\n",
       "    }\n",
       "  </style>\n",
       "\n",
       "    <script>\n",
       "      const buttonEl =\n",
       "        document.querySelector('#df-0ad7c433-b003-4330-933c-1422eac89b91 button.colab-df-convert');\n",
       "      buttonEl.style.display =\n",
       "        google.colab.kernel.accessAllowed ? 'block' : 'none';\n",
       "\n",
       "      async function convertToInteractive(key) {\n",
       "        const element = document.querySelector('#df-0ad7c433-b003-4330-933c-1422eac89b91');\n",
       "        const dataTable =\n",
       "          await google.colab.kernel.invokeFunction('convertToInteractive',\n",
       "                                                    [key], {});\n",
       "        if (!dataTable) return;\n",
       "\n",
       "        const docLinkHtml = 'Like what you see? Visit the ' +\n",
       "          '<a target=\"_blank\" href=https://colab.research.google.com/notebooks/data_table.ipynb>data table notebook</a>'\n",
       "          + ' to learn more about interactive tables.';\n",
       "        element.innerHTML = '';\n",
       "        dataTable['output_type'] = 'display_data';\n",
       "        await google.colab.output.renderOutput(dataTable, element);\n",
       "        const docLink = document.createElement('div');\n",
       "        docLink.innerHTML = docLinkHtml;\n",
       "        element.appendChild(docLink);\n",
       "      }\n",
       "    </script>\n",
       "  </div>\n",
       "\n",
       "\n",
       "<div id=\"df-a17515aa-20cd-4bfe-99b6-2f1abdac09a1\">\n",
       "  <button class=\"colab-df-quickchart\" onclick=\"quickchart('df-a17515aa-20cd-4bfe-99b6-2f1abdac09a1')\"\n",
       "            title=\"Suggest charts.\"\n",
       "            style=\"display:none;\">\n",
       "\n",
       "<svg xmlns=\"http://www.w3.org/2000/svg\" height=\"24px\"viewBox=\"0 0 24 24\"\n",
       "     width=\"24px\">\n",
       "    <g>\n",
       "        <path d=\"M19 3H5c-1.1 0-2 .9-2 2v14c0 1.1.9 2 2 2h14c1.1 0 2-.9 2-2V5c0-1.1-.9-2-2-2zM9 17H7v-7h2v7zm4 0h-2V7h2v10zm4 0h-2v-4h2v4z\"/>\n",
       "    </g>\n",
       "</svg>\n",
       "  </button>\n",
       "\n",
       "<style>\n",
       "  .colab-df-quickchart {\n",
       "      --bg-color: #E8F0FE;\n",
       "      --fill-color: #1967D2;\n",
       "      --hover-bg-color: #E2EBFA;\n",
       "      --hover-fill-color: #174EA6;\n",
       "      --disabled-fill-color: #AAA;\n",
       "      --disabled-bg-color: #DDD;\n",
       "  }\n",
       "\n",
       "  [theme=dark] .colab-df-quickchart {\n",
       "      --bg-color: #3B4455;\n",
       "      --fill-color: #D2E3FC;\n",
       "      --hover-bg-color: #434B5C;\n",
       "      --hover-fill-color: #FFFFFF;\n",
       "      --disabled-bg-color: #3B4455;\n",
       "      --disabled-fill-color: #666;\n",
       "  }\n",
       "\n",
       "  .colab-df-quickchart {\n",
       "    background-color: var(--bg-color);\n",
       "    border: none;\n",
       "    border-radius: 50%;\n",
       "    cursor: pointer;\n",
       "    display: none;\n",
       "    fill: var(--fill-color);\n",
       "    height: 32px;\n",
       "    padding: 0;\n",
       "    width: 32px;\n",
       "  }\n",
       "\n",
       "  .colab-df-quickchart:hover {\n",
       "    background-color: var(--hover-bg-color);\n",
       "    box-shadow: 0 1px 2px rgba(60, 64, 67, 0.3), 0 1px 3px 1px rgba(60, 64, 67, 0.15);\n",
       "    fill: var(--button-hover-fill-color);\n",
       "  }\n",
       "\n",
       "  .colab-df-quickchart-complete:disabled,\n",
       "  .colab-df-quickchart-complete:disabled:hover {\n",
       "    background-color: var(--disabled-bg-color);\n",
       "    fill: var(--disabled-fill-color);\n",
       "    box-shadow: none;\n",
       "  }\n",
       "\n",
       "  .colab-df-spinner {\n",
       "    border: 2px solid var(--fill-color);\n",
       "    border-color: transparent;\n",
       "    border-bottom-color: var(--fill-color);\n",
       "    animation:\n",
       "      spin 1s steps(1) infinite;\n",
       "  }\n",
       "\n",
       "  @keyframes spin {\n",
       "    0% {\n",
       "      border-color: transparent;\n",
       "      border-bottom-color: var(--fill-color);\n",
       "      border-left-color: var(--fill-color);\n",
       "    }\n",
       "    20% {\n",
       "      border-color: transparent;\n",
       "      border-left-color: var(--fill-color);\n",
       "      border-top-color: var(--fill-color);\n",
       "    }\n",
       "    30% {\n",
       "      border-color: transparent;\n",
       "      border-left-color: var(--fill-color);\n",
       "      border-top-color: var(--fill-color);\n",
       "      border-right-color: var(--fill-color);\n",
       "    }\n",
       "    40% {\n",
       "      border-color: transparent;\n",
       "      border-right-color: var(--fill-color);\n",
       "      border-top-color: var(--fill-color);\n",
       "    }\n",
       "    60% {\n",
       "      border-color: transparent;\n",
       "      border-right-color: var(--fill-color);\n",
       "    }\n",
       "    80% {\n",
       "      border-color: transparent;\n",
       "      border-right-color: var(--fill-color);\n",
       "      border-bottom-color: var(--fill-color);\n",
       "    }\n",
       "    90% {\n",
       "      border-color: transparent;\n",
       "      border-bottom-color: var(--fill-color);\n",
       "    }\n",
       "  }\n",
       "</style>\n",
       "\n",
       "  <script>\n",
       "    async function quickchart(key) {\n",
       "      const quickchartButtonEl =\n",
       "        document.querySelector('#' + key + ' button');\n",
       "      quickchartButtonEl.disabled = true;  // To prevent multiple clicks.\n",
       "      quickchartButtonEl.classList.add('colab-df-spinner');\n",
       "      try {\n",
       "        const charts = await google.colab.kernel.invokeFunction(\n",
       "            'suggestCharts', [key], {});\n",
       "      } catch (error) {\n",
       "        console.error('Error during call to suggestCharts:', error);\n",
       "      }\n",
       "      quickchartButtonEl.classList.remove('colab-df-spinner');\n",
       "      quickchartButtonEl.classList.add('colab-df-quickchart-complete');\n",
       "    }\n",
       "    (() => {\n",
       "      let quickchartButtonEl =\n",
       "        document.querySelector('#df-a17515aa-20cd-4bfe-99b6-2f1abdac09a1 button');\n",
       "      quickchartButtonEl.style.display =\n",
       "        google.colab.kernel.accessAllowed ? 'block' : 'none';\n",
       "    })();\n",
       "  </script>\n",
       "</div>\n",
       "    </div>\n",
       "  </div>\n"
      ],
      "text/plain": [
       "       class  count\n",
       "0  cardboard    403\n",
       "1      glass    501\n",
       "2      metal    410\n",
       "3      paper    594\n",
       "4    plastic    482\n",
       "5      trash    137"
      ]
     },
     "execution_count": 26,
     "metadata": {},
     "output_type": "execute_result"
    }
   ],
   "source": [
    "classes_df = pd.DataFrame(list(classes_representatives.items()), columns=['class', 'count'])\n",
    "classes_df"
   ]
  },
  {
   "cell_type": "code",
   "execution_count": 27,
   "id": "95be70e4-b5f7-4d75-8f22-3523543856c1",
   "metadata": {
    "colab": {
     "base_uri": "https://localhost:8080/",
     "height": 0
    },
    "id": "95be70e4-b5f7-4d75-8f22-3523543856c1",
    "outputId": "0c185755-f59e-486e-bb09-7082f3574d10"
   },
   "outputs": [
    {
     "data": {
      "image/png": "[encoded data removed]",
      "text/plain": [
       "<Figure size 1000x500 with 1 Axes>"
      ]
     },
     "metadata": {},
     "output_type": "display_data"
    }
   ],
   "source": [
    "sns.set_style('whitegrid')\n",
    "plt.figure(figsize = (10, 5))\n",
    "sns.barplot(data=classes_df, x='class', y='count')\n",
    "plt.title('The number of representatives of the label class (Original dataset)')\n",
    "# plt.savefig('graphs/original_barplot.png')\n",
    "plt.show()"
   ]
  },
  {
   "cell_type": "code",
   "execution_count": 28,
   "id": "3fa744ad-2bad-4bb6-b941-880a0766cddc",
   "metadata": {
    "colab": {
     "base_uri": "https://localhost:8080/",
     "height": 0
    },
    "id": "3fa744ad-2bad-4bb6-b941-880a0766cddc",
    "outputId": "f5913a1b-423f-477c-88b4-2def082b6234"
   },
   "outputs": [
    {
     "data": {
      "image/png": "[encoded data removed]",
      "text/plain": [
       "<Figure size 1200x600 with 1 Axes>"
      ]
     },
     "metadata": {},
     "output_type": "display_data"
    }
   ],
   "source": [
    "display_pie_chart(df=classes_df, column_name='count', title='Percentage ratio between label classes (Original dataset)',\n",
    "                  column_contains_count=True) # filename='graphs/original_piechart'"
   ]
  },
  {
   "cell_type": "markdown",
   "id": "e59dd5b1-3054-4e06-a376-42362774907a",
   "metadata": {
    "id": "e59dd5b1-3054-4e06-a376-42362774907a",
    "jp-MarkdownHeadingCollapsed": true,
    "tags": []
   },
   "source": [
    "## Display representatives of each class"
   ]
  },
  {
   "cell_type": "markdown",
   "id": "158972c1-8c86-45a5-a767-c7b37b1b6608",
   "metadata": {
    "id": "158972c1-8c86-45a5-a767-c7b37b1b6608",
    "tags": []
   },
   "source": [
    "### Cardboard"
   ]
  },
  {
   "cell_type": "code",
   "execution_count": null,
   "id": "8c54f6cf-5e6e-4c6a-8aba-7e41a527606d",
   "metadata": {
    "id": "8c54f6cf-5e6e-4c6a-8aba-7e41a527606d"
   },
   "outputs": [],
   "source": [
    "for cardboard_image_name in cardboard_image_names[:5]:\n",
    "    load_display_image(root_path=source_path_cardboard, image_name=cardboard_image_name, title=cardboard_image_name)"
   ]
  },
  {
   "cell_type": "markdown",
   "id": "0e30e87b-01c4-4e6a-8f4e-7ef81fffec74",
   "metadata": {
    "id": "0e30e87b-01c4-4e6a-8f4e-7ef81fffec74",
    "tags": []
   },
   "source": [
    "### Glass"
   ]
  },
  {
   "cell_type": "code",
   "execution_count": null,
   "id": "146b058c-c8ae-4bd2-a99c-789900d0ed5f",
   "metadata": {
    "id": "146b058c-c8ae-4bd2-a99c-789900d0ed5f"
   },
   "outputs": [],
   "source": [
    "for glass_image_name in glass_image_names[:5]:\n",
    "    load_display_image(root_path=source_path_glass, image_name=glass_image_name, title=glass_image_name)"
   ]
  },
  {
   "cell_type": "markdown",
   "id": "a8c79431-99ee-48ee-9dc6-447e4a2db56b",
   "metadata": {
    "id": "a8c79431-99ee-48ee-9dc6-447e4a2db56b",
    "tags": []
   },
   "source": [
    "### Metal"
   ]
  },
  {
   "cell_type": "code",
   "execution_count": null,
   "id": "d111dde7-c214-4c69-aa42-58c907e167d8",
   "metadata": {
    "id": "d111dde7-c214-4c69-aa42-58c907e167d8"
   },
   "outputs": [],
   "source": [
    "for metal_image_name in metal_image_names[:5]:\n",
    "    load_display_image(root_path=source_path_metal, image_name=metal_image_name, title=metal_image_name)"
   ]
  },
  {
   "cell_type": "markdown",
   "id": "3f09ee41-db3b-4db9-825c-ae22aaa2f0ac",
   "metadata": {
    "id": "3f09ee41-db3b-4db9-825c-ae22aaa2f0ac",
    "tags": []
   },
   "source": [
    "### Paper"
   ]
  },
  {
   "cell_type": "code",
   "execution_count": null,
   "id": "0095e9ea-86af-404e-969d-d077462c81b4",
   "metadata": {
    "id": "0095e9ea-86af-404e-969d-d077462c81b4"
   },
   "outputs": [],
   "source": [
    "for paper_image_name in paper_image_names[:5]:\n",
    "    load_display_image(root_path=source_path_paper, image_name=paper_image_name, title=paper_image_name)"
   ]
  },
  {
   "cell_type": "markdown",
   "id": "7b6c2703-d81c-49b1-b6f9-0e3d8329b81a",
   "metadata": {
    "id": "7b6c2703-d81c-49b1-b6f9-0e3d8329b81a",
    "tags": []
   },
   "source": [
    "### Plastic"
   ]
  },
  {
   "cell_type": "code",
   "execution_count": null,
   "id": "5828c49e-8871-4ff3-9dff-fd8a6759bb05",
   "metadata": {
    "id": "5828c49e-8871-4ff3-9dff-fd8a6759bb05"
   },
   "outputs": [],
   "source": [
    "for plastic_image_name in plastic_image_names[:5]:\n",
    "    load_display_image(root_path=source_path_plastic, image_name=plastic_image_name, title=plastic_image_name)"
   ]
  },
  {
   "cell_type": "markdown",
   "id": "c62d1f5f-2dea-40f9-bfb9-23ad3ff89452",
   "metadata": {
    "id": "c62d1f5f-2dea-40f9-bfb9-23ad3ff89452",
    "tags": []
   },
   "source": [
    "### Trash"
   ]
  },
  {
   "cell_type": "code",
   "execution_count": null,
   "id": "1daeeab6-5043-47a2-b9bd-3b6b2eec38b6",
   "metadata": {
    "id": "1daeeab6-5043-47a2-b9bd-3b6b2eec38b6"
   },
   "outputs": [],
   "source": [
    "for trash_image_name in trash_image_names[:5]:\n",
    "    load_display_image(root_path=source_path_trash, image_name=trash_image_name, title=trash_image_name)"
   ]
  },
  {
   "cell_type": "markdown",
   "id": "94b8c9cb-0be9-44f4-9952-beb639920617",
   "metadata": {
    "id": "94b8c9cb-0be9-44f4-9952-beb639920617",
    "jp-MarkdownHeadingCollapsed": true,
    "tags": []
   },
   "source": [
    "# Split data into train, validation and test"
   ]
  },
  {
   "cell_type": "markdown",
   "id": "816fa6b4-1a9c-4020-ab88-83e2fd228a39",
   "metadata": {
    "id": "816fa6b4-1a9c-4020-ab88-83e2fd228a39"
   },
   "source": [
    "## Create folders for train/valid/test data"
   ]
  },
  {
   "cell_type": "code",
   "execution_count": 25,
   "id": "38efe25e-64ce-4075-b6b4-dd251c0550c0",
   "metadata": {
    "id": "38efe25e-64ce-4075-b6b4-dd251c0550c0"
   },
   "outputs": [],
   "source": [
    "destination_path = '/content/garbage_classification_TrainValidTest/'\n",
    "\n",
    "garbage_class_names = ['cardboard', 'glass', 'metal', 'paper', 'plastic', 'trash']\n",
    "create_train_valid_test_dirs(root_path=destination_path, subdir_names=garbage_class_names)"
   ]
  },
  {
   "cell_type": "markdown",
   "id": "70ce8b08-d600-431e-9365-395f20cf0402",
   "metadata": {
    "id": "70ce8b08-d600-431e-9365-395f20cf0402"
   },
   "source": [
    "## Split the data and save it in the appropriate folders"
   ]
  },
  {
   "cell_type": "markdown",
   "id": "8036996f-3ff8-4839-8ace-d9c5e1fbc3e5",
   "metadata": {
    "id": "8036996f-3ff8-4839-8ace-d9c5e1fbc3e5",
    "jp-MarkdownHeadingCollapsed": true,
    "tags": []
   },
   "source": [
    "### Split classes data"
   ]
  },
  {
   "cell_type": "code",
   "execution_count": 26,
   "id": "c322c4aa-2a09-4a8d-8ecd-b1d599f2d2a3",
   "metadata": {
    "colab": {
     "base_uri": "https://localhost:8080/"
    },
    "id": "c322c4aa-2a09-4a8d-8ecd-b1d599f2d2a3",
    "outputId": "0f7ad43f-ce45-41f2-bdfa-e43b516a88b8"
   },
   "outputs": [
    {
     "name": "stdout",
     "output_type": "stream",
     "text": [
      "cardboard: train = 307\n",
      "cardboard: valid = 55\n",
      "cardboard: test = 41\n",
      "\n",
      "glass: train = 382\n",
      "glass: valid = 68\n",
      "glass: test = 51\n",
      "\n",
      "metal: train = 313\n",
      "metal: valid = 56\n",
      "metal: test = 41\n",
      "\n",
      "paper: train = 453\n",
      "paper: valid = 81\n",
      "paper: test = 60\n",
      "\n",
      "plastic: train = 368\n",
      "plastic: valid = 65\n",
      "plastic: test = 49\n",
      "\n",
      "trash: train = 104\n",
      "trash: valid = 19\n",
      "trash: test = 14\n",
      "\n"
     ]
    }
   ],
   "source": [
    "train_dir_path = '/content/garbage_classification_TrainValidTest/train/'\n",
    "valid_dir_path = '/content/garbage_classification_TrainValidTest/valid/'\n",
    "test_dir_path = '/content/garbage_classification_TrainValidTest/test/'\n",
    "train_valid_test_paths = [train_dir_path, valid_dir_path, test_dir_path]\n",
    "\n",
    "for class_name in garbage_class_names:\n",
    "    split_class_data(source_dir_path=source_path, train_valid_test_paths=train_valid_test_paths,\n",
    "                 class_dir_name=class_name, train_test_split=0.9, train_valid_split=0.85, random_sample=False)\n",
    "\n",
    "    class_train_images = os.listdir(os.path.join(train_dir_path, class_name))\n",
    "    class_valid_images = os.listdir(os.path.join(valid_dir_path, class_name))\n",
    "    class_test_images = os.listdir(os.path.join(test_dir_path, class_name))\n",
    "\n",
    "    print(f\"{class_name}: train = {len(class_train_images)}\")\n",
    "    print(f\"{class_name}: valid = {len(class_valid_images)}\")\n",
    "    print(f\"{class_name}: test = {len(class_test_images)}\")\n",
    "    print(\"\")"
   ]
  },
  {
   "cell_type": "markdown",
   "id": "6c48c3ae-6c6d-4887-8c22-649ebeb751ef",
   "metadata": {
    "id": "6c48c3ae-6c6d-4887-8c22-649ebeb751ef"
   },
   "source": [
    "#### Check classes distribution after spliting"
   ]
  },
  {
   "cell_type": "code",
   "execution_count": 37,
   "id": "e92e3f70-8a46-41bc-93de-d80a10d04f51",
   "metadata": {
    "id": "e92e3f70-8a46-41bc-93de-d80a10d04f51"
   },
   "outputs": [],
   "source": [
    "garbage_class_names = ['cardboard', 'glass', 'metal', 'paper', 'plastic', 'trash']\n",
    "classes_train_dict = {}\n",
    "classes_valid_dict = {}\n",
    "classes_test_dict = {}\n",
    "for class_name in garbage_class_names:\n",
    "    classes_train_dict[class_name] = 0\n",
    "    classes_valid_dict[class_name] = 0\n",
    "    classes_test_dict[class_name] = 0"
   ]
  },
  {
   "cell_type": "code",
   "execution_count": 38,
   "id": "ae8b16fc-ad6a-4320-b11a-0b5b2c54e20d",
   "metadata": {
    "colab": {
     "base_uri": "https://localhost:8080/"
    },
    "id": "ae8b16fc-ad6a-4320-b11a-0b5b2c54e20d",
    "outputId": "87c457d8-c029-4738-bf57-f94a0c89f428"
   },
   "outputs": [
    {
     "name": "stdout",
     "output_type": "stream",
     "text": [
      "classes_train_dict = {'cardboard': 307, 'glass': 382, 'metal': 313, 'paper': 453, 'plastic': 368, 'trash': 104}\n",
      "classes_valid_dict = {'cardboard': 55, 'glass': 68, 'metal': 56, 'paper': 81, 'plastic': 65, 'trash': 19}\n",
      "classes_test_dict = {'cardboard': 41, 'glass': 51, 'metal': 41, 'paper': 60, 'plastic': 49, 'trash': 14}\n"
     ]
    }
   ],
   "source": [
    "train_dir_path = '/content/garbage_classification_TrainValidTest/train/'\n",
    "valid_dir_path = '/content/garbage_classification_TrainValidTest/valid/'\n",
    "test_dir_path = '/content/garbage_classification_TrainValidTest/test/'\n",
    "train_valid_test_paths = [train_dir_path, valid_dir_path, test_dir_path]\n",
    "\n",
    "for class_name in garbage_class_names:\n",
    "    class_train_images = os.listdir(os.path.join(train_dir_path, class_name))\n",
    "    class_valid_images = os.listdir(os.path.join(valid_dir_path, class_name))\n",
    "    class_test_images = os.listdir(os.path.join(test_dir_path, class_name))\n",
    "\n",
    "    classes_train_dict[class_name] = len(class_train_images)\n",
    "    classes_valid_dict[class_name] = len(class_valid_images)\n",
    "    classes_test_dict[class_name] = len(class_test_images)\n",
    "\n",
    "print(f\"classes_train_dict = {classes_train_dict}\")\n",
    "print(f\"classes_valid_dict = {classes_valid_dict}\")\n",
    "print(f\"classes_test_dict = {classes_test_dict}\")"
   ]
  },
  {
   "cell_type": "code",
   "execution_count": 39,
   "id": "bee2846c-8dcb-49fb-a204-df5acc35368c",
   "metadata": {
    "colab": {
     "base_uri": "https://localhost:8080/",
     "height": 237
    },
    "id": "bee2846c-8dcb-49fb-a204-df5acc35368c",
    "outputId": "886f2cdc-c551-468a-f9c8-9b5c8ba39a99"
   },
   "outputs": [
    {
     "data": {
      "text/html": [
       "\n",
       "  <div id=\"df-33a0842b-d886-4732-a9d2-02312509c3f1\" class=\"colab-df-container\">\n",
       "    <div>\n",
       "<style scoped>\n",
       "    .dataframe tbody tr th:only-of-type {\n",
       "        vertical-align: middle;\n",
       "    }\n",
       "\n",
       "    .dataframe tbody tr th {\n",
       "        vertical-align: top;\n",
       "    }\n",
       "\n",
       "    .dataframe thead th {\n",
       "        text-align: right;\n",
       "    }\n",
       "</style>\n",
       "<table border=\"1\" class=\"dataframe\">\n",
       "  <thead>\n",
       "    <tr style=\"text-align: right;\">\n",
       "      <th></th>\n",
       "      <th>class</th>\n",
       "      <th>count</th>\n",
       "    </tr>\n",
       "  </thead>\n",
       "  <tbody>\n",
       "    <tr>\n",
       "      <th>0</th>\n",
       "      <td>cardboard</td>\n",
       "      <td>307</td>\n",
       "    </tr>\n",
       "    <tr>\n",
       "      <th>1</th>\n",
       "      <td>glass</td>\n",
       "      <td>382</td>\n",
       "    </tr>\n",
       "    <tr>\n",
       "      <th>2</th>\n",
       "      <td>metal</td>\n",
       "      <td>313</td>\n",
       "    </tr>\n",
       "    <tr>\n",
       "      <th>3</th>\n",
       "      <td>paper</td>\n",
       "      <td>453</td>\n",
       "    </tr>\n",
       "    <tr>\n",
       "      <th>4</th>\n",
       "      <td>plastic</td>\n",
       "      <td>368</td>\n",
       "    </tr>\n",
       "    <tr>\n",
       "      <th>5</th>\n",
       "      <td>trash</td>\n",
       "      <td>104</td>\n",
       "    </tr>\n",
       "  </tbody>\n",
       "</table>\n",
       "</div>\n",
       "    <div class=\"colab-df-buttons\">\n",
       "\n",
       "  <div class=\"colab-df-container\">\n",
       "    <button class=\"colab-df-convert\" onclick=\"convertToInteractive('df-33a0842b-d886-4732-a9d2-02312509c3f1')\"\n",
       "            title=\"Convert this dataframe to an interactive table.\"\n",
       "            style=\"display:none;\">\n",
       "\n",
       "  <svg xmlns=\"http://www.w3.org/2000/svg\" height=\"24px\" viewBox=\"0 -960 960 960\">\n",
       "    <path d=\"M120-120v-720h720v720H120Zm60-500h600v-160H180v160Zm220 220h160v-160H400v160Zm0 220h160v-160H400v160ZM180-400h160v-160H180v160Zm440 0h160v-160H620v160ZM180-180h160v-160H180v160Zm440 0h160v-160H620v160Z\"/>\n",
       "  </svg>\n",
       "    </button>\n",
       "\n",
       "  <style>\n",
       "    .colab-df-container {\n",
       "      display:flex;\n",
       "      gap: 12px;\n",
       "    }\n",
       "\n",
       "    .colab-df-convert {\n",
       "      background-color: #E8F0FE;\n",
       "      border: none;\n",
       "      border-radius: 50%;\n",
       "      cursor: pointer;\n",
       "      display: none;\n",
       "      fill: #1967D2;\n",
       "      height: 32px;\n",
       "      padding: 0 0 0 0;\n",
       "      width: 32px;\n",
       "    }\n",
       "\n",
       "    .colab-df-convert:hover {\n",
       "      background-color: #E2EBFA;\n",
       "      box-shadow: 0px 1px 2px rgba(60, 64, 67, 0.3), 0px 1px 3px 1px rgba(60, 64, 67, 0.15);\n",
       "      fill: #174EA6;\n",
       "    }\n",
       "\n",
       "    .colab-df-buttons div {\n",
       "      margin-bottom: 4px;\n",
       "    }\n",
       "\n",
       "    [theme=dark] .colab-df-convert {\n",
       "      background-color: #3B4455;\n",
       "      fill: #D2E3FC;\n",
       "    }\n",
       "\n",
       "    [theme=dark] .colab-df-convert:hover {\n",
       "      background-color: #434B5C;\n",
       "      box-shadow: 0px 1px 3px 1px rgba(0, 0, 0, 0.15);\n",
       "      filter: drop-shadow(0px 1px 2px rgba(0, 0, 0, 0.3));\n",
       "      fill: #FFFFFF;\n",
       "    }\n",
       "  </style>\n",
       "\n",
       "    <script>\n",
       "      const buttonEl =\n",
       "        document.querySelector('#df-33a0842b-d886-4732-a9d2-02312509c3f1 button.colab-df-convert');\n",
       "      buttonEl.style.display =\n",
       "        google.colab.kernel.accessAllowed ? 'block' : 'none';\n",
       "\n",
       "      async function convertToInteractive(key) {\n",
       "        const element = document.querySelector('#df-33a0842b-d886-4732-a9d2-02312509c3f1');\n",
       "        const dataTable =\n",
       "          await google.colab.kernel.invokeFunction('convertToInteractive',\n",
       "                                                    [key], {});\n",
       "        if (!dataTable) return;\n",
       "\n",
       "        const docLinkHtml = 'Like what you see? Visit the ' +\n",
       "          '<a target=\"_blank\" href=https://colab.research.google.com/notebooks/data_table.ipynb>data table notebook</a>'\n",
       "          + ' to learn more about interactive tables.';\n",
       "        element.innerHTML = '';\n",
       "        dataTable['output_type'] = 'display_data';\n",
       "        await google.colab.output.renderOutput(dataTable, element);\n",
       "        const docLink = document.createElement('div');\n",
       "        docLink.innerHTML = docLinkHtml;\n",
       "        element.appendChild(docLink);\n",
       "      }\n",
       "    </script>\n",
       "  </div>\n",
       "\n",
       "\n",
       "<div id=\"df-137538ec-8be6-4d17-8c60-93217d09dfe2\">\n",
       "  <button class=\"colab-df-quickchart\" onclick=\"quickchart('df-137538ec-8be6-4d17-8c60-93217d09dfe2')\"\n",
       "            title=\"Suggest charts.\"\n",
       "            style=\"display:none;\">\n",
       "\n",
       "<svg xmlns=\"http://www.w3.org/2000/svg\" height=\"24px\"viewBox=\"0 0 24 24\"\n",
       "     width=\"24px\">\n",
       "    <g>\n",
       "        <path d=\"M19 3H5c-1.1 0-2 .9-2 2v14c0 1.1.9 2 2 2h14c1.1 0 2-.9 2-2V5c0-1.1-.9-2-2-2zM9 17H7v-7h2v7zm4 0h-2V7h2v10zm4 0h-2v-4h2v4z\"/>\n",
       "    </g>\n",
       "</svg>\n",
       "  </button>\n",
       "\n",
       "<style>\n",
       "  .colab-df-quickchart {\n",
       "      --bg-color: #E8F0FE;\n",
       "      --fill-color: #1967D2;\n",
       "      --hover-bg-color: #E2EBFA;\n",
       "      --hover-fill-color: #174EA6;\n",
       "      --disabled-fill-color: #AAA;\n",
       "      --disabled-bg-color: #DDD;\n",
       "  }\n",
       "\n",
       "  [theme=dark] .colab-df-quickchart {\n",
       "      --bg-color: #3B4455;\n",
       "      --fill-color: #D2E3FC;\n",
       "      --hover-bg-color: #434B5C;\n",
       "      --hover-fill-color: #FFFFFF;\n",
       "      --disabled-bg-color: #3B4455;\n",
       "      --disabled-fill-color: #666;\n",
       "  }\n",
       "\n",
       "  .colab-df-quickchart {\n",
       "    background-color: var(--bg-color);\n",
       "    border: none;\n",
       "    border-radius: 50%;\n",
       "    cursor: pointer;\n",
       "    display: none;\n",
       "    fill: var(--fill-color);\n",
       "    height: 32px;\n",
       "    padding: 0;\n",
       "    width: 32px;\n",
       "  }\n",
       "\n",
       "  .colab-df-quickchart:hover {\n",
       "    background-color: var(--hover-bg-color);\n",
       "    box-shadow: 0 1px 2px rgba(60, 64, 67, 0.3), 0 1px 3px 1px rgba(60, 64, 67, 0.15);\n",
       "    fill: var(--button-hover-fill-color);\n",
       "  }\n",
       "\n",
       "  .colab-df-quickchart-complete:disabled,\n",
       "  .colab-df-quickchart-complete:disabled:hover {\n",
       "    background-color: var(--disabled-bg-color);\n",
       "    fill: var(--disabled-fill-color);\n",
       "    box-shadow: none;\n",
       "  }\n",
       "\n",
       "  .colab-df-spinner {\n",
       "    border: 2px solid var(--fill-color);\n",
       "    border-color: transparent;\n",
       "    border-bottom-color: var(--fill-color);\n",
       "    animation:\n",
       "      spin 1s steps(1) infinite;\n",
       "  }\n",
       "\n",
       "  @keyframes spin {\n",
       "    0% {\n",
       "      border-color: transparent;\n",
       "      border-bottom-color: var(--fill-color);\n",
       "      border-left-color: var(--fill-color);\n",
       "    }\n",
       "    20% {\n",
       "      border-color: transparent;\n",
       "      border-left-color: var(--fill-color);\n",
       "      border-top-color: var(--fill-color);\n",
       "    }\n",
       "    30% {\n",
       "      border-color: transparent;\n",
       "      border-left-color: var(--fill-color);\n",
       "      border-top-color: var(--fill-color);\n",
       "      border-right-color: var(--fill-color);\n",
       "    }\n",
       "    40% {\n",
       "      border-color: transparent;\n",
       "      border-right-color: var(--fill-color);\n",
       "      border-top-color: var(--fill-color);\n",
       "    }\n",
       "    60% {\n",
       "      border-color: transparent;\n",
       "      border-right-color: var(--fill-color);\n",
       "    }\n",
       "    80% {\n",
       "      border-color: transparent;\n",
       "      border-right-color: var(--fill-color);\n",
       "      border-bottom-color: var(--fill-color);\n",
       "    }\n",
       "    90% {\n",
       "      border-color: transparent;\n",
       "      border-bottom-color: var(--fill-color);\n",
       "    }\n",
       "  }\n",
       "</style>\n",
       "\n",
       "  <script>\n",
       "    async function quickchart(key) {\n",
       "      const quickchartButtonEl =\n",
       "        document.querySelector('#' + key + ' button');\n",
       "      quickchartButtonEl.disabled = true;  // To prevent multiple clicks.\n",
       "      quickchartButtonEl.classList.add('colab-df-spinner');\n",
       "      try {\n",
       "        const charts = await google.colab.kernel.invokeFunction(\n",
       "            'suggestCharts', [key], {});\n",
       "      } catch (error) {\n",
       "        console.error('Error during call to suggestCharts:', error);\n",
       "      }\n",
       "      quickchartButtonEl.classList.remove('colab-df-spinner');\n",
       "      quickchartButtonEl.classList.add('colab-df-quickchart-complete');\n",
       "    }\n",
       "    (() => {\n",
       "      let quickchartButtonEl =\n",
       "        document.querySelector('#df-137538ec-8be6-4d17-8c60-93217d09dfe2 button');\n",
       "      quickchartButtonEl.style.display =\n",
       "        google.colab.kernel.accessAllowed ? 'block' : 'none';\n",
       "    })();\n",
       "  </script>\n",
       "</div>\n",
       "    </div>\n",
       "  </div>\n"
      ],
      "text/plain": [
       "       class  count\n",
       "0  cardboard    307\n",
       "1      glass    382\n",
       "2      metal    313\n",
       "3      paper    453\n",
       "4    plastic    368\n",
       "5      trash    104"
      ]
     },
     "execution_count": 39,
     "metadata": {},
     "output_type": "execute_result"
    }
   ],
   "source": [
    "train_classes_df = pd.DataFrame(list(classes_train_dict.items()), columns=['class', 'count'])\n",
    "valid_classes_df = pd.DataFrame(list(classes_valid_dict.items()), columns=['class', 'count'])\n",
    "test_classes_df = pd.DataFrame(list(classes_test_dict.items()), columns=['class', 'count'])\n",
    "\n",
    "train_classes_df"
   ]
  },
  {
   "cell_type": "markdown",
   "id": "96b623c5-50cf-4d0e-ab37-f519dbbcd7d2",
   "metadata": {
    "id": "96b623c5-50cf-4d0e-ab37-f519dbbcd7d2"
   },
   "source": [
    "##### Train data"
   ]
  },
  {
   "cell_type": "code",
   "execution_count": null,
   "id": "0004beb7-5dd5-4e02-85d7-a39db34272f4",
   "metadata": {
    "id": "0004beb7-5dd5-4e02-85d7-a39db34272f4"
   },
   "outputs": [],
   "source": [
    "display_pie_chart(df=train_classes_df, column_name='count', title='Percentage ratio between label classes (Train dataset)',\n",
    "                  column_contains_count=True)"
   ]
  },
  {
   "cell_type": "code",
   "execution_count": null,
   "id": "9fa0a44f-f1d1-420c-942b-94e1762bc6c3",
   "metadata": {
    "id": "9fa0a44f-f1d1-420c-942b-94e1762bc6c3"
   },
   "outputs": [],
   "source": [
    "display_pie_charts(first_df=classes_df, second_df=train_classes_df, column='count',\n",
    "                   column_contains_count=True,\n",
    "                   first_chart_title='Original Data', second_chart_title='Train Data',\n",
    "                   filename=None)"
   ]
  },
  {
   "cell_type": "markdown",
   "id": "42c3bfa8-5df8-49c8-8afc-d4d6ddf853ae",
   "metadata": {
    "id": "42c3bfa8-5df8-49c8-8afc-d4d6ddf853ae"
   },
   "source": [
    "##### Valid data"
   ]
  },
  {
   "cell_type": "code",
   "execution_count": null,
   "id": "93c742c2-33f7-436e-bd50-aeb229afbf10",
   "metadata": {
    "id": "93c742c2-33f7-436e-bd50-aeb229afbf10"
   },
   "outputs": [],
   "source": [
    "display_pie_chart(df=valid_classes_df, column_name='count', title='Percentage ratio between label classes (Validation dataset)',\n",
    "                  column_contains_count=True)"
   ]
  },
  {
   "cell_type": "code",
   "execution_count": null,
   "id": "3b0ec777-b947-4d76-abe3-0bc2133c1f26",
   "metadata": {
    "id": "3b0ec777-b947-4d76-abe3-0bc2133c1f26"
   },
   "outputs": [],
   "source": [
    "display_pie_charts(first_df=classes_df, second_df=valid_classes_df, column='count',\n",
    "                   column_contains_count=True,\n",
    "                   first_chart_title='Original Data', second_chart_title='Valid Data',\n",
    "                   filename=None)"
   ]
  },
  {
   "cell_type": "markdown",
   "id": "50d2c56e-aac4-4403-a89c-177d7584ca76",
   "metadata": {
    "id": "50d2c56e-aac4-4403-a89c-177d7584ca76"
   },
   "source": [
    "##### Test data"
   ]
  },
  {
   "cell_type": "code",
   "execution_count": null,
   "id": "ecb0e6d3-cad7-4d68-9ea1-2a50f7445592",
   "metadata": {
    "id": "ecb0e6d3-cad7-4d68-9ea1-2a50f7445592"
   },
   "outputs": [],
   "source": [
    "display_pie_chart(df=test_classes_df, column_name='count', title='Percentage ratio between label classes (Test dataset)',\n",
    "                  column_contains_count=True, filename='graphs/test_piechart')"
   ]
  },
  {
   "cell_type": "code",
   "execution_count": null,
   "id": "81a51dc2-dff2-408c-818d-9e9b052699a6",
   "metadata": {
    "id": "81a51dc2-dff2-408c-818d-9e9b052699a6"
   },
   "outputs": [],
   "source": [
    "display_pie_charts(first_df=classes_df, second_df=test_classes_df, column='count',\n",
    "                   column_contains_count=True,\n",
    "                   first_chart_title='Original Data', second_chart_title='Test Data',\n",
    "                   filename='graphs/original_vs_test_piecharts')"
   ]
  },
  {
   "cell_type": "markdown",
   "id": "mQE7_geHaYNI",
   "metadata": {
    "id": "mQE7_geHaYNI"
   },
   "source": [
    "# Image Augmentation"
   ]
  },
  {
   "cell_type": "markdown",
   "id": "iF2NpBGwTgKy",
   "metadata": {
    "id": "iF2NpBGwTgKy"
   },
   "source": [
    "## Train"
   ]
  },
  {
   "cell_type": "code",
   "execution_count": 30,
   "id": "2tXUGWXkTfKY",
   "metadata": {
    "colab": {
     "base_uri": "https://localhost:8080/"
    },
    "id": "2tXUGWXkTfKY",
    "outputId": "993668f9-bd8c-4b43-dbee-8d35278de1f1"
   },
   "outputs": [
    {
     "name": "stdout",
     "output_type": "stream",
     "text": [
      "cardboard: len(images) = 307\n",
      "glass: len(images) = 382\n",
      "metal: len(images) = 313\n",
      "paper: len(images) = 453\n",
      "plastic: len(images) = 368\n",
      "trash: len(images) = 104\n"
     ]
    }
   ],
   "source": [
    "image_classes_filepaths = [train_dir_path + 'cardboard', train_dir_path + 'glass',\n",
    "                           train_dir_path + 'metal', train_dir_path + 'paper',\n",
    "                           train_dir_path + 'plastic', train_dir_path + 'trash']\n",
    "garbage_class_names = ['cardboard', 'glass', 'metal', 'paper', 'plastic', 'trash']\n",
    "garbage_class_images = {'cardboard': [], 'glass': [], 'metal': [], 'paper': [], 'plastic': [], 'trash': []}\n",
    "garbage_class_image_names = {'cardboard': [], 'glass': [], 'metal': [], 'paper': [], 'plastic': [], 'trash': []}\n",
    "show_images = False\n",
    "for image_class_filepath, garbage_class_name in zip(image_classes_filepaths, garbage_class_names):\n",
    "  image_filepath = image_class_filepath\n",
    "  image_filenames = os.listdir(image_filepath)\n",
    "\n",
    "  for image_name in image_filenames:\n",
    "      img = cv2.imread(os.path.join(image_filepath, image_name))\n",
    "      img = cv2.cvtColor(img, cv2.COLOR_BGR2RGB)\n",
    "      garbage_class_images[garbage_class_name].append(img)\n",
    "      garbage_class_image_names[garbage_class_name].append(image_name)\n",
    "\n",
    "      if show_images:\n",
    "          display_image(img, title=image_name)\n",
    "\n",
    "  print(f\"{garbage_class_name}: len(images) = {len(garbage_class_images[garbage_class_name])}\")"
   ]
  },
  {
   "cell_type": "code",
   "execution_count": 31,
   "id": "g3czvCJIWO6O",
   "metadata": {
    "colab": {
     "base_uri": "https://localhost:8080/"
    },
    "id": "g3czvCJIWO6O",
    "outputId": "a684ffa8-66e0-4bd5-c18e-0c411ee1fd5c"
   },
   "outputs": [
    {
     "name": "stdout",
     "output_type": "stream",
     "text": [
      "img_height = 384, img_width = 512\n"
     ]
    }
   ],
   "source": [
    "img_height, img_width = img.shape[:2]\n",
    "print(f\"img_height = {img_height}, img_width = {img_width}\")\n",
    "target_size = (img_height, img_width)"
   ]
  },
  {
   "cell_type": "code",
   "execution_count": 32,
   "id": "49lwYs7vW5X-",
   "metadata": {
    "colab": {
     "base_uri": "https://localhost:8080/",
     "height": 452
    },
    "id": "49lwYs7vW5X-",
    "outputId": "9bb39c35-7405-4b36-87ee-871787a91291"
   },
   "outputs": [
    {
     "data": {
      "image/png": "[encoded data removed]",
      "text/plain": [
       "<Figure size 640x480 with 1 Axes>"
      ]
     },
     "metadata": {},
     "output_type": "display_data"
    }
   ],
   "source": [
    "display_image(img=garbage_class_images['cardboard'][1], title=garbage_class_image_names['cardboard'][1])"
   ]
  },
  {
   "cell_type": "markdown",
   "id": "rMRZMug1axTK",
   "metadata": {
    "id": "rMRZMug1axTK"
   },
   "source": [
    "### Rotation"
   ]
  },
  {
   "cell_type": "code",
   "execution_count": 33,
   "id": "FIayHvfOLeZ1",
   "metadata": {
    "colab": {
     "base_uri": "https://localhost:8080/"
    },
    "id": "FIayHvfOLeZ1",
    "outputId": "e16fb28a-1d53-4909-9798-75b122f54d7e"
   },
   "outputs": [
    {
     "name": "stdout",
     "output_type": "stream",
     "text": [
      "cardboard before augmentation: len(images) = 307\n",
      "augm_images_dir_path = /content/garbage_classification_TrainValidTest/train/cardboard\n",
      "cardboard after augmentation: len(images) = 2149\n",
      "glass before augmentation: len(images) = 382\n",
      "augm_images_dir_path = /content/garbage_classification_TrainValidTest/train/glass\n",
      "glass after augmentation: len(images) = 2674\n",
      "metal before augmentation: len(images) = 313\n",
      "augm_images_dir_path = /content/garbage_classification_TrainValidTest/train/metal\n",
      "metal after augmentation: len(images) = 2191\n",
      "paper before augmentation: len(images) = 453\n",
      "augm_images_dir_path = /content/garbage_classification_TrainValidTest/train/paper\n",
      "paper after augmentation: len(images) = 3171\n",
      "plastic before augmentation: len(images) = 368\n",
      "augm_images_dir_path = /content/garbage_classification_TrainValidTest/train/plastic\n",
      "plastic after augmentation: len(images) = 2576\n",
      "trash before augmentation: len(images) = 104\n",
      "augm_images_dir_path = /content/garbage_classification_TrainValidTest/train/trash\n",
      "trash after augmentation: len(images) = 728\n"
     ]
    }
   ],
   "source": [
    "for image_class_filepath, garbage_class_name in zip(image_classes_filepaths, garbage_class_names):\n",
    "  image_filepath = image_class_filepath\n",
    "\n",
    "  image_names = os.listdir(image_filepath)\n",
    "  augmented_images_dir = image_class_filepath\n",
    "  print(f\"{garbage_class_name} before augmentation: len(images) = {len(image_names)}\")\n",
    "\n",
    "  # Perform augmentation\n",
    "  print(f\"augm_images_dir_path = {augmented_images_dir}\")\n",
    "  perform_cv2_rotation_augmentation(rotation_range=[-15, 15], images=garbage_class_images[garbage_class_name],\n",
    "                                  image_filenames=garbage_class_image_names[garbage_class_name],\n",
    "                                  augm_images_dir_path=augmented_images_dir,\n",
    "                                  target_size=target_size,\n",
    "                                  augm_prefix='aug_Rotation', num_augm_images=6,\n",
    "                                  save_augm_image=True, display_orig_augm_images=False)\n",
    "\n",
    "  image_names = os.listdir(image_class_filepath)\n",
    "  print(f\"{garbage_class_name} after augmentation: len(images) = {len(image_names)}\")"
   ]
  },
  {
   "cell_type": "markdown",
   "id": "_TZ7u46SaVaN",
   "metadata": {
    "id": "_TZ7u46SaVaN"
   },
   "source": [
    "#### Expacted output:\n",
    "cardboard before augmentation: len(images) = 307;\n",
    "cardboard after augmentation: len(images) = 2149\n",
    "\n",
    "glass before augmentation: len(images) = 382;\n",
    "glass after augmentation: len(images) = 2674\n",
    "\n",
    "metal before augmentation: len(images) = 313;\n",
    "metal after augmentation: len(images) = 2191\n",
    "\n",
    "paper before augmentation: len(images) = 453;\n",
    "paper after augmentation: len(images) = 3171\n",
    "\n",
    "plastic before augmentation: len(images) = 368;\n",
    "plastic after augmentation: len(images) = 2576\n",
    "\n",
    "trash before augmentation: len(images) = 104;\n",
    "trash after augmentation: len(images) = 728"
   ]
  },
  {
   "cell_type": "markdown",
   "id": "SVoc99d2bFV6",
   "metadata": {
    "id": "SVoc99d2bFV6"
   },
   "source": [
    "### width_shift"
   ]
  },
  {
   "cell_type": "code",
   "execution_count": 34,
   "id": "dhGL15Ira2tr",
   "metadata": {
    "colab": {
     "base_uri": "https://localhost:8080/"
    },
    "id": "dhGL15Ira2tr",
    "outputId": "c9367e7a-c0f2-47a5-a21f-a914158681cc"
   },
   "outputs": [
    {
     "name": "stdout",
     "output_type": "stream",
     "text": [
      "len(garbage_class_images[cardboard]) = 307\n",
      "len(garbage_class_images[glass]) = 382\n",
      "len(garbage_class_images[metal]) = 313\n",
      "len(garbage_class_images[paper]) = 453\n",
      "len(garbage_class_images[plastic]) = 368\n",
      "len(garbage_class_images[trash]) = 104\n"
     ]
    }
   ],
   "source": [
    "for garbage_class_name in garbage_class_names:\n",
    "  print(f\"len(garbage_class_images[{garbage_class_name}]) = {len(garbage_class_images[garbage_class_name])}\")"
   ]
  },
  {
   "cell_type": "code",
   "execution_count": 35,
   "id": "9--uJ-PkbGH5",
   "metadata": {
    "colab": {
     "base_uri": "https://localhost:8080/"
    },
    "id": "9--uJ-PkbGH5",
    "outputId": "e603ee55-d805-4447-d45b-d7bbcc78d3c7"
   },
   "outputs": [
    {
     "name": "stdout",
     "output_type": "stream",
     "text": [
      "cardboard before augmentation: len(images) = 2149\n",
      "cardboard after augmentation: len(images) = 2763\n",
      "\n",
      "glass before augmentation: len(images) = 2674\n",
      "glass after augmentation: len(images) = 3438\n",
      "\n",
      "metal before augmentation: len(images) = 2191\n",
      "metal after augmentation: len(images) = 2817\n",
      "\n",
      "paper before augmentation: len(images) = 3171\n",
      "paper after augmentation: len(images) = 4077\n",
      "\n",
      "plastic before augmentation: len(images) = 2576\n",
      "plastic after augmentation: len(images) = 3312\n",
      "\n",
      "trash before augmentation: len(images) = 728\n",
      "trash after augmentation: len(images) = 936\n",
      "\n"
     ]
    }
   ],
   "source": [
    "width_shift_fraction = 0.1\n",
    "for image_class_filepath, garbage_class_name in zip(image_classes_filepaths, garbage_class_names):\n",
    "  image_filepath = image_class_filepath\n",
    "\n",
    "  image_names = os.listdir(image_filepath)\n",
    "  augmented_images_dir = image_class_filepath\n",
    "  print(f\"{garbage_class_name} before augmentation: len(images) = {len(image_names)}\")\n",
    "\n",
    "  for image, image_name in zip(garbage_class_images[garbage_class_name], garbage_class_image_names[garbage_class_name]):\n",
    "    augmented_image = get_width_shift_image(image=image, width_shift_fraction=width_shift_fraction)\n",
    "    augmented_image_name = f\"aug_wShift_{image_name.split('.')[0]}_0.jpg\"\n",
    "    augmented_image_path = os.path.join(augmented_images_dir, augmented_image_name)\n",
    "    cv2.imwrite(augmented_image_path, cv2.cvtColor(augmented_image, cv2.COLOR_BGR2RGB))\n",
    "\n",
    "    augmented_image = get_width_shift_image(image=image, width_shift_fraction=(-width_shift_fraction))\n",
    "    augmented_image_name = f\"aug_wShift_{image_name.split('.')[0]}_1.jpg\"\n",
    "    augmented_image_path = os.path.join(augmented_images_dir, augmented_image_name)\n",
    "    cv2.imwrite(augmented_image_path, cv2.cvtColor(augmented_image, cv2.COLOR_BGR2RGB))\n",
    "\n",
    "  image_names = os.listdir(image_class_filepath)\n",
    "  print(f\"{garbage_class_name} after augmentation: len(images) = {len(image_names)}\\n\")"
   ]
  },
  {
   "cell_type": "markdown",
   "id": "cl36lkpgeR9X",
   "metadata": {
    "id": "cl36lkpgeR9X"
   },
   "source": [
    "#### Expacted output:\n",
    "cardboard before augmentation: len(images) = 2149;\n",
    "cardboard after augmentation: len(images) = 2149 + 307*2 = 2763\n",
    "\n",
    "glass before augmentation: len(images) = 2674;\n",
    "glass after augmentation: len(images) = 3438\n",
    "\n",
    "metal before augmentation: len(images) = 2191;\n",
    "metal after augmentation: len(images) = 2817\n",
    "\n",
    "paper before augmentation: len(images) = 3171;\n",
    "paper after augmentation: len(images) = 4077\n",
    "\n",
    "plastic before augmentation: len(images) = 2576;\n",
    "plastic after augmentation: len(images) = 3312\n",
    "\n",
    "trash before augmentation: len(images) = 728;\n",
    "trash after augmentation: len(images) = 936"
   ]
  },
  {
   "cell_type": "markdown",
   "id": "r1oj75sjbMPq",
   "metadata": {
    "id": "r1oj75sjbMPq"
   },
   "source": [
    "### height_shift"
   ]
  },
  {
   "cell_type": "code",
   "execution_count": 36,
   "id": "wCysQhwUfG5f",
   "metadata": {
    "colab": {
     "base_uri": "https://localhost:8080/"
    },
    "id": "wCysQhwUfG5f",
    "outputId": "c445f467-bbd2-495c-f705-b24fc1e8a696"
   },
   "outputs": [
    {
     "name": "stdout",
     "output_type": "stream",
     "text": [
      "len(garbage_class_images[cardboard]) = 307\n",
      "len(garbage_class_images[glass]) = 382\n",
      "len(garbage_class_images[metal]) = 313\n",
      "len(garbage_class_images[paper]) = 453\n",
      "len(garbage_class_images[plastic]) = 368\n",
      "len(garbage_class_images[trash]) = 104\n"
     ]
    }
   ],
   "source": [
    "for garbage_class_name in garbage_class_names:\n",
    "  print(f\"len(garbage_class_images[{garbage_class_name}]) = {len(garbage_class_images[garbage_class_name])}\")"
   ]
  },
  {
   "cell_type": "code",
   "execution_count": 37,
   "id": "-jqPyxqofQVu",
   "metadata": {
    "colab": {
     "base_uri": "https://localhost:8080/"
    },
    "id": "-jqPyxqofQVu",
    "outputId": "f8aa356d-3b14-4dad-abc2-f5790cf8ab22"
   },
   "outputs": [
    {
     "name": "stdout",
     "output_type": "stream",
     "text": [
      "cardboard before augmentation: len(images) = 2763\n",
      "cardboard after augmentation: len(images) = 3377\n",
      "\n",
      "glass before augmentation: len(images) = 3438\n",
      "glass after augmentation: len(images) = 4202\n",
      "\n",
      "metal before augmentation: len(images) = 2817\n",
      "metal after augmentation: len(images) = 3443\n",
      "\n",
      "paper before augmentation: len(images) = 4077\n",
      "paper after augmentation: len(images) = 4983\n",
      "\n",
      "plastic before augmentation: len(images) = 3312\n",
      "plastic after augmentation: len(images) = 4048\n",
      "\n",
      "trash before augmentation: len(images) = 936\n",
      "trash after augmentation: len(images) = 1144\n",
      "\n"
     ]
    }
   ],
   "source": [
    "height_shift_fraction = 0.10\n",
    "for image_class_filepath, garbage_class_name in zip(image_classes_filepaths, garbage_class_names):\n",
    "  image_filepath = image_class_filepath\n",
    "\n",
    "  image_names = os.listdir(image_filepath)\n",
    "  augmented_images_dir = image_class_filepath\n",
    "  print(f\"{garbage_class_name} before augmentation: len(images) = {len(image_names)}\")\n",
    "\n",
    "  for image, image_name in zip(garbage_class_images[garbage_class_name], garbage_class_image_names[garbage_class_name]):\n",
    "    augmented_image = get_height_shift_image(image=image, height_shift_fraction=height_shift_fraction)\n",
    "    augmented_image_name = f\"aug_hShift_{image_name.split('.')[0]}_0.jpg\"\n",
    "    augmented_image_path = os.path.join(augmented_images_dir, augmented_image_name)\n",
    "    cv2.imwrite(augmented_image_path, cv2.cvtColor(augmented_image, cv2.COLOR_BGR2RGB))\n",
    "\n",
    "    augmented_image = get_height_shift_image(image=image, height_shift_fraction=(-height_shift_fraction))\n",
    "    augmented_image_name = f\"aug_hShift_{image_name.split('.')[0]}_1.jpg\"\n",
    "    augmented_image_path = os.path.join(augmented_images_dir, augmented_image_name)\n",
    "    cv2.imwrite(augmented_image_path, cv2.cvtColor(augmented_image, cv2.COLOR_BGR2RGB))\n",
    "\n",
    "  image_names = os.listdir(image_class_filepath)\n",
    "  print(f\"{garbage_class_name} after augmentation: len(images) = {len(image_names)}\\n\")"
   ]
  },
  {
   "cell_type": "markdown",
   "id": "Nq6an5m7bYeU",
   "metadata": {
    "id": "Nq6an5m7bYeU"
   },
   "source": [
    "### horizontal_flip"
   ]
  },
  {
   "cell_type": "code",
   "execution_count": 38,
   "id": "Puc6cYtLf49y",
   "metadata": {
    "colab": {
     "base_uri": "https://localhost:8080/"
    },
    "id": "Puc6cYtLf49y",
    "outputId": "47398cb6-218d-4eee-af4a-76fe20ad873f"
   },
   "outputs": [
    {
     "name": "stdout",
     "output_type": "stream",
     "text": [
      "cardboard before augmentation: len(images) = 3377\n",
      "augm_images_dir_path = /content/garbage_classification_TrainValidTest/train/cardboard\n",
      "cardboard after augmentation: len(images) = 3684\n",
      "glass before augmentation: len(images) = 4202\n",
      "augm_images_dir_path = /content/garbage_classification_TrainValidTest/train/glass\n",
      "glass after augmentation: len(images) = 4584\n",
      "metal before augmentation: len(images) = 3443\n",
      "augm_images_dir_path = /content/garbage_classification_TrainValidTest/train/metal\n",
      "metal after augmentation: len(images) = 3756\n",
      "paper before augmentation: len(images) = 4983\n",
      "augm_images_dir_path = /content/garbage_classification_TrainValidTest/train/paper\n",
      "paper after augmentation: len(images) = 5436\n",
      "plastic before augmentation: len(images) = 4048\n",
      "augm_images_dir_path = /content/garbage_classification_TrainValidTest/train/plastic\n",
      "plastic after augmentation: len(images) = 4416\n",
      "trash before augmentation: len(images) = 1144\n",
      "augm_images_dir_path = /content/garbage_classification_TrainValidTest/train/trash\n",
      "trash after augmentation: len(images) = 1248\n"
     ]
    }
   ],
   "source": [
    "for image_class_filepath, garbage_class_name in zip(image_classes_filepaths, garbage_class_names):\n",
    "  image_filepath = image_class_filepath\n",
    "\n",
    "  image_names = os.listdir(image_filepath)\n",
    "  augmented_images_dir = image_class_filepath\n",
    "  print(f\"{garbage_class_name} before augmentation: len(images) = {len(image_names)}\")\n",
    "\n",
    "  # Perform augmentation\n",
    "  print(f\"augm_images_dir_path = {augmented_images_dir}\")\n",
    "  perform_cv2_flip_augmentation(flip_code=1, images=garbage_class_images[garbage_class_name],\n",
    "                                image_filenames=garbage_class_image_names[garbage_class_name],\n",
    "                                augm_images_dir_path=augmented_images_dir, target_size=target_size,\n",
    "                                augm_prefix='aug_hFlip', num_augm_images=1,\n",
    "                                save_augm_image=True, display_orig_augm_images=False)\n",
    "\n",
    "  image_names = os.listdir(image_class_filepath)\n",
    "  print(f\"{garbage_class_name} after augmentation: len(images) = {len(image_names)}\")"
   ]
  },
  {
   "cell_type": "markdown",
   "id": "xN_CBfSMbsNy",
   "metadata": {
    "id": "xN_CBfSMbsNy"
   },
   "source": [
    "### vertical_flip"
   ]
  },
  {
   "cell_type": "code",
   "execution_count": 39,
   "id": "Uk2dbTtnjXPr",
   "metadata": {
    "colab": {
     "base_uri": "https://localhost:8080/"
    },
    "id": "Uk2dbTtnjXPr",
    "outputId": "3da644e4-0b84-4f5c-fddf-1de416174350"
   },
   "outputs": [
    {
     "name": "stdout",
     "output_type": "stream",
     "text": [
      "cardboard before augmentation: len(images) = 3684\n",
      "augm_images_dir_path = /content/garbage_classification_TrainValidTest/train/cardboard\n",
      "cardboard after augmentation: len(images) = 3991\n",
      "\n",
      "glass before augmentation: len(images) = 4584\n",
      "augm_images_dir_path = /content/garbage_classification_TrainValidTest/train/glass\n",
      "glass after augmentation: len(images) = 4966\n",
      "\n",
      "metal before augmentation: len(images) = 3756\n",
      "augm_images_dir_path = /content/garbage_classification_TrainValidTest/train/metal\n",
      "metal after augmentation: len(images) = 4069\n",
      "\n",
      "paper before augmentation: len(images) = 5436\n",
      "augm_images_dir_path = /content/garbage_classification_TrainValidTest/train/paper\n",
      "paper after augmentation: len(images) = 5889\n",
      "\n",
      "plastic before augmentation: len(images) = 4416\n",
      "augm_images_dir_path = /content/garbage_classification_TrainValidTest/train/plastic\n",
      "plastic after augmentation: len(images) = 4784\n",
      "\n",
      "trash before augmentation: len(images) = 1248\n",
      "augm_images_dir_path = /content/garbage_classification_TrainValidTest/train/trash\n",
      "trash after augmentation: len(images) = 1352\n",
      "\n"
     ]
    }
   ],
   "source": [
    "for image_class_filepath, garbage_class_name in zip(image_classes_filepaths, garbage_class_names):\n",
    "  image_filepath = image_class_filepath\n",
    "\n",
    "  image_names = os.listdir(image_filepath)\n",
    "  augmented_images_dir = image_class_filepath\n",
    "  print(f\"{garbage_class_name} before augmentation: len(images) = {len(image_names)}\")\n",
    "\n",
    "  # Perform augmentation\n",
    "  print(f\"augm_images_dir_path = {augmented_images_dir}\")\n",
    "  perform_cv2_flip_augmentation(flip_code=0, images=garbage_class_images[garbage_class_name],\n",
    "                                image_filenames=garbage_class_image_names[garbage_class_name],\n",
    "                                augm_images_dir_path=augmented_images_dir, target_size=target_size,\n",
    "                                augm_prefix='aug_vFlip', num_augm_images=1,\n",
    "                                save_augm_image=True, display_orig_augm_images=False)\n",
    "\n",
    "  image_names = os.listdir(image_class_filepath)\n",
    "  print(f\"{garbage_class_name} after augmentation: len(images) = {len(image_names)}\\n\")"
   ]
  },
  {
   "cell_type": "markdown",
   "id": "wTLkX5eyb3ny",
   "metadata": {
    "id": "wTLkX5eyb3ny"
   },
   "source": [
    "### zoom = scaling"
   ]
  },
  {
   "cell_type": "markdown",
   "id": "URnp4hbnb_kD",
   "metadata": {
    "id": "URnp4hbnb_kD"
   },
   "source": [
    "#### Enlarge the image (bring it closer to the viewer) - ImageDataGenerator +"
   ]
  },
  {
   "cell_type": "code",
   "execution_count": 40,
   "id": "g127KTuBj3bC",
   "metadata": {
    "colab": {
     "base_uri": "https://localhost:8080/"
    },
    "id": "g127KTuBj3bC",
    "outputId": "2bbe1d68-e504-4878-960a-3a51da3f23fa"
   },
   "outputs": [
    {
     "name": "stdout",
     "output_type": "stream",
     "text": [
      "cardboard before augmentation: len(images) = 3991\n",
      "cardboard after augmentation: len(images) = 4298\n",
      "\n",
      "glass before augmentation: len(images) = 4966\n",
      "glass after augmentation: len(images) = 5348\n",
      "\n",
      "metal before augmentation: len(images) = 4069\n",
      "metal after augmentation: len(images) = 4382\n",
      "\n",
      "paper before augmentation: len(images) = 5889\n",
      "paper after augmentation: len(images) = 6342\n",
      "\n",
      "plastic before augmentation: len(images) = 4784\n",
      "plastic after augmentation: len(images) = 5152\n",
      "\n",
      "trash before augmentation: len(images) = 1352\n",
      "trash after augmentation: len(images) = 1456\n",
      "\n"
     ]
    }
   ],
   "source": [
    "# Define your augmentation parameters\n",
    "datagen = ImageDataGenerator(\n",
    "    zoom_range=(0.8, 1),\n",
    "    fill_mode='constant'\n",
    ")\n",
    "\n",
    "for image_class_filepath, garbage_class_name in zip(image_classes_filepaths, garbage_class_names):\n",
    "  image_filepath = image_class_filepath\n",
    "\n",
    "  image_names = os.listdir(image_filepath)\n",
    "  augmented_images_dir = image_class_filepath\n",
    "  print(f\"{garbage_class_name} before augmentation: len(images) = {len(image_names)}\")\n",
    "\n",
    "  # Perform augmentation\n",
    "  perform_ImageDataGen_augmentation(imageDataGenerator=datagen, images=garbage_class_images[garbage_class_name],\n",
    "                                    image_filenames=garbage_class_image_names[garbage_class_name],\n",
    "                                    augm_images_dir_path=augmented_images_dir,\n",
    "                                    target_size=target_size,\n",
    "                                    augm_prefix='aug_iZoom', num_augm_images=1,\n",
    "                                    save_augm_image=True, display_orig_augm_images=False)\n",
    "\n",
    "  image_names = os.listdir(image_class_filepath)\n",
    "  print(f\"{garbage_class_name} after augmentation: len(images) = {len(image_names)}\\n\")"
   ]
  },
  {
   "cell_type": "markdown",
   "id": "b8QlRMm8cQHR",
   "metadata": {
    "id": "b8QlRMm8cQHR"
   },
   "source": [
    "#### Reduce the image (move it away from the viewer) - ImageDataGenerator +"
   ]
  },
  {
   "cell_type": "code",
   "execution_count": 41,
   "id": "8koWMEdEmorg",
   "metadata": {
    "colab": {
     "base_uri": "https://localhost:8080/"
    },
    "id": "8koWMEdEmorg",
    "outputId": "7da8d697-c5c5-43e6-a8ae-a98b5a24eac9"
   },
   "outputs": [
    {
     "name": "stdout",
     "output_type": "stream",
     "text": [
      "cardboard before augmentation: len(images) = 4298\n",
      "cardboard after augmentation: len(images) = 4605\n",
      "\n",
      "glass before augmentation: len(images) = 5348\n",
      "glass after augmentation: len(images) = 5730\n",
      "\n",
      "metal before augmentation: len(images) = 4382\n",
      "metal after augmentation: len(images) = 4695\n",
      "\n",
      "paper before augmentation: len(images) = 6342\n",
      "paper after augmentation: len(images) = 6795\n",
      "\n",
      "plastic before augmentation: len(images) = 5152\n",
      "plastic after augmentation: len(images) = 5520\n",
      "\n",
      "trash before augmentation: len(images) = 1456\n",
      "trash after augmentation: len(images) = 1560\n",
      "\n"
     ]
    }
   ],
   "source": [
    "# Define your augmentation parameters\n",
    "datagen = ImageDataGenerator(\n",
    "    zoom_range=(1, 1.2),\n",
    "    fill_mode='constant'\n",
    ")\n",
    "\n",
    "for image_class_filepath, garbage_class_name in zip(image_classes_filepaths, garbage_class_names):\n",
    "  image_filepath = image_class_filepath\n",
    "\n",
    "  image_names = os.listdir(image_filepath)\n",
    "  augmented_images_dir = image_class_filepath\n",
    "  print(f\"{garbage_class_name} before augmentation: len(images) = {len(image_names)}\")\n",
    "\n",
    "  # Perform augmentation\n",
    "  perform_ImageDataGen_augmentation(imageDataGenerator=datagen, images=garbage_class_images[garbage_class_name],\n",
    "                                    image_filenames=garbage_class_image_names[garbage_class_name],\n",
    "                                    augm_images_dir_path=augmented_images_dir,\n",
    "                                    target_size=target_size,\n",
    "                                    augm_prefix='aug_dZoom', num_augm_images=1,\n",
    "                                    save_augm_image=True, display_orig_augm_images=False)\n",
    "\n",
    "  image_names = os.listdir(image_class_filepath)\n",
    "  print(f\"{garbage_class_name} after augmentation: len(images) = {len(image_names)}\\n\")"
   ]
  },
  {
   "cell_type": "markdown",
   "id": "M6N_HmcbcdN6",
   "metadata": {
    "id": "M6N_HmcbcdN6"
   },
   "source": [
    "### brightness_shift"
   ]
  },
  {
   "cell_type": "code",
   "execution_count": 42,
   "id": "LRjIIZx-n-N7",
   "metadata": {
    "colab": {
     "base_uri": "https://localhost:8080/"
    },
    "id": "LRjIIZx-n-N7",
    "outputId": "e0d5747a-a803-4aa1-c412-c502595286a6"
   },
   "outputs": [
    {
     "name": "stdout",
     "output_type": "stream",
     "text": [
      "cardboard before augmentation: len(images) = 4605\n",
      "cardboard after augmentation: len(images) = 4912\n",
      "\n",
      "glass before augmentation: len(images) = 5730\n",
      "glass after augmentation: len(images) = 6112\n",
      "\n",
      "metal before augmentation: len(images) = 4695\n",
      "metal after augmentation: len(images) = 5008\n",
      "\n",
      "paper before augmentation: len(images) = 6795\n",
      "paper after augmentation: len(images) = 7248\n",
      "\n",
      "plastic before augmentation: len(images) = 5520\n",
      "plastic after augmentation: len(images) = 5888\n",
      "\n",
      "trash before augmentation: len(images) = 1560\n",
      "trash after augmentation: len(images) = 1664\n",
      "\n"
     ]
    }
   ],
   "source": [
    "datagen = ImageDataGenerator(\n",
    "    brightness_range=(0.5, 0.5),\n",
    "    fill_mode='nearest'\n",
    ")\n",
    "\n",
    "for image_class_filepath, garbage_class_name in zip(image_classes_filepaths, garbage_class_names):\n",
    "  image_filepath = image_class_filepath\n",
    "\n",
    "  image_names = os.listdir(image_filepath)\n",
    "  augmented_images_dir = image_class_filepath\n",
    "  print(f\"{garbage_class_name} before augmentation: len(images) = {len(image_names)}\")\n",
    "\n",
    "  # Perform augmentation\n",
    "  perform_ImageDataGen_augmentation(imageDataGenerator=datagen, images=garbage_class_images[garbage_class_name],\n",
    "                                    image_filenames=garbage_class_image_names[garbage_class_name],\n",
    "                                    augm_images_dir_path=augmented_images_dir,\n",
    "                                    target_size=target_size,\n",
    "                                    augm_prefix='aug_blackBrightness_0.5', num_augm_images=1,\n",
    "                                    save_augm_image=True, display_orig_augm_images=False)\n",
    "\n",
    "  image_names = os.listdir(image_class_filepath)\n",
    "  print(f\"{garbage_class_name} after augmentation: len(images) = {len(image_names)}\\n\")"
   ]
  },
  {
   "cell_type": "markdown",
   "id": "aWSH_5Fioxi1",
   "metadata": {
    "id": "aWSH_5Fioxi1"
   },
   "source": [
    "datagen = ImageDataGenerator(\n",
    "    brightness_range=(0.25, 0.25),\n",
    "    fill_mode='nearest'\n",
    ")\n",
    "\n",
    "target_size = (img_height, img_width)\n",
    "\n",
    "num_augmented_images = 1\n",
    "\n",
    "perform_ImageDataGen_augmentation(imageDataGenerator=datagen, images=images, image_filenames=image_filenames,\n",
    "                                  augm_images_dir_path=augmented_images_dir, target_size=target_size,\n",
    "                                  augm_prefix='aug_blackBrightness_0.25', num_augm_images=num_augmented_images,\n",
    "                                  save_augm_image=True, display_orig_augm_images=False)"
   ]
  },
  {
   "cell_type": "code",
   "execution_count": 43,
   "id": "R-iJpKwQo_hH",
   "metadata": {
    "colab": {
     "base_uri": "https://localhost:8080/"
    },
    "id": "R-iJpKwQo_hH",
    "outputId": "a86bab0f-99b8-400c-c2a8-11bd3ac3d18d"
   },
   "outputs": [
    {
     "name": "stdout",
     "output_type": "stream",
     "text": [
      "cardboard before augmentation: len(images) = 4912\n",
      "cardboard after augmentation: len(images) = 5219\n",
      "\n",
      "glass before augmentation: len(images) = 6112\n",
      "glass after augmentation: len(images) = 6494\n",
      "\n",
      "metal before augmentation: len(images) = 5008\n",
      "metal after augmentation: len(images) = 5321\n",
      "\n",
      "paper before augmentation: len(images) = 7248\n",
      "paper after augmentation: len(images) = 7701\n",
      "\n",
      "plastic before augmentation: len(images) = 5888\n",
      "plastic after augmentation: len(images) = 6256\n",
      "\n",
      "trash before augmentation: len(images) = 1664\n",
      "trash after augmentation: len(images) = 1768\n",
      "\n"
     ]
    }
   ],
   "source": [
    "datagen = ImageDataGenerator(\n",
    "    brightness_range=(1.25, 1.25),\n",
    "    fill_mode='nearest'\n",
    ")\n",
    "\n",
    "for image_class_filepath, garbage_class_name in zip(image_classes_filepaths, garbage_class_names):\n",
    "  image_filepath = image_class_filepath\n",
    "\n",
    "  image_names = os.listdir(image_filepath)\n",
    "  augmented_images_dir = image_class_filepath\n",
    "  print(f\"{garbage_class_name} before augmentation: len(images) = {len(image_names)}\")\n",
    "\n",
    "  # Perform augmentation\n",
    "  perform_ImageDataGen_augmentation(imageDataGenerator=datagen, images=garbage_class_images[garbage_class_name],\n",
    "                                    image_filenames=garbage_class_image_names[garbage_class_name],\n",
    "                                    augm_images_dir_path=augmented_images_dir,\n",
    "                                    target_size=target_size,\n",
    "                                    augm_prefix='aug_ligthBrightness_1.25', num_augm_images=1,\n",
    "                                    save_augm_image=True, display_orig_augm_images=False)\n",
    "\n",
    "  image_names = os.listdir(image_class_filepath)\n",
    "  print(f\"{garbage_class_name} after augmentation: len(images) = {len(image_names)}\\n\")"
   ]
  },
  {
   "cell_type": "markdown",
   "id": "VLthfnuCpTKv",
   "metadata": {
    "id": "VLthfnuCpTKv"
   },
   "source": [
    "datagen = ImageDataGenerator(\n",
    "    brightness_range=(1.5, 1.5),\n",
    "    fill_mode='nearest'\n",
    ")\n",
    "\n",
    "target_size = (img_height, img_width)\n",
    "\n",
    "num_augmented_images = 1\n",
    "\n",
    "perform_ImageDataGen_augmentation(imageDataGenerator=datagen, images=images, image_filenames=image_filenames,\n",
    "                                  augm_images_dir_path=augmented_images_dir, target_size=target_size,\n",
    "                                  augm_prefix='aug_ligthBrightness_1.5', num_augm_images=num_augmented_images,\n",
    "                                  save_augm_image=True, display_orig_augm_images=False)"
   ]
  },
  {
   "cell_type": "markdown",
   "id": "OvIN0bJrdWjL",
   "metadata": {
    "id": "OvIN0bJrdWjL"
   },
   "source": [
    "### contrast augmentation"
   ]
  },
  {
   "cell_type": "code",
   "execution_count": 44,
   "id": "p9iw6kVhpe4g",
   "metadata": {
    "colab": {
     "base_uri": "https://localhost:8080/"
    },
    "id": "p9iw6kVhpe4g",
    "outputId": "03599552-1b9c-42a3-9d3e-46eb7cc87c95"
   },
   "outputs": [
    {
     "name": "stdout",
     "output_type": "stream",
     "text": [
      "cardboard before augmentation: len(images) = 5219\n",
      "cardboard after augmentation: len(images) = 5526\n",
      "\n",
      "glass before augmentation: len(images) = 6494\n",
      "glass after augmentation: len(images) = 6876\n",
      "\n",
      "metal before augmentation: len(images) = 5321\n",
      "metal after augmentation: len(images) = 5634\n",
      "\n",
      "paper before augmentation: len(images) = 7701\n",
      "paper after augmentation: len(images) = 8154\n",
      "\n",
      "plastic before augmentation: len(images) = 6256\n",
      "plastic after augmentation: len(images) = 6624\n",
      "\n",
      "trash before augmentation: len(images) = 1768\n",
      "trash after augmentation: len(images) = 1872\n",
      "\n"
     ]
    }
   ],
   "source": [
    "contrast_factor = 2.0\n",
    "for image_class_filepath, garbage_class_name in zip(image_classes_filepaths, garbage_class_names):\n",
    "  image_filepath = image_class_filepath\n",
    "\n",
    "  image_names = os.listdir(image_filepath)\n",
    "  augmented_images_dir = image_class_filepath\n",
    "  print(f\"{garbage_class_name} before augmentation: len(images) = {len(image_names)}\")\n",
    "\n",
    "  for image, image_name in zip(garbage_class_images[garbage_class_name], garbage_class_image_names[garbage_class_name]):\n",
    "    augmented_image = get_contrast_augmentation_image(image=image, contrast_factor=contrast_factor)\n",
    "    augmented_image_name = f\"aug_Contrast_{image_name.split('.')[0]}_0.jpg\"\n",
    "    augmented_image_path = os.path.join(augmented_images_dir, augmented_image_name)\n",
    "    cv2.imwrite(augmented_image_path, cv2.cvtColor(augmented_image, cv2.COLOR_BGR2RGB))\n",
    "\n",
    "  image_names = os.listdir(image_class_filepath)\n",
    "  print(f\"{garbage_class_name} after augmentation: len(images) = {len(image_names)}\\n\")"
   ]
  },
  {
   "cell_type": "markdown",
   "id": "auf2c59BdgWR",
   "metadata": {
    "id": "auf2c59BdgWR"
   },
   "source": [
    "### color space transformations (HSV) augmentation"
   ]
  },
  {
   "cell_type": "code",
   "execution_count": 45,
   "id": "xgEIQcbTqPIa",
   "metadata": {
    "colab": {
     "base_uri": "https://localhost:8080/"
    },
    "id": "xgEIQcbTqPIa",
    "outputId": "5004533f-fe56-490f-fc2e-9e914dc81c34"
   },
   "outputs": [
    {
     "name": "stdout",
     "output_type": "stream",
     "text": [
      "cardboard before augmentation: len(images) = 5526\n",
      "cardboard after augmentation: len(images) = 5833\n",
      "\n",
      "glass before augmentation: len(images) = 6876\n",
      "glass after augmentation: len(images) = 7258\n",
      "\n",
      "metal before augmentation: len(images) = 5634\n",
      "metal after augmentation: len(images) = 5947\n",
      "\n",
      "paper before augmentation: len(images) = 8154\n",
      "paper after augmentation: len(images) = 8607\n",
      "\n",
      "plastic before augmentation: len(images) = 6624\n",
      "plastic after augmentation: len(images) = 6992\n",
      "\n",
      "trash before augmentation: len(images) = 1872\n",
      "trash after augmentation: len(images) = 1976\n",
      "\n"
     ]
    }
   ],
   "source": [
    "hue_shift=180\n",
    "\n",
    "for image_class_filepath, garbage_class_name in zip(image_classes_filepaths, garbage_class_names):\n",
    "  image_filepath = image_class_filepath\n",
    "\n",
    "  image_names = os.listdir(image_filepath)\n",
    "  augmented_images_dir = image_class_filepath\n",
    "  print(f\"{garbage_class_name} before augmentation: len(images) = {len(image_names)}\")\n",
    "\n",
    "  for image, image_name in zip(garbage_class_images[garbage_class_name], garbage_class_image_names[garbage_class_name]):\n",
    "    augmented_image = get_hsv_image(image=image, hue_shift=hue_shift)\n",
    "    augmented_image_name = f\"aug_hsv_{image_name.split('.')[0]}_0.jpg\"\n",
    "    augmented_image_path = os.path.join(augmented_images_dir, augmented_image_name)\n",
    "    cv2.imwrite(augmented_image_path, cv2.cvtColor(augmented_image, cv2.COLOR_BGR2RGB))\n",
    "\n",
    "  image_names = os.listdir(image_class_filepath)\n",
    "  print(f\"{garbage_class_name} after augmentation: len(images) = {len(image_names)}\\n\")"
   ]
  },
  {
   "cell_type": "markdown",
   "id": "hDpVqXyVqtoX",
   "metadata": {
    "id": "hDpVqXyVqtoX"
   },
   "source": [
    "### Save train directory"
   ]
  },
  {
   "cell_type": "code",
   "execution_count": 46,
   "id": "I2RYqgC7qsAe",
   "metadata": {
    "id": "I2RYqgC7qsAe"
   },
   "outputs": [],
   "source": [
    "#!zip -r /content/train.zip /content/garbage_classification_TrainValidTest/train"
   ]
  },
  {
   "cell_type": "markdown",
   "id": "vH1WzuiGl9J7",
   "metadata": {
    "id": "vH1WzuiGl9J7"
   },
   "source": [
    "## Valid"
   ]
  },
  {
   "cell_type": "code",
   "execution_count": 47,
   "id": "xhEFaLTPm7sj",
   "metadata": {
    "colab": {
     "base_uri": "https://localhost:8080/"
    },
    "id": "xhEFaLTPm7sj",
    "outputId": "dab1b80e-85f9-4e1d-ca6a-fd5b21bf0f6b"
   },
   "outputs": [
    {
     "name": "stdout",
     "output_type": "stream",
     "text": [
      "cardboard: len(images) = 55\n",
      "glass: len(images) = 68\n",
      "metal: len(images) = 56\n",
      "paper: len(images) = 81\n",
      "plastic: len(images) = 65\n",
      "trash: len(images) = 19\n"
     ]
    }
   ],
   "source": [
    "image_classes_filepaths = [valid_dir_path + 'cardboard', valid_dir_path + 'glass',\n",
    "                           valid_dir_path + 'metal', valid_dir_path + 'paper',\n",
    "                           valid_dir_path + 'plastic', valid_dir_path + 'trash']\n",
    "garbage_class_names = ['cardboard', 'glass', 'metal', 'paper', 'plastic', 'trash']\n",
    "garbage_class_images = {'cardboard': [], 'glass': [], 'metal': [], 'paper': [], 'plastic': [], 'trash': []}\n",
    "garbage_class_image_names = {'cardboard': [], 'glass': [], 'metal': [], 'paper': [], 'plastic': [], 'trash': []}\n",
    "show_images = False\n",
    "for image_class_filepath, garbage_class_name in zip(image_classes_filepaths, garbage_class_names):\n",
    "  image_filepath = image_class_filepath\n",
    "  image_filenames = os.listdir(image_filepath)\n",
    "\n",
    "  for image_name in image_filenames:\n",
    "      img = cv2.imread(os.path.join(image_filepath, image_name))\n",
    "      img = cv2.cvtColor(img, cv2.COLOR_BGR2RGB)\n",
    "      garbage_class_images[garbage_class_name].append(img)\n",
    "      garbage_class_image_names[garbage_class_name].append(image_name)\n",
    "\n",
    "      if show_images:\n",
    "          display_image(img, title=image_name)\n",
    "\n",
    "  print(f\"{garbage_class_name}: len(images) = {len(garbage_class_images[garbage_class_name])}\")"
   ]
  },
  {
   "cell_type": "code",
   "execution_count": 48,
   "id": "GX3lA1zTrK-N",
   "metadata": {
    "colab": {
     "base_uri": "https://localhost:8080/"
    },
    "id": "GX3lA1zTrK-N",
    "outputId": "1b788ac1-7656-4c1e-f420-c22391f25c5b"
   },
   "outputs": [
    {
     "name": "stdout",
     "output_type": "stream",
     "text": [
      "img_height = 384, img_width = 512\n"
     ]
    }
   ],
   "source": [
    "img_height, img_width = img.shape[:2]\n",
    "print(f\"img_height = {img_height}, img_width = {img_width}\")\n",
    "target_size = (img_height, img_width)"
   ]
  },
  {
   "cell_type": "markdown",
   "id": "LhPjOZiNuN0O",
   "metadata": {
    "id": "LhPjOZiNuN0O"
   },
   "source": [
    "### View image example"
   ]
  },
  {
   "cell_type": "code",
   "execution_count": 49,
   "id": "kW0x9NzFrLpk",
   "metadata": {
    "colab": {
     "base_uri": "https://localhost:8080/",
     "height": 452
    },
    "id": "kW0x9NzFrLpk",
    "outputId": "9e657184-040c-4224-bda1-0c269ba226ea"
   },
   "outputs": [
    {
     "data": {
      "image/png": "[encoded data removed]",
      "text/plain": [
       "<Figure size 640x480 with 1 Axes>"
      ]
     },
     "metadata": {},
     "output_type": "display_data"
    }
   ],
   "source": [
    "display_image(img=garbage_class_images['cardboard'][1], title=garbage_class_image_names['cardboard'][1])"
   ]
  },
  {
   "cell_type": "markdown",
   "id": "Wm0HzUnim4GY",
   "metadata": {
    "id": "Wm0HzUnim4GY"
   },
   "source": [
    "### Rotation"
   ]
  },
  {
   "cell_type": "code",
   "execution_count": 50,
   "id": "s3n4ETjxl_px",
   "metadata": {
    "colab": {
     "base_uri": "https://localhost:8080/"
    },
    "id": "s3n4ETjxl_px",
    "outputId": "b7d8ae91-da45-4656-b3d9-302817b0cb65"
   },
   "outputs": [
    {
     "name": "stdout",
     "output_type": "stream",
     "text": [
      "cardboard before augmentation: len(images) = 55\n",
      "augm_images_dir_path = /content/garbage_classification_TrainValidTest/valid/cardboard\n",
      "cardboard after augmentation: len(images) = 385\n",
      "glass before augmentation: len(images) = 68\n",
      "augm_images_dir_path = /content/garbage_classification_TrainValidTest/valid/glass\n",
      "glass after augmentation: len(images) = 476\n",
      "metal before augmentation: len(images) = 56\n",
      "augm_images_dir_path = /content/garbage_classification_TrainValidTest/valid/metal\n",
      "metal after augmentation: len(images) = 392\n",
      "paper before augmentation: len(images) = 81\n",
      "augm_images_dir_path = /content/garbage_classification_TrainValidTest/valid/paper\n",
      "paper after augmentation: len(images) = 567\n",
      "plastic before augmentation: len(images) = 65\n",
      "augm_images_dir_path = /content/garbage_classification_TrainValidTest/valid/plastic\n",
      "plastic after augmentation: len(images) = 455\n",
      "trash before augmentation: len(images) = 19\n",
      "augm_images_dir_path = /content/garbage_classification_TrainValidTest/valid/trash\n",
      "trash after augmentation: len(images) = 133\n"
     ]
    }
   ],
   "source": [
    "for image_class_filepath, garbage_class_name in zip(image_classes_filepaths, garbage_class_names):\n",
    "  image_filepath = image_class_filepath\n",
    "\n",
    "  image_names = os.listdir(image_filepath)\n",
    "  augmented_images_dir = image_class_filepath\n",
    "  print(f\"{garbage_class_name} before augmentation: len(images) = {len(image_names)}\")\n",
    "\n",
    "  # Perform augmentation\n",
    "  print(f\"augm_images_dir_path = {augmented_images_dir}\")\n",
    "  perform_cv2_rotation_augmentation(rotation_range=[-15, 15], images=garbage_class_images[garbage_class_name],\n",
    "                                  image_filenames=garbage_class_image_names[garbage_class_name],\n",
    "                                  augm_images_dir_path=augmented_images_dir,\n",
    "                                  target_size=target_size,\n",
    "                                  augm_prefix='aug_Rotation', num_augm_images=6,\n",
    "                                  save_augm_image=True, display_orig_augm_images=False)\n",
    "\n",
    "  image_names = os.listdir(image_class_filepath)\n",
    "  print(f\"{garbage_class_name} after augmentation: len(images) = {len(image_names)}\")"
   ]
  },
  {
   "cell_type": "markdown",
   "id": "S1YCpPVUryl2",
   "metadata": {
    "id": "S1YCpPVUryl2"
   },
   "source": [
    "### width_shift"
   ]
  },
  {
   "cell_type": "code",
   "execution_count": 51,
   "id": "QdCBVionsCIl",
   "metadata": {
    "colab": {
     "base_uri": "https://localhost:8080/"
    },
    "id": "QdCBVionsCIl",
    "outputId": "4d50c8d9-beb3-4da1-8278-3a78fa1eb747"
   },
   "outputs": [
    {
     "name": "stdout",
     "output_type": "stream",
     "text": [
      "len(garbage_class_images[cardboard]) = 55\n",
      "len(garbage_class_images[glass]) = 68\n",
      "len(garbage_class_images[metal]) = 56\n",
      "len(garbage_class_images[paper]) = 81\n",
      "len(garbage_class_images[plastic]) = 65\n",
      "len(garbage_class_images[trash]) = 19\n"
     ]
    }
   ],
   "source": [
    "for garbage_class_name in garbage_class_names:\n",
    "  print(f\"len(garbage_class_images[{garbage_class_name}]) = {len(garbage_class_images[garbage_class_name])}\")"
   ]
  },
  {
   "cell_type": "code",
   "execution_count": 52,
   "id": "Yps6lh8nsPcp",
   "metadata": {
    "colab": {
     "base_uri": "https://localhost:8080/"
    },
    "id": "Yps6lh8nsPcp",
    "outputId": "7a90f4bb-3240-4201-d121-8a9432692764"
   },
   "outputs": [
    {
     "name": "stdout",
     "output_type": "stream",
     "text": [
      "cardboard before augmentation: len(images) = 385\n",
      "cardboard after augmentation: len(images) = 495\n",
      "\n",
      "glass before augmentation: len(images) = 476\n",
      "glass after augmentation: len(images) = 612\n",
      "\n",
      "metal before augmentation: len(images) = 392\n",
      "metal after augmentation: len(images) = 504\n",
      "\n",
      "paper before augmentation: len(images) = 567\n",
      "paper after augmentation: len(images) = 729\n",
      "\n",
      "plastic before augmentation: len(images) = 455\n",
      "plastic after augmentation: len(images) = 585\n",
      "\n",
      "trash before augmentation: len(images) = 133\n",
      "trash after augmentation: len(images) = 171\n",
      "\n"
     ]
    }
   ],
   "source": [
    "width_shift_fraction = 0.1\n",
    "for image_class_filepath, garbage_class_name in zip(image_classes_filepaths, garbage_class_names):\n",
    "  image_filepath = image_class_filepath\n",
    "\n",
    "  image_names = os.listdir(image_filepath)\n",
    "  augmented_images_dir = image_class_filepath\n",
    "  print(f\"{garbage_class_name} before augmentation: len(images) = {len(image_names)}\")\n",
    "\n",
    "  for image, image_name in zip(garbage_class_images[garbage_class_name], garbage_class_image_names[garbage_class_name]):\n",
    "    augmented_image = get_width_shift_image(image=image, width_shift_fraction=width_shift_fraction)\n",
    "    augmented_image_name = f\"aug_wShift_{image_name.split('.')[0]}_0.jpg\"\n",
    "    augmented_image_path = os.path.join(augmented_images_dir, augmented_image_name)\n",
    "    cv2.imwrite(augmented_image_path, cv2.cvtColor(augmented_image, cv2.COLOR_BGR2RGB))\n",
    "\n",
    "    augmented_image = get_width_shift_image(image=image, width_shift_fraction=(-width_shift_fraction))\n",
    "    augmented_image_name = f\"aug_wShift_{image_name.split('.')[0]}_1.jpg\"\n",
    "    augmented_image_path = os.path.join(augmented_images_dir, augmented_image_name)\n",
    "    cv2.imwrite(augmented_image_path, cv2.cvtColor(augmented_image, cv2.COLOR_BGR2RGB))\n",
    "\n",
    "  image_names = os.listdir(image_class_filepath)\n",
    "  print(f\"{garbage_class_name} after augmentation: len(images) = {len(image_names)}\\n\")"
   ]
  },
  {
   "cell_type": "markdown",
   "id": "iDPvcoMgseEW",
   "metadata": {
    "id": "iDPvcoMgseEW"
   },
   "source": [
    "### height_shift"
   ]
  },
  {
   "cell_type": "code",
   "execution_count": 53,
   "id": "U2pfiHsBskgP",
   "metadata": {
    "colab": {
     "base_uri": "https://localhost:8080/"
    },
    "id": "U2pfiHsBskgP",
    "outputId": "276035a5-90c5-4cb6-90d1-937e907e5171"
   },
   "outputs": [
    {
     "name": "stdout",
     "output_type": "stream",
     "text": [
      "cardboard before augmentation: len(images) = 495\n",
      "cardboard after augmentation: len(images) = 605\n",
      "\n",
      "glass before augmentation: len(images) = 612\n",
      "glass after augmentation: len(images) = 748\n",
      "\n",
      "metal before augmentation: len(images) = 504\n",
      "metal after augmentation: len(images) = 616\n",
      "\n",
      "paper before augmentation: len(images) = 729\n",
      "paper after augmentation: len(images) = 891\n",
      "\n",
      "plastic before augmentation: len(images) = 585\n",
      "plastic after augmentation: len(images) = 715\n",
      "\n",
      "trash before augmentation: len(images) = 171\n",
      "trash after augmentation: len(images) = 209\n",
      "\n"
     ]
    }
   ],
   "source": [
    "height_shift_fraction = 0.10\n",
    "for image_class_filepath, garbage_class_name in zip(image_classes_filepaths, garbage_class_names):\n",
    "  image_filepath = image_class_filepath\n",
    "\n",
    "  image_names = os.listdir(image_filepath)\n",
    "  augmented_images_dir = image_class_filepath\n",
    "  print(f\"{garbage_class_name} before augmentation: len(images) = {len(image_names)}\")\n",
    "\n",
    "  for image, image_name in zip(garbage_class_images[garbage_class_name], garbage_class_image_names[garbage_class_name]):\n",
    "    augmented_image = get_height_shift_image(image=image, height_shift_fraction=height_shift_fraction)\n",
    "    augmented_image_name = f\"aug_hShift_{image_name.split('.')[0]}_0.jpg\"\n",
    "    augmented_image_path = os.path.join(augmented_images_dir, augmented_image_name)\n",
    "    cv2.imwrite(augmented_image_path, cv2.cvtColor(augmented_image, cv2.COLOR_BGR2RGB))\n",
    "\n",
    "    augmented_image = get_height_shift_image(image=image, height_shift_fraction=(-height_shift_fraction))\n",
    "    augmented_image_name = f\"aug_hShift_{image_name.split('.')[0]}_1.jpg\"\n",
    "    augmented_image_path = os.path.join(augmented_images_dir, augmented_image_name)\n",
    "    cv2.imwrite(augmented_image_path, cv2.cvtColor(augmented_image, cv2.COLOR_BGR2RGB))\n",
    "\n",
    "  image_names = os.listdir(image_class_filepath)\n",
    "  print(f\"{garbage_class_name} after augmentation: len(images) = {len(image_names)}\\n\")"
   ]
  },
  {
   "cell_type": "markdown",
   "id": "NdonW8OusrtF",
   "metadata": {
    "id": "NdonW8OusrtF"
   },
   "source": [
    "### horizontal_flip"
   ]
  },
  {
   "cell_type": "code",
   "execution_count": 54,
   "id": "FQ5EvjcJsxD8",
   "metadata": {
    "colab": {
     "base_uri": "https://localhost:8080/"
    },
    "id": "FQ5EvjcJsxD8",
    "outputId": "8affd288-5557-4295-977d-6629054cf8eb"
   },
   "outputs": [
    {
     "name": "stdout",
     "output_type": "stream",
     "text": [
      "cardboard before augmentation: len(images) = 605\n",
      "augm_images_dir_path = /content/garbage_classification_TrainValidTest/valid/cardboard\n",
      "cardboard after augmentation: len(images) = 660\n",
      "glass before augmentation: len(images) = 748\n",
      "augm_images_dir_path = /content/garbage_classification_TrainValidTest/valid/glass\n",
      "glass after augmentation: len(images) = 816\n",
      "metal before augmentation: len(images) = 616\n",
      "augm_images_dir_path = /content/garbage_classification_TrainValidTest/valid/metal\n",
      "metal after augmentation: len(images) = 672\n",
      "paper before augmentation: len(images) = 891\n",
      "augm_images_dir_path = /content/garbage_classification_TrainValidTest/valid/paper\n",
      "paper after augmentation: len(images) = 972\n",
      "plastic before augmentation: len(images) = 715\n",
      "augm_images_dir_path = /content/garbage_classification_TrainValidTest/valid/plastic\n",
      "plastic after augmentation: len(images) = 780\n",
      "trash before augmentation: len(images) = 209\n",
      "augm_images_dir_path = /content/garbage_classification_TrainValidTest/valid/trash\n",
      "trash after augmentation: len(images) = 228\n"
     ]
    }
   ],
   "source": [
    "for image_class_filepath, garbage_class_name in zip(image_classes_filepaths, garbage_class_names):\n",
    "  image_filepath = image_class_filepath\n",
    "\n",
    "  image_names = os.listdir(image_filepath)\n",
    "  augmented_images_dir = image_class_filepath\n",
    "  print(f\"{garbage_class_name} before augmentation: len(images) = {len(image_names)}\")\n",
    "\n",
    "  # Perform augmentation\n",
    "  print(f\"augm_images_dir_path = {augmented_images_dir}\")\n",
    "  perform_cv2_flip_augmentation(flip_code=1, images=garbage_class_images[garbage_class_name],\n",
    "                                image_filenames=garbage_class_image_names[garbage_class_name],\n",
    "                                augm_images_dir_path=augmented_images_dir, target_size=target_size,\n",
    "                                augm_prefix='aug_hFlip', num_augm_images=1,\n",
    "                                save_augm_image=True, display_orig_augm_images=False)\n",
    "\n",
    "  image_names = os.listdir(image_class_filepath)\n",
    "  print(f\"{garbage_class_name} after augmentation: len(images) = {len(image_names)}\")"
   ]
  },
  {
   "cell_type": "markdown",
   "id": "Lxd7HGmlsyRc",
   "metadata": {
    "id": "Lxd7HGmlsyRc"
   },
   "source": [
    "### vertical_flip"
   ]
  },
  {
   "cell_type": "code",
   "execution_count": 55,
   "id": "k-TBIPuzs-K9",
   "metadata": {
    "colab": {
     "base_uri": "https://localhost:8080/"
    },
    "id": "k-TBIPuzs-K9",
    "outputId": "de8f8851-772e-45c5-e3a4-ab34c08953c4"
   },
   "outputs": [
    {
     "name": "stdout",
     "output_type": "stream",
     "text": [
      "cardboard before augmentation: len(images) = 660\n",
      "augm_images_dir_path = /content/garbage_classification_TrainValidTest/valid/cardboard\n",
      "cardboard after augmentation: len(images) = 715\n",
      "\n",
      "glass before augmentation: len(images) = 816\n",
      "augm_images_dir_path = /content/garbage_classification_TrainValidTest/valid/glass\n",
      "glass after augmentation: len(images) = 884\n",
      "\n",
      "metal before augmentation: len(images) = 672\n",
      "augm_images_dir_path = /content/garbage_classification_TrainValidTest/valid/metal\n",
      "metal after augmentation: len(images) = 728\n",
      "\n",
      "paper before augmentation: len(images) = 972\n",
      "augm_images_dir_path = /content/garbage_classification_TrainValidTest/valid/paper\n",
      "paper after augmentation: len(images) = 1053\n",
      "\n",
      "plastic before augmentation: len(images) = 780\n",
      "augm_images_dir_path = /content/garbage_classification_TrainValidTest/valid/plastic\n",
      "plastic after augmentation: len(images) = 845\n",
      "\n",
      "trash before augmentation: len(images) = 228\n",
      "augm_images_dir_path = /content/garbage_classification_TrainValidTest/valid/trash\n",
      "trash after augmentation: len(images) = 247\n",
      "\n"
     ]
    }
   ],
   "source": [
    "for image_class_filepath, garbage_class_name in zip(image_classes_filepaths, garbage_class_names):\n",
    "  image_filepath = image_class_filepath\n",
    "\n",
    "  image_names = os.listdir(image_filepath)\n",
    "  augmented_images_dir = image_class_filepath\n",
    "  print(f\"{garbage_class_name} before augmentation: len(images) = {len(image_names)}\")\n",
    "\n",
    "  # Perform augmentation\n",
    "  print(f\"augm_images_dir_path = {augmented_images_dir}\")\n",
    "  perform_cv2_flip_augmentation(flip_code=0, images=garbage_class_images[garbage_class_name],\n",
    "                                image_filenames=garbage_class_image_names[garbage_class_name],\n",
    "                                augm_images_dir_path=augmented_images_dir, target_size=target_size,\n",
    "                                augm_prefix='aug_vFlip', num_augm_images=1,\n",
    "                                save_augm_image=True, display_orig_augm_images=False)\n",
    "\n",
    "  image_names = os.listdir(image_class_filepath)\n",
    "  print(f\"{garbage_class_name} after augmentation: len(images) = {len(image_names)}\\n\")"
   ]
  },
  {
   "cell_type": "markdown",
   "id": "oZNmeaEis_M9",
   "metadata": {
    "id": "oZNmeaEis_M9"
   },
   "source": [
    "### zoom = scaling"
   ]
  },
  {
   "cell_type": "markdown",
   "id": "PLEmuhGMtKR2",
   "metadata": {
    "id": "PLEmuhGMtKR2"
   },
   "source": [
    "#### Enlarge the image (bring it closer to the viewer) - ImageDataGenerator +"
   ]
  },
  {
   "cell_type": "code",
   "execution_count": 56,
   "id": "oC_mli1ptJFM",
   "metadata": {
    "colab": {
     "base_uri": "https://localhost:8080/"
    },
    "id": "oC_mli1ptJFM",
    "outputId": "20a2f789-b1a1-4c76-9f66-c6d0bc0b8d36"
   },
   "outputs": [
    {
     "name": "stdout",
     "output_type": "stream",
     "text": [
      "cardboard before augmentation: len(images) = 715\n",
      "cardboard after augmentation: len(images) = 770\n",
      "\n",
      "glass before augmentation: len(images) = 884\n",
      "glass after augmentation: len(images) = 952\n",
      "\n",
      "metal before augmentation: len(images) = 728\n",
      "metal after augmentation: len(images) = 784\n",
      "\n",
      "paper before augmentation: len(images) = 1053\n",
      "paper after augmentation: len(images) = 1134\n",
      "\n",
      "plastic before augmentation: len(images) = 845\n",
      "plastic after augmentation: len(images) = 910\n",
      "\n",
      "trash before augmentation: len(images) = 247\n",
      "trash after augmentation: len(images) = 266\n",
      "\n"
     ]
    }
   ],
   "source": [
    "# Define your augmentation parameters\n",
    "datagen = ImageDataGenerator(\n",
    "    zoom_range=(0.8, 1),\n",
    "    fill_mode='constant'\n",
    ")\n",
    "\n",
    "for image_class_filepath, garbage_class_name in zip(image_classes_filepaths, garbage_class_names):\n",
    "  image_filepath = image_class_filepath\n",
    "\n",
    "  image_names = os.listdir(image_filepath)\n",
    "  augmented_images_dir = image_class_filepath\n",
    "  print(f\"{garbage_class_name} before augmentation: len(images) = {len(image_names)}\")\n",
    "\n",
    "  # Perform augmentation\n",
    "  perform_ImageDataGen_augmentation(imageDataGenerator=datagen, images=garbage_class_images[garbage_class_name],\n",
    "                                    image_filenames=garbage_class_image_names[garbage_class_name],\n",
    "                                    augm_images_dir_path=augmented_images_dir,\n",
    "                                    target_size=target_size,\n",
    "                                    augm_prefix='aug_iZoom', num_augm_images=1,\n",
    "                                    save_augm_image=True, display_orig_augm_images=False)\n",
    "\n",
    "  image_names = os.listdir(image_class_filepath)\n",
    "  print(f\"{garbage_class_name} after augmentation: len(images) = {len(image_names)}\\n\")"
   ]
  },
  {
   "cell_type": "markdown",
   "id": "3CXocmX_tJRk",
   "metadata": {
    "id": "3CXocmX_tJRk"
   },
   "source": [
    "#### Reduce the image (move it away from the viewer) - ImageDataGenerator +"
   ]
  },
  {
   "cell_type": "code",
   "execution_count": 57,
   "id": "V716jtPotgB1",
   "metadata": {
    "colab": {
     "base_uri": "https://localhost:8080/"
    },
    "id": "V716jtPotgB1",
    "outputId": "08731f33-8fa6-4598-e015-6eb9fc159511"
   },
   "outputs": [
    {
     "name": "stdout",
     "output_type": "stream",
     "text": [
      "cardboard before augmentation: len(images) = 770\n",
      "cardboard after augmentation: len(images) = 825\n",
      "\n",
      "glass before augmentation: len(images) = 952\n",
      "glass after augmentation: len(images) = 1020\n",
      "\n",
      "metal before augmentation: len(images) = 784\n",
      "metal after augmentation: len(images) = 840\n",
      "\n",
      "paper before augmentation: len(images) = 1134\n",
      "paper after augmentation: len(images) = 1215\n",
      "\n",
      "plastic before augmentation: len(images) = 910\n",
      "plastic after augmentation: len(images) = 975\n",
      "\n",
      "trash before augmentation: len(images) = 266\n",
      "trash after augmentation: len(images) = 285\n",
      "\n"
     ]
    }
   ],
   "source": [
    "# Define your augmentation parameters\n",
    "datagen = ImageDataGenerator(\n",
    "    zoom_range=(1, 1.2),\n",
    "    fill_mode='constant'\n",
    ")\n",
    "\n",
    "for image_class_filepath, garbage_class_name in zip(image_classes_filepaths, garbage_class_names):\n",
    "  image_filepath = image_class_filepath\n",
    "\n",
    "  image_names = os.listdir(image_filepath)\n",
    "  augmented_images_dir = image_class_filepath\n",
    "  print(f\"{garbage_class_name} before augmentation: len(images) = {len(image_names)}\")\n",
    "\n",
    "  # Perform augmentation\n",
    "  perform_ImageDataGen_augmentation(imageDataGenerator=datagen, images=garbage_class_images[garbage_class_name],\n",
    "                                    image_filenames=garbage_class_image_names[garbage_class_name],\n",
    "                                    augm_images_dir_path=augmented_images_dir,\n",
    "                                    target_size=target_size,\n",
    "                                    augm_prefix='aug_dZoom', num_augm_images=1,\n",
    "                                    save_augm_image=True, display_orig_augm_images=False)\n",
    "\n",
    "  image_names = os.listdir(image_class_filepath)\n",
    "  print(f\"{garbage_class_name} after augmentation: len(images) = {len(image_names)}\\n\")"
   ]
  },
  {
   "cell_type": "markdown",
   "id": "zLqDaHmgtgTd",
   "metadata": {
    "id": "zLqDaHmgtgTd"
   },
   "source": [
    "### brightness_shift"
   ]
  },
  {
   "cell_type": "code",
   "execution_count": 58,
   "id": "Gec8GLoctvh1",
   "metadata": {
    "colab": {
     "base_uri": "https://localhost:8080/"
    },
    "id": "Gec8GLoctvh1",
    "outputId": "fe2a9f65-82c5-47a6-9d5c-ae8480e01c1c"
   },
   "outputs": [
    {
     "name": "stdout",
     "output_type": "stream",
     "text": [
      "cardboard before augmentation: len(images) = 825\n",
      "cardboard after augmentation: len(images) = 880\n",
      "\n",
      "glass before augmentation: len(images) = 1020\n",
      "glass after augmentation: len(images) = 1088\n",
      "\n",
      "metal before augmentation: len(images) = 840\n",
      "metal after augmentation: len(images) = 896\n",
      "\n",
      "paper before augmentation: len(images) = 1215\n",
      "paper after augmentation: len(images) = 1296\n",
      "\n",
      "plastic before augmentation: len(images) = 975\n",
      "plastic after augmentation: len(images) = 1040\n",
      "\n",
      "trash before augmentation: len(images) = 285\n",
      "trash after augmentation: len(images) = 304\n",
      "\n"
     ]
    }
   ],
   "source": [
    "datagen = ImageDataGenerator(\n",
    "    brightness_range=(0.5, 0.5),\n",
    "    fill_mode='nearest'\n",
    ")\n",
    "\n",
    "for image_class_filepath, garbage_class_name in zip(image_classes_filepaths, garbage_class_names):\n",
    "  image_filepath = image_class_filepath\n",
    "\n",
    "  image_names = os.listdir(image_filepath)\n",
    "  augmented_images_dir = image_class_filepath\n",
    "  print(f\"{garbage_class_name} before augmentation: len(images) = {len(image_names)}\")\n",
    "\n",
    "  # Perform augmentation\n",
    "  perform_ImageDataGen_augmentation(imageDataGenerator=datagen, images=garbage_class_images[garbage_class_name],\n",
    "                                    image_filenames=garbage_class_image_names[garbage_class_name],\n",
    "                                    augm_images_dir_path=augmented_images_dir,\n",
    "                                    target_size=target_size,\n",
    "                                    augm_prefix='aug_blackBrightness_0.5', num_augm_images=1,\n",
    "                                    save_augm_image=True, display_orig_augm_images=False)\n",
    "\n",
    "  image_names = os.listdir(image_class_filepath)\n",
    "  print(f\"{garbage_class_name} after augmentation: len(images) = {len(image_names)}\\n\")"
   ]
  },
  {
   "cell_type": "code",
   "execution_count": 59,
   "id": "AbJMQn6lt-3e",
   "metadata": {
    "colab": {
     "base_uri": "https://localhost:8080/"
    },
    "id": "AbJMQn6lt-3e",
    "outputId": "399fae71-6896-40a7-fce3-379759377360"
   },
   "outputs": [
    {
     "name": "stdout",
     "output_type": "stream",
     "text": [
      "cardboard before augmentation: len(images) = 880\n",
      "cardboard after augmentation: len(images) = 935\n",
      "\n",
      "glass before augmentation: len(images) = 1088\n",
      "glass after augmentation: len(images) = 1156\n",
      "\n",
      "metal before augmentation: len(images) = 896\n",
      "metal after augmentation: len(images) = 952\n",
      "\n",
      "paper before augmentation: len(images) = 1296\n",
      "paper after augmentation: len(images) = 1377\n",
      "\n",
      "plastic before augmentation: len(images) = 1040\n",
      "plastic after augmentation: len(images) = 1105\n",
      "\n",
      "trash before augmentation: len(images) = 304\n",
      "trash after augmentation: len(images) = 323\n",
      "\n"
     ]
    }
   ],
   "source": [
    "datagen = ImageDataGenerator(\n",
    "    brightness_range=(1.25, 1.25),\n",
    "    fill_mode='nearest'\n",
    ")\n",
    "\n",
    "for image_class_filepath, garbage_class_name in zip(image_classes_filepaths, garbage_class_names):\n",
    "  image_filepath = image_class_filepath\n",
    "\n",
    "  image_names = os.listdir(image_filepath)\n",
    "  augmented_images_dir = image_class_filepath\n",
    "  print(f\"{garbage_class_name} before augmentation: len(images) = {len(image_names)}\")\n",
    "\n",
    "  # Perform augmentation\n",
    "  perform_ImageDataGen_augmentation(imageDataGenerator=datagen, images=garbage_class_images[garbage_class_name],\n",
    "                                    image_filenames=garbage_class_image_names[garbage_class_name],\n",
    "                                    augm_images_dir_path=augmented_images_dir,\n",
    "                                    target_size=target_size,\n",
    "                                    augm_prefix='aug_ligthBrightness_1.25', num_augm_images=1,\n",
    "                                    save_augm_image=True, display_orig_augm_images=False)\n",
    "\n",
    "  image_names = os.listdir(image_class_filepath)\n",
    "  print(f\"{garbage_class_name} after augmentation: len(images) = {len(image_names)}\\n\")"
   ]
  },
  {
   "cell_type": "markdown",
   "id": "lADCJADjtvxU",
   "metadata": {
    "id": "lADCJADjtvxU"
   },
   "source": [
    "### contrast augmentation"
   ]
  },
  {
   "cell_type": "code",
   "execution_count": 60,
   "id": "2KyAabx-uLV0",
   "metadata": {
    "colab": {
     "base_uri": "https://localhost:8080/"
    },
    "id": "2KyAabx-uLV0",
    "outputId": "09d52fe8-6667-45bb-9d22-52c495fa88fd"
   },
   "outputs": [
    {
     "name": "stdout",
     "output_type": "stream",
     "text": [
      "cardboard before augmentation: len(images) = 935\n",
      "cardboard after augmentation: len(images) = 990\n",
      "\n",
      "glass before augmentation: len(images) = 1156\n",
      "glass after augmentation: len(images) = 1224\n",
      "\n",
      "metal before augmentation: len(images) = 952\n",
      "metal after augmentation: len(images) = 1008\n",
      "\n",
      "paper before augmentation: len(images) = 1377\n",
      "paper after augmentation: len(images) = 1458\n",
      "\n",
      "plastic before augmentation: len(images) = 1105\n",
      "plastic after augmentation: len(images) = 1170\n",
      "\n",
      "trash before augmentation: len(images) = 323\n",
      "trash after augmentation: len(images) = 342\n",
      "\n"
     ]
    }
   ],
   "source": [
    "contrast_factor = 2.0\n",
    "for image_class_filepath, garbage_class_name in zip(image_classes_filepaths, garbage_class_names):\n",
    "  image_filepath = image_class_filepath\n",
    "\n",
    "  image_names = os.listdir(image_filepath)\n",
    "  augmented_images_dir = image_class_filepath\n",
    "  print(f\"{garbage_class_name} before augmentation: len(images) = {len(image_names)}\")\n",
    "\n",
    "  for image, image_name in zip(garbage_class_images[garbage_class_name], garbage_class_image_names[garbage_class_name]):\n",
    "    augmented_image = get_contrast_augmentation_image(image=image, contrast_factor=contrast_factor)\n",
    "    augmented_image_name = f\"aug_Contrast_{image_name.split('.')[0]}_0.jpg\"\n",
    "    augmented_image_path = os.path.join(augmented_images_dir, augmented_image_name)\n",
    "    cv2.imwrite(augmented_image_path, cv2.cvtColor(augmented_image, cv2.COLOR_BGR2RGB))\n",
    "\n",
    "  image_names = os.listdir(image_class_filepath)\n",
    "  print(f\"{garbage_class_name} after augmentation: len(images) = {len(image_names)}\\n\")"
   ]
  },
  {
   "cell_type": "markdown",
   "id": "xPP3kC0vuLgD",
   "metadata": {
    "id": "xPP3kC0vuLgD"
   },
   "source": [
    "### color space transformations (HSV) augmentation"
   ]
  },
  {
   "cell_type": "code",
   "execution_count": 61,
   "id": "ypPMgGi6udIm",
   "metadata": {
    "colab": {
     "base_uri": "https://localhost:8080/"
    },
    "id": "ypPMgGi6udIm",
    "outputId": "1acc57ef-3593-4a56-b3f2-209ba3cdc8bf"
   },
   "outputs": [
    {
     "name": "stdout",
     "output_type": "stream",
     "text": [
      "cardboard before augmentation: len(images) = 990\n",
      "cardboard after augmentation: len(images) = 1045\n",
      "\n",
      "glass before augmentation: len(images) = 1224\n",
      "glass after augmentation: len(images) = 1292\n",
      "\n",
      "metal before augmentation: len(images) = 1008\n",
      "metal after augmentation: len(images) = 1064\n",
      "\n",
      "paper before augmentation: len(images) = 1458\n",
      "paper after augmentation: len(images) = 1539\n",
      "\n",
      "plastic before augmentation: len(images) = 1170\n",
      "plastic after augmentation: len(images) = 1235\n",
      "\n",
      "trash before augmentation: len(images) = 342\n",
      "trash after augmentation: len(images) = 361\n",
      "\n"
     ]
    }
   ],
   "source": [
    "hue_shift=180\n",
    "\n",
    "for image_class_filepath, garbage_class_name in zip(image_classes_filepaths, garbage_class_names):\n",
    "  image_filepath = image_class_filepath\n",
    "\n",
    "  image_names = os.listdir(image_filepath)\n",
    "  augmented_images_dir = image_class_filepath\n",
    "  print(f\"{garbage_class_name} before augmentation: len(images) = {len(image_names)}\")\n",
    "\n",
    "  for image, image_name in zip(garbage_class_images[garbage_class_name], garbage_class_image_names[garbage_class_name]):\n",
    "    augmented_image = get_hsv_image(image=image, hue_shift=hue_shift)\n",
    "    augmented_image_name = f\"aug_hsv_{image_name.split('.')[0]}_0.jpg\"\n",
    "    augmented_image_path = os.path.join(augmented_images_dir, augmented_image_name)\n",
    "    cv2.imwrite(augmented_image_path, cv2.cvtColor(augmented_image, cv2.COLOR_BGR2RGB))\n",
    "\n",
    "  image_names = os.listdir(image_class_filepath)\n",
    "  print(f\"{garbage_class_name} after augmentation: len(images) = {len(image_names)}\\n\")"
   ]
  },
  {
   "cell_type": "markdown",
   "id": "HHp2s0HkuwPs",
   "metadata": {
    "id": "HHp2s0HkuwPs"
   },
   "source": [
    "### Save valid directory"
   ]
  },
  {
   "cell_type": "code",
   "execution_count": 62,
   "id": "Rfgi2wPeuy0l",
   "metadata": {
    "id": "Rfgi2wPeuy0l"
   },
   "outputs": [],
   "source": [
    "#!zip -r /content/valid.zip /content/garbage_classification_TrainValidTest/valid"
   ]
  },
  {
   "cell_type": "markdown",
   "id": "YEiPqicE3SOv",
   "metadata": {
    "id": "YEiPqicE3SOv"
   },
   "source": [
    "## Save test directory"
   ]
  },
  {
   "cell_type": "code",
   "execution_count": null,
   "id": "00TsaCNs3Vge",
   "metadata": {
    "id": "00TsaCNs3Vge"
   },
   "outputs": [],
   "source": [
    "#!zip -r /content/test.zip /content/garbage_classification_TrainValidTest/test"
   ]
  },
  {
   "cell_type": "markdown",
   "id": "f3eb9d9a-0496-48a9-886d-09fa9887b70c",
   "metadata": {
    "id": "f3eb9d9a-0496-48a9-886d-09fa9887b70c"
   },
   "source": [
    "# Train CNN model"
   ]
  },
  {
   "cell_type": "markdown",
   "id": "edc62474-9df5-4c7d-95ab-f24e06263167",
   "metadata": {
    "id": "edc62474-9df5-4c7d-95ab-f24e06263167"
   },
   "source": [
    "## Create train and valid datagenerators"
   ]
  },
  {
   "cell_type": "code",
   "execution_count": 63,
   "id": "63ef1aa3-a7bc-4f2f-9628-6c3e46da1b7e",
   "metadata": {
    "colab": {
     "base_uri": "https://localhost:8080/"
    },
    "id": "63ef1aa3-a7bc-4f2f-9628-6c3e46da1b7e",
    "outputId": "c1f67d1e-e2ed-424d-b10b-b0109a145a2d"
   },
   "outputs": [
    {
     "name": "stdout",
     "output_type": "stream",
     "text": [
      "Found 36613 images belonging to 6 classes.\n",
      "Found 6536 images belonging to 6 classes.\n"
     ]
    }
   ],
   "source": [
    "train_dir_path = '/content/garbage_classification_TrainValidTest/train/'\n",
    "valid_dir_path = '/content/garbage_classification_TrainValidTest/valid/'\n",
    "test_dir_path = '/content/garbage_classification_TrainValidTest/test/'\n",
    "\n",
    "train_datagen = ImageDataGenerator(rescale=(1./255.))\n",
    "train_generator = train_datagen.flow_from_directory(directory=train_dir_path,\n",
    "                                                    batch_size=64,\n",
    "                                                    class_mode='categorical',\n",
    "                                                    target_size=(300, 300))\n",
    "\n",
    "valid_datagen = ImageDataGenerator(rescale=(1./255.))\n",
    "valid_generator = valid_datagen.flow_from_directory(directory=valid_dir_path,\n",
    "                                                    batch_size=64,\n",
    "                                                    class_mode='categorical',\n",
    "                                                    target_size=(300, 300))"
   ]
  },
  {
   "cell_type": "markdown",
   "id": "13283774-a7c5-4e2b-ae38-7f036153ccf1",
   "metadata": {
    "id": "13283774-a7c5-4e2b-ae38-7f036153ccf1"
   },
   "source": [
    "## Train the model"
   ]
  },
  {
   "cell_type": "code",
   "execution_count": 76,
   "id": "30815f75-7eb4-484e-bf11-9c03f9394b89",
   "metadata": {
    "id": "30815f75-7eb4-484e-bf11-9c03f9394b89"
   },
   "outputs": [],
   "source": [
    "class myCallback(tf.keras.callbacks.Callback):\n",
    "    def on_epoch_end(self, epoch, logs={}):\n",
    "        if(logs.get('accuracy')>0.95):\n",
    "            print(\"\\nReached 95% accuracy so cancelling training!\")\n",
    "            self.model.stop_training = True"
   ]
  },
  {
   "cell_type": "code",
   "execution_count": 74,
   "id": "f1d2ef1f-e109-424e-b0f8-5bcf08d34c4d",
   "metadata": {
    "colab": {
     "base_uri": "https://localhost:8080/"
    },
    "id": "f1d2ef1f-e109-424e-b0f8-5bcf08d34c4d",
    "outputId": "404a4665-8b94-471c-dba5-4825fb864900"
   },
   "outputs": [
    {
     "name": "stdout",
     "output_type": "stream",
     "text": [
      "Model: \"sequential_2\"\n",
      "_________________________________________________________________\n",
      " Layer (type)                Output Shape              Param #   \n",
      "=================================================================\n",
      " conv2d_8 (Conv2D)           (None, 298, 298, 32)      896       \n",
      "                                                                 \n",
      " max_pooling2d_8 (MaxPoolin  (None, 149, 149, 32)      0         \n",
      " g2D)                                                            \n",
      "                                                                 \n",
      " conv2d_9 (Conv2D)           (None, 147, 147, 64)      18496     \n",
      "                                                                 \n",
      " max_pooling2d_9 (MaxPoolin  (None, 73, 73, 64)        0         \n",
      " g2D)                                                            \n",
      "                                                                 \n",
      " conv2d_10 (Conv2D)          (None, 71, 71, 128)       73856     \n",
      "                                                                 \n",
      " flatten_2 (Flatten)         (None, 645248)            0         \n",
      "                                                                 \n",
      " dense_4 (Dense)             (None, 128)               82591872  \n",
      "                                                                 \n",
      " dense_5 (Dense)             (None, 6)                 774       \n",
      "                                                                 \n",
      "=================================================================\n",
      "Total params: 82685894 (315.42 MB)\n",
      "Trainable params: 82685894 (315.42 MB)\n",
      "Non-trainable params: 0 (0.00 Byte)\n",
      "_________________________________________________________________\n"
     ]
    }
   ],
   "source": [
    "model = tf.keras.models.Sequential(layers=[\n",
    "    tf.keras.layers.Conv2D(32, (3, 3), activation='relu', input_shape=(300, 300, 3)),\n",
    "    tf.keras.layers.MaxPooling2D(2, 2),\n",
    "    tf.keras.layers.Conv2D(64, (3, 3), activation='relu'),\n",
    "    tf.keras.layers.MaxPooling2D(2, 2),\n",
    "    tf.keras.layers.Conv2D(128, (3, 3), activation='relu'),\n",
    "\n",
    "    tf.keras.layers.Flatten(),\n",
    "    tf.keras.layers.Dense(128, activation='relu'),\n",
    "    tf.keras.layers.Dense(6, activation='softmax')\n",
    "])\n",
    "\n",
    "model.summary()"
   ]
  },
  {
   "cell_type": "code",
   "execution_count": 77,
   "id": "b0afca06-7431-4884-9c44-60d418f40731",
   "metadata": {
    "id": "b0afca06-7431-4884-9c44-60d418f40731"
   },
   "outputs": [],
   "source": [
    "early_stopping_callback = EarlyStopping(monitor='val_loss', patience=3)\n",
    "my_callback = myCallback()"
   ]
  },
  {
   "cell_type": "code",
   "execution_count": 78,
   "id": "7b0a1c58-2a7b-4429-802e-4a53cf225ea1",
   "metadata": {
    "id": "7b0a1c58-2a7b-4429-802e-4a53cf225ea1"
   },
   "outputs": [],
   "source": [
    "model.compile(optimizer=tf.optimizers.Adam(),\n",
    "                loss='categorical_crossentropy',\n",
    "                metrics=['accuracy'])"
   ]
  },
  {
   "cell_type": "code",
   "execution_count": 79,
   "id": "0df2b073-47f0-48ea-991d-9914b1682f86",
   "metadata": {
    "colab": {
     "base_uri": "https://localhost:8080/"
    },
    "id": "0df2b073-47f0-48ea-991d-9914b1682f86",
    "outputId": "58b91878-4535-4932-b298-624e4d22a3e1"
   },
   "outputs": [
    {
     "name": "stdout",
     "output_type": "stream",
     "text": [
      "Epoch 1/100\n",
      "  6/573 [..............................] - ETA: 1:57 - loss: 26.6476 - accuracy: 0.2240"
     ]
    },
    {
     "name": "stderr",
     "output_type": "stream",
     "text": [
      "WARNING:tensorflow:Callback method `on_train_batch_end` is slow compared to the batch time (batch time: 0.0900s vs `on_train_batch_end` time: 0.0965s). Check your callbacks.\n"
     ]
    },
    {
     "name": "stdout",
     "output_type": "stream",
     "text": [
      "573/573 [==============================] - 188s 324ms/step - loss: 1.5617 - accuracy: 0.4794 - val_loss: 1.2138 - val_accuracy: 0.5773\n",
      "Epoch 2/100\n",
      "573/573 [==============================] - 183s 319ms/step - loss: 0.8317 - accuracy: 0.6969 - val_loss: 1.2133 - val_accuracy: 0.6079\n",
      "Epoch 3/100\n",
      "573/573 [==============================] - 186s 324ms/step - loss: 0.5946 - accuracy: 0.7947 - val_loss: 1.2615 - val_accuracy: 0.6137\n",
      "Epoch 4/100\n",
      "573/573 [==============================] - 166s 290ms/step - loss: 0.4183 - accuracy: 0.8588 - val_loss: 1.4070 - val_accuracy: 0.6172\n",
      "Epoch 5/100\n",
      "573/573 [==============================] - 185s 323ms/step - loss: 0.2954 - accuracy: 0.9014 - val_loss: 1.5739 - val_accuracy: 0.6048\n"
     ]
    }
   ],
   "source": [
    "history = model.fit(train_generator,\n",
    "                    epochs=100,\n",
    "                    verbose=1,\n",
    "                    validation_data=valid_generator,\n",
    "                    callbacks=[early_stopping_callback, my_callback])"
   ]
  },
  {
   "cell_type": "markdown",
   "id": "b37eb6e6-b6fe-4c30-b916-d94c4cc7f5e2",
   "metadata": {
    "id": "b37eb6e6-b6fe-4c30-b916-d94c4cc7f5e2"
   },
   "source": [
    "## Display results of training"
   ]
  },
  {
   "cell_type": "markdown",
   "id": "72b0ba51-1985-4045-a9de-c5a927e24cd4",
   "metadata": {
    "id": "72b0ba51-1985-4045-a9de-c5a927e24cd4"
   },
   "source": [
    "### Display the training history"
   ]
  },
  {
   "cell_type": "code",
   "execution_count": 80,
   "id": "f6a14c8b-f797-4d4a-8eae-f6caa4a65caa",
   "metadata": {
    "colab": {
     "base_uri": "https://localhost:8080/",
     "height": 542
    },
    "id": "f6a14c8b-f797-4d4a-8eae-f6caa4a65caa",
    "outputId": "12246791-ab8f-4b13-b210-64527cd4d997"
   },
   "outputs": [
    {
     "data": {
      "image/png": "[encoded data removed]",
      "text/plain": [
       "<Figure size 1200x600 with 2 Axes>"
      ]
     },
     "metadata": {},
     "output_type": "display_data"
    }
   ],
   "source": [
    "plot_graphs(history=history, strings=['accuracy', 'loss'], filename='/content/graphs/training_history') # , filename='graphs/training_history'"
   ]
  },
  {
   "cell_type": "markdown",
   "id": "2e9b698d-9a7e-4a43-bbe6-ddf7edc6b05c",
   "metadata": {
    "id": "2e9b698d-9a7e-4a43-bbe6-ddf7edc6b05c"
   },
   "source": [
    "### Save the model"
   ]
  },
  {
   "cell_type": "code",
   "execution_count": 70,
   "id": "fdf75ef6-e7f3-4e5e-aa4c-88a93cbc6d87",
   "metadata": {
    "colab": {
     "base_uri": "https://localhost:8080/"
    },
    "id": "fdf75ef6-e7f3-4e5e-aa4c-88a93cbc6d87",
    "outputId": "7b619efa-8f6b-4830-e1a5-b1516fe01598"
   },
   "outputs": [
    {
     "name": "stderr",
     "output_type": "stream",
     "text": [
      "/usr/local/lib/python3.10/dist-packages/keras/src/engine/training.py:3000: UserWarning: You are saving your model as an HDF5 file via `model.save()`. This file format is considered legacy. We recommend using instead the native Keras format, e.g. `model.save('my_model.keras')`.\n",
      "  saving_api.save_model(\n"
     ]
    }
   ],
   "source": [
    "model.save('/content/models/3_augmentation_garbage_classification_6_classes_model.h5')"
   ]
  },
  {
   "cell_type": "code",
   "execution_count": 72,
   "id": "0024dba9-a088-412c-b01c-87e7da4ddc7d",
   "metadata": {
    "id": "0024dba9-a088-412c-b01c-87e7da4ddc7d"
   },
   "outputs": [],
   "source": [
    "with open('/content/models/histories/3_augmentation_garbage_classification_6_classes_model_history.pkl', 'wb') as f:\n",
    "    pickle.dump(history.history, f)"
   ]
  }
 ],
 "metadata": {
  "accelerator": "GPU",
  "colab": {
   "collapsed_sections": [
    "5PxQiefcUULF",
    "cwXhFVwTUYPI",
    "dbf37818-0dab-4224-a771-2ed14b1bb34c",
    "a9d3365a-13fe-480a-b5a1-a73191acca39",
    "e59dd5b1-3054-4e06-a376-42362774907a",
    "158972c1-8c86-45a5-a767-c7b37b1b6608",
    "3f09ee41-db3b-4db9-825c-ae22aaa2f0ac",
    "6c48c3ae-6c6d-4887-8c22-649ebeb751ef",
    "50d2c56e-aac4-4403-a89c-177d7584ca76",
    "rMRZMug1axTK",
    "SVoc99d2bFV6",
    "r1oj75sjbMPq",
    "Nq6an5m7bYeU",
    "xN_CBfSMbsNy",
    "URnp4hbnb_kD",
    "M6N_HmcbcdN6",
    "OvIN0bJrdWjL",
    "auf2c59BdgWR",
    "LhPjOZiNuN0O",
    "Wm0HzUnim4GY",
    "S1YCpPVUryl2",
    "iDPvcoMgseEW",
    "NdonW8OusrtF",
    "Lxd7HGmlsyRc",
    "oZNmeaEis_M9",
    "PLEmuhGMtKR2",
    "3CXocmX_tJRk",
    "zLqDaHmgtgTd",
    "lADCJADjtvxU",
    "xPP3kC0vuLgD",
    "YEiPqicE3SOv"
   ],
   "gpuType": "T4",
   "provenance": []
  },
  "kernelspec": {
   "display_name": "Python 3 (ipykernel)",
   "language": "python",
   "name": "python3"
  },
  "language_info": {
   "codemirror_mode": {
    "name": "ipython",
    "version": 3
   },
   "file_extension": ".py",
   "mimetype": "text/x-python",
   "name": "python",
   "nbconvert_exporter": "python",
   "pygments_lexer": "ipython3",
   "version": "3.10.8"
  }
 },
 "nbformat": 4,
 "nbformat_minor": 5
}
