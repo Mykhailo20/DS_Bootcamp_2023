{
 "cells": [
  {
   "cell_type": "code",
   "execution_count": 1,
   "id": "a0dd23ce-27f3-4a11-a13a-2a95e4d058f9",
   "metadata": {},
   "outputs": [],
   "source": [
    "import numpy as np\n",
    "import cv2\n",
    "import torch\n",
    "import imutils\n",
    "import easyocr"
   ]
  },
  {
   "cell_type": "code",
   "execution_count": 2,
   "id": "2f4d2757-7747-494b-8b9e-ad9914c10e00",
   "metadata": {},
   "outputs": [
    {
     "name": "stdout",
     "output_type": "stream",
     "text": [
      "tensor([[0.0416, 0.9620, 0.5761],\n",
      "        [0.1646, 0.6622, 0.0698],\n",
      "        [0.2724, 0.5724, 0.4365],\n",
      "        [0.7984, 0.6541, 0.9854],\n",
      "        [0.3962, 0.1281, 0.3268]])\n"
     ]
    }
   ],
   "source": [
    "x = torch.rand(5, 3)\n",
    "print(x)"
   ]
  }
 ],
 "metadata": {
  "kernelspec": {
   "display_name": "Python 3 (ipykernel)",
   "language": "python",
   "name": "python3"
  },
  "language_info": {
   "codemirror_mode": {
    "name": "ipython",
    "version": 3
   },
   "file_extension": ".py",
   "mimetype": "text/x-python",
   "name": "python",
   "nbconvert_exporter": "python",
   "pygments_lexer": "ipython3",
   "version": "3.10.8"
  }
 },
 "nbformat": 4,
 "nbformat_minor": 5
}
