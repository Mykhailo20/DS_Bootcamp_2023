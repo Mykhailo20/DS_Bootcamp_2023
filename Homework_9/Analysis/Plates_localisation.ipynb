{
 "cells": [
  {
   "cell_type": "code",
   "execution_count": 1,
   "id": "965592cf-1e0e-4b10-9750-e674f0e504fe",
   "metadata": {},
   "outputs": [],
   "source": [
    "import numpy as np\n",
    "import pandas as pd\n",
    "import matplotlib.pyplot as plt\n",
    "\n",
    "import cv2\n",
    "import imutils\n",
    "import easyocr\n",
    "\n",
    "import os"
   ]
  },
  {
   "cell_type": "code",
   "execution_count": 5,
   "id": "a530d2bf-5bb7-46dc-9f61-9739f4eaed1a",
   "metadata": {},
   "outputs": [
    {
     "name": "stdout",
     "output_type": "stream",
     "text": [
      "len(file_names) = 91\n"
     ]
    }
   ],
   "source": [
    "folder_path = 'data/images/one_car/0-99'\n",
    "file_names = os.listdir(folder_path)\n",
    "\n",
    "print(f\"len(file_names) = {len(file_names)}\")"
   ]
  },
  {
   "cell_type": "code",
   "execution_count": null,
   "id": "bf952f0c-9381-4476-9a7a-2a03dfd0e0f4",
   "metadata": {},
   "outputs": [],
   "source": [
    "output_folder_path = 'data/plates/one_car/0-99/'\n",
    "\n",
    "# Create the output folder if it doesn't exist\n",
    "os.makedirs(output_folder_path, exist_ok=True)\n",
    "\n",
    "license_plates_dict = {'image_name': [], 'x': [], 'y': [], 'width': [], 'height': [] }\n",
    "\n",
    "for file_name in file_names:\n",
    "    img = cv2.imread(os.path.join(folder_path, file_name))\n",
    "    gray = cv2.cvtColor(img, cv2.COLOR_BGR2GRAY) # Make the image gray\n",
    "    \n",
    "    bfilter = cv2.bilateralFilter(gray, 11, 17, 17) # Noise reduction\n",
    "    edged = cv2.Canny(bfilter, 30, 200) # Edge detection\n",
    "    \n",
    "    keypoints = cv2.findContours(edged.copy(), cv2.RETR_TREE, cv2.CHAIN_APPROX_SIMPLE) # Find keypoints\n",
    "    contours = imutils.grab_contours(keypoints) # Grab contours\n",
    "    contours = sorted(contours, key=cv2.contourArea, reverse=True)[:30] # Select the 10 largest contours \n",
    "    \n",
    "    # Find the position of the license plate (rectangle search)\n",
    "    location = None\n",
    "    for contour in contours:\n",
    "        approx = cv2.approxPolyDP(contour, 10, True)\n",
    "        if len(approx) == 4:\n",
    "            location = approx\n",
    "            break\n",
    "    \n",
    "    if location is None:\n",
    "        print(\"\\nLOCATION IS NONE!!!\")\n",
    "        plt.imshow(cv2.cvtColor(img, cv2.COLOR_BGR2RGB))\n",
    "        plt.title(file_name)\n",
    "        continue\n",
    "        \n",
    "    \n",
    "    # Extract the license plate from the original image\n",
    "    mask = np.zeros(gray.shape, np.uint8) # create a blank mask\n",
    "    new_image = cv2.drawContours(mask, [location], 0, 255, -1) # draw contours inside the mask image with location coordinates\n",
    "    new_image = cv2.bitwise_and(img, img, mask=mask) # Applying masks on top of the original image\n",
    "    (x, y) = np.where(mask==255)\n",
    "    (x1, y1) = (np.min(x), np.min(y))\n",
    "    (x2, y2) = (np.max(x), np.max(y))\n",
    "    cropped_image = gray[x1:x2 + 1, y1:y2 + 1]\n",
    "    \n",
    "    \n",
    "        \n",
    "    (x, y, w, h) = cv2.boundingRect(location)\n",
    "    \n",
    "    license_plates_dict['image_name'].append(file_name)\n",
    "    license_plates_dict['x'].append(x)\n",
    "    license_plates_dict['y'].append(y)\n",
    "    license_plates_dict['width'].append(w)\n",
    "    license_plates_dict['height'].append(h)\n",
    "    \n",
    "    # Create a sign image using (x, y, w, h) information\n",
    "    sign_image = img[y:y+h, x:x+w]\n",
    "    \n",
    "    output_file_path = os.path.join(output_folder_path, f'{file_name}_plate')\n",
    "    cv2.imwrite(output_file_path, sign_image)\n",
    "    \n",
    "    # Create a figure with two subplots: one for the car image and one for the license plate image\n",
    "    fig, axes = plt.subplots(1, 3, figsize=(12, 6))\n",
    "\n",
    "    # Display the car image on the left subplot\n",
    "    axes[0].imshow(cv2.cvtColor(img, cv2.COLOR_BGR2RGB))\n",
    "    axes[0].set_title(file_name)\n",
    "\n",
    "    # Display the license plate image in the middle subplot\n",
    "    axes[1].imshow(cv2.cvtColor(cropped_image, cv2.COLOR_BGR2RGB))\n",
    "    axes[1].set_title(file_name)\n",
    "    \n",
    "     # Display the sign image on the right subplot\n",
    "    axes[2].imshow(cv2.cvtColor(sign_image, cv2.COLOR_BGR2RGB))\n",
    "    axes[2].set_title('Sign Image')\n",
    "    \n",
    "    plt.show()  # Display the current image"
   ]
  }
 ],
 "metadata": {
  "kernelspec": {
   "display_name": "Python 3 (ipykernel)",
   "language": "python",
   "name": "python3"
  },
  "language_info": {
   "codemirror_mode": {
    "name": "ipython",
    "version": 3
   },
   "file_extension": ".py",
   "mimetype": "text/x-python",
   "name": "python",
   "nbconvert_exporter": "python",
   "pygments_lexer": "ipython3",
   "version": "3.10.8"
  }
 },
 "nbformat": 4,
 "nbformat_minor": 5
}
