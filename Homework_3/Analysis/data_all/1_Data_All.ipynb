{
 "cells": [
  {
   "cell_type": "code",
   "execution_count": null,
   "id": "7232d7a1-2d1d-4393-9ba8-d3dfba05f4ad",
   "metadata": {},
   "outputs": [],
   "source": [
    "import numpy as np\n",
    "import pandas as pd\n",
    "import matplotlib.pyplot as plt\n",
    "import seaborn as sns\n",
    "import datetime\n",
    "\n",
    "from scipy.fft import fft, fftfreq"
   ]
  },
  {
   "cell_type": "markdown",
   "id": "e1815313-c47f-42d4-8252-0e6015107156",
   "metadata": {
    "tags": []
   },
   "source": [
    "# Functions"
   ]
  },
  {
   "cell_type": "markdown",
   "id": "5007fdf8-3dd9-4c04-b57d-3401360b8332",
   "metadata": {
    "tags": []
   },
   "source": [
    "## Reading and preparing dataframe"
   ]
  },
  {
   "cell_type": "code",
   "execution_count": null,
   "id": "d58655b6-9afe-4272-8e25-a731a9f7cbe6",
   "metadata": {},
   "outputs": [],
   "source": [
    "def read_clear_df(filepath, skiprows=None, delimiter=',', columns_num=None):\n",
    "    \"\"\" A function for reading a dataset from a csv file and preparing the dataframe for work \n",
    "    (removing unnecessary columns, converting measurement results to float type)\n",
    "    Args:\n",
    "        1) filepath - the path to the csv file;\n",
    "        2) skiprows - the number of first rows in the csv file to skip;\n",
    "        3) delimiter - the character that separates the columns of the dataset;\n",
    "        4) columns_num - the number of first columns that should be in the dataframe (used to remove 'Unnamed' columns).\n",
    "    Returns:\n",
    "        df - a dataframe read from a file containing only the columns necessary for operation, and the measurement results cast to float type. \n",
    "    \"\"\"\n",
    "    df = pd.read_csv(filepath, skiprows=skiprows, delimiter=delimiter)\n",
    "    # Drop unnecessary columns\n",
    "    if (columns_num != None) and (len(df.columns) > columns_num):\n",
    "        for column in df.columns[columns_num:]:\n",
    "            df.drop([column], axis=1, inplace=True)\n",
    "            \n",
    "    # Convert measurement columns to the float type\n",
    "    for column in df.columns[1:]:    \n",
    "        df[column] = df[column].apply(lambda measurement_str: float(measurement_str.replace(',', '.')))\n",
    "        \n",
    "    return df"
   ]
  },
  {
   "cell_type": "markdown",
   "id": "35788ce5-6c20-4795-909f-d0a5377f70ef",
   "metadata": {
    "tags": []
   },
   "source": [
    "## Visualising results"
   ]
  },
  {
   "cell_type": "code",
   "execution_count": null,
   "id": "e63da873-3e20-49dd-83a6-3d67eb5b949e",
   "metadata": {},
   "outputs": [],
   "source": [
    "def display_three_axes(df, x, y, title=None, x_label=None, y_label=None):\n",
    "    \"\"\" Function for visualization of three axes (X, Y, Z) of the measurement results of the device\n",
    "    Args:\n",
    "        1) df - a dataframe containing the results of the device measurement;\n",
    "        2) x - the name of the column of the dataframe that contains the data for the OX axis (for the three lines, this is the same data);\n",
    "        3) y - the list containing the dataframe column names corresponding to the OX, OY, and OZ axis measurements, respectively;\n",
    "        4) title - title of the graph;\n",
    "        5) x_label - the name of the OX axis of the graph;\n",
    "        6) y_label - the name of the OY axis of the graph.\n",
    "    Returns:\n",
    "        Nothing, but plots graph\n",
    "    \"\"\"\n",
    "    plt.figure(figsize=(12, 6))\n",
    "    plt.plot(df[x], df[y[0]], label='X')\n",
    "    plt.plot(df[x], df[y[1]], label='Y')\n",
    "    plt.plot(df[x], df[y[2]], label='Z')\n",
    "    plt.title(title)\n",
    "    plt.xlabel(x_label)\n",
    "    plt.ylabel(y_label)\n",
    "    plt.legend()\n",
    "    plt.show()\n",
    "    \n",
    "\n",
    "def display_three_axes_sep(df, x, y, title=None, x_label=None, y_labels=None):\n",
    "    \"\"\" Function for visualization of three axes (X, Y, Z) of the measurement results of the device, a separate graph for each axis\n",
    "    Args:\n",
    "        1) df - a dataframe containing the results of the device measurement;\n",
    "        2) x - the name of the column of the dataframe that contains the data for the OX axis (for the three lines, this is the same data);\n",
    "        3) y - the list containing the dataframe column names corresponding to the OX, OY, and OZ axis measurements, respectively;\n",
    "        4) title - title of the graph;\n",
    "        5) x_label - the name of the OX axis of the graph;\n",
    "        6) y_labels - the list of names of the OY axis of the graph.\n",
    "    Returns:\n",
    "        Nothing, but plots graph\n",
    "    \"\"\"\n",
    "    fig, axes = plt.subplots(3, 1, figsize=(10, 18))\n",
    "    axes[0].plot(df[x], df[y[0]], color='blue')\n",
    "    axes[0].set_xlabel(x_label)\n",
    "    axes[0].set_ylabel(y_labels[0])\n",
    "    axes[0].set_title(title + ' accX')\n",
    "\n",
    "    axes[1].plot(df[x], df[y[1]], color='yellow')\n",
    "    axes[1].set_xlabel(x_label)\n",
    "    axes[1].set_ylabel(y_labels[1])\n",
    "    axes[1].set_title(title + ' accY')\n",
    "\n",
    "    axes[2].plot(df[x], df[y[2]], color='green')\n",
    "    axes[2].set_xlabel(x_label)\n",
    "    axes[2].set_ylabel(y_labels[2])\n",
    "    axes[2].set_title(title + ' accZ')\n",
    "\n",
    "    plt.show()"
   ]
  },
  {
   "cell_type": "markdown",
   "id": "56ffa0b5-a020-454d-ae08-069ff0f189e7",
   "metadata": {
    "tags": []
   },
   "source": [
    "## Exploring measurement time and frequency stability"
   ]
  },
  {
   "cell_type": "code",
   "execution_count": null,
   "id": "14c78538-f195-4532-ada2-7d81388b2074",
   "metadata": {},
   "outputs": [],
   "source": [
    "def get_measurement_time_df(df):\n",
    "    \"\"\" A function for building a dataframe that contains information about the time of measurement of each reading of the device\n",
    "    Args:\n",
    "        1) df - a dataframe that contains a 'time' column\n",
    "    Returns:\n",
    "        time_measurement_df - dataframe that contains information about the time of measurement of each reading of the device\n",
    "    \"\"\"\n",
    "    period_dict = {'start_time': [], 'end_time': [], 'measurement_time': []}\n",
    "    prev_time = None\n",
    "    curr_time = None\n",
    "    for index, row in df.iterrows():\n",
    "        if(index == len(df)):\n",
    "            break\n",
    "            \n",
    "        prev_time = curr_time\n",
    "        curr_time = row['time']\n",
    "\n",
    "        if prev_time != None:\n",
    "            period_dict['start_time'].append(prev_time)\n",
    "            period_dict['end_time'].append(curr_time)\n",
    "            period_dict['measurement_time'].append(curr_time - prev_time)\n",
    "    \n",
    "    time_measurement_df = pd.DataFrame.from_dict(period_dict)\n",
    "    return time_measurement_df\n",
    "\n",
    "\n",
    "def display_time_distribution(df, x):\n",
    "    \"\"\" A function that is designed to display the measurement time distribution using a histogram\n",
    "    Args:\n",
    "        1) df - a dataframe that contains a column with measurement time data\n",
    "        2) x - name of measurement time column\n",
    "    \"\"\"\n",
    "    # Plot the measurement time distribution using seaborn's histogram\n",
    "    # plt.figure(figsize=(15, 6)) - original size\n",
    "    plt.figure(figsize=(25, 6))\n",
    "    sns.histplot(df[x], bins=60, kde=True, color='blue')\n",
    "    plt.xlabel('Period, s')\n",
    "    plt.ylabel('Count')\n",
    "    plt.title('Measurement Time Distribution')\n",
    "    plt.xticks([i/1000 for i in range(0, 38, 1)])\n",
    "\n",
    "    plt.show()\n",
    "\n",
    "\n",
    "def display_data_collection_stability(df):\n",
    "    \"\"\"A function that displays the stability of data collection relative to the time when the measurements were taken and \n",
    "       relative to the measurement number\n",
    "    Args:\n",
    "        1) df - time_measurement_df\n",
    "    \"\"\"\n",
    "    fig, axes = plt.subplots(2, 1, figsize=(15, 14))\n",
    "    axes[0].plot(range(len(df[df['lost_data'] == 0])), df[df['lost_data'] == 0]['measurement_time'])\n",
    "    axes[0].set_title(f'Stability of Data Collection (Filtered)\\nAverage frequency: {freq:.3f} Hz')\n",
    "    axes[0].set_xlabel('number of measurement')\n",
    "    axes[0].set_ylabel('measurement time')\n",
    "    \n",
    "    axes[1].plot(df[df['lost_data'] == 0]['start_time'], df[df['lost_data'] == 0]['measurement_time'])\n",
    "    axes[1].set_title(f'Stability of Data Collection (Filtered)\\nAverage frequency: {freq:.3f} Hz')\n",
    "    axes[1].set_xlabel('time of measurement')\n",
    "    axes[1].set_ylabel('measurement time')\n",
    "    \n",
    "    plt.show()\n",
    "\n",
    "    \n",
    "def display_data_collection_stability_measurement_number(df):\n",
    "    \"\"\"A function that displays the stability of data collection relative to the measurement number\n",
    "    Args:\n",
    "        1) df - time_measurement_df\n",
    "    \"\"\"\n",
    "    plt.figure(figsize=(12, 3))\n",
    "    plt.plot(range(len(df[df['lost_data'] == 0])), df[df['lost_data'] == 0]['measurement_time'])\n",
    "    plt.title(f'Stability of Data Collection (Filtered)\\nAverage frequency: {freq:.3f} Hz')\n",
    "    plt.xlabel('number of measurement')\n",
    "    plt.ylabel('measurement time, s')\n",
    "    \n",
    "    plt.show()\n",
    "    \n",
    "\n",
    "def display_data_collection_stability_measurement_time(df):\n",
    "    \"\"\"A function that displays the stability of data collection relative to the time when the measurements were taken\n",
    "    Args:\n",
    "        1) df - time_measurement_df\n",
    "    \"\"\"\n",
    "    plt.figure(figsize=(12, 3))\n",
    "    plt.plot(time_measurement_df[time_measurement_df['lost_data'] == 0]['start_time'], \n",
    "             time_measurement_df[time_measurement_df['lost_data'] == 0]['measurement_time'])\n",
    "    plt.title(f'Stability of Data Collection (Filtered)\\nAverage frequency: {freq:.3f} Hz')\n",
    "    plt.xlabel('time of measurement')\n",
    "    plt.ylabel('measurement time')\n",
    "    \n",
    "    plt.show()\n",
    "    \n",
    "\n",
    "def display_data_collection_losses_measurement_number(df):\n",
    "    \"\"\"A function that displays the loses of data collection relative to the measurement number\n",
    "    Args:\n",
    "        1) df - time_measurement_df\n",
    "    \"\"\"\n",
    "    plt.figure(figsize=(12, 3))\n",
    "    plt.plot(range(len(df[df['lost_data'] == 1])), df[df['lost_data'] == 1]['measurement_time'])\n",
    "    plt.title(f'Data Collection Losses (Filtered)\\nAverage frequency: {freq:.3f} Hz')\n",
    "    plt.xlabel('number of measurement')\n",
    "    plt.ylabel('measurement time, s')\n",
    "    \n",
    "    plt.show()\n",
    "    \n",
    "\n",
    "def display_data_collection_losses_measurement_time(df):\n",
    "    \"\"\"A function that displays data collection losses relative to the time when the measurements were taken\n",
    "    Args:\n",
    "        1) df - time_measurement_df\n",
    "    \"\"\"\n",
    "    plt.figure(figsize=(12, 3))\n",
    "    plt.plot(time_measurement_df[time_measurement_df['lost_data'] == 1]['start_time'], \n",
    "             time_measurement_df[time_measurement_df['lost_data'] == 1]['measurement_time'])\n",
    "    plt.title(f'Data Collection Losses (Filtered)\\nAverage frequency: {freq:.3f} Hz')\n",
    "    plt.xlabel('time of measurement, s')\n",
    "    plt.ylabel('measurement time, s')\n",
    "    \n",
    "    plt.show()"
   ]
  },
  {
   "cell_type": "markdown",
   "id": "b1675d18-7c9b-4ccc-b340-c3e62ce9170b",
   "metadata": {},
   "source": [
    "## Frequency analysis of the signal spectrum"
   ]
  },
  {
   "cell_type": "code",
   "execution_count": null,
   "id": "ad518ee8-9e9b-4d38-876d-e3ecda4e418b",
   "metadata": {},
   "outputs": [],
   "source": [
    "def create_activities_df(path):\n",
    "    \"\"\" A function for creating a dataframe containing information about the beginning, end and name of each physical activity\n",
    "    Args:\n",
    "        1) path - the path to the Label Studio file that contains the labeled signals\n",
    "    Returns:\n",
    "        Dataframe containing information about the beginning, end and name of each physical activity\n",
    "    \"\"\"\n",
    "    labeled_activities = pd.read_csv(path)\n",
    "    labels = labeled_activities['label']\n",
    "    labels = np.array(labels)[0]    # the original type of labels is pd.Series\n",
    "    labels = labels.split('},')\n",
    "    \n",
    "    activities_dict = {'start_time': [], 'end_time': [], 'activity': []}\n",
    "    for label in labels:\n",
    "        start_time, end_time, _, activity = label.split(',')\n",
    "        activities_dict['start_time'].append(float(start_time.split(':')[1]))\n",
    "        activities_dict['end_time'].append(float(end_time.split(':')[1]))\n",
    "        activities_dict['activity'].append(activity.split(':')[1].strip('[]}\"'))\n",
    "    \n",
    "    activities_df = pd.DataFrame.from_dict(activities_dict)\n",
    "    activities_df = activities_df.sort_values(by='start_time').reset_index(drop=True)\n",
    "    return activities_df\n",
    "\n",
    "def add_activity_column(path, df, df_merge_col):\n",
    "    \"\"\" Function to add 'activity' column to dataframe df\n",
    "    Args:\n",
    "        1) path - the path to the Label Studio file that contains the labeled signals\n",
    "        2) df - a dataframe that contains the results of accelerometer and gyroscope measurements\n",
    "        3) df_merge_col - the name of the column of the dataframe df, which contains data about the measurement time ('time' column)\n",
    "    \"\"\"\n",
    "    activities_df_local = create_activities_df(path)\n",
    "    merged_df = pd.merge_asof(df, activities_df_local, left_on=df_merge_col, right_on='start_time', direction='backward')\n",
    "    df['activity'] = merged_df['activity']"
   ]
  },
  {
   "cell_type": "code",
   "execution_count": null,
   "id": "89f2f676-381f-4851-b5ad-311a21c2e2c5",
   "metadata": {},
   "outputs": [],
   "source": [
    "def show_freq_distribution(df_arg, signal_column, sampling_rate, is_divided_by_g=False):\n",
    "    \"\"\" A function for displaying a frequency distribution (spectral analysis) for the specified axis\n",
    "    Args:\n",
    "        1) df_arg - a dataframe that contains the required data\n",
    "        2) signal_column - a column that contains data for the specified axis\n",
    "        3) sampling_rate - actual sampling rate of your dataset (samples per second)\n",
    "        4) is_divided_by_g - the content of the column was divided by the free fall acceleration g (g=9.81)\n",
    "    \"\"\"\n",
    "    signal = df_arg[signal_column]\n",
    "    signal = np.array(signal)\n",
    "    \n",
    "    if is_divided_by_g:\n",
    "        signal = signal * 9.81\n",
    "        \n",
    "    fft_result = fft(signal)\n",
    "\n",
    "    # Calculate the corresponding frequencies for the FFT result\n",
    "    freqs = fftfreq(len(signal), 1 / sampling_rate)\n",
    "\n",
    "    # Plot the magnitude of the frequency spectrum\n",
    "    plt.figure(figsize=(10, 6))\n",
    "    plt.plot(freqs, np.abs(fft_result))\n",
    "    plt.xlabel('Frequency (Hz)')\n",
    "    plt.ylabel('Magnitude')\n",
    "    plt.title(f'Frequency Spectrum Analysis {signal_column}')\n",
    "    plt.grid()\n",
    "\n",
    "    plt.show()"
   ]
  },
  {
   "cell_type": "markdown",
   "id": "9cba7bbc-040b-4301-830c-893295dd6465",
   "metadata": {},
   "source": [
    "### Frequency analysis of the signal spectrum for each activity"
   ]
  },
  {
   "cell_type": "code",
   "execution_count": null,
   "id": "cd6d4ee6-7ad3-4c25-904e-e17f8c05dbb0",
   "metadata": {},
   "outputs": [],
   "source": [
    "def display_activity_freq_spectrum_one_axes(df, activity_name, axes_name, sampling_rate, is_divided_by_g=False, x_lim=10, color='blue'):\n",
    "    \"\"\" Function to display the frequency spectrum of the specified type of activity on the OX, OY and OZ axes for the specified device \n",
    "    (accelerometer or gyroscope)\n",
    "    Args:\n",
    "        1) df - a dataframe that contains the results of accelerometer and gyroscope measurements\n",
    "        2) activity_name - selected activity type (among the values of the 'activity' column of df)\n",
    "        3) axes_name - the column name of the dataframe df that contain the measurement results for the OX, OY, or OZ axes\n",
    "        4) sampling_rate - actual sampling rate of your dataset (samples per second)\n",
    "        5) is_divided_by_g - True if the content of the column was divided by the free fall acceleration g (g=9.81 m/s^2)\n",
    "        6) x_lim - the limits of the graph along the OX axis are [-x_lim; x_lim]\n",
    "        7) color - the color of the graph\n",
    "    \"\"\"\n",
    "    activity_data = df[df['activity'] == activity_name]\n",
    "    \n",
    "    signal = np.array(activity_data[axes_name])\n",
    "    \n",
    "    if is_divided_by_g:\n",
    "        signal *= 9.81\n",
    "        \n",
    "    fft_result = fft(signal)\n",
    "\n",
    "    fft_freqs = fftfreq(len(activity_data), 1/sampling_rate)\n",
    "\n",
    "    fig = plt.figure(figsize=(12, 5))\n",
    "    axes = fig.add_axes([0.1, 0.1, 1, 1])\n",
    "    axes.plot(fft_freqs, np.abs(fft_result), color=color)\n",
    "    axes.set_title(f'{activity_name} {axes_name}')\n",
    "\n",
    "    axes.set_xlabel('Frequency (Hz)')\n",
    "    axes.set_xlim(-x_lim, x_lim)\n",
    "    axes.set_ylabel('Amplitude')\n",
    "    axes.grid(alpha=0.5)\n",
    "\n",
    "    plt.show()\n",
    "\n",
    "    \n",
    "def display_activity_freq_spectrum(df, activity_name, axes_names, sampling_rate, is_divided_by_g=False, x_lim=10):\n",
    "    \"\"\" Function to display the frequency spectrum of the specified type of activity on the OX, OY and OZ axes for the specified device \n",
    "    (accelerometer or gyroscope)\n",
    "    Args:\n",
    "        1) df - a dataframe that contains the results of accelerometer and gyroscope measurements\n",
    "        2) activity_name - selected activity type (among the values of the 'activity' column of df)\n",
    "        3) axes_names - an array containing the column names of the dataframe df that contain the measurement results for the OX, OY, and OZ axes, \n",
    "        respectively\n",
    "        4) sampling_rate - actual sampling rate of your dataset (samples per second)\n",
    "        5) is_divided_by_g - True if the content of the column was divided by the free fall acceleration g (g=9.81 m/s^2)\n",
    "        6) x_lim - the limits of the graph along the OX axis are [-x_lim; x_lim]\n",
    "    \"\"\"\n",
    "    activity_data = df[df['activity'] == activity_name]\n",
    "    \n",
    "    signal_x = np.array(activity_data[axes_names[0]])\n",
    "    signal_y = np.array(activity_data[axes_names[1]])\n",
    "    signal_z = np.array(activity_data[axes_names[2]])\n",
    "    \n",
    "    if is_divided_by_g:\n",
    "        signal_x *= 9.81\n",
    "        signal_y *= 9.81\n",
    "        signal_z *= 9.81\n",
    "        \n",
    "    fft_x = fft(signal_x)\n",
    "    fft_y = fft(signal_y)\n",
    "    fft_z = fft(signal_z)\n",
    "\n",
    "    fft_freqs = fftfreq(len(activity_data), 1/sampling_rate)\n",
    "\n",
    "    fig, axes = plt.subplots(1, 3, figsize=(12, 4))\n",
    "    axes[0].plot(fft_freqs, np.abs(fft_x), label='X', color='blue')\n",
    "    axes[0].set_title(f'{activity_name} {axes_names[0]}')\n",
    "\n",
    "    axes[1].plot(fft_freqs, np.abs(fft_y), label='Y', color='yellow')\n",
    "    axes[1].set_title(f'{activity_name} {axes_names[1]}')\n",
    "\n",
    "    axes[2].plot(fft_freqs, np.abs(fft_z), label='Z', color='green')\n",
    "    axes[2].set_title(f'{activity_name} {axes_names[2]}')\n",
    "\n",
    "    for ax in axes:\n",
    "        ax.set_xlabel('Frequency (Hz)')\n",
    "        ax.set_xlim(-x_lim, x_lim)\n",
    "        ax.set_xticks([i for i in range(-x_lim, x_lim+1, 2)])\n",
    "        ax.set_ylabel('Amplitude')\n",
    "        ax.grid(alpha=0.5)\n",
    "        ax.legend()\n",
    "\n",
    "    plt.tight_layout()\n",
    "    plt.show()"
   ]
  },
  {
   "cell_type": "markdown",
   "id": "e1cec824-b4d7-4f07-abfa-41c5c7449457",
   "metadata": {
    "tags": []
   },
   "source": [
    "# Reading and Preparing data"
   ]
  },
  {
   "cell_type": "code",
   "execution_count": null,
   "id": "9f9563c5-4ac7-47f0-b7fa-331bfde636f2",
   "metadata": {},
   "outputs": [],
   "source": [
    "df = read_clear_df(filepath='original_data/2023-08-01.21_21_11_Test_1.csv', skiprows=1, delimiter=';', columns_num=7)\n",
    "df.head()"
   ]
  },
  {
   "cell_type": "code",
   "execution_count": null,
   "id": "ce236f32-606f-4429-84bd-0f9f7c879f2f",
   "metadata": {},
   "outputs": [],
   "source": [
    "df.info()"
   ]
  },
  {
   "cell_type": "code",
   "execution_count": null,
   "id": "f0f1e6e3-879a-4654-b686-677db8f33dac",
   "metadata": {},
   "outputs": [],
   "source": [
    "print(f\"Measurement start time = {df.iloc[0]['time']}\")\n",
    "print(f\"Measurement end time = {df.iloc[-1]['time']}\")"
   ]
  },
  {
   "cell_type": "code",
   "execution_count": null,
   "id": "6334b7cb-21d3-44a4-8a01-6fcdbe589b6c",
   "metadata": {},
   "outputs": [],
   "source": [
    "time_diffs = df['time'].diff()\n",
    "freq = 1.0 / time_diffs.mean()\n",
    "print(f\"Measurement time = {df.iloc[-1]['time'] - df.iloc[0]['time']} s\")\n",
    "print(f\"Number of measurements (number of rows in the data set) = {len(df)}\")\n",
    "print(f\"Frequency of measurement = {freq} Hz\")"
   ]
  },
  {
   "cell_type": "markdown",
   "id": "3f5a6dc1-0e24-43b4-a91d-902575d350dc",
   "metadata": {
    "tags": []
   },
   "source": [
    "# Visualise accelerometer and gyroscope behaviour (Raw data)"
   ]
  },
  {
   "cell_type": "markdown",
   "id": "9a42a360-7fa5-4a31-b5bb-e63512d70b44",
   "metadata": {
    "tags": []
   },
   "source": [
    "### Visualise accelerometer results"
   ]
  },
  {
   "cell_type": "code",
   "execution_count": null,
   "id": "cbc4bd2c-44c6-4e65-875c-6bddc690dae7",
   "metadata": {},
   "outputs": [],
   "source": [
    "display_three_axes(df=df, x='time', y=['gFx', 'gFy', 'gFz'], title='Time Dependence of Linear Acceleration (Raw Data)', \n",
    "                x_label='Time, s', y_label='Linear acceleration / g')"
   ]
  },
  {
   "cell_type": "code",
   "execution_count": null,
   "id": "4c2f465f-caa3-4668-b2a1-a64a93891b90",
   "metadata": {},
   "outputs": [],
   "source": [
    "display_three_axes_sep(df=df, x='time', y=['gFx', 'gFy', 'gFz'], title='Accelerometer operation (Raw Data)', x_label='time', \n",
    "                       y_labels=['AccX, m/s^2', 'AccY, m/s^2', 'AccZ, m/s^2'])"
   ]
  },
  {
   "cell_type": "markdown",
   "id": "3df5df3e-721e-40d4-b487-cd872bb688f3",
   "metadata": {
    "tags": []
   },
   "source": [
    "### Visualise gyroscope results"
   ]
  },
  {
   "cell_type": "code",
   "execution_count": null,
   "id": "14943f89-5b59-4091-a8af-2c4b75aeb3e7",
   "metadata": {},
   "outputs": [],
   "source": [
    "display_three_axes(df=df, x='time', y=['wx', 'wy', 'wz'], title='Time Dependence of Angular Velocity (Raw Data)', \n",
    "                x_label='Time, s', y_label='Angular velocity, rad/s')"
   ]
  },
  {
   "cell_type": "code",
   "execution_count": null,
   "id": "a22ed541-e2f0-4f35-8238-d32ed2eeab20",
   "metadata": {},
   "outputs": [],
   "source": [
    "display_three_axes_sep(df=df, x='time', y=['wx', 'wy', 'wz'], title='Gyroscope operation (Raw Data)', x_label='time', \n",
    "                       y_labels=['GyrX, rad/s^2', 'GyrY, rad/s^2', 'GyrZ, rad/s^2'])"
   ]
  },
  {
   "cell_type": "markdown",
   "id": "bbf90d33-0450-4902-9e81-c2c26c728f28",
   "metadata": {
    "tags": []
   },
   "source": [
    "# Check the stability of the data sampling period and frequency"
   ]
  },
  {
   "cell_type": "code",
   "execution_count": null,
   "id": "648495e2-a61d-4aea-963f-fa66a870c198",
   "metadata": {},
   "outputs": [],
   "source": [
    "time_measurement_df = get_measurement_time_df(df)\n",
    "time_measurement_df.head()"
   ]
  },
  {
   "cell_type": "code",
   "execution_count": null,
   "id": "bda327cc-b859-4c78-81db-30d492c3a82b",
   "metadata": {},
   "outputs": [],
   "source": [
    "df.head(6)"
   ]
  },
  {
   "cell_type": "markdown",
   "id": "28c030e2-de70-48ff-8b61-98e7bc7f5e67",
   "metadata": {
    "jp-MarkdownHeadingCollapsed": true,
    "tags": []
   },
   "source": [
    "### Check the last 5 items"
   ]
  },
  {
   "cell_type": "code",
   "execution_count": null,
   "id": "e82df309-5075-4112-a6d8-b4cdbe8a9ee5",
   "metadata": {},
   "outputs": [],
   "source": [
    "time_measurement_df[-5:]"
   ]
  },
  {
   "cell_type": "code",
   "execution_count": null,
   "id": "1c8dcac6-3275-412b-a980-9410e2bf2e53",
   "metadata": {},
   "outputs": [],
   "source": [
    "df[-5:]"
   ]
  },
  {
   "cell_type": "markdown",
   "id": "8b561f33-a66a-4f5b-acc6-d46dff3b00c6",
   "metadata": {
    "tags": []
   },
   "source": [
    "## Check the measurement time distribution"
   ]
  },
  {
   "cell_type": "code",
   "execution_count": null,
   "id": "2f5b88b7-0141-42fc-b143-86471d6277c1",
   "metadata": {},
   "outputs": [],
   "source": [
    "display_time_distribution(df=time_measurement_df, x='measurement_time')"
   ]
  },
  {
   "cell_type": "code",
   "execution_count": null,
   "id": "d262f024-44cc-4374-9540-ca1cad6e6c57",
   "metadata": {},
   "outputs": [],
   "source": [
    "time_measurement_df[time_measurement_df['measurement_time'] > 0.015]"
   ]
  },
  {
   "cell_type": "code",
   "execution_count": null,
   "id": "f6696011-45b7-4080-8d9a-a8e0fe90f300",
   "metadata": {},
   "outputs": [],
   "source": [
    "time_measurement_df[time_measurement_df['measurement_time'] > 0.025]"
   ]
  },
  {
   "cell_type": "markdown",
   "id": "ba16b79a-b529-431a-99bb-fc50e7ced260",
   "metadata": {
    "tags": []
   },
   "source": [
    "## Investigate the measurement_time distribution relative to the measurement time and number of measurement"
   ]
  },
  {
   "cell_type": "code",
   "execution_count": null,
   "id": "ee4b9dc9-9fa2-46a4-89eb-09c2f8dc1fc5",
   "metadata": {},
   "outputs": [],
   "source": [
    "freq = 1.0 / time_measurement_df['measurement_time'].mean()\n",
    "print(f\"freq = {freq} Hz\")"
   ]
  },
  {
   "cell_type": "code",
   "execution_count": null,
   "id": "811b2a72-c056-4cef-9fd1-da849e2f7185",
   "metadata": {},
   "outputs": [],
   "source": [
    "plt.figure(figsize=(12, 3))\n",
    "plt.plot(time_measurement_df['start_time'], time_measurement_df['measurement_time'])\n",
    "plt.title(f'Stability of Data Collection (Raw)\\nAverage frequency: {freq:.3f} Hz')\n",
    "plt.xlabel('time of measurement, s')\n",
    "plt.ylabel('time to measure, s')"
   ]
  },
  {
   "cell_type": "code",
   "execution_count": null,
   "id": "bc7f3a77-acb2-4023-bbe7-675a33066e42",
   "metadata": {},
   "outputs": [],
   "source": [
    "plt.figure(figsize=(12, 3))\n",
    "plt.title(f'Stability of Data Collection (Raw)\\nAverage frequency: {freq:.3f} Hz')\n",
    "plt.ylabel('measurement time, s')\n",
    "sns.lineplot(x=range(len(time_measurement_df['measurement_time'])), y=time_measurement_df['measurement_time'])\n",
    "plt.show()"
   ]
  },
  {
   "cell_type": "markdown",
   "id": "fd39d33a-2cc6-4547-9c75-2820ca2bc326",
   "metadata": {
    "tags": []
   },
   "source": [
    "## Trying to discard too long time intervals between measurements (large values of 'measurement_time')"
   ]
  },
  {
   "cell_type": "code",
   "execution_count": null,
   "id": "897659d0-d57b-46b6-a5bc-040f8e85c86a",
   "metadata": {},
   "outputs": [],
   "source": [
    "time_measurement_df['lost_data'] = time_measurement_df['measurement_time'].apply(lambda time: 1 if time > 0.012 else 0)\n",
    "print(f\"len(received_data) = {len(time_measurement_df[time_measurement_df['lost_data'] == 0])}\")\n",
    "print(f\"len(lost_data) = {len(time_measurement_df[time_measurement_df['lost_data'] == 1])}\")\n",
    "print(f\"Percentage of data lost to data received: \" \n",
    "    f\"{np.round((len(time_measurement_df[time_measurement_df['lost_data'] == 1]) / len(time_measurement_df[time_measurement_df['lost_data'] == 0]) * 100), 2)}%\")\n",
    "print(f\"Percentage of data lost to all data: \" \n",
    "      f\"{np.round((len(time_measurement_df[time_measurement_df['lost_data'] == 1]) / len(time_measurement_df['lost_data']) * 100), 2)}%\")"
   ]
  },
  {
   "cell_type": "markdown",
   "id": "6b33d3e3-649d-4319-8677-02c7cf3002e3",
   "metadata": {
    "tags": []
   },
   "source": [
    "## Display the result of filtering measurement time"
   ]
  },
  {
   "cell_type": "code",
   "execution_count": null,
   "id": "8d669bf1-cfdf-43ea-afd1-80a8f6131fac",
   "metadata": {},
   "outputs": [],
   "source": [
    "display_data_collection_losses_measurement_number(df=time_measurement_df)"
   ]
  },
  {
   "cell_type": "code",
   "execution_count": null,
   "id": "4a2ff418-28da-41e5-9ccf-8a8238246aad",
   "metadata": {},
   "outputs": [],
   "source": [
    "display_data_collection_losses_measurement_time(df=time_measurement_df)"
   ]
  },
  {
   "cell_type": "code",
   "execution_count": null,
   "id": "a5e413ae-95a2-4e0c-9e46-08b39dd3fdcf",
   "metadata": {},
   "outputs": [],
   "source": [
    "display_data_collection_stability_measurement_number(df=time_measurement_df)"
   ]
  },
  {
   "cell_type": "code",
   "execution_count": null,
   "id": "da45461c-66d8-48ed-8838-6244b1df2225",
   "metadata": {},
   "outputs": [],
   "source": [
    "display_data_collection_stability_measurement_time(df=time_measurement_df)"
   ]
  },
  {
   "cell_type": "code",
   "execution_count": null,
   "id": "be71ee9c-4e16-4086-9189-b55d609f5d11",
   "metadata": {},
   "outputs": [],
   "source": [
    "display_data_collection_stability(df=time_measurement_df)"
   ]
  },
  {
   "cell_type": "markdown",
   "id": "44de1c8a-02af-47d0-8ddd-e0acdf706b6c",
   "metadata": {
    "tags": []
   },
   "source": [
    "# Frequency analysis of the signal spectrum"
   ]
  },
  {
   "cell_type": "code",
   "execution_count": null,
   "id": "f0542529-2298-4ec4-8810-f5688f49d603",
   "metadata": {},
   "outputs": [],
   "source": [
    "# Add 'activity' column \n",
    "add_activity_column(path='labeled_data/Test_1_labeled.csv', df=df, df_merge_col='time')\n",
    "df.head()"
   ]
  },
  {
   "cell_type": "markdown",
   "id": "a92d1cc3-6282-4126-9c55-c6309815589e",
   "metadata": {
    "tags": []
   },
   "source": [
    "## Analyse data in general"
   ]
  },
  {
   "cell_type": "markdown",
   "id": "d562c17d-1ae8-456a-bb59-04c46e4d5912",
   "metadata": {},
   "source": [
    "### Analyse data for accelerometer"
   ]
  },
  {
   "cell_type": "code",
   "execution_count": null,
   "id": "329ea8c8-ce25-47df-9b57-25176014cb4c",
   "metadata": {},
   "outputs": [],
   "source": [
    "signal_x = df['gFx'] * 9.81\n",
    "signal_x = np.array(signal_x)\n",
    "print(type(signal_x))\n",
    "print(signal_x[30:35])\n",
    "\n",
    "fft_result = fft(signal_x)\n",
    "\n",
    "# Calculate the corresponding frequencies for the FFT result\n",
    "sampling_rate = 806.325\n",
    "freqs = fftfreq(len(signal_x), 1 / sampling_rate)\n",
    "\n",
    "# Plot the magnitude of the frequency spectrum\n",
    "plt.figure(figsize=(10, 6))\n",
    "plt.plot(freqs, np.abs(fft_result))\n",
    "plt.xlabel('Frequency (Hz)')\n",
    "plt.ylabel('Magnitude')\n",
    "plt.title('Frequency Spectrum Analysis')\n",
    "plt.grid()\n",
    "\n",
    "plt.show()"
   ]
  },
  {
   "cell_type": "code",
   "execution_count": null,
   "id": "91f672a4-9914-44f2-a9cb-e827cb856096",
   "metadata": {},
   "outputs": [],
   "source": [
    "show_freq_distribution(df_arg=df, signal_column='gFx', sampling_rate=806.325, is_divided_by_g=True)"
   ]
  },
  {
   "cell_type": "markdown",
   "id": "def13273-ee82-4daf-80c1-cd79d37a13b0",
   "metadata": {
    "jp-MarkdownHeadingCollapsed": true,
    "tags": []
   },
   "source": [
    "##### Analysing the code above step by step"
   ]
  },
  {
   "cell_type": "code",
   "execution_count": null,
   "id": "91f2b99f-0318-46cb-b7f8-6e16fce23664",
   "metadata": {},
   "outputs": [],
   "source": [
    "signal_x = df['gFx'] * 9.81\n",
    "signal_x = np.array(signal_x)\n",
    "\n",
    "fft_result = fft(signal_x)\n",
    "\n",
    "print(f'signal_x[30:35] = {signal_x[30:35]}')\n",
    "print(f'fft_result[30:35] = {fft_result[30:35]}')"
   ]
  },
  {
   "cell_type": "code",
   "execution_count": null,
   "id": "e94e39e4-d844-48fb-b43b-e1d0ac6ed388",
   "metadata": {},
   "outputs": [],
   "source": [
    "# Calculate the corresponding frequencies for the FFT result\n",
    "sampling_rate = 806.325\n",
    "freqs = fftfreq(len(signal_x), 1 / sampling_rate)\n",
    "print(f'freqs[30:35] = {freqs[30:35]}')"
   ]
  },
  {
   "cell_type": "code",
   "execution_count": null,
   "id": "b6a73e5d-f420-422b-84aa-c2f19fab3ef6",
   "metadata": {},
   "outputs": [],
   "source": [
    "print(f'np.abs(fft_result)[30:35] = {np.abs(fft_result)[30:35]}')"
   ]
  },
  {
   "cell_type": "code",
   "execution_count": null,
   "id": "d291e5f3-050f-4c6b-ae87-d6d6a935ed89",
   "metadata": {},
   "outputs": [],
   "source": [
    "len(freqs)"
   ]
  },
  {
   "cell_type": "code",
   "execution_count": null,
   "id": "20c42854-8744-4207-b962-caa82623376a",
   "metadata": {},
   "outputs": [],
   "source": [
    "len(fft_result)"
   ]
  },
  {
   "cell_type": "code",
   "execution_count": null,
   "id": "5ee2e1fc-ec0c-4305-8694-729609685af6",
   "metadata": {},
   "outputs": [],
   "source": [
    "counter = 0\n",
    "for index, freq in enumerate(freqs):\n",
    "    if freq > 300:\n",
    "        if counter < 10:\n",
    "            print(f\"time = {df.iloc[index]['time']}; {df.iloc[index]['gFx']} : {freq}\")\n",
    "        counter += 1\n",
    "        \n",
    "print(f\"len(freq > 300) = {counter}\")"
   ]
  },
  {
   "cell_type": "code",
   "execution_count": null,
   "id": "cb76d831-c092-45bc-b9a6-b8fa2277a7da",
   "metadata": {},
   "outputs": [],
   "source": [
    "# Plot the magnitude of the frequency spectrum\n",
    "plt.figure(figsize=(10, 6))\n",
    "plt.plot(df['time'], freqs)\n",
    "plt.xlabel('Time (s)')\n",
    "plt.ylabel('Frequency (Hz)')\n",
    "plt.title('Frequency Spectrum Analysis')\n",
    "plt.xticks([ i for i in range(0, 120, 10)])\n",
    "plt.grid()\n",
    "\n",
    "plt.show()"
   ]
  },
  {
   "cell_type": "code",
   "execution_count": null,
   "id": "83d5e6f7-cb93-465e-8a54-1c25eab0aa31",
   "metadata": {},
   "outputs": [],
   "source": [
    "# Plot the magnitude of the frequency spectrum\n",
    "plt.figure(figsize=(10, 6))\n",
    "plt.plot(df['time'], df['gFx'])\n",
    "plt.xlabel('Time (s)')\n",
    "plt.ylabel('AccX')\n",
    "plt.title('Accelerometer axis=OX')\n",
    "plt.xticks([ i for i in range(0, 120, 10)])\n",
    "plt.grid()\n",
    "\n",
    "plt.show()"
   ]
  },
  {
   "cell_type": "markdown",
   "id": "f23c624f-0691-4a46-adc3-cf0b69d5635a",
   "metadata": {
    "jp-MarkdownHeadingCollapsed": true,
    "tags": []
   },
   "source": [
    "#### Analyse data for y-axis"
   ]
  },
  {
   "cell_type": "code",
   "execution_count": null,
   "id": "7c580003-bf2a-43e3-8986-6c1843e35fed",
   "metadata": {},
   "outputs": [],
   "source": [
    "signal_y = df['gFy'] * 9.81\n",
    "signal_y = np.array(signal_y)\n",
    "print(type(signal_y))\n",
    "print(signal_y[:5])\n",
    "\n",
    "fft_result = fft(signal_y)\n",
    "\n",
    "# Calculate the corresponding frequencies for the FFT result\n",
    "sampling_rate = 806.325\n",
    "freqs = fftfreq(len(signal_y), 1 / sampling_rate)\n",
    "\n",
    "# Plot the magnitude of the frequency spectrum\n",
    "plt.figure(figsize=(10, 6))\n",
    "plt.plot(freqs, np.abs(fft_result))\n",
    "plt.xlabel('Frequency (Hz)')\n",
    "plt.ylabel('Magnitude')\n",
    "plt.title('Frequency Spectrum Analysis')\n",
    "plt.grid()\n",
    "\n",
    "plt.show()"
   ]
  },
  {
   "cell_type": "code",
   "execution_count": null,
   "id": "0297d508-73fe-4c56-9ef9-0acb1cbecec5",
   "metadata": {},
   "outputs": [],
   "source": [
    "show_freq_distribution(df_arg=df, signal_column='gFy', sampling_rate=806.325, is_divided_by_g=True)"
   ]
  },
  {
   "cell_type": "markdown",
   "id": "dac50a20-bda1-4759-9a71-7a3455c9cff6",
   "metadata": {
    "jp-MarkdownHeadingCollapsed": true,
    "tags": []
   },
   "source": [
    "#### Analyse data for z-axis"
   ]
  },
  {
   "cell_type": "code",
   "execution_count": null,
   "id": "399c6d9c-fb6e-4c56-8c3d-10705ce80999",
   "metadata": {},
   "outputs": [],
   "source": [
    "signal_z = df['gFz'] * 9.81\n",
    "signal_z = np.array(signal_z)\n",
    "print(type(signal_z))\n",
    "print(signal_z[:5])\n",
    "\n",
    "fft_result = fft(signal_z)\n",
    "\n",
    "# Calculate the corresponding frequencies for the FFT result\n",
    "sampling_rate = 806.325\n",
    "freqs = fftfreq(len(signal_z), 1 / sampling_rate)\n",
    "\n",
    "# Plot the magnitude of the frequency spectrum\n",
    "plt.figure(figsize=(10, 6))\n",
    "plt.plot(freqs, np.abs(fft_result))\n",
    "plt.xlabel('Frequency (Hz)')\n",
    "plt.ylabel('Magnitude')\n",
    "plt.title('Frequency Spectrum Analysis')\n",
    "plt.grid()\n",
    "\n",
    "plt.show()"
   ]
  },
  {
   "cell_type": "code",
   "execution_count": null,
   "id": "88237534-2ae9-4d82-baac-c0787a3134a2",
   "metadata": {},
   "outputs": [],
   "source": [
    "show_freq_distribution(df_arg=df, signal_column='gFz', sampling_rate=806.325, is_divided_by_g=True)"
   ]
  },
  {
   "cell_type": "markdown",
   "id": "d40b240b-a0f6-4375-b740-1689a79b17b4",
   "metadata": {
    "tags": []
   },
   "source": [
    "### Analyse data for gyroscope"
   ]
  },
  {
   "cell_type": "markdown",
   "id": "e32b8193-8225-4e0e-bf1a-34e0448d9144",
   "metadata": {
    "jp-MarkdownHeadingCollapsed": true,
    "tags": []
   },
   "source": [
    "#### Analyse data for x-axis"
   ]
  },
  {
   "cell_type": "code",
   "execution_count": null,
   "id": "a34248ce-d0f6-477a-9993-526f0045142f",
   "metadata": {},
   "outputs": [],
   "source": [
    "show_freq_distribution(df_arg=df, signal_column='wx', sampling_rate=806.325, is_divided_by_g=False)"
   ]
  },
  {
   "cell_type": "markdown",
   "id": "d4a9c6dd-7eda-4ac3-93c6-ace155c03edb",
   "metadata": {},
   "source": [
    "#### Analyse data for y-axis"
   ]
  },
  {
   "cell_type": "code",
   "execution_count": null,
   "id": "d0ffd097-f6c5-4833-a9aa-076e159b5eac",
   "metadata": {},
   "outputs": [],
   "source": [
    "show_freq_distribution(df_arg=df, signal_column='wy', sampling_rate=806.325, is_divided_by_g=False)"
   ]
  },
  {
   "cell_type": "markdown",
   "id": "d50c9ab7-8d86-4c66-bb58-722937c23db8",
   "metadata": {
    "tags": []
   },
   "source": [
    "#### Analyse data for z-axis"
   ]
  },
  {
   "cell_type": "code",
   "execution_count": null,
   "id": "7293d5b1-27e9-4760-b2bf-ada98dca2ce9",
   "metadata": {},
   "outputs": [],
   "source": [
    "show_freq_distribution(df_arg=df, signal_column='wz', sampling_rate=806.325, is_divided_by_g=False)"
   ]
  },
  {
   "cell_type": "markdown",
   "id": "74fed60c-3b2c-41f9-bdc5-1f11e0918a57",
   "metadata": {},
   "source": [
    "## Perform a frequency spectrum analysis for each type of activity"
   ]
  },
  {
   "cell_type": "markdown",
   "id": "5aace25c-98c4-4601-94e7-111c01da2692",
   "metadata": {},
   "source": [
    "### Visualize frequency spectrum for each type of activity"
   ]
  },
  {
   "cell_type": "code",
   "execution_count": null,
   "id": "fc67a52c-23f8-4fba-8a8d-6495a61857fa",
   "metadata": {},
   "outputs": [],
   "source": [
    "display_activity_freq_spectrum(df=df, activity_name='Squat', axes_names=['gFx', 'gFy', 'gFz'], sampling_rate=806.3249042011819, is_divided_by_g=True)"
   ]
  },
  {
   "cell_type": "markdown",
   "id": "c6a9c115-9f86-4c9a-b67d-06d09e6fd19a",
   "metadata": {},
   "source": [
    "#### Frequency analysis of the signal spectrum of various types of physical activities for the accelerometer"
   ]
  },
  {
   "cell_type": "code",
   "execution_count": null,
   "id": "6f777714-34ac-4021-88d9-cacc7f0bca75",
   "metadata": {},
   "outputs": [],
   "source": [
    "activities = df['activity'].unique()\n",
    "for activity in activities:\n",
    "    display_activity_freq_spectrum(df=df, activity_name=activity, axes_names=['gFx', 'gFy', 'gFz'], \n",
    "                                   sampling_rate=1.0 / df['time'].diff().mean(), \n",
    "                                   is_divided_by_g=True)"
   ]
  },
  {
   "cell_type": "markdown",
   "id": "adbfd663-44e0-41bb-8788-f58fdb11ac9f",
   "metadata": {},
   "source": [
    "#### Frequency analysis of the signal spectrum of various types of physical activities for the gyroscope"
   ]
  },
  {
   "cell_type": "code",
   "execution_count": null,
   "id": "e60da940-8038-4575-b1e1-2224abfdb429",
   "metadata": {},
   "outputs": [],
   "source": [
    "activities = df['activity'].unique()\n",
    "for activity in activities:\n",
    "    display_activity_freq_spectrum(df=df, activity_name=activity, axes_names=['wx', 'wy', 'wz'], \n",
    "                                   sampling_rate=1.0 / df['time'].diff().mean())"
   ]
  },
  {
   "cell_type": "markdown",
   "id": "077fa088-e54f-4b41-abdf-193c0b6bee23",
   "metadata": {
    "tags": []
   },
   "source": [
    "# Save dataframe in normal .csv file (with ',' as delimiter)"
   ]
  },
  {
   "cell_type": "code",
   "execution_count": null,
   "id": "47e67aa8-e3db-49ca-9551-ef86401af7ef",
   "metadata": {},
   "outputs": [],
   "source": [
    "df.to_csv('correct_csv_data/Test_1.csv', sep=',', index=False)"
   ]
  },
  {
   "cell_type": "code",
   "execution_count": null,
   "id": "18ba19cd-c51a-4bb3-bb75-198f91514edf",
   "metadata": {},
   "outputs": [],
   "source": [
    "## Read data to check if it was saved correctly\n",
    "df_test = pd.read_csv('correct_csv_data/Test_1.csv')\n",
    "df_test.head()"
   ]
  },
  {
   "cell_type": "code",
   "execution_count": null,
   "id": "e34b8785-37c3-47e9-b8b8-2f5fac637694",
   "metadata": {},
   "outputs": [],
   "source": [
    "df_test.info()"
   ]
  },
  {
   "cell_type": "markdown",
   "id": "93952f5c-08b0-4fe3-a989-ff77282406df",
   "metadata": {
    "tags": []
   },
   "source": [
    "## Create smaller dataset to check in Label Studio"
   ]
  },
  {
   "cell_type": "code",
   "execution_count": null,
   "id": "f794a718-d315-4510-af0b-97874a7a8f2c",
   "metadata": {},
   "outputs": [],
   "source": [
    "small_df = df[0:-1:100]\n",
    "len(small_df)"
   ]
  },
  {
   "cell_type": "code",
   "execution_count": null,
   "id": "3f90afe0-7ed3-4f6b-81c4-ba1619f5beb3",
   "metadata": {},
   "outputs": [],
   "source": [
    "display_three_axes(df=small_df, x='time', y=['gFx', 'gFy', 'gFz'], title='Time Dependence of Linear Acceleration (Raw Data)', \n",
    "                x_label='Time, sec', y_label='Linear acceleration / g, m/s^2')"
   ]
  },
  {
   "cell_type": "code",
   "execution_count": null,
   "id": "8836f815-dd5a-41b2-9539-07b65daa6572",
   "metadata": {},
   "outputs": [],
   "source": [
    "small_df.to_csv('correct_csv_data/Test_1_small.csv', sep=',', index=False)"
   ]
  },
  {
   "cell_type": "markdown",
   "id": "407c4814-654a-449f-bd80-a86cecc12199",
   "metadata": {},
   "source": [
    "### Check the content of the 'Test_1_small.csv' file"
   ]
  },
  {
   "cell_type": "code",
   "execution_count": null,
   "id": "9a1d9e15-ff12-4600-9cfe-09ce68ec013d",
   "metadata": {},
   "outputs": [],
   "source": [
    "## Read data to check if it was saved correctly\n",
    "small_df = pd.read_csv('correct_csv_data/Test_1_small.csv')\n",
    "small_df.head()"
   ]
  },
  {
   "cell_type": "code",
   "execution_count": null,
   "id": "b267fbca-b11e-4aad-93c5-bb1d595a5289",
   "metadata": {},
   "outputs": [],
   "source": [
    "len(small_df)"
   ]
  },
  {
   "cell_type": "code",
   "execution_count": null,
   "id": "0db29a7c-e9cb-4242-a588-13d6befc441c",
   "metadata": {},
   "outputs": [],
   "source": [
    "display_three_axes(df=small_df, x='time', y=['gFx', 'gFy', 'gFz'], title='Time Dependence of Linear Acceleration (Raw Data)', \n",
    "                x_label='Time, sec', y_label='Linear acceleration / g, m/s^2')"
   ]
  },
  {
   "cell_type": "markdown",
   "id": "bee269e3-e744-423a-8640-347c6b6dd376",
   "metadata": {
    "tags": []
   },
   "source": [
    "# Demonstration"
   ]
  },
  {
   "cell_type": "code",
   "execution_count": null,
   "id": "65759014-798c-41ee-b048-a522a34d195a",
   "metadata": {},
   "outputs": [],
   "source": [
    "display_three_axes(df=df, x='time', y=['gFx', 'gFy', 'gFz'], title='Time Dependence of Linear Acceleration (Raw Data)', \n",
    "                x_label='Time, s', y_label='Linear acceleration / g')\n",
    "display_three_axes(df=df, x='time', y=['wx', 'wy', 'wz'], title='Time Dependence of Angular Velocity (Raw Data)', \n",
    "                x_label='Time, s', y_label='Angular velocity, rad/s')"
   ]
  }
 ],
 "metadata": {
  "kernelspec": {
   "display_name": "Python 3 (ipykernel)",
   "language": "python",
   "name": "python3"
  },
  "language_info": {
   "codemirror_mode": {
    "name": "ipython",
    "version": 3
   },
   "file_extension": ".py",
   "mimetype": "text/x-python",
   "name": "python",
   "nbconvert_exporter": "python",
   "pygments_lexer": "ipython3",
   "version": "3.10.8"
  }
 },
 "nbformat": 4,
 "nbformat_minor": 5
}
