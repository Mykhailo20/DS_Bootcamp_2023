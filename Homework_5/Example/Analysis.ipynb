{
 "cells": [
  {
   "cell_type": "code",
   "execution_count": null,
   "id": "7b7da69b-b34b-4598-b577-901609b3c9b0",
   "metadata": {},
   "outputs": [],
   "source": [
    "import numpy as np\n",
    "import pandas as pd\n",
    "import matplotlib.pyplot as plt\n",
    "import seaborn as sns\n",
    "\n",
    "import tensorflow as tf\n",
    "from sklearn.neighbors import NearestNeighbors"
   ]
  },
  {
   "cell_type": "markdown",
   "id": "c4526705-f3e0-4d00-be52-8ec97d41e39a",
   "metadata": {},
   "source": [
    "# Functions"
   ]
  },
  {
   "cell_type": "markdown",
   "id": "3a70fe0d-8a71-44e6-9da7-82de13a74c14",
   "metadata": {},
   "source": [
    "## Data Analysis"
   ]
  },
  {
   "cell_type": "code",
   "execution_count": null,
   "id": "0b8c0467-d8c7-4984-a294-d0f65577fb04",
   "metadata": {},
   "outputs": [],
   "source": [
    "def display_countplot(df, x, title=None, filename=None):\n",
    "    \"\"\"Function to display the countplot for the specified column of the df dataframe\n",
    "    Args:\n",
    "        1) df - a dataframe that contains the data required for visualization\n",
    "        2) x - the name of the dataframe column on which the countplot is built\n",
    "        3) title - the title of the graph (countplot)\n",
    "        4) filename - the path where the file will be saved (with the file name, the file extension is not required) \n",
    "    \"\"\"\n",
    "    plt.figure(figsize=(10, 5))\n",
    "    sns.countplot(data=df, x=x)\n",
    "    plt.title(title)\n",
    "    plt.tight_layout()\n",
    "    if filename:\n",
    "        plt.savefig(f'{filename}.png', bbox_inches='tight')\n",
    "    plt.show()"
   ]
  },
  {
   "cell_type": "code",
   "execution_count": null,
   "id": "4cc19ddc-d883-4e21-ab04-660a36beab0c",
   "metadata": {},
   "outputs": [],
   "source": [
    "def display_countplot_with_xticks(df, x, title=None, x_ticks_step=1, rotation=None, ha='right', filename=None):\n",
    "    \"\"\"Function to display a countplot for a specified column of a data frame df using x_ticks spaced by x_ticks_step\n",
    "    Args:\n",
    "        1) df - a dataframe that contains the data required for visualization\n",
    "        2) x - the name of the dataframe column on which the countplot is built\n",
    "        3) title - the title of the graph (countplot)\n",
    "        4) x_ticks_step - step for x_ticks \n",
    "        5) rotation - rotation angle for x_ticks \n",
    "        6) ha - rotation direction for x_ticks\n",
    "        7) filename - the path where the file will be saved (with the file name, the file extension is not required)\n",
    "    \"\"\"\n",
    "    plt.figure(figsize=(10, 5))\n",
    "    sns.countplot(data=df, x=x)\n",
    "    plt.title(title)\n",
    "    \n",
    "    # Determine the positions and labels for x_ticks\n",
    "    x_ticks = df[x].unique()\n",
    "    x_ticks.sort()\n",
    "    x_ticks_positions = range(0, len(x_ticks), x_ticks_step)\n",
    "    x_ticks_labels = []\n",
    "    for x_tick_position in x_ticks_positions:\n",
    "        x_ticks_labels.append(x_ticks[x_tick_position])\n",
    "    \n",
    "    # Set x_ticks\n",
    "    plt.xticks(x_ticks_positions, x_ticks_labels, rotation=rotation, ha=ha)\n",
    "    \n",
    "    if filename:\n",
    "        plt.savefig(f'{filename}.png', bbox_inches='tight')\n",
    "    plt.show()"
   ]
  },
  {
   "cell_type": "markdown",
   "id": "2d9edc2f-b88e-4780-9b5e-8df0b556ac25",
   "metadata": {
    "tags": []
   },
   "source": [
    "# Data Cleaning and Preprocessing"
   ]
  },
  {
   "cell_type": "code",
   "execution_count": null,
   "id": "4dd64503-2834-4584-b963-5b4dbc16ff1c",
   "metadata": {},
   "outputs": [],
   "source": [
    "columns = ['pregnancies', 'glucose_concentration', 'blood_pressure', 'triceps_skin_thickness', 'serum_insulin', 'bmi',\n",
    "           'diabetes_pedigree_function', 'age', 'has_diabetes']\n",
    "df = pd.read_csv('data/pima-indians-diabetes.csv', names=columns)\n",
    "df.head()"
   ]
  },
  {
   "cell_type": "code",
   "execution_count": null,
   "id": "803dab4d-63ae-4ba3-86ac-12d702e4340e",
   "metadata": {},
   "outputs": [],
   "source": [
    "df.info()"
   ]
  },
  {
   "cell_type": "code",
   "execution_count": null,
   "id": "1a404a22-e488-4f48-9831-c1d0ed4c0023",
   "metadata": {},
   "outputs": [],
   "source": [
    "len(df[df['pregnancies'] < 0])"
   ]
  },
  {
   "cell_type": "markdown",
   "id": "2ffc3ddd-2f44-4b9b-8d40-6faf68c50b5f",
   "metadata": {
    "tags": []
   },
   "source": [
    "### Explore unique values of each column"
   ]
  },
  {
   "cell_type": "code",
   "execution_count": null,
   "id": "4a015d37-925a-402f-840d-b21af58bdf5e",
   "metadata": {},
   "outputs": [],
   "source": [
    "print(f'Unique values of each column of dataset')\n",
    "for column in df.columns:\n",
    "    print(f\"{column}: {df[column].unique()}\")"
   ]
  },
  {
   "cell_type": "markdown",
   "id": "3f1bb477-04be-4c93-ae9f-660ded47885b",
   "metadata": {
    "jp-MarkdownHeadingCollapsed": true,
    "tags": []
   },
   "source": [
    "#### Explore the 'pregnancies' column"
   ]
  },
  {
   "cell_type": "code",
   "execution_count": null,
   "id": "836f4217-a53f-4a7d-a841-7fba2c1bb3f0",
   "metadata": {},
   "outputs": [],
   "source": [
    "df['pregnancies'].unique()"
   ]
  },
  {
   "cell_type": "code",
   "execution_count": null,
   "id": "2d55aca7-9f43-4b4e-a06c-47f3d41ff63d",
   "metadata": {},
   "outputs": [],
   "source": [
    "display_countplot(df=df, x='pregnancies', title='Number of times pregnant', filename='graphs/pregnancies_countplot')"
   ]
  },
  {
   "cell_type": "markdown",
   "id": "166ae502-0e91-4802-a858-6a083cbd5554",
   "metadata": {
    "jp-MarkdownHeadingCollapsed": true,
    "tags": []
   },
   "source": [
    "#### Explore the 'glucose_concentration' column"
   ]
  },
  {
   "cell_type": "code",
   "execution_count": null,
   "id": "d4263dd5-74f0-4097-9161-6d7ed57bcd86",
   "metadata": {},
   "outputs": [],
   "source": [
    "glucose_arr = df['glucose_concentration'].unique()\n",
    "glucose_arr"
   ]
  },
  {
   "cell_type": "code",
   "execution_count": null,
   "id": "5de457b8-8aae-4a73-89c1-ff57efceb59c",
   "metadata": {},
   "outputs": [],
   "source": [
    "len(df[df['glucose_concentration']==0])"
   ]
  },
  {
   "cell_type": "markdown",
   "id": "08937989-8bff-4d35-a3a2-607598d272a1",
   "metadata": {
    "jp-MarkdownHeadingCollapsed": true,
    "tags": []
   },
   "source": [
    "#### Explore the 'blood_pressure' column"
   ]
  },
  {
   "cell_type": "code",
   "execution_count": null,
   "id": "dc287107-d06b-4dd6-8321-739a80e0168c",
   "metadata": {},
   "outputs": [],
   "source": [
    "blood_pressure_arr = df['blood_pressure'].unique()\n",
    "blood_pressure_arr.sort()\n",
    "blood_pressure_arr"
   ]
  },
  {
   "cell_type": "code",
   "execution_count": null,
   "id": "156fe840-1818-47b5-81c1-34e1953a80b6",
   "metadata": {},
   "outputs": [],
   "source": [
    "len(df[df['blood_pressure']==0])"
   ]
  },
  {
   "cell_type": "markdown",
   "id": "807cc227-1344-451b-a644-fec17671b565",
   "metadata": {
    "jp-MarkdownHeadingCollapsed": true,
    "tags": []
   },
   "source": [
    "#### Explore the 'triceps_skin_thickness' column"
   ]
  },
  {
   "cell_type": "code",
   "execution_count": null,
   "id": "20fb2cf7-9e75-4b0a-b861-3a7992f77751",
   "metadata": {},
   "outputs": [],
   "source": [
    "triceps_skin_thickness = df['triceps_skin_thickness'].unique()\n",
    "triceps_skin_thickness.sort()\n",
    "triceps_skin_thickness"
   ]
  },
  {
   "cell_type": "code",
   "execution_count": null,
   "id": "2af3f8f5-7355-443a-9f63-c70bb3b60ce2",
   "metadata": {},
   "outputs": [],
   "source": [
    "len(df[df['triceps_skin_thickness']==0])"
   ]
  },
  {
   "cell_type": "markdown",
   "id": "48dc6d95-4e5c-4c62-af6f-7a657bb023ad",
   "metadata": {},
   "source": [
    "##### Solution = Imputation"
   ]
  },
  {
   "cell_type": "markdown",
   "id": "482162f3-2deb-49bd-9406-65535db7451c",
   "metadata": {},
   "source": [
    "Imputation: If the feature is important and you decide to retain it, you can consider imputing the missing values using techniques such as mean imputation, median imputation, or more advanced methods like k-nearest neighbors imputation. Imputation can help you retain the valuable information while filling in the gaps."
   ]
  },
  {
   "cell_type": "markdown",
   "id": "0f8dcc41-e4d9-4302-946e-7497e204f945",
   "metadata": {
    "jp-MarkdownHeadingCollapsed": true,
    "tags": []
   },
   "source": [
    "#### Explore the 'serum_insulin' column"
   ]
  },
  {
   "cell_type": "code",
   "execution_count": null,
   "id": "6899dff0-b610-475f-b883-930fd0abe57c",
   "metadata": {},
   "outputs": [],
   "source": [
    "serum_insulin = df['serum_insulin'].unique()\n",
    "serum_insulin.sort()\n",
    "serum_insulin"
   ]
  },
  {
   "cell_type": "code",
   "execution_count": null,
   "id": "29a9f112-4f92-4600-944b-e864901f672e",
   "metadata": {},
   "outputs": [],
   "source": [
    "len(df[df['serum_insulin']==0])"
   ]
  },
  {
   "cell_type": "markdown",
   "id": "d5c5c0ec-6d3b-42eb-9344-bf231735c664",
   "metadata": {
    "jp-MarkdownHeadingCollapsed": true,
    "tags": []
   },
   "source": [
    "#### Explore the 'bmi' column"
   ]
  },
  {
   "cell_type": "code",
   "execution_count": null,
   "id": "144167cb-5d2e-44c5-8a11-3a1af291f6be",
   "metadata": {},
   "outputs": [],
   "source": [
    "bmi = df['bmi'].unique()\n",
    "bmi.sort()\n",
    "bmi"
   ]
  },
  {
   "cell_type": "code",
   "execution_count": null,
   "id": "ad2eefef-a3ad-4d47-bf64-076f9516f8cb",
   "metadata": {},
   "outputs": [],
   "source": [
    "len(df[df['bmi']==0])"
   ]
  },
  {
   "cell_type": "markdown",
   "id": "6f0ee40b-0c77-4d55-985f-abf8b06f5ac3",
   "metadata": {
    "jp-MarkdownHeadingCollapsed": true,
    "tags": []
   },
   "source": [
    "#### Explore the 'diabetes_pedigree_function' column"
   ]
  },
  {
   "cell_type": "code",
   "execution_count": null,
   "id": "16354d93-35b5-4007-b4bc-b815e7cf4aa2",
   "metadata": {},
   "outputs": [],
   "source": [
    "diabetes_pedigree_func_arr = df['diabetes_pedigree_function'].unique()\n",
    "diabetes_pedigree_func_arr.sort()\n",
    "diabetes_pedigree_func_arr"
   ]
  },
  {
   "cell_type": "markdown",
   "id": "b680c7f1-541f-4f4a-9ebe-80492e0bafc6",
   "metadata": {
    "jp-MarkdownHeadingCollapsed": true,
    "tags": []
   },
   "source": [
    "#### Explore the 'age' column"
   ]
  },
  {
   "cell_type": "code",
   "execution_count": null,
   "id": "78e0d4a6-5f21-4e67-a3ac-4f61f6a11e81",
   "metadata": {},
   "outputs": [],
   "source": [
    "age_arr = df['age'].unique()\n",
    "age_arr.sort()\n",
    "age_arr"
   ]
  },
  {
   "cell_type": "markdown",
   "id": "56c75ed3-3669-4477-a6ec-6dd6f77800b6",
   "metadata": {
    "jp-MarkdownHeadingCollapsed": true,
    "tags": []
   },
   "source": [
    "#### Explore the 'has_diabetes' column"
   ]
  },
  {
   "cell_type": "code",
   "execution_count": null,
   "id": "9591ea68-792d-4eda-9bb9-e65afc6473a5",
   "metadata": {},
   "outputs": [],
   "source": [
    "df['has_diabetes'].unique()"
   ]
  },
  {
   "cell_type": "markdown",
   "id": "f85fb8fb-2ac3-4acb-af2e-7b7a323d7192",
   "metadata": {
    "jp-MarkdownHeadingCollapsed": true,
    "tags": []
   },
   "source": [
    "### Perform data cleaning"
   ]
  },
  {
   "cell_type": "code",
   "execution_count": null,
   "id": "e4a81289-a4b6-43fb-8647-83e4f0fa0c0f",
   "metadata": {},
   "outputs": [],
   "source": [
    "len(df[(df['glucose_concentration'] == 0) | (df['blood_pressure'] == 0) | (df['bmi'] == 0)])"
   ]
  },
  {
   "cell_type": "code",
   "execution_count": null,
   "id": "85ff9bd6-886f-4e56-ac35-cc89be5431bf",
   "metadata": {},
   "outputs": [],
   "source": [
    "df = df[(df['glucose_concentration'] != 0) & (df['blood_pressure'] != 0) & (df['bmi'] != 0)]\n",
    "df.info()"
   ]
  },
  {
   "cell_type": "code",
   "execution_count": null,
   "id": "ca461fff-3b98-4800-92c6-6d1c00115f5a",
   "metadata": {},
   "outputs": [],
   "source": [
    "len(df[df['triceps_skin_thickness'] == 0])"
   ]
  },
  {
   "cell_type": "code",
   "execution_count": null,
   "id": "33fbd43c-630c-40de-8554-016e3ae3b628",
   "metadata": {},
   "outputs": [],
   "source": [
    "triceps_skin_thickness = df['triceps_skin_thickness'].unique()\n",
    "triceps_skin_thickness.sort()\n",
    "triceps_skin_thickness"
   ]
  },
  {
   "cell_type": "code",
   "execution_count": null,
   "id": "75accd62-520c-4ffa-b54d-c4fca567413d",
   "metadata": {},
   "outputs": [],
   "source": [
    "# Calculate the mean of non-zero values in the column\n",
    "mean_skin_thickness = int(df[df['triceps_skin_thickness'] != 0]['triceps_skin_thickness'].mean())\n",
    "print(f\"mean_skin_thickness = {mean_skin_thickness}\")\n",
    "# Replace zero values with the mean\n",
    "df['triceps_skin_thickness'] = df['triceps_skin_thickness'].replace(0, mean_skin_thickness)\n",
    "\n",
    "len(df[df['triceps_skin_thickness'] == 0])"
   ]
  },
  {
   "cell_type": "code",
   "execution_count": null,
   "id": "79ec814a-baaf-4368-abc0-ff9bed5815a0",
   "metadata": {},
   "outputs": [],
   "source": [
    "triceps_skin_thickness = df['triceps_skin_thickness'].unique()\n",
    "triceps_skin_thickness.sort()\n",
    "triceps_skin_thickness"
   ]
  },
  {
   "cell_type": "code",
   "execution_count": null,
   "id": "d2ec1676-df99-4dae-aa94-63b8f3d15726",
   "metadata": {},
   "outputs": [],
   "source": [
    "display_countplot(df=df, x='triceps_skin_thickness', title='Triceps skin fold thickness (mm)')"
   ]
  },
  {
   "cell_type": "markdown",
   "id": "4cea3b88-291f-4bb9-ad4c-9e92bae9cf67",
   "metadata": {
    "tags": []
   },
   "source": [
    "#### Using K-Nearest Neighbors (KNN) Imputation for the 'triceps_skin_thickness' column"
   ]
  },
  {
   "cell_type": "markdown",
   "id": "e440013c-464f-4186-8676-2294e2456800",
   "metadata": {
    "jp-MarkdownHeadingCollapsed": true,
    "tags": []
   },
   "source": [
    "##### View the correlation matrix"
   ]
  },
  {
   "cell_type": "code",
   "execution_count": null,
   "id": "96c72545-d76c-4541-905a-cf4113a031a5",
   "metadata": {},
   "outputs": [],
   "source": [
    "# Construct a correlation matrix between the 'triceps_skin_thickness' column and other characteristics\n",
    "correlation_matrix = df.corr()\n",
    "\n",
    "plt.figure(figsize=(10, 8))\n",
    "sns.heatmap(correlation_matrix, annot=True, cmap='coolwarm', center=0)\n",
    "plt.title('Correlation Matrix Heatmap')\n",
    "plt.savefig('graphs/correlation_matrix.png', bbox_inches='tight')\n",
    "plt.show()"
   ]
  },
  {
   "cell_type": "markdown",
   "id": "d833115b-8118-48df-9cd3-0d32e6ab0e82",
   "metadata": {
    "jp-MarkdownHeadingCollapsed": true,
    "tags": []
   },
   "source": [
    "##### View the 'triceps_skin_thickness' labels distribution before performing KNN imputation"
   ]
  },
  {
   "cell_type": "code",
   "execution_count": null,
   "id": "0eeeb4e2-aed9-4abd-af04-5f73da17d296",
   "metadata": {},
   "outputs": [],
   "source": [
    "display_countplot(df=df, x='triceps_skin_thickness', title='Triceps skin fold thickness (mm)', filename='graphs/triceps_skin_thickness')"
   ]
  },
  {
   "cell_type": "markdown",
   "id": "ae4d5d91-7f89-4a61-bf66-62f9c17ffa30",
   "metadata": {
    "jp-MarkdownHeadingCollapsed": true,
    "tags": []
   },
   "source": [
    "##### Perform KNN imputation"
   ]
  },
  {
   "cell_type": "code",
   "execution_count": null,
   "id": "2c4f0746-18c9-4909-b479-29606ce6e282",
   "metadata": {},
   "outputs": [],
   "source": [
    "df_knn = df.copy()\n",
    "# Subset of relevant columns for KNN imputation\n",
    "subset_columns = ['triceps_skin_thickness', 'serum_insulin', 'bmi']\n",
    "\n",
    "# Separate data with missing 'triceps_skin_thickness'\n",
    "missing_data = df_knn[df_knn['triceps_skin_thickness'] == 0][subset_columns]\n",
    "known_data = df_knn[df_knn['triceps_skin_thickness'] != 0][subset_columns]\n",
    "\n",
    "# Reset the index of both DataFrames\n",
    "known_data.reset_index(drop=True, inplace=True)\n",
    "missing_indexes = missing_data.index\n",
    "missing_indexes = list(missing_indexes)\n",
    "# Fit a NearestNeighbors model\n",
    "neighbors_number = 5\n",
    "neighbors_model = NearestNeighbors(n_neighbors=neighbors_number)\n",
    "neighbors_model.fit(known_data.drop('triceps_skin_thickness', axis=1).values)\n",
    "changed_indexes = []\n",
    "# Impute missing values using KNN\n",
    "for index, row in missing_data.iterrows():\n",
    "    query_point = row.drop('triceps_skin_thickness')\n",
    "    distances, indices = neighbors_model.kneighbors([query_point])\n",
    "    avg_triceps_thickness = np.mean([known_data.loc[idx, 'triceps_skin_thickness'] for idx in indices[0]])\n",
    "    changed_indexes.append(index)\n",
    "    df_knn.loc[df_knn.index == index, 'triceps_skin_thickness'] = int(avg_triceps_thickness)\n",
    "\n",
    "print(f\"len(df_knn[df_knn['triceps_skin_thickness'] == 0]) = {len(df_knn[df_knn['triceps_skin_thickness'] == 0])}\")"
   ]
  },
  {
   "cell_type": "markdown",
   "id": "f3db1c00-2c79-4762-86b6-36ce0e2649c4",
   "metadata": {
    "jp-MarkdownHeadingCollapsed": true,
    "tags": []
   },
   "source": [
    "##### Check the correctness of KNN imputation"
   ]
  },
  {
   "cell_type": "code",
   "execution_count": null,
   "id": "09eda27a-7b29-4067-9d28-a2fe02058ade",
   "metadata": {},
   "outputs": [],
   "source": [
    "if missing_indexes != changed_indexes:\n",
    "    print(\"missing_indexes != changed_indexes -> invalid rows have been removed\")\n",
    "else:\n",
    "    print(\"missing_indexes == changed_indexes\")"
   ]
  },
  {
   "cell_type": "code",
   "execution_count": null,
   "id": "2fc0599e-0957-4cb4-95a0-79ab9784b412",
   "metadata": {},
   "outputs": [],
   "source": [
    "print(f\"len(df[df['triceps_skin_thickness'] == 0]) = {len(df[df['triceps_skin_thickness'] == 0])}\")\n",
    "print(f\"len(df_knn[df_knn['triceps_skin_thickness'] == 0]) = {len(df_knn[df_knn['triceps_skin_thickness'] == 0])}\")"
   ]
  },
  {
   "cell_type": "code",
   "execution_count": null,
   "id": "8ad81893-9c84-4fbc-96b4-8f647376b92d",
   "metadata": {},
   "outputs": [],
   "source": [
    "df_knn['triceps_skin_thickness'].unique()"
   ]
  },
  {
   "cell_type": "code",
   "execution_count": null,
   "id": "acb59b79-95cb-46da-a24b-c18191a07119",
   "metadata": {},
   "outputs": [],
   "source": [
    "print(f\"len(df['triceps_skin_thickness'].unique()) = {len(df['triceps_skin_thickness'].unique())}\")\n",
    "print(f\"len(df_knn['triceps_skin_thickness'].unique()) = {len(df_knn['triceps_skin_thickness'].unique())}\")"
   ]
  },
  {
   "cell_type": "code",
   "execution_count": null,
   "id": "2d50a0bf-05cd-4213-bd51-a170e92462f6",
   "metadata": {},
   "outputs": [],
   "source": [
    "print(f\"len(df) = {len(df)}\")\n",
    "print(f\"len(df_knn) = {len(df_knn)}\")"
   ]
  },
  {
   "cell_type": "code",
   "execution_count": null,
   "id": "8fbb3f5c-150f-46be-a3a6-ceed4d9ff2b1",
   "metadata": {},
   "outputs": [],
   "source": [
    "df_knn.head()"
   ]
  },
  {
   "cell_type": "code",
   "execution_count": null,
   "id": "d780ee94-b747-41da-92c0-f97295c3f9e7",
   "metadata": {},
   "outputs": [],
   "source": [
    "display_countplot(df=df_knn, x='triceps_skin_thickness', title='Triceps skin fold thickness (mm)', filename='graphs/triceps_skin_thickness')"
   ]
  },
  {
   "cell_type": "markdown",
   "id": "cc0b47a3-6341-4648-851d-0161612b583e",
   "metadata": {
    "jp-MarkdownHeadingCollapsed": true,
    "tags": []
   },
   "source": [
    "##### View percentage change in the column 'triceps_skin_thickness' labels using pie-charts"
   ]
  },
  {
   "cell_type": "code",
   "execution_count": null,
   "id": "672b786b-8a0a-4e18-abc3-37d9381133d9",
   "metadata": {},
   "outputs": [],
   "source": [
    "# Calculate the percentage of each label in the 'triceps_skin_thickness' column in df\n",
    "thickness_percentages_df = df['triceps_skin_thickness'].value_counts(normalize=True) * 100\n",
    "\n",
    "# Calculate the percentage of each label in the 'triceps_skin_thickness' column in df_knn\n",
    "thickness_percentages_knn = df_knn['triceps_skin_thickness'].value_counts(normalize=True) * 100\n",
    "\n",
    "# Create subplots for pie charts\n",
    "fig, axes = plt.subplots(1, 2, figsize=(15, 6))\n",
    "\n",
    "# Plot pie chart for original df\n",
    "# sns.set_palette(\"Set3\")\n",
    "# axes[0].pie(thickness_percentages_df, labels=thickness_percentages_df.index, autopct='%1.1f%%', startangle=140)\n",
    "wedges, _ = axes[0].pie(thickness_percentages_df, startangle=90)\n",
    "legend_labels = [f'{label}: {percent:.1f}%' for label, percent in zip(thickness_percentages_df.index, thickness_percentages_df)]\n",
    "axes[0].legend(wedges, legend_labels, title=\"Labels\", loc=\"center left\", bbox_to_anchor=(1, 0, 0.5, 1))\n",
    "axes[0].set_title(\"Original DataFrame\")\n",
    "\n",
    "# Plot pie chart for df_knn\n",
    "# axes[1].pie(thickness_percentages_knn, labels=thickness_percentages_knn.index, autopct='%1.1f%%', startangle=140)\n",
    "wedges, _ = axes[1].pie(thickness_percentages_knn, startangle=90)\n",
    "legend_labels = [f'{label}: {percent:.1f}%' for label, percent in zip(thickness_percentages_knn.index, thickness_percentages_knn)]\n",
    "axes[1].legend(wedges, legend_labels, title=\"Labels\", loc=\"center left\", bbox_to_anchor=(1, 0, 0.5, 1))\n",
    "axes[1].set_title(\"DataFrame after KNN imputation\")\n",
    "\n",
    "plt.savefig('graphs/pie_charts.png', bbox_inches='tight')\n",
    "plt.show()"
   ]
  },
  {
   "cell_type": "code",
   "execution_count": null,
   "id": "bdb526f5-bbec-4826-b249-a0d4a07ec85f",
   "metadata": {},
   "outputs": [],
   "source": [
    "# Calculate the percentage of each label in the 'triceps_skin_thickness' column in df\n",
    "thickness_percentages_df = df['triceps_skin_thickness'].value_counts(normalize=True) * 100\n",
    "\n",
    "fig = plt.figure(figsize=(12, 6))\n",
    "axes = fig.add_axes([0.1, 0.1, 1, 1])\n",
    "sns.set_palette(\"Set3\")\n",
    "# axes.pie(thickness_percentages_df, labels=thickness_percentages_df.index, autopct='%1.1f%%', startangle=140)\n",
    "wedges, _ = axes.pie(thickness_percentages_df, startangle=90)\n",
    "legend_labels = [f'{label}: {percent:.1f}%' for label, percent in zip(thickness_percentages_df.index, thickness_percentages_df)]\n",
    "axes.legend(wedges, legend_labels, title=\"Labels\", loc=\"center left\", bbox_to_anchor=(1, 0, 0.5, 1))\n",
    "axes.set_title(\"Original DataFrame\")\n",
    "\n",
    "plt.savefig('graphs/df_pie_chart.png', bbox_inches='tight')\n",
    "plt.show()"
   ]
  },
  {
   "cell_type": "markdown",
   "id": "86390108-970d-4145-b177-8f291ee7b8f5",
   "metadata": {
    "tags": []
   },
   "source": [
    "# Exploratory Data Analysis"
   ]
  },
  {
   "cell_type": "markdown",
   "id": "ca2b6fad-cea8-4c8e-becb-493a87b2f5da",
   "metadata": {
    "tags": []
   },
   "source": [
    "## Analysing class label distribution"
   ]
  },
  {
   "cell_type": "markdown",
   "id": "6be0c09d-0c29-4b9f-a576-a9f4c188279d",
   "metadata": {
    "jp-MarkdownHeadingCollapsed": true,
    "tags": []
   },
   "source": [
    "#### Consider the label distribution of the 'pregnancies' column"
   ]
  },
  {
   "cell_type": "code",
   "execution_count": null,
   "id": "085b56a8-e6c7-4c63-a840-d78b28fda56d",
   "metadata": {},
   "outputs": [],
   "source": [
    "sns.set_style('whitegrid')\n",
    "display_countplot(df=df_knn, x='pregnancies', title='Number of times pregnant', filename='graphs/pregnancies_countplot')"
   ]
  },
  {
   "cell_type": "markdown",
   "id": "fafd0f3a-6036-444d-9472-984825f557bb",
   "metadata": {
    "jp-MarkdownHeadingCollapsed": true,
    "tags": []
   },
   "source": [
    "#### Consider the label distribution of the 'years' column"
   ]
  },
  {
   "cell_type": "code",
   "execution_count": null,
   "id": "f0044fab-e717-4ebc-8f4e-2fd944fba126",
   "metadata": {},
   "outputs": [],
   "source": [
    "display_countplot(df=df_knn, x='age', title='Age (years)', filename='graphs/age_countplot')"
   ]
  },
  {
   "cell_type": "markdown",
   "id": "9fdb5e68-befe-4176-9a85-cd433b2eb18a",
   "metadata": {},
   "source": [
    "#### Consider the label distribution of the 'has_diabetes' column"
   ]
  },
  {
   "cell_type": "code",
   "execution_count": null,
   "id": "7f7d6ed1-227d-4d42-ad9a-ce78b50ba841",
   "metadata": {},
   "outputs": [],
   "source": [
    "display_countplot(df=df_knn, x='has_diabetes', title='has_diabetes labels', filename='graphs/has_diabetes_countplot')"
   ]
  },
  {
   "cell_type": "code",
   "execution_count": null,
   "id": "838bf58e-a394-47cb-80dd-ae3a0d3c85b6",
   "metadata": {},
   "outputs": [],
   "source": [
    "print(f\"len(df_knn[df_knn['has_diabetes']==0]) = {len(df_knn[df_knn['has_diabetes']==0])}\")\n",
    "print(f\"len(df_knn[df_knn['has_diabetes']==1]) = {len(df_knn[df_knn['has_diabetes']==1])}\")"
   ]
  }
 ],
 "metadata": {
  "kernelspec": {
   "display_name": "Python 3 (ipykernel)",
   "language": "python",
   "name": "python3"
  },
  "language_info": {
   "codemirror_mode": {
    "name": "ipython",
    "version": 3
   },
   "file_extension": ".py",
   "mimetype": "text/x-python",
   "name": "python",
   "nbconvert_exporter": "python",
   "pygments_lexer": "ipython3",
   "version": "3.10.8"
  }
 },
 "nbformat": 4,
 "nbformat_minor": 5
}
