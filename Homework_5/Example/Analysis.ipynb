{
 "cells": [
  {
   "cell_type": "code",
   "execution_count": null,
   "id": "7b7da69b-b34b-4598-b577-901609b3c9b0",
   "metadata": {},
   "outputs": [],
   "source": [
    "import numpy as np\n",
    "import pandas as pd\n",
    "import matplotlib.pyplot as plt\n",
    "import seaborn as sns\n",
    "\n",
    "import tensorflow as tf\n",
    "from sklearn.neighbors import NearestNeighbors\n",
    "from sklearn.preprocessing import StandardScaler\n",
    "\n",
    "import pickle"
   ]
  },
  {
   "cell_type": "markdown",
   "id": "c4526705-f3e0-4d00-be52-8ec97d41e39a",
   "metadata": {
    "jp-MarkdownHeadingCollapsed": true,
    "tags": []
   },
   "source": [
    "# Functions"
   ]
  },
  {
   "cell_type": "markdown",
   "id": "3a70fe0d-8a71-44e6-9da7-82de13a74c14",
   "metadata": {
    "jp-MarkdownHeadingCollapsed": true,
    "tags": []
   },
   "source": [
    "## Data Analysis"
   ]
  },
  {
   "cell_type": "code",
   "execution_count": null,
   "id": "0b8c0467-d8c7-4984-a294-d0f65577fb04",
   "metadata": {},
   "outputs": [],
   "source": [
    "def display_countplot(df, x, title=None, filename=None):\n",
    "    \"\"\"Function to display the countplot for the specified column of the df dataframe\n",
    "    Args:\n",
    "        1) df - a dataframe that contains the data required for visualization\n",
    "        2) x - the name of the dataframe column on which the countplot is built\n",
    "        3) title - the title of the graph (countplot)\n",
    "        4) filename - the relative path where the file will be saved (with the file name, the file extension is not required) or just the filename \n",
    "    \"\"\"\n",
    "    plt.figure(figsize=(10, 5))\n",
    "    sns.countplot(data=df, x=x)\n",
    "    plt.title(title)\n",
    "    plt.tight_layout()\n",
    "    if filename:\n",
    "        plt.savefig(f'{filename}.png', bbox_inches='tight')\n",
    "    plt.show()"
   ]
  },
  {
   "cell_type": "code",
   "execution_count": null,
   "id": "4cc19ddc-d883-4e21-ab04-660a36beab0c",
   "metadata": {},
   "outputs": [],
   "source": [
    "def display_countplot_with_xticks(df, x, title=None, x_ticks_step=1, rotation=None, ha='right', filename=None):\n",
    "    \"\"\"Function to display a countplot for a specified column of a data frame df using x_ticks spaced by x_ticks_step\n",
    "    Args:\n",
    "        1) df - a dataframe that contains the data required for visualization\n",
    "        2) x - the name of the dataframe column on which the countplot is built\n",
    "        3) title - the title of the graph (countplot)\n",
    "        4) x_ticks_step - step for x_ticks \n",
    "        5) rotation - rotation angle for x_ticks \n",
    "        6) ha - rotation direction for x_ticks\n",
    "        7) filename - the relative path where the file will be saved (with the file name, the file extension is not required) or just the filename\n",
    "    \"\"\"\n",
    "    plt.figure(figsize=(10, 5))\n",
    "    sns.countplot(data=df, x=x)\n",
    "    plt.title(title)\n",
    "    \n",
    "    # Determine the positions and labels for x_ticks\n",
    "    x_ticks = df[x].unique()\n",
    "    x_ticks.sort()\n",
    "    x_ticks_positions = range(0, len(x_ticks), x_ticks_step)\n",
    "    x_ticks_labels = []\n",
    "    for x_tick_position in x_ticks_positions:\n",
    "        x_ticks_labels.append(x_ticks[x_tick_position])\n",
    "    \n",
    "    # Set x_ticks\n",
    "    plt.xticks(x_ticks_positions, x_ticks_labels, rotation=rotation, ha=ha)\n",
    "    \n",
    "    if filename:\n",
    "        plt.savefig(f'{filename}.png', bbox_inches='tight')\n",
    "    plt.show()"
   ]
  },
  {
   "cell_type": "markdown",
   "id": "7906deaa-59ad-4026-a54c-7dd07b7f35c7",
   "metadata": {
    "jp-MarkdownHeadingCollapsed": true,
    "tags": []
   },
   "source": [
    "## ML Model Training"
   ]
  },
  {
   "cell_type": "code",
   "execution_count": null,
   "id": "884c6994-6f05-4b56-aef8-64b09d1ffabf",
   "metadata": {},
   "outputs": [],
   "source": [
    "def plot_graph(history, string):\n",
    "    plt.plot(history.history[string])\n",
    "    plt.xlabel('Epochs')\n",
    "    plt.ylabel(string)\n",
    "    plt.savefig(f\"graphs/{string}.png\", bbox_inches='tight')\n",
    "    plt.show()"
   ]
  },
  {
   "cell_type": "code",
   "execution_count": null,
   "id": "d3c82cb2-c8c9-4dd6-8552-e54c07925f19",
   "metadata": {},
   "outputs": [],
   "source": [
    "def plot_graphs(history, strings, filename=None):\n",
    "    \"\"\"Function to plot graphs for two training history parameters (eg accuracy and loss)\n",
    "    Args:\n",
    "        1) history - model training history\n",
    "        2) strings - an array of names of history parameters (only the data of the first two history parameters specified in this array will be taken for graphing)\n",
    "        3) filename - the relative path where the file will be saved (with the file name, the file extension is not required) or just the filename\n",
    "    \"\"\"\n",
    "    fig, axes = plt.subplots(1, 2, figsize=(12, 6))\n",
    "    axes[0].plot(history.history[strings[0]], label=strings[0])\n",
    "    axes[0].plot(history.history[f\"val_{strings[0]}\"], label=f\"val_{strings[0]}\")\n",
    "    axes[0].set_xlabel('Epochs')\n",
    "    axes[0].set_ylabel(strings[0])\n",
    "    axes[0].legend()\n",
    "    \n",
    "    axes[1].plot(history.history[strings[1]], label=strings[1])\n",
    "    axes[1].plot(history.history[f\"val_{strings[1]}\"], label=f\"val_{strings[1]}\")\n",
    "    axes[1].set_xlabel('Epochs')\n",
    "    axes[1].set_ylabel(strings[1])\n",
    "    axes[1].legend()\n",
    "    \n",
    "    if filename:\n",
    "        plt.savefig(f\"{filename}.png\", bbox_inches='tight')\n",
    "    plt.show()"
   ]
  },
  {
   "cell_type": "code",
   "execution_count": null,
   "id": "76914e0d-4af3-4b72-8ed1-0be228ea2546",
   "metadata": {},
   "outputs": [],
   "source": [
    "def display_feature_importance(model, feature_names, filename=None):\n",
    "    \"\"\"Function for displaying the importance of the feature of the transferred model\n",
    "    Args:\n",
    "        1) model - the trained model (after the execution of the fit() method), the importance of features of which should be displayed graphically\n",
    "        2) feature_names - a list of model feature names, the importance of which should be graphically displayed\n",
    "        3) filename - the relative path where the file will be saved (with the file name, the file extension is not required) or just the filename\n",
    "    \"\"\"\n",
    "    weights = model.get_weights()\n",
    "    # Calculate feature importance as the sum of absolute weights for each feature\n",
    "    feature_importance = np.sum(np.abs(weights[0]), axis=1)\n",
    "\n",
    "    # Normalize the feature importance values\n",
    "    normalized_importance = feature_importance / np.sum(feature_importance)\n",
    "\n",
    "    # Create a bar plot to visualize feature importance\n",
    "    plt.figure(figsize=(10, 6))\n",
    "    plt.barh(feature_names, normalized_importance)\n",
    "    plt.xlabel('Normalized Importance')\n",
    "    plt.ylabel('Features')\n",
    "    plt.title('Feature Importance')\n",
    "    if filename:\n",
    "        plt.savefig(f'{filename}.png', bbox_inches='tight')\n",
    "    plt.show()"
   ]
  },
  {
   "cell_type": "markdown",
   "id": "2d9edc2f-b88e-4780-9b5e-8df0b556ac25",
   "metadata": {
    "jp-MarkdownHeadingCollapsed": true,
    "tags": []
   },
   "source": [
    "# Data Cleaning and Preprocessing"
   ]
  },
  {
   "cell_type": "code",
   "execution_count": null,
   "id": "4dd64503-2834-4584-b963-5b4dbc16ff1c",
   "metadata": {},
   "outputs": [],
   "source": [
    "columns = ['pregnancies', 'glucose_concentration', 'blood_pressure', 'triceps_skin_thickness', 'serum_insulin', 'bmi',\n",
    "           'diabetes_pedigree_function', 'age', 'has_diabetes']\n",
    "df = pd.read_csv('data/pima-indians-diabetes.csv', names=columns)\n",
    "df.head()"
   ]
  },
  {
   "cell_type": "code",
   "execution_count": null,
   "id": "803dab4d-63ae-4ba3-86ac-12d702e4340e",
   "metadata": {},
   "outputs": [],
   "source": [
    "df.info()"
   ]
  },
  {
   "cell_type": "code",
   "execution_count": null,
   "id": "1a404a22-e488-4f48-9831-c1d0ed4c0023",
   "metadata": {},
   "outputs": [],
   "source": [
    "len(df[df['pregnancies'] < 0])"
   ]
  },
  {
   "cell_type": "markdown",
   "id": "2ffc3ddd-2f44-4b9b-8d40-6faf68c50b5f",
   "metadata": {
    "jp-MarkdownHeadingCollapsed": true,
    "tags": []
   },
   "source": [
    "### Explore unique values of each column"
   ]
  },
  {
   "cell_type": "code",
   "execution_count": null,
   "id": "4a015d37-925a-402f-840d-b21af58bdf5e",
   "metadata": {},
   "outputs": [],
   "source": [
    "print(f'Unique values of each column of dataset')\n",
    "for column in df.columns:\n",
    "    print(f\"{column}: {df[column].unique()}\")"
   ]
  },
  {
   "cell_type": "markdown",
   "id": "3f1bb477-04be-4c93-ae9f-660ded47885b",
   "metadata": {
    "jp-MarkdownHeadingCollapsed": true,
    "tags": []
   },
   "source": [
    "#### Explore the 'pregnancies' column"
   ]
  },
  {
   "cell_type": "code",
   "execution_count": null,
   "id": "836f4217-a53f-4a7d-a841-7fba2c1bb3f0",
   "metadata": {},
   "outputs": [],
   "source": [
    "df['pregnancies'].unique()"
   ]
  },
  {
   "cell_type": "code",
   "execution_count": null,
   "id": "2d55aca7-9f43-4b4e-a06c-47f3d41ff63d",
   "metadata": {},
   "outputs": [],
   "source": [
    "display_countplot(df=df, x='pregnancies', title='Number of times pregnant', filename='graphs/pregnancies_countplot')"
   ]
  },
  {
   "cell_type": "markdown",
   "id": "166ae502-0e91-4802-a858-6a083cbd5554",
   "metadata": {
    "jp-MarkdownHeadingCollapsed": true,
    "tags": []
   },
   "source": [
    "#### Explore the 'glucose_concentration' column"
   ]
  },
  {
   "cell_type": "code",
   "execution_count": null,
   "id": "d4263dd5-74f0-4097-9161-6d7ed57bcd86",
   "metadata": {},
   "outputs": [],
   "source": [
    "glucose_arr = df['glucose_concentration'].unique()\n",
    "glucose_arr"
   ]
  },
  {
   "cell_type": "code",
   "execution_count": null,
   "id": "5de457b8-8aae-4a73-89c1-ff57efceb59c",
   "metadata": {},
   "outputs": [],
   "source": [
    "len(df[df['glucose_concentration']==0])"
   ]
  },
  {
   "cell_type": "markdown",
   "id": "08937989-8bff-4d35-a3a2-607598d272a1",
   "metadata": {
    "jp-MarkdownHeadingCollapsed": true,
    "tags": []
   },
   "source": [
    "#### Explore the 'blood_pressure' column"
   ]
  },
  {
   "cell_type": "code",
   "execution_count": null,
   "id": "dc287107-d06b-4dd6-8321-739a80e0168c",
   "metadata": {},
   "outputs": [],
   "source": [
    "blood_pressure_arr = df['blood_pressure'].unique()\n",
    "blood_pressure_arr.sort()\n",
    "blood_pressure_arr"
   ]
  },
  {
   "cell_type": "code",
   "execution_count": null,
   "id": "156fe840-1818-47b5-81c1-34e1953a80b6",
   "metadata": {},
   "outputs": [],
   "source": [
    "len(df[df['blood_pressure']==0])"
   ]
  },
  {
   "cell_type": "markdown",
   "id": "807cc227-1344-451b-a644-fec17671b565",
   "metadata": {
    "jp-MarkdownHeadingCollapsed": true,
    "tags": []
   },
   "source": [
    "#### Explore the 'triceps_skin_thickness' column"
   ]
  },
  {
   "cell_type": "code",
   "execution_count": null,
   "id": "20fb2cf7-9e75-4b0a-b861-3a7992f77751",
   "metadata": {},
   "outputs": [],
   "source": [
    "triceps_skin_thickness = df['triceps_skin_thickness'].unique()\n",
    "triceps_skin_thickness.sort()\n",
    "triceps_skin_thickness"
   ]
  },
  {
   "cell_type": "code",
   "execution_count": null,
   "id": "2af3f8f5-7355-443a-9f63-c70bb3b60ce2",
   "metadata": {},
   "outputs": [],
   "source": [
    "len(df[df['triceps_skin_thickness']==0])"
   ]
  },
  {
   "cell_type": "markdown",
   "id": "48dc6d95-4e5c-4c62-af6f-7a657bb023ad",
   "metadata": {},
   "source": [
    "##### Solution = Imputation"
   ]
  },
  {
   "cell_type": "markdown",
   "id": "482162f3-2deb-49bd-9406-65535db7451c",
   "metadata": {},
   "source": [
    "Imputation: If the feature is important and you decide to retain it, you can consider imputing the missing values using techniques such as mean imputation, median imputation, or more advanced methods like k-nearest neighbors imputation. Imputation can help you retain the valuable information while filling in the gaps."
   ]
  },
  {
   "cell_type": "markdown",
   "id": "0f8dcc41-e4d9-4302-946e-7497e204f945",
   "metadata": {
    "jp-MarkdownHeadingCollapsed": true,
    "tags": []
   },
   "source": [
    "#### Explore the 'serum_insulin' column"
   ]
  },
  {
   "cell_type": "code",
   "execution_count": null,
   "id": "6899dff0-b610-475f-b883-930fd0abe57c",
   "metadata": {},
   "outputs": [],
   "source": [
    "serum_insulin = df['serum_insulin'].unique()\n",
    "serum_insulin.sort()\n",
    "serum_insulin"
   ]
  },
  {
   "cell_type": "code",
   "execution_count": null,
   "id": "29a9f112-4f92-4600-944b-e864901f672e",
   "metadata": {},
   "outputs": [],
   "source": [
    "len(df[df['serum_insulin']==0])"
   ]
  },
  {
   "cell_type": "markdown",
   "id": "d5c5c0ec-6d3b-42eb-9344-bf231735c664",
   "metadata": {
    "jp-MarkdownHeadingCollapsed": true,
    "tags": []
   },
   "source": [
    "#### Explore the 'bmi' column"
   ]
  },
  {
   "cell_type": "code",
   "execution_count": null,
   "id": "144167cb-5d2e-44c5-8a11-3a1af291f6be",
   "metadata": {},
   "outputs": [],
   "source": [
    "bmi = df['bmi'].unique()\n",
    "bmi.sort()\n",
    "bmi"
   ]
  },
  {
   "cell_type": "code",
   "execution_count": null,
   "id": "ad2eefef-a3ad-4d47-bf64-076f9516f8cb",
   "metadata": {},
   "outputs": [],
   "source": [
    "len(df[df['bmi']==0])"
   ]
  },
  {
   "cell_type": "markdown",
   "id": "6f0ee40b-0c77-4d55-985f-abf8b06f5ac3",
   "metadata": {
    "jp-MarkdownHeadingCollapsed": true,
    "tags": []
   },
   "source": [
    "#### Explore the 'diabetes_pedigree_function' column"
   ]
  },
  {
   "cell_type": "code",
   "execution_count": null,
   "id": "16354d93-35b5-4007-b4bc-b815e7cf4aa2",
   "metadata": {},
   "outputs": [],
   "source": [
    "diabetes_pedigree_func_arr = df['diabetes_pedigree_function'].unique()\n",
    "diabetes_pedigree_func_arr.sort()\n",
    "diabetes_pedigree_func_arr"
   ]
  },
  {
   "cell_type": "markdown",
   "id": "b680c7f1-541f-4f4a-9ebe-80492e0bafc6",
   "metadata": {
    "jp-MarkdownHeadingCollapsed": true,
    "tags": []
   },
   "source": [
    "#### Explore the 'age' column"
   ]
  },
  {
   "cell_type": "code",
   "execution_count": null,
   "id": "78e0d4a6-5f21-4e67-a3ac-4f61f6a11e81",
   "metadata": {},
   "outputs": [],
   "source": [
    "age_arr = df['age'].unique()\n",
    "age_arr.sort()\n",
    "age_arr"
   ]
  },
  {
   "cell_type": "markdown",
   "id": "56c75ed3-3669-4477-a6ec-6dd6f77800b6",
   "metadata": {
    "jp-MarkdownHeadingCollapsed": true,
    "tags": []
   },
   "source": [
    "#### Explore the 'has_diabetes' column"
   ]
  },
  {
   "cell_type": "code",
   "execution_count": null,
   "id": "9591ea68-792d-4eda-9bb9-e65afc6473a5",
   "metadata": {},
   "outputs": [],
   "source": [
    "df['has_diabetes'].unique()"
   ]
  },
  {
   "cell_type": "markdown",
   "id": "f85fb8fb-2ac3-4acb-af2e-7b7a323d7192",
   "metadata": {
    "tags": []
   },
   "source": [
    "### Perform data cleaning"
   ]
  },
  {
   "cell_type": "code",
   "execution_count": null,
   "id": "e4a81289-a4b6-43fb-8647-83e4f0fa0c0f",
   "metadata": {},
   "outputs": [],
   "source": [
    "len(df[(df['glucose_concentration'] == 0) | (df['blood_pressure'] == 0) | (df['bmi'] == 0)])"
   ]
  },
  {
   "cell_type": "code",
   "execution_count": null,
   "id": "85ff9bd6-886f-4e56-ac35-cc89be5431bf",
   "metadata": {},
   "outputs": [],
   "source": [
    "df = df[(df['glucose_concentration'] != 0) & (df['blood_pressure'] != 0) & (df['bmi'] != 0)]\n",
    "df.info()"
   ]
  },
  {
   "cell_type": "code",
   "execution_count": null,
   "id": "ca461fff-3b98-4800-92c6-6d1c00115f5a",
   "metadata": {},
   "outputs": [],
   "source": [
    "len(df[df['triceps_skin_thickness'] == 0])"
   ]
  },
  {
   "cell_type": "code",
   "execution_count": null,
   "id": "33fbd43c-630c-40de-8554-016e3ae3b628",
   "metadata": {},
   "outputs": [],
   "source": [
    "triceps_skin_thickness = df['triceps_skin_thickness'].unique()\n",
    "triceps_skin_thickness.sort()\n",
    "triceps_skin_thickness"
   ]
  },
  {
   "cell_type": "code",
   "execution_count": null,
   "id": "d2ec1676-df99-4dae-aa94-63b8f3d15726",
   "metadata": {},
   "outputs": [],
   "source": [
    "display_countplot(df=df, x='triceps_skin_thickness', title='Triceps skin fold thickness (mm)')"
   ]
  },
  {
   "cell_type": "markdown",
   "id": "4cea3b88-291f-4bb9-ad4c-9e92bae9cf67",
   "metadata": {
    "tags": []
   },
   "source": [
    "#### Using K-Nearest Neighbors (KNN) Imputation for the 'triceps_skin_thickness' column"
   ]
  },
  {
   "cell_type": "markdown",
   "id": "e440013c-464f-4186-8676-2294e2456800",
   "metadata": {
    "jp-MarkdownHeadingCollapsed": true,
    "tags": []
   },
   "source": [
    "##### View the correlation matrix"
   ]
  },
  {
   "cell_type": "code",
   "execution_count": null,
   "id": "96c72545-d76c-4541-905a-cf4113a031a5",
   "metadata": {},
   "outputs": [],
   "source": [
    "# Construct a correlation matrix between the 'triceps_skin_thickness' column and other characteristics\n",
    "correlation_matrix = df.corr()\n",
    "\n",
    "plt.figure(figsize=(10, 8))\n",
    "sns.heatmap(correlation_matrix, annot=True, cmap='coolwarm', center=0)\n",
    "plt.title('Correlation Matrix Heatmap')\n",
    "plt.savefig('graphs/correlation_matrix.png', bbox_inches='tight')\n",
    "plt.show()"
   ]
  },
  {
   "cell_type": "markdown",
   "id": "d833115b-8118-48df-9cd3-0d32e6ab0e82",
   "metadata": {
    "jp-MarkdownHeadingCollapsed": true,
    "tags": []
   },
   "source": [
    "##### View the 'triceps_skin_thickness' labels distribution before performing KNN imputation"
   ]
  },
  {
   "cell_type": "code",
   "execution_count": null,
   "id": "0eeeb4e2-aed9-4abd-af04-5f73da17d296",
   "metadata": {},
   "outputs": [],
   "source": [
    "display_countplot(df=df, x='triceps_skin_thickness', title='Triceps skin fold thickness (mm)', filename='graphs/triceps_skin_thickness')"
   ]
  },
  {
   "cell_type": "markdown",
   "id": "ae4d5d91-7f89-4a61-bf66-62f9c17ffa30",
   "metadata": {
    "tags": []
   },
   "source": [
    "##### Perform KNN imputation"
   ]
  },
  {
   "cell_type": "code",
   "execution_count": null,
   "id": "2c4f0746-18c9-4909-b479-29606ce6e282",
   "metadata": {},
   "outputs": [],
   "source": [
    "df_knn = df.copy()\n",
    "# Subset of relevant columns for KNN imputation\n",
    "subset_columns = ['triceps_skin_thickness', 'serum_insulin', 'bmi']\n",
    "\n",
    "# Separate data with missing 'triceps_skin_thickness'\n",
    "missing_data = df_knn[df_knn['triceps_skin_thickness'] == 0][subset_columns]\n",
    "known_data = df_knn[df_knn['triceps_skin_thickness'] != 0][subset_columns]\n",
    "\n",
    "# Reset the index of both DataFrames\n",
    "known_data.reset_index(drop=True, inplace=True)\n",
    "missing_indexes = missing_data.index\n",
    "missing_indexes = list(missing_indexes)\n",
    "# Fit a NearestNeighbors model\n",
    "neighbors_number = 5\n",
    "neighbors_model = NearestNeighbors(n_neighbors=neighbors_number)\n",
    "neighbors_model.fit(known_data.drop('triceps_skin_thickness', axis=1).values)\n",
    "changed_indexes = []\n",
    "# Impute missing values using KNN\n",
    "for index, row in missing_data.iterrows():\n",
    "    query_point = row.drop('triceps_skin_thickness')\n",
    "    distances, indices = neighbors_model.kneighbors([query_point])\n",
    "    avg_triceps_thickness = np.mean([known_data.loc[idx, 'triceps_skin_thickness'] for idx in indices[0]])\n",
    "    changed_indexes.append(index)\n",
    "    df_knn.loc[df_knn.index == index, 'triceps_skin_thickness'] = int(avg_triceps_thickness)\n",
    "\n",
    "print(f\"len(df_knn[df_knn['triceps_skin_thickness'] == 0]) = {len(df_knn[df_knn['triceps_skin_thickness'] == 0])}\")"
   ]
  },
  {
   "cell_type": "markdown",
   "id": "f3db1c00-2c79-4762-86b6-36ce0e2649c4",
   "metadata": {
    "tags": []
   },
   "source": [
    "##### Check the correctness of KNN imputation"
   ]
  },
  {
   "cell_type": "code",
   "execution_count": null,
   "id": "09eda27a-7b29-4067-9d28-a2fe02058ade",
   "metadata": {},
   "outputs": [],
   "source": [
    "if missing_indexes != changed_indexes:\n",
    "    print(\"missing_indexes != changed_indexes -> invalid rows have been removed\")\n",
    "else:\n",
    "    print(\"missing_indexes == changed_indexes\")"
   ]
  },
  {
   "cell_type": "code",
   "execution_count": null,
   "id": "2fc0599e-0957-4cb4-95a0-79ab9784b412",
   "metadata": {},
   "outputs": [],
   "source": [
    "print(f\"len(df[df['triceps_skin_thickness'] == 0]) = {len(df[df['triceps_skin_thickness'] == 0])}\")\n",
    "print(f\"len(df_knn[df_knn['triceps_skin_thickness'] == 0]) = {len(df_knn[df_knn['triceps_skin_thickness'] == 0])}\")"
   ]
  },
  {
   "cell_type": "code",
   "execution_count": null,
   "id": "8ad81893-9c84-4fbc-96b4-8f647376b92d",
   "metadata": {},
   "outputs": [],
   "source": [
    "df_knn['triceps_skin_thickness'].unique()"
   ]
  },
  {
   "cell_type": "code",
   "execution_count": null,
   "id": "acb59b79-95cb-46da-a24b-c18191a07119",
   "metadata": {},
   "outputs": [],
   "source": [
    "print(f\"len(df['triceps_skin_thickness'].unique()) = {len(df['triceps_skin_thickness'].unique())}\")\n",
    "print(f\"len(df_knn['triceps_skin_thickness'].unique()) = {len(df_knn['triceps_skin_thickness'].unique())}\")"
   ]
  },
  {
   "cell_type": "code",
   "execution_count": null,
   "id": "2d50a0bf-05cd-4213-bd51-a170e92462f6",
   "metadata": {},
   "outputs": [],
   "source": [
    "print(f\"len(df) = {len(df)}\")\n",
    "print(f\"len(df_knn) = {len(df_knn)}\")"
   ]
  },
  {
   "cell_type": "code",
   "execution_count": null,
   "id": "8fbb3f5c-150f-46be-a3a6-ceed4d9ff2b1",
   "metadata": {},
   "outputs": [],
   "source": [
    "df_knn.head()"
   ]
  },
  {
   "cell_type": "code",
   "execution_count": null,
   "id": "d780ee94-b747-41da-92c0-f97295c3f9e7",
   "metadata": {},
   "outputs": [],
   "source": [
    "display_countplot(df=df_knn, x='triceps_skin_thickness', title='Triceps skin fold thickness (mm)')"
   ]
  },
  {
   "cell_type": "markdown",
   "id": "cc0b47a3-6341-4648-851d-0161612b583e",
   "metadata": {
    "jp-MarkdownHeadingCollapsed": true,
    "tags": []
   },
   "source": [
    "##### View percentage change in the column 'triceps_skin_thickness' labels using pie-charts"
   ]
  },
  {
   "cell_type": "code",
   "execution_count": null,
   "id": "672b786b-8a0a-4e18-abc3-37d9381133d9",
   "metadata": {},
   "outputs": [],
   "source": [
    "# Calculate the percentage of each label in the 'triceps_skin_thickness' column in df\n",
    "thickness_percentages_df = df['triceps_skin_thickness'].value_counts(normalize=True) * 100\n",
    "\n",
    "# Calculate the percentage of each label in the 'triceps_skin_thickness' column in df_knn\n",
    "thickness_percentages_knn = df_knn['triceps_skin_thickness'].value_counts(normalize=True) * 100\n",
    "\n",
    "# Create subplots for pie charts\n",
    "fig, axes = plt.subplots(1, 2, figsize=(15, 6))\n",
    "\n",
    "# Plot pie chart for original df\n",
    "# sns.set_palette(\"Set3\")\n",
    "# axes[0].pie(thickness_percentages_df, labels=thickness_percentages_df.index, autopct='%1.1f%%', startangle=140)\n",
    "wedges, _ = axes[0].pie(thickness_percentages_df, startangle=90)\n",
    "legend_labels = [f'{label}: {percent:.1f}%' for label, percent in zip(thickness_percentages_df.index, thickness_percentages_df)]\n",
    "axes[0].legend(wedges, legend_labels, title=\"Labels\", loc=\"center left\", bbox_to_anchor=(1, 0, 0.5, 1))\n",
    "axes[0].set_title(\"Original DataFrame\")\n",
    "\n",
    "# Plot pie chart for df_knn\n",
    "# axes[1].pie(thickness_percentages_knn, labels=thickness_percentages_knn.index, autopct='%1.1f%%', startangle=140)\n",
    "wedges, _ = axes[1].pie(thickness_percentages_knn, startangle=90)\n",
    "legend_labels = [f'{label}: {percent:.1f}%' for label, percent in zip(thickness_percentages_knn.index, thickness_percentages_knn)]\n",
    "axes[1].legend(wedges, legend_labels, title=\"Labels\", loc=\"center left\", bbox_to_anchor=(1, 0, 0.5, 1))\n",
    "axes[1].set_title(\"DataFrame after KNN imputation\")\n",
    "\n",
    "plt.savefig('graphs/pie_charts.png', bbox_inches='tight')\n",
    "plt.show()"
   ]
  },
  {
   "cell_type": "code",
   "execution_count": null,
   "id": "bdb526f5-bbec-4826-b249-a0d4a07ec85f",
   "metadata": {},
   "outputs": [],
   "source": [
    "# Calculate the percentage of each label in the 'triceps_skin_thickness' column in df\n",
    "thickness_percentages_df = df['triceps_skin_thickness'].value_counts(normalize=True) * 100\n",
    "\n",
    "fig = plt.figure(figsize=(12, 6))\n",
    "axes = fig.add_axes([0.1, 0.1, 1, 1])\n",
    "sns.set_palette(\"Set3\")\n",
    "# axes.pie(thickness_percentages_df, labels=thickness_percentages_df.index, autopct='%1.1f%%', startangle=140)\n",
    "wedges, _ = axes.pie(thickness_percentages_df, startangle=90)\n",
    "legend_labels = [f'{label}: {percent:.1f}%' for label, percent in zip(thickness_percentages_df.index, thickness_percentages_df)]\n",
    "axes.legend(wedges, legend_labels, title=\"Labels\", loc=\"center left\", bbox_to_anchor=(1, 0, 0.5, 1))\n",
    "axes.set_title(\"Original DataFrame\")\n",
    "\n",
    "plt.savefig('graphs/df_pie_chart.png', bbox_inches='tight')\n",
    "plt.show()"
   ]
  },
  {
   "cell_type": "markdown",
   "id": "86390108-970d-4145-b177-8f291ee7b8f5",
   "metadata": {
    "jp-MarkdownHeadingCollapsed": true,
    "tags": []
   },
   "source": [
    "# Exploratory Data Analysis"
   ]
  },
  {
   "cell_type": "markdown",
   "id": "ca2b6fad-cea8-4c8e-becb-493a87b2f5da",
   "metadata": {
    "tags": []
   },
   "source": [
    "## Analysing class label distribution"
   ]
  },
  {
   "cell_type": "markdown",
   "id": "6be0c09d-0c29-4b9f-a576-a9f4c188279d",
   "metadata": {
    "jp-MarkdownHeadingCollapsed": true,
    "tags": []
   },
   "source": [
    "#### Consider the label distribution of the 'pregnancies' column"
   ]
  },
  {
   "cell_type": "code",
   "execution_count": null,
   "id": "085b56a8-e6c7-4c63-a840-d78b28fda56d",
   "metadata": {},
   "outputs": [],
   "source": [
    "sns.set_style('whitegrid')\n",
    "display_countplot(df=df_knn, x='pregnancies', title='Number of times pregnant', filename='graphs/pregnancies_countplot')"
   ]
  },
  {
   "cell_type": "markdown",
   "id": "fafd0f3a-6036-444d-9472-984825f557bb",
   "metadata": {
    "jp-MarkdownHeadingCollapsed": true,
    "tags": []
   },
   "source": [
    "#### Consider the label distribution of the 'years' column"
   ]
  },
  {
   "cell_type": "code",
   "execution_count": null,
   "id": "f0044fab-e717-4ebc-8f4e-2fd944fba126",
   "metadata": {},
   "outputs": [],
   "source": [
    "display_countplot(df=df_knn, x='age', title='Age (years)', filename='graphs/age_countplot')"
   ]
  },
  {
   "cell_type": "markdown",
   "id": "9fdb5e68-befe-4176-9a85-cd433b2eb18a",
   "metadata": {},
   "source": [
    "#### Consider the label distribution of the 'has_diabetes' column"
   ]
  },
  {
   "cell_type": "code",
   "execution_count": null,
   "id": "7f7d6ed1-227d-4d42-ad9a-ce78b50ba841",
   "metadata": {},
   "outputs": [],
   "source": [
    "display_countplot(df=df_knn, x='has_diabetes', title='has_diabetes labels', filename='graphs/has_diabetes_countplot')"
   ]
  },
  {
   "cell_type": "code",
   "execution_count": null,
   "id": "838bf58e-a394-47cb-80dd-ae3a0d3c85b6",
   "metadata": {},
   "outputs": [],
   "source": [
    "print(f\"len(df_knn[df_knn['has_diabetes']==0]) = {len(df_knn[df_knn['has_diabetes']==0])}\")\n",
    "print(f\"len(df_knn[df_knn['has_diabetes']==1]) = {len(df_knn[df_knn['has_diabetes']==1])}\")"
   ]
  },
  {
   "cell_type": "markdown",
   "id": "30593d7e-10e9-4a1b-a89e-ed8c6d17cb99",
   "metadata": {},
   "source": [
    "# Train and test Neural Network Model"
   ]
  },
  {
   "cell_type": "markdown",
   "id": "6eec6db2-2e14-4504-a06c-77b3141a4bd6",
   "metadata": {
    "tags": []
   },
   "source": [
    "## Trying default code"
   ]
  },
  {
   "cell_type": "markdown",
   "id": "4ad03c30-5809-449c-a7f8-0f37fa091249",
   "metadata": {
    "jp-MarkdownHeadingCollapsed": true,
    "tags": []
   },
   "source": [
    "### Model Architecture from tutorial "
   ]
  },
  {
   "cell_type": "code",
   "execution_count": null,
   "id": "4f243d39-2585-4c56-8acb-9d3b70f16fbe",
   "metadata": {},
   "outputs": [],
   "source": [
    "df_knn.head()"
   ]
  },
  {
   "cell_type": "code",
   "execution_count": null,
   "id": "abec308d-caca-45b2-b57d-3e912e7c12e1",
   "metadata": {},
   "outputs": [],
   "source": [
    "X = df_knn[columns[:-1]]\n",
    "y = df_knn['has_diabetes'].values\n",
    "X.head()"
   ]
  },
  {
   "cell_type": "code",
   "execution_count": null,
   "id": "9d4dded5-b98c-4338-a3ad-43335051edc0",
   "metadata": {},
   "outputs": [],
   "source": [
    "print(f\"len(X) = {len(X)}\")\n",
    "print(f\"len(y) = {len(y)}\")"
   ]
  },
  {
   "cell_type": "code",
   "execution_count": null,
   "id": "d9c231bc-8437-49d4-9dd6-179204925778",
   "metadata": {},
   "outputs": [],
   "source": [
    "# define the keras model\n",
    "model = tf.keras.models.Sequential()\n",
    "model.add(tf.keras.layers.Dense(12, input_shape=(8, ), activation='relu'))\n",
    "model.add(tf.keras.layers.Dense(8, activation='relu'))\n",
    "model.add(tf.keras.layers.Dense(1, activation='sigmoid'))\n",
    "\n",
    "# compile the keras model\n",
    "model.compile(loss='binary_crossentropy', optimizer='adam', metrics=['accuracy'])\n",
    "\n",
    "# fit the keras model on the dataset\n",
    "history = model.fit(X, y, epochs = 150, batch_size=10, verbose=0)\n",
    "\n",
    "# evaluate the keras model\n",
    "_, accuracy = model.evaluate(X, y)\n",
    "print('Accuracy: %.2f' % (accuracy*100))"
   ]
  },
  {
   "cell_type": "code",
   "execution_count": null,
   "id": "d5478788-62e2-4fd5-804c-437b495d2eec",
   "metadata": {},
   "outputs": [],
   "source": [
    "# plt.rcdefaults()\n",
    "# plot_graph(history, 'accuracy')\n",
    "# plot_graph(history, 'loss')"
   ]
  },
  {
   "cell_type": "markdown",
   "id": "dbf9c350-b34d-497b-8a11-0d458f9c165d",
   "metadata": {
    "jp-MarkdownHeadingCollapsed": true,
    "tags": []
   },
   "source": [
    "### Try to remove some features"
   ]
  },
  {
   "cell_type": "markdown",
   "id": "ba72c553-034e-4881-9372-143b8d201556",
   "metadata": {
    "jp-MarkdownHeadingCollapsed": true,
    "tags": []
   },
   "source": [
    "#### Find out which features has the biggest impact on model training"
   ]
  },
  {
   "cell_type": "code",
   "execution_count": null,
   "id": "03f99c92-284a-4242-808c-97b4da5c99d5",
   "metadata": {},
   "outputs": [],
   "source": [
    "weights = model.get_weights()\n",
    "# Calculate feature importance as the sum of absolute weights for each feature\n",
    "feature_importance = np.sum(np.abs(weights[0]), axis=1)\n",
    "\n",
    "# Normalize the feature importance values\n",
    "normalized_importance = feature_importance / np.sum(feature_importance)\n",
    "\n",
    "# Get feature names\n",
    "feature_names = ['pregnancies', 'glucose_concentration', 'blood_pressure', 'triceps_skin_thickness',\n",
    "                 'serum_insulin', 'bmi', 'diabetes_pedigree_function', 'age']\n",
    "\n",
    "# Create a bar plot to visualize feature importance\n",
    "plt.figure(figsize=(10, 6))\n",
    "plt.barh(feature_names, normalized_importance)\n",
    "plt.xlabel('Normalized Importance')\n",
    "plt.ylabel('Features')\n",
    "plt.title('Feature Importance')\n",
    "plt.savefig('graphs/feature_importance.png', bbox_inches='tight')\n",
    "plt.show()"
   ]
  },
  {
   "cell_type": "markdown",
   "id": "ecab9908-19c1-485e-b251-720f790cc77c",
   "metadata": {
    "jp-MarkdownHeadingCollapsed": true,
    "tags": []
   },
   "source": [
    "#### Removing 'triceps_skin_thickness' column"
   ]
  },
  {
   "cell_type": "code",
   "execution_count": null,
   "id": "16e68bbc-67fb-4cf1-839f-f9764f221b06",
   "metadata": {},
   "outputs": [],
   "source": [
    "df_knn.columns"
   ]
  },
  {
   "cell_type": "code",
   "execution_count": null,
   "id": "abedd651-bc2f-4ff6-965c-7169f486bd83",
   "metadata": {},
   "outputs": [],
   "source": [
    "X = df_knn[['pregnancies', 'glucose_concentration', 'blood_pressure', 'serum_insulin', \n",
    "            'bmi', 'diabetes_pedigree_function', 'age']]\n",
    "y = df_knn['has_diabetes']\n",
    "X.head()"
   ]
  },
  {
   "cell_type": "code",
   "execution_count": null,
   "id": "dbc393f0-92ed-4301-931f-82de9a594728",
   "metadata": {},
   "outputs": [],
   "source": [
    "print(f\"len(X) = {len(X)}\")\n",
    "print(f\"len(y) = {len(y)}\")"
   ]
  },
  {
   "cell_type": "code",
   "execution_count": null,
   "id": "f55ec024-e933-4c78-bb3b-9ca46b22ce06",
   "metadata": {},
   "outputs": [],
   "source": [
    "# define the keras model\n",
    "model = tf.keras.models.Sequential()\n",
    "model.add(tf.keras.layers.Dense(12, input_shape=(7, ), activation='relu'))\n",
    "model.add(tf.keras.layers.Dense(8, activation='relu'))\n",
    "model.add(tf.keras.layers.Dense(1, activation='sigmoid'))\n",
    "\n",
    "# compile the keras model\n",
    "model.compile(loss='binary_crossentropy', optimizer='adam', metrics=['accuracy'])\n",
    "\n",
    "# fit the keras model on the dataset\n",
    "history = model.fit(X, y, epochs = 150, batch_size=10, verbose=0)\n",
    "\n",
    "# evaluate the keras model\n",
    "_, accuracy = model.evaluate(X, y)\n",
    "print('Accuracy: %.2f' % (accuracy*100))"
   ]
  },
  {
   "cell_type": "markdown",
   "id": "d3991ed2-f8d8-49b6-a267-4361971f33c3",
   "metadata": {
    "jp-MarkdownHeadingCollapsed": true,
    "tags": []
   },
   "source": [
    "##### View feature importance"
   ]
  },
  {
   "cell_type": "code",
   "execution_count": null,
   "id": "08679896-4f36-453a-907b-5354c492923e",
   "metadata": {},
   "outputs": [],
   "source": [
    "features = ['pregnancies', 'glucose_concentration', 'blood_pressure', 'serum_insulin', 'bmi', 'diabetes_pedigree_function', 'age']\n",
    "display_feature_importance(model=model, feature_names=features)"
   ]
  },
  {
   "cell_type": "markdown",
   "id": "b45dc013-8bfe-4ba6-9352-87e626d1417d",
   "metadata": {
    "jp-MarkdownHeadingCollapsed": true,
    "tags": []
   },
   "source": [
    "#### Removing 'diabetes_pedigree_function' column"
   ]
  },
  {
   "cell_type": "code",
   "execution_count": null,
   "id": "f6434254-ecf3-4810-b94f-1a9004449f14",
   "metadata": {},
   "outputs": [],
   "source": [
    "X = df_knn[['pregnancies', 'glucose_concentration', 'blood_pressure', 'triceps_skin_thickness', 'serum_insulin', \n",
    "            'bmi', 'age']]\n",
    "y = df_knn['has_diabetes']\n",
    "X.head()"
   ]
  },
  {
   "cell_type": "code",
   "execution_count": null,
   "id": "bbafa9ff-769b-499a-bd9d-9093fea57ad6",
   "metadata": {},
   "outputs": [],
   "source": [
    "print(f\"len(X) = {len(X)}\")\n",
    "print(f\"len(y) = {len(y)}\")"
   ]
  },
  {
   "cell_type": "code",
   "execution_count": null,
   "id": "0137825c-cbaa-45ec-a282-5c8b70c8e39e",
   "metadata": {},
   "outputs": [],
   "source": [
    "# define the keras model\n",
    "model = tf.keras.models.Sequential()\n",
    "model.add(tf.keras.layers.Dense(12, input_shape=len(X.columns), ), activation='relu'))\n",
    "model.add(tf.keras.layers.Dense(8, activation='relu'))\n",
    "model.add(tf.keras.layers.Dense(1, activation='sigmoid'))\n",
    "\n",
    "# compile the keras model\n",
    "model.compile(loss='binary_crossentropy', optimizer='adam', metrics=['accuracy'])\n",
    "\n",
    "# fit the keras model on the dataset\n",
    "history = model.fit(X, y, epochs = 150, batch_size=10, verbose=0)\n",
    "\n",
    "# evaluate the keras model\n",
    "_, accuracy = model.evaluate(X, y)\n",
    "print('Accuracy: %.2f' % (accuracy*100))"
   ]
  },
  {
   "cell_type": "markdown",
   "id": "58175cd6-9bbf-48e6-9618-d009dccee6ba",
   "metadata": {
    "jp-MarkdownHeadingCollapsed": true,
    "tags": []
   },
   "source": [
    "##### View feature importance"
   ]
  },
  {
   "cell_type": "code",
   "execution_count": null,
   "id": "fbd3de17-7fe0-4335-a5ed-fd12a101e88d",
   "metadata": {},
   "outputs": [],
   "source": [
    "features = ['pregnancies', 'glucose_concentration', 'blood_pressure', 'triceps_skin_thickness', 'serum_insulin', 'bmi', 'age']\n",
    "display_feature_importance(model=model, feature_names=features, filename='graphs/feature_importance')"
   ]
  },
  {
   "cell_type": "markdown",
   "id": "3a99ba29-126e-42d4-bc93-444c8940cf69",
   "metadata": {},
   "source": [
    "#### Removing 'diabetes_pedigree_function' and 'pregnancies' columns"
   ]
  },
  {
   "cell_type": "code",
   "execution_count": null,
   "id": "878fbfb0-10d2-4d41-b235-957e1a54aebd",
   "metadata": {},
   "outputs": [],
   "source": [
    "X = df_knn[['glucose_concentration', 'blood_pressure', 'triceps_skin_thickness', 'serum_insulin', \n",
    "            'bmi', 'age']]\n",
    "y = df_knn['has_diabetes']\n",
    "X.head()"
   ]
  },
  {
   "cell_type": "code",
   "execution_count": null,
   "id": "bbd8a570-1cee-4eeb-8552-e9dce077fe4d",
   "metadata": {},
   "outputs": [],
   "source": [
    "print(f\"len(X) = {len(X)}\")\n",
    "print(f\"len(y) = {len(y)}\")"
   ]
  },
  {
   "cell_type": "code",
   "execution_count": null,
   "id": "b17e9a76-6e26-4540-8dc7-0f82153840d2",
   "metadata": {},
   "outputs": [],
   "source": [
    "# define the keras model\n",
    "model = tf.keras.models.Sequential()\n",
    "model.add(tf.keras.layers.Dense(12, input_shape=(len(X.columns), ), activation='relu'))\n",
    "model.add(tf.keras.layers.Dense(8, activation='relu'))\n",
    "model.add(tf.keras.layers.Dense(1, activation='sigmoid'))\n",
    "\n",
    "# compile the keras model\n",
    "model.compile(loss='binary_crossentropy', optimizer='adam', metrics=['accuracy'])\n",
    "\n",
    "# fit the keras model on the dataset\n",
    "history = model.fit(X, y, epochs = 150, batch_size=10, verbose=0)\n",
    "\n",
    "# evaluate the keras model\n",
    "_, accuracy = model.evaluate(X, y)\n",
    "print('Accuracy: %.2f' % (accuracy*100))"
   ]
  },
  {
   "cell_type": "markdown",
   "id": "f33889aa-7eef-4cf1-9b9c-76fdc1d80d91",
   "metadata": {
    "tags": []
   },
   "source": [
    "##### View feature importance"
   ]
  },
  {
   "cell_type": "code",
   "execution_count": null,
   "id": "af864a10-a216-4f35-a773-77ba75ac0af9",
   "metadata": {},
   "outputs": [],
   "source": [
    "features = ['glucose_concentration', 'blood_pressure', 'triceps_skin_thickness', 'serum_insulin', 'bmi', 'age']\n",
    "display_feature_importance(model=model, feature_names=features, filename='graphs/feature_importance')"
   ]
  },
  {
   "cell_type": "markdown",
   "id": "949e21ea-4465-42c8-9a17-ef2e15fd0843",
   "metadata": {},
   "source": [
    "#### Removing 'diabetes_pedigree_function', 'pregnancies', 'blood_pressure' and 'triceps_skin_thickness' columns"
   ]
  },
  {
   "cell_type": "code",
   "execution_count": null,
   "id": "4633d926-306f-4088-8c32-9553fa18a266",
   "metadata": {},
   "outputs": [],
   "source": [
    "X = df_knn[['glucose_concentration', 'serum_insulin', 'bmi', 'age']]\n",
    "y = df_knn['has_diabetes']\n",
    "X.head()"
   ]
  },
  {
   "cell_type": "code",
   "execution_count": null,
   "id": "e8aa89a1-4280-4b0b-8845-e43a6f017462",
   "metadata": {},
   "outputs": [],
   "source": [
    "print(f\"len(X) = {len(X)}\")\n",
    "print(f\"len(y) = {len(y)}\")"
   ]
  },
  {
   "cell_type": "code",
   "execution_count": null,
   "id": "543546cb-a064-45ab-9afa-0ce32e4d8958",
   "metadata": {},
   "outputs": [],
   "source": [
    "# define the keras model\n",
    "model = tf.keras.models.Sequential()\n",
    "model.add(tf.keras.layers.Dense(12, input_shape=(len(X.columns), ), activation='relu'))\n",
    "model.add(tf.keras.layers.Dense(8, activation='relu'))\n",
    "model.add(tf.keras.layers.Dense(1, activation='sigmoid'))\n",
    "\n",
    "# compile the keras model\n",
    "model.compile(loss='binary_crossentropy', optimizer='adam', metrics=['accuracy'])\n",
    "\n",
    "# fit the keras model on the dataset\n",
    "history = model.fit(X, y, epochs = 150, batch_size=10, verbose=0)\n",
    "\n",
    "# evaluate the keras model\n",
    "_, accuracy = model.evaluate(X, y)\n",
    "print('Accuracy: %.2f' % (accuracy*100))"
   ]
  },
  {
   "cell_type": "markdown",
   "id": "42c36edd-0cf7-4f67-b28b-45d8f30d429f",
   "metadata": {
    "tags": []
   },
   "source": [
    "##### View feature importance"
   ]
  },
  {
   "cell_type": "code",
   "execution_count": null,
   "id": "18f5a454-0e3e-4c17-a694-74080bd0f507",
   "metadata": {},
   "outputs": [],
   "source": [
    "features = X.columns\n",
    "display_feature_importance(model=model, feature_names=features, filename='graphs/feature_importance')"
   ]
  },
  {
   "cell_type": "markdown",
   "id": "3eb99f26-b467-4eae-a2c6-df7ceb8c98e0",
   "metadata": {
    "tags": []
   },
   "source": [
    "### Changing model architecture"
   ]
  },
  {
   "cell_type": "markdown",
   "id": "8f3d6c5b-d056-43d6-899c-96ac86ff7a44",
   "metadata": {
    "tags": []
   },
   "source": [
    "#### Change the number of neurons in each of hidden layers"
   ]
  },
  {
   "cell_type": "code",
   "execution_count": null,
   "id": "86783ec7-333f-4563-9c44-c3c92e6981f0",
   "metadata": {},
   "outputs": [],
   "source": [
    "X = df_knn[columns[:-1]]\n",
    "y = df_knn['has_diabetes'].values\n",
    "X.head()"
   ]
  },
  {
   "cell_type": "code",
   "execution_count": null,
   "id": "63d46564-8e48-4711-a0fd-16d9a2c3d77f",
   "metadata": {},
   "outputs": [],
   "source": [
    "print(f\"len(X) = {len(X)}\")\n",
    "print(f\"len(y) = {len(y)}\")"
   ]
  },
  {
   "cell_type": "code",
   "execution_count": null,
   "id": "afe30aef-2e3d-4e4f-8e3e-237e6d754b8d",
   "metadata": {},
   "outputs": [],
   "source": [
    "divide_index = int(0.8 * len(X))\n",
    "X_train = X[:divide_index]\n",
    "X_val = X[divide_index:]\n",
    "\n",
    "y_train = y[:divide_index]\n",
    "y_val = y[divide_index:]\n",
    "\n",
    "print(f\"len(X_train) = {len(X_train)}\")\n",
    "print(f\"len(y_train) = {len(y_train)}\")\n",
    "\n",
    "print(f\"len(X_val) = {len(X_val)}\")\n",
    "print(f\"len(y_val) = {len(y_val)}\")"
   ]
  },
  {
   "cell_type": "code",
   "execution_count": null,
   "id": "14cc5b34-cc7c-4ba9-abf8-56b86ef3307f",
   "metadata": {},
   "outputs": [],
   "source": [
    "# define the keras model\n",
    "model = tf.keras.models.Sequential()\n",
    "model.add(tf.keras.layers.Dense(12, input_shape=(len(X.columns), ), activation='relu'))\n",
    "model.add(tf.keras.layers.Dense(8, activation='relu'))\n",
    "model.add(tf.keras.layers.Dense(1, activation='sigmoid'))\n",
    "\n",
    "# compile the keras model\n",
    "model.compile(loss='binary_crossentropy', optimizer='adam', metrics=['accuracy'])\n",
    "\n",
    "# fit the keras model on the dataset\n",
    "history = model.fit(X_train, y_train, epochs = 150, batch_size=10, verbose=0, validation_data=(X_val, y_val))\n",
    "\n",
    "# evaluate the keras model\n",
    "loss, accuracy = model.evaluate(X_train, y_train)\n",
    "val_loss, val_accuracy = model.evaluate(X_val, y_val)\n",
    "\n",
    "print(f'Accuracy: {accuracy*100:.2f}; Loss: {loss:.2f}')\n",
    "print(f'Validation accuracy: {val_accuracy*100:.2f}; validation loss: {val_loss:.2f}')"
   ]
  },
  {
   "cell_type": "code",
   "execution_count": null,
   "id": "98c5a580-4fc3-4dc5-9b9e-b9879bbd4c66",
   "metadata": {},
   "outputs": [],
   "source": [
    "plot_graphs(history=history, strings=['accuracy', 'loss'])"
   ]
  },
  {
   "cell_type": "markdown",
   "id": "f22e6f8f-3ba9-41dc-ac9a-2dca5842ef0f",
   "metadata": {
    "jp-MarkdownHeadingCollapsed": true,
    "tags": []
   },
   "source": [
    "#### Change the number of hidden layers"
   ]
  },
  {
   "cell_type": "code",
   "execution_count": null,
   "id": "99080a1b-4059-4d0d-b50b-5bdb4622e17a",
   "metadata": {},
   "outputs": [],
   "source": [
    "# define the keras model\n",
    "model = tf.keras.models.Sequential()\n",
    "model.add(tf.keras.layers.Dense(12, input_shape=(8, ), activation='relu'))\n",
    "model.add(tf.keras.layers.Dense(8, activation='relu'))\n",
    "model.add(tf.keras.layers.Dense(1, activation='sigmoid'))\n",
    "\n",
    "# compile the keras model\n",
    "model.compile(loss='binary_crossentropy', optimizer='adam', metrics=['accuracy'])\n",
    "\n",
    "# fit the keras model on the dataset\n",
    "history = model.fit(X, y, epochs = 150, batch_size=10, verbose=0)\n",
    "\n",
    "# evaluate the keras model\n",
    "_, accuracy = model.evaluate(X, y)\n",
    "print('Accuracy: %.2f' % (accuracy*100))"
   ]
  },
  {
   "cell_type": "markdown",
   "id": "fa9dfe38-0d9c-4005-93de-501be1e30141",
   "metadata": {},
   "source": [
    "### Add data normalization"
   ]
  },
  {
   "cell_type": "code",
   "execution_count": null,
   "id": "ebcc1691-e14c-4254-aa1a-f4c3e29c057e",
   "metadata": {},
   "outputs": [],
   "source": [
    "X = df_knn[columns[:-1]]\n",
    "y = df_knn['has_diabetes'].values\n",
    "X.head()"
   ]
  },
  {
   "cell_type": "code",
   "execution_count": null,
   "id": "e6020578-5b14-4de4-b108-91ac2d1a1a9d",
   "metadata": {},
   "outputs": [],
   "source": [
    "print(f\"len(X) = {len(X)}\")\n",
    "print(f\"len(y) = {len(y)}\")"
   ]
  },
  {
   "cell_type": "code",
   "execution_count": null,
   "id": "1e3b50e4-a1b3-474a-8883-c5678a127af7",
   "metadata": {},
   "outputs": [],
   "source": [
    "# Initialize a scaler and fit it on the training data\n",
    "scaler = StandardScaler()\n",
    "X_scaled = scaler.fit_transform(X)\n",
    "\n",
    "# define the keras model\n",
    "model = tf.keras.models.Sequential()\n",
    "model.add(tf.keras.layers.Dense(128, input_shape=(len(X.columns), ), activation='relu'))\n",
    "model.add(tf.keras.layers.Dense(512, activation='relu'))\n",
    "model.add(tf.keras.layers.Dense(1, activation='sigmoid'))\n",
    "\n",
    "# compile the keras model\n",
    "model.compile(loss='binary_crossentropy', optimizer='adam', metrics=['accuracy'])\n",
    "\n",
    "# fit the keras model on the dataset\n",
    "history = model.fit(X_scaled, y, epochs = 150, batch_size=10, verbose=0)\n",
    "\n",
    "# evaluate the keras model\n",
    "loss, accuracy = model.evaluate(X_scaled, y)\n",
    "\n",
    "print(f'Accuracy: {accuracy*100:.2f}')"
   ]
  },
  {
   "cell_type": "code",
   "execution_count": null,
   "id": "4e10ede1-8d93-40c5-9330-6e3e9d5ca0be",
   "metadata": {},
   "outputs": [],
   "source": [
    "plot_graph(history, 'accuracy')\n",
    "plot_graph(history, 'loss')"
   ]
  },
  {
   "cell_type": "markdown",
   "id": "7010babc-b2b2-437e-bd08-e26b898f018f",
   "metadata": {},
   "source": [
    "#### Check the effect of data normalization on the speed of achieving a certain accuracy"
   ]
  },
  {
   "cell_type": "code",
   "execution_count": 71,
   "id": "9f14fce1-1425-4ddd-aca3-4bf4a66b18b6",
   "metadata": {},
   "outputs": [],
   "source": [
    "class myCallback(tf.keras.callbacks.Callback):\n",
    "    def on_epoch_end(self, epoch, logs={}):\n",
    "        if(logs.get('accuracy') == 1):\n",
    "            print('\\nAccuracy is bigger than 1 so cancelling training!')\n",
    "            self.model.stop_training = True"
   ]
  },
  {
   "cell_type": "code",
   "execution_count": 68,
   "id": "59d192de-dafb-4d83-bb51-eaf91a69e400",
   "metadata": {},
   "outputs": [
    {
     "name": "stdout",
     "output_type": "stream",
     "text": [
      "len(X_train) = 579\n",
      "len(y_train) = 579\n",
      "len(X_val) = 145\n",
      "len(y_val) = 145\n"
     ]
    }
   ],
   "source": [
    "X = df_knn[columns[:-1]]\n",
    "y = df_knn['has_diabetes'].values\n",
    "\n",
    "divide_index = int(0.8 * len(X))\n",
    "X_train = X[:divide_index]\n",
    "X_val = X[divide_index:]\n",
    "\n",
    "y_train = y[:divide_index]\n",
    "y_val = y[divide_index:]\n",
    "\n",
    "print(f\"len(X_train) = {len(X_train)}\")\n",
    "print(f\"len(y_train) = {len(y_train)}\")\n",
    "\n",
    "print(f\"len(X_val) = {len(X_val)}\")\n",
    "print(f\"len(y_val) = {len(y_val)}\")"
   ]
  },
  {
   "cell_type": "code",
   "execution_count": 78,
   "id": "3627064d-11ac-4921-b253-25b38e1fc427",
   "metadata": {},
   "outputs": [
    {
     "name": "stdout",
     "output_type": "stream",
     "text": [
      "Epoch 1/550\n",
      "58/58 [==============================] - 2s 9ms/step - loss: 2.3813 - accuracy: 0.5682 - val_loss: 2.1189 - val_accuracy: 0.6345\n",
      "Epoch 2/550\n",
      "58/58 [==============================] - 0s 5ms/step - loss: 1.3228 - accuracy: 0.6252 - val_loss: 1.3760 - val_accuracy: 0.6828\n",
      "Epoch 3/550\n",
      "58/58 [==============================] - 0s 6ms/step - loss: 1.2948 - accuracy: 0.6477 - val_loss: 0.8984 - val_accuracy: 0.5793\n",
      "Epoch 4/550\n",
      "58/58 [==============================] - 0s 5ms/step - loss: 1.2169 - accuracy: 0.6218 - val_loss: 0.7499 - val_accuracy: 0.6552\n",
      "Epoch 5/550\n",
      "58/58 [==============================] - 0s 4ms/step - loss: 0.9073 - accuracy: 0.6598 - val_loss: 1.6118 - val_accuracy: 0.6414\n",
      "Epoch 6/550\n",
      "58/58 [==============================] - 0s 4ms/step - loss: 1.5564 - accuracy: 0.6114 - val_loss: 1.3018 - val_accuracy: 0.6414\n",
      "Epoch 7/550\n",
      "58/58 [==============================] - 0s 4ms/step - loss: 0.7640 - accuracy: 0.6442 - val_loss: 0.8712 - val_accuracy: 0.6345\n",
      "Epoch 8/550\n",
      "58/58 [==============================] - 0s 4ms/step - loss: 0.6383 - accuracy: 0.6753 - val_loss: 0.6238 - val_accuracy: 0.6552\n",
      "Epoch 9/550\n",
      "58/58 [==============================] - 0s 4ms/step - loss: 0.6274 - accuracy: 0.6805 - val_loss: 0.6491 - val_accuracy: 0.6690\n",
      "Epoch 10/550\n",
      "58/58 [==============================] - 0s 4ms/step - loss: 0.6270 - accuracy: 0.6943 - val_loss: 0.6186 - val_accuracy: 0.7103\n",
      "Epoch 11/550\n",
      "58/58 [==============================] - 0s 4ms/step - loss: 0.7252 - accuracy: 0.6528 - val_loss: 0.6253 - val_accuracy: 0.6621\n",
      "Epoch 12/550\n",
      "58/58 [==============================] - 0s 4ms/step - loss: 0.8034 - accuracy: 0.6667 - val_loss: 0.7362 - val_accuracy: 0.6414\n",
      "Epoch 13/550\n",
      "58/58 [==============================] - 0s 4ms/step - loss: 0.6741 - accuracy: 0.7098 - val_loss: 0.6750 - val_accuracy: 0.6759\n",
      "Epoch 14/550\n",
      "58/58 [==============================] - 0s 4ms/step - loss: 0.7180 - accuracy: 0.6753 - val_loss: 1.0293 - val_accuracy: 0.5034\n",
      "Epoch 15/550\n",
      "58/58 [==============================] - 0s 4ms/step - loss: 0.7028 - accuracy: 0.6684 - val_loss: 0.5719 - val_accuracy: 0.7103\n",
      "Epoch 16/550\n",
      "58/58 [==============================] - 0s 4ms/step - loss: 0.6055 - accuracy: 0.7133 - val_loss: 0.7720 - val_accuracy: 0.6276\n",
      "Epoch 17/550\n",
      "58/58 [==============================] - 0s 4ms/step - loss: 0.6021 - accuracy: 0.7237 - val_loss: 0.6648 - val_accuracy: 0.6897\n",
      "Epoch 18/550\n",
      "58/58 [==============================] - 0s 4ms/step - loss: 0.6519 - accuracy: 0.6874 - val_loss: 0.6064 - val_accuracy: 0.6759\n",
      "Epoch 19/550\n",
      "58/58 [==============================] - 0s 4ms/step - loss: 0.6177 - accuracy: 0.7081 - val_loss: 0.6227 - val_accuracy: 0.6828\n",
      "Epoch 20/550\n",
      "58/58 [==============================] - 0s 4ms/step - loss: 0.5471 - accuracy: 0.7461 - val_loss: 0.8541 - val_accuracy: 0.5862\n",
      "Epoch 21/550\n",
      "58/58 [==============================] - 0s 4ms/step - loss: 0.6163 - accuracy: 0.7064 - val_loss: 0.6513 - val_accuracy: 0.7103\n",
      "Epoch 22/550\n",
      "58/58 [==============================] - 0s 4ms/step - loss: 0.5901 - accuracy: 0.7081 - val_loss: 0.5829 - val_accuracy: 0.6828\n",
      "Epoch 23/550\n",
      "58/58 [==============================] - 0s 4ms/step - loss: 0.5570 - accuracy: 0.7185 - val_loss: 0.6937 - val_accuracy: 0.6276\n",
      "Epoch 24/550\n",
      "58/58 [==============================] - 0s 4ms/step - loss: 0.5414 - accuracy: 0.7116 - val_loss: 0.7383 - val_accuracy: 0.6621\n",
      "Epoch 25/550\n",
      "58/58 [==============================] - 0s 4ms/step - loss: 0.6236 - accuracy: 0.7392 - val_loss: 0.5723 - val_accuracy: 0.7172\n",
      "Epoch 26/550\n",
      "58/58 [==============================] - 0s 4ms/step - loss: 0.5481 - accuracy: 0.7306 - val_loss: 0.7675 - val_accuracy: 0.5517\n",
      "Epoch 27/550\n",
      "58/58 [==============================] - 0s 4ms/step - loss: 0.5966 - accuracy: 0.7168 - val_loss: 0.6264 - val_accuracy: 0.6828\n",
      "Epoch 28/550\n",
      "58/58 [==============================] - 0s 4ms/step - loss: 0.5361 - accuracy: 0.7547 - val_loss: 0.5895 - val_accuracy: 0.6828\n",
      "Epoch 29/550\n",
      "58/58 [==============================] - 0s 4ms/step - loss: 0.5284 - accuracy: 0.7427 - val_loss: 0.5665 - val_accuracy: 0.7103\n",
      "Epoch 30/550\n",
      "58/58 [==============================] - 0s 4ms/step - loss: 0.5393 - accuracy: 0.7461 - val_loss: 0.5510 - val_accuracy: 0.7241\n",
      "Epoch 31/550\n",
      "58/58 [==============================] - 0s 4ms/step - loss: 0.5220 - accuracy: 0.7668 - val_loss: 0.6361 - val_accuracy: 0.7034\n",
      "Epoch 32/550\n",
      "58/58 [==============================] - 0s 4ms/step - loss: 0.5029 - accuracy: 0.7651 - val_loss: 0.5617 - val_accuracy: 0.7172\n",
      "Epoch 33/550\n",
      "58/58 [==============================] - 0s 4ms/step - loss: 0.5267 - accuracy: 0.7323 - val_loss: 0.5911 - val_accuracy: 0.7172\n",
      "Epoch 34/550\n",
      "58/58 [==============================] - 0s 4ms/step - loss: 0.5065 - accuracy: 0.7599 - val_loss: 0.6187 - val_accuracy: 0.6621\n",
      "Epoch 35/550\n",
      "58/58 [==============================] - 0s 4ms/step - loss: 0.4796 - accuracy: 0.7686 - val_loss: 0.6338 - val_accuracy: 0.7172\n",
      "Epoch 36/550\n",
      "58/58 [==============================] - 0s 3ms/step - loss: 0.4740 - accuracy: 0.7789 - val_loss: 0.5703 - val_accuracy: 0.7241\n",
      "Epoch 37/550\n",
      "58/58 [==============================] - 0s 3ms/step - loss: 0.5008 - accuracy: 0.7565 - val_loss: 0.5789 - val_accuracy: 0.7517\n",
      "Epoch 38/550\n",
      "58/58 [==============================] - 0s 4ms/step - loss: 0.4956 - accuracy: 0.7565 - val_loss: 0.6622 - val_accuracy: 0.6759\n",
      "Epoch 39/550\n",
      "58/58 [==============================] - 0s 3ms/step - loss: 0.5103 - accuracy: 0.7478 - val_loss: 0.6055 - val_accuracy: 0.6966\n",
      "Epoch 40/550\n",
      "58/58 [==============================] - 0s 2ms/step - loss: 0.4887 - accuracy: 0.7634 - val_loss: 0.6768 - val_accuracy: 0.6897\n",
      "Epoch 41/550\n",
      "58/58 [==============================] - 0s 3ms/step - loss: 0.4951 - accuracy: 0.7565 - val_loss: 0.5670 - val_accuracy: 0.7241\n",
      "Epoch 42/550\n",
      "58/58 [==============================] - 0s 2ms/step - loss: 0.4832 - accuracy: 0.7565 - val_loss: 0.5607 - val_accuracy: 0.7172\n",
      "Epoch 43/550\n",
      "58/58 [==============================] - 0s 3ms/step - loss: 0.4814 - accuracy: 0.7807 - val_loss: 0.6374 - val_accuracy: 0.6897\n",
      "Epoch 44/550\n",
      "58/58 [==============================] - 0s 3ms/step - loss: 0.4942 - accuracy: 0.7599 - val_loss: 0.5852 - val_accuracy: 0.7655\n",
      "Epoch 45/550\n",
      "58/58 [==============================] - 0s 4ms/step - loss: 0.4895 - accuracy: 0.7634 - val_loss: 0.6700 - val_accuracy: 0.7586\n",
      "Epoch 46/550\n",
      "58/58 [==============================] - 0s 3ms/step - loss: 0.4764 - accuracy: 0.7668 - val_loss: 0.6137 - val_accuracy: 0.6966\n",
      "Epoch 47/550\n",
      "58/58 [==============================] - 0s 3ms/step - loss: 0.4551 - accuracy: 0.7703 - val_loss: 0.5706 - val_accuracy: 0.7310\n",
      "Epoch 48/550\n",
      "58/58 [==============================] - 0s 3ms/step - loss: 0.4719 - accuracy: 0.7634 - val_loss: 0.6141 - val_accuracy: 0.7103\n",
      "Epoch 49/550\n",
      "58/58 [==============================] - 0s 4ms/step - loss: 0.4593 - accuracy: 0.7807 - val_loss: 0.6341 - val_accuracy: 0.6690\n",
      "Epoch 50/550\n",
      "58/58 [==============================] - 0s 4ms/step - loss: 0.4520 - accuracy: 0.7893 - val_loss: 0.6231 - val_accuracy: 0.7448\n",
      "Epoch 51/550\n",
      "58/58 [==============================] - 0s 4ms/step - loss: 0.4553 - accuracy: 0.7703 - val_loss: 0.6449 - val_accuracy: 0.7034\n",
      "Epoch 52/550\n",
      "58/58 [==============================] - 0s 4ms/step - loss: 0.4568 - accuracy: 0.7910 - val_loss: 0.7996 - val_accuracy: 0.6000\n",
      "Epoch 53/550\n",
      "58/58 [==============================] - 0s 4ms/step - loss: 0.4898 - accuracy: 0.7634 - val_loss: 0.6046 - val_accuracy: 0.7034\n",
      "Epoch 54/550\n",
      "58/58 [==============================] - 0s 4ms/step - loss: 0.4414 - accuracy: 0.7876 - val_loss: 0.6286 - val_accuracy: 0.7103\n",
      "Epoch 55/550\n",
      "58/58 [==============================] - 0s 3ms/step - loss: 0.4589 - accuracy: 0.7841 - val_loss: 0.6473 - val_accuracy: 0.7379\n",
      "Epoch 56/550\n",
      "58/58 [==============================] - 0s 4ms/step - loss: 0.4894 - accuracy: 0.7772 - val_loss: 0.6219 - val_accuracy: 0.6966\n",
      "Epoch 57/550\n",
      "58/58 [==============================] - 0s 3ms/step - loss: 0.4811 - accuracy: 0.7617 - val_loss: 0.6632 - val_accuracy: 0.6897\n",
      "Epoch 58/550\n",
      "58/58 [==============================] - 0s 3ms/step - loss: 0.4475 - accuracy: 0.7772 - val_loss: 0.6089 - val_accuracy: 0.7172\n",
      "Epoch 59/550\n",
      "58/58 [==============================] - 0s 3ms/step - loss: 0.4395 - accuracy: 0.7962 - val_loss: 0.5637 - val_accuracy: 0.7793\n",
      "Epoch 60/550\n",
      "58/58 [==============================] - 0s 2ms/step - loss: 0.4318 - accuracy: 0.8048 - val_loss: 0.6311 - val_accuracy: 0.6897\n",
      "Epoch 61/550\n",
      "58/58 [==============================] - 0s 3ms/step - loss: 0.4317 - accuracy: 0.7789 - val_loss: 0.7040 - val_accuracy: 0.6621\n",
      "Epoch 62/550\n",
      "58/58 [==============================] - 0s 3ms/step - loss: 0.4483 - accuracy: 0.7807 - val_loss: 0.6072 - val_accuracy: 0.7241\n",
      "Epoch 63/550\n",
      "58/58 [==============================] - 0s 3ms/step - loss: 0.4634 - accuracy: 0.7789 - val_loss: 0.6159 - val_accuracy: 0.7517\n",
      "Epoch 64/550\n",
      "58/58 [==============================] - 0s 3ms/step - loss: 0.4360 - accuracy: 0.7927 - val_loss: 0.6267 - val_accuracy: 0.7517\n",
      "Epoch 65/550\n",
      "58/58 [==============================] - 0s 3ms/step - loss: 0.4284 - accuracy: 0.7858 - val_loss: 0.6279 - val_accuracy: 0.7103\n",
      "Epoch 66/550\n",
      "58/58 [==============================] - 0s 3ms/step - loss: 0.4329 - accuracy: 0.7962 - val_loss: 0.6096 - val_accuracy: 0.7448\n",
      "Epoch 67/550\n",
      "58/58 [==============================] - 0s 2ms/step - loss: 0.4028 - accuracy: 0.8014 - val_loss: 0.6480 - val_accuracy: 0.6690\n",
      "Epoch 68/550\n",
      "58/58 [==============================] - 0s 3ms/step - loss: 0.4246 - accuracy: 0.8014 - val_loss: 0.6199 - val_accuracy: 0.7034\n",
      "Epoch 69/550\n",
      "58/58 [==============================] - 0s 3ms/step - loss: 0.4222 - accuracy: 0.8014 - val_loss: 0.5758 - val_accuracy: 0.7379\n",
      "Epoch 70/550\n",
      "58/58 [==============================] - 0s 2ms/step - loss: 0.4174 - accuracy: 0.7962 - val_loss: 0.7390 - val_accuracy: 0.6621\n",
      "Epoch 71/550\n",
      "58/58 [==============================] - 0s 2ms/step - loss: 0.4080 - accuracy: 0.8066 - val_loss: 0.5838 - val_accuracy: 0.7724\n",
      "Epoch 72/550\n",
      "58/58 [==============================] - 0s 3ms/step - loss: 0.4112 - accuracy: 0.7962 - val_loss: 0.6554 - val_accuracy: 0.6828\n",
      "Epoch 73/550\n",
      "58/58 [==============================] - 0s 2ms/step - loss: 0.4267 - accuracy: 0.7945 - val_loss: 0.5757 - val_accuracy: 0.7310\n",
      "Epoch 74/550\n",
      "58/58 [==============================] - 0s 3ms/step - loss: 0.3997 - accuracy: 0.8152 - val_loss: 0.6682 - val_accuracy: 0.6966\n",
      "Epoch 75/550\n",
      "58/58 [==============================] - 0s 2ms/step - loss: 0.3796 - accuracy: 0.8169 - val_loss: 0.6105 - val_accuracy: 0.7172\n",
      "Epoch 76/550\n",
      "58/58 [==============================] - 0s 3ms/step - loss: 0.4152 - accuracy: 0.8031 - val_loss: 0.6839 - val_accuracy: 0.7034\n",
      "Epoch 77/550\n",
      "58/58 [==============================] - 0s 3ms/step - loss: 0.4047 - accuracy: 0.7945 - val_loss: 0.6642 - val_accuracy: 0.6966\n",
      "Epoch 78/550\n",
      "58/58 [==============================] - 0s 3ms/step - loss: 0.3958 - accuracy: 0.7997 - val_loss: 0.6637 - val_accuracy: 0.7103\n",
      "Epoch 79/550\n",
      "58/58 [==============================] - 0s 3ms/step - loss: 0.4119 - accuracy: 0.8204 - val_loss: 0.6769 - val_accuracy: 0.7310\n",
      "Epoch 80/550\n",
      "58/58 [==============================] - 0s 3ms/step - loss: 0.3917 - accuracy: 0.8117 - val_loss: 0.6712 - val_accuracy: 0.6897\n",
      "Epoch 81/550\n",
      "58/58 [==============================] - 0s 2ms/step - loss: 0.3781 - accuracy: 0.8187 - val_loss: 0.6335 - val_accuracy: 0.7448\n",
      "Epoch 82/550\n",
      "58/58 [==============================] - 0s 3ms/step - loss: 0.3835 - accuracy: 0.8221 - val_loss: 0.5830 - val_accuracy: 0.7655\n",
      "Epoch 83/550\n",
      "58/58 [==============================] - 0s 3ms/step - loss: 0.4073 - accuracy: 0.7997 - val_loss: 0.7161 - val_accuracy: 0.6897\n",
      "Epoch 84/550\n",
      "58/58 [==============================] - 0s 3ms/step - loss: 0.3960 - accuracy: 0.8083 - val_loss: 0.6657 - val_accuracy: 0.6759\n",
      "Epoch 85/550\n",
      "58/58 [==============================] - 0s 3ms/step - loss: 0.3860 - accuracy: 0.8117 - val_loss: 0.5949 - val_accuracy: 0.7517\n",
      "Epoch 86/550\n",
      "58/58 [==============================] - 0s 2ms/step - loss: 0.3683 - accuracy: 0.8325 - val_loss: 0.6855 - val_accuracy: 0.7172\n",
      "Epoch 87/550\n",
      "58/58 [==============================] - 0s 2ms/step - loss: 0.3623 - accuracy: 0.8342 - val_loss: 0.7128 - val_accuracy: 0.6621\n",
      "Epoch 88/550\n",
      "58/58 [==============================] - 0s 3ms/step - loss: 0.3765 - accuracy: 0.8325 - val_loss: 0.6691 - val_accuracy: 0.7034\n",
      "Epoch 89/550\n",
      "58/58 [==============================] - 0s 3ms/step - loss: 0.3735 - accuracy: 0.8083 - val_loss: 0.6860 - val_accuracy: 0.6897\n",
      "Epoch 90/550\n",
      "58/58 [==============================] - 0s 3ms/step - loss: 0.3684 - accuracy: 0.8463 - val_loss: 0.7424 - val_accuracy: 0.7310\n",
      "Epoch 91/550\n",
      "58/58 [==============================] - 0s 2ms/step - loss: 0.3739 - accuracy: 0.8256 - val_loss: 0.6863 - val_accuracy: 0.7034\n",
      "Epoch 92/550\n",
      "58/58 [==============================] - 0s 2ms/step - loss: 0.3413 - accuracy: 0.8394 - val_loss: 0.7911 - val_accuracy: 0.6483\n",
      "Epoch 93/550\n",
      "58/58 [==============================] - 0s 2ms/step - loss: 0.3563 - accuracy: 0.8394 - val_loss: 0.7673 - val_accuracy: 0.7310\n",
      "Epoch 94/550\n",
      "58/58 [==============================] - 0s 2ms/step - loss: 0.3396 - accuracy: 0.8394 - val_loss: 0.7776 - val_accuracy: 0.7034\n",
      "Epoch 95/550\n",
      "58/58 [==============================] - 0s 3ms/step - loss: 0.3638 - accuracy: 0.8359 - val_loss: 0.6844 - val_accuracy: 0.7103\n",
      "Epoch 96/550\n",
      "58/58 [==============================] - 0s 3ms/step - loss: 0.3401 - accuracy: 0.8377 - val_loss: 0.6910 - val_accuracy: 0.7517\n",
      "Epoch 97/550\n",
      "58/58 [==============================] - 0s 3ms/step - loss: 0.3860 - accuracy: 0.8048 - val_loss: 0.7447 - val_accuracy: 0.7103\n",
      "Epoch 98/550\n",
      "58/58 [==============================] - 0s 3ms/step - loss: 0.3335 - accuracy: 0.8342 - val_loss: 0.7634 - val_accuracy: 0.7172\n",
      "Epoch 99/550\n",
      "58/58 [==============================] - 0s 2ms/step - loss: 0.3191 - accuracy: 0.8428 - val_loss: 0.7393 - val_accuracy: 0.7241\n",
      "Epoch 100/550\n",
      "58/58 [==============================] - 0s 4ms/step - loss: 0.3194 - accuracy: 0.8566 - val_loss: 0.6534 - val_accuracy: 0.6966\n",
      "Epoch 101/550\n",
      "58/58 [==============================] - 0s 3ms/step - loss: 0.3335 - accuracy: 0.8463 - val_loss: 0.7550 - val_accuracy: 0.6828\n",
      "Epoch 102/550\n",
      "58/58 [==============================] - 0s 3ms/step - loss: 0.3518 - accuracy: 0.8411 - val_loss: 0.6757 - val_accuracy: 0.7241\n",
      "Epoch 103/550\n",
      "58/58 [==============================] - 0s 2ms/step - loss: 0.3716 - accuracy: 0.8031 - val_loss: 0.7448 - val_accuracy: 0.7034\n",
      "Epoch 104/550\n",
      "58/58 [==============================] - 0s 2ms/step - loss: 0.3433 - accuracy: 0.8377 - val_loss: 0.7543 - val_accuracy: 0.6759\n",
      "Epoch 105/550\n",
      "58/58 [==============================] - 0s 2ms/step - loss: 0.3425 - accuracy: 0.8463 - val_loss: 0.6737 - val_accuracy: 0.7172\n",
      "Epoch 106/550\n",
      "58/58 [==============================] - 0s 2ms/step - loss: 0.3022 - accuracy: 0.8687 - val_loss: 0.7040 - val_accuracy: 0.7241\n",
      "Epoch 107/550\n",
      "58/58 [==============================] - 0s 2ms/step - loss: 0.2959 - accuracy: 0.8687 - val_loss: 0.8049 - val_accuracy: 0.6276\n",
      "Epoch 108/550\n",
      "58/58 [==============================] - 0s 2ms/step - loss: 0.3337 - accuracy: 0.8325 - val_loss: 0.8170 - val_accuracy: 0.7103\n",
      "Epoch 109/550\n",
      "58/58 [==============================] - 0s 2ms/step - loss: 0.3318 - accuracy: 0.8532 - val_loss: 1.0080 - val_accuracy: 0.6552\n",
      "Epoch 110/550\n",
      "58/58 [==============================] - 0s 2ms/step - loss: 0.3303 - accuracy: 0.8480 - val_loss: 0.8389 - val_accuracy: 0.7034\n",
      "Epoch 111/550\n",
      "58/58 [==============================] - 0s 2ms/step - loss: 0.3198 - accuracy: 0.8497 - val_loss: 0.7972 - val_accuracy: 0.6621\n",
      "Epoch 112/550\n",
      "58/58 [==============================] - 0s 2ms/step - loss: 0.3086 - accuracy: 0.8601 - val_loss: 0.7358 - val_accuracy: 0.6966\n",
      "Epoch 113/550\n",
      "58/58 [==============================] - 0s 3ms/step - loss: 0.3005 - accuracy: 0.8653 - val_loss: 0.8138 - val_accuracy: 0.6828\n",
      "Epoch 114/550\n",
      "58/58 [==============================] - 0s 2ms/step - loss: 0.2818 - accuracy: 0.8843 - val_loss: 0.8822 - val_accuracy: 0.7310\n",
      "Epoch 115/550\n",
      "58/58 [==============================] - 0s 2ms/step - loss: 0.2824 - accuracy: 0.8584 - val_loss: 0.8453 - val_accuracy: 0.6207\n",
      "Epoch 116/550\n",
      "58/58 [==============================] - 0s 3ms/step - loss: 0.2854 - accuracy: 0.8756 - val_loss: 0.9137 - val_accuracy: 0.7241\n",
      "Epoch 117/550\n",
      "58/58 [==============================] - 0s 3ms/step - loss: 0.2813 - accuracy: 0.8791 - val_loss: 0.8117 - val_accuracy: 0.7310\n",
      "Epoch 118/550\n",
      "58/58 [==============================] - 0s 2ms/step - loss: 0.2959 - accuracy: 0.8687 - val_loss: 0.9379 - val_accuracy: 0.6759\n",
      "Epoch 119/550\n",
      "58/58 [==============================] - 0s 3ms/step - loss: 0.2639 - accuracy: 0.8826 - val_loss: 1.0361 - val_accuracy: 0.6483\n",
      "Epoch 120/550\n",
      "58/58 [==============================] - 0s 3ms/step - loss: 0.2791 - accuracy: 0.8826 - val_loss: 0.8232 - val_accuracy: 0.6897\n",
      "Epoch 121/550\n",
      "58/58 [==============================] - 0s 3ms/step - loss: 0.2536 - accuracy: 0.8877 - val_loss: 0.8583 - val_accuracy: 0.6828\n",
      "Epoch 122/550\n",
      "58/58 [==============================] - 0s 3ms/step - loss: 0.2518 - accuracy: 0.8981 - val_loss: 0.9318 - val_accuracy: 0.6483\n",
      "Epoch 123/550\n",
      "58/58 [==============================] - 0s 3ms/step - loss: 0.2492 - accuracy: 0.8998 - val_loss: 0.8122 - val_accuracy: 0.7379\n",
      "Epoch 124/550\n",
      "58/58 [==============================] - 0s 3ms/step - loss: 0.2467 - accuracy: 0.8912 - val_loss: 0.9602 - val_accuracy: 0.6828\n",
      "Epoch 125/550\n",
      "58/58 [==============================] - 0s 3ms/step - loss: 0.2488 - accuracy: 0.8895 - val_loss: 0.9327 - val_accuracy: 0.6483\n",
      "Epoch 126/550\n",
      "58/58 [==============================] - 0s 3ms/step - loss: 0.2563 - accuracy: 0.8929 - val_loss: 0.8248 - val_accuracy: 0.6828\n",
      "Epoch 127/550\n",
      "58/58 [==============================] - 0s 3ms/step - loss: 0.2402 - accuracy: 0.8929 - val_loss: 0.8841 - val_accuracy: 0.6828\n",
      "Epoch 128/550\n",
      "58/58 [==============================] - 0s 3ms/step - loss: 0.2812 - accuracy: 0.8860 - val_loss: 0.8831 - val_accuracy: 0.6552\n",
      "Epoch 129/550\n",
      "58/58 [==============================] - 0s 3ms/step - loss: 0.2633 - accuracy: 0.8843 - val_loss: 0.9654 - val_accuracy: 0.7172\n",
      "Epoch 130/550\n",
      "58/58 [==============================] - 0s 3ms/step - loss: 0.2528 - accuracy: 0.8843 - val_loss: 0.7638 - val_accuracy: 0.7310\n",
      "Epoch 131/550\n",
      "58/58 [==============================] - 0s 2ms/step - loss: 0.2596 - accuracy: 0.8912 - val_loss: 0.8816 - val_accuracy: 0.6414\n",
      "Epoch 132/550\n",
      "58/58 [==============================] - 0s 3ms/step - loss: 0.2359 - accuracy: 0.8981 - val_loss: 0.7762 - val_accuracy: 0.7379\n",
      "Epoch 133/550\n",
      "58/58 [==============================] - 0s 3ms/step - loss: 0.2288 - accuracy: 0.8964 - val_loss: 0.9254 - val_accuracy: 0.7172\n",
      "Epoch 134/550\n",
      "58/58 [==============================] - 0s 3ms/step - loss: 0.2293 - accuracy: 0.9102 - val_loss: 0.9763 - val_accuracy: 0.6828\n",
      "Epoch 135/550\n",
      "58/58 [==============================] - 0s 2ms/step - loss: 0.2384 - accuracy: 0.8964 - val_loss: 0.9650 - val_accuracy: 0.6759\n",
      "Epoch 136/550\n",
      "58/58 [==============================] - 0s 2ms/step - loss: 0.2198 - accuracy: 0.9171 - val_loss: 0.9201 - val_accuracy: 0.6897\n",
      "Epoch 137/550\n",
      "58/58 [==============================] - 0s 2ms/step - loss: 0.2424 - accuracy: 0.9016 - val_loss: 0.9433 - val_accuracy: 0.7034\n",
      "Epoch 138/550\n",
      "58/58 [==============================] - 0s 2ms/step - loss: 0.2416 - accuracy: 0.8912 - val_loss: 0.8739 - val_accuracy: 0.7034\n",
      "Epoch 139/550\n",
      "58/58 [==============================] - 0s 2ms/step - loss: 0.2458 - accuracy: 0.8981 - val_loss: 1.0083 - val_accuracy: 0.6621\n",
      "Epoch 140/550\n",
      "58/58 [==============================] - 0s 3ms/step - loss: 0.3132 - accuracy: 0.8549 - val_loss: 0.9202 - val_accuracy: 0.6414\n",
      "Epoch 141/550\n",
      "58/58 [==============================] - 0s 3ms/step - loss: 0.2793 - accuracy: 0.8739 - val_loss: 0.9003 - val_accuracy: 0.6207\n",
      "Epoch 142/550\n",
      "58/58 [==============================] - 0s 3ms/step - loss: 0.2296 - accuracy: 0.9067 - val_loss: 0.9050 - val_accuracy: 0.7034\n",
      "Epoch 143/550\n",
      "58/58 [==============================] - 0s 3ms/step - loss: 0.2335 - accuracy: 0.8912 - val_loss: 0.9531 - val_accuracy: 0.6759\n",
      "Epoch 144/550\n",
      "58/58 [==============================] - 0s 2ms/step - loss: 0.2342 - accuracy: 0.9033 - val_loss: 1.0630 - val_accuracy: 0.6345\n",
      "Epoch 145/550\n",
      "58/58 [==============================] - 0s 3ms/step - loss: 0.2418 - accuracy: 0.8843 - val_loss: 0.9662 - val_accuracy: 0.7172\n",
      "Epoch 146/550\n",
      "58/58 [==============================] - 0s 3ms/step - loss: 0.2007 - accuracy: 0.9102 - val_loss: 1.0261 - val_accuracy: 0.6690\n",
      "Epoch 147/550\n",
      "58/58 [==============================] - 0s 3ms/step - loss: 0.1806 - accuracy: 0.9275 - val_loss: 0.9258 - val_accuracy: 0.7103\n",
      "Epoch 148/550\n",
      "58/58 [==============================] - 0s 2ms/step - loss: 0.1665 - accuracy: 0.9430 - val_loss: 0.9159 - val_accuracy: 0.6552\n",
      "Epoch 149/550\n",
      "58/58 [==============================] - 0s 3ms/step - loss: 0.1704 - accuracy: 0.9344 - val_loss: 0.9625 - val_accuracy: 0.6966\n",
      "Epoch 150/550\n",
      "58/58 [==============================] - 0s 3ms/step - loss: 0.1828 - accuracy: 0.9206 - val_loss: 0.9725 - val_accuracy: 0.6759\n",
      "Epoch 151/550\n",
      "58/58 [==============================] - 0s 3ms/step - loss: 0.1838 - accuracy: 0.9257 - val_loss: 1.1548 - val_accuracy: 0.6276\n",
      "Epoch 152/550\n",
      "58/58 [==============================] - 0s 3ms/step - loss: 0.1821 - accuracy: 0.9206 - val_loss: 0.9933 - val_accuracy: 0.6621\n",
      "Epoch 153/550\n",
      "58/58 [==============================] - 0s 3ms/step - loss: 0.1716 - accuracy: 0.9413 - val_loss: 1.1737 - val_accuracy: 0.6414\n",
      "Epoch 154/550\n",
      "58/58 [==============================] - 0s 3ms/step - loss: 0.1878 - accuracy: 0.9154 - val_loss: 0.9604 - val_accuracy: 0.6897\n",
      "Epoch 155/550\n",
      "58/58 [==============================] - 0s 2ms/step - loss: 0.1722 - accuracy: 0.9326 - val_loss: 1.0228 - val_accuracy: 0.6276\n",
      "Epoch 156/550\n",
      "58/58 [==============================] - 0s 2ms/step - loss: 0.1574 - accuracy: 0.9361 - val_loss: 1.0621 - val_accuracy: 0.6621\n",
      "Epoch 157/550\n",
      "58/58 [==============================] - 0s 4ms/step - loss: 0.1597 - accuracy: 0.9326 - val_loss: 1.1156 - val_accuracy: 0.6828\n",
      "Epoch 158/550\n",
      "58/58 [==============================] - 0s 3ms/step - loss: 0.1624 - accuracy: 0.9292 - val_loss: 1.3386 - val_accuracy: 0.6759\n",
      "Epoch 159/550\n",
      "58/58 [==============================] - 0s 3ms/step - loss: 0.2314 - accuracy: 0.9050 - val_loss: 0.9355 - val_accuracy: 0.7586\n",
      "Epoch 160/550\n",
      "58/58 [==============================] - 0s 3ms/step - loss: 0.1839 - accuracy: 0.9257 - val_loss: 0.9924 - val_accuracy: 0.6966\n",
      "Epoch 161/550\n",
      "58/58 [==============================] - 0s 2ms/step - loss: 0.1871 - accuracy: 0.9240 - val_loss: 1.0704 - val_accuracy: 0.6483\n",
      "Epoch 162/550\n",
      "58/58 [==============================] - 0s 3ms/step - loss: 0.1814 - accuracy: 0.9292 - val_loss: 1.3099 - val_accuracy: 0.6552\n",
      "Epoch 163/550\n",
      "58/58 [==============================] - 0s 3ms/step - loss: 0.1611 - accuracy: 0.9361 - val_loss: 1.0444 - val_accuracy: 0.6966\n",
      "Epoch 164/550\n",
      "58/58 [==============================] - 0s 3ms/step - loss: 0.1714 - accuracy: 0.9257 - val_loss: 1.2199 - val_accuracy: 0.6207\n",
      "Epoch 165/550\n",
      "58/58 [==============================] - 0s 3ms/step - loss: 0.1433 - accuracy: 0.9516 - val_loss: 1.1230 - val_accuracy: 0.6483\n",
      "Epoch 166/550\n",
      "58/58 [==============================] - 0s 2ms/step - loss: 0.1389 - accuracy: 0.9465 - val_loss: 1.2595 - val_accuracy: 0.6966\n",
      "Epoch 167/550\n",
      "58/58 [==============================] - 0s 3ms/step - loss: 0.1953 - accuracy: 0.9257 - val_loss: 1.1631 - val_accuracy: 0.6207\n",
      "Epoch 168/550\n",
      "58/58 [==============================] - 0s 3ms/step - loss: 0.2789 - accuracy: 0.8774 - val_loss: 1.1733 - val_accuracy: 0.6828\n",
      "Epoch 169/550\n",
      "58/58 [==============================] - 0s 4ms/step - loss: 0.2295 - accuracy: 0.9016 - val_loss: 1.1413 - val_accuracy: 0.6483\n",
      "Epoch 170/550\n",
      "58/58 [==============================] - 0s 3ms/step - loss: 0.1503 - accuracy: 0.9413 - val_loss: 1.2216 - val_accuracy: 0.6414\n",
      "Epoch 171/550\n",
      "58/58 [==============================] - 0s 3ms/step - loss: 0.1588 - accuracy: 0.9309 - val_loss: 1.2091 - val_accuracy: 0.6552\n",
      "Epoch 172/550\n",
      "58/58 [==============================] - 0s 3ms/step - loss: 0.1593 - accuracy: 0.9430 - val_loss: 1.2079 - val_accuracy: 0.6828\n",
      "Epoch 173/550\n",
      "58/58 [==============================] - 0s 3ms/step - loss: 0.1379 - accuracy: 0.9465 - val_loss: 1.2568 - val_accuracy: 0.6345\n",
      "Epoch 174/550\n",
      "58/58 [==============================] - 0s 2ms/step - loss: 0.1284 - accuracy: 0.9499 - val_loss: 1.2235 - val_accuracy: 0.6414\n",
      "Epoch 175/550\n",
      "58/58 [==============================] - 0s 3ms/step - loss: 0.1412 - accuracy: 0.9499 - val_loss: 1.2788 - val_accuracy: 0.6828\n",
      "Epoch 176/550\n",
      "58/58 [==============================] - 0s 3ms/step - loss: 0.1267 - accuracy: 0.9551 - val_loss: 1.2931 - val_accuracy: 0.6690\n",
      "Epoch 177/550\n",
      "58/58 [==============================] - 0s 2ms/step - loss: 0.1300 - accuracy: 0.9465 - val_loss: 1.3115 - val_accuracy: 0.6345\n",
      "Epoch 178/550\n",
      "58/58 [==============================] - 0s 3ms/step - loss: 0.1350 - accuracy: 0.9413 - val_loss: 1.2535 - val_accuracy: 0.6552\n",
      "Epoch 179/550\n",
      "58/58 [==============================] - 0s 2ms/step - loss: 0.1282 - accuracy: 0.9568 - val_loss: 1.3088 - val_accuracy: 0.6483\n",
      "Epoch 180/550\n",
      "58/58 [==============================] - 0s 2ms/step - loss: 0.1595 - accuracy: 0.9309 - val_loss: 1.2466 - val_accuracy: 0.6345\n",
      "Epoch 181/550\n",
      "58/58 [==============================] - 0s 2ms/step - loss: 0.1690 - accuracy: 0.9223 - val_loss: 1.3898 - val_accuracy: 0.6897\n",
      "Epoch 182/550\n",
      "58/58 [==============================] - 0s 2ms/step - loss: 0.1853 - accuracy: 0.9292 - val_loss: 1.2770 - val_accuracy: 0.6690\n",
      "Epoch 183/550\n",
      "58/58 [==============================] - 0s 2ms/step - loss: 0.1420 - accuracy: 0.9413 - val_loss: 1.3698 - val_accuracy: 0.6483\n",
      "Epoch 184/550\n",
      "58/58 [==============================] - 0s 3ms/step - loss: 0.1194 - accuracy: 0.9585 - val_loss: 1.2500 - val_accuracy: 0.6621\n",
      "Epoch 185/550\n",
      "58/58 [==============================] - 0s 3ms/step - loss: 0.0990 - accuracy: 0.9655 - val_loss: 1.3926 - val_accuracy: 0.6552\n",
      "Epoch 186/550\n",
      "58/58 [==============================] - 0s 3ms/step - loss: 0.1308 - accuracy: 0.9378 - val_loss: 1.3356 - val_accuracy: 0.6690\n",
      "Epoch 187/550\n",
      "58/58 [==============================] - 0s 3ms/step - loss: 0.1181 - accuracy: 0.9534 - val_loss: 1.2586 - val_accuracy: 0.6621\n",
      "Epoch 188/550\n",
      "58/58 [==============================] - 0s 3ms/step - loss: 0.0955 - accuracy: 0.9706 - val_loss: 1.2985 - val_accuracy: 0.6621\n",
      "Epoch 189/550\n",
      "58/58 [==============================] - 0s 2ms/step - loss: 0.0876 - accuracy: 0.9706 - val_loss: 1.4345 - val_accuracy: 0.7034\n",
      "Epoch 190/550\n",
      "58/58 [==============================] - 0s 2ms/step - loss: 0.1492 - accuracy: 0.9378 - val_loss: 1.3701 - val_accuracy: 0.7034\n",
      "Epoch 191/550\n",
      "58/58 [==============================] - 0s 2ms/step - loss: 0.2359 - accuracy: 0.9188 - val_loss: 1.3334 - val_accuracy: 0.7379\n",
      "Epoch 192/550\n",
      "58/58 [==============================] - 0s 3ms/step - loss: 0.1627 - accuracy: 0.9154 - val_loss: 1.5511 - val_accuracy: 0.6897\n",
      "Epoch 193/550\n",
      "58/58 [==============================] - 0s 3ms/step - loss: 0.1534 - accuracy: 0.9396 - val_loss: 1.3806 - val_accuracy: 0.6690\n",
      "Epoch 194/550\n",
      "58/58 [==============================] - 0s 3ms/step - loss: 0.1089 - accuracy: 0.9620 - val_loss: 1.3138 - val_accuracy: 0.6138\n",
      "Epoch 195/550\n",
      "58/58 [==============================] - 0s 3ms/step - loss: 0.0942 - accuracy: 0.9724 - val_loss: 1.1880 - val_accuracy: 0.6621\n",
      "Epoch 196/550\n",
      "58/58 [==============================] - 0s 3ms/step - loss: 0.0841 - accuracy: 0.9724 - val_loss: 1.3456 - val_accuracy: 0.6759\n",
      "Epoch 197/550\n",
      "58/58 [==============================] - 0s 3ms/step - loss: 0.0768 - accuracy: 0.9706 - val_loss: 1.4644 - val_accuracy: 0.6483\n",
      "Epoch 198/550\n",
      "58/58 [==============================] - 0s 3ms/step - loss: 0.0936 - accuracy: 0.9603 - val_loss: 1.5045 - val_accuracy: 0.6345\n",
      "Epoch 199/550\n",
      "58/58 [==============================] - 0s 3ms/step - loss: 0.1038 - accuracy: 0.9585 - val_loss: 1.4481 - val_accuracy: 0.6483\n",
      "Epoch 200/550\n",
      "58/58 [==============================] - 0s 2ms/step - loss: 0.0804 - accuracy: 0.9724 - val_loss: 1.3927 - val_accuracy: 0.6897\n",
      "Epoch 201/550\n",
      "58/58 [==============================] - 0s 2ms/step - loss: 0.0735 - accuracy: 0.9793 - val_loss: 1.5876 - val_accuracy: 0.6621\n",
      "Epoch 202/550\n",
      "58/58 [==============================] - 0s 3ms/step - loss: 0.0907 - accuracy: 0.9672 - val_loss: 1.6025 - val_accuracy: 0.6759\n",
      "Epoch 203/550\n",
      "58/58 [==============================] - 0s 3ms/step - loss: 0.1129 - accuracy: 0.9534 - val_loss: 1.6662 - val_accuracy: 0.6690\n",
      "Epoch 204/550\n",
      "58/58 [==============================] - 0s 3ms/step - loss: 0.1492 - accuracy: 0.9396 - val_loss: 1.3025 - val_accuracy: 0.7034\n",
      "Epoch 205/550\n",
      "58/58 [==============================] - 0s 3ms/step - loss: 0.1873 - accuracy: 0.9275 - val_loss: 1.3978 - val_accuracy: 0.6483\n",
      "Epoch 206/550\n",
      "58/58 [==============================] - 0s 3ms/step - loss: 0.1436 - accuracy: 0.9378 - val_loss: 1.3649 - val_accuracy: 0.6483\n",
      "Epoch 207/550\n",
      "58/58 [==============================] - 0s 3ms/step - loss: 0.2646 - accuracy: 0.8895 - val_loss: 1.4040 - val_accuracy: 0.6276\n",
      "Epoch 208/550\n",
      "58/58 [==============================] - 0s 3ms/step - loss: 0.2583 - accuracy: 0.8895 - val_loss: 1.5922 - val_accuracy: 0.6759\n",
      "Epoch 209/550\n",
      "58/58 [==============================] - 0s 3ms/step - loss: 0.2107 - accuracy: 0.9119 - val_loss: 1.3479 - val_accuracy: 0.6207\n",
      "Epoch 210/550\n",
      "58/58 [==============================] - 0s 3ms/step - loss: 0.1162 - accuracy: 0.9585 - val_loss: 1.3289 - val_accuracy: 0.6828\n",
      "Epoch 211/550\n",
      "58/58 [==============================] - 0s 3ms/step - loss: 0.0773 - accuracy: 0.9793 - val_loss: 1.3568 - val_accuracy: 0.6828\n",
      "Epoch 212/550\n",
      "58/58 [==============================] - 0s 3ms/step - loss: 0.0670 - accuracy: 0.9827 - val_loss: 1.4566 - val_accuracy: 0.6966\n",
      "Epoch 213/550\n",
      "58/58 [==============================] - 0s 3ms/step - loss: 0.0690 - accuracy: 0.9879 - val_loss: 1.2838 - val_accuracy: 0.6828\n",
      "Epoch 214/550\n",
      "58/58 [==============================] - 0s 3ms/step - loss: 0.0602 - accuracy: 0.9827 - val_loss: 1.3423 - val_accuracy: 0.6759\n",
      "Epoch 215/550\n",
      "58/58 [==============================] - 0s 3ms/step - loss: 0.0667 - accuracy: 0.9793 - val_loss: 1.4657 - val_accuracy: 0.6690\n",
      "Epoch 216/550\n",
      "58/58 [==============================] - 0s 3ms/step - loss: 0.0662 - accuracy: 0.9879 - val_loss: 1.3748 - val_accuracy: 0.6414\n",
      "Epoch 217/550\n",
      "58/58 [==============================] - 0s 3ms/step - loss: 0.0571 - accuracy: 0.9827 - val_loss: 1.4515 - val_accuracy: 0.6759\n",
      "Epoch 218/550\n",
      "58/58 [==============================] - 0s 3ms/step - loss: 0.0523 - accuracy: 0.9845 - val_loss: 1.5890 - val_accuracy: 0.6759\n",
      "Epoch 219/550\n",
      "58/58 [==============================] - 0s 3ms/step - loss: 0.0704 - accuracy: 0.9810 - val_loss: 1.3916 - val_accuracy: 0.6966\n",
      "Epoch 220/550\n",
      "58/58 [==============================] - 0s 3ms/step - loss: 0.0764 - accuracy: 0.9672 - val_loss: 1.4790 - val_accuracy: 0.6207\n",
      "Epoch 221/550\n",
      "58/58 [==============================] - 0s 3ms/step - loss: 0.1142 - accuracy: 0.9534 - val_loss: 1.4928 - val_accuracy: 0.6207\n",
      "Epoch 222/550\n",
      "58/58 [==============================] - 0s 3ms/step - loss: 0.1944 - accuracy: 0.9344 - val_loss: 1.6101 - val_accuracy: 0.6621\n",
      "Epoch 223/550\n",
      "58/58 [==============================] - 0s 3ms/step - loss: 0.1098 - accuracy: 0.9568 - val_loss: 1.5616 - val_accuracy: 0.6414\n",
      "Epoch 224/550\n",
      "58/58 [==============================] - 0s 3ms/step - loss: 0.1180 - accuracy: 0.9551 - val_loss: 1.6296 - val_accuracy: 0.6207\n",
      "Epoch 225/550\n",
      "58/58 [==============================] - 0s 4ms/step - loss: 0.1005 - accuracy: 0.9568 - val_loss: 1.5119 - val_accuracy: 0.6621\n",
      "Epoch 226/550\n",
      "58/58 [==============================] - 0s 3ms/step - loss: 0.1979 - accuracy: 0.9257 - val_loss: 1.7397 - val_accuracy: 0.7034\n",
      "Epoch 227/550\n",
      "58/58 [==============================] - 0s 3ms/step - loss: 0.2501 - accuracy: 0.8964 - val_loss: 1.2821 - val_accuracy: 0.6414\n",
      "Epoch 228/550\n",
      "58/58 [==============================] - 0s 3ms/step - loss: 0.1542 - accuracy: 0.9413 - val_loss: 1.3739 - val_accuracy: 0.6621\n",
      "Epoch 229/550\n",
      "58/58 [==============================] - 0s 3ms/step - loss: 0.0936 - accuracy: 0.9689 - val_loss: 1.3719 - val_accuracy: 0.6621\n",
      "Epoch 230/550\n",
      "58/58 [==============================] - 0s 3ms/step - loss: 0.1037 - accuracy: 0.9603 - val_loss: 1.3302 - val_accuracy: 0.6138\n",
      "Epoch 231/550\n",
      "58/58 [==============================] - 0s 3ms/step - loss: 0.0703 - accuracy: 0.9775 - val_loss: 1.4586 - val_accuracy: 0.6552\n",
      "Epoch 232/550\n",
      "58/58 [==============================] - 0s 4ms/step - loss: 0.0554 - accuracy: 0.9879 - val_loss: 1.5408 - val_accuracy: 0.6690\n",
      "Epoch 233/550\n",
      "58/58 [==============================] - 0s 3ms/step - loss: 0.0630 - accuracy: 0.9775 - val_loss: 1.3866 - val_accuracy: 0.6828\n",
      "Epoch 234/550\n",
      "58/58 [==============================] - 0s 3ms/step - loss: 0.0483 - accuracy: 0.9879 - val_loss: 1.5344 - val_accuracy: 0.6966\n",
      "Epoch 235/550\n",
      "58/58 [==============================] - 0s 3ms/step - loss: 0.0619 - accuracy: 0.9845 - val_loss: 1.4950 - val_accuracy: 0.6069\n",
      "Epoch 236/550\n",
      "58/58 [==============================] - 0s 3ms/step - loss: 0.0616 - accuracy: 0.9810 - val_loss: 1.5327 - val_accuracy: 0.6966\n",
      "Epoch 237/550\n",
      "58/58 [==============================] - 0s 3ms/step - loss: 0.0578 - accuracy: 0.9810 - val_loss: 1.4296 - val_accuracy: 0.6552\n",
      "Epoch 238/550\n",
      "58/58 [==============================] - 0s 4ms/step - loss: 0.0475 - accuracy: 0.9879 - val_loss: 1.5288 - val_accuracy: 0.6690\n",
      "Epoch 239/550\n",
      "58/58 [==============================] - 0s 3ms/step - loss: 0.0431 - accuracy: 0.9879 - val_loss: 1.4631 - val_accuracy: 0.6759\n",
      "Epoch 240/550\n",
      "58/58 [==============================] - 0s 3ms/step - loss: 0.0453 - accuracy: 0.9862 - val_loss: 1.5853 - val_accuracy: 0.6483\n",
      "Epoch 241/550\n",
      "58/58 [==============================] - 0s 2ms/step - loss: 0.0389 - accuracy: 0.9896 - val_loss: 1.5993 - val_accuracy: 0.6690\n",
      "Epoch 242/550\n",
      "58/58 [==============================] - 0s 3ms/step - loss: 0.0466 - accuracy: 0.9879 - val_loss: 1.6359 - val_accuracy: 0.6345\n",
      "Epoch 243/550\n",
      "58/58 [==============================] - 0s 3ms/step - loss: 0.0494 - accuracy: 0.9810 - val_loss: 1.8173 - val_accuracy: 0.6276\n",
      "Epoch 244/550\n",
      "58/58 [==============================] - 0s 3ms/step - loss: 0.0522 - accuracy: 0.9896 - val_loss: 1.6446 - val_accuracy: 0.6483\n",
      "Epoch 245/550\n",
      "58/58 [==============================] - 0s 2ms/step - loss: 0.0649 - accuracy: 0.9793 - val_loss: 1.6198 - val_accuracy: 0.6552\n",
      "Epoch 246/550\n",
      "58/58 [==============================] - 0s 3ms/step - loss: 0.0898 - accuracy: 0.9724 - val_loss: 1.4131 - val_accuracy: 0.6552\n",
      "Epoch 247/550\n",
      "58/58 [==============================] - 0s 3ms/step - loss: 0.0956 - accuracy: 0.9637 - val_loss: 1.6391 - val_accuracy: 0.6690\n",
      "Epoch 248/550\n",
      "58/58 [==============================] - 0s 3ms/step - loss: 0.1249 - accuracy: 0.9516 - val_loss: 1.4064 - val_accuracy: 0.6552\n",
      "Epoch 249/550\n",
      "58/58 [==============================] - 0s 3ms/step - loss: 0.3836 - accuracy: 0.8722 - val_loss: 1.6955 - val_accuracy: 0.6345\n",
      "Epoch 250/550\n",
      "58/58 [==============================] - 0s 3ms/step - loss: 0.4069 - accuracy: 0.8428 - val_loss: 1.4093 - val_accuracy: 0.7103\n",
      "Epoch 251/550\n",
      "58/58 [==============================] - 0s 3ms/step - loss: 0.3343 - accuracy: 0.8705 - val_loss: 1.5684 - val_accuracy: 0.6138\n",
      "Epoch 252/550\n",
      "58/58 [==============================] - 0s 3ms/step - loss: 0.1360 - accuracy: 0.9413 - val_loss: 1.5358 - val_accuracy: 0.6690\n",
      "Epoch 253/550\n",
      "58/58 [==============================] - 0s 3ms/step - loss: 0.0713 - accuracy: 0.9775 - val_loss: 1.5377 - val_accuracy: 0.6621\n",
      "Epoch 254/550\n",
      "58/58 [==============================] - 0s 3ms/step - loss: 0.0518 - accuracy: 0.9931 - val_loss: 1.5643 - val_accuracy: 0.6759\n",
      "Epoch 255/550\n",
      "58/58 [==============================] - 0s 3ms/step - loss: 0.0421 - accuracy: 0.9965 - val_loss: 1.6031 - val_accuracy: 0.6759\n",
      "Epoch 256/550\n",
      "40/58 [===================>..........] - ETA: 0s - loss: 0.0296 - accuracy: 1.0000\n",
      "Accuracy is bigger than 1 so cancelling training!\n",
      "58/58 [==============================] - 0s 3ms/step - loss: 0.0335 - accuracy: 1.0000 - val_loss: 1.6251 - val_accuracy: 0.6828\n",
      "\n",
      "Evaluating the model\n",
      "19/19 [==============================] - 0s 2ms/step - loss: 0.0296 - accuracy: 0.9983\n",
      "5/5 [==============================] - 0s 2ms/step - loss: 1.6251 - accuracy: 0.6828\n",
      "Accuracy: 99.83; Loss: 0.03\n",
      "Validation accuracy: 68.28; validation loss: 1.63\n"
     ]
    }
   ],
   "source": [
    "# Create callback instance\n",
    "callbacks = myCallback()\n",
    "\n",
    "# define the keras model\n",
    "model = tf.keras.models.Sequential()\n",
    "model.add(tf.keras.layers.Dense(128, input_shape=(len(X_train.columns), ), activation='relu'))\n",
    "model.add(tf.keras.layers.Dense(512, activation='relu'))\n",
    "model.add(tf.keras.layers.Dense(1, activation='sigmoid'))\n",
    "\n",
    "# compile the keras model\n",
    "model.compile(loss='binary_crossentropy', optimizer='adam', metrics=['accuracy'])\n",
    "\n",
    "# fit the keras model on the dataset\n",
    "history = model.fit(X_train, y_train, epochs = 550, batch_size=10, validation_data=(X_val, y_val), callbacks=[callbacks])\n",
    "\n",
    "# evaluate the keras model\n",
    "print('\\nEvaluating the model')\n",
    "loss, accuracy = model.evaluate(X_train, y_train)\n",
    "val_loss, val_accuracy = model.evaluate(X_val, y_val)\n",
    "\n",
    "print(f'Accuracy: {accuracy*100:.2f}; Loss: {loss:.2f}')\n",
    "print(f'Validation accuracy: {val_accuracy*100:.2f}; validation loss: {val_loss:.2f}')"
   ]
  },
  {
   "cell_type": "code",
   "execution_count": 79,
   "id": "dda07d3a-89f7-4f5a-8604-e7e82c5313e4",
   "metadata": {},
   "outputs": [
    {
     "data": {
      "image/png": "[encoded data removed]",
      "text/plain": [
       "<Figure size 1200x600 with 2 Axes>"
      ]
     },
     "metadata": {},
     "output_type": "display_data"
    }
   ],
   "source": [
    "plot_graphs(history=history, strings=['accuracy', 'loss'], filename = 'graphs/validation')"
   ]
  },
  {
   "cell_type": "code",
   "execution_count": 80,
   "id": "35036c34-2538-4b83-b98b-ff1d44a8fbf4",
   "metadata": {},
   "outputs": [
    {
     "name": "stdout",
     "output_type": "stream",
     "text": [
      "Epoch 1/550\n",
      "58/58 [==============================] - 1s 8ms/step - loss: 0.5235 - accuracy: 0.7237 - val_loss: 0.4648 - val_accuracy: 0.7724\n",
      "Epoch 2/550\n",
      "58/58 [==============================] - 0s 5ms/step - loss: 0.4602 - accuracy: 0.7686 - val_loss: 0.4667 - val_accuracy: 0.7586\n",
      "Epoch 3/550\n",
      "58/58 [==============================] - 0s 5ms/step - loss: 0.4448 - accuracy: 0.8014 - val_loss: 0.4595 - val_accuracy: 0.7793\n",
      "Epoch 4/550\n",
      "58/58 [==============================] - 0s 5ms/step - loss: 0.4330 - accuracy: 0.7841 - val_loss: 0.4609 - val_accuracy: 0.7931\n",
      "Epoch 5/550\n",
      "58/58 [==============================] - 0s 4ms/step - loss: 0.4240 - accuracy: 0.7979 - val_loss: 0.4527 - val_accuracy: 0.8207\n",
      "Epoch 6/550\n",
      "58/58 [==============================] - 0s 4ms/step - loss: 0.4256 - accuracy: 0.7962 - val_loss: 0.4417 - val_accuracy: 0.7793\n",
      "Epoch 7/550\n",
      "58/58 [==============================] - 0s 4ms/step - loss: 0.4053 - accuracy: 0.8031 - val_loss: 0.4466 - val_accuracy: 0.7862\n",
      "Epoch 8/550\n",
      "58/58 [==============================] - 0s 5ms/step - loss: 0.3990 - accuracy: 0.8031 - val_loss: 0.4459 - val_accuracy: 0.7931\n",
      "Epoch 9/550\n",
      "58/58 [==============================] - 0s 4ms/step - loss: 0.3855 - accuracy: 0.8290 - val_loss: 0.4643 - val_accuracy: 0.7655\n",
      "Epoch 10/550\n",
      "58/58 [==============================] - 0s 4ms/step - loss: 0.3745 - accuracy: 0.8325 - val_loss: 0.4583 - val_accuracy: 0.7793\n",
      "Epoch 11/550\n",
      "58/58 [==============================] - 0s 4ms/step - loss: 0.3727 - accuracy: 0.8238 - val_loss: 0.4338 - val_accuracy: 0.7862\n",
      "Epoch 12/550\n",
      "58/58 [==============================] - 0s 4ms/step - loss: 0.3621 - accuracy: 0.8256 - val_loss: 0.4564 - val_accuracy: 0.7931\n",
      "Epoch 13/550\n",
      "58/58 [==============================] - 0s 4ms/step - loss: 0.3405 - accuracy: 0.8428 - val_loss: 0.4606 - val_accuracy: 0.7793\n",
      "Epoch 14/550\n",
      "58/58 [==============================] - 0s 4ms/step - loss: 0.3372 - accuracy: 0.8428 - val_loss: 0.4219 - val_accuracy: 0.7931\n",
      "Epoch 15/550\n",
      "58/58 [==============================] - 0s 4ms/step - loss: 0.3247 - accuracy: 0.8653 - val_loss: 0.4615 - val_accuracy: 0.7724\n",
      "Epoch 16/550\n",
      "58/58 [==============================] - 0s 4ms/step - loss: 0.3051 - accuracy: 0.8601 - val_loss: 0.4396 - val_accuracy: 0.8000\n",
      "Epoch 17/550\n",
      "58/58 [==============================] - 0s 4ms/step - loss: 0.2933 - accuracy: 0.8618 - val_loss: 0.4908 - val_accuracy: 0.7586\n",
      "Epoch 18/550\n",
      "58/58 [==============================] - 0s 4ms/step - loss: 0.2784 - accuracy: 0.8843 - val_loss: 0.4919 - val_accuracy: 0.7931\n",
      "Epoch 19/550\n",
      "58/58 [==============================] - 0s 4ms/step - loss: 0.2739 - accuracy: 0.8826 - val_loss: 0.4711 - val_accuracy: 0.7793\n",
      "Epoch 20/550\n",
      "58/58 [==============================] - 0s 4ms/step - loss: 0.2586 - accuracy: 0.9050 - val_loss: 0.4656 - val_accuracy: 0.8000\n",
      "Epoch 21/550\n",
      "58/58 [==============================] - 0s 4ms/step - loss: 0.2548 - accuracy: 0.8964 - val_loss: 0.4556 - val_accuracy: 0.7862\n",
      "Epoch 22/550\n",
      "58/58 [==============================] - 0s 4ms/step - loss: 0.2349 - accuracy: 0.9033 - val_loss: 0.5221 - val_accuracy: 0.7655\n",
      "Epoch 23/550\n",
      "58/58 [==============================] - 0s 4ms/step - loss: 0.2296 - accuracy: 0.9067 - val_loss: 0.4932 - val_accuracy: 0.7793\n",
      "Epoch 24/550\n",
      "58/58 [==============================] - 0s 4ms/step - loss: 0.2136 - accuracy: 0.9154 - val_loss: 0.5749 - val_accuracy: 0.7517\n",
      "Epoch 25/550\n",
      "58/58 [==============================] - 0s 4ms/step - loss: 0.2110 - accuracy: 0.9085 - val_loss: 0.5130 - val_accuracy: 0.7862\n",
      "Epoch 26/550\n",
      "58/58 [==============================] - 0s 4ms/step - loss: 0.2051 - accuracy: 0.9223 - val_loss: 0.5284 - val_accuracy: 0.7724\n",
      "Epoch 27/550\n",
      "58/58 [==============================] - 0s 4ms/step - loss: 0.1783 - accuracy: 0.9413 - val_loss: 0.5142 - val_accuracy: 0.7793\n",
      "Epoch 28/550\n",
      "58/58 [==============================] - 0s 4ms/step - loss: 0.1664 - accuracy: 0.9465 - val_loss: 0.5653 - val_accuracy: 0.7517\n",
      "Epoch 29/550\n",
      "58/58 [==============================] - 0s 4ms/step - loss: 0.1599 - accuracy: 0.9378 - val_loss: 0.5558 - val_accuracy: 0.7931\n",
      "Epoch 30/550\n",
      "58/58 [==============================] - 0s 4ms/step - loss: 0.1611 - accuracy: 0.9396 - val_loss: 0.6756 - val_accuracy: 0.7241\n",
      "Epoch 31/550\n",
      "58/58 [==============================] - 0s 4ms/step - loss: 0.1443 - accuracy: 0.9603 - val_loss: 0.5937 - val_accuracy: 0.7586\n",
      "Epoch 32/550\n",
      "58/58 [==============================] - 0s 4ms/step - loss: 0.1366 - accuracy: 0.9620 - val_loss: 0.6194 - val_accuracy: 0.7793\n",
      "Epoch 33/550\n",
      "58/58 [==============================] - 0s 4ms/step - loss: 0.1337 - accuracy: 0.9568 - val_loss: 0.5925 - val_accuracy: 0.7862\n",
      "Epoch 34/550\n",
      "58/58 [==============================] - 0s 5ms/step - loss: 0.1332 - accuracy: 0.9534 - val_loss: 0.6041 - val_accuracy: 0.7586\n",
      "Epoch 35/550\n",
      "58/58 [==============================] - 0s 4ms/step - loss: 0.1183 - accuracy: 0.9637 - val_loss: 0.6972 - val_accuracy: 0.7586\n",
      "Epoch 36/550\n",
      "58/58 [==============================] - 0s 4ms/step - loss: 0.1048 - accuracy: 0.9741 - val_loss: 0.6783 - val_accuracy: 0.7655\n",
      "Epoch 37/550\n",
      "58/58 [==============================] - 0s 4ms/step - loss: 0.1004 - accuracy: 0.9758 - val_loss: 0.6878 - val_accuracy: 0.7310\n",
      "Epoch 38/550\n",
      "58/58 [==============================] - 0s 4ms/step - loss: 0.0894 - accuracy: 0.9758 - val_loss: 0.6408 - val_accuracy: 0.7586\n",
      "Epoch 39/550\n",
      "58/58 [==============================] - 0s 4ms/step - loss: 0.0874 - accuracy: 0.9793 - val_loss: 0.7092 - val_accuracy: 0.7379\n",
      "Epoch 40/550\n",
      "58/58 [==============================] - 0s 4ms/step - loss: 0.0922 - accuracy: 0.9793 - val_loss: 0.6756 - val_accuracy: 0.7586\n",
      "Epoch 41/550\n",
      "58/58 [==============================] - 0s 4ms/step - loss: 0.0720 - accuracy: 0.9879 - val_loss: 0.6812 - val_accuracy: 0.7586\n",
      "Epoch 42/550\n",
      "58/58 [==============================] - 0s 4ms/step - loss: 0.0721 - accuracy: 0.9862 - val_loss: 0.6942 - val_accuracy: 0.7517\n",
      "Epoch 43/550\n",
      "58/58 [==============================] - 0s 4ms/step - loss: 0.0657 - accuracy: 0.9914 - val_loss: 0.7795 - val_accuracy: 0.7517\n",
      "Epoch 44/550\n",
      "58/58 [==============================] - 0s 4ms/step - loss: 0.0573 - accuracy: 0.9948 - val_loss: 0.7410 - val_accuracy: 0.7586\n",
      "Epoch 45/550\n",
      "58/58 [==============================] - 0s 4ms/step - loss: 0.0557 - accuracy: 0.9931 - val_loss: 0.7198 - val_accuracy: 0.7793\n",
      "Epoch 46/550\n",
      "58/58 [==============================] - 0s 4ms/step - loss: 0.0497 - accuracy: 0.9983 - val_loss: 0.8727 - val_accuracy: 0.7586\n",
      "Epoch 47/550\n",
      "58/58 [==============================] - 0s 4ms/step - loss: 0.0610 - accuracy: 0.9896 - val_loss: 0.7931 - val_accuracy: 0.7724\n",
      "Epoch 48/550\n",
      "58/58 [==============================] - 0s 4ms/step - loss: 0.0489 - accuracy: 0.9896 - val_loss: 0.7836 - val_accuracy: 0.7379\n",
      "Epoch 49/550\n",
      "58/58 [==============================] - 0s 4ms/step - loss: 0.0390 - accuracy: 0.9983 - val_loss: 0.8278 - val_accuracy: 0.7724\n",
      "Epoch 50/550\n",
      "58/58 [==============================] - 0s 4ms/step - loss: 0.0404 - accuracy: 0.9983 - val_loss: 0.8414 - val_accuracy: 0.7724\n",
      "Epoch 51/550\n",
      "58/58 [==============================] - 0s 4ms/step - loss: 0.0325 - accuracy: 0.9983 - val_loss: 0.8239 - val_accuracy: 0.7724\n",
      "Epoch 52/550\n",
      "58/58 [==============================] - 0s 4ms/step - loss: 0.0349 - accuracy: 0.9948 - val_loss: 0.8669 - val_accuracy: 0.7517\n",
      "Epoch 53/550\n",
      "58/58 [==============================] - 0s 3ms/step - loss: 0.0295 - accuracy: 0.9948 - val_loss: 0.8735 - val_accuracy: 0.7517\n",
      "Epoch 54/550\n",
      "58/58 [==============================] - 0s 3ms/step - loss: 0.0255 - accuracy: 0.9983 - val_loss: 0.9088 - val_accuracy: 0.7517\n",
      "Epoch 55/550\n",
      "58/58 [==============================] - 0s 3ms/step - loss: 0.0284 - accuracy: 0.9983 - val_loss: 0.8528 - val_accuracy: 0.7655\n",
      "Epoch 56/550\n",
      "46/58 [======================>.......] - ETA: 0s - loss: 0.0213 - accuracy: 1.0000\n",
      "Accuracy is bigger than 1 so cancelling training!\n",
      "58/58 [==============================] - 0s 3ms/step - loss: 0.0215 - accuracy: 1.0000 - val_loss: 0.9187 - val_accuracy: 0.7655\n",
      "\n",
      "Evaluating the model\n",
      "19/19 [==============================] - 0s 2ms/step - loss: 0.0189 - accuracy: 1.0000\n",
      "5/5 [==============================] - 0s 4ms/step - loss: 0.9187 - accuracy: 0.7655\n",
      "Accuracy: 100.00; Loss: 0.02\n",
      "Validation accuracy: 76.55; validation loss: 0.92\n"
     ]
    }
   ],
   "source": [
    "# Initialize a scaler and fit it on the training data\n",
    "scaler = StandardScaler()\n",
    "X_train_scaled = scaler.fit_transform(X_train)\n",
    "X_val_scaled = scaler.fit_transform(X_val)\n",
    "\n",
    "# Create callback instance\n",
    "callbacks = myCallback()\n",
    "\n",
    "# define the keras model\n",
    "model = tf.keras.models.Sequential()\n",
    "model.add(tf.keras.layers.Dense(128, input_shape=(len(X_train.columns), ), activation='relu'))\n",
    "model.add(tf.keras.layers.Dense(512, activation='relu'))\n",
    "model.add(tf.keras.layers.Dense(1, activation='sigmoid'))\n",
    "\n",
    "# compile the keras model\n",
    "model.compile(loss='binary_crossentropy', optimizer='adam', metrics=['accuracy'])\n",
    "\n",
    "# fit the keras model on the dataset\n",
    "history = model.fit(X_train_scaled, y_train, epochs = 550, batch_size=10, validation_data=(X_val_scaled, y_val), callbacks=[callbacks])\n",
    "\n",
    "# evaluate the keras model\n",
    "print('\\nEvaluating the model')\n",
    "loss, accuracy = model.evaluate(X_train_scaled, y_train)\n",
    "val_loss, val_accuracy = model.evaluate(X_val_scaled, y_val)\n",
    "\n",
    "print(f'Accuracy: {accuracy*100:.2f}; Loss: {loss:.2f}')\n",
    "print(f'Validation accuracy: {val_accuracy*100:.2f}; validation loss: {val_loss:.2f}')"
   ]
  },
  {
   "cell_type": "code",
   "execution_count": 81,
   "id": "a5424ba8-5f1b-4e97-8e04-cce4689cdc71",
   "metadata": {},
   "outputs": [
    {
     "data": {
      "image/png": "[encoded data removed]",
      "text/plain": [
       "<Figure size 1200x600 with 2 Axes>"
      ]
     },
     "metadata": {},
     "output_type": "display_data"
    }
   ],
   "source": [
    "plot_graphs(history=history, strings=['accuracy', 'loss'], filename = 'graphs/validation')"
   ]
  },
  {
   "cell_type": "markdown",
   "id": "94e80105-fe45-4204-b6a6-e6fac2514a3b",
   "metadata": {},
   "source": [
    "## Split the dataset into train and test"
   ]
  },
  {
   "cell_type": "code",
   "execution_count": null,
   "id": "203e4995-a168-4f27-b65f-ff2f832d430a",
   "metadata": {},
   "outputs": [],
   "source": [
    "split_index = int(0.8 * len(df_knn))\n",
    "train_df = df_knn[:split_index]\n",
    "test_df = df_knn[split_index:]\n",
    "\n",
    "print(f\"len(train_df) = {len(train_df)}\")\n",
    "print(f\"len(test_df) = {len(test_df)}\")\n",
    "print(\"\")\n",
    "print(f\"len(train_df) / len(df_knn) = {len(train_df) / len(df_knn)}\")\n",
    "print(f\"len(test_df) / len(df_knn) = {len(test_df) / len(df_knn)}\")"
   ]
  }
 ],
 "metadata": {
  "kernelspec": {
   "display_name": "Python 3 (ipykernel)",
   "language": "python",
   "name": "python3"
  },
  "language_info": {
   "codemirror_mode": {
    "name": "ipython",
    "version": 3
   },
   "file_extension": ".py",
   "mimetype": "text/x-python",
   "name": "python",
   "nbconvert_exporter": "python",
   "pygments_lexer": "ipython3",
   "version": "3.10.8"
  }
 },
 "nbformat": 4,
 "nbformat_minor": 5
}
