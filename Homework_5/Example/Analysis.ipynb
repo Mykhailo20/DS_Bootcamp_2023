{
 "cells": [
  {
   "cell_type": "code",
   "execution_count": null,
   "id": "7b7da69b-b34b-4598-b577-901609b3c9b0",
   "metadata": {},
   "outputs": [],
   "source": [
    "import numpy as np\n",
    "import pandas as pd\n",
    "import matplotlib.pyplot as plt\n",
    "import seaborn as sns\n",
    "\n",
    "import tensorflow as tf\n",
    "from sklearn.neighbors import NearestNeighbors"
   ]
  },
  {
   "cell_type": "markdown",
   "id": "c4526705-f3e0-4d00-be52-8ec97d41e39a",
   "metadata": {},
   "source": [
    "# Functions"
   ]
  },
  {
   "cell_type": "markdown",
   "id": "3a70fe0d-8a71-44e6-9da7-82de13a74c14",
   "metadata": {},
   "source": [
    "## Data Cleaning"
   ]
  },
  {
   "cell_type": "code",
   "execution_count": null,
   "id": "0b8c0467-d8c7-4984-a294-d0f65577fb04",
   "metadata": {},
   "outputs": [],
   "source": [
    "def display_countplot(df, x, title=None, filename=None, x_ticks=None):\n",
    "    \"\"\"Function to display the countplot for the specified column of the df dataframe\n",
    "    Args:\n",
    "        1) df - a dataframe that contains the data required for visualization\n",
    "        2) x - the name of the dataframe column on which the countplot is built\n",
    "        3) title - the name of the graph (countplot)\n",
    "        4) filename - the path where the file will be saved (with the file name, the file extension is not required) \n",
    "        5) x_ticks - ticks on the OX axis of the graph\n",
    "    \"\"\"\n",
    "    plt.figure(figsize=(10, 5))\n",
    "    sns.countplot(data=df, x=x)\n",
    "    plt.title(title)\n",
    "    if x_ticks:\n",
    "        plt.xticks(x_ticks)\n",
    "    if filename:\n",
    "        plt.savefig(f'{filename}.png', bbox_inches='tight')\n",
    "    plt.show()"
   ]
  },
  {
   "cell_type": "markdown",
   "id": "2d9edc2f-b88e-4780-9b5e-8df0b556ac25",
   "metadata": {},
   "source": [
    "# Data Cleaning and Preprocessing"
   ]
  },
  {
   "cell_type": "code",
   "execution_count": null,
   "id": "4dd64503-2834-4584-b963-5b4dbc16ff1c",
   "metadata": {},
   "outputs": [],
   "source": [
    "columns = ['pregnancies', 'glucose_concentration', 'blood_pressure', 'triceps_skin_thickness', 'serum_insulin', 'bmi',\n",
    "           'diabetes_pedigree_function', 'age', 'has_diabetes']\n",
    "df = pd.read_csv('data/pima-indians-diabetes.csv', names=columns)\n",
    "df.head()"
   ]
  },
  {
   "cell_type": "code",
   "execution_count": null,
   "id": "803dab4d-63ae-4ba3-86ac-12d702e4340e",
   "metadata": {},
   "outputs": [],
   "source": [
    "df.info()"
   ]
  },
  {
   "cell_type": "code",
   "execution_count": null,
   "id": "1a404a22-e488-4f48-9831-c1d0ed4c0023",
   "metadata": {},
   "outputs": [],
   "source": [
    "len(df[df['pregnancies'] < 0])"
   ]
  },
  {
   "cell_type": "markdown",
   "id": "2ffc3ddd-2f44-4b9b-8d40-6faf68c50b5f",
   "metadata": {
    "jp-MarkdownHeadingCollapsed": true,
    "tags": []
   },
   "source": [
    "### Explore unique values of each column"
   ]
  },
  {
   "cell_type": "code",
   "execution_count": null,
   "id": "4a015d37-925a-402f-840d-b21af58bdf5e",
   "metadata": {},
   "outputs": [],
   "source": [
    "print(f'Unique values of each column of dataset')\n",
    "for column in df.columns:\n",
    "    print(f\"{column}: {df[column].unique()}\")"
   ]
  },
  {
   "cell_type": "markdown",
   "id": "3f1bb477-04be-4c93-ae9f-660ded47885b",
   "metadata": {
    "jp-MarkdownHeadingCollapsed": true,
    "tags": []
   },
   "source": [
    "#### Explore the 'pregnancies' column"
   ]
  },
  {
   "cell_type": "code",
   "execution_count": null,
   "id": "836f4217-a53f-4a7d-a841-7fba2c1bb3f0",
   "metadata": {},
   "outputs": [],
   "source": [
    "df['pregnancies'].unique()"
   ]
  },
  {
   "cell_type": "code",
   "execution_count": null,
   "id": "2d55aca7-9f43-4b4e-a06c-47f3d41ff63d",
   "metadata": {},
   "outputs": [],
   "source": [
    "display_countplot(df=df, x='pregnancies', title='Number of times pregnant', filename='graphs/pregnancies_countplot')"
   ]
  },
  {
   "cell_type": "markdown",
   "id": "166ae502-0e91-4802-a858-6a083cbd5554",
   "metadata": {
    "jp-MarkdownHeadingCollapsed": true,
    "tags": []
   },
   "source": [
    "#### Explore the 'glucose_concentration' column"
   ]
  },
  {
   "cell_type": "code",
   "execution_count": null,
   "id": "d4263dd5-74f0-4097-9161-6d7ed57bcd86",
   "metadata": {},
   "outputs": [],
   "source": [
    "glucose_arr = df['glucose_concentration'].unique()\n",
    "glucose_arr"
   ]
  },
  {
   "cell_type": "code",
   "execution_count": null,
   "id": "5de457b8-8aae-4a73-89c1-ff57efceb59c",
   "metadata": {},
   "outputs": [],
   "source": [
    "len(df[df['glucose_concentration']==0])"
   ]
  },
  {
   "cell_type": "markdown",
   "id": "08937989-8bff-4d35-a3a2-607598d272a1",
   "metadata": {
    "jp-MarkdownHeadingCollapsed": true,
    "tags": []
   },
   "source": [
    "#### Explore the 'blood_pressure' column"
   ]
  },
  {
   "cell_type": "code",
   "execution_count": null,
   "id": "dc287107-d06b-4dd6-8321-739a80e0168c",
   "metadata": {},
   "outputs": [],
   "source": [
    "blood_pressure_arr = df['blood_pressure'].unique()\n",
    "blood_pressure_arr.sort()\n",
    "blood_pressure_arr"
   ]
  },
  {
   "cell_type": "code",
   "execution_count": null,
   "id": "156fe840-1818-47b5-81c1-34e1953a80b6",
   "metadata": {},
   "outputs": [],
   "source": [
    "len(df[df['blood_pressure']==0])"
   ]
  },
  {
   "cell_type": "markdown",
   "id": "807cc227-1344-451b-a644-fec17671b565",
   "metadata": {
    "jp-MarkdownHeadingCollapsed": true,
    "tags": []
   },
   "source": [
    "#### Explore the 'triceps_skin_thickness' column"
   ]
  },
  {
   "cell_type": "code",
   "execution_count": null,
   "id": "20fb2cf7-9e75-4b0a-b861-3a7992f77751",
   "metadata": {},
   "outputs": [],
   "source": [
    "triceps_skin_thickness = df['triceps_skin_thickness'].unique()\n",
    "triceps_skin_thickness.sort()\n",
    "triceps_skin_thickness"
   ]
  },
  {
   "cell_type": "code",
   "execution_count": null,
   "id": "2af3f8f5-7355-443a-9f63-c70bb3b60ce2",
   "metadata": {},
   "outputs": [],
   "source": [
    "len(df[df['triceps_skin_thickness']==0])"
   ]
  },
  {
   "cell_type": "markdown",
   "id": "48dc6d95-4e5c-4c62-af6f-7a657bb023ad",
   "metadata": {},
   "source": [
    "##### Solution = Imputation"
   ]
  },
  {
   "cell_type": "markdown",
   "id": "482162f3-2deb-49bd-9406-65535db7451c",
   "metadata": {},
   "source": [
    "Imputation: If the feature is important and you decide to retain it, you can consider imputing the missing values using techniques such as mean imputation, median imputation, or more advanced methods like k-nearest neighbors imputation. Imputation can help you retain the valuable information while filling in the gaps."
   ]
  },
  {
   "cell_type": "markdown",
   "id": "0f8dcc41-e4d9-4302-946e-7497e204f945",
   "metadata": {
    "jp-MarkdownHeadingCollapsed": true,
    "tags": []
   },
   "source": [
    "#### Explore the 'serum_insulin' column"
   ]
  },
  {
   "cell_type": "code",
   "execution_count": null,
   "id": "6899dff0-b610-475f-b883-930fd0abe57c",
   "metadata": {},
   "outputs": [],
   "source": [
    "serum_insulin = df['serum_insulin'].unique()\n",
    "serum_insulin.sort()\n",
    "serum_insulin"
   ]
  },
  {
   "cell_type": "code",
   "execution_count": null,
   "id": "29a9f112-4f92-4600-944b-e864901f672e",
   "metadata": {},
   "outputs": [],
   "source": [
    "len(df[df['serum_insulin']==0])"
   ]
  },
  {
   "cell_type": "markdown",
   "id": "d5c5c0ec-6d3b-42eb-9344-bf231735c664",
   "metadata": {
    "jp-MarkdownHeadingCollapsed": true,
    "tags": []
   },
   "source": [
    "#### Explore the 'bmi' column"
   ]
  },
  {
   "cell_type": "code",
   "execution_count": null,
   "id": "144167cb-5d2e-44c5-8a11-3a1af291f6be",
   "metadata": {},
   "outputs": [],
   "source": [
    "bmi = df['bmi'].unique()\n",
    "bmi.sort()\n",
    "bmi"
   ]
  },
  {
   "cell_type": "code",
   "execution_count": null,
   "id": "ad2eefef-a3ad-4d47-bf64-076f9516f8cb",
   "metadata": {},
   "outputs": [],
   "source": [
    "len(df[df['bmi']==0])"
   ]
  },
  {
   "cell_type": "markdown",
   "id": "6f0ee40b-0c77-4d55-985f-abf8b06f5ac3",
   "metadata": {
    "jp-MarkdownHeadingCollapsed": true,
    "tags": []
   },
   "source": [
    "#### Explore the 'diabetes_pedigree_function' column"
   ]
  },
  {
   "cell_type": "code",
   "execution_count": null,
   "id": "16354d93-35b5-4007-b4bc-b815e7cf4aa2",
   "metadata": {},
   "outputs": [],
   "source": [
    "diabetes_pedigree_func_arr = df['diabetes_pedigree_function'].unique()\n",
    "diabetes_pedigree_func_arr.sort()\n",
    "diabetes_pedigree_func_arr"
   ]
  },
  {
   "cell_type": "markdown",
   "id": "b680c7f1-541f-4f4a-9ebe-80492e0bafc6",
   "metadata": {
    "jp-MarkdownHeadingCollapsed": true,
    "tags": []
   },
   "source": [
    "#### Explore the 'age' column"
   ]
  },
  {
   "cell_type": "code",
   "execution_count": null,
   "id": "78e0d4a6-5f21-4e67-a3ac-4f61f6a11e81",
   "metadata": {},
   "outputs": [],
   "source": [
    "age_arr = df['age'].unique()\n",
    "age_arr.sort()\n",
    "age_arr"
   ]
  },
  {
   "cell_type": "markdown",
   "id": "56c75ed3-3669-4477-a6ec-6dd6f77800b6",
   "metadata": {
    "jp-MarkdownHeadingCollapsed": true,
    "tags": []
   },
   "source": [
    "#### Explore the 'has_diabetes' column"
   ]
  },
  {
   "cell_type": "code",
   "execution_count": null,
   "id": "9591ea68-792d-4eda-9bb9-e65afc6473a5",
   "metadata": {},
   "outputs": [],
   "source": [
    "df['has_diabetes'].unique()"
   ]
  },
  {
   "cell_type": "markdown",
   "id": "f85fb8fb-2ac3-4acb-af2e-7b7a323d7192",
   "metadata": {},
   "source": [
    "### Perform data cleaning"
   ]
  },
  {
   "cell_type": "code",
   "execution_count": null,
   "id": "e4a81289-a4b6-43fb-8647-83e4f0fa0c0f",
   "metadata": {},
   "outputs": [],
   "source": [
    "len(df[(df['glucose_concentration'] == 0) | (df['blood_pressure'] == 0) | (df['bmi'] == 0)])"
   ]
  },
  {
   "cell_type": "code",
   "execution_count": null,
   "id": "85ff9bd6-886f-4e56-ac35-cc89be5431bf",
   "metadata": {},
   "outputs": [],
   "source": [
    "df = df[(df['glucose_concentration'] != 0) & (df['blood_pressure'] != 0) & (df['bmi'] != 0)]\n",
    "df.info()"
   ]
  },
  {
   "cell_type": "code",
   "execution_count": null,
   "id": "ca461fff-3b98-4800-92c6-6d1c00115f5a",
   "metadata": {},
   "outputs": [],
   "source": [
    "len(df[df['triceps_skin_thickness'] == 0])"
   ]
  },
  {
   "cell_type": "markdown",
   "id": "e82e2f2c-d2eb-4709-82a1-0f67e8b3e78a",
   "metadata": {},
   "source": [
    "#### Using K-Nearest Neighbors (KNN) Imputation for the 'triceps_skin_thickness' column"
   ]
  },
  {
   "cell_type": "markdown",
   "id": "e440013c-464f-4186-8676-2294e2456800",
   "metadata": {
    "jp-MarkdownHeadingCollapsed": true,
    "tags": []
   },
   "source": [
    "##### View the correlation matrix"
   ]
  },
  {
   "cell_type": "code",
   "execution_count": null,
   "id": "96c72545-d76c-4541-905a-cf4113a031a5",
   "metadata": {},
   "outputs": [],
   "source": [
    "# Construct a correlation matrix between the 'triceps_skin_thickness' column and other characteristics\n",
    "correlation_matrix = df.corr()\n",
    "\n",
    "plt.figure(figsize=(10, 8))\n",
    "sns.heatmap(correlation_matrix, annot=True, cmap='coolwarm', center=0)\n",
    "plt.title('Correlation Matrix Heatmap')\n",
    "plt.savefig('graphs/correlation_matrix.png', bbox_inches='tight')\n",
    "plt.show()"
   ]
  },
  {
   "cell_type": "markdown",
   "id": "ae4d5d91-7f89-4a61-bf66-62f9c17ffa30",
   "metadata": {},
   "source": [
    "##### Perform KNN imputation"
   ]
  },
  {
   "cell_type": "code",
   "execution_count": null,
   "id": "23a047b6-5456-4954-8cb7-f57c02636ff7",
   "metadata": {},
   "outputs": [],
   "source": [
    "df[df['triceps_skin_thickness'] == 0][:5]"
   ]
  },
  {
   "cell_type": "code",
   "execution_count": null,
   "id": "2c4f0746-18c9-4909-b479-29606ce6e282",
   "metadata": {},
   "outputs": [],
   "source": [
    "# Subset of relevant columns for KNN imputation\n",
    "subset_columns = ['triceps_skin_thickness', 'serum_insulin', 'bmi']\n",
    "\n",
    "# Separate data with missing 'triceps_skin_thickness'\n",
    "missing_data = df[df['triceps_skin_thickness'] == 0][subset_columns]\n",
    "known_data = df[df['triceps_skin_thickness'] != 0][subset_columns]\n",
    "\n",
    "# Reset the index of both DataFrames\n",
    "missing_data.reset_index(drop=True, inplace=True)\n",
    "known_data.reset_index(drop=True, inplace=True)\n",
    "\n",
    "# Fit a NearestNeighbors model\n",
    "neighbors_number = 5\n",
    "neighbors_model = NearestNeighbors(n_neighbors=neighbors_number)\n",
    "neighbors_model.fit(known_data.drop('triceps_skin_thickness', axis=1).values)\n",
    "\n",
    "# Impute missing values using KNN\n",
    "for index, row in missing_data.iterrows():\n",
    "    query_point = row.drop('triceps_skin_thickness')\n",
    "    distances, indices = neighbors_model.kneighbors([query_point])\n",
    "    avg_triceps_thickness = np.mean([known_data.loc[idx, 'triceps_skin_thickness'] for idx in indices[0]])\n",
    "    df.loc[df.index == index, 'triceps_skin_thickness'] = avg_triceps_thickness\n",
    "\n",
    "len(df[df['triceps_skin_thickness'] == 0])"
   ]
  }
 ],
 "metadata": {
  "kernelspec": {
   "display_name": "Python 3 (ipykernel)",
   "language": "python",
   "name": "python3"
  },
  "language_info": {
   "codemirror_mode": {
    "name": "ipython",
    "version": 3
   },
   "file_extension": ".py",
   "mimetype": "text/x-python",
   "name": "python",
   "nbconvert_exporter": "python",
   "pygments_lexer": "ipython3",
   "version": "3.10.8"
  }
 },
 "nbformat": 4,
 "nbformat_minor": 5
}
