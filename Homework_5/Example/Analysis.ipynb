{
 "cells": [
  {
   "cell_type": "code",
   "execution_count": null,
   "id": "7b7da69b-b34b-4598-b577-901609b3c9b0",
   "metadata": {},
   "outputs": [],
   "source": [
    "import numpy as np\n",
    "import pandas as pd\n",
    "import matplotlib.pyplot as plt\n",
    "import seaborn as sns\n",
    "\n",
    "import tensorflow as tf\n",
    "from sklearn.neighbors import NearestNeighbors\n",
    "from sklearn.preprocessing import StandardScaler\n",
    "\n",
    "import pickle"
   ]
  },
  {
   "cell_type": "markdown",
   "id": "c4526705-f3e0-4d00-be52-8ec97d41e39a",
   "metadata": {
    "tags": []
   },
   "source": [
    "# Functions"
   ]
  },
  {
   "cell_type": "markdown",
   "id": "3a70fe0d-8a71-44e6-9da7-82de13a74c14",
   "metadata": {
    "tags": []
   },
   "source": [
    "## Data Analysis"
   ]
  },
  {
   "cell_type": "code",
   "execution_count": 42,
   "id": "0b8c0467-d8c7-4984-a294-d0f65577fb04",
   "metadata": {},
   "outputs": [],
   "source": [
    "def display_countplot(x, df=None, title=None, filename=None):\n",
    "    \"\"\"Function to display the countplot for the specified column of the df dataframe or for the specified array\n",
    "    Args:\n",
    "        1) df - a dataframe that contains the data required for visualization\n",
    "        2) x - the name of the dataframe column on which the countplot is built or array containing the data\n",
    "        3) title - the title of the graph (countplot)\n",
    "        4) filename - the relative path where the file will be saved (with the file name, the file extension is not required) or just the filename \n",
    "    \"\"\"\n",
    "    plt.figure(figsize=(10, 5))\n",
    "    if df is None:\n",
    "        sns.countplot(x=x)\n",
    "    else:\n",
    "        sns.countplot(data=df, x=x)\n",
    "    plt.title(title)\n",
    "    plt.tight_layout()\n",
    "    if filename:\n",
    "        plt.savefig(f'{filename}.png', bbox_inches='tight')\n",
    "    plt.show()"
   ]
  },
  {
   "cell_type": "code",
   "execution_count": null,
   "id": "4cc19ddc-d883-4e21-ab04-660a36beab0c",
   "metadata": {},
   "outputs": [],
   "source": [
    "def display_countplot_with_xticks(df, x, title=None, x_ticks_step=1, rotation=None, ha='right', filename=None):\n",
    "    \"\"\"Function to display a countplot for a specified column of a data frame df using x_ticks spaced by x_ticks_step\n",
    "    Args:\n",
    "        1) df - a dataframe that contains the data required for visualization\n",
    "        2) x - the name of the dataframe column on which the countplot is built\n",
    "        3) title - the title of the graph (countplot)\n",
    "        4) x_ticks_step - step for x_ticks \n",
    "        5) rotation - rotation angle for x_ticks \n",
    "        6) ha - rotation direction for x_ticks\n",
    "        7) filename - the relative path where the file will be saved (with the file name, the file extension is not required) or just the filename\n",
    "    \"\"\"\n",
    "    plt.figure(figsize=(10, 5))\n",
    "    sns.countplot(data=df, x=x)\n",
    "    plt.title(title)\n",
    "    \n",
    "    # Determine the positions and labels for x_ticks\n",
    "    x_ticks = df[x].unique()\n",
    "    x_ticks.sort()\n",
    "    x_ticks_positions = range(0, len(x_ticks), x_ticks_step)\n",
    "    x_ticks_labels = []\n",
    "    for x_tick_position in x_ticks_positions:\n",
    "        x_ticks_labels.append(x_ticks[x_tick_position])\n",
    "    \n",
    "    # Set x_ticks\n",
    "    plt.xticks(x_ticks_positions, x_ticks_labels, rotation=rotation, ha=ha)\n",
    "    \n",
    "    if filename:\n",
    "        plt.savefig(f'{filename}.png', bbox_inches='tight')\n",
    "    plt.show()"
   ]
  },
  {
   "cell_type": "markdown",
   "id": "7906deaa-59ad-4026-a54c-7dd07b7f35c7",
   "metadata": {
    "tags": []
   },
   "source": [
    "## ML Model Training"
   ]
  },
  {
   "cell_type": "code",
   "execution_count": null,
   "id": "884c6994-6f05-4b56-aef8-64b09d1ffabf",
   "metadata": {},
   "outputs": [],
   "source": [
    "def plot_graph(history, string):\n",
    "    plt.plot(history.history[string])\n",
    "    plt.xlabel('Epochs')\n",
    "    plt.ylabel(string)\n",
    "    plt.savefig(f\"graphs/{string}.png\", bbox_inches='tight')\n",
    "    plt.show()"
   ]
  },
  {
   "cell_type": "code",
   "execution_count": null,
   "id": "d3c82cb2-c8c9-4dd6-8552-e54c07925f19",
   "metadata": {},
   "outputs": [],
   "source": [
    "def plot_graphs(history, strings, filename=None):\n",
    "    \"\"\"Function to plot graphs for two training history parameters (eg accuracy and loss)\n",
    "    Args:\n",
    "        1) history - model training history\n",
    "        2) strings - an array of names of history parameters (only the data of the first two history parameters specified in this array will be taken for graphing)\n",
    "        3) filename - the relative path where the file will be saved (with the file name, the file extension is not required) or just the filename\n",
    "    \"\"\"\n",
    "    fig, axes = plt.subplots(1, 2, figsize=(12, 6))\n",
    "    axes[0].plot(history.history[strings[0]], label=strings[0])\n",
    "    axes[0].plot(history.history[f\"val_{strings[0]}\"], label=f\"val_{strings[0]}\")\n",
    "    axes[0].set_xlabel('Epochs')\n",
    "    axes[0].set_ylabel(strings[0])\n",
    "    axes[0].legend()\n",
    "    \n",
    "    axes[1].plot(history.history[strings[1]], label=strings[1])\n",
    "    axes[1].plot(history.history[f\"val_{strings[1]}\"], label=f\"val_{strings[1]}\")\n",
    "    axes[1].set_xlabel('Epochs')\n",
    "    axes[1].set_ylabel(strings[1])\n",
    "    axes[1].legend()\n",
    "    \n",
    "    if filename:\n",
    "        plt.savefig(f\"{filename}.png\", bbox_inches='tight')\n",
    "    plt.show()"
   ]
  },
  {
   "cell_type": "code",
   "execution_count": null,
   "id": "76914e0d-4af3-4b72-8ed1-0be228ea2546",
   "metadata": {},
   "outputs": [],
   "source": [
    "def display_feature_importance(model, feature_names, filename=None):\n",
    "    \"\"\"Function for displaying the importance of the feature of the transferred model\n",
    "    Args:\n",
    "        1) model - the trained model (after the execution of the fit() method), the importance of features of which should be displayed graphically\n",
    "        2) feature_names - a list of model feature names, the importance of which should be graphically displayed\n",
    "        3) filename - the relative path where the file will be saved (with the file name, the file extension is not required) or just the filename\n",
    "    \"\"\"\n",
    "    weights = model.get_weights()\n",
    "    # Calculate feature importance as the sum of absolute weights for each feature\n",
    "    feature_importance = np.sum(np.abs(weights[0]), axis=1)\n",
    "\n",
    "    # Normalize the feature importance values\n",
    "    normalized_importance = feature_importance / np.sum(feature_importance)\n",
    "\n",
    "    # Create a bar plot to visualize feature importance\n",
    "    plt.figure(figsize=(10, 6))\n",
    "    plt.barh(feature_names, normalized_importance)\n",
    "    plt.xlabel('Normalized Importance')\n",
    "    plt.ylabel('Features')\n",
    "    plt.title('Feature Importance')\n",
    "    if filename:\n",
    "        plt.savefig(f'{filename}.png', bbox_inches='tight')\n",
    "    plt.show()"
   ]
  },
  {
   "cell_type": "markdown",
   "id": "2d9edc2f-b88e-4780-9b5e-8df0b556ac25",
   "metadata": {
    "tags": []
   },
   "source": [
    "# Data Cleaning and Preprocessing"
   ]
  },
  {
   "cell_type": "code",
   "execution_count": null,
   "id": "4dd64503-2834-4584-b963-5b4dbc16ff1c",
   "metadata": {},
   "outputs": [],
   "source": [
    "columns = ['pregnancies', 'glucose_concentration', 'blood_pressure', 'triceps_skin_thickness', 'serum_insulin', 'bmi',\n",
    "           'diabetes_pedigree_function', 'age', 'has_diabetes']\n",
    "df = pd.read_csv('data/pima-indians-diabetes.csv', names=columns)\n",
    "df.head()"
   ]
  },
  {
   "cell_type": "code",
   "execution_count": null,
   "id": "803dab4d-63ae-4ba3-86ac-12d702e4340e",
   "metadata": {},
   "outputs": [],
   "source": [
    "df.info()"
   ]
  },
  {
   "cell_type": "code",
   "execution_count": null,
   "id": "1a404a22-e488-4f48-9831-c1d0ed4c0023",
   "metadata": {},
   "outputs": [],
   "source": [
    "len(df[df['pregnancies'] < 0])"
   ]
  },
  {
   "cell_type": "markdown",
   "id": "2ffc3ddd-2f44-4b9b-8d40-6faf68c50b5f",
   "metadata": {
    "jp-MarkdownHeadingCollapsed": true,
    "tags": []
   },
   "source": [
    "### Explore unique values of each column"
   ]
  },
  {
   "cell_type": "code",
   "execution_count": null,
   "id": "4a015d37-925a-402f-840d-b21af58bdf5e",
   "metadata": {},
   "outputs": [],
   "source": [
    "print(f'Unique values of each column of dataset')\n",
    "for column in df.columns:\n",
    "    print(f\"{column}: {df[column].unique()}\")"
   ]
  },
  {
   "cell_type": "markdown",
   "id": "3f1bb477-04be-4c93-ae9f-660ded47885b",
   "metadata": {
    "jp-MarkdownHeadingCollapsed": true,
    "tags": []
   },
   "source": [
    "#### Explore the 'pregnancies' column"
   ]
  },
  {
   "cell_type": "code",
   "execution_count": null,
   "id": "836f4217-a53f-4a7d-a841-7fba2c1bb3f0",
   "metadata": {},
   "outputs": [],
   "source": [
    "df['pregnancies'].unique()"
   ]
  },
  {
   "cell_type": "code",
   "execution_count": null,
   "id": "2d55aca7-9f43-4b4e-a06c-47f3d41ff63d",
   "metadata": {},
   "outputs": [],
   "source": [
    "display_countplot(df=df, x='pregnancies', title='Number of times pregnant', filename='graphs/pregnancies_countplot')"
   ]
  },
  {
   "cell_type": "markdown",
   "id": "166ae502-0e91-4802-a858-6a083cbd5554",
   "metadata": {
    "jp-MarkdownHeadingCollapsed": true,
    "tags": []
   },
   "source": [
    "#### Explore the 'glucose_concentration' column"
   ]
  },
  {
   "cell_type": "code",
   "execution_count": null,
   "id": "d4263dd5-74f0-4097-9161-6d7ed57bcd86",
   "metadata": {},
   "outputs": [],
   "source": [
    "glucose_arr = df['glucose_concentration'].unique()\n",
    "glucose_arr"
   ]
  },
  {
   "cell_type": "code",
   "execution_count": null,
   "id": "5de457b8-8aae-4a73-89c1-ff57efceb59c",
   "metadata": {},
   "outputs": [],
   "source": [
    "len(df[df['glucose_concentration']==0])"
   ]
  },
  {
   "cell_type": "markdown",
   "id": "08937989-8bff-4d35-a3a2-607598d272a1",
   "metadata": {
    "jp-MarkdownHeadingCollapsed": true,
    "tags": []
   },
   "source": [
    "#### Explore the 'blood_pressure' column"
   ]
  },
  {
   "cell_type": "code",
   "execution_count": null,
   "id": "dc287107-d06b-4dd6-8321-739a80e0168c",
   "metadata": {},
   "outputs": [],
   "source": [
    "blood_pressure_arr = df['blood_pressure'].unique()\n",
    "blood_pressure_arr.sort()\n",
    "blood_pressure_arr"
   ]
  },
  {
   "cell_type": "code",
   "execution_count": null,
   "id": "156fe840-1818-47b5-81c1-34e1953a80b6",
   "metadata": {},
   "outputs": [],
   "source": [
    "len(df[df['blood_pressure']==0])"
   ]
  },
  {
   "cell_type": "markdown",
   "id": "807cc227-1344-451b-a644-fec17671b565",
   "metadata": {
    "jp-MarkdownHeadingCollapsed": true,
    "tags": []
   },
   "source": [
    "#### Explore the 'triceps_skin_thickness' column"
   ]
  },
  {
   "cell_type": "code",
   "execution_count": null,
   "id": "20fb2cf7-9e75-4b0a-b861-3a7992f77751",
   "metadata": {},
   "outputs": [],
   "source": [
    "triceps_skin_thickness = df['triceps_skin_thickness'].unique()\n",
    "triceps_skin_thickness.sort()\n",
    "triceps_skin_thickness"
   ]
  },
  {
   "cell_type": "code",
   "execution_count": null,
   "id": "2af3f8f5-7355-443a-9f63-c70bb3b60ce2",
   "metadata": {},
   "outputs": [],
   "source": [
    "len(df[df['triceps_skin_thickness']==0])"
   ]
  },
  {
   "cell_type": "markdown",
   "id": "48dc6d95-4e5c-4c62-af6f-7a657bb023ad",
   "metadata": {},
   "source": [
    "##### Solution = Imputation"
   ]
  },
  {
   "cell_type": "markdown",
   "id": "482162f3-2deb-49bd-9406-65535db7451c",
   "metadata": {},
   "source": [
    "Imputation: If the feature is important and you decide to retain it, you can consider imputing the missing values using techniques such as mean imputation, median imputation, or more advanced methods like k-nearest neighbors imputation. Imputation can help you retain the valuable information while filling in the gaps."
   ]
  },
  {
   "cell_type": "markdown",
   "id": "0f8dcc41-e4d9-4302-946e-7497e204f945",
   "metadata": {
    "jp-MarkdownHeadingCollapsed": true,
    "tags": []
   },
   "source": [
    "#### Explore the 'serum_insulin' column"
   ]
  },
  {
   "cell_type": "code",
   "execution_count": null,
   "id": "6899dff0-b610-475f-b883-930fd0abe57c",
   "metadata": {},
   "outputs": [],
   "source": [
    "serum_insulin = df['serum_insulin'].unique()\n",
    "serum_insulin.sort()\n",
    "serum_insulin"
   ]
  },
  {
   "cell_type": "code",
   "execution_count": null,
   "id": "29a9f112-4f92-4600-944b-e864901f672e",
   "metadata": {},
   "outputs": [],
   "source": [
    "len(df[df['serum_insulin']==0])"
   ]
  },
  {
   "cell_type": "markdown",
   "id": "d5c5c0ec-6d3b-42eb-9344-bf231735c664",
   "metadata": {
    "jp-MarkdownHeadingCollapsed": true,
    "tags": []
   },
   "source": [
    "#### Explore the 'bmi' column"
   ]
  },
  {
   "cell_type": "code",
   "execution_count": null,
   "id": "144167cb-5d2e-44c5-8a11-3a1af291f6be",
   "metadata": {},
   "outputs": [],
   "source": [
    "bmi = df['bmi'].unique()\n",
    "bmi.sort()\n",
    "bmi"
   ]
  },
  {
   "cell_type": "code",
   "execution_count": null,
   "id": "ad2eefef-a3ad-4d47-bf64-076f9516f8cb",
   "metadata": {},
   "outputs": [],
   "source": [
    "len(df[df['bmi']==0])"
   ]
  },
  {
   "cell_type": "markdown",
   "id": "6f0ee40b-0c77-4d55-985f-abf8b06f5ac3",
   "metadata": {
    "jp-MarkdownHeadingCollapsed": true,
    "tags": []
   },
   "source": [
    "#### Explore the 'diabetes_pedigree_function' column"
   ]
  },
  {
   "cell_type": "code",
   "execution_count": null,
   "id": "16354d93-35b5-4007-b4bc-b815e7cf4aa2",
   "metadata": {},
   "outputs": [],
   "source": [
    "diabetes_pedigree_func_arr = df['diabetes_pedigree_function'].unique()\n",
    "diabetes_pedigree_func_arr.sort()\n",
    "diabetes_pedigree_func_arr"
   ]
  },
  {
   "cell_type": "markdown",
   "id": "b680c7f1-541f-4f4a-9ebe-80492e0bafc6",
   "metadata": {
    "jp-MarkdownHeadingCollapsed": true,
    "tags": []
   },
   "source": [
    "#### Explore the 'age' column"
   ]
  },
  {
   "cell_type": "code",
   "execution_count": null,
   "id": "78e0d4a6-5f21-4e67-a3ac-4f61f6a11e81",
   "metadata": {},
   "outputs": [],
   "source": [
    "age_arr = df['age'].unique()\n",
    "age_arr.sort()\n",
    "age_arr"
   ]
  },
  {
   "cell_type": "markdown",
   "id": "56c75ed3-3669-4477-a6ec-6dd6f77800b6",
   "metadata": {
    "jp-MarkdownHeadingCollapsed": true,
    "tags": []
   },
   "source": [
    "#### Explore the 'has_diabetes' column"
   ]
  },
  {
   "cell_type": "code",
   "execution_count": null,
   "id": "9591ea68-792d-4eda-9bb9-e65afc6473a5",
   "metadata": {},
   "outputs": [],
   "source": [
    "df['has_diabetes'].unique()"
   ]
  },
  {
   "cell_type": "markdown",
   "id": "f85fb8fb-2ac3-4acb-af2e-7b7a323d7192",
   "metadata": {
    "tags": []
   },
   "source": [
    "### Perform data cleaning"
   ]
  },
  {
   "cell_type": "code",
   "execution_count": null,
   "id": "85ff9bd6-886f-4e56-ac35-cc89be5431bf",
   "metadata": {},
   "outputs": [],
   "source": [
    "df = df[(df['glucose_concentration'] != 0) & (df['blood_pressure'] != 0) & (df['bmi'] != 0)]\n",
    "df.info()"
   ]
  },
  {
   "cell_type": "markdown",
   "id": "4cea3b88-291f-4bb9-ad4c-9e92bae9cf67",
   "metadata": {
    "tags": []
   },
   "source": [
    "#### Using K-Nearest Neighbors (KNN) Imputation for the 'triceps_skin_thickness' column"
   ]
  },
  {
   "cell_type": "markdown",
   "id": "e440013c-464f-4186-8676-2294e2456800",
   "metadata": {
    "jp-MarkdownHeadingCollapsed": true,
    "tags": []
   },
   "source": [
    "##### View the correlation matrix"
   ]
  },
  {
   "cell_type": "code",
   "execution_count": null,
   "id": "96c72545-d76c-4541-905a-cf4113a031a5",
   "metadata": {},
   "outputs": [],
   "source": [
    "# Construct a correlation matrix between the 'triceps_skin_thickness' column and other characteristics\n",
    "correlation_matrix = df.corr()\n",
    "\n",
    "plt.figure(figsize=(10, 8))\n",
    "sns.heatmap(correlation_matrix, annot=True, cmap='coolwarm', center=0)\n",
    "plt.title('Correlation Matrix Heatmap')\n",
    "plt.savefig('graphs/correlation_matrix.png', bbox_inches='tight')\n",
    "plt.show()"
   ]
  },
  {
   "cell_type": "markdown",
   "id": "d833115b-8118-48df-9cd3-0d32e6ab0e82",
   "metadata": {
    "jp-MarkdownHeadingCollapsed": true,
    "tags": []
   },
   "source": [
    "##### View the 'triceps_skin_thickness' labels distribution before performing KNN imputation"
   ]
  },
  {
   "cell_type": "code",
   "execution_count": null,
   "id": "0eeeb4e2-aed9-4abd-af04-5f73da17d296",
   "metadata": {},
   "outputs": [],
   "source": [
    "display_countplot(df=df, x='triceps_skin_thickness', title='Triceps skin fold thickness (mm)', filename='graphs/triceps_skin_thickness')"
   ]
  },
  {
   "cell_type": "markdown",
   "id": "ae4d5d91-7f89-4a61-bf66-62f9c17ffa30",
   "metadata": {
    "tags": []
   },
   "source": [
    "##### Perform KNN imputation"
   ]
  },
  {
   "cell_type": "code",
   "execution_count": null,
   "id": "2c4f0746-18c9-4909-b479-29606ce6e282",
   "metadata": {},
   "outputs": [],
   "source": [
    "df_knn = df.copy()\n",
    "# Subset of relevant columns for KNN imputation\n",
    "subset_columns = ['triceps_skin_thickness', 'serum_insulin', 'bmi']\n",
    "\n",
    "# Separate data with missing 'triceps_skin_thickness'\n",
    "missing_data = df_knn[df_knn['triceps_skin_thickness'] == 0][subset_columns]\n",
    "known_data = df_knn[df_knn['triceps_skin_thickness'] != 0][subset_columns]\n",
    "\n",
    "# Reset the index of both DataFrames\n",
    "known_data.reset_index(drop=True, inplace=True)\n",
    "missing_indexes = missing_data.index\n",
    "missing_indexes = list(missing_indexes)\n",
    "# Fit a NearestNeighbors model\n",
    "neighbors_number = 5\n",
    "neighbors_model = NearestNeighbors(n_neighbors=neighbors_number)\n",
    "neighbors_model.fit(known_data.drop('triceps_skin_thickness', axis=1).values)\n",
    "changed_indexes = []\n",
    "# Impute missing values using KNN\n",
    "for index, row in missing_data.iterrows():\n",
    "    query_point = row.drop('triceps_skin_thickness')\n",
    "    distances, indices = neighbors_model.kneighbors([query_point])\n",
    "    avg_triceps_thickness = np.mean([known_data.loc[idx, 'triceps_skin_thickness'] for idx in indices[0]])\n",
    "    changed_indexes.append(index)\n",
    "    df_knn.loc[df_knn.index == index, 'triceps_skin_thickness'] = int(avg_triceps_thickness)\n",
    "\n",
    "print(f\"len(df_knn[df_knn['triceps_skin_thickness'] == 0]) = {len(df_knn[df_knn['triceps_skin_thickness'] == 0])}\")"
   ]
  },
  {
   "cell_type": "markdown",
   "id": "f3db1c00-2c79-4762-86b6-36ce0e2649c4",
   "metadata": {
    "tags": []
   },
   "source": [
    "##### Check the correctness of KNN imputation"
   ]
  },
  {
   "cell_type": "code",
   "execution_count": null,
   "id": "09eda27a-7b29-4067-9d28-a2fe02058ade",
   "metadata": {},
   "outputs": [],
   "source": [
    "if missing_indexes != changed_indexes:\n",
    "    print(\"missing_indexes != changed_indexes -> invalid rows have been removed\")\n",
    "else:\n",
    "    print(\"missing_indexes == changed_indexes\")"
   ]
  },
  {
   "cell_type": "code",
   "execution_count": null,
   "id": "2fc0599e-0957-4cb4-95a0-79ab9784b412",
   "metadata": {},
   "outputs": [],
   "source": [
    "print(f\"len(df[df['triceps_skin_thickness'] == 0]) = {len(df[df['triceps_skin_thickness'] == 0])}\")\n",
    "print(f\"len(df_knn[df_knn['triceps_skin_thickness'] == 0]) = {len(df_knn[df_knn['triceps_skin_thickness'] == 0])}\")"
   ]
  },
  {
   "cell_type": "code",
   "execution_count": null,
   "id": "8ad81893-9c84-4fbc-96b4-8f647376b92d",
   "metadata": {},
   "outputs": [],
   "source": [
    "df_knn['triceps_skin_thickness'].unique()"
   ]
  },
  {
   "cell_type": "code",
   "execution_count": null,
   "id": "acb59b79-95cb-46da-a24b-c18191a07119",
   "metadata": {},
   "outputs": [],
   "source": [
    "print(f\"len(df['triceps_skin_thickness'].unique()) = {len(df['triceps_skin_thickness'].unique())}\")\n",
    "print(f\"len(df_knn['triceps_skin_thickness'].unique()) = {len(df_knn['triceps_skin_thickness'].unique())}\")"
   ]
  },
  {
   "cell_type": "code",
   "execution_count": null,
   "id": "2d50a0bf-05cd-4213-bd51-a170e92462f6",
   "metadata": {},
   "outputs": [],
   "source": [
    "print(f\"len(df) = {len(df)}\")\n",
    "print(f\"len(df_knn) = {len(df_knn)}\")"
   ]
  },
  {
   "cell_type": "code",
   "execution_count": null,
   "id": "8fbb3f5c-150f-46be-a3a6-ceed4d9ff2b1",
   "metadata": {},
   "outputs": [],
   "source": [
    "df_knn.head()"
   ]
  },
  {
   "cell_type": "code",
   "execution_count": null,
   "id": "d780ee94-b747-41da-92c0-f97295c3f9e7",
   "metadata": {},
   "outputs": [],
   "source": [
    "display_countplot(df=df_knn, x='triceps_skin_thickness', title='Triceps skin fold thickness (mm)')"
   ]
  },
  {
   "cell_type": "markdown",
   "id": "cc0b47a3-6341-4648-851d-0161612b583e",
   "metadata": {
    "jp-MarkdownHeadingCollapsed": true,
    "tags": []
   },
   "source": [
    "##### View percentage change in the column 'triceps_skin_thickness' labels using pie-charts"
   ]
  },
  {
   "cell_type": "code",
   "execution_count": null,
   "id": "672b786b-8a0a-4e18-abc3-37d9381133d9",
   "metadata": {},
   "outputs": [],
   "source": [
    "# Calculate the percentage of each label in the 'triceps_skin_thickness' column in df\n",
    "thickness_percentages_df = df['triceps_skin_thickness'].value_counts(normalize=True) * 100\n",
    "\n",
    "# Calculate the percentage of each label in the 'triceps_skin_thickness' column in df_knn\n",
    "thickness_percentages_knn = df_knn['triceps_skin_thickness'].value_counts(normalize=True) * 100\n",
    "\n",
    "# Create subplots for pie charts\n",
    "fig, axes = plt.subplots(1, 2, figsize=(15, 6))\n",
    "\n",
    "# Plot pie chart for original df\n",
    "# sns.set_palette(\"Set3\")\n",
    "# axes[0].pie(thickness_percentages_df, labels=thickness_percentages_df.index, autopct='%1.1f%%', startangle=140)\n",
    "wedges, _ = axes[0].pie(thickness_percentages_df, startangle=90)\n",
    "legend_labels = [f'{label}: {percent:.1f}%' for label, percent in zip(thickness_percentages_df.index, thickness_percentages_df)]\n",
    "axes[0].legend(wedges, legend_labels, title=\"Labels\", loc=\"center left\", bbox_to_anchor=(1, 0, 0.5, 1))\n",
    "axes[0].set_title(\"Original DataFrame\")\n",
    "\n",
    "# Plot pie chart for df_knn\n",
    "# axes[1].pie(thickness_percentages_knn, labels=thickness_percentages_knn.index, autopct='%1.1f%%', startangle=140)\n",
    "wedges, _ = axes[1].pie(thickness_percentages_knn, startangle=90)\n",
    "legend_labels = [f'{label}: {percent:.1f}%' for label, percent in zip(thickness_percentages_knn.index, thickness_percentages_knn)]\n",
    "axes[1].legend(wedges, legend_labels, title=\"Labels\", loc=\"center left\", bbox_to_anchor=(1, 0, 0.5, 1))\n",
    "axes[1].set_title(\"DataFrame after KNN imputation\")\n",
    "\n",
    "plt.savefig('graphs/pie_charts.png', bbox_inches='tight')\n",
    "plt.show()"
   ]
  },
  {
   "cell_type": "code",
   "execution_count": null,
   "id": "bdb526f5-bbec-4826-b249-a0d4a07ec85f",
   "metadata": {},
   "outputs": [],
   "source": [
    "# Calculate the percentage of each label in the 'triceps_skin_thickness' column in df\n",
    "thickness_percentages_df = df['triceps_skin_thickness'].value_counts(normalize=True) * 100\n",
    "\n",
    "fig = plt.figure(figsize=(12, 6))\n",
    "axes = fig.add_axes([0.1, 0.1, 1, 1])\n",
    "sns.set_palette(\"Set3\")\n",
    "# axes.pie(thickness_percentages_df, labels=thickness_percentages_df.index, autopct='%1.1f%%', startangle=140)\n",
    "wedges, _ = axes.pie(thickness_percentages_df, startangle=90)\n",
    "legend_labels = [f'{label}: {percent:.1f}%' for label, percent in zip(thickness_percentages_df.index, thickness_percentages_df)]\n",
    "axes.legend(wedges, legend_labels, title=\"Labels\", loc=\"center left\", bbox_to_anchor=(1, 0, 0.5, 1))\n",
    "axes.set_title(\"Original DataFrame\")\n",
    "\n",
    "plt.savefig('graphs/df_pie_chart.png', bbox_inches='tight')\n",
    "plt.show()"
   ]
  },
  {
   "cell_type": "markdown",
   "id": "86390108-970d-4145-b177-8f291ee7b8f5",
   "metadata": {
    "tags": []
   },
   "source": [
    "# Exploratory Data Analysis"
   ]
  },
  {
   "cell_type": "markdown",
   "id": "ca2b6fad-cea8-4c8e-becb-493a87b2f5da",
   "metadata": {
    "tags": []
   },
   "source": [
    "## Analysing class label distribution"
   ]
  },
  {
   "cell_type": "markdown",
   "id": "6be0c09d-0c29-4b9f-a576-a9f4c188279d",
   "metadata": {
    "jp-MarkdownHeadingCollapsed": true,
    "tags": []
   },
   "source": [
    "#### Consider the label distribution of the 'pregnancies' column"
   ]
  },
  {
   "cell_type": "code",
   "execution_count": null,
   "id": "085b56a8-e6c7-4c63-a840-d78b28fda56d",
   "metadata": {},
   "outputs": [],
   "source": [
    "sns.set_style('whitegrid')\n",
    "display_countplot(df=df_knn, x='pregnancies', title='Number of times pregnant', filename='graphs/pregnancies_countplot')"
   ]
  },
  {
   "cell_type": "markdown",
   "id": "fafd0f3a-6036-444d-9472-984825f557bb",
   "metadata": {
    "jp-MarkdownHeadingCollapsed": true,
    "tags": []
   },
   "source": [
    "#### Consider the label distribution of the 'years' column"
   ]
  },
  {
   "cell_type": "code",
   "execution_count": null,
   "id": "f0044fab-e717-4ebc-8f4e-2fd944fba126",
   "metadata": {},
   "outputs": [],
   "source": [
    "display_countplot(df=df_knn, x='age', title='Age (years)', filename='graphs/age_countplot')"
   ]
  },
  {
   "cell_type": "markdown",
   "id": "9fdb5e68-befe-4176-9a85-cd433b2eb18a",
   "metadata": {},
   "source": [
    "#### Consider the label distribution of the 'has_diabetes' column"
   ]
  },
  {
   "cell_type": "code",
   "execution_count": null,
   "id": "7f7d6ed1-227d-4d42-ad9a-ce78b50ba841",
   "metadata": {},
   "outputs": [],
   "source": [
    "display_countplot(df=df_knn, x='has_diabetes', title='has_diabetes labels', filename='graphs/has_diabetes_countplot')"
   ]
  },
  {
   "cell_type": "code",
   "execution_count": null,
   "id": "838bf58e-a394-47cb-80dd-ae3a0d3c85b6",
   "metadata": {},
   "outputs": [],
   "source": [
    "print(f\"len(df_knn[df_knn['has_diabetes']==0]) = {len(df_knn[df_knn['has_diabetes']==0])}\")\n",
    "print(f\"len(df_knn[df_knn['has_diabetes']==1]) = {len(df_knn[df_knn['has_diabetes']==1])}\")"
   ]
  },
  {
   "cell_type": "markdown",
   "id": "30593d7e-10e9-4a1b-a89e-ed8c6d17cb99",
   "metadata": {
    "tags": []
   },
   "source": [
    "# Train and test Neural Network Model"
   ]
  },
  {
   "cell_type": "markdown",
   "id": "6eec6db2-2e14-4504-a06c-77b3141a4bd6",
   "metadata": {
    "tags": []
   },
   "source": [
    "## Trying default code"
   ]
  },
  {
   "cell_type": "markdown",
   "id": "4ad03c30-5809-449c-a7f8-0f37fa091249",
   "metadata": {
    "jp-MarkdownHeadingCollapsed": true,
    "tags": []
   },
   "source": [
    "### Model Architecture from tutorial "
   ]
  },
  {
   "cell_type": "code",
   "execution_count": null,
   "id": "4f243d39-2585-4c56-8acb-9d3b70f16fbe",
   "metadata": {},
   "outputs": [],
   "source": [
    "df_knn.head()"
   ]
  },
  {
   "cell_type": "code",
   "execution_count": null,
   "id": "abec308d-caca-45b2-b57d-3e912e7c12e1",
   "metadata": {},
   "outputs": [],
   "source": [
    "X = df_knn[columns[:-1]]\n",
    "y = df_knn['has_diabetes'].values\n",
    "X.head()"
   ]
  },
  {
   "cell_type": "code",
   "execution_count": null,
   "id": "9d4dded5-b98c-4338-a3ad-43335051edc0",
   "metadata": {},
   "outputs": [],
   "source": [
    "print(f\"len(X) = {len(X)}\")\n",
    "print(f\"len(y) = {len(y)}\")"
   ]
  },
  {
   "cell_type": "code",
   "execution_count": null,
   "id": "d9c231bc-8437-49d4-9dd6-179204925778",
   "metadata": {},
   "outputs": [],
   "source": [
    "# define the keras model\n",
    "model = tf.keras.models.Sequential()\n",
    "model.add(tf.keras.layers.Dense(12, input_shape=(8, ), activation='relu'))\n",
    "model.add(tf.keras.layers.Dense(8, activation='relu'))\n",
    "model.add(tf.keras.layers.Dense(1, activation='sigmoid'))\n",
    "\n",
    "# compile the keras model\n",
    "model.compile(loss='binary_crossentropy', optimizer='adam', metrics=['accuracy'])\n",
    "\n",
    "# fit the keras model on the dataset\n",
    "history = model.fit(X, y, epochs = 150, batch_size=10, verbose=0)\n",
    "\n",
    "# evaluate the keras model\n",
    "_, accuracy = model.evaluate(X, y)\n",
    "print('Accuracy: %.2f' % (accuracy*100))"
   ]
  },
  {
   "cell_type": "code",
   "execution_count": null,
   "id": "d5478788-62e2-4fd5-804c-437b495d2eec",
   "metadata": {},
   "outputs": [],
   "source": [
    "# plt.rcdefaults()\n",
    "# plot_graph(history, 'accuracy')\n",
    "# plot_graph(history, 'loss')"
   ]
  },
  {
   "cell_type": "markdown",
   "id": "dbf9c350-b34d-497b-8a11-0d458f9c165d",
   "metadata": {
    "jp-MarkdownHeadingCollapsed": true,
    "tags": []
   },
   "source": [
    "### Try to remove some features"
   ]
  },
  {
   "cell_type": "markdown",
   "id": "ba72c553-034e-4881-9372-143b8d201556",
   "metadata": {
    "jp-MarkdownHeadingCollapsed": true,
    "tags": []
   },
   "source": [
    "#### Find out which features has the biggest impact on model training"
   ]
  },
  {
   "cell_type": "code",
   "execution_count": null,
   "id": "03f99c92-284a-4242-808c-97b4da5c99d5",
   "metadata": {},
   "outputs": [],
   "source": [
    "weights = model.get_weights()\n",
    "# Calculate feature importance as the sum of absolute weights for each feature\n",
    "feature_importance = np.sum(np.abs(weights[0]), axis=1)\n",
    "\n",
    "# Normalize the feature importance values\n",
    "normalized_importance = feature_importance / np.sum(feature_importance)\n",
    "\n",
    "# Get feature names\n",
    "feature_names = ['pregnancies', 'glucose_concentration', 'blood_pressure', 'triceps_skin_thickness',\n",
    "                 'serum_insulin', 'bmi', 'diabetes_pedigree_function', 'age']\n",
    "\n",
    "# Create a bar plot to visualize feature importance\n",
    "plt.figure(figsize=(10, 6))\n",
    "plt.barh(feature_names, normalized_importance)\n",
    "plt.xlabel('Normalized Importance')\n",
    "plt.ylabel('Features')\n",
    "plt.title('Feature Importance')\n",
    "plt.savefig('graphs/feature_importance.png', bbox_inches='tight')\n",
    "plt.show()"
   ]
  },
  {
   "cell_type": "markdown",
   "id": "ecab9908-19c1-485e-b251-720f790cc77c",
   "metadata": {
    "jp-MarkdownHeadingCollapsed": true,
    "tags": []
   },
   "source": [
    "#### Removing 'triceps_skin_thickness' column"
   ]
  },
  {
   "cell_type": "code",
   "execution_count": null,
   "id": "16e68bbc-67fb-4cf1-839f-f9764f221b06",
   "metadata": {},
   "outputs": [],
   "source": [
    "df_knn.columns"
   ]
  },
  {
   "cell_type": "code",
   "execution_count": null,
   "id": "abedd651-bc2f-4ff6-965c-7169f486bd83",
   "metadata": {},
   "outputs": [],
   "source": [
    "X = df_knn[['pregnancies', 'glucose_concentration', 'blood_pressure', 'serum_insulin', \n",
    "            'bmi', 'diabetes_pedigree_function', 'age']]\n",
    "y = df_knn['has_diabetes']\n",
    "X.head()"
   ]
  },
  {
   "cell_type": "code",
   "execution_count": null,
   "id": "dbc393f0-92ed-4301-931f-82de9a594728",
   "metadata": {},
   "outputs": [],
   "source": [
    "print(f\"len(X) = {len(X)}\")\n",
    "print(f\"len(y) = {len(y)}\")"
   ]
  },
  {
   "cell_type": "code",
   "execution_count": null,
   "id": "f55ec024-e933-4c78-bb3b-9ca46b22ce06",
   "metadata": {},
   "outputs": [],
   "source": [
    "# define the keras model\n",
    "model = tf.keras.models.Sequential()\n",
    "model.add(tf.keras.layers.Dense(12, input_shape=(7, ), activation='relu'))\n",
    "model.add(tf.keras.layers.Dense(8, activation='relu'))\n",
    "model.add(tf.keras.layers.Dense(1, activation='sigmoid'))\n",
    "\n",
    "# compile the keras model\n",
    "model.compile(loss='binary_crossentropy', optimizer='adam', metrics=['accuracy'])\n",
    "\n",
    "# fit the keras model on the dataset\n",
    "history = model.fit(X, y, epochs = 150, batch_size=10, verbose=0)\n",
    "\n",
    "# evaluate the keras model\n",
    "_, accuracy = model.evaluate(X, y)\n",
    "print('Accuracy: %.2f' % (accuracy*100))"
   ]
  },
  {
   "cell_type": "markdown",
   "id": "d3991ed2-f8d8-49b6-a267-4361971f33c3",
   "metadata": {
    "jp-MarkdownHeadingCollapsed": true,
    "tags": []
   },
   "source": [
    "##### View feature importance"
   ]
  },
  {
   "cell_type": "code",
   "execution_count": null,
   "id": "08679896-4f36-453a-907b-5354c492923e",
   "metadata": {},
   "outputs": [],
   "source": [
    "features = ['pregnancies', 'glucose_concentration', 'blood_pressure', 'serum_insulin', 'bmi', 'diabetes_pedigree_function', 'age']\n",
    "display_feature_importance(model=model, feature_names=features)"
   ]
  },
  {
   "cell_type": "markdown",
   "id": "b45dc013-8bfe-4ba6-9352-87e626d1417d",
   "metadata": {
    "jp-MarkdownHeadingCollapsed": true,
    "tags": []
   },
   "source": [
    "#### Removing 'diabetes_pedigree_function' column"
   ]
  },
  {
   "cell_type": "code",
   "execution_count": null,
   "id": "f6434254-ecf3-4810-b94f-1a9004449f14",
   "metadata": {},
   "outputs": [],
   "source": [
    "X = df_knn[['pregnancies', 'glucose_concentration', 'blood_pressure', 'triceps_skin_thickness', 'serum_insulin', \n",
    "            'bmi', 'age']]\n",
    "y = df_knn['has_diabetes']\n",
    "X.head()"
   ]
  },
  {
   "cell_type": "code",
   "execution_count": null,
   "id": "bbafa9ff-769b-499a-bd9d-9093fea57ad6",
   "metadata": {},
   "outputs": [],
   "source": [
    "print(f\"len(X) = {len(X)}\")\n",
    "print(f\"len(y) = {len(y)}\")"
   ]
  },
  {
   "cell_type": "code",
   "execution_count": null,
   "id": "0137825c-cbaa-45ec-a282-5c8b70c8e39e",
   "metadata": {},
   "outputs": [],
   "source": [
    "# define the keras model\n",
    "model = tf.keras.models.Sequential()\n",
    "model.add(tf.keras.layers.Dense(12, input_shape=len(X.columns), ), activation='relu'))\n",
    "model.add(tf.keras.layers.Dense(8, activation='relu'))\n",
    "model.add(tf.keras.layers.Dense(1, activation='sigmoid'))\n",
    "\n",
    "# compile the keras model\n",
    "model.compile(loss='binary_crossentropy', optimizer='adam', metrics=['accuracy'])\n",
    "\n",
    "# fit the keras model on the dataset\n",
    "history = model.fit(X, y, epochs = 150, batch_size=10, verbose=0)\n",
    "\n",
    "# evaluate the keras model\n",
    "_, accuracy = model.evaluate(X, y)\n",
    "print('Accuracy: %.2f' % (accuracy*100))"
   ]
  },
  {
   "cell_type": "markdown",
   "id": "58175cd6-9bbf-48e6-9618-d009dccee6ba",
   "metadata": {
    "jp-MarkdownHeadingCollapsed": true,
    "tags": []
   },
   "source": [
    "##### View feature importance"
   ]
  },
  {
   "cell_type": "code",
   "execution_count": null,
   "id": "fbd3de17-7fe0-4335-a5ed-fd12a101e88d",
   "metadata": {},
   "outputs": [],
   "source": [
    "features = ['pregnancies', 'glucose_concentration', 'blood_pressure', 'triceps_skin_thickness', 'serum_insulin', 'bmi', 'age']\n",
    "display_feature_importance(model=model, feature_names=features, filename='graphs/feature_importance')"
   ]
  },
  {
   "cell_type": "markdown",
   "id": "3a99ba29-126e-42d4-bc93-444c8940cf69",
   "metadata": {},
   "source": [
    "#### Removing 'diabetes_pedigree_function' and 'pregnancies' columns"
   ]
  },
  {
   "cell_type": "code",
   "execution_count": null,
   "id": "878fbfb0-10d2-4d41-b235-957e1a54aebd",
   "metadata": {},
   "outputs": [],
   "source": [
    "X = df_knn[['glucose_concentration', 'blood_pressure', 'triceps_skin_thickness', 'serum_insulin', \n",
    "            'bmi', 'age']]\n",
    "y = df_knn['has_diabetes']\n",
    "X.head()"
   ]
  },
  {
   "cell_type": "code",
   "execution_count": null,
   "id": "bbd8a570-1cee-4eeb-8552-e9dce077fe4d",
   "metadata": {},
   "outputs": [],
   "source": [
    "print(f\"len(X) = {len(X)}\")\n",
    "print(f\"len(y) = {len(y)}\")"
   ]
  },
  {
   "cell_type": "code",
   "execution_count": null,
   "id": "b17e9a76-6e26-4540-8dc7-0f82153840d2",
   "metadata": {},
   "outputs": [],
   "source": [
    "# define the keras model\n",
    "model = tf.keras.models.Sequential()\n",
    "model.add(tf.keras.layers.Dense(12, input_shape=(len(X.columns), ), activation='relu'))\n",
    "model.add(tf.keras.layers.Dense(8, activation='relu'))\n",
    "model.add(tf.keras.layers.Dense(1, activation='sigmoid'))\n",
    "\n",
    "# compile the keras model\n",
    "model.compile(loss='binary_crossentropy', optimizer='adam', metrics=['accuracy'])\n",
    "\n",
    "# fit the keras model on the dataset\n",
    "history = model.fit(X, y, epochs = 150, batch_size=10, verbose=0)\n",
    "\n",
    "# evaluate the keras model\n",
    "_, accuracy = model.evaluate(X, y)\n",
    "print('Accuracy: %.2f' % (accuracy*100))"
   ]
  },
  {
   "cell_type": "markdown",
   "id": "f33889aa-7eef-4cf1-9b9c-76fdc1d80d91",
   "metadata": {
    "tags": []
   },
   "source": [
    "##### View feature importance"
   ]
  },
  {
   "cell_type": "code",
   "execution_count": null,
   "id": "af864a10-a216-4f35-a773-77ba75ac0af9",
   "metadata": {},
   "outputs": [],
   "source": [
    "features = ['glucose_concentration', 'blood_pressure', 'triceps_skin_thickness', 'serum_insulin', 'bmi', 'age']\n",
    "display_feature_importance(model=model, feature_names=features, filename='graphs/feature_importance')"
   ]
  },
  {
   "cell_type": "markdown",
   "id": "949e21ea-4465-42c8-9a17-ef2e15fd0843",
   "metadata": {},
   "source": [
    "#### Removing 'diabetes_pedigree_function', 'pregnancies', 'blood_pressure' and 'triceps_skin_thickness' columns"
   ]
  },
  {
   "cell_type": "code",
   "execution_count": null,
   "id": "4633d926-306f-4088-8c32-9553fa18a266",
   "metadata": {},
   "outputs": [],
   "source": [
    "X = df_knn[['glucose_concentration', 'serum_insulin', 'bmi', 'age']]\n",
    "y = df_knn['has_diabetes']\n",
    "X.head()"
   ]
  },
  {
   "cell_type": "code",
   "execution_count": null,
   "id": "e8aa89a1-4280-4b0b-8845-e43a6f017462",
   "metadata": {},
   "outputs": [],
   "source": [
    "print(f\"len(X) = {len(X)}\")\n",
    "print(f\"len(y) = {len(y)}\")"
   ]
  },
  {
   "cell_type": "code",
   "execution_count": null,
   "id": "543546cb-a064-45ab-9afa-0ce32e4d8958",
   "metadata": {},
   "outputs": [],
   "source": [
    "# define the keras model\n",
    "model = tf.keras.models.Sequential()\n",
    "model.add(tf.keras.layers.Dense(12, input_shape=(len(X.columns), ), activation='relu'))\n",
    "model.add(tf.keras.layers.Dense(8, activation='relu'))\n",
    "model.add(tf.keras.layers.Dense(1, activation='sigmoid'))\n",
    "\n",
    "# compile the keras model\n",
    "model.compile(loss='binary_crossentropy', optimizer='adam', metrics=['accuracy'])\n",
    "\n",
    "# fit the keras model on the dataset\n",
    "history = model.fit(X, y, epochs = 150, batch_size=10, verbose=0)\n",
    "\n",
    "# evaluate the keras model\n",
    "_, accuracy = model.evaluate(X, y)\n",
    "print('Accuracy: %.2f' % (accuracy*100))"
   ]
  },
  {
   "cell_type": "markdown",
   "id": "42c36edd-0cf7-4f67-b28b-45d8f30d429f",
   "metadata": {
    "tags": []
   },
   "source": [
    "##### View feature importance"
   ]
  },
  {
   "cell_type": "code",
   "execution_count": null,
   "id": "18f5a454-0e3e-4c17-a694-74080bd0f507",
   "metadata": {},
   "outputs": [],
   "source": [
    "features = X.columns\n",
    "display_feature_importance(model=model, feature_names=features, filename='graphs/feature_importance')"
   ]
  },
  {
   "cell_type": "markdown",
   "id": "3eb99f26-b467-4eae-a2c6-df7ceb8c98e0",
   "metadata": {
    "jp-MarkdownHeadingCollapsed": true,
    "tags": []
   },
   "source": [
    "### Changing model architecture"
   ]
  },
  {
   "cell_type": "markdown",
   "id": "8f3d6c5b-d056-43d6-899c-96ac86ff7a44",
   "metadata": {
    "tags": []
   },
   "source": [
    "#### Change the number of neurons in each of hidden layers"
   ]
  },
  {
   "cell_type": "code",
   "execution_count": null,
   "id": "86783ec7-333f-4563-9c44-c3c92e6981f0",
   "metadata": {},
   "outputs": [],
   "source": [
    "X = df_knn[columns[:-1]]\n",
    "y = df_knn['has_diabetes'].values\n",
    "X.head()"
   ]
  },
  {
   "cell_type": "code",
   "execution_count": null,
   "id": "63d46564-8e48-4711-a0fd-16d9a2c3d77f",
   "metadata": {},
   "outputs": [],
   "source": [
    "print(f\"len(X) = {len(X)}\")\n",
    "print(f\"len(y) = {len(y)}\")"
   ]
  },
  {
   "cell_type": "code",
   "execution_count": null,
   "id": "f40052e2-1e94-4812-a642-a01857395078",
   "metadata": {},
   "outputs": [],
   "source": [
    "np.mean([5, 10, 15])"
   ]
  },
  {
   "cell_type": "code",
   "execution_count": null,
   "id": "ff788733-b260-4231-a0d8-46d03bdd42e6",
   "metadata": {},
   "outputs": [],
   "source": [
    "number_of_experiments = 5\n",
    "accuracy_list = []\n",
    "\n",
    "for i in range(0, number_of_experiments):\n",
    "    # define the keras model\n",
    "    model = tf.keras.models.Sequential()\n",
    "    model.add(tf.keras.layers.Dense(512, input_shape=(len(X.columns), ), activation='relu'))\n",
    "    model.add(tf.keras.layers.Dense(256, activation='relu'))\n",
    "    model.add(tf.keras.layers.Dense(1, activation='sigmoid'))\n",
    "\n",
    "    # compile the keras model\n",
    "    model.compile(loss='binary_crossentropy', optimizer='adam', metrics=['accuracy'])\n",
    "\n",
    "    # fit the keras model on the dataset\n",
    "    history = model.fit(X, y, epochs = 150, batch_size=10, verbose=0)\n",
    "\n",
    "    # evaluate the keras model\n",
    "    _, accuracy = model.evaluate(X, y)\n",
    "    accuracy_list.append(accuracy)\n",
    "    \n",
    "    print(f'Accuracy: {accuracy*100:.2f}')\n",
    "\n",
    "print(f'\\nAverage accuracy = {np.mean(accuracy_list)*100:.3f}')"
   ]
  },
  {
   "cell_type": "markdown",
   "id": "5ae4be60-4fef-4262-9004-5567d7f437b8",
   "metadata": {
    "jp-MarkdownHeadingCollapsed": true,
    "tags": []
   },
   "source": [
    "##### Train - validation version"
   ]
  },
  {
   "cell_type": "code",
   "execution_count": null,
   "id": "afe30aef-2e3d-4e4f-8e3e-237e6d754b8d",
   "metadata": {},
   "outputs": [],
   "source": [
    "divide_index = int(0.8 * len(X))\n",
    "X_train = X[:divide_index]\n",
    "X_val = X[divide_index:]\n",
    "\n",
    "y_train = y[:divide_index]\n",
    "y_val = y[divide_index:]\n",
    "\n",
    "print(f\"len(X_train) = {len(X_train)}\")\n",
    "print(f\"len(y_train) = {len(y_train)}\")\n",
    "\n",
    "print(f\"len(X_val) = {len(X_val)}\")\n",
    "print(f\"len(y_val) = {len(y_val)}\")"
   ]
  },
  {
   "cell_type": "code",
   "execution_count": null,
   "id": "14cc5b34-cc7c-4ba9-abf8-56b86ef3307f",
   "metadata": {},
   "outputs": [],
   "source": [
    "# define the keras model\n",
    "model = tf.keras.models.Sequential()\n",
    "model.add(tf.keras.layers.Dense(512, input_shape=(len(X.columns), ), activation='relu'))\n",
    "model.add(tf.keras.layers.Dense(256, activation='relu'))\n",
    "model.add(tf.keras.layers.Dense(1, activation='sigmoid'))\n",
    "\n",
    "# compile the keras model\n",
    "model.compile(loss='binary_crossentropy', optimizer='adam', metrics=['accuracy'])\n",
    "\n",
    "# fit the keras model on the dataset\n",
    "history = model.fit(X_train, y_train, epochs = 150, batch_size=10, verbose=0, validation_data=(X_val, y_val))\n",
    "\n",
    "# evaluate the keras model\n",
    "loss, accuracy = model.evaluate(X_train, y_train)\n",
    "val_loss, val_accuracy = model.evaluate(X_val, y_val)\n",
    "\n",
    "print(f'Accuracy: {accuracy*100:.2f}; Loss: {loss:.2f}')\n",
    "print(f'Validation accuracy: {val_accuracy*100:.2f}; validation loss: {val_loss:.2f}')"
   ]
  },
  {
   "cell_type": "code",
   "execution_count": null,
   "id": "98c5a580-4fc3-4dc5-9b9e-b9879bbd4c66",
   "metadata": {},
   "outputs": [],
   "source": [
    "plot_graphs(history=history, strings=['accuracy', 'loss'], filename='graphs/validation')"
   ]
  },
  {
   "cell_type": "code",
   "execution_count": null,
   "id": "99080a1b-4059-4d0d-b50b-5bdb4622e17a",
   "metadata": {},
   "outputs": [],
   "source": [
    "# define the keras model\n",
    "model = tf.keras.models.Sequential()\n",
    "model.add(tf.keras.layers.Dense(12, input_shape=(8, ), activation='relu'))\n",
    "model.add(tf.keras.layers.Dense(8, activation='relu'))\n",
    "model.add(tf.keras.layers.Dense(1, activation='sigmoid'))\n",
    "\n",
    "# compile the keras model\n",
    "model.compile(loss='binary_crossentropy', optimizer='adam', metrics=['accuracy'])\n",
    "\n",
    "# fit the keras model on the dataset\n",
    "history = model.fit(X, y, epochs = 150, batch_size=10, verbose=0)\n",
    "\n",
    "# evaluate the keras model\n",
    "_, accuracy = model.evaluate(X, y)\n",
    "print('Accuracy: %.2f' % (accuracy*100))"
   ]
  },
  {
   "cell_type": "markdown",
   "id": "fa9dfe38-0d9c-4005-93de-501be1e30141",
   "metadata": {
    "tags": []
   },
   "source": [
    "### Add data normalization"
   ]
  },
  {
   "cell_type": "code",
   "execution_count": null,
   "id": "ebcc1691-e14c-4254-aa1a-f4c3e29c057e",
   "metadata": {},
   "outputs": [],
   "source": [
    "X = df_knn[columns[:-1]]\n",
    "y = df_knn['has_diabetes'].values\n",
    "X.head()"
   ]
  },
  {
   "cell_type": "code",
   "execution_count": null,
   "id": "e6020578-5b14-4de4-b108-91ac2d1a1a9d",
   "metadata": {},
   "outputs": [],
   "source": [
    "print(f\"len(X) = {len(X)}\")\n",
    "print(f\"len(y) = {len(y)}\")"
   ]
  },
  {
   "cell_type": "code",
   "execution_count": null,
   "id": "1e3b50e4-a1b3-474a-8883-c5678a127af7",
   "metadata": {},
   "outputs": [],
   "source": [
    "# Initialize a scaler and fit it on the training data\n",
    "scaler = StandardScaler()\n",
    "X_scaled = scaler.fit_transform(X)\n",
    "\n",
    "number_of_experiments = 5\n",
    "accuracy_list = []\n",
    "\n",
    "for i in range(0, number_of_experiments):\n",
    "    # define the keras model\n",
    "    model = tf.keras.models.Sequential()\n",
    "    model.add(tf.keras.layers.Dense(512, input_shape=(len(X.columns), ), activation='relu'))\n",
    "    model.add(tf.keras.layers.Dense(256, activation='relu'))\n",
    "    model.add(tf.keras.layers.Dense(1, activation='sigmoid'))\n",
    "\n",
    "    # compile the keras model\n",
    "    model.compile(loss='binary_crossentropy', optimizer='adam', metrics=['accuracy'])\n",
    "\n",
    "    # fit the keras model on the dataset\n",
    "    history = model.fit(X_scaled, y, epochs = 150, batch_size=10, verbose=0)\n",
    "    \n",
    "    # evaluate the keras model\n",
    "    loss, accuracy = model.evaluate(X_scaled, y)\n",
    "    accuracy_list.append(accuracy)\n",
    "    \n",
    "    print(f'Accuracy: {accuracy*100:.2f}')\n",
    "\n",
    "print(f'\\nAverage accuracy = {np.mean(accuracy_list)*100:.3f}')"
   ]
  },
  {
   "cell_type": "code",
   "execution_count": null,
   "id": "4e10ede1-8d93-40c5-9330-6e3e9d5ca0be",
   "metadata": {},
   "outputs": [],
   "source": [
    "plot_graph(history, 'accuracy')\n",
    "plot_graph(history, 'loss')"
   ]
  },
  {
   "cell_type": "markdown",
   "id": "7010babc-b2b2-437e-bd08-e26b898f018f",
   "metadata": {},
   "source": [
    "#### Check the effect of data normalization on the speed of achieving a certain accuracy"
   ]
  },
  {
   "cell_type": "code",
   "execution_count": null,
   "id": "9f14fce1-1425-4ddd-aca3-4bf4a66b18b6",
   "metadata": {},
   "outputs": [],
   "source": [
    "class myCallback(tf.keras.callbacks.Callback):\n",
    "    def on_epoch_end(self, epoch, logs={}):\n",
    "        if(logs.get('accuracy') == 1):\n",
    "            print('\\nAccuracy is equal to 1 so cancelling training!')\n",
    "            self.model.stop_training = True"
   ]
  },
  {
   "cell_type": "code",
   "execution_count": null,
   "id": "59d192de-dafb-4d83-bb51-eaf91a69e400",
   "metadata": {},
   "outputs": [],
   "source": [
    "X = df_knn[columns[:-1]]\n",
    "y = df_knn['has_diabetes'].values\n",
    "\n",
    "divide_index = int(0.8 * len(X))\n",
    "X_train = X[:divide_index]\n",
    "X_val = X[divide_index:]\n",
    "\n",
    "y_train = y[:divide_index]\n",
    "y_val = y[divide_index:]\n",
    "\n",
    "print(f\"len(X_train) = {len(X_train)}\")\n",
    "print(f\"len(y_train) = {len(y_train)}\")\n",
    "\n",
    "print(f\"len(X_val) = {len(X_val)}\")\n",
    "print(f\"len(y_val) = {len(y_val)}\")"
   ]
  },
  {
   "cell_type": "code",
   "execution_count": null,
   "id": "3627064d-11ac-4921-b253-25b38e1fc427",
   "metadata": {},
   "outputs": [],
   "source": [
    "# Create callback instance\n",
    "callbacks = myCallback()\n",
    "\n",
    "# define the keras model\n",
    "model = tf.keras.models.Sequential()\n",
    "model.add(tf.keras.layers.Dense(128, input_shape=(len(X_train.columns), ), activation='relu'))\n",
    "model.add(tf.keras.layers.Dense(512, activation='relu'))\n",
    "model.add(tf.keras.layers.Dense(1, activation='sigmoid'))\n",
    "\n",
    "# compile the keras model\n",
    "model.compile(loss='binary_crossentropy', optimizer='adam', metrics=['accuracy'])\n",
    "\n",
    "# fit the keras model on the dataset\n",
    "history = model.fit(X_train, y_train, epochs = 550, batch_size=10, validation_data=(X_val, y_val), callbacks=[callbacks])\n",
    "\n",
    "# evaluate the keras model\n",
    "print('\\nEvaluating the model')\n",
    "loss, accuracy = model.evaluate(X_train, y_train)\n",
    "val_loss, val_accuracy = model.evaluate(X_val, y_val)\n",
    "\n",
    "print(f'Accuracy: {accuracy*100:.2f}; Loss: {loss:.2f}')\n",
    "print(f'Validation accuracy: {val_accuracy*100:.2f}; validation loss: {val_loss:.2f}')"
   ]
  },
  {
   "cell_type": "code",
   "execution_count": null,
   "id": "dda07d3a-89f7-4f5a-8604-e7e82c5313e4",
   "metadata": {},
   "outputs": [],
   "source": [
    "plot_graphs(history=history, strings=['accuracy', 'loss'], filename = 'graphs/validation')"
   ]
  },
  {
   "cell_type": "code",
   "execution_count": null,
   "id": "35036c34-2538-4b83-b98b-ff1d44a8fbf4",
   "metadata": {},
   "outputs": [],
   "source": [
    "# Initialize a scaler and fit it on the training data\n",
    "scaler = StandardScaler()\n",
    "X_train_scaled = scaler.fit_transform(X_train)\n",
    "X_val_scaled = scaler.fit_transform(X_val)\n",
    "\n",
    "# Create callback instance\n",
    "callbacks = myCallback()\n",
    "\n",
    "# define the keras model\n",
    "model = tf.keras.models.Sequential()\n",
    "model.add(tf.keras.layers.Dense(128, input_shape=(len(X_train.columns), ), activation='relu'))\n",
    "model.add(tf.keras.layers.Dense(512, activation='relu'))\n",
    "model.add(tf.keras.layers.Dense(1, activation='sigmoid'))\n",
    "\n",
    "# compile the keras model\n",
    "model.compile(loss='binary_crossentropy', optimizer='adam', metrics=['accuracy'])\n",
    "\n",
    "# fit the keras model on the dataset\n",
    "history = model.fit(X_train_scaled, y_train, epochs = 550, batch_size=10, validation_data=(X_val_scaled, y_val), callbacks=[callbacks])\n",
    "\n",
    "# evaluate the keras model\n",
    "print('\\nEvaluating the model')\n",
    "loss, accuracy = model.evaluate(X_train_scaled, y_train)\n",
    "val_loss, val_accuracy = model.evaluate(X_val_scaled, y_val)\n",
    "\n",
    "print(f'Accuracy: {accuracy*100:.2f}; Loss: {loss:.2f}')\n",
    "print(f'Validation accuracy: {val_accuracy*100:.2f}; validation loss: {val_loss:.2f}')"
   ]
  },
  {
   "cell_type": "code",
   "execution_count": null,
   "id": "a5424ba8-5f1b-4e97-8e04-cce4689cdc71",
   "metadata": {},
   "outputs": [],
   "source": [
    "plot_graphs(history=history, strings=['accuracy', 'loss'])"
   ]
  },
  {
   "cell_type": "markdown",
   "id": "669c11db-1688-4f1a-959e-d6ae58259ba8",
   "metadata": {},
   "source": [
    "## Divide original dataset into train, validation and test"
   ]
  },
  {
   "cell_type": "code",
   "execution_count": null,
   "id": "f2ebc9ed-6282-4e51-a002-84d3a6fb579b",
   "metadata": {},
   "outputs": [],
   "source": [
    "divide_index = int(len(df_knn)*0.85)\n",
    "train_df = df_knn[:divide_index]\n",
    "test_df = df_knn[divide_index:]\n",
    "\n",
    "print(f\"len(train_df) = {len(train_df)}\")\n",
    "print(f\"len(test_df) = {len(test_df)}\")"
   ]
  },
  {
   "cell_type": "code",
   "execution_count": 43,
   "id": "dabdb009-b4f4-41d0-a18c-3557e3882db1",
   "metadata": {},
   "outputs": [
    {
     "data": {
      "image/png": "[encoded data removed]",
      "text/plain": [
       "<Figure size 1000x500 with 1 Axes>"
      ]
     },
     "metadata": {},
     "output_type": "display_data"
    },
    {
     "data": {
      "image/png": "[encoded data removed]",
      "text/plain": [
       "<Figure size 1000x500 with 1 Axes>"
      ]
     },
     "metadata": {},
     "output_type": "display_data"
    }
   ],
   "source": [
    "# View the distribution of labels in train_df and test_df\n",
    "display_countplot(df=train_df, x='has_diabetes', title='has_diabetes labels train_df', filename='graphs/train_df_has_diabetes_countplot')\n",
    "display_countplot(df=test_df, x='has_diabetes', title='has_diabetes labels test_df', filename='graphs/test_df_has_diabetes_countplot')"
   ]
  },
  {
   "cell_type": "code",
   "execution_count": null,
   "id": "fe11faeb-feec-4456-bd29-a33223c3e002",
   "metadata": {},
   "outputs": [],
   "source": [
    "train_val_divide_index = int(0.85 * len(train_df))\n",
    "X_train = train_df[columns[:-1]][:train_val_divide_index]\n",
    "y_train = train_df[columns[-1]][:train_val_divide_index].values\n",
    "\n",
    "X_valid = train_df[columns[:-1]][train_val_divide_index:]\n",
    "y_valid = train_df[columns[-1]][train_val_divide_index:].values\n",
    "\n",
    "print(f\"len(X_train) = {len(X_train)}\")\n",
    "print(f\"len(y_train) = {len(y_train)}\")\n",
    "print(f\"len(X_valid) = {len(X_valid)}\")\n",
    "print(f\"len(y_valid) = {len(y_valid)}\")"
   ]
  },
  {
   "cell_type": "markdown",
   "id": "ade54ed9-1095-455f-aeb5-042c07aa9be0",
   "metadata": {},
   "source": [
    "#### Check the distribution of labels in y_train and y_valid"
   ]
  },
  {
   "cell_type": "code",
   "execution_count": 44,
   "id": "7bcb98c2-ed40-43df-8000-aab3cdf5ca51",
   "metadata": {},
   "outputs": [
    {
     "data": {
      "image/png": "[encoded data removed]",
      "text/plain": [
       "<Figure size 1000x500 with 1 Axes>"
      ]
     },
     "metadata": {},
     "output_type": "display_data"
    },
    {
     "data": {
      "image/png": "[encoded data removed]",
      "text/plain": [
       "<Figure size 1000x500 with 1 Axes>"
      ]
     },
     "metadata": {},
     "output_type": "display_data"
    }
   ],
   "source": [
    "display_countplot(x=y_train, title='has_diabetes labels y_train', filename='graphs/y_train_has_diabetes_countplot')\n",
    "display_countplot(x=y_valid, title='has_diabetes labels y_valid', filename='graphs/y_valid_has_diabetes_countplot')"
   ]
  }
 ],
 "metadata": {
  "kernelspec": {
   "display_name": "Python 3 (ipykernel)",
   "language": "python",
   "name": "python3"
  },
  "language_info": {
   "codemirror_mode": {
    "name": "ipython",
    "version": 3
   },
   "file_extension": ".py",
   "mimetype": "text/x-python",
   "name": "python",
   "nbconvert_exporter": "python",
   "pygments_lexer": "ipython3",
   "version": "3.10.8"
  }
 },
 "nbformat": 4,
 "nbformat_minor": 5
}
