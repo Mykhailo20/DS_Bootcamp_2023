{
 "cells": [
  {
   "cell_type": "code",
   "execution_count": null,
   "id": "f19c2a1a-d058-486e-9dbc-e38fa0ea4d63",
   "metadata": {},
   "outputs": [],
   "source": [
    "import numpy as np\n",
    "import pandas as pd\n",
    "import matplotlib.pyplot as plt\n",
    "import seaborn as sns\n",
    "\n",
    "import warnings\n",
    "warnings.filterwarnings('ignore')\n",
    "\n",
    "from math import ceil\n",
    "from scipy import stats"
   ]
  },
  {
   "cell_type": "markdown",
   "id": "fcb8d81c-1c8c-4783-9226-1c85d4af8d07",
   "metadata": {
    "tags": []
   },
   "source": [
    "# Functions"
   ]
  },
  {
   "cell_type": "markdown",
   "id": "c073cd29-a59a-486f-bc77-40c450b586de",
   "metadata": {
    "tags": []
   },
   "source": [
    "## Exploring measurement time and frequency stability"
   ]
  },
  {
   "cell_type": "code",
   "execution_count": null,
   "id": "e5735720-47dc-4267-9edf-98dca69d2230",
   "metadata": {},
   "outputs": [],
   "source": [
    "def display_time_distribution(df, x):\n",
    "    \"\"\" A function that is designed to display the measurement time distribution using a histogram\n",
    "    Args:\n",
    "        1) df - a dataframe that contains a column with measurement time data\n",
    "        2) x - name of measurement time column\n",
    "    \"\"\"\n",
    "    # Plot the measurement time distribution using seaborn's histogram\n",
    "    plt.figure(figsize=(15, 6))\n",
    "    sns.histplot(df[x], bins=60, kde=True, color='blue')\n",
    "    plt.xlabel('Period, s')\n",
    "    plt.ylabel('Count')\n",
    "    plt.title('Measurement Time Distribution')\n",
    "\n",
    "    plt.show()\n",
    "    \n",
    "def get_measurement_time_df(df, column_name='time'):\n",
    "    \"\"\" A function for building a dataframe that contains information about the time of measurement of each reading of the device\n",
    "    Args:\n",
    "        1) df - a dataframe that contains a time column\n",
    "        2) column_name - the name of the column containing time data (in seconds)\n",
    "    Returns:\n",
    "        time_measurement_df - dataframe that contains information about the time of measurement of each reading of the device\n",
    "    \"\"\"\n",
    "    period_dict = {'start_time': [], 'end_time': [], 'measurement_time': []}\n",
    "    prev_time = None\n",
    "    curr_time = None\n",
    "    for index, row in df.iterrows():\n",
    "        if(index == len(df)):\n",
    "            break\n",
    "            \n",
    "        prev_time = curr_time\n",
    "        curr_time = row[column_name]\n",
    "\n",
    "        if prev_time != None:\n",
    "            period_dict['start_time'].append(prev_time)\n",
    "            period_dict['end_time'].append(curr_time)\n",
    "            period_dict['measurement_time'].append(curr_time - prev_time)\n",
    "    \n",
    "    time_measurement_df = pd.DataFrame.from_dict(period_dict)\n",
    "    return time_measurement_df\n",
    "\n",
    "\n",
    "def display_time_distribution(df, x):\n",
    "    \"\"\" A function that is designed to display the measurement time distribution using a histogram\n",
    "    Args:\n",
    "        1) df - a dataframe that contains a column with measurement time data\n",
    "        2) x - name of measurement time column\n",
    "    \"\"\"\n",
    "    # Plot the measurement time distribution using seaborn's histogram\n",
    "    plt.figure(figsize=(25, 6))\n",
    "    sns.histplot(df[x], bins=60, kde=True, color='blue')\n",
    "    plt.xlabel('Period, s')\n",
    "    plt.ylabel('Count')\n",
    "    plt.title('Measurement Time Distribution')\n",
    "\n",
    "    plt.show()\n",
    "\n",
    "\n",
    "def display_data_collection_stability(df):\n",
    "    \"\"\"A function that displays the stability of data collection relative to the time when the measurements were taken and \n",
    "       relative to the measurement number\n",
    "    Args:\n",
    "        1) df - time_measurement_df\n",
    "    \"\"\"\n",
    "    fig, axes = plt.subplots(2, 1, figsize=(15, 14))\n",
    "    axes[0].plot(range(len(df[df['lost_data'] == 0])), df[df['lost_data'] == 0]['measurement_time'])\n",
    "    axes[0].set_title(f'Stability of Data Collection (Filtered)\\nAverage frequency: {freq:.3f} Hz')\n",
    "    axes[0].set_xlabel('number of measurement')\n",
    "    axes[0].set_ylabel('measurement time')\n",
    "    \n",
    "    axes[1].plot(df[df['lost_data'] == 0]['start_time'], df[df['lost_data'] == 0]['measurement_time'])\n",
    "    axes[1].set_title(f'Stability of Data Collection (Filtered)\\nAverage frequency: {freq:.3f} Hz')\n",
    "    axes[1].set_xlabel('time of measurement')\n",
    "    axes[1].set_ylabel('measurement time')\n",
    "    \n",
    "    plt.show()"
   ]
  },
  {
   "cell_type": "markdown",
   "id": "55c99844-feda-4c68-a4be-c3105bba9915",
   "metadata": {
    "jp-MarkdownHeadingCollapsed": true,
    "tags": []
   },
   "source": [
    "## Visualizing results"
   ]
  },
  {
   "cell_type": "code",
   "execution_count": null,
   "id": "5d94552f-5280-4924-826c-e4abb4211cc9",
   "metadata": {},
   "outputs": [],
   "source": [
    "def display_three_axes(df, y, x=None, title=None, x_label=None, y_label=None, filename=None):\n",
    "    \"\"\" Function for visualization of three axes (X, Y, Z) of the measurement results of the device\n",
    "    Args:\n",
    "        1) df - a dataframe containing the results of the device measurement\n",
    "        2) x - the name of the column of the dataframe that contains the data for the OX axis (for the three lines, this is the same data)\n",
    "        3) y - the list containing the dataframe column names corresponding to the OX, OY, and OZ axis measurements, respectively\n",
    "        4) title - title of the graph\n",
    "        5) x_label - the name of the OX axis of the graph\n",
    "        6) y_label - the name of the OY axis of the graph\n",
    "        7) filename - the relative path where the file will be saved (with the file name, the file extension is not required) or just the filename\n",
    "    Returns:\n",
    "        Nothing, but plots graph\n",
    "    \"\"\"\n",
    "    plt.figure(figsize=(12, 6))\n",
    "    if x is None:\n",
    "        plt.plot(df[y[0]], label='X')\n",
    "        plt.plot(df[y[1]], label='Y')\n",
    "        plt.plot(df[y[2]], label='Z')\n",
    "    else:\n",
    "        plt.plot(df[x], df[y[0]], label='X')\n",
    "        plt.plot(df[x], df[y[1]], label='Y', color='orange')\n",
    "        plt.plot(df[x], df[y[2]], label='Z', color='green')\n",
    "           \n",
    "    plt.title(title)\n",
    "    plt.xlabel(x_label)\n",
    "    plt.ylabel(y_label)\n",
    "    plt.legend()\n",
    "    if filename:\n",
    "        plt.savefig(f'{filename}.png', bbox_inches='tight')\n",
    "    plt.show()"
   ]
  },
  {
   "cell_type": "markdown",
   "id": "8645c500-471f-47ca-b926-1472b7a079f9",
   "metadata": {
    "jp-MarkdownHeadingCollapsed": true,
    "tags": []
   },
   "source": [
    "## Data Filtering"
   ]
  },
  {
   "cell_type": "code",
   "execution_count": null,
   "id": "cb2d6a34-5b3b-4d21-831f-dc0452993aa9",
   "metadata": {},
   "outputs": [],
   "source": [
    "def display_raw_filtered_data_zoom(df, x, y, x_lims, y_lims, title=None, x_label=None, y_label=None, filename=None, zoom_axes=None):\n",
    "    \"\"\" Function to display raw and filtered data on the same graph with scaling to better display the filtering\n",
    "    Args:\n",
    "        1) df - a dataframe containing the results of the device measurement\n",
    "        2) x - the name of the column of the dataframe that contains the data for the OX axis of the graph\n",
    "        3) y - the list containing the column names of the data frame corresponding to the raw and filtered data, respectively, on a given axis (OX, OY, or OZ)\n",
    "        4) x_lims - the list of limits along the OX axis for zooming ([zoom_xmin; zoom_xmax])\n",
    "        5) y_lims - the list of limits along the OY axis for zooming ([zoom_ymin; zoom_ymax])\n",
    "        6) title - title of the graph\n",
    "        7) x_label - the name of the OX axis of the graph\n",
    "        8) y_label - the name of the OY axis of the graph\n",
    "        9) filename - the relative path where the file will be saved (with the file name, the file extension is not required) or just the filename\n",
    "        10) zoom_axes - the list containing the placement coordinates (x, y) and dimensions (width, height) of the smaller graph that contains the zoomed-in image for the specified limits (x_lims and y_lims)\n",
    "            zoom_axes = [x, y, width, height] \n",
    "    \"\"\"\n",
    "    fig, ax = plt.subplots(figsize=(12, 6))\n",
    "    ax.plot(df[x], df[y[0]], label='Raw Data', color='green')\n",
    "    ax.plot(df[x], df[y[1]], label='Filtered_data', color='orange')\n",
    "    plt.xlabel(x_label)\n",
    "    plt.ylabel(y_label)\n",
    "    plt.title(title)\n",
    "    plt.legend()\n",
    "\n",
    "    # inset\n",
    "    if zoom_axes:\n",
    "        inset_ax = fig.add_axes(zoom_axes)\n",
    "    else:\n",
    "        inset_ax = fig.add_axes([0.25, 0.20, 0.20, 0.20])\n",
    "    inset_ax.plot(df[x], df[y[0]], label='Raw Data', color='green')\n",
    "    inset_ax.plot(df[x], df[y[1]], label='Filtered_data', color='orange')\n",
    "    inset_ax.set_xlim(x_lims[0], x_lims[1])\n",
    "    inset_ax.set_ylim(y_lims[0], y_lims[1])\n",
    "    inset_ax.set_title('zoom near origin')\n",
    "    if filename:\n",
    "        plt.savefig(f\"{filename}.png\", bbox_inches='tight')\n",
    "    plt.show()"
   ]
  },
  {
   "cell_type": "code",
   "execution_count": null,
   "id": "cb992452-e575-40bc-8f6f-a57f2f1908ab",
   "metadata": {},
   "outputs": [],
   "source": [
    "def get_statistical_measures_df(df, df_data_columns, functions, result_df_columns):\n",
    "    \"\"\"A function to create a dataframe that contains calculated statistical parameters for the specified columns of the original dataframe\n",
    "    Args:\n",
    "        1) df - the original dataframe that contains the required data\n",
    "        2) df_data_columns - a list of column names of the original dataframe for which to find statistical measures\n",
    "        3) functions - a list of references to numpy functions that will calculate the required statistical measures\n",
    "        4) result_df_columns - a list of names of the columns of the output dataframe, in which the names of the searched statistical measures are specified\n",
    "    \n",
    "    An example of using the function:\n",
    "        Let's imagine that we have a dataframe data_df, which contains the columns 'time' (time of measurement), 'accelX', 'accelY', 'accelZ' (the results of measuring the readings of the accelerometer on the corresponding axes). \n",
    "        We want to calculate the statistical mean and standard deviation for the accelerometer readings on all three axes (the columns 'accelX', 'accelY', 'accelZ' of data_df), so the columns of the output dataframe will be named, for example, 'mean' and 'std'. \n",
    "        These values can be calculated using the numpy library functions: np.mean and np.std.\n",
    "        So, the function call will look like this:\n",
    "        get_statistical_measures_df(df=data_df, \n",
    "                                    df_data_columns=['accelX', 'accelY', 'accelZ'], \n",
    "                                    functions=[np.mean, np.std], \n",
    "                                    result_df_columns=['mean', 'std'])\n",
    "    \"\"\"\n",
    "    statistical_measures_dict = {}\n",
    "    for key in result_df_columns:\n",
    "        statistical_measures_dict[key] = []\n",
    "        \n",
    "    statistical_measures_dict['data'] = df_data_columns\n",
    "    \n",
    "    for [function, res_column] in zip(functions, result_df_columns):\n",
    "        # Go through all df columns and find statistical measures for it\n",
    "        for df_data_column in df_data_columns:\n",
    "            statistical_measures_dict[res_column].append(function(df[df_data_column].values))\n",
    "    \n",
    "    # Create DataFrame\n",
    "    statistical_measures_df = pd.DataFrame.from_dict(statistical_measures_dict)\n",
    "    statistical_measures_df = statistical_measures_df.set_index('data')\n",
    "    return statistical_measures_df"
   ]
  },
  {
   "cell_type": "markdown",
   "id": "d1c4a86f-a71a-408a-bb3b-1995126640db",
   "metadata": {
    "jp-MarkdownHeadingCollapsed": true,
    "tags": []
   },
   "source": [
    "## Exploratory Data Analysis"
   ]
  },
  {
   "cell_type": "code",
   "execution_count": null,
   "id": "d3e5dfd8-aece-4dec-bd62-431c8a3bd3f4",
   "metadata": {},
   "outputs": [],
   "source": [
    "def display_pie_chart(df, column_name, title=None, filename=None):\n",
    "    \"\"\" Function to display the percentage ratio of column (with the name column_name) content \n",
    "    Args:\n",
    "        1) df - the original dataframe that contains the required information\n",
    "        2) column_name - the name of the df dataframe column whose percentage values are to be found\n",
    "        3) title - the title of the graph\n",
    "        4) filename - the relative path where the file will be saved (with the file name, the file extension is not required) or just the filename\n",
    "    Returns:\n",
    "        None, but plots graph\n",
    "    \"\"\"\n",
    "    # Calculate the percentage of each activity in original_df\n",
    "    activity_percentages_df = df[column_name].value_counts(normalize=True) * 100\n",
    "\n",
    "    plt.figure(figsize=(12, 6))\n",
    "\n",
    "    # Plot pie chart for df\n",
    "    sns.set_palette(\"Set3\")\n",
    "    plt.pie(activity_percentages_df, labels=activity_percentages_df.index, autopct='%1.1f%%', startangle=140)\n",
    "    plt.title(title)\n",
    "\n",
    "    # Adjust layout\n",
    "    plt.tight_layout()\n",
    "    if filename:\n",
    "        plt.savefig(f'{filename}.png', bbox_inches='tight')\n",
    "    plt.show()"
   ]
  },
  {
   "cell_type": "markdown",
   "id": "4b596071-388c-4700-917e-cdb16f2fec66",
   "metadata": {
    "tags": []
   },
   "source": [
    "## Windowing"
   ]
  },
  {
   "cell_type": "code",
   "execution_count": null,
   "id": "ecff977d-6521-4cfb-9f75-b42e57079579",
   "metadata": {},
   "outputs": [],
   "source": [
    "def windowed_pie_chart(original_df, windowed_df, column, first_chart_title='Original DataFrame', second_chart_title='Windowed DataFrame', filename=None):\n",
    "    \"\"\"Function for displaying the ratio of column content between the original dataframe and the windowed dataframe in the form of a pie chart\n",
    "    Args:\n",
    "        1) original_df - the original dataframe that contains the required information\n",
    "        2) windowed_df - a dataframe that contains the results of windowing\n",
    "        3) column - the name of the dataframe column whose percentage values are to be found\n",
    "        4) filename - the relative path where the file will be saved (with the file name, the file extension is not required) or just the filename\n",
    "    Returns:\n",
    "        None; just builds a pie chart to display the ratio of column contents between the original dataframe and the windowed dataframe\n",
    "    \"\"\"\n",
    "    # Calculate the percentage of each activity in original_df\n",
    "    activity_percentages_df = original_df[column].value_counts(normalize=True) * 100\n",
    "\n",
    "    # Calculate the percentage of each activity in windowed_df\n",
    "    activity_percentages_windowed = windowed_df[column].value_counts(normalize=True) * 100\n",
    "\n",
    "    # Create subplots for pie charts\n",
    "    fig, axes = plt.subplots(1, 2, figsize=(12, 6))\n",
    "\n",
    "    # Plot pie chart for df\n",
    "    sns.set_palette(\"Set3\")\n",
    "    axes[0].pie(activity_percentages_df, labels=activity_percentages_df.index, autopct='%1.1f%%', startangle=140)\n",
    "    axes[0].set_title(first_chart_title)\n",
    "\n",
    "    # Plot pie chart for windowed_df\n",
    "    sns.set_palette(\"Set3\")\n",
    "    axes[1].pie(activity_percentages_windowed, labels=activity_percentages_df.index, autopct='%1.1f%%', startangle=140)\n",
    "    axes[1].set_title(second_chart_title)\n",
    "\n",
    "    # Adjust layout\n",
    "    plt.tight_layout()\n",
    "    if filename:\n",
    "        plt.savefig(f'{filename}.png', bbox_inches='tight')\n",
    "    plt.show()"
   ]
  },
  {
   "cell_type": "markdown",
   "id": "d7383c41-f1b9-439b-8d18-07971ae50d77",
   "metadata": {},
   "source": [
    "## Feature Engineering"
   ]
  },
  {
   "cell_type": "code",
   "execution_count": 34,
   "id": "460208ed-f91a-45c8-930d-afcd07d6a3b8",
   "metadata": {},
   "outputs": [],
   "source": [
    "def get_statistical_measures_df(windowed_data_df, functions, data_df_columns, result_df_columns):\n",
    "    \"\"\"Function for creating a dataframe X_df, the columns of which correspond to the required statistical measures for the windows of the windowed_data_df dataframe\n",
    "    Args:\n",
    "        1) windowed_data_df - a dataframe whose rows contain arrays of data formed as a result of windowing\n",
    "        2) functions - a list of references to lambda functions that will calculate the required statistical measures\n",
    "        3) data_df_columns - a list of column names of the windowed_data_df dataframe for which to find statistical measures\n",
    "        4) result_df_columns - a list of names of the searched statistical measures of the output dataframe\n",
    "        \n",
    "    Returns:\n",
    "        X_train dataframe\n",
    "        \n",
    "    An example of using the function:\n",
    "        Let's imagine we have a windowed_data_df dataframe (a dataframe formed as a result of windowing - that is, each record in a row can be an array of records for a given window), which contains the columns 'accX', 'accY', 'accZ' (the results of measuring the readings of the accelerometer on the corresponding axes). \n",
    "        Inside the function, we create an X_df dataframe to which we want to add new columns with statistical measure values.\n",
    "        For example, we want to calculate the statistical mean and avg absolute diff for the accelerometer readings on all three axes (the columns 'accX', 'accY', 'accZ' of data_df), so the columns of the X_df dataframe will be named, for example, 'accX_mean', 'accY_mean', ..., 'accZ_aad'. \n",
    "        These values can be calculated using the lambda functions: [\n",
    "            lambda x: x.mean(),\n",
    "            lambda x: np.mean(np.absolute(x - np.mean(x)))\n",
    "        ]\n",
    "        So, the function call will look like this:\n",
    "        get_statistical_measures_df(df=data_df, \n",
    "                                    functions=[\n",
    "                                        lambda x: x.mean(),\n",
    "                                        lambda x: np.mean(np.absolute(x - np.mean(x)))\n",
    "                                    ], \n",
    "                                    data_df_columns=['accX', 'accY', 'accZ'], \n",
    "                                    result_df_columns=['mean', 'aad']) \n",
    "    \"\"\"\n",
    "    X_df = pd.DataFrame()\n",
    "    for [function, res_column] in zip(functions, result_df_columns):\n",
    "        for data_column in data_df_columns:\n",
    "            X_df[f'{data_column}_{res_column}'] = windowed_data_df[data_column].apply(function)\n",
    "    return X_df"
   ]
  },
  {
   "cell_type": "markdown",
   "id": "ae2376c2-e88f-4b6c-a0b7-6f9b3caf38b4",
   "metadata": {
    "tags": []
   },
   "source": [
    "# Work with train data"
   ]
  },
  {
   "cell_type": "code",
   "execution_count": null,
   "id": "3328885c-9b21-4988-a297-e6b3385aa96b",
   "metadata": {},
   "outputs": [],
   "source": [
    "df = pd.read_csv('data/40_Hz/concatenated_data/All/Train_activities_1_2023-08-23.csv')\n",
    "df.head()"
   ]
  },
  {
   "cell_type": "code",
   "execution_count": null,
   "id": "fe05c5d3-0159-4eec-b2ef-c0ac45f2aa69",
   "metadata": {},
   "outputs": [],
   "source": [
    "df.info()"
   ]
  },
  {
   "cell_type": "markdown",
   "id": "a0c6aeae-cfcb-40f7-9864-95d3f36ed9f4",
   "metadata": {
    "jp-MarkdownHeadingCollapsed": true,
    "tags": []
   },
   "source": [
    "## Data Cleaning and Preprocessing"
   ]
  },
  {
   "cell_type": "markdown",
   "id": "d85e156b-6201-4595-b1af-f48d1988ba74",
   "metadata": {},
   "source": [
    "### We execute the following steps based on the observation:\n",
    "- drop null values.\n",
    "- drop the rows where the time is less than 0.\n",
    "- sort data in ascending order of time if it has not been sorted."
   ]
  },
  {
   "cell_type": "code",
   "execution_count": null,
   "id": "120f280a-0148-4b32-93f7-959034238b0f",
   "metadata": {},
   "outputs": [],
   "source": [
    "df.info()"
   ]
  },
  {
   "cell_type": "code",
   "execution_count": null,
   "id": "21c6fb38-52ce-4558-960a-717e0c593d1e",
   "metadata": {},
   "outputs": [],
   "source": [
    "len(df[df['time']<0])"
   ]
  },
  {
   "cell_type": "code",
   "execution_count": null,
   "id": "a2610ac3-e107-4fca-a5cf-13b737f90c0b",
   "metadata": {},
   "outputs": [],
   "source": [
    "# Check if the 'time' column of the dataframe is sorted in ascending order\n",
    "df['time'].is_monotonic_increasing"
   ]
  },
  {
   "cell_type": "markdown",
   "id": "6ab18e08-ccc4-43e2-bfc9-31444c11620f",
   "metadata": {
    "jp-MarkdownHeadingCollapsed": true,
    "tags": []
   },
   "source": [
    "## Exploring measurement period and frequency stability"
   ]
  },
  {
   "cell_type": "code",
   "execution_count": null,
   "id": "0845492c-b7ab-4666-89dc-5fca3f6ea821",
   "metadata": {},
   "outputs": [],
   "source": [
    "time_diffs = df['time'].diff()\n",
    "freq = 1.0 / time_diffs.mean()\n",
    "print(f\"Measurement time = {df.iloc[-1]['time'] - df.iloc[0]['time']} s\")\n",
    "print(f\"Number of measurements (number of rows in the data set) = {len(df)}\")\n",
    "print(f\"Average measurement period = {time_diffs.mean():.3f} s\")\n",
    "print(f\"Average frequency of measurement = {freq:.3f} Hz\")"
   ]
  },
  {
   "cell_type": "code",
   "execution_count": null,
   "id": "99ab5dde-34c0-435e-9d65-cb3d4a721b0d",
   "metadata": {},
   "outputs": [],
   "source": [
    "time_measurement_df = get_measurement_time_df(df)\n",
    "time_measurement_df.head()"
   ]
  },
  {
   "cell_type": "code",
   "execution_count": null,
   "id": "32585453-6c15-463d-93e5-51288fccd2ee",
   "metadata": {},
   "outputs": [],
   "source": [
    "fig, ax = plt.subplots(figsize=(12, 4))\n",
    "ax.set_title(f'Stability of Data Collection (Raw Data)\\nAverage frequency: {freq:.3f} Hz')\n",
    "ax.set_ylabel('measurement time, s')\n",
    "sns.lineplot(x=range(len(time_measurement_df['measurement_time'])), \n",
    "             y=time_measurement_df['measurement_time'])\n",
    "\n",
    "inset_axes = fig.add_axes([0.17, 0.35, 0.10, 0.25])\n",
    "inset_axes.plot(range(len(time_measurement_df['measurement_time'])), \n",
    "                time_measurement_df['measurement_time'])\n",
    "inset_axes.set_title('Zoom near origin')\n",
    "inset_axes.set_xlim(10, 20)\n",
    "inset_axes.set_ylim(0.01, 0.04)\n",
    "plt.savefig('graphs/train_data_collection_stability.png')\n",
    "plt.show()"
   ]
  },
  {
   "cell_type": "code",
   "execution_count": null,
   "id": "46ac70ed-2bff-4683-ae11-d9043b09be14",
   "metadata": {},
   "outputs": [],
   "source": [
    "time_measurement_df[time_measurement_df['measurement_time'] > 1]"
   ]
  },
  {
   "cell_type": "markdown",
   "id": "f282f923-de24-42ba-b067-5a37f1fcf329",
   "metadata": {
    "tags": []
   },
   "source": [
    "### Delete rows with measurement_time > 0.040"
   ]
  },
  {
   "cell_type": "code",
   "execution_count": null,
   "id": "18b83b0a-673b-456a-8a20-e76ca990096f",
   "metadata": {},
   "outputs": [],
   "source": [
    "len(time_measurement_df[time_measurement_df['measurement_time'] <= 0.040])"
   ]
  },
  {
   "cell_type": "code",
   "execution_count": null,
   "id": "38927a01-d271-4202-8c6e-b5cd83c382e4",
   "metadata": {},
   "outputs": [],
   "source": [
    "df = df[df['time'].diff() <= 0.04]\n",
    "df.info()"
   ]
  },
  {
   "cell_type": "code",
   "execution_count": null,
   "id": "d5ac7366-e687-4254-9c4f-6d530f5f8414",
   "metadata": {},
   "outputs": [],
   "source": [
    "plt.figure(figsize=(12, 4))\n",
    "plt.title(f'Stability of Data Collection (Raw Data)\\nAverage frequency: {freq:.3f} Hz')\n",
    "plt.ylabel('measurement time, s')\n",
    "sns.lineplot(x=range(len(time_measurement_df[time_measurement_df['measurement_time'] <= 0.04]['measurement_time'])), \n",
    "             y=time_measurement_df[time_measurement_df['measurement_time'] <= 0.04]['measurement_time'])\n",
    "plt.savefig('graphs/train_data_collection_stability.png')\n",
    "plt.show()"
   ]
  },
  {
   "cell_type": "markdown",
   "id": "d58c4bc9-9815-4024-8213-96ba1d80cad0",
   "metadata": {
    "jp-MarkdownHeadingCollapsed": true,
    "tags": []
   },
   "source": [
    "## Data Filtering"
   ]
  },
  {
   "cell_type": "markdown",
   "id": "23592757-15dc-4a5c-a13b-81b6cfc9f048",
   "metadata": {},
   "source": [
    "### Display data before filtering"
   ]
  },
  {
   "cell_type": "code",
   "execution_count": null,
   "id": "bf10d7e3-d48a-45ba-b005-baaf09e56a08",
   "metadata": {},
   "outputs": [],
   "source": [
    "display_three_axes(df=df, x='time', y=['accX', 'accY', 'accZ'], title='Time Dependence of Linear Acceleration (Raw Data)', \n",
    "                   x_label='Time, s', y_label='Linear acceleration, m/s^2', filename='graphs/accelerometer')"
   ]
  },
  {
   "cell_type": "code",
   "execution_count": null,
   "id": "64743a23-2a65-4d5c-97bb-4f9456c0180e",
   "metadata": {},
   "outputs": [],
   "source": [
    "display_three_axes(df=df, x='time', y=['gyrX', 'gyrY', 'gyrZ'], title='Time Dependence of Angular Velocity (Raw Data)', \n",
    "                   x_label='Time, s', y_label='Angular velocity, rad/s', filename='graphs/gyroscope')"
   ]
  },
  {
   "cell_type": "markdown",
   "id": "152d7091-ef76-452d-8db0-c60e85c14f00",
   "metadata": {
    "jp-MarkdownHeadingCollapsed": true,
    "tags": []
   },
   "source": [
    "### Display data after filtering"
   ]
  },
  {
   "cell_type": "code",
   "execution_count": null,
   "id": "a926592d-c685-4e54-9dc9-96c0b90093d3",
   "metadata": {},
   "outputs": [],
   "source": [
    "window_size = 10  # Define the size of the median window\n",
    "\n",
    "# Apply median filtering to accelerometer data\n",
    "df['accX_filtered'] = df['accX'].rolling(window=window_size, center=True, min_periods=1).median()\n",
    "df['accY_filtered'] = df['accY'].rolling(window=window_size, center=True, min_periods=1).median()\n",
    "df['accZ_filtered'] = df['accZ'].rolling(window=window_size, center=True, min_periods=1).median()\n",
    "\n",
    "# Apply median filtering to gyroscope data\n",
    "df['gyrX_filtered'] = df['gyrX'].rolling(window=window_size, center=True, min_periods=1).median()\n",
    "df['gyrY_filtered'] = df['gyrY'].rolling(window=window_size, center=True, min_periods=1).median()\n",
    "df['gyrZ_filtered'] = df['gyrZ'].rolling(window=window_size, center=True, min_periods=1).median()\n",
    "\n",
    "df.head(3)"
   ]
  },
  {
   "cell_type": "code",
   "execution_count": null,
   "id": "3a7214b7-9a7d-4e54-9bfa-6c0153187665",
   "metadata": {},
   "outputs": [],
   "source": [
    "display_three_axes(df=df, x='time', y=['accX_filtered', 'accY_filtered', 'accZ_filtered'], title='Time Dependence of Linear Acceleration (Filtered Data)', \n",
    "                x_label='Time, s', y_label='Linear acceleration, m/s^2')"
   ]
  },
  {
   "cell_type": "code",
   "execution_count": null,
   "id": "f248bf32-b2e0-4859-aaae-00a1b7a49b6d",
   "metadata": {},
   "outputs": [],
   "source": [
    "display_three_axes(df=df, x='time', y=['gyrX_filtered', 'gyrY_filtered', 'gyrZ_filtered'], title='Time Dependence of Angular Velocity (Filtered Data)', \n",
    "                x_label='Time, s', y_label='Angular velocity, rad/s', filename='graphs/gyroscope')"
   ]
  },
  {
   "cell_type": "markdown",
   "id": "4d4ec9c9-d8ee-42d9-9aaf-287245aef09f",
   "metadata": {
    "jp-MarkdownHeadingCollapsed": true,
    "tags": []
   },
   "source": [
    "### Consider the implications of data filtering"
   ]
  },
  {
   "cell_type": "markdown",
   "id": "51f65657-3d4e-428d-8a8e-dc8dd037d769",
   "metadata": {},
   "source": [
    "#### Display the results of filtering for accelerometer and gyroscope"
   ]
  },
  {
   "cell_type": "markdown",
   "id": "7a71a730-3bb2-4961-9ca0-a92fd8694f46",
   "metadata": {
    "tags": []
   },
   "source": [
    "##### Zoom accelerometer graphs to better see the results of filtering"
   ]
  },
  {
   "cell_type": "code",
   "execution_count": null,
   "id": "e43079e0-521f-45ef-bc6a-aea67f273f61",
   "metadata": {},
   "outputs": [],
   "source": [
    "display_raw_filtered_data_zoom(df=df, x='time', y=['accX', 'accX_filtered'], x_lims=[14, 20], y_lims=[-1.5, 1.5],\n",
    "                               x_label='Time, s', y_label='Linear acceleration, m/s^2',\n",
    "                               title='Accelerometer OX: Raw vs Filtered',\n",
    "                               zoom_axes = [0.18, 0.18, 0.15, 0.15],\n",
    "                               filename='graphs/accX_filtered'\n",
    "                              )"
   ]
  },
  {
   "cell_type": "code",
   "execution_count": null,
   "id": "8271d372-1ee1-4c12-b12c-02fdae981dc8",
   "metadata": {},
   "outputs": [],
   "source": [
    "display_raw_filtered_data_zoom(df=df, x='time', y=['accY', 'accY_filtered'], x_lims=[14, 20], y_lims=[-3, 3],\n",
    "                               x_label='Time, s', y_label='Linear acceleration, m/s^2',\n",
    "                               title='Accelerometer OX: Raw vs Filtered',\n",
    "                               zoom_axes = [0.18, 0.18, 0.15, 0.15])"
   ]
  },
  {
   "cell_type": "code",
   "execution_count": null,
   "id": "7648f6cb-192a-4b75-8b59-6366bb3a7e16",
   "metadata": {},
   "outputs": [],
   "source": [
    "display_raw_filtered_data_zoom(df=df, x='time', y=['accZ', 'accZ_filtered'], x_lims=[14, 20], y_lims=[4, 20],\n",
    "                               x_label='Time, s', y_label='Linear acceleration, m/s^2',\n",
    "                               title='gForce OX: Raw vs Filtered',\n",
    "                               zoom_axes = [0.30, 0.65, 0.15, 0.15])"
   ]
  },
  {
   "cell_type": "markdown",
   "id": "52a1e46d-21af-4852-9374-86eeace274d7",
   "metadata": {
    "tags": []
   },
   "source": [
    "##### Zoom gyroscope graphs to better see the results of filtering"
   ]
  },
  {
   "cell_type": "code",
   "execution_count": null,
   "id": "99eb5d78-e039-4b11-9924-e01fabdc2c87",
   "metadata": {},
   "outputs": [],
   "source": [
    "display_raw_filtered_data_zoom(df=df, x='time', y=['gyrX', 'gyrX_filtered'], x_lims=[14, 20], y_lims = [-0.6, 1],\n",
    "                               x_label='Time, s', y_label='Angular velocity, rad/s',\n",
    "                               title='Gyroscope OX: Raw vs Filtered',\n",
    "                               zoom_axes = [0.18, 0.18, 0.15, 0.15])"
   ]
  },
  {
   "cell_type": "code",
   "execution_count": null,
   "id": "bad0d9c1-4559-479b-ab88-e027b19aa70c",
   "metadata": {},
   "outputs": [],
   "source": [
    "display_raw_filtered_data_zoom(df=df, x='time', y=['gyrY', 'gyrY_filtered'], x_lims=[14, 20], y_lims = [-0.6, 0.75],\n",
    "                               x_label='Time, s', y_label='Angular velocity, rad/s',\n",
    "                               title='Gyroscope OY: Raw vs Filtered',\n",
    "                               zoom_axes = [0.20, 0.50, 0.15, 0.15])"
   ]
  },
  {
   "cell_type": "code",
   "execution_count": null,
   "id": "bc4930bb-9262-4da1-bb28-bfe5e26ce256",
   "metadata": {},
   "outputs": [],
   "source": [
    "display_raw_filtered_data_zoom(df=df, x='time', y=['gyrZ', 'gyrZ_filtered'], x_lims=[14, 20], y_lims = [-1, 1.2],\n",
    "                               x_label='Time, s', y_label='Angular velocity, rad/s',\n",
    "                               title='Gyroscope OZ: Raw vs Filtered',\n",
    "                               zoom_axes = [0.18, 0.18, 0.15, 0.15],\n",
    "                               filename='graphs/gyrZ_filtered'\n",
    "                              )"
   ]
  },
  {
   "cell_type": "markdown",
   "id": "382ea784-2f35-4a82-b1fa-bbf5b55e8446",
   "metadata": {
    "jp-MarkdownHeadingCollapsed": true,
    "tags": []
   },
   "source": [
    "## Exploratory Data Analysis"
   ]
  },
  {
   "cell_type": "markdown",
   "id": "55aadf73-6b45-48a1-aadb-eeb8c074ec27",
   "metadata": {
    "tags": []
   },
   "source": [
    "### Analyzing class label distribution"
   ]
  },
  {
   "cell_type": "code",
   "execution_count": null,
   "id": "48a39c3b-8523-4928-9f60-c4dfbc257148",
   "metadata": {},
   "outputs": [],
   "source": [
    "sns.set_style('whitegrid')\n",
    "plt.figure(figsize=(10, 5))\n",
    "sns.countplot(data=df, x='activity')\n",
    "plt.title('Number of samples by activity')\n",
    "plt.show()"
   ]
  },
  {
   "cell_type": "code",
   "execution_count": null,
   "id": "95f7b717-464e-4546-a5ec-68fbfcccc255",
   "metadata": {},
   "outputs": [],
   "source": [
    "display_pie_chart(df=df, column_name='activity', title='Class label distribution')"
   ]
  },
  {
   "cell_type": "markdown",
   "id": "a31f329f-c5ec-4c0b-bd48-0ade58bc8b5f",
   "metadata": {},
   "source": [
    "#### Remove 'No activity' class ('activity' column) from df "
   ]
  },
  {
   "cell_type": "code",
   "execution_count": null,
   "id": "3cad768e-de4f-47ea-875b-dfe658d667a0",
   "metadata": {},
   "outputs": [],
   "source": [
    "df.info()"
   ]
  },
  {
   "cell_type": "code",
   "execution_count": null,
   "id": "e7fab7b3-9063-40d8-be17-b0263424db32",
   "metadata": {},
   "outputs": [],
   "source": [
    "df = df[df['activity'] != 'No activity']\n",
    "df.info()"
   ]
  },
  {
   "cell_type": "code",
   "execution_count": null,
   "id": "7671025a-e5b0-4308-92a5-afca1af5a2c0",
   "metadata": {},
   "outputs": [],
   "source": [
    "plt.rcdefaults()\n",
    "sns.set_style('whitegrid')\n",
    "plt.figure(figsize=(10, 5))\n",
    "sns.countplot(data=df, x='activity')\n",
    "plt.title('Number of samples by activity')\n",
    "plt.show()"
   ]
  },
  {
   "cell_type": "code",
   "execution_count": null,
   "id": "aa033040-5334-4f81-8806-d22a5366b83d",
   "metadata": {},
   "outputs": [],
   "source": [
    "activity_counts = df['activity'].value_counts()\n",
    "print(activity_counts)"
   ]
  },
  {
   "cell_type": "code",
   "execution_count": null,
   "id": "738f2fc6-b1b9-42c4-a94c-cc1bb0a73278",
   "metadata": {},
   "outputs": [],
   "source": [
    "display_pie_chart(df=df, column_name='activity', title='Class label distribution')"
   ]
  },
  {
   "cell_type": "markdown",
   "id": "7d1b90a2-e49b-4e8f-990b-d4a5120cb2ef",
   "metadata": {
    "tags": []
   },
   "source": [
    "#### Perform undersampling to get a balanced dataframe"
   ]
  },
  {
   "cell_type": "code",
   "execution_count": null,
   "id": "b2bc83a7-6e3f-43cf-8de9-785ef6e6241d",
   "metadata": {},
   "outputs": [],
   "source": [
    "# First, calculate the minimum number of samples across all classes\n",
    "min_samples = df['activity'].value_counts().min()\n",
    "\n",
    "\n",
    "# Initialize an empty DataFrame to store the undersampled data\n",
    "undersampled_df = pd.DataFrame()\n",
    "\n",
    "# Loop through each unique activity class and select the first min_samples for each class\n",
    "for activity_class in df['activity'].unique():\n",
    "    class_subset = df[df['activity'] == activity_class].iloc[:min_samples]\n",
    "    undersampled_df = pd.concat([undersampled_df, class_subset])\n",
    "\n",
    "undersampled_df.head()"
   ]
  },
  {
   "cell_type": "code",
   "execution_count": null,
   "id": "eea27868-f4f4-4e1e-809b-5140d0ea8f89",
   "metadata": {},
   "outputs": [],
   "source": [
    "undersampled_df.reset_index(inplace=True)\n",
    "undersampled_df.info()"
   ]
  },
  {
   "cell_type": "markdown",
   "id": "4397a53d-67fb-42b6-b41e-bb99acb0c86e",
   "metadata": {
    "tags": []
   },
   "source": [
    "#### View the labels distribution after undersampling"
   ]
  },
  {
   "cell_type": "code",
   "execution_count": null,
   "id": "0188f1a2-310e-4e53-bbc7-4e538d875f01",
   "metadata": {},
   "outputs": [],
   "source": [
    "activity_counts = undersampled_df['activity'].value_counts()\n",
    "print(activity_counts)"
   ]
  },
  {
   "cell_type": "code",
   "execution_count": null,
   "id": "044b857e-1299-4310-bd26-e6a9b5158355",
   "metadata": {},
   "outputs": [],
   "source": [
    "plt.rcdefaults()\n",
    "sns.set_style('whitegrid')\n",
    "sns.set_style('whitegrid')\n",
    "plt.figure(figsize=(10, 5))\n",
    "sns.countplot(data=undersampled_df, x='activity')\n",
    "plt.title('Number of samples by activity')\n",
    "plt.savefig('graphs/countplot.png')\n",
    "plt.show()"
   ]
  },
  {
   "cell_type": "code",
   "execution_count": null,
   "id": "3a9b4dcb-b898-493b-9c1f-1058c020f95b",
   "metadata": {},
   "outputs": [],
   "source": [
    "display_pie_chart(df=undersampled_df, column_name='activity', title='Class label distribution')"
   ]
  },
  {
   "cell_type": "markdown",
   "id": "9a741af0-8cd9-4b28-a0e7-fd11449482cc",
   "metadata": {
    "jp-MarkdownHeadingCollapsed": true,
    "tags": []
   },
   "source": [
    "### Observe activity-wise distribution of the signal data along x, y and z axes"
   ]
  },
  {
   "cell_type": "code",
   "execution_count": null,
   "id": "bece31f1-3939-4c3c-a9c0-c8bc29490164",
   "metadata": {},
   "outputs": [],
   "source": [
    "undersampled_df.head()"
   ]
  },
  {
   "cell_type": "markdown",
   "id": "3abddaa1-9f58-4cf8-a1ce-16194790a6df",
   "metadata": {
    "jp-MarkdownHeadingCollapsed": true,
    "tags": []
   },
   "source": [
    "#### Accelerometer"
   ]
  },
  {
   "cell_type": "markdown",
   "id": "0d996e0c-e842-4baf-bbd3-e4d7fdaf332f",
   "metadata": {},
   "source": [
    "##### accX"
   ]
  },
  {
   "cell_type": "code",
   "execution_count": null,
   "id": "4d3e8e34-1f8f-4d21-b6e3-41d94b754f83",
   "metadata": {},
   "outputs": [],
   "source": [
    "plt.rcdefaults()\n",
    "sns.FacetGrid(data=undersampled_df, hue='activity', height=10).map(sns.distplot, 'accX_filtered').add_legend()\n",
    "plt.grid(alpha=0.5)\n",
    "plt.savefig('graphs/accX_distplot.png', bbox_inches='tight')"
   ]
  },
  {
   "cell_type": "markdown",
   "id": "c7efc5bb-cae1-4630-8077-3b1a04e26bd9",
   "metadata": {},
   "source": [
    "##### accY"
   ]
  },
  {
   "cell_type": "code",
   "execution_count": null,
   "id": "2c2d875a-68ba-42e6-a34a-5a402d444fb8",
   "metadata": {},
   "outputs": [],
   "source": [
    "sns.FacetGrid(data=undersampled_df, hue='activity', height=10).map(sns.distplot, 'accY_filtered').add_legend()\n",
    "plt.grid(alpha=0.5)\n",
    "plt.savefig('graphs/accY_distplot.png', bbox_inches='tight')"
   ]
  },
  {
   "cell_type": "markdown",
   "id": "e34fb7d6-867c-494d-bcae-53b98773d3d8",
   "metadata": {},
   "source": [
    "##### accZ"
   ]
  },
  {
   "cell_type": "code",
   "execution_count": null,
   "id": "3218e310-c06d-420b-8f9f-6cbaa0c929b5",
   "metadata": {},
   "outputs": [],
   "source": [
    "sns.FacetGrid(data=undersampled_df, hue='activity', height=10).map(sns.distplot, 'accZ_filtered').add_legend()\n",
    "plt.grid(alpha=0.5)\n",
    "plt.savefig('graphs/accZ_distplot.png', bbox_inches='tight')"
   ]
  },
  {
   "cell_type": "markdown",
   "id": "b87d62d8-3f04-4c0a-8c09-71f3b949a1ca",
   "metadata": {},
   "source": [
    "#### Gyroscope"
   ]
  },
  {
   "cell_type": "markdown",
   "id": "8be96108-fd77-49b6-ada0-5e15f5d0f9d3",
   "metadata": {},
   "source": [
    "##### gyrX"
   ]
  },
  {
   "cell_type": "code",
   "execution_count": null,
   "id": "9b8a8425-4c61-4776-a4a7-3500f8e3c0e0",
   "metadata": {},
   "outputs": [],
   "source": [
    "sns.FacetGrid(data=undersampled_df, hue='activity', height=10).map(sns.distplot, 'gyrX_filtered').add_legend()\n",
    "plt.grid(alpha=0.5)\n",
    "plt.savefig('graphs/gyrX_distplot.png', bbox_inches='tight')"
   ]
  },
  {
   "cell_type": "markdown",
   "id": "9af8f1a2-e22e-4029-b9cb-47755d303194",
   "metadata": {},
   "source": [
    "##### gyrY"
   ]
  },
  {
   "cell_type": "code",
   "execution_count": null,
   "id": "2b374922-a2d9-4371-9306-23e9ecff2376",
   "metadata": {},
   "outputs": [],
   "source": [
    "sns.FacetGrid(data=undersampled_df, hue='activity', height=10).map(sns.distplot, 'gyrY_filtered').add_legend()\n",
    "plt.grid(alpha=0.5)\n",
    "plt.savefig('graphs/gyrY_distplot.png', bbox_inches='tight')"
   ]
  },
  {
   "cell_type": "markdown",
   "id": "23995135-b260-4070-ad3a-21ddec1f37ef",
   "metadata": {},
   "source": [
    "##### gyrZ"
   ]
  },
  {
   "cell_type": "code",
   "execution_count": null,
   "id": "a3bc4574-5e48-4fba-9b94-db18aa66b1af",
   "metadata": {},
   "outputs": [],
   "source": [
    "sns.FacetGrid(data=undersampled_df, hue='activity', height=10).map(sns.distplot, 'gyrZ_filtered').add_legend()\n",
    "plt.grid(alpha=0.5)\n",
    "plt.savefig('graphs/gyrZ_distplot.png', bbox_inches='tight')"
   ]
  },
  {
   "cell_type": "markdown",
   "id": "796dcdcf-3e57-45e4-8754-7a31cf4a5add",
   "metadata": {
    "tags": []
   },
   "source": [
    "### Build a correlation matrix and remove certain axes of the accelerometer or gyroscope"
   ]
  },
  {
   "cell_type": "code",
   "execution_count": null,
   "id": "0a7297cc-c224-4317-a790-443242cb9d95",
   "metadata": {},
   "outputs": [],
   "source": [
    "undersampled_df.drop('index', axis=1, inplace=True)\n",
    "undersampled_df.head()"
   ]
  },
  {
   "cell_type": "code",
   "execution_count": null,
   "id": "460f5f4c-d203-4bbb-bffb-06fb104c47d6",
   "metadata": {},
   "outputs": [],
   "source": [
    "sel_columns = ['time', 'accX_filtered', 'accY_filtered', 'accZ_filtered', 'gyrX_filtered', 'gyrY_filtered', 'gyrZ_filtered']\n",
    "\n",
    "# Extract the selected columns from the DataFrame\n",
    "selected_data = undersampled_df[sel_columns]\n",
    "\n",
    "# Calculate the correlation matrix for the selected columns\n",
    "corr_matrix = selected_data.corr()\n",
    "\n",
    "# Create a heatmap using seaborn\n",
    "plt.figure(figsize=(10, 10))\n",
    "sns.heatmap(corr_matrix, annot=True, cmap='coolwarm', center=0)\n",
    "plt.title('Correlation Matrix Heatmap')\n",
    "plt.savefig('graphs/correlation_matrix.png')\n",
    "plt.show()"
   ]
  },
  {
   "cell_type": "code",
   "execution_count": null,
   "id": "aa0ba853-42dd-4b27-a40e-74ab9156220c",
   "metadata": {},
   "outputs": [],
   "source": [
    "filtered_columns = ['time', 'accX_filtered', 'accY_filtered', 'accZ_filtered', 'gyrZ_filtered', 'activity']\n",
    "filtered_df = undersampled_df[filtered_columns]\n",
    "filtered_df.head()"
   ]
  },
  {
   "cell_type": "code",
   "execution_count": null,
   "id": "dbcf2f73-4a07-4f7b-9eb5-b9aee049f836",
   "metadata": {},
   "outputs": [],
   "source": [
    "filtered_df.info()"
   ]
  },
  {
   "cell_type": "markdown",
   "id": "9e067677-14fc-406e-a899-a50bfc4ed490",
   "metadata": {
    "jp-MarkdownHeadingCollapsed": true,
    "tags": []
   },
   "source": [
    "## Data Transformation"
   ]
  },
  {
   "cell_type": "code",
   "execution_count": null,
   "id": "05ee3984-7359-4c57-8b0b-6f887de44b48",
   "metadata": {},
   "outputs": [],
   "source": [
    "# Calculate the number of data points within a 2-second window\n",
    "sampling_frequency =  1.0 / filtered_df['time'].diff().mean()  # Hz\n",
    "window_duration = 2 # seconds\n",
    "window_size = ceil(sampling_frequency * window_duration)\n",
    "step_size = window_size // 2\n",
    "\n",
    "# Create a list to store the windowed dataframes\n",
    "windowed_dfs = []\n",
    "\n",
    "print(f\"window size = {window_size}\")\n",
    "\n",
    "windowed_dict = {'start_time': [], 'end_time': [], 'accX': [], 'accY': [], 'accZ': [], 'gyrZ': [], 'activity': []}\n",
    "# Divide the entire dataframe into 2-second windows\n",
    "for i in range(0, len(filtered_df), step_size):\n",
    "    window_df = filtered_df.iloc[i:i + window_size]\n",
    "    \n",
    "    windowed_dict['start_time'].append(window_df['time'].iloc[0])\n",
    "    windowed_dict['end_time'].append(window_df['time'].iloc[-1])\n",
    "    windowed_dict['accX'].append(window_df['accX_filtered'].values)\n",
    "    windowed_dict['accY'].append(window_df['accY_filtered'].values)\n",
    "    windowed_dict['accZ'].append(window_df['accZ_filtered'].values)\n",
    "    \n",
    "    windowed_dict['gyrZ'].append(window_df['gyrZ_filtered'].values)\n",
    "    \n",
    "    # Determine the most frequent activity in the window\n",
    "    most_frequent_activity = window_df['activity'].value_counts().idxmax()\n",
    "    label = stats.mode(filtered_df['activity'][i: i + window_size])[0][0]\n",
    "    if label != most_frequent_activity:\n",
    "        print(\"label != most_frequent_activity\")\n",
    "        print(f'most_frequent_activity = {most_frequent_activity}')\n",
    "        print(f'label = {label}')\n",
    "        break\n",
    "    # Assign the most frequent activity to all rows in the window\n",
    "    windowed_dict['activity'].append(most_frequent_activity)\n",
    "    \n",
    "    windowed_dfs.append(window_df)\n",
    "\n",
    "windowed_df = pd.DataFrame.from_dict(windowed_dict)\n",
    "print(f\"len(windowed_dfs) = {len(windowed_dfs)}\")\n",
    "print(f\"len(windowed_df) = {len(windowed_df)}\")"
   ]
  },
  {
   "cell_type": "code",
   "execution_count": null,
   "id": "d35f381a-f5c5-48d4-a09e-7a5b3e002091",
   "metadata": {},
   "outputs": [],
   "source": [
    "sampling_frequency =  1.0 / filtered_df['time'].diff().mean()  # Hz\n",
    "print(f\"sampling_frequency = {sampling_frequency: .3f} Hz\")"
   ]
  },
  {
   "cell_type": "code",
   "execution_count": null,
   "id": "b11498ce-e472-42f0-ae8c-9d5dccb2f9d0",
   "metadata": {},
   "outputs": [],
   "source": [
    "windowed_df.head()"
   ]
  },
  {
   "cell_type": "code",
   "execution_count": null,
   "id": "bfecb488-2293-4fb9-988a-b7fac6ca4590",
   "metadata": {},
   "outputs": [],
   "source": [
    "windowed_df.info()"
   ]
  },
  {
   "cell_type": "code",
   "execution_count": null,
   "id": "eefd4ecd-550f-453b-a2a8-258b53b4a1e4",
   "metadata": {},
   "outputs": [],
   "source": [
    "windowed_df[-1:]"
   ]
  },
  {
   "cell_type": "code",
   "execution_count": null,
   "id": "a900877a-ad5d-4b68-8722-1e07c3e13dd4",
   "metadata": {},
   "outputs": [],
   "source": [
    "print(f'len(filtered_df) = {len(filtered_df)}')\n",
    "print(f'len(windowed_df) = {len(windowed_df)}')"
   ]
  },
  {
   "cell_type": "markdown",
   "id": "9b04fd62-496c-46ec-a043-ec50e2dbf64d",
   "metadata": {},
   "source": [
    "### View the results of windowing"
   ]
  },
  {
   "cell_type": "code",
   "execution_count": null,
   "id": "6cdef74e-417d-43dc-9a5d-657fe12a2aca",
   "metadata": {},
   "outputs": [],
   "source": [
    "sns.set_palette(\"Set3\")\n",
    "windowed_pie_chart(original_df=filtered_df, windowed_df=windowed_df, column='activity')"
   ]
  },
  {
   "cell_type": "markdown",
   "id": "0801eb6f-b427-4714-8c5e-f62a97d2cea2",
   "metadata": {},
   "source": [
    "## Feature Engineering"
   ]
  },
  {
   "cell_type": "markdown",
   "id": "2591767d-3e33-42c6-a69d-9c00efa2fa8e",
   "metadata": {},
   "source": [
    "#### In the stage 1 of the feature engineering, we will build a total of 12 simple statistical features\n",
    "1. mean\n",
    "2. standard deviation\n",
    "3. average absolute deviation\n",
    "4. minimum value\n",
    "5. maximum value\n",
    "6. difference of maximum and minimum values\n",
    "7. median\n",
    "8. interquartile range\n",
    "9. negative values count\n",
    "10. positive values count\n",
    "11. skewness = assymetry\n",
    "12. kurtosis"
   ]
  },
  {
   "cell_type": "code",
   "execution_count": 28,
   "id": "2747fc6f-3615-4c7c-8a5e-47d9c0636755",
   "metadata": {},
   "outputs": [
    {
     "data": {
      "text/html": [
       "<div>\n",
       "<style scoped>\n",
       "    .dataframe tbody tr th:only-of-type {\n",
       "        vertical-align: middle;\n",
       "    }\n",
       "\n",
       "    .dataframe tbody tr th {\n",
       "        vertical-align: top;\n",
       "    }\n",
       "\n",
       "    .dataframe thead th {\n",
       "        text-align: right;\n",
       "    }\n",
       "</style>\n",
       "<table border=\"1\" class=\"dataframe\">\n",
       "  <thead>\n",
       "    <tr style=\"text-align: right;\">\n",
       "      <th></th>\n",
       "      <th>start_time</th>\n",
       "      <th>end_time</th>\n",
       "      <th>accX</th>\n",
       "      <th>accY</th>\n",
       "      <th>accZ</th>\n",
       "      <th>gyrZ</th>\n",
       "      <th>activity</th>\n",
       "    </tr>\n",
       "  </thead>\n",
       "  <tbody>\n",
       "    <tr>\n",
       "      <th>0</th>\n",
       "      <td>4.774</td>\n",
       "      <td>6.697</td>\n",
       "      <td>[0.054000003000000005, 0.065025002, 0.06502500...</td>\n",
       "      <td>[-0.265500015, -0.265500015, -0.265500015, -0....</td>\n",
       "      <td>[9.780525, 9.644025500000001, 9.56400100000000...</td>\n",
       "      <td>[0.00680625, -0.03911875, -0.0719125, -0.07191...</td>\n",
       "      <td>Squat</td>\n",
       "    </tr>\n",
       "    <tr>\n",
       "      <th>1</th>\n",
       "      <td>5.776</td>\n",
       "      <td>7.683</td>\n",
       "      <td>[0.119025005, 0.119025005, 0.0785250065, 0.002...</td>\n",
       "      <td>[0.284475015, 0.55350001, 0.766500025, 0.76650...</td>\n",
       "      <td>[11.6035505, 11.6300255, 11.749500000000001, 1...</td>\n",
       "      <td>[0.14403125, 0.127875, 0.127875, 0.05218125, -...</td>\n",
       "      <td>Squat</td>\n",
       "    </tr>\n",
       "  </tbody>\n",
       "</table>\n",
       "</div>"
      ],
      "text/plain": [
       "   start_time  end_time                                               accX  \\\n",
       "0       4.774     6.697  [0.054000003000000005, 0.065025002, 0.06502500...   \n",
       "1       5.776     7.683  [0.119025005, 0.119025005, 0.0785250065, 0.002...   \n",
       "\n",
       "                                                accY  \\\n",
       "0  [-0.265500015, -0.265500015, -0.265500015, -0....   \n",
       "1  [0.284475015, 0.55350001, 0.766500025, 0.76650...   \n",
       "\n",
       "                                                accZ  \\\n",
       "0  [9.780525, 9.644025500000001, 9.56400100000000...   \n",
       "1  [11.6035505, 11.6300255, 11.749500000000001, 1...   \n",
       "\n",
       "                                                gyrZ activity  \n",
       "0  [0.00680625, -0.03911875, -0.0719125, -0.07191...    Squat  \n",
       "1  [0.14403125, 0.127875, 0.127875, 0.05218125, -...    Squat  "
      ]
     },
     "execution_count": 28,
     "metadata": {},
     "output_type": "execute_result"
    }
   ],
   "source": [
    "windowed_df.head(2)"
   ]
  },
  {
   "cell_type": "code",
   "execution_count": 29,
   "id": "da138206-0608-4641-bb70-fb3096c4ad47",
   "metadata": {},
   "outputs": [],
   "source": [
    "functions_list = [\n",
    "    lambda x: x.mean(), # mean\n",
    "    lambda x: x.std(),  # std deviation \n",
    "    lambda x: np.mean(np.absolute(x - np.mean(x))), # avg absolute diff\n",
    "    lambda x: x.min(), # min\n",
    "    lambda x: x.max(), # max\n",
    "    lambda x: x.max() - x.min(), # range = max-min diff\n",
    "    lambda x: np.median(x), # median\n",
    "    lambda x: np.percentile(x, 75) - np.percentile(x, 25), # interquartile range\n",
    "    lambda x: np.sum(x < 0), # negative count\n",
    "    lambda x: np.sum(x > 0), # positive count\n",
    "    lambda x: stats.skew(x), # skewness = assymetry\n",
    "    lambda x: stats.kurtosis(x) # kurtosis\n",
    "]"
   ]
  },
  {
   "cell_type": "code",
   "execution_count": 37,
   "id": "806a3ad7-7b0c-4ec1-8b81-26248113e8a4",
   "metadata": {},
   "outputs": [
    {
     "data": {
      "text/html": [
       "<div>\n",
       "<style scoped>\n",
       "    .dataframe tbody tr th:only-of-type {\n",
       "        vertical-align: middle;\n",
       "    }\n",
       "\n",
       "    .dataframe tbody tr th {\n",
       "        vertical-align: top;\n",
       "    }\n",
       "\n",
       "    .dataframe thead th {\n",
       "        text-align: right;\n",
       "    }\n",
       "</style>\n",
       "<table border=\"1\" class=\"dataframe\">\n",
       "  <thead>\n",
       "    <tr style=\"text-align: right;\">\n",
       "      <th></th>\n",
       "      <th>accX_mean</th>\n",
       "      <th>accY_mean</th>\n",
       "      <th>accZ_mean</th>\n",
       "      <th>gyrZ_mean</th>\n",
       "      <th>accX_std</th>\n",
       "      <th>accY_std</th>\n",
       "      <th>accZ_std</th>\n",
       "      <th>gyrZ_std</th>\n",
       "      <th>accX_aad</th>\n",
       "      <th>accY_aad</th>\n",
       "      <th>...</th>\n",
       "      <th>accZ_pos_count</th>\n",
       "      <th>gyrZ_pos_count</th>\n",
       "      <th>accX_assymetry</th>\n",
       "      <th>accY_assymetry</th>\n",
       "      <th>accZ_assymetry</th>\n",
       "      <th>gyrZ_assymetry</th>\n",
       "      <th>accX_kurtosis</th>\n",
       "      <th>accY_kurtosis</th>\n",
       "      <th>accZ_kurtosis</th>\n",
       "      <th>gyrZ_kurtosis</th>\n",
       "    </tr>\n",
       "  </thead>\n",
       "  <tbody>\n",
       "    <tr>\n",
       "      <th>0</th>\n",
       "      <td>0.204513</td>\n",
       "      <td>0.043750</td>\n",
       "      <td>10.181814</td>\n",
       "      <td>-0.041990</td>\n",
       "      <td>0.191702</td>\n",
       "      <td>0.446751</td>\n",
       "      <td>2.493435</td>\n",
       "      <td>0.173847</td>\n",
       "      <td>0.164112</td>\n",
       "      <td>0.352874</td>\n",
       "      <td>...</td>\n",
       "      <td>62</td>\n",
       "      <td>25</td>\n",
       "      <td>0.889454</td>\n",
       "      <td>0.846221</td>\n",
       "      <td>0.324005</td>\n",
       "      <td>-0.531108</td>\n",
       "      <td>-0.783717</td>\n",
       "      <td>-0.403698</td>\n",
       "      <td>-0.816060</td>\n",
       "      <td>-0.840034</td>\n",
       "    </tr>\n",
       "    <tr>\n",
       "      <th>1</th>\n",
       "      <td>0.339821</td>\n",
       "      <td>0.349124</td>\n",
       "      <td>10.100784</td>\n",
       "      <td>-0.048229</td>\n",
       "      <td>0.211233</td>\n",
       "      <td>0.441290</td>\n",
       "      <td>2.552319</td>\n",
       "      <td>0.316891</td>\n",
       "      <td>0.181807</td>\n",
       "      <td>0.378584</td>\n",
       "      <td>...</td>\n",
       "      <td>62</td>\n",
       "      <td>26</td>\n",
       "      <td>-0.752718</td>\n",
       "      <td>-0.129656</td>\n",
       "      <td>0.268890</td>\n",
       "      <td>0.523141</td>\n",
       "      <td>-0.661552</td>\n",
       "      <td>-1.095923</td>\n",
       "      <td>-0.773074</td>\n",
       "      <td>-0.904146</td>\n",
       "    </tr>\n",
       "    <tr>\n",
       "      <th>2</th>\n",
       "      <td>0.316942</td>\n",
       "      <td>0.815667</td>\n",
       "      <td>9.721920</td>\n",
       "      <td>-0.079716</td>\n",
       "      <td>0.216026</td>\n",
       "      <td>0.908844</td>\n",
       "      <td>2.554711</td>\n",
       "      <td>0.334650</td>\n",
       "      <td>0.187870</td>\n",
       "      <td>0.699350</td>\n",
       "      <td>...</td>\n",
       "      <td>62</td>\n",
       "      <td>25</td>\n",
       "      <td>-0.348733</td>\n",
       "      <td>0.969841</td>\n",
       "      <td>0.788509</td>\n",
       "      <td>0.564838</td>\n",
       "      <td>-0.898058</td>\n",
       "      <td>0.030919</td>\n",
       "      <td>-0.327959</td>\n",
       "      <td>-0.866246</td>\n",
       "    </tr>\n",
       "    <tr>\n",
       "      <th>3</th>\n",
       "      <td>0.193883</td>\n",
       "      <td>0.900957</td>\n",
       "      <td>9.749154</td>\n",
       "      <td>-0.026190</td>\n",
       "      <td>0.288013</td>\n",
       "      <td>0.857635</td>\n",
       "      <td>3.219180</td>\n",
       "      <td>0.307127</td>\n",
       "      <td>0.219851</td>\n",
       "      <td>0.704377</td>\n",
       "      <td>...</td>\n",
       "      <td>62</td>\n",
       "      <td>30</td>\n",
       "      <td>-0.037762</td>\n",
       "      <td>1.113915</td>\n",
       "      <td>0.474904</td>\n",
       "      <td>0.199509</td>\n",
       "      <td>0.485459</td>\n",
       "      <td>-0.065963</td>\n",
       "      <td>-1.263340</td>\n",
       "      <td>-1.162199</td>\n",
       "    </tr>\n",
       "    <tr>\n",
       "      <th>4</th>\n",
       "      <td>0.037838</td>\n",
       "      <td>0.780090</td>\n",
       "      <td>9.024925</td>\n",
       "      <td>0.038186</td>\n",
       "      <td>0.278074</td>\n",
       "      <td>0.454869</td>\n",
       "      <td>2.237759</td>\n",
       "      <td>0.241641</td>\n",
       "      <td>0.218381</td>\n",
       "      <td>0.408583</td>\n",
       "      <td>...</td>\n",
       "      <td>62</td>\n",
       "      <td>31</td>\n",
       "      <td>0.504361</td>\n",
       "      <td>-0.236346</td>\n",
       "      <td>0.917411</td>\n",
       "      <td>0.420765</td>\n",
       "      <td>1.228187</td>\n",
       "      <td>-1.453429</td>\n",
       "      <td>0.955438</td>\n",
       "      <td>-0.839217</td>\n",
       "    </tr>\n",
       "  </tbody>\n",
       "</table>\n",
       "<p>5 rows × 48 columns</p>\n",
       "</div>"
      ],
      "text/plain": [
       "   accX_mean  accY_mean  accZ_mean  gyrZ_mean  accX_std  accY_std  accZ_std  \\\n",
       "0   0.204513   0.043750  10.181814  -0.041990  0.191702  0.446751  2.493435   \n",
       "1   0.339821   0.349124  10.100784  -0.048229  0.211233  0.441290  2.552319   \n",
       "2   0.316942   0.815667   9.721920  -0.079716  0.216026  0.908844  2.554711   \n",
       "3   0.193883   0.900957   9.749154  -0.026190  0.288013  0.857635  3.219180   \n",
       "4   0.037838   0.780090   9.024925   0.038186  0.278074  0.454869  2.237759   \n",
       "\n",
       "   gyrZ_std  accX_aad  accY_aad  ...  accZ_pos_count  gyrZ_pos_count  \\\n",
       "0  0.173847  0.164112  0.352874  ...              62              25   \n",
       "1  0.316891  0.181807  0.378584  ...              62              26   \n",
       "2  0.334650  0.187870  0.699350  ...              62              25   \n",
       "3  0.307127  0.219851  0.704377  ...              62              30   \n",
       "4  0.241641  0.218381  0.408583  ...              62              31   \n",
       "\n",
       "   accX_assymetry  accY_assymetry  accZ_assymetry  gyrZ_assymetry  \\\n",
       "0        0.889454        0.846221        0.324005       -0.531108   \n",
       "1       -0.752718       -0.129656        0.268890        0.523141   \n",
       "2       -0.348733        0.969841        0.788509        0.564838   \n",
       "3       -0.037762        1.113915        0.474904        0.199509   \n",
       "4        0.504361       -0.236346        0.917411        0.420765   \n",
       "\n",
       "   accX_kurtosis  accY_kurtosis  accZ_kurtosis  gyrZ_kurtosis  \n",
       "0      -0.783717      -0.403698      -0.816060      -0.840034  \n",
       "1      -0.661552      -1.095923      -0.773074      -0.904146  \n",
       "2      -0.898058       0.030919      -0.327959      -0.866246  \n",
       "3       0.485459      -0.065963      -1.263340      -1.162199  \n",
       "4       1.228187      -1.453429       0.955438      -0.839217  \n",
       "\n",
       "[5 rows x 48 columns]"
      ]
     },
     "execution_count": 37,
     "metadata": {},
     "output_type": "execute_result"
    }
   ],
   "source": [
    "X_train = get_statistical_measures_df(windowed_data_df=windowed_df, \n",
    "                                      functions=functions_list, \n",
    "                                      data_df_columns=['accX', 'accY', 'accZ', 'gyrZ'], \n",
    "                                      result_df_columns=['mean', 'std', 'aad', 'min', 'max', 'range', 'median', 'iqr', 'neg_count', 'pos_count', 'assymetry', 'kurtosis'])\n",
    "\n",
    "y_train = windowed_df['activity'].values\n",
    "X_train.head()"
   ]
  },
  {
   "cell_type": "code",
   "execution_count": 38,
   "id": "04ece3a9-e82e-4947-8593-8111adfb40ee",
   "metadata": {},
   "outputs": [
    {
     "name": "stdout",
     "output_type": "stream",
     "text": [
      "<class 'pandas.core.frame.DataFrame'>\n",
      "RangeIndex: 1799 entries, 0 to 1798\n",
      "Data columns (total 48 columns):\n",
      " #   Column          Non-Null Count  Dtype  \n",
      "---  ------          --------------  -----  \n",
      " 0   accX_mean       1799 non-null   float64\n",
      " 1   accY_mean       1799 non-null   float64\n",
      " 2   accZ_mean       1799 non-null   float64\n",
      " 3   gyrZ_mean       1799 non-null   float64\n",
      " 4   accX_std        1799 non-null   float64\n",
      " 5   accY_std        1799 non-null   float64\n",
      " 6   accZ_std        1799 non-null   float64\n",
      " 7   gyrZ_std        1799 non-null   float64\n",
      " 8   accX_aad        1799 non-null   float64\n",
      " 9   accY_aad        1799 non-null   float64\n",
      " 10  accZ_aad        1799 non-null   float64\n",
      " 11  gyrZ_aad        1799 non-null   float64\n",
      " 12  accX_min        1799 non-null   float64\n",
      " 13  accY_min        1799 non-null   float64\n",
      " 14  accZ_min        1799 non-null   float64\n",
      " 15  gyrZ_min        1799 non-null   float64\n",
      " 16  accX_max        1799 non-null   float64\n",
      " 17  accY_max        1799 non-null   float64\n",
      " 18  accZ_max        1799 non-null   float64\n",
      " 19  gyrZ_max        1799 non-null   float64\n",
      " 20  accX_range      1799 non-null   float64\n",
      " 21  accY_range      1799 non-null   float64\n",
      " 22  accZ_range      1799 non-null   float64\n",
      " 23  gyrZ_range      1799 non-null   float64\n",
      " 24  accX_median     1799 non-null   float64\n",
      " 25  accY_median     1799 non-null   float64\n",
      " 26  accZ_median     1799 non-null   float64\n",
      " 27  gyrZ_median     1799 non-null   float64\n",
      " 28  accX_iqr        1799 non-null   float64\n",
      " 29  accY_iqr        1799 non-null   float64\n",
      " 30  accZ_iqr        1799 non-null   float64\n",
      " 31  gyrZ_iqr        1799 non-null   float64\n",
      " 32  accX_neg_count  1799 non-null   int32  \n",
      " 33  accY_neg_count  1799 non-null   int32  \n",
      " 34  accZ_neg_count  1799 non-null   int32  \n",
      " 35  gyrZ_neg_count  1799 non-null   int32  \n",
      " 36  accX_pos_count  1799 non-null   int32  \n",
      " 37  accY_pos_count  1799 non-null   int32  \n",
      " 38  accZ_pos_count  1799 non-null   int32  \n",
      " 39  gyrZ_pos_count  1799 non-null   int32  \n",
      " 40  accX_assymetry  1799 non-null   float64\n",
      " 41  accY_assymetry  1799 non-null   float64\n",
      " 42  accZ_assymetry  1799 non-null   float64\n",
      " 43  gyrZ_assymetry  1799 non-null   float64\n",
      " 44  accX_kurtosis   1799 non-null   float64\n",
      " 45  accY_kurtosis   1799 non-null   float64\n",
      " 46  accZ_kurtosis   1799 non-null   float64\n",
      " 47  gyrZ_kurtosis   1799 non-null   float64\n",
      "dtypes: float64(40), int32(8)\n",
      "memory usage: 618.5 KB\n"
     ]
    }
   ],
   "source": [
    "X_train.info()"
   ]
  },
  {
   "cell_type": "code",
   "execution_count": 39,
   "id": "f840317f-eb67-4dd6-987e-d3e5e4fe04b5",
   "metadata": {},
   "outputs": [
    {
     "data": {
      "text/plain": [
       "array(['Squat', 'Squat', 'Squat', 'Squat', 'Squat'], dtype=object)"
      ]
     },
     "execution_count": 39,
     "metadata": {},
     "output_type": "execute_result"
    }
   ],
   "source": [
    "y_train[:5]"
   ]
  },
  {
   "cell_type": "code",
   "execution_count": 40,
   "id": "bbe4d4e9-da54-4549-8864-40f75e6016c6",
   "metadata": {},
   "outputs": [
    {
     "name": "stdout",
     "output_type": "stream",
     "text": [
      "len(X_train) = 1799\n",
      "len(y_train) = 1799\n"
     ]
    }
   ],
   "source": [
    "print(f\"len(X_train) = {len(X_train)}\")\n",
    "print(f\"len(y_train) = {len(y_train)}\")"
   ]
  },
  {
   "cell_type": "markdown",
   "id": "07c53a7f-250f-46d5-b2f7-552d5ba05cd1",
   "metadata": {
    "jp-MarkdownHeadingCollapsed": true,
    "tags": []
   },
   "source": [
    "# Work with test data"
   ]
  },
  {
   "cell_type": "code",
   "execution_count": null,
   "id": "a0e35de0-d1c5-41f1-b0ff-7bad93f0ed9d",
   "metadata": {},
   "outputs": [],
   "source": [
    "test_df = pd.read_csv('data/40_Hz/concatenated_data/All/Test_activities_1_2023-08-23.csv')\n",
    "test_df.head()"
   ]
  },
  {
   "cell_type": "code",
   "execution_count": null,
   "id": "f85cf2ad-c3a8-4dbf-8745-e8a660d4a883",
   "metadata": {},
   "outputs": [],
   "source": [
    "test_df.info()"
   ]
  },
  {
   "cell_type": "markdown",
   "id": "dc1d8895-6717-4630-83f8-650b0999bf2e",
   "metadata": {},
   "source": [
    "## Exploring measurement period and frequency stability"
   ]
  },
  {
   "cell_type": "code",
   "execution_count": null,
   "id": "22baf293-556d-48b9-9836-8670d6d73d9c",
   "metadata": {},
   "outputs": [],
   "source": [
    "time_diffs = test_df['time'].diff()\n",
    "freq = 1.0 / time_diffs.mean()\n",
    "print(f\"Measurement time = {test_df.iloc[-1]['time'] - test_df.iloc[0]['time']} s\")\n",
    "print(f\"Number of measurements (number of rows in the data set) = {len(test_df)}\")\n",
    "print(f\"Average measurement period = {time_diffs.mean():.3f} s\")\n",
    "print(f\"Average frequency of measurement = {freq:.3f} Hz\")"
   ]
  },
  {
   "cell_type": "code",
   "execution_count": null,
   "id": "e274d977-0f44-4106-8bf3-8f4bf4948540",
   "metadata": {},
   "outputs": [],
   "source": [
    "time_measurement_df = get_measurement_time_df(test_df)\n",
    "time_measurement_df.head()"
   ]
  },
  {
   "cell_type": "code",
   "execution_count": null,
   "id": "b187b633-2301-412d-8f68-99381be91c71",
   "metadata": {},
   "outputs": [],
   "source": [
    "fig, ax = plt.subplots(figsize=(12, 4))\n",
    "ax.set_title(f'Stability of Data Collection (Raw Data)\\nAverage frequency: {freq:.3f} Hz')\n",
    "ax.set_ylabel('measurement time, s')\n",
    "sns.lineplot(x=range(len(time_measurement_df['measurement_time'])), \n",
    "             y=time_measurement_df['measurement_time'])\n",
    "plt.savefig('graphs/train_data_collection_stability.png')\n",
    "plt.show()"
   ]
  },
  {
   "cell_type": "code",
   "execution_count": null,
   "id": "ff5bebbe-b4d4-4fb3-8414-7078eaa354da",
   "metadata": {},
   "outputs": [],
   "source": [
    "len(time_measurement_df[time_measurement_df['measurement_time'] <= 0.040])"
   ]
  },
  {
   "cell_type": "code",
   "execution_count": null,
   "id": "13669fca-6939-4542-8080-ba165a48f2aa",
   "metadata": {},
   "outputs": [],
   "source": [
    "len(test_df[test_df['time'].diff() > 0.040])"
   ]
  }
 ],
 "metadata": {
  "kernelspec": {
   "display_name": "Python 3 (ipykernel)",
   "language": "python",
   "name": "python3"
  },
  "language_info": {
   "codemirror_mode": {
    "name": "ipython",
    "version": 3
   },
   "file_extension": ".py",
   "mimetype": "text/x-python",
   "name": "python",
   "nbconvert_exporter": "python",
   "pygments_lexer": "ipython3",
   "version": "3.10.8"
  }
 },
 "nbformat": 4,
 "nbformat_minor": 5
}
