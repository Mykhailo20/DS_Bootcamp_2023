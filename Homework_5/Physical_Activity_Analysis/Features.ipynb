{
 "cells": [
  {
   "cell_type": "code",
   "execution_count": null,
   "id": "f19c2a1a-d058-486e-9dbc-e38fa0ea4d63",
   "metadata": {},
   "outputs": [],
   "source": [
    "import numpy as np\n",
    "import pandas as pd\n",
    "import matplotlib.pyplot as plt\n",
    "import seaborn as sns"
   ]
  },
  {
   "cell_type": "markdown",
   "id": "fcb8d81c-1c8c-4783-9226-1c85d4af8d07",
   "metadata": {},
   "source": [
    "# Functions"
   ]
  },
  {
   "cell_type": "markdown",
   "id": "c073cd29-a59a-486f-bc77-40c450b586de",
   "metadata": {},
   "source": [
    "## Exploring measurement time and frequency stability"
   ]
  },
  {
   "cell_type": "code",
   "execution_count": null,
   "id": "e5735720-47dc-4267-9edf-98dca69d2230",
   "metadata": {},
   "outputs": [],
   "source": [
    "def display_time_distribution(df, x):\n",
    "    \"\"\" A function that is designed to display the measurement time distribution using a histogram\n",
    "    Args:\n",
    "        1) df - a dataframe that contains a column with measurement time data\n",
    "        2) x - name of measurement time column\n",
    "    \"\"\"\n",
    "    # Plot the measurement time distribution using seaborn's histogram\n",
    "    plt.figure(figsize=(15, 6))\n",
    "    sns.histplot(df[x], bins=60, kde=True, color='blue')\n",
    "    plt.xlabel('Period, s')\n",
    "    plt.ylabel('Count')\n",
    "    plt.title('Measurement Time Distribution')\n",
    "\n",
    "    plt.show()\n",
    "    \n",
    "def get_measurement_time_df(df, column_name='time'):\n",
    "    \"\"\" A function for building a dataframe that contains information about the time of measurement of each reading of the device\n",
    "    Args:\n",
    "        1) df - a dataframe that contains a time column\n",
    "        2) column_name - the name of the column containing time data (in seconds)\n",
    "    Returns:\n",
    "        time_measurement_df - dataframe that contains information about the time of measurement of each reading of the device\n",
    "    \"\"\"\n",
    "    period_dict = {'start_time': [], 'end_time': [], 'measurement_time': []}\n",
    "    prev_time = None\n",
    "    curr_time = None\n",
    "    for index, row in df.iterrows():\n",
    "        if(index == len(df)):\n",
    "            break\n",
    "            \n",
    "        prev_time = curr_time\n",
    "        curr_time = row[column_name]\n",
    "\n",
    "        if prev_time != None:\n",
    "            period_dict['start_time'].append(prev_time)\n",
    "            period_dict['end_time'].append(curr_time)\n",
    "            period_dict['measurement_time'].append(curr_time - prev_time)\n",
    "    \n",
    "    time_measurement_df = pd.DataFrame.from_dict(period_dict)\n",
    "    return time_measurement_df\n",
    "\n",
    "\n",
    "def display_time_distribution(df, x):\n",
    "    \"\"\" A function that is designed to display the measurement time distribution using a histogram\n",
    "    Args:\n",
    "        1) df - a dataframe that contains a column with measurement time data\n",
    "        2) x - name of measurement time column\n",
    "    \"\"\"\n",
    "    # Plot the measurement time distribution using seaborn's histogram\n",
    "    plt.figure(figsize=(25, 6))\n",
    "    sns.histplot(df[x], bins=60, kde=True, color='blue')\n",
    "    plt.xlabel('Period, s')\n",
    "    plt.ylabel('Count')\n",
    "    plt.title('Measurement Time Distribution')\n",
    "\n",
    "    plt.show()\n",
    "\n",
    "\n",
    "def display_data_collection_stability(df):\n",
    "    \"\"\"A function that displays the stability of data collection relative to the time when the measurements were taken and \n",
    "       relative to the measurement number\n",
    "    Args:\n",
    "        1) df - time_measurement_df\n",
    "    \"\"\"\n",
    "    fig, axes = plt.subplots(2, 1, figsize=(15, 14))\n",
    "    axes[0].plot(range(len(df[df['lost_data'] == 0])), df[df['lost_data'] == 0]['measurement_time'])\n",
    "    axes[0].set_title(f'Stability of Data Collection (Filtered)\\nAverage frequency: {freq:.3f} Hz')\n",
    "    axes[0].set_xlabel('number of measurement')\n",
    "    axes[0].set_ylabel('measurement time')\n",
    "    \n",
    "    axes[1].plot(df[df['lost_data'] == 0]['start_time'], df[df['lost_data'] == 0]['measurement_time'])\n",
    "    axes[1].set_title(f'Stability of Data Collection (Filtered)\\nAverage frequency: {freq:.3f} Hz')\n",
    "    axes[1].set_xlabel('time of measurement')\n",
    "    axes[1].set_ylabel('measurement time')\n",
    "    \n",
    "    plt.show()"
   ]
  },
  {
   "cell_type": "markdown",
   "id": "55c99844-feda-4c68-a4be-c3105bba9915",
   "metadata": {
    "tags": []
   },
   "source": [
    "## Visualizing results"
   ]
  },
  {
   "cell_type": "code",
   "execution_count": null,
   "id": "5d94552f-5280-4924-826c-e4abb4211cc9",
   "metadata": {},
   "outputs": [],
   "source": [
    "def display_three_axes(df, y, x=None, title=None, x_label=None, y_label=None, filename=None):\n",
    "    \"\"\" Function for visualization of three axes (X, Y, Z) of the measurement results of the device\n",
    "    Args:\n",
    "        1) df - a dataframe containing the results of the device measurement\n",
    "        2) x - the name of the column of the dataframe that contains the data for the OX axis (for the three lines, this is the same data)\n",
    "        3) y - the list containing the dataframe column names corresponding to the OX, OY, and OZ axis measurements, respectively\n",
    "        4) title - title of the graph\n",
    "        5) x_label - the name of the OX axis of the graph\n",
    "        6) y_label - the name of the OY axis of the graph\n",
    "        7) filename - the relative path where the file will be saved (with the file name, the file extension is not required) or just the filename\n",
    "    Returns:\n",
    "        Nothing, but plots graph\n",
    "    \"\"\"\n",
    "    plt.figure(figsize=(12, 6))\n",
    "    if x is None:\n",
    "        plt.plot(df[y[0]], label='X')\n",
    "        plt.plot(df[y[1]], label='Y')\n",
    "        plt.plot(df[y[2]], label='Z')\n",
    "    else:\n",
    "        plt.plot(df[x], df[y[0]], label='X')\n",
    "        plt.plot(df[x], df[y[1]], label='Y')\n",
    "        plt.plot(df[x], df[y[2]], label='Z')\n",
    "        \n",
    "    plt.title(title)\n",
    "    plt.xlabel(x_label)\n",
    "    plt.ylabel(y_label)\n",
    "    plt.legend()\n",
    "    if filename:\n",
    "        plt.savefig(f'{filename}.png', bbox_inches='tight')\n",
    "    plt.show()"
   ]
  },
  {
   "cell_type": "markdown",
   "id": "8645c500-471f-47ca-b926-1472b7a079f9",
   "metadata": {},
   "source": [
    "## Data Filtering"
   ]
  },
  {
   "cell_type": "code",
   "execution_count": null,
   "id": "cb2d6a34-5b3b-4d21-831f-dc0452993aa9",
   "metadata": {},
   "outputs": [],
   "source": [
    "def display_raw_filtered_data_zoom(df, x, y, x_lims, y_lims, title=None, x_label=None, y_label=None, filename=None, zoom_axes=None):\n",
    "    \"\"\" Function to display raw and filtered data on the same graph with scaling to better display the filtering\n",
    "    Args:\n",
    "        1) df - a dataframe containing the results of the device measurement\n",
    "        2) x - the name of the column of the dataframe that contains the data for the OX axis of the graph\n",
    "        3) y - the list containing the column names of the data frame corresponding to the raw and filtered data, respectively, on a given axis (OX, OY, or OZ)\n",
    "        4) x_lims - the list of limits along the OX axis for zooming ([zoom_xmin; zoom_xmax])\n",
    "        5) y_lims - the list of limits along the OY axis for zooming ([zoom_ymin; zoom_ymax])\n",
    "        6) title - title of the graph\n",
    "        7) x_label - the name of the OX axis of the graph\n",
    "        8) y_label - the name of the OY axis of the graph\n",
    "        9) filename - filename under which to save the graph in the project folder\n",
    "        10) zoom_axes - the list containing the placement coordinates (x, y) and dimensions (width, height) of the smaller graph that contains the zoomed-in image for the specified limits (x_lims and y_lims)\n",
    "            zoom_axes = [x, y, width, height] \n",
    "    \"\"\"\n",
    "    fig, ax = plt.subplots(figsize=(12, 6))\n",
    "    ax.plot(df[x], df[y[0]], label='Raw Data', color='green')\n",
    "    ax.plot(df[x], df[y[1]], label='Filtered_data', color='orange')\n",
    "    plt.xlabel(x_label)\n",
    "    plt.ylabel(y_label)\n",
    "    plt.title(title)\n",
    "    plt.legend()\n",
    "\n",
    "    # inset\n",
    "    if zoom_axes:\n",
    "        inset_ax = fig.add_axes(zoom_axes)\n",
    "    else:\n",
    "        inset_ax = fig.add_axes([0.25, 0.20, 0.20, 0.20])\n",
    "    inset_ax.plot(df[x], df[y[0]], label='Raw Data', color='green')\n",
    "    inset_ax.plot(df[x], df[y[1]], label='Filtered_data', color='orange')\n",
    "    inset_ax.set_xlim(x_lims[0], x_lims[1])\n",
    "    inset_ax.set_ylim(y_lims[0], y_lims[1])\n",
    "    inset_ax.set_title('zoom near origin')\n",
    "    if filename:\n",
    "        plt.savefig(f\"graphs/{filename}.png\", bbox_inches='tight')\n",
    "    plt.show()"
   ]
  },
  {
   "cell_type": "code",
   "execution_count": null,
   "id": "cb992452-e575-40bc-8f6f-a57f2f1908ab",
   "metadata": {},
   "outputs": [],
   "source": [
    "def get_statistical_measures_df(df, df_data_columns, functions, result_df_columns):\n",
    "    \"\"\"A function to create a dataframe that contains calculated statistical parameters for the specified columns of the original dataframe\n",
    "    Args:\n",
    "        1) df - the original dataframe that contains the required data\n",
    "        2) df_data_columns - a list of column names of the original dataframe for which to find statistical measures\n",
    "        3) functions - a list of references to numpy functions that will calculate the required statistical measures\n",
    "        4) result_df_columns - a list of names of the columns of the output dataframe, in which the names of the searched statistical measures are specified\n",
    "    \n",
    "    An example of using the function:\n",
    "        Let's imagine that we have a dataframe data_df, which contains the columns 'time' (time of measurement), 'accelX', 'accelY', 'accelZ' (the results of measuring the readings of the accelerometer on the corresponding axes). \n",
    "        We want to calculate the statistical mean and standard deviation for the accelerometer readings on all three axes (the columns 'accelX', 'accelY', 'accelZ' of data_df), so the columns of the output dataframe will be named, for example, 'mean' and 'std'. \n",
    "        These values ​​can be calculated using the numpy library functions: np.mean and np.std.\n",
    "        So, the function call will look like this:\n",
    "        get_statistical_measures_df(df=data_df, \n",
    "                                    df_data_columns=['accelX', 'accelY', 'accelZ'], \n",
    "                                    functions=[np.mean, np.std], \n",
    "                                    result_df_columns=['mean', 'std'])\n",
    "    \"\"\"\n",
    "    statistical_measures_dict = {}\n",
    "    for key in result_df_columns:\n",
    "        statistical_measures_dict[key] = []\n",
    "        \n",
    "    statistical_measures_dict['data'] = df_data_columns\n",
    "    \n",
    "    for [function, res_column] in zip(functions, result_df_columns):\n",
    "        # Go through all df columns and find statistical measures for it\n",
    "        for df_data_column in df_data_columns:\n",
    "            statistical_measures_dict[res_column].append(function(df[df_data_column].values))\n",
    "    \n",
    "    # Create DataFrame\n",
    "    statistical_measures_df = pd.DataFrame.from_dict(statistical_measures_dict)\n",
    "    statistical_measures_df = statistical_measures_df.set_index('data')\n",
    "    return statistical_measures_df"
   ]
  },
  {
   "cell_type": "markdown",
   "id": "d1c4a86f-a71a-408a-bb3b-1995126640db",
   "metadata": {},
   "source": [
    "## Exploratory Data Analysis"
   ]
  },
  {
   "cell_type": "code",
   "execution_count": null,
   "id": "d3e5dfd8-aece-4dec-bd62-431c8a3bd3f4",
   "metadata": {},
   "outputs": [],
   "source": [
    "def display_pie_chart(df, column_name, title=None, filename=None):\n",
    "    \"\"\" Function to display the percentage ratio of column (with the name column_name) content \n",
    "    Args:\n",
    "        1) df - the original dataframe that contains the required information\n",
    "        2) column_name - the name of the df dataframe column whose percentage values are to be found\n",
    "        3) title - the title of the graph\n",
    "        4) filename - the relative path where the file will be saved (with the file name, the file extension is not required) or just the filename\n",
    "    Returns:\n",
    "        None, but plots graph\n",
    "    \"\"\"\n",
    "    # Calculate the percentage of each activity in original_df\n",
    "    activity_percentages_df = df[column_name].value_counts(normalize=True) * 100\n",
    "\n",
    "    plt.figure(figsize=(12, 6))\n",
    "\n",
    "    # Plot pie chart for df\n",
    "    sns.set_palette(\"Set3\")\n",
    "    plt.pie(activity_percentages_df, labels=activity_percentages_df.index, autopct='%1.1f%%', startangle=140)\n",
    "    plt.title(title)\n",
    "\n",
    "    # Adjust layout\n",
    "    plt.tight_layout()\n",
    "    if filename:\n",
    "        plt.savefig(f'{filename}.png', bbox_inches='tight')\n",
    "    plt.show()"
   ]
  },
  {
   "cell_type": "markdown",
   "id": "ae2376c2-e88f-4b6c-a0b7-6f9b3caf38b4",
   "metadata": {
    "tags": []
   },
   "source": [
    "# Work with train data"
   ]
  },
  {
   "cell_type": "code",
   "execution_count": 33,
   "id": "3328885c-9b21-4988-a297-e6b3385aa96b",
   "metadata": {},
   "outputs": [
    {
     "data": {
      "text/html": [
       "<div>\n",
       "<style scoped>\n",
       "    .dataframe tbody tr th:only-of-type {\n",
       "        vertical-align: middle;\n",
       "    }\n",
       "\n",
       "    .dataframe tbody tr th {\n",
       "        vertical-align: top;\n",
       "    }\n",
       "\n",
       "    .dataframe thead th {\n",
       "        text-align: right;\n",
       "    }\n",
       "</style>\n",
       "<table border=\"1\" class=\"dataframe\">\n",
       "  <thead>\n",
       "    <tr style=\"text-align: right;\">\n",
       "      <th></th>\n",
       "      <th>timestamp</th>\n",
       "      <th>time</th>\n",
       "      <th>accX</th>\n",
       "      <th>accY</th>\n",
       "      <th>accZ</th>\n",
       "      <th>gyrX</th>\n",
       "      <th>gyrY</th>\n",
       "      <th>gyrZ</th>\n",
       "      <th>activity</th>\n",
       "    </tr>\n",
       "  </thead>\n",
       "  <tbody>\n",
       "    <tr>\n",
       "      <th>0</th>\n",
       "      <td>1692440406933</td>\n",
       "      <td>0.000</td>\n",
       "      <td>0.14895</td>\n",
       "      <td>-0.06000</td>\n",
       "      <td>9.775050</td>\n",
       "      <td>0.106150</td>\n",
       "      <td>-0.018975</td>\n",
       "      <td>-1.117325</td>\n",
       "      <td>No activity</td>\n",
       "    </tr>\n",
       "    <tr>\n",
       "      <th>1</th>\n",
       "      <td>1692440406976</td>\n",
       "      <td>0.043</td>\n",
       "      <td>-0.05400</td>\n",
       "      <td>0.04200</td>\n",
       "      <td>9.748950</td>\n",
       "      <td>0.110550</td>\n",
       "      <td>-0.163075</td>\n",
       "      <td>-1.241488</td>\n",
       "      <td>No activity</td>\n",
       "    </tr>\n",
       "    <tr>\n",
       "      <th>2</th>\n",
       "      <td>1692440407003</td>\n",
       "      <td>0.070</td>\n",
       "      <td>0.23295</td>\n",
       "      <td>-0.12405</td>\n",
       "      <td>9.739051</td>\n",
       "      <td>0.096937</td>\n",
       "      <td>-0.311437</td>\n",
       "      <td>-1.159812</td>\n",
       "      <td>No activity</td>\n",
       "    </tr>\n",
       "    <tr>\n",
       "      <th>3</th>\n",
       "      <td>1692440407037</td>\n",
       "      <td>0.104</td>\n",
       "      <td>-0.18495</td>\n",
       "      <td>-0.01200</td>\n",
       "      <td>9.691051</td>\n",
       "      <td>0.079475</td>\n",
       "      <td>-0.309375</td>\n",
       "      <td>-0.900900</td>\n",
       "      <td>No activity</td>\n",
       "    </tr>\n",
       "    <tr>\n",
       "      <th>4</th>\n",
       "      <td>1692440407057</td>\n",
       "      <td>0.124</td>\n",
       "      <td>-0.46305</td>\n",
       "      <td>0.13605</td>\n",
       "      <td>10.146001</td>\n",
       "      <td>0.065037</td>\n",
       "      <td>-0.293013</td>\n",
       "      <td>-0.771787</td>\n",
       "      <td>No activity</td>\n",
       "    </tr>\n",
       "  </tbody>\n",
       "</table>\n",
       "</div>"
      ],
      "text/plain": [
       "       timestamp   time     accX     accY       accZ      gyrX      gyrY  \\\n",
       "0  1692440406933  0.000  0.14895 -0.06000   9.775050  0.106150 -0.018975   \n",
       "1  1692440406976  0.043 -0.05400  0.04200   9.748950  0.110550 -0.163075   \n",
       "2  1692440407003  0.070  0.23295 -0.12405   9.739051  0.096937 -0.311437   \n",
       "3  1692440407037  0.104 -0.18495 -0.01200   9.691051  0.079475 -0.309375   \n",
       "4  1692440407057  0.124 -0.46305  0.13605  10.146001  0.065037 -0.293013   \n",
       "\n",
       "       gyrZ     activity  \n",
       "0 -1.117325  No activity  \n",
       "1 -1.241488  No activity  \n",
       "2 -1.159812  No activity  \n",
       "3 -0.900900  No activity  \n",
       "4 -0.771787  No activity  "
      ]
     },
     "execution_count": 33,
     "metadata": {},
     "output_type": "execute_result"
    }
   ],
   "source": [
    "df = pd.read_csv('data/40_Hz/concatenated_data/All/Train_activities_1_2023-08-23.csv')\n",
    "df.head()"
   ]
  },
  {
   "cell_type": "code",
   "execution_count": 34,
   "id": "fe05c5d3-0159-4eec-b2ef-c0ac45f2aa69",
   "metadata": {},
   "outputs": [
    {
     "name": "stdout",
     "output_type": "stream",
     "text": [
      "<class 'pandas.core.frame.DataFrame'>\n",
      "RangeIndex: 63529 entries, 0 to 63528\n",
      "Data columns (total 9 columns):\n",
      " #   Column     Non-Null Count  Dtype  \n",
      "---  ------     --------------  -----  \n",
      " 0   timestamp  63529 non-null  int64  \n",
      " 1   time       63529 non-null  float64\n",
      " 2   accX       63529 non-null  float64\n",
      " 3   accY       63529 non-null  float64\n",
      " 4   accZ       63529 non-null  float64\n",
      " 5   gyrX       63529 non-null  float64\n",
      " 6   gyrY       63529 non-null  float64\n",
      " 7   gyrZ       63529 non-null  float64\n",
      " 8   activity   63529 non-null  object \n",
      "dtypes: float64(7), int64(1), object(1)\n",
      "memory usage: 4.4+ MB\n"
     ]
    }
   ],
   "source": [
    "df.info()"
   ]
  },
  {
   "cell_type": "markdown",
   "id": "a0c6aeae-cfcb-40f7-9864-95d3f36ed9f4",
   "metadata": {},
   "source": [
    "## Data Cleaning and Preprocessing"
   ]
  },
  {
   "cell_type": "markdown",
   "id": "d85e156b-6201-4595-b1af-f48d1988ba74",
   "metadata": {},
   "source": [
    "### We execute the following steps based on the observation:\n",
    "- drop null values.\n",
    "- drop the rows where the time is less than 0.\n",
    "- sort data in ascending order of time if it has not been sorted."
   ]
  },
  {
   "cell_type": "code",
   "execution_count": null,
   "id": "120f280a-0148-4b32-93f7-959034238b0f",
   "metadata": {},
   "outputs": [],
   "source": [
    "df.info()"
   ]
  },
  {
   "cell_type": "code",
   "execution_count": null,
   "id": "21c6fb38-52ce-4558-960a-717e0c593d1e",
   "metadata": {},
   "outputs": [],
   "source": [
    "len(df[df['time']<0])"
   ]
  },
  {
   "cell_type": "code",
   "execution_count": null,
   "id": "a2610ac3-e107-4fca-a5cf-13b737f90c0b",
   "metadata": {},
   "outputs": [],
   "source": [
    "# Check if the 'time' column of the dataframe is sorted in ascending order\n",
    "df['time'].is_monotonic_increasing"
   ]
  },
  {
   "cell_type": "markdown",
   "id": "6ab18e08-ccc4-43e2-bfc9-31444c11620f",
   "metadata": {},
   "source": [
    "## Exploring measurement period and frequency stability"
   ]
  },
  {
   "cell_type": "code",
   "execution_count": 35,
   "id": "0845492c-b7ab-4666-89dc-5fca3f6ea821",
   "metadata": {},
   "outputs": [
    {
     "name": "stdout",
     "output_type": "stream",
     "text": [
      "Measurement time = 1852.281 s\n",
      "Number of measurements (number of rows in the data set) = 63529\n",
      "Average measurement period = 0.029 s\n",
      "Average frequency of measurement = 34.297 Hz\n"
     ]
    }
   ],
   "source": [
    "time_diffs = df['time'].diff()\n",
    "freq = 1.0 / time_diffs.mean()\n",
    "print(f\"Measurement time = {df.iloc[-1]['time'] - df.iloc[0]['time']} s\")\n",
    "print(f\"Number of measurements (number of rows in the data set) = {len(df)}\")\n",
    "print(f\"Average measurement period = {time_diffs.mean():.3f} s\")\n",
    "print(f\"Average frequency of measurement = {freq:.3f} Hz\")"
   ]
  },
  {
   "cell_type": "code",
   "execution_count": 36,
   "id": "99ab5dde-34c0-435e-9d65-cb3d4a721b0d",
   "metadata": {},
   "outputs": [
    {
     "data": {
      "text/html": [
       "<div>\n",
       "<style scoped>\n",
       "    .dataframe tbody tr th:only-of-type {\n",
       "        vertical-align: middle;\n",
       "    }\n",
       "\n",
       "    .dataframe tbody tr th {\n",
       "        vertical-align: top;\n",
       "    }\n",
       "\n",
       "    .dataframe thead th {\n",
       "        text-align: right;\n",
       "    }\n",
       "</style>\n",
       "<table border=\"1\" class=\"dataframe\">\n",
       "  <thead>\n",
       "    <tr style=\"text-align: right;\">\n",
       "      <th></th>\n",
       "      <th>start_time</th>\n",
       "      <th>end_time</th>\n",
       "      <th>measurement_time</th>\n",
       "    </tr>\n",
       "  </thead>\n",
       "  <tbody>\n",
       "    <tr>\n",
       "      <th>0</th>\n",
       "      <td>0.000</td>\n",
       "      <td>0.043</td>\n",
       "      <td>0.043</td>\n",
       "    </tr>\n",
       "    <tr>\n",
       "      <th>1</th>\n",
       "      <td>0.043</td>\n",
       "      <td>0.070</td>\n",
       "      <td>0.027</td>\n",
       "    </tr>\n",
       "    <tr>\n",
       "      <th>2</th>\n",
       "      <td>0.070</td>\n",
       "      <td>0.104</td>\n",
       "      <td>0.034</td>\n",
       "    </tr>\n",
       "    <tr>\n",
       "      <th>3</th>\n",
       "      <td>0.104</td>\n",
       "      <td>0.124</td>\n",
       "      <td>0.020</td>\n",
       "    </tr>\n",
       "    <tr>\n",
       "      <th>4</th>\n",
       "      <td>0.124</td>\n",
       "      <td>0.150</td>\n",
       "      <td>0.026</td>\n",
       "    </tr>\n",
       "  </tbody>\n",
       "</table>\n",
       "</div>"
      ],
      "text/plain": [
       "   start_time  end_time  measurement_time\n",
       "0       0.000     0.043             0.043\n",
       "1       0.043     0.070             0.027\n",
       "2       0.070     0.104             0.034\n",
       "3       0.104     0.124             0.020\n",
       "4       0.124     0.150             0.026"
      ]
     },
     "execution_count": 36,
     "metadata": {},
     "output_type": "execute_result"
    }
   ],
   "source": [
    "time_measurement_df = get_measurement_time_df(df)\n",
    "time_measurement_df.head()"
   ]
  },
  {
   "cell_type": "code",
   "execution_count": 37,
   "id": "32585453-6c15-463d-93e5-51288fccd2ee",
   "metadata": {},
   "outputs": [
    {
     "data": {
      "image/png": "[encoded data removed]",
      "text/plain": [
       "<Figure size 1200x400 with 2 Axes>"
      ]
     },
     "metadata": {},
     "output_type": "display_data"
    }
   ],
   "source": [
    "fig, ax = plt.subplots(figsize=(12, 4))\n",
    "ax.set_title(f'Stability of Data Collection (Raw Data)\\nAverage frequency: {freq:.3f} Hz')\n",
    "ax.set_ylabel('measurement time, s')\n",
    "sns.lineplot(x=range(len(time_measurement_df['measurement_time'])), \n",
    "             y=time_measurement_df['measurement_time'])\n",
    "\n",
    "inset_axes = fig.add_axes([0.17, 0.35, 0.10, 0.25])\n",
    "inset_axes.plot(range(len(time_measurement_df['measurement_time'])), \n",
    "                time_measurement_df['measurement_time'])\n",
    "inset_axes.set_title('Zoom near origin')\n",
    "inset_axes.set_xlim(10, 20)\n",
    "inset_axes.set_ylim(0.01, 0.04)\n",
    "plt.savefig('graphs/train_data_collection_stability.png')\n",
    "plt.show()"
   ]
  },
  {
   "cell_type": "code",
   "execution_count": 38,
   "id": "46ac70ed-2bff-4683-ae11-d9043b09be14",
   "metadata": {},
   "outputs": [
    {
     "data": {
      "text/html": [
       "<div>\n",
       "<style scoped>\n",
       "    .dataframe tbody tr th:only-of-type {\n",
       "        vertical-align: middle;\n",
       "    }\n",
       "\n",
       "    .dataframe tbody tr th {\n",
       "        vertical-align: top;\n",
       "    }\n",
       "\n",
       "    .dataframe thead th {\n",
       "        text-align: right;\n",
       "    }\n",
       "</style>\n",
       "<table border=\"1\" class=\"dataframe\">\n",
       "  <thead>\n",
       "    <tr style=\"text-align: right;\">\n",
       "      <th></th>\n",
       "      <th>start_time</th>\n",
       "      <th>end_time</th>\n",
       "      <th>measurement_time</th>\n",
       "    </tr>\n",
       "  </thead>\n",
       "  <tbody>\n",
       "    <tr>\n",
       "      <th>11058</th>\n",
       "      <td>322.723</td>\n",
       "      <td>323.757</td>\n",
       "      <td>1.034</td>\n",
       "    </tr>\n",
       "  </tbody>\n",
       "</table>\n",
       "</div>"
      ],
      "text/plain": [
       "       start_time  end_time  measurement_time\n",
       "11058     322.723   323.757             1.034"
      ]
     },
     "execution_count": 38,
     "metadata": {},
     "output_type": "execute_result"
    }
   ],
   "source": [
    "time_measurement_df[time_measurement_df['measurement_time'] > 1]"
   ]
  },
  {
   "cell_type": "markdown",
   "id": "f282f923-de24-42ba-b067-5a37f1fcf329",
   "metadata": {
    "tags": []
   },
   "source": [
    "### Delete rows with measurement_time > 0.040"
   ]
  },
  {
   "cell_type": "code",
   "execution_count": 39,
   "id": "18b83b0a-673b-456a-8a20-e76ca990096f",
   "metadata": {},
   "outputs": [
    {
     "data": {
      "text/plain": [
       "63049"
      ]
     },
     "execution_count": 39,
     "metadata": {},
     "output_type": "execute_result"
    }
   ],
   "source": [
    "len(time_measurement_df[time_measurement_df['measurement_time'] <= 0.040])"
   ]
  },
  {
   "cell_type": "code",
   "execution_count": 40,
   "id": "38927a01-d271-4202-8c6e-b5cd83c382e4",
   "metadata": {},
   "outputs": [
    {
     "name": "stdout",
     "output_type": "stream",
     "text": [
      "<class 'pandas.core.frame.DataFrame'>\n",
      "Int64Index: 63049 entries, 2 to 63528\n",
      "Data columns (total 9 columns):\n",
      " #   Column     Non-Null Count  Dtype  \n",
      "---  ------     --------------  -----  \n",
      " 0   timestamp  63049 non-null  int64  \n",
      " 1   time       63049 non-null  float64\n",
      " 2   accX       63049 non-null  float64\n",
      " 3   accY       63049 non-null  float64\n",
      " 4   accZ       63049 non-null  float64\n",
      " 5   gyrX       63049 non-null  float64\n",
      " 6   gyrY       63049 non-null  float64\n",
      " 7   gyrZ       63049 non-null  float64\n",
      " 8   activity   63049 non-null  object \n",
      "dtypes: float64(7), int64(1), object(1)\n",
      "memory usage: 4.8+ MB\n"
     ]
    }
   ],
   "source": [
    "df = df[df['time'].diff() <= 0.04]\n",
    "df.info()"
   ]
  },
  {
   "cell_type": "code",
   "execution_count": 41,
   "id": "d5ac7366-e687-4254-9c4f-6d530f5f8414",
   "metadata": {},
   "outputs": [
    {
     "data": {
      "image/png": "[encoded data removed]",
      "text/plain": [
       "<Figure size 1200x400 with 1 Axes>"
      ]
     },
     "metadata": {},
     "output_type": "display_data"
    }
   ],
   "source": [
    "plt.figure(figsize=(12, 4))\n",
    "plt.title(f'Stability of Data Collection (Raw Data)\\nAverage frequency: {freq:.3f} Hz')\n",
    "plt.ylabel('measurement time, s')\n",
    "sns.lineplot(x=range(len(time_measurement_df[time_measurement_df['measurement_time'] <= 0.04]['measurement_time'])), \n",
    "             y=time_measurement_df[time_measurement_df['measurement_time'] <= 0.04]['measurement_time'])\n",
    "plt.savefig('graphs/train_data_collection_stability.png')\n",
    "plt.show()"
   ]
  },
  {
   "cell_type": "markdown",
   "id": "d58c4bc9-9815-4024-8213-96ba1d80cad0",
   "metadata": {
    "jp-MarkdownHeadingCollapsed": true,
    "tags": []
   },
   "source": [
    "## Data Filtering"
   ]
  },
  {
   "cell_type": "markdown",
   "id": "23592757-15dc-4a5c-a13b-81b6cfc9f048",
   "metadata": {},
   "source": [
    "### Display data before filtering"
   ]
  },
  {
   "cell_type": "code",
   "execution_count": null,
   "id": "bf10d7e3-d48a-45ba-b005-baaf09e56a08",
   "metadata": {},
   "outputs": [],
   "source": [
    "display_three_axes(df=df, x='time', y=['accX', 'accY', 'accZ'], title='Time Dependence of Linear Acceleration (Raw Data)', \n",
    "                   x_label='Time, s', y_label='Linear acceleration, m/s^2')\n",
    "display_three_axes(df=df, x='time', y=['gyrX', 'gyrY', 'gyrZ'], title='Time Dependence of Angular Velocity (Raw Data)', \n",
    "                x_label='Time, s', y_label='Angular velocity, rad/s')"
   ]
  },
  {
   "cell_type": "markdown",
   "id": "152d7091-ef76-452d-8db0-c60e85c14f00",
   "metadata": {
    "jp-MarkdownHeadingCollapsed": true,
    "tags": []
   },
   "source": [
    "### Display data after filtering"
   ]
  },
  {
   "cell_type": "code",
   "execution_count": null,
   "id": "a926592d-c685-4e54-9dc9-96c0b90093d3",
   "metadata": {},
   "outputs": [],
   "source": [
    "window_size = 10  # Define the size of the median window\n",
    "\n",
    "# Apply median filtering to accelerometer data\n",
    "df['accX_filtered'] = df['accX'].rolling(window=window_size, center=True, min_periods=1).median()\n",
    "df['accY_filtered'] = df['accY'].rolling(window=window_size, center=True, min_periods=1).median()\n",
    "df['accZ_filtered'] = df['accZ'].rolling(window=window_size, center=True, min_periods=1).median()\n",
    "\n",
    "# Apply median filtering to gyroscope data\n",
    "df['gyrX_filtered'] = df['gyrX'].rolling(window=window_size, center=True, min_periods=1).median()\n",
    "df['gyrY_filtered'] = df['gyrY'].rolling(window=window_size, center=True, min_periods=1).median()\n",
    "df['gyrZ_filtered'] = df['gyrZ'].rolling(window=window_size, center=True, min_periods=1).median()\n",
    "\n",
    "df.head(3)"
   ]
  },
  {
   "cell_type": "code",
   "execution_count": null,
   "id": "3a7214b7-9a7d-4e54-9bfa-6c0153187665",
   "metadata": {},
   "outputs": [],
   "source": [
    "display_three_axes(df=df, x='time', y=['accX_filtered', 'accY_filtered', 'accZ_filtered'], title='Time Dependence of Linear Acceleration (Filtered Data)', \n",
    "                x_label='Time, s', y_label='Linear acceleration, m/s^2')\n",
    "display_three_axes(df=df, x='time', y=['gyrX_filtered', 'gyrY_filtered', 'gyrZ_filtered'], title='Time Dependence of Angular Velocity (Filtered Data)', \n",
    "                x_label='Time, s', y_label='Angular velocity, rad/s')"
   ]
  },
  {
   "cell_type": "markdown",
   "id": "4d4ec9c9-d8ee-42d9-9aaf-287245aef09f",
   "metadata": {
    "tags": []
   },
   "source": [
    "### Consider the implications of data filtering"
   ]
  },
  {
   "cell_type": "markdown",
   "id": "51f65657-3d4e-428d-8a8e-dc8dd037d769",
   "metadata": {},
   "source": [
    "#### Display the results of filtering for accelerometer and gyroscope"
   ]
  },
  {
   "cell_type": "markdown",
   "id": "7a71a730-3bb2-4961-9ca0-a92fd8694f46",
   "metadata": {
    "tags": []
   },
   "source": [
    "##### Zoom accelerometer graphs to better see the results of filtering"
   ]
  },
  {
   "cell_type": "code",
   "execution_count": null,
   "id": "e43079e0-521f-45ef-bc6a-aea67f273f61",
   "metadata": {},
   "outputs": [],
   "source": [
    "display_raw_filtered_data_zoom(df=df, x='time', y=['accX', 'accX_filtered'], x_lims=[14, 20], y_lims=[-1.5, 1.5],\n",
    "                               x_label='Time, s', y_label='Linear acceleration, m/s^2',\n",
    "                               title='gForce OX: Raw vs Filtered',\n",
    "                               zoom_axes = [0.18, 0.18, 0.15, 0.15])"
   ]
  },
  {
   "cell_type": "code",
   "execution_count": null,
   "id": "8271d372-1ee1-4c12-b12c-02fdae981dc8",
   "metadata": {},
   "outputs": [],
   "source": [
    "display_raw_filtered_data_zoom(df=df, x='time', y=['accY', 'accY_filtered'], x_lims=[14, 20], y_lims=[-3, 3],\n",
    "                               x_label='Time, s', y_label='Linear acceleration, m/s^2',\n",
    "                               title='gForce OX: Raw vs Filtered',\n",
    "                               zoom_axes = [0.18, 0.18, 0.15, 0.15])"
   ]
  },
  {
   "cell_type": "code",
   "execution_count": null,
   "id": "7648f6cb-192a-4b75-8b59-6366bb3a7e16",
   "metadata": {},
   "outputs": [],
   "source": [
    "display_raw_filtered_data_zoom(df=df, x='time', y=['accZ', 'accZ_filtered'], x_lims=[14, 20], y_lims=[4, 20],\n",
    "                               x_label='Time, s', y_label='Linear acceleration, m/s^2',\n",
    "                               title='gForce OX: Raw vs Filtered',\n",
    "                               zoom_axes = [0.30, 0.65, 0.15, 0.15])"
   ]
  },
  {
   "cell_type": "markdown",
   "id": "52a1e46d-21af-4852-9374-86eeace274d7",
   "metadata": {
    "jp-MarkdownHeadingCollapsed": true,
    "tags": []
   },
   "source": [
    "##### Zoom gyroscope graphs to better see the results of filtering"
   ]
  },
  {
   "cell_type": "code",
   "execution_count": null,
   "id": "99eb5d78-e039-4b11-9924-e01fabdc2c87",
   "metadata": {},
   "outputs": [],
   "source": [
    "display_raw_filtered_data_zoom(df=df, x='time', y=['gyrX', 'gyrX_filtered'], x_lims=[14, 20], y_lims = [-0.6, 1],\n",
    "                               x_label='Time, s', y_label='Angular velocity, rad/s',\n",
    "                               title='Gyroscope OX: Raw vs Filtered',\n",
    "                               zoom_axes = [0.18, 0.18, 0.15, 0.15])"
   ]
  },
  {
   "cell_type": "code",
   "execution_count": null,
   "id": "bad0d9c1-4559-479b-ab88-e027b19aa70c",
   "metadata": {},
   "outputs": [],
   "source": [
    "display_raw_filtered_data_zoom(df=df, x='time', y=['gyrY', 'gyrY_filtered'], x_lims=[14, 20], y_lims = [-0.6, 0.75],\n",
    "                               x_label='Time, s', y_label='Angular velocity, rad/s',\n",
    "                               title='Gyroscope OX: Raw vs Filtered',\n",
    "                               zoom_axes = [0.20, 0.50, 0.15, 0.15])"
   ]
  },
  {
   "cell_type": "code",
   "execution_count": null,
   "id": "bc4930bb-9262-4da1-bb28-bfe5e26ce256",
   "metadata": {},
   "outputs": [],
   "source": [
    "display_raw_filtered_data_zoom(df=df, x='time', y=['gyrZ', 'gyrZ_filtered'], x_lims=[14, 20], y_lims = [-1, 1.2],\n",
    "                               x_label='Time, s', y_label='Angular velocity, rad/s',\n",
    "                               title='Gyroscope OX: Raw vs Filtered',\n",
    "                               zoom_axes = [0.18, 0.18, 0.15, 0.15])"
   ]
  },
  {
   "cell_type": "markdown",
   "id": "382ea784-2f35-4a82-b1fa-bbf5b55e8446",
   "metadata": {
    "jp-MarkdownHeadingCollapsed": true,
    "tags": []
   },
   "source": [
    "## Exploratory Data Analysis"
   ]
  },
  {
   "cell_type": "markdown",
   "id": "55aadf73-6b45-48a1-aadb-eeb8c074ec27",
   "metadata": {},
   "source": [
    "### Analyzing class label distribution"
   ]
  },
  {
   "cell_type": "code",
   "execution_count": null,
   "id": "48a39c3b-8523-4928-9f60-c4dfbc257148",
   "metadata": {},
   "outputs": [],
   "source": [
    "sns.set_style('whitegrid')\n",
    "plt.figure(figsize=(10, 5))\n",
    "sns.countplot(data=df, x='activity')\n",
    "plt.title('Number of samples by activity')\n",
    "plt.show()"
   ]
  },
  {
   "cell_type": "code",
   "execution_count": null,
   "id": "95f7b717-464e-4546-a5ec-68fbfcccc255",
   "metadata": {},
   "outputs": [],
   "source": [
    "display_pie_chart(df=df, column_name='activity', title='Class label distribution')"
   ]
  },
  {
   "cell_type": "markdown",
   "id": "a31f329f-c5ec-4c0b-bd48-0ade58bc8b5f",
   "metadata": {},
   "source": [
    "#### Remove 'No activity' class ('activity' column) from df "
   ]
  },
  {
   "cell_type": "code",
   "execution_count": null,
   "id": "3cad768e-de4f-47ea-875b-dfe658d667a0",
   "metadata": {},
   "outputs": [],
   "source": [
    "df.info()"
   ]
  },
  {
   "cell_type": "code",
   "execution_count": null,
   "id": "e7fab7b3-9063-40d8-be17-b0263424db32",
   "metadata": {},
   "outputs": [],
   "source": [
    "df = df[df['activity'] != 'No activity']\n",
    "df.info()"
   ]
  },
  {
   "cell_type": "code",
   "execution_count": null,
   "id": "ddbf57ed-9332-44ee-9f86-d383fd6c6cbb",
   "metadata": {},
   "outputs": [],
   "source": [
    "plt.rcdefaults()\n",
    "sns.set_style('whitegrid')\n",
    "sns.set_style('whitegrid')\n",
    "plt.figure(figsize=(10, 5))\n",
    "sns.countplot(data=df, x='activity')\n",
    "plt.title('Number of samples by activity')\n",
    "plt.show()"
   ]
  },
  {
   "cell_type": "code",
   "execution_count": null,
   "id": "738f2fc6-b1b9-42c4-a94c-cc1bb0a73278",
   "metadata": {},
   "outputs": [],
   "source": [
    "display_pie_chart(df=df, column_name='activity', title='Class label distribution')"
   ]
  },
  {
   "cell_type": "code",
   "execution_count": null,
   "id": "97b1464d-3064-4f8e-8f21-b904389d63ee",
   "metadata": {},
   "outputs": [],
   "source": [
    "len(undersampled_df[undersampled_df['activity'] == 'Walk'])"
   ]
  },
  {
   "cell_type": "markdown",
   "id": "7d1b90a2-e49b-4e8f-990b-d4a5120cb2ef",
   "metadata": {},
   "source": [
    "### Perform undersampling to get a balanced dataframe"
   ]
  },
  {
   "cell_type": "code",
   "execution_count": null,
   "id": "b2bc83a7-6e3f-43cf-8de9-785ef6e6241d",
   "metadata": {},
   "outputs": [],
   "source": [
    "# First, calculate the minimum number of samples across all classes\n",
    "min_samples = df['activity'].value_counts().min()\n",
    "\n",
    "\n",
    "# Initialize an empty DataFrame to store the undersampled data\n",
    "undersampled_df = pd.DataFrame()\n",
    "\n",
    "# Loop through each unique activity class and select the first min_samples for each class\n",
    "for activity_class in df['activity'].unique():\n",
    "    class_subset = df[df['activity'] == activity_class].iloc[:min_samples]\n",
    "    undersampled_df = pd.concat([undersampled_df, class_subset])\n",
    "\n",
    "undersampled_df.head()"
   ]
  },
  {
   "cell_type": "code",
   "execution_count": null,
   "id": "eea27868-f4f4-4e1e-809b-5140d0ea8f89",
   "metadata": {},
   "outputs": [],
   "source": [
    "undersampled_df.info()"
   ]
  },
  {
   "cell_type": "markdown",
   "id": "4397a53d-67fb-42b6-b41e-bb99acb0c86e",
   "metadata": {},
   "source": [
    "#### View the labels distribution after undersampling"
   ]
  },
  {
   "cell_type": "code",
   "execution_count": null,
   "id": "044b857e-1299-4310-bd26-e6a9b5158355",
   "metadata": {},
   "outputs": [],
   "source": [
    "plt.rcdefaults()\n",
    "sns.set_style('whitegrid')\n",
    "sns.set_style('whitegrid')\n",
    "plt.figure(figsize=(10, 5))\n",
    "sns.countplot(data=undersampled_df, x='activity')\n",
    "plt.title('Number of samples by activity')\n",
    "plt.show()"
   ]
  },
  {
   "cell_type": "code",
   "execution_count": null,
   "id": "3a9b4dcb-b898-493b-9c1f-1058c020f95b",
   "metadata": {},
   "outputs": [],
   "source": [
    "display_pie_chart(df=undersampled_df, column_name='activity', title='Class label distribution')"
   ]
  }
 ],
 "metadata": {
  "kernelspec": {
   "display_name": "Python 3 (ipykernel)",
   "language": "python",
   "name": "python3"
  },
  "language_info": {
   "codemirror_mode": {
    "name": "ipython",
    "version": 3
   },
   "file_extension": ".py",
   "mimetype": "text/x-python",
   "name": "python",
   "nbconvert_exporter": "python",
   "pygments_lexer": "ipython3",
   "version": "3.10.8"
  }
 },
 "nbformat": 4,
 "nbformat_minor": 5
}
