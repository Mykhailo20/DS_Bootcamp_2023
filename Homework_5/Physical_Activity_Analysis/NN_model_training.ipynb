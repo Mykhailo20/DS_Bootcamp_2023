{
 "cells": [
  {
   "cell_type": "code",
   "execution_count": null,
   "id": "bf10d48e-ab9d-4c71-9e6e-9e870d74330a",
   "metadata": {},
   "outputs": [],
   "source": [
    "import numpy as np\n",
    "import pandas as pd\n",
    "import matplotlib.pyplot as plt\n",
    "import seaborn as sns\n",
    "\n",
    "from sklearn.preprocessing import StandardScaler\n",
    "from sklearn.linear_model import LogisticRegression\n",
    "from sklearn.metrics import accuracy_score\n",
    "from sklearn.metrics import classification_report\n",
    "from sklearn.metrics import confusion_matrix\n",
    "\n",
    "import tensorflow as tf\n",
    "from keras.utils import to_categorical"
   ]
  },
  {
   "cell_type": "markdown",
   "id": "7fc8c166-1870-4cf1-a53d-0f5142ab6405",
   "metadata": {
    "tags": []
   },
   "source": [
    "# Functions"
   ]
  },
  {
   "cell_type": "markdown",
   "id": "e3448c7d-a1c9-47bf-b7f3-423ad1a06834",
   "metadata": {
    "jp-MarkdownHeadingCollapsed": true,
    "tags": []
   },
   "source": [
    "## Classes distribution"
   ]
  },
  {
   "cell_type": "code",
   "execution_count": null,
   "id": "04eb5d39-6477-4cca-ad73-4a994dab6ce4",
   "metadata": {},
   "outputs": [],
   "source": [
    "def display_pie_chart(df, column_name, title=None, filename=None):\n",
    "    \"\"\" Function to display the percentage ratio of column (with the name column_name) content \n",
    "    Args:\n",
    "        1) df - the original dataframe that contains the required information\n",
    "        2) column_name - the name of the df dataframe column whose percentage values are to be found\n",
    "        3) title - the title of the graph\n",
    "        4) filename - the relative path where the file will be saved (with the file name, the file extension is not required) or just the filename\n",
    "    Returns:\n",
    "        None, but plots graph\n",
    "    \"\"\"\n",
    "    # Calculate the percentage of each activity in original_df\n",
    "    activity_percentages_df = df[column_name].value_counts(normalize=True) * 100\n",
    "\n",
    "    plt.figure(figsize=(12, 6))\n",
    "\n",
    "    # Plot pie chart for df\n",
    "    sns.set_palette(\"Set3\")\n",
    "    plt.pie(activity_percentages_df, labels=activity_percentages_df.index, autopct='%1.1f%%', startangle=140)\n",
    "    plt.title(title)\n",
    "\n",
    "    # Adjust layout\n",
    "    plt.tight_layout()\n",
    "    if filename:\n",
    "        plt.savefig(f'{filename}.png', bbox_inches='tight')\n",
    "    plt.show()"
   ]
  },
  {
   "cell_type": "code",
   "execution_count": null,
   "id": "4bccbfc0-cf25-46bc-ab8e-ccde98cbf9a1",
   "metadata": {},
   "outputs": [],
   "source": [
    "def display_pie_charts(first_df, second_df, column, first_chart_title='First DataFrame', second_chart_title='Second DataFrame', filename=None):\n",
    "    \"\"\"Function for displaying the ratio of column content between two dataframes in the form of pie charts\n",
    "    Args:\n",
    "        1) first_df - the original dataframe that contains the required information\n",
    "        2) second_df - a dataframe that contains the results of windowing \n",
    "        3) column - the name of the dataframe column whose percentage values are to be found\n",
    "        4) filename - the relative path where the file will be saved (with the file name, the file extension is not required) or just the filename\n",
    "    Returns:\n",
    "        None; just builds a pie chart to display the ratio of column contents between two dataframes\n",
    "    \"\"\"\n",
    "    # Calculate the percentage of each activity in first_df\n",
    "    activity_percentages_first_df = first_df[column].value_counts(normalize=True) * 100\n",
    "\n",
    "    # Calculate the percentage of each activity in second_df\n",
    "    activity_percentages_second_df = second_df[column].value_counts(normalize=True) * 100\n",
    "\n",
    "    # Create subplots for pie charts\n",
    "    fig, axes = plt.subplots(1, 2, figsize=(12, 6))\n",
    "\n",
    "    # Plot pie chart for df\n",
    "    sns.set_palette(\"Set3\")\n",
    "    axes[0].pie(activity_percentages_first_df, labels=activity_percentages_first_df.index, autopct='%1.1f%%', startangle=140)\n",
    "    axes[0].set_title(first_chart_title)\n",
    "\n",
    "    # Plot pie chart for windowed_df\n",
    "    sns.set_palette(\"Set3\")\n",
    "    axes[1].pie(activity_percentages_second_df, labels=activity_percentages_first_df.index, autopct='%1.1f%%', startangle=140)\n",
    "    axes[1].set_title(second_chart_title)\n",
    "\n",
    "    # Adjust layout\n",
    "    plt.tight_layout()\n",
    "    if filename:\n",
    "        plt.savefig(f'{filename}.png', bbox_inches='tight')\n",
    "    plt.show()"
   ]
  },
  {
   "cell_type": "markdown",
   "id": "0ffbfa8e-8d6d-494a-9109-8a9db6d6a98a",
   "metadata": {},
   "source": [
    "## Model Training"
   ]
  },
  {
   "cell_type": "code",
   "execution_count": null,
   "id": "ec0d2c01-f3b3-40d7-9bad-25da183c2973",
   "metadata": {},
   "outputs": [],
   "source": [
    "def plot_graphs(history, strings, filename=None):\n",
    "    \"\"\"Function to plot graphs for two training history parameters (eg accuracy and loss)\n",
    "    Args:\n",
    "        1) history - model training history\n",
    "        2) strings - an array of names of history parameters (only the data of the first two history parameters specified in this array will be taken for graphing)\n",
    "        3) filename - the relative path where the file will be saved (with the file name, the file extension is not required) or just the filename\n",
    "    \"\"\"\n",
    "    fig, axes = plt.subplots(1, 2, figsize=(12, 6))\n",
    "    axes[0].plot(history.history[strings[0]], label=strings[0])\n",
    "    axes[0].plot(history.history[f\"val_{strings[0]}\"], label=f\"val_{strings[0]}\")\n",
    "    axes[0].set_xlabel('Epochs')\n",
    "    axes[0].set_ylabel(strings[0])\n",
    "    axes[0].legend()\n",
    "    \n",
    "    axes[1].plot(history.history[strings[1]], label=strings[1])\n",
    "    axes[1].plot(history.history[f\"val_{strings[1]}\"], label=f\"val_{strings[1]}\")\n",
    "    axes[1].set_xlabel('Epochs')\n",
    "    axes[1].set_ylabel(strings[1])\n",
    "    axes[1].legend()\n",
    "    \n",
    "    if filename:\n",
    "        plt.savefig(f\"{filename}.png\", bbox_inches='tight')\n",
    "    plt.show()"
   ]
  },
  {
   "cell_type": "markdown",
   "id": "c10c8457-6325-4919-b408-964ba0ff11dd",
   "metadata": {
    "tags": []
   },
   "source": [
    "# Read and prepare train, validation and test datasets"
   ]
  },
  {
   "cell_type": "markdown",
   "id": "ee589c73-10db-4679-bb94-0438b8c57c4a",
   "metadata": {
    "jp-MarkdownHeadingCollapsed": true,
    "tags": []
   },
   "source": [
    "## Read train_data and test_data"
   ]
  },
  {
   "cell_type": "code",
   "execution_count": null,
   "id": "7b908e77-b105-4250-aae5-b034e11a206c",
   "metadata": {},
   "outputs": [],
   "source": [
    "train_data = pd.read_csv('data/40_Hz/model_data/train_data.csv')\n",
    "train_data.head()"
   ]
  },
  {
   "cell_type": "code",
   "execution_count": null,
   "id": "34a52aeb-302b-47df-a739-9635663bddef",
   "metadata": {},
   "outputs": [],
   "source": [
    "train_data.info()"
   ]
  },
  {
   "cell_type": "code",
   "execution_count": null,
   "id": "c03a971f-a2af-4ecd-a2ad-6848148f6e48",
   "metadata": {},
   "outputs": [],
   "source": [
    "test_data = pd.read_csv('data/40_Hz/model_data/test_data.csv')\n",
    "test_data.head()"
   ]
  },
  {
   "cell_type": "code",
   "execution_count": null,
   "id": "b0ad9250-bcf2-4674-91a5-c7f4c9cb4b4c",
   "metadata": {},
   "outputs": [],
   "source": [
    "test_data.info()"
   ]
  },
  {
   "cell_type": "markdown",
   "id": "a87aab8d-ac57-4d5d-a485-da4239b9cbc1",
   "metadata": {
    "tags": []
   },
   "source": [
    "## Add 'activity_number' column to train_data and test_data"
   ]
  },
  {
   "cell_type": "code",
   "execution_count": null,
   "id": "ef58bdda-0167-457e-9367-8308cc76edd5",
   "metadata": {},
   "outputs": [],
   "source": [
    "activity_dict = {'Squat': 0, 'Leg land': 1, 'Walk': 2, 'Lateral squat slide': 3, 'Jogging': 4}\n",
    "train_data['activity_number'] = train_data['activity'].apply(lambda x: activity_dict[x])\n",
    "test_data['activity_number'] = test_data['activity'].apply(lambda x: activity_dict[x])\n",
    "train_data.head()"
   ]
  },
  {
   "cell_type": "markdown",
   "id": "26a3eb8c-c37c-4330-9e73-210efe66c594",
   "metadata": {},
   "source": [
    "#### Check the contents of the column 'activity_number'"
   ]
  },
  {
   "cell_type": "code",
   "execution_count": null,
   "id": "384f4c45-3a5c-4c90-ad39-3f80d1ea39fb",
   "metadata": {},
   "outputs": [],
   "source": [
    "train_data[train_data['activity'] == 'Leg land'][:2]"
   ]
  },
  {
   "cell_type": "code",
   "execution_count": null,
   "id": "c02c182d-e4ec-490a-80cc-889c80d0035d",
   "metadata": {},
   "outputs": [],
   "source": [
    "train_data[train_data['activity'] == 'Walk'][:2]"
   ]
  },
  {
   "cell_type": "code",
   "execution_count": null,
   "id": "6d8e87de-c1df-4237-a8b4-c54760ffdaeb",
   "metadata": {},
   "outputs": [],
   "source": [
    "train_data[train_data['activity'] == 'Lateral squat slide'][:2]"
   ]
  },
  {
   "cell_type": "code",
   "execution_count": null,
   "id": "a186719c-c708-4adc-a561-b35a87f54665",
   "metadata": {},
   "outputs": [],
   "source": [
    "train_data[train_data['activity'] == 'Jogging'][:2]"
   ]
  },
  {
   "cell_type": "markdown",
   "id": "3684fe57-6849-415a-8329-b0dc27fed58b",
   "metadata": {
    "jp-MarkdownHeadingCollapsed": true,
    "tags": []
   },
   "source": [
    "## Split train_data and test_data into required datasets"
   ]
  },
  {
   "cell_type": "markdown",
   "id": "027f5e8f-9d01-4e33-a17e-f6e6262f357d",
   "metadata": {
    "tags": []
   },
   "source": [
    "### Split train_data into X_train, y_train, X_valid, y_valid  "
   ]
  },
  {
   "cell_type": "markdown",
   "id": "44319766-ed76-4f07-ba66-39ae8a3a9ca1",
   "metadata": {
    "tags": []
   },
   "source": [
    "#### View the distribution of classes before dividing the train_data dataset"
   ]
  },
  {
   "cell_type": "code",
   "execution_count": null,
   "id": "22235e83-1121-4a1a-bf04-807ef685cd06",
   "metadata": {},
   "outputs": [],
   "source": [
    "display_pie_chart(df=train_data, column_name='activity', title='Class label distribution')"
   ]
  },
  {
   "cell_type": "code",
   "execution_count": null,
   "id": "1902af2f-e965-48ae-b39a-48645c9a3d82",
   "metadata": {},
   "outputs": [],
   "source": [
    "display_pie_chart(df=train_data, column_name='activity_number', title='Class label distribution')"
   ]
  },
  {
   "cell_type": "markdown",
   "id": "bd8e1fc8-e54b-4f8f-ab55-04b8cb371beb",
   "metadata": {},
   "source": [
    "#### Perform spliting"
   ]
  },
  {
   "cell_type": "code",
   "execution_count": null,
   "id": "60ee2bea-d15b-44ec-a156-65ad5b28656d",
   "metadata": {},
   "outputs": [],
   "source": [
    "X_train = pd.DataFrame()\n",
    "y_train = []\n",
    "\n",
    "X_valid = pd.DataFrame()\n",
    "y_valid = []\n",
    "\n",
    "counter = 0\n",
    "\n",
    "for activity in train_data['activity'].unique():\n",
    "    activity_data = train_data[train_data['activity'] == activity].copy()\n",
    "    activity_data.reset_index(inplace=True)\n",
    "    activity_data.drop('index', axis=1, inplace=True)\n",
    "    split_index = int(0.8 * len(activity_data))\n",
    "    if counter != 0:\n",
    "        X_train = pd.concat([X_train, activity_data[activity_data.columns[:-2]][:split_index]])\n",
    "    else:\n",
    "        X_train = activity_data[activity_data.columns[:-2]][:split_index]\n",
    "        \n",
    "    y_train.extend(list(activity_data['activity_number'].values[:split_index]))\n",
    "    \n",
    "    \n",
    "    if counter != 0:\n",
    "        X_valid = pd.concat([X_valid, activity_data[activity_data.columns[:-2]][split_index:]])\n",
    "    else:\n",
    "        X_valid = activity_data[activity_data.columns[:-2]][split_index:]\n",
    "        \n",
    "    y_valid.extend(list(activity_data['activity_number'].values[split_index:]))\n",
    "    \n",
    "    counter += 1\n",
    "    \n",
    "print(f'len(X_train) = {len(X_train)}')\n",
    "print(f'len(y_train) = {len(y_train)}')\n",
    "\n",
    "print(f'len(X_valid) = {len(X_valid)}')\n",
    "print(f'len(y_valid) = {len(y_valid)}')"
   ]
  },
  {
   "cell_type": "markdown",
   "id": "790a6e50-e87f-4e70-be20-d6233ab8fe36",
   "metadata": {},
   "source": [
    "#### View the distribution of classes after dividing the train_data dataset"
   ]
  },
  {
   "cell_type": "code",
   "execution_count": null,
   "id": "6cf64c03-441d-4760-9883-d5fae4cb30e2",
   "metadata": {},
   "outputs": [],
   "source": [
    "train_df = X_train.copy()\n",
    "train_df['activity_number'] = y_train\n",
    "\n",
    "valid_df = X_valid.copy()\n",
    "valid_df['activity_number'] = y_valid\n",
    "\n",
    "display_pie_charts(first_df=train_df, second_df=valid_df, column='activity_number', \n",
    "                   first_chart_title='Train_df class label distribution',\n",
    "                   second_chart_title='Validation_df class label distribution', \n",
    "                   filename='graphs/train_valid_pie_charts')"
   ]
  },
  {
   "cell_type": "markdown",
   "id": "a2fc9715-6129-4507-9701-675c3ecd67bb",
   "metadata": {
    "tags": []
   },
   "source": [
    "### Split test_data into X_test, y_test"
   ]
  },
  {
   "cell_type": "code",
   "execution_count": null,
   "id": "3397d743-9772-4ea3-ad9d-7efce631de27",
   "metadata": {},
   "outputs": [],
   "source": [
    "display_pie_chart(df=test_data, column_name='activity_number', title='Class label distribution', filename='graphs/test_pie_chart')"
   ]
  },
  {
   "cell_type": "code",
   "execution_count": null,
   "id": "1b58884a-9c37-495d-ad7a-1fe111888b7b",
   "metadata": {},
   "outputs": [],
   "source": [
    "X_test = test_data[test_data.columns[:-2]]\n",
    "y_test = test_data['activity_number'].values\n",
    "\n",
    "print(f'len(X_test) = {len(X_test)}')\n",
    "print(f'len(y_test) = {len(y_test)}')"
   ]
  },
  {
   "cell_type": "markdown",
   "id": "9e91e069-a021-46f9-a974-59dfcf5fef00",
   "metadata": {},
   "source": [
    "# Model training"
   ]
  },
  {
   "cell_type": "markdown",
   "id": "5c7dba20-ba5a-48dd-bd6f-4e8c9296b602",
   "metadata": {
    "tags": []
   },
   "source": [
    "### View the sizes of the training, validation and test datasets"
   ]
  },
  {
   "cell_type": "code",
   "execution_count": null,
   "id": "e6a253d9-56ba-431f-a3ff-7b6c5abb39e3",
   "metadata": {},
   "outputs": [],
   "source": [
    "y_train = np.array(y_train)\n",
    "y_valid = np.array(y_valid)\n",
    "y_test = np.array(y_test)\n",
    "\n",
    "# Convert Label Encoded target data to one-hot encoded format\n",
    "y_train_encoded = to_categorical(y_train)\n",
    "y_valid_encoded = to_categorical(y_valid)\n",
    "y_test_encoded = to_categorical(y_test)\n",
    "\n",
    "print(f'len(X_train) = {len(X_train)}')\n",
    "print(f'len(y_train) = {len(y_train)}')\n",
    "\n",
    "print(f'len(X_valid) = {len(X_valid)}')\n",
    "print(f'len(y_valid) = {len(y_valid)}')\n",
    "\n",
    "print(f'len(X_test) = {len(X_test)}')\n",
    "print(f'len(y_test) = {len(y_test)}')"
   ]
  },
  {
   "cell_type": "markdown",
   "id": "a8069145-9802-43d8-bcb4-0643f5559c74",
   "metadata": {},
   "source": [
    "### Scale X_train, X_valid, X_test datasets"
   ]
  },
  {
   "cell_type": "code",
   "execution_count": null,
   "id": "a7662a5d-f163-4235-a097-cb7bc772eafa",
   "metadata": {},
   "outputs": [],
   "source": [
    "# Initialize the StandardScaler\n",
    "scaler = StandardScaler()\n",
    "\n",
    "# Fit the scaler on the training data and transform it\n",
    "X_train_scaled = scaler.fit_transform(X_train)\n",
    "\n",
    "# Transform the validation and test data using the same scaler\n",
    "X_valid_scaled = scaler.transform(X_valid)\n",
    "X_test_scaled = scaler.transform(X_test)"
   ]
  },
  {
   "cell_type": "markdown",
   "id": "54557569-feb4-4f37-a5fe-1febc7ac5b94",
   "metadata": {},
   "source": [
    "### Train the NN model"
   ]
  },
  {
   "cell_type": "code",
   "execution_count": 192,
   "id": "fbec83bf-3bcc-43d4-8d80-eaa6eee747ab",
   "metadata": {},
   "outputs": [
    {
     "name": "stdout",
     "output_type": "stream",
     "text": [
      "Epoch 1/10\n",
      "144/144 [==============================] - 1s 2ms/step - loss: 1.2966 - accuracy: 0.5302 - val_loss: 0.7657 - val_accuracy: 0.9333\n",
      "Epoch 2/10\n",
      "144/144 [==============================] - 0s 2ms/step - loss: 0.5563 - accuracy: 0.9812 - val_loss: 0.4324 - val_accuracy: 0.9750\n",
      "Epoch 3/10\n",
      "144/144 [==============================] - 0s 2ms/step - loss: 0.3534 - accuracy: 0.9903 - val_loss: 0.2978 - val_accuracy: 0.9889\n",
      "Epoch 4/10\n",
      "144/144 [==============================] - 0s 2ms/step - loss: 0.2547 - accuracy: 0.9910 - val_loss: 0.2220 - val_accuracy: 0.9889\n",
      "Epoch 5/10\n",
      "144/144 [==============================] - 0s 2ms/step - loss: 0.1895 - accuracy: 0.9944 - val_loss: 0.1794 - val_accuracy: 0.9889\n",
      "Epoch 6/10\n",
      "144/144 [==============================] - 0s 2ms/step - loss: 0.1494 - accuracy: 0.9958 - val_loss: 0.1574 - val_accuracy: 0.9861\n",
      "Epoch 7/10\n",
      "144/144 [==============================] - 0s 2ms/step - loss: 0.1166 - accuracy: 0.9972 - val_loss: 0.1396 - val_accuracy: 0.9833\n",
      "Epoch 8/10\n",
      "144/144 [==============================] - 0s 2ms/step - loss: 0.0971 - accuracy: 0.9958 - val_loss: 0.1041 - val_accuracy: 0.9917\n",
      "Epoch 9/10\n",
      "144/144 [==============================] - 0s 2ms/step - loss: 0.0788 - accuracy: 0.9979 - val_loss: 0.0921 - val_accuracy: 0.9861\n",
      "Epoch 10/10\n",
      "144/144 [==============================] - 0s 2ms/step - loss: 0.0668 - accuracy: 0.9979 - val_loss: 0.0842 - val_accuracy: 0.9917\n",
      "12/12 [==============================] - 0s 1ms/step - loss: 0.1432 - accuracy: 0.9778\n",
      "Accuracy: 97.78\n"
     ]
    }
   ],
   "source": [
    "model = tf.keras.models.Sequential()\n",
    "model.add(tf.keras.layers.Dense(80, activation='relu', input_shape=(len(X_train.columns), )))\n",
    "model.add(tf.keras.layers.Dense(40, activation='relu'))\n",
    "model.add(tf.keras.layers.Dense(20, activation='relu'))\n",
    "model.add(tf.keras.layers.Dense(10, activation='sigmoid'))\n",
    "model.add(tf.keras.layers.Dense(5, activation='softmax'))\n",
    "\n",
    "# compile the keras model\n",
    "model.compile(loss='categorical_crossentropy', optimizer='adam', metrics=['accuracy'])\n",
    "          \n",
    "history = model.fit(X_train_scaled, y_train_encoded, epochs=10, batch_size=10, validation_data=(X_valid_scaled, y_valid_encoded))\n",
    "          \n",
    "# evaluate the keras model\n",
    "loss, accuracy = model.evaluate(X_test_scaled, y_test_encoded)\n",
    "print(f'Accuracy: {accuracy*100:.2f}')"
   ]
  },
  {
   "cell_type": "code",
   "execution_count": 193,
   "id": "152857eb-377a-4d04-a8ee-b331d5c0a5a7",
   "metadata": {},
   "outputs": [
    {
     "data": {
      "image/png": "[encoded data removed]",
      "text/plain": [
       "<Figure size 1200x600 with 2 Axes>"
      ]
     },
     "metadata": {},
     "output_type": "display_data"
    }
   ],
   "source": [
    "plt.rcdefaults()\n",
    "plot_graphs(history=history, strings=['accuracy', 'loss'])"
   ]
  },
  {
   "cell_type": "code",
   "execution_count": 194,
   "id": "9d012d77-4910-42e8-ba92-74df4b433d60",
   "metadata": {},
   "outputs": [
    {
     "name": "stdout",
     "output_type": "stream",
     "text": [
      "12/12 [==============================] - 0s 3ms/step\n"
     ]
    },
    {
     "data": {
      "image/png": "[encoded data removed]",
      "text/plain": [
       "<Figure size 1000x800 with 2 Axes>"
      ]
     },
     "metadata": {},
     "output_type": "display_data"
    }
   ],
   "source": [
    "# Get predicted labels\n",
    "y_pred_encoded = model.predict(X_test_scaled)\n",
    "y_pred_labels = y_pred_encoded.argmax(axis=1)\n",
    "\n",
    "# Calculate confusion matrix\n",
    "conf_matrix = confusion_matrix(y_test, y_pred_labels)\n",
    "\n",
    "# Define class names\n",
    "class_names = ['Squat', 'Leg land', 'Walk', 'Lateral squat slide', 'Jogging']\n",
    "\n",
    "# Create a heatmap\n",
    "plt.figure(figsize=(10, 8))\n",
    "sns.heatmap(conf_matrix, annot=True, cmap=\"Blues\", fmt=\"d\", xticklabels=class_names, yticklabels=class_names)\n",
    "\n",
    "# Add labels and title\n",
    "plt.xlabel(\"Predicted\")\n",
    "plt.ylabel(\"True\")\n",
    "plt.title(\"Confusion Matrix\")\n",
    "\n",
    "# Show the heatmap\n",
    "plt.show()"
   ]
  },
  {
   "cell_type": "code",
   "execution_count": 195,
   "id": "250545b1-64a5-46dc-b7a1-696af6820042",
   "metadata": {},
   "outputs": [
    {
     "name": "stdout",
     "output_type": "stream",
     "text": [
      "Classification Report:\n",
      "                     precision    recall  f1-score   support\n",
      "\n",
      "              Squat       0.93      0.97      0.95        40\n",
      "           Leg land       1.00      1.00      1.00        66\n",
      "               Walk       0.99      0.95      0.97        84\n",
      "Lateral squat slide       0.95      1.00      0.97        69\n",
      "            Jogging       1.00      0.97      0.98       101\n",
      "\n",
      "           accuracy                           0.98       360\n",
      "          macro avg       0.97      0.98      0.98       360\n",
      "       weighted avg       0.98      0.98      0.98       360\n",
      "\n"
     ]
    }
   ],
   "source": [
    "# Calculate and print classification report\n",
    "class_report = classification_report(y_test, y_pred_labels, target_names=class_names)\n",
    "print(\"Classification Report:\")\n",
    "print(class_report)"
   ]
  },
  {
   "cell_type": "code",
   "execution_count": 196,
   "id": "5b47703c-8792-4fac-9aa7-e9da085e18d7",
   "metadata": {},
   "outputs": [
    {
     "name": "stdout",
     "output_type": "stream",
     "text": [
      "Squat: 40\n",
      "Leg land: 66\n",
      "Walk: 84\n",
      "Lateral squat slide: 69\n",
      "Jogging: 101\n"
     ]
    }
   ],
   "source": [
    "for activity in test_data['activity'].unique():\n",
    "    print(f\"{activity}: {len(test_data[test_data['activity'] == activity])}\")"
   ]
  }
 ],
 "metadata": {
  "kernelspec": {
   "display_name": "Python 3 (ipykernel)",
   "language": "python",
   "name": "python3"
  },
  "language_info": {
   "codemirror_mode": {
    "name": "ipython",
    "version": 3
   },
   "file_extension": ".py",
   "mimetype": "text/x-python",
   "name": "python",
   "nbconvert_exporter": "python",
   "pygments_lexer": "ipython3",
   "version": "3.10.8"
  }
 },
 "nbformat": 4,
 "nbformat_minor": 5
}
