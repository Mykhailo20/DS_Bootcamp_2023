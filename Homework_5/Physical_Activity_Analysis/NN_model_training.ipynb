{
 "cells": [
  {
   "cell_type": "code",
   "execution_count": null,
   "id": "bf10d48e-ab9d-4c71-9e6e-9e870d74330a",
   "metadata": {},
   "outputs": [],
   "source": [
    "import numpy as np\n",
    "import pandas as pd\n",
    "import matplotlib.pyplot as plt\n",
    "import seaborn as sns\n",
    "\n",
    "from sklearn.preprocessing import StandardScaler\n",
    "from sklearn.linear_model import LogisticRegression\n",
    "from sklearn.metrics import accuracy_score\n",
    "from sklearn.metrics import classification_report\n",
    "from sklearn.metrics import confusion_matrix\n",
    "from sklearn.inspection import permutation_importance\n",
    "from sklearn.ensemble import RandomForestClassifier\n",
    "from sklearn.feature_selection import RFE\n",
    "from sklearn.neural_network import MLPClassifier\n",
    "\n",
    "import tensorflow as tf\n",
    "from keras.utils import to_categorical\n",
    "\n",
    "import pickle"
   ]
  },
  {
   "cell_type": "markdown",
   "id": "7fc8c166-1870-4cf1-a53d-0f5142ab6405",
   "metadata": {
    "tags": []
   },
   "source": [
    "# Functions"
   ]
  },
  {
   "cell_type": "markdown",
   "id": "e3448c7d-a1c9-47bf-b7f3-423ad1a06834",
   "metadata": {
    "tags": []
   },
   "source": [
    "## Classes distribution"
   ]
  },
  {
   "cell_type": "code",
   "execution_count": null,
   "id": "04eb5d39-6477-4cca-ad73-4a994dab6ce4",
   "metadata": {},
   "outputs": [],
   "source": [
    "def display_pie_chart(df, column_name, title=None, filename=None):\n",
    "    \"\"\" Function to display the percentage ratio of column (with the name column_name) content \n",
    "    Args:\n",
    "        1) df - the original dataframe that contains the required information\n",
    "        2) column_name - the name of the df dataframe column whose percentage values are to be found\n",
    "        3) title - the title of the graph\n",
    "        4) filename - the relative path where the file will be saved (with the file name, the file extension is not required) or just the filename\n",
    "    Returns:\n",
    "        None, but plots graph\n",
    "    \"\"\"\n",
    "    # Calculate the percentage of each activity in original_df\n",
    "    activity_percentages_df = df[column_name].value_counts(normalize=True) * 100\n",
    "\n",
    "    plt.figure(figsize=(12, 6))\n",
    "\n",
    "    # Plot pie chart for df\n",
    "    sns.set_palette(\"Set3\")\n",
    "    plt.pie(activity_percentages_df, labels=activity_percentages_df.index, autopct='%1.1f%%', startangle=140)\n",
    "    plt.title(title)\n",
    "\n",
    "    # Adjust layout\n",
    "    plt.tight_layout()\n",
    "    if filename:\n",
    "        plt.savefig(f'{filename}.png', bbox_inches='tight')\n",
    "    plt.show()"
   ]
  },
  {
   "cell_type": "code",
   "execution_count": null,
   "id": "4bccbfc0-cf25-46bc-ab8e-ccde98cbf9a1",
   "metadata": {},
   "outputs": [],
   "source": [
    "def display_pie_charts(first_df, second_df, column, first_chart_title='First DataFrame', second_chart_title='Second DataFrame', filename=None):\n",
    "    \"\"\"Function for displaying the ratio of column content between two dataframes in the form of pie charts\n",
    "    Args:\n",
    "        1) first_df - the original dataframe that contains the required information\n",
    "        2) second_df - a dataframe that contains the results of windowing \n",
    "        3) column - the name of the dataframe column whose percentage values are to be found\n",
    "        4) filename - the relative path where the file will be saved (with the file name, the file extension is not required) or just the filename\n",
    "    Returns:\n",
    "        None; just builds a pie chart to display the ratio of column contents between two dataframes\n",
    "    \"\"\"\n",
    "    # Calculate the percentage of each activity in first_df\n",
    "    activity_percentages_first_df = first_df[column].value_counts(normalize=True) * 100\n",
    "\n",
    "    # Calculate the percentage of each activity in second_df\n",
    "    activity_percentages_second_df = second_df[column].value_counts(normalize=True) * 100\n",
    "\n",
    "    # Create subplots for pie charts\n",
    "    fig, axes = plt.subplots(1, 2, figsize=(12, 6))\n",
    "\n",
    "    # Plot pie chart for df\n",
    "    sns.set_palette(\"Set3\")\n",
    "    axes[0].pie(activity_percentages_first_df, labels=activity_percentages_first_df.index, autopct='%1.1f%%', startangle=140)\n",
    "    axes[0].set_title(first_chart_title)\n",
    "\n",
    "    # Plot pie chart for windowed_df\n",
    "    sns.set_palette(\"Set3\")\n",
    "    axes[1].pie(activity_percentages_second_df, labels=activity_percentages_first_df.index, autopct='%1.1f%%', startangle=140)\n",
    "    axes[1].set_title(second_chart_title)\n",
    "\n",
    "    # Adjust layout\n",
    "    plt.tight_layout()\n",
    "    if filename:\n",
    "        plt.savefig(f'{filename}.png', bbox_inches='tight')\n",
    "    plt.show()"
   ]
  },
  {
   "cell_type": "markdown",
   "id": "0ffbfa8e-8d6d-494a-9109-8a9db6d6a98a",
   "metadata": {},
   "source": [
    "## Model Training"
   ]
  },
  {
   "cell_type": "code",
   "execution_count": null,
   "id": "ec0d2c01-f3b3-40d7-9bad-25da183c2973",
   "metadata": {},
   "outputs": [],
   "source": [
    "def plot_graphs(history, strings, filename=None):\n",
    "    \"\"\"Function to plot graphs for two training history parameters (eg accuracy and loss)\n",
    "    Args:\n",
    "        1) history - model training history\n",
    "        2) strings - an array of names of history parameters (only the data of the first two history parameters specified in this array will be taken for graphing)\n",
    "        3) filename - the relative path where the file will be saved (with the file name, the file extension is not required) or just the filename\n",
    "    \"\"\"\n",
    "    fig, axes = plt.subplots(1, 2, figsize=(12, 6))\n",
    "    axes[0].plot(history.history[strings[0]], label=strings[0])\n",
    "    axes[0].plot(history.history[f\"val_{strings[0]}\"], label=f\"val_{strings[0]}\")\n",
    "    axes[0].set_xlabel('Epochs')\n",
    "    axes[0].set_ylabel(strings[0])\n",
    "    axes[0].legend()\n",
    "    \n",
    "    axes[1].plot(history.history[strings[1]], label=strings[1])\n",
    "    axes[1].plot(history.history[f\"val_{strings[1]}\"], label=f\"val_{strings[1]}\")\n",
    "    axes[1].set_xlabel('Epochs')\n",
    "    axes[1].set_ylabel(strings[1])\n",
    "    axes[1].legend()\n",
    "    \n",
    "    if filename:\n",
    "        plt.savefig(f\"{filename}.png\", bbox_inches='tight')\n",
    "    plt.show()"
   ]
  },
  {
   "cell_type": "markdown",
   "id": "c10c8457-6325-4919-b408-964ba0ff11dd",
   "metadata": {
    "tags": []
   },
   "source": [
    "# Read and prepare train, validation and test datasets"
   ]
  },
  {
   "cell_type": "markdown",
   "id": "ee589c73-10db-4679-bb94-0438b8c57c4a",
   "metadata": {
    "tags": []
   },
   "source": [
    "## Read train_data and test_data"
   ]
  },
  {
   "cell_type": "code",
   "execution_count": null,
   "id": "7b908e77-b105-4250-aae5-b034e11a206c",
   "metadata": {},
   "outputs": [],
   "source": [
    "train_data = pd.read_csv('data/40_Hz/model_data/train_data.csv')\n",
    "train_data.head()"
   ]
  },
  {
   "cell_type": "code",
   "execution_count": null,
   "id": "34a52aeb-302b-47df-a739-9635663bddef",
   "metadata": {},
   "outputs": [],
   "source": [
    "train_data.info()"
   ]
  },
  {
   "cell_type": "code",
   "execution_count": null,
   "id": "c03a971f-a2af-4ecd-a2ad-6848148f6e48",
   "metadata": {},
   "outputs": [],
   "source": [
    "test_data = pd.read_csv('data/40_Hz/model_data/test_data.csv')\n",
    "test_data.head()"
   ]
  },
  {
   "cell_type": "code",
   "execution_count": null,
   "id": "b0ad9250-bcf2-4674-91a5-c7f4c9cb4b4c",
   "metadata": {},
   "outputs": [],
   "source": [
    "test_data.info()"
   ]
  },
  {
   "cell_type": "markdown",
   "id": "a87aab8d-ac57-4d5d-a485-da4239b9cbc1",
   "metadata": {
    "tags": []
   },
   "source": [
    "## Add 'activity_number' column to train_data and test_data"
   ]
  },
  {
   "cell_type": "code",
   "execution_count": null,
   "id": "ef58bdda-0167-457e-9367-8308cc76edd5",
   "metadata": {},
   "outputs": [],
   "source": [
    "activity_dict = {'Squat': 0, 'Leg land': 1, 'Walk': 2, 'Lateral squat slide': 3, 'Jogging': 4}\n",
    "train_data['activity_number'] = train_data['activity'].apply(lambda x: activity_dict[x])\n",
    "test_data['activity_number'] = test_data['activity'].apply(lambda x: activity_dict[x])\n",
    "train_data.head()"
   ]
  },
  {
   "cell_type": "markdown",
   "id": "26a3eb8c-c37c-4330-9e73-210efe66c594",
   "metadata": {
    "jp-MarkdownHeadingCollapsed": true,
    "tags": []
   },
   "source": [
    "#### Check the contents of the column 'activity_number'"
   ]
  },
  {
   "cell_type": "code",
   "execution_count": null,
   "id": "384f4c45-3a5c-4c90-ad39-3f80d1ea39fb",
   "metadata": {},
   "outputs": [],
   "source": [
    "train_data[train_data['activity'] == 'Leg land'][:2]"
   ]
  },
  {
   "cell_type": "code",
   "execution_count": null,
   "id": "c02c182d-e4ec-490a-80cc-889c80d0035d",
   "metadata": {},
   "outputs": [],
   "source": [
    "train_data[train_data['activity'] == 'Walk'][:2]"
   ]
  },
  {
   "cell_type": "code",
   "execution_count": null,
   "id": "6d8e87de-c1df-4237-a8b4-c54760ffdaeb",
   "metadata": {},
   "outputs": [],
   "source": [
    "train_data[train_data['activity'] == 'Lateral squat slide'][:2]"
   ]
  },
  {
   "cell_type": "code",
   "execution_count": null,
   "id": "a186719c-c708-4adc-a561-b35a87f54665",
   "metadata": {},
   "outputs": [],
   "source": [
    "train_data[train_data['activity'] == 'Jogging'][:2]"
   ]
  },
  {
   "cell_type": "markdown",
   "id": "3684fe57-6849-415a-8329-b0dc27fed58b",
   "metadata": {
    "jp-MarkdownHeadingCollapsed": true,
    "tags": []
   },
   "source": [
    "## Split train_data and test_data into required datasets"
   ]
  },
  {
   "cell_type": "markdown",
   "id": "027f5e8f-9d01-4e33-a17e-f6e6262f357d",
   "metadata": {
    "tags": []
   },
   "source": [
    "### Split train_data into X_train, y_train, X_valid, y_valid  "
   ]
  },
  {
   "cell_type": "markdown",
   "id": "44319766-ed76-4f07-ba66-39ae8a3a9ca1",
   "metadata": {
    "tags": []
   },
   "source": [
    "#### View the distribution of classes before dividing the train_data dataset"
   ]
  },
  {
   "cell_type": "code",
   "execution_count": null,
   "id": "22235e83-1121-4a1a-bf04-807ef685cd06",
   "metadata": {},
   "outputs": [],
   "source": [
    "display_pie_chart(df=train_data, column_name='activity', title='Class label distribution')"
   ]
  },
  {
   "cell_type": "code",
   "execution_count": null,
   "id": "1902af2f-e965-48ae-b39a-48645c9a3d82",
   "metadata": {},
   "outputs": [],
   "source": [
    "display_pie_chart(df=train_data, column_name='activity_number', title='Class label distribution')"
   ]
  },
  {
   "cell_type": "markdown",
   "id": "bd8e1fc8-e54b-4f8f-ab55-04b8cb371beb",
   "metadata": {
    "jp-MarkdownHeadingCollapsed": true,
    "tags": []
   },
   "source": [
    "#### Perform spliting"
   ]
  },
  {
   "cell_type": "code",
   "execution_count": null,
   "id": "60ee2bea-d15b-44ec-a156-65ad5b28656d",
   "metadata": {},
   "outputs": [],
   "source": [
    "X_train = pd.DataFrame()\n",
    "y_train = []\n",
    "\n",
    "X_valid = pd.DataFrame()\n",
    "y_valid = []\n",
    "\n",
    "counter = 0\n",
    "\n",
    "for activity in train_data['activity'].unique():\n",
    "    activity_data = train_data[train_data['activity'] == activity].copy()\n",
    "    activity_data.reset_index(inplace=True)\n",
    "    activity_data.drop('index', axis=1, inplace=True)\n",
    "    split_index = int(0.8 * len(activity_data))\n",
    "    if counter != 0:\n",
    "        X_train = pd.concat([X_train, activity_data[activity_data.columns[:-2]][:split_index]])\n",
    "    else:\n",
    "        X_train = activity_data[activity_data.columns[:-2]][:split_index]\n",
    "        \n",
    "    y_train.extend(list(activity_data['activity_number'].values[:split_index]))\n",
    "    \n",
    "    \n",
    "    if counter != 0:\n",
    "        X_valid = pd.concat([X_valid, activity_data[activity_data.columns[:-2]][split_index:]])\n",
    "    else:\n",
    "        X_valid = activity_data[activity_data.columns[:-2]][split_index:]\n",
    "        \n",
    "    y_valid.extend(list(activity_data['activity_number'].values[split_index:]))\n",
    "    \n",
    "    counter += 1\n",
    "    \n",
    "print(f'len(X_train) = {len(X_train)}')\n",
    "print(f'len(y_train) = {len(y_train)}')\n",
    "\n",
    "print(f'len(X_valid) = {len(X_valid)}')\n",
    "print(f'len(y_valid) = {len(y_valid)}')"
   ]
  },
  {
   "cell_type": "markdown",
   "id": "790a6e50-e87f-4e70-be20-d6233ab8fe36",
   "metadata": {
    "jp-MarkdownHeadingCollapsed": true,
    "tags": []
   },
   "source": [
    "#### View the distribution of classes after dividing the train_data dataset"
   ]
  },
  {
   "cell_type": "code",
   "execution_count": null,
   "id": "6cf64c03-441d-4760-9883-d5fae4cb30e2",
   "metadata": {},
   "outputs": [],
   "source": [
    "train_df = X_train.copy()\n",
    "train_df['activity_number'] = y_train\n",
    "\n",
    "valid_df = X_valid.copy()\n",
    "valid_df['activity_number'] = y_valid\n",
    "\n",
    "display_pie_charts(first_df=train_df, second_df=valid_df, column='activity_number', \n",
    "                   first_chart_title='Train_df class label distribution',\n",
    "                   second_chart_title='Validation_df class label distribution')"
   ]
  },
  {
   "cell_type": "markdown",
   "id": "a2fc9715-6129-4507-9701-675c3ecd67bb",
   "metadata": {
    "jp-MarkdownHeadingCollapsed": true,
    "tags": []
   },
   "source": [
    "### Split test_data into X_test, y_test"
   ]
  },
  {
   "cell_type": "code",
   "execution_count": null,
   "id": "3397d743-9772-4ea3-ad9d-7efce631de27",
   "metadata": {},
   "outputs": [],
   "source": [
    "display_pie_chart(df=test_data, column_name='activity_number', title='Class label distribution')"
   ]
  },
  {
   "cell_type": "code",
   "execution_count": null,
   "id": "1b58884a-9c37-495d-ad7a-1fe111888b7b",
   "metadata": {},
   "outputs": [],
   "source": [
    "X_test = test_data[test_data.columns[:-2]]\n",
    "y_test = test_data['activity_number'].values\n",
    "\n",
    "print(f'len(X_test) = {len(X_test)}')\n",
    "print(f'len(y_test) = {len(y_test)}')"
   ]
  },
  {
   "cell_type": "markdown",
   "id": "9e91e069-a021-46f9-a974-59dfcf5fef00",
   "metadata": {},
   "source": [
    "# Model training"
   ]
  },
  {
   "cell_type": "markdown",
   "id": "5c7dba20-ba5a-48dd-bd6f-4e8c9296b602",
   "metadata": {
    "tags": []
   },
   "source": [
    "### View the sizes of the training, validation and test datasets"
   ]
  },
  {
   "cell_type": "code",
   "execution_count": null,
   "id": "e6a253d9-56ba-431f-a3ff-7b6c5abb39e3",
   "metadata": {},
   "outputs": [],
   "source": [
    "y_train = np.array(y_train)\n",
    "y_valid = np.array(y_valid)\n",
    "y_test = np.array(y_test)\n",
    "\n",
    "# Convert Label Encoded target data to one-hot encoded format\n",
    "y_train_encoded = to_categorical(y_train)\n",
    "y_valid_encoded = to_categorical(y_valid)\n",
    "y_test_encoded = to_categorical(y_test)\n",
    "\n",
    "print(f'len(X_train) = {len(X_train)}')\n",
    "print(f'len(y_train) = {len(y_train)}')\n",
    "\n",
    "print(f'len(X_valid) = {len(X_valid)}')\n",
    "print(f'len(y_valid) = {len(y_valid)}')\n",
    "\n",
    "print(f'len(X_test) = {len(X_test)}')\n",
    "print(f'len(y_test) = {len(y_test)}')"
   ]
  },
  {
   "cell_type": "markdown",
   "id": "a8069145-9802-43d8-bcb4-0643f5559c74",
   "metadata": {},
   "source": [
    "### Scale X_train, X_valid, X_test datasets"
   ]
  },
  {
   "cell_type": "code",
   "execution_count": null,
   "id": "a7662a5d-f163-4235-a097-cb7bc772eafa",
   "metadata": {},
   "outputs": [],
   "source": [
    "# Initialize the StandardScaler\n",
    "scaler = StandardScaler()\n",
    "\n",
    "# Fit the scaler on the training data and transform it\n",
    "X_train_scaled = scaler.fit_transform(X_train)\n",
    "\n",
    "# Transform the validation and test data using the same scaler\n",
    "X_valid_scaled = scaler.transform(X_valid)\n",
    "X_test_scaled = scaler.transform(X_test)"
   ]
  },
  {
   "cell_type": "markdown",
   "id": "54557569-feb4-4f37-a5fe-1febc7ac5b94",
   "metadata": {
    "jp-MarkdownHeadingCollapsed": true,
    "tags": []
   },
   "source": [
    "### Train the NN model"
   ]
  },
  {
   "cell_type": "code",
   "execution_count": null,
   "id": "83d9d087-048b-4528-b2dd-1019feda2a95",
   "metadata": {},
   "outputs": [],
   "source": [
    "best_model = None\n",
    "best_model_accuracy = None\n",
    "best_model_history = None"
   ]
  },
  {
   "cell_type": "code",
   "execution_count": null,
   "id": "fbec83bf-3bcc-43d4-8d80-eaa6eee747ab",
   "metadata": {},
   "outputs": [],
   "source": [
    "experiments_number = 5\n",
    "\n",
    "accuracy_list = []\n",
    "\n",
    "for i in range(experiments_number):\n",
    "    model = tf.keras.models.Sequential()\n",
    "    model.add(tf.keras.layers.Dense(120, activation='relu', input_shape=(len(X_train.columns), )))\n",
    "    model.add(tf.keras.layers.Dense(60, activation='relu'))\n",
    "    model.add(tf.keras.layers.Dense(30, activation='relu'))\n",
    "    model.add(tf.keras.layers.Dense(15, activation='sigmoid'))\n",
    "    model.add(tf.keras.layers.Dense(5, activation='softmax'))\n",
    "\n",
    "    # compile the keras model\n",
    "    model.compile(loss='categorical_crossentropy', optimizer=tf.keras.optimizers.RMSprop(), metrics=['accuracy'])\n",
    "\n",
    "    history = model.fit(X_train_scaled, y_train_encoded, epochs=5, verbose=0, batch_size=10, validation_data=(X_valid_scaled, y_valid_encoded))\n",
    "          \n",
    "    # evaluate the keras model\n",
    "    _, accuracy = model.evaluate(X_test_scaled, y_test_encoded)\n",
    "        \n",
    "    accuracy_list.append(accuracy)\n",
    "    print(f'Accuracy: {accuracy*100:.3f}')\n",
    "    \n",
    "    if best_model == None:\n",
    "        best_model = model\n",
    "        best_model_accuracy = accuracy\n",
    "        best_model_history = history\n",
    "        continue\n",
    "        \n",
    "    if accuracy > best_model_accuracy:\n",
    "        best_model_accuracy = accuracy\n",
    "        best_model = model\n",
    "        best_model_history = history\n",
    "        print(f'best_model_accuracy: {accuracy*100:.3f}')\n",
    "        \n",
    "print(f'\\nAverage accuracy = {np.mean(accuracy_list)*100:.3f}')"
   ]
  },
  {
   "cell_type": "code",
   "execution_count": null,
   "id": "4d7436ab-3c8a-4c3d-ac23-9e8e268bf58d",
   "metadata": {},
   "outputs": [],
   "source": [
    "best_model.save('models/best_model.h5')"
   ]
  },
  {
   "cell_type": "code",
   "execution_count": null,
   "id": "f4ade66d-4a39-4c27-b5d5-78b067da9f7e",
   "metadata": {},
   "outputs": [],
   "source": [
    "with open('models/histories/best_model_history.pkl', 'wb') as f:\n",
    "    pickle.dump(best_model_history.history, f)"
   ]
  },
  {
   "cell_type": "markdown",
   "id": "7c51cb95-4abd-4be4-b59e-d96252943939",
   "metadata": {
    "tags": []
   },
   "source": [
    "# Feature Selection"
   ]
  },
  {
   "cell_type": "markdown",
   "id": "47711dd7-c00c-4049-b8e1-32a468bd305e",
   "metadata": {},
   "source": [
    "## Load the best model from the saved files"
   ]
  },
  {
   "cell_type": "code",
   "execution_count": null,
   "id": "19a043b4-97fa-47b9-b139-c5b87911b6ad",
   "metadata": {},
   "outputs": [],
   "source": [
    "loaded_model = tf.keras.models.load_model('models/best_model.h5')"
   ]
  },
  {
   "cell_type": "markdown",
   "id": "f91ba99e-7c1c-497b-b0a9-ccf5d543b011",
   "metadata": {
    "jp-MarkdownHeadingCollapsed": true,
    "tags": []
   },
   "source": [
    "## Permutation Feature Importance"
   ]
  },
  {
   "cell_type": "code",
   "execution_count": null,
   "id": "971d6d74-b67d-467f-bd0c-09ae9575efe7",
   "metadata": {},
   "outputs": [],
   "source": [
    "# Define a scoring function that uses model predictions\n",
    "def custom_score(estimator, X, y):\n",
    "    y_pred = estimator.predict(X)\n",
    "    y_pred_classes = y_pred.argmax(axis=1)  # Convert to class predictions\n",
    "    y_true_classes = y.argmax(axis=1)       # Convert one-hot encoded to class labels\n",
    "    return accuracy_score(y_true_classes, y_pred_classes)"
   ]
  },
  {
   "cell_type": "code",
   "execution_count": null,
   "id": "b8136b27-0467-4607-9e29-4f8c9e5b7ddb",
   "metadata": {},
   "outputs": [],
   "source": [
    "# Calculate permutation feature importance\n",
    "perm_importance = permutation_importance(\n",
    "    loaded_model, X_test_scaled, y_test_encoded,\n",
    "    scoring=custom_score, n_repeats=10, random_state=42\n",
    ")"
   ]
  },
  {
   "cell_type": "code",
   "execution_count": null,
   "id": "d2e130c2-8cea-4def-9290-8d179aa0d5c6",
   "metadata": {},
   "outputs": [],
   "source": [
    "# Get feature names and their importance scores\n",
    "feature_names = X_test.columns\n",
    "importance_scores = perm_importance.importances_mean\n",
    "\n",
    "# Sort features by importance scores\n",
    "sorted_indices = np.argsort(importance_scores)[::-1]\n",
    "sorted_feature_names = feature_names[sorted_indices]\n",
    "sorted_importance_scores = importance_scores[sorted_indices]\n",
    "\n",
    "# Create a bar plot\n",
    "plt.figure(figsize=(12, 10))\n",
    "plt.barh(range(len(sorted_feature_names)), sorted_importance_scores, align='center', color='blue')\n",
    "plt.yticks(range(len(sorted_feature_names)), sorted_feature_names)\n",
    "plt.xlabel('Importance Score')\n",
    "plt.ylabel('Feature')\n",
    "plt.title('Permutation Feature Importance')\n",
    "plt.tight_layout()\n",
    "\n",
    "plt.savefig('graphs/permutation_feature_importance.png')\n",
    "plt.show()"
   ]
  },
  {
   "cell_type": "markdown",
   "id": "8885458b-d94f-4df4-be39-b815e0a5ea05",
   "metadata": {
    "jp-MarkdownHeadingCollapsed": true,
    "tags": []
   },
   "source": [
    "### Remove some features and view model training results"
   ]
  },
  {
   "cell_type": "code",
   "execution_count": null,
   "id": "b6788bc7-96a9-4bb6-b9f4-95b8bd654f0d",
   "metadata": {},
   "outputs": [],
   "source": [
    "pfi_columns = ['accX_max', 'accX_aad', 'accX_min', 'accX_range', 'accX_std', 'accZ_range', 'accX_iqr', 'gyrZ_min', 'gyrZ_kurtosis', 'accZ_min',\n",
    "               'accY_range', 'gyrZ_aad', 'accZ_kurtosis', 'gyrZ_max', 'accZ_pos_count', 'accZ_std', 'accZ_max', 'accZ_aad', 'accZ_median', 'accZ_assymetry',\n",
    "               'accY_pos_count', 'accY_aad', 'accZ_iqr', 'accY_iqr', 'accY_max', 'accZ_mean', 'gyrZ_median', 'accY_median', 'accX_neg_count', 'accY_pos_count'\n",
    "              ]\n",
    "print(f\"len(pfi_columns) = {len(pfi_columns)}\")\n",
    "X_train_pfi = X_train[pfi_columns]\n",
    "X_valid_pfi = X_valid[pfi_columns]\n",
    "X_test_pfi = X_test[pfi_columns]\n",
    "X_train_pfi.head()"
   ]
  },
  {
   "cell_type": "code",
   "execution_count": null,
   "id": "f54a4b8d-a8e8-4238-80c2-cdfdd9d24de8",
   "metadata": {},
   "outputs": [],
   "source": [
    "print(f\"len(X_train) = {len(X_train)}\")\n",
    "print(f\"len(X_train_pfi) = {len(X_train_pfi)}\")\n",
    "\n",
    "print(f\"\\nlen(X_valid) = {len(X_valid)}\")\n",
    "print(f\"len(X_valid_pfi) = {len(X_valid_pfi)}\")\n",
    "\n",
    "print(f\"\\nlen(X_test) = {len(X_test)}\")\n",
    "print(f\"len(X_test_pfi) = {len(X_test_pfi)}\")"
   ]
  },
  {
   "cell_type": "code",
   "execution_count": null,
   "id": "5ecb73e3-cabb-454f-860d-7f9b17060378",
   "metadata": {},
   "outputs": [],
   "source": [
    "# Initialize the StandardScaler\n",
    "scaler = StandardScaler()\n",
    "\n",
    "# Fit the scaler on the training data and transform it\n",
    "X_train_pfi_scaled = scaler.fit_transform(X_train_pfi)\n",
    "\n",
    "# Transform the validation and test data using the same scaler\n",
    "X_valid_pfi_scaled = scaler.transform(X_valid_pfi)\n",
    "X_test_pfi_scaled = scaler.transform(X_test_pfi)"
   ]
  },
  {
   "cell_type": "code",
   "execution_count": null,
   "id": "a32e7412-42f6-49e7-a325-67bf0a704f42",
   "metadata": {},
   "outputs": [],
   "source": [
    "best_model = None\n",
    "best_model_accuracy = None\n",
    "best_model_history = None"
   ]
  },
  {
   "cell_type": "code",
   "execution_count": null,
   "id": "7f84e964-71d9-4a72-ae16-5e6646336eed",
   "metadata": {},
   "outputs": [],
   "source": [
    "experiments_number = 5\n",
    "\n",
    "accuracy_list = []\n",
    "\n",
    "print(f\"len(X_train_pfi.columns) = {len(X_train_pfi.columns)}\")\n",
    "for i in range(experiments_number):\n",
    "    model = tf.keras.models.Sequential()\n",
    "    model.add(tf.keras.layers.Dense(60, activation='relu', input_shape=(len(X_train_pfi.columns), )))\n",
    "    model.add(tf.keras.layers.Dense(30, activation='relu'))\n",
    "    model.add(tf.keras.layers.Dense(15, activation='sigmoid'))\n",
    "    model.add(tf.keras.layers.Dense(5, activation='softmax'))\n",
    "\n",
    "    # compile the keras model\n",
    "    model.compile(loss='categorical_crossentropy', optimizer=tf.keras.optimizers.RMSprop(), metrics=['accuracy'])\n",
    "\n",
    "    history = model.fit(X_train_pfi_scaled, y_train_encoded, epochs=10, verbose=0, batch_size=10, validation_data=(X_valid_pfi_scaled, y_valid_encoded))\n",
    "          \n",
    "    # evaluate the keras model\n",
    "    _, accuracy = model.evaluate(X_test_pfi_scaled, y_test_encoded)\n",
    "        \n",
    "    accuracy_list.append(accuracy)\n",
    "    print(f'Accuracy: {accuracy*100:.3f}')\n",
    "    \n",
    "    if best_model == None:\n",
    "        best_model = model\n",
    "        best_model_accuracy = accuracy\n",
    "        best_model_history = history\n",
    "        continue\n",
    "        \n",
    "    if accuracy > best_model_accuracy:\n",
    "        best_model_accuracy = accuracy\n",
    "        best_model = model\n",
    "        best_model_history = history\n",
    "        print(f'best_model_accuracy: {accuracy*100:.3f}')\n",
    "        \n",
    "print(f'\\nAverage accuracy = {np.mean(accuracy_list)*100:.3f}')"
   ]
  },
  {
   "cell_type": "markdown",
   "id": "8030c41d-2f4d-4deb-a094-20552a18e52d",
   "metadata": {
    "jp-MarkdownHeadingCollapsed": true,
    "tags": []
   },
   "source": [
    "## MDI (Mean Decrease Impurity)"
   ]
  },
  {
   "cell_type": "code",
   "execution_count": null,
   "id": "943d989d-2471-42c5-bdfd-c72517aa1ff7",
   "metadata": {},
   "outputs": [],
   "source": [
    "# Create a RandomForestClassifier\n",
    "rf_model = RandomForestClassifier(n_estimators=100, random_state=42)\n",
    "\n",
    "# Fit the model on the training data\n",
    "rf_model.fit(X_train_scaled, y_train_encoded)\n",
    "\n",
    "# Get feature importances from the trained model\n",
    "feature_importances = rf_model.feature_importances_\n",
    "\n",
    "# Get feature names\n",
    "feature_names = X_train.columns\n",
    "\n",
    "# Sort features by importance scores\n",
    "sorted_indices = np.argsort(feature_importances)[::-1]\n",
    "sorted_feature_names = feature_names[sorted_indices]\n",
    "sorted_importance_scores = feature_importances[sorted_indices]\n",
    "\n",
    "# Create a bar plot for MDI feature importance\n",
    "plt.figure(figsize=(12, 10))\n",
    "plt.barh(range(len(sorted_feature_names)), sorted_importance_scores, align='center', color='blue')\n",
    "plt.yticks(range(len(sorted_feature_names)), sorted_feature_names)\n",
    "plt.xlabel('Importance Score')\n",
    "plt.ylabel('Feature')\n",
    "plt.title('MDI Feature Importance')\n",
    "plt.tight_layout()\n",
    "\n",
    "plt.savefig('graphs/mdi_feature_importance.png')\n",
    "plt.show()"
   ]
  },
  {
   "cell_type": "markdown",
   "id": "d2aa9c6a-cc10-442c-8d7e-83bde6ad606d",
   "metadata": {
    "jp-MarkdownHeadingCollapsed": true,
    "tags": []
   },
   "source": [
    "### Remove some features and view model training results"
   ]
  },
  {
   "cell_type": "code",
   "execution_count": null,
   "id": "9b76d1b1-5ad9-441b-bc8e-4d7a8bca93bb",
   "metadata": {},
   "outputs": [],
   "source": [
    "mdi_columns = ['accX_range', 'accZ_range', 'gyrZ_iqr'\n",
    "              ]\n",
    "print(f\"len(mdi_columns) = {len(mdi_columns)}\")\n",
    "X_train_mdi = X_train[mdi_columns]\n",
    "X_valid_mdi = X_valid[mdi_columns]\n",
    "X_test_mdi = X_test[mdi_columns]\n",
    "X_train_mdi.head()"
   ]
  },
  {
   "cell_type": "code",
   "execution_count": null,
   "id": "c6597958-e921-4faf-94f1-167fb08735ec",
   "metadata": {},
   "outputs": [],
   "source": [
    "print(f\"len(X_train) = {len(X_train)}\")\n",
    "print(f\"len(X_train_mdi) = {len(X_train_mdi)}\")\n",
    "\n",
    "print(f\"\\nlen(X_valid) = {len(X_valid)}\")\n",
    "print(f\"len(X_valid_mdi) = {len(X_valid_mdi)}\")\n",
    "\n",
    "print(f\"\\nlen(X_test) = {len(X_test)}\")\n",
    "print(f\"len(X_test_mdi) = {len(X_test_mdi)}\")"
   ]
  },
  {
   "cell_type": "code",
   "execution_count": null,
   "id": "e54fbe83-0e5f-440e-8faf-d99daf59a482",
   "metadata": {},
   "outputs": [],
   "source": [
    "# Initialize the StandardScaler\n",
    "scaler = StandardScaler()\n",
    "\n",
    "# Fit the scaler on the training data and transform it\n",
    "X_train_mdi_scaled = scaler.fit_transform(X_train_mdi)\n",
    "\n",
    "# Transform the validation and test data using the same scaler\n",
    "X_valid_mdi_scaled = scaler.transform(X_valid_mdi)\n",
    "X_test_mdi_scaled = scaler.transform(X_test_mdi)"
   ]
  },
  {
   "cell_type": "code",
   "execution_count": null,
   "id": "b8380f73-2cab-4309-8bcb-562cbbf411d2",
   "metadata": {},
   "outputs": [],
   "source": [
    "experiments_number = 5\n",
    "\n",
    "accuracy_list = []\n",
    "\n",
    "print(f\"len(X_train_mdi.columns) = {len(X_train_mdi.columns)}\")\n",
    "for i in range(experiments_number):\n",
    "    model = tf.keras.models.Sequential()\n",
    "    model.add(tf.keras.layers.Dense(60, activation='relu', input_shape=(len(X_train_mdi.columns), )))\n",
    "    model.add(tf.keras.layers.Dense(30, activation='relu'))\n",
    "    model.add(tf.keras.layers.Dense(15, activation='sigmoid'))\n",
    "    model.add(tf.keras.layers.Dense(5, activation='softmax'))\n",
    "\n",
    "    # compile the keras model\n",
    "    model.compile(loss='categorical_crossentropy', optimizer=tf.keras.optimizers.RMSprop(), metrics=['accuracy'])\n",
    "\n",
    "    history = model.fit(X_train_mdi_scaled, y_train_encoded, epochs=10, verbose=0, batch_size=10, validation_data=(X_valid_mdi_scaled, y_valid_encoded))\n",
    "          \n",
    "    # evaluate the keras model\n",
    "    _, accuracy = model.evaluate(X_test_mdi_scaled, y_test_encoded)\n",
    "        \n",
    "    accuracy_list.append(accuracy)\n",
    "    print(f'Accuracy: {accuracy*100:.3f}')\n",
    "    \n",
    "    if best_model == None:\n",
    "        best_model = model\n",
    "        best_model_accuracy = accuracy\n",
    "        best_model_history = history\n",
    "        continue\n",
    "        \n",
    "    if accuracy > best_model_accuracy:\n",
    "        best_model_accuracy = accuracy\n",
    "        best_model = model\n",
    "        best_model_history = history\n",
    "        print(f'best_model_accuracy: {accuracy*100:.3f}')\n",
    "        \n",
    "print(f'\\nAverage accuracy = {np.mean(accuracy_list)*100:.3f}')"
   ]
  },
  {
   "cell_type": "markdown",
   "id": "d9703a53-8104-4805-8c85-dafa087b60cf",
   "metadata": {
    "jp-MarkdownHeadingCollapsed": true,
    "tags": []
   },
   "source": [
    "## RFE (Recursive Feature Elimination)"
   ]
  },
  {
   "cell_type": "code",
   "execution_count": null,
   "id": "069d3a19-0b1d-4a27-b8f0-b70a06365643",
   "metadata": {},
   "outputs": [],
   "source": [
    "# Create a RandomForestClassifier\n",
    "rf_model = RandomForestClassifier(n_estimators=100, random_state=42)\n",
    "\n",
    "# Create an RFE model\n",
    "rfe = RFE(estimator=rf_model, n_features_to_select=1)\n",
    "\n",
    "# Fit RFE model on your data\n",
    "rfe.fit(X_train_scaled, y_train_encoded)\n",
    "\n",
    "# Get feature rankings from RFE\n",
    "feature_rankings = rfe.ranking_\n",
    "\n",
    "# Get feature names\n",
    "feature_names = X_train.columns\n",
    "\n",
    "# Sort features by rankings\n",
    "sorted_indices = np.argsort(feature_rankings)\n",
    "sorted_feature_names = feature_names[sorted_indices]\n",
    "\n",
    "# Create a bar plot for RFE feature rankings\n",
    "plt.figure(figsize=(12, 10))\n",
    "plt.barh(range(len(sorted_feature_names)), feature_rankings[sorted_indices], align='center', color='blue')\n",
    "plt.yticks(range(len(sorted_feature_names)), sorted_feature_names)\n",
    "plt.xlabel('Feature Rank')\n",
    "plt.ylabel('Feature')\n",
    "plt.title('RFE Feature Rankings')\n",
    "plt.tight_layout()\n",
    "\n",
    "plt.savefig('graphs/rfe_feature_rankings.png')\n",
    "plt.show()"
   ]
  },
  {
   "cell_type": "markdown",
   "id": "208496be-56b6-4cbd-8fab-d4d50a001283",
   "metadata": {
    "jp-MarkdownHeadingCollapsed": true,
    "tags": []
   },
   "source": [
    "### Remove some features and view model training results"
   ]
  },
  {
   "cell_type": "code",
   "execution_count": null,
   "id": "0a259a12-ef0b-4e83-8ed6-7e45d63e0a25",
   "metadata": {},
   "outputs": [],
   "source": [
    "rfe_columns = ['accY_range', 'accZ_range', 'accX_range'\n",
    "              ]\n",
    "print(f\"len(rfe_columns) = {len(rfe_columns)}\")\n",
    "X_train_rfe = X_train[rfe_columns]\n",
    "X_valid_rfe = X_valid[rfe_columns]\n",
    "X_test_rfe = X_test[rfe_columns]\n",
    "X_train_rfe.head()"
   ]
  },
  {
   "cell_type": "code",
   "execution_count": null,
   "id": "143f1fe6-d5c3-4d2b-8790-76d487a113d7",
   "metadata": {},
   "outputs": [],
   "source": [
    "print(f\"len(X_train) = {len(X_train)}\")\n",
    "print(f\"len(X_train_rfe) = {len(X_train_rfe)}\")\n",
    "\n",
    "print(f\"\\nlen(X_valid) = {len(X_valid)}\")\n",
    "print(f\"len(X_valid_rfe) = {len(X_valid_rfe)}\")\n",
    "\n",
    "print(f\"\\nlen(X_test) = {len(X_test)}\")\n",
    "print(f\"len(X_test_rfe) = {len(X_test_rfe)}\")"
   ]
  },
  {
   "cell_type": "code",
   "execution_count": null,
   "id": "099fea4c-db91-40c9-8bab-5173f34656ec",
   "metadata": {},
   "outputs": [],
   "source": [
    "# Initialize the StandardScaler\n",
    "scaler = StandardScaler()\n",
    "\n",
    "# Fit the scaler on the training data and transform it\n",
    "X_train_rfe_scaled = scaler.fit_transform(X_train_rfe)\n",
    "\n",
    "# Transform the validation and test data using the same scaler\n",
    "X_valid_rfe_scaled = scaler.transform(X_valid_rfe)\n",
    "X_test_rfe_scaled = scaler.transform(X_test_rfe)"
   ]
  },
  {
   "cell_type": "code",
   "execution_count": null,
   "id": "bf5456ee-a13c-4fa4-802d-77274f849654",
   "metadata": {},
   "outputs": [],
   "source": [
    "experiments_number = 5\n",
    "\n",
    "accuracy_list = []\n",
    "\n",
    "print(f\"len(X_train_rfe.columns) = {len(X_train_rfe.columns)}\")\n",
    "for i in range(experiments_number):\n",
    "    model = tf.keras.models.Sequential()\n",
    "    model.add(tf.keras.layers.Dense(60, activation='relu', input_shape=(len(X_train_rfe.columns), )))\n",
    "    model.add(tf.keras.layers.Dense(30, activation='relu'))\n",
    "    model.add(tf.keras.layers.Dense(15, activation='sigmoid'))\n",
    "    model.add(tf.keras.layers.Dense(5, activation='softmax'))\n",
    "\n",
    "    # compile the keras model\n",
    "    model.compile(loss='categorical_crossentropy', optimizer=tf.keras.optimizers.RMSprop(), metrics=['accuracy'])\n",
    "\n",
    "    history = model.fit(X_train_rfe_scaled, y_train_encoded, epochs=10, verbose=0, batch_size=10, validation_data=(X_valid_rfe_scaled, y_valid_encoded))\n",
    "          \n",
    "    # evaluate the keras model\n",
    "    _, accuracy = model.evaluate(X_test_rfe_scaled, y_test_encoded)\n",
    "        \n",
    "    accuracy_list.append(accuracy)\n",
    "    print(f'Accuracy: {accuracy*100:.3f}')\n",
    "    \n",
    "    if best_model == None:\n",
    "        best_model = model\n",
    "        best_model_accuracy = accuracy\n",
    "        best_model_history = history\n",
    "        continue\n",
    "        \n",
    "    if accuracy > best_model_accuracy:\n",
    "        best_model_accuracy = accuracy\n",
    "        best_model = model\n",
    "        best_model_history = history\n",
    "        print(f'best_model_accuracy: {accuracy*100:.3f}')\n",
    "        \n",
    "print(f'\\nAverage accuracy = {np.mean(accuracy_list)*100:.3f}')"
   ]
  },
  {
   "cell_type": "markdown",
   "id": "60753cbb-546e-4ade-ac33-01b058da03bb",
   "metadata": {
    "jp-MarkdownHeadingCollapsed": true,
    "tags": []
   },
   "source": [
    "## View the best model"
   ]
  },
  {
   "cell_type": "code",
   "execution_count": 214,
   "id": "e695a366-7527-4d40-95df-f45e59318d29",
   "metadata": {},
   "outputs": [
    {
     "data": {
      "text/plain": [
       "0.9944444298744202"
      ]
     },
     "execution_count": 214,
     "metadata": {},
     "output_type": "execute_result"
    }
   ],
   "source": [
    "best_model_accuracy"
   ]
  },
  {
   "cell_type": "code",
   "execution_count": 215,
   "id": "a639c9c4-3e3a-4995-934c-7a75bad623eb",
   "metadata": {},
   "outputs": [
    {
     "data": {
      "image/png": "[encoded data removed]",
      "text/plain": [
       "<Figure size 1200x600 with 2 Axes>"
      ]
     },
     "metadata": {},
     "output_type": "display_data"
    }
   ],
   "source": [
    "plt.rcdefaults()\n",
    "plot_graphs(history=best_model_history, strings=['accuracy', 'loss'], filename='graphs/best_epochs')"
   ]
  },
  {
   "cell_type": "code",
   "execution_count": 216,
   "id": "c6e6447f-dcce-4289-8628-194f93dca159",
   "metadata": {},
   "outputs": [
    {
     "name": "stdout",
     "output_type": "stream",
     "text": [
      "12/12 [==============================] - 0s 3ms/step\n"
     ]
    },
    {
     "data": {
      "image/png": "[encoded data removed]",
      "text/plain": [
       "<Figure size 1000x800 with 2 Axes>"
      ]
     },
     "metadata": {},
     "output_type": "display_data"
    }
   ],
   "source": [
    "# Get predicted labels\n",
    "y_pred_encoded = best_model.predict(X_test_pfi_scaled)\n",
    "y_pred_labels = y_pred_encoded.argmax(axis=1)\n",
    "\n",
    "# Calculate confusion matrix\n",
    "conf_matrix = confusion_matrix(y_test, y_pred_labels)\n",
    "\n",
    "# Define class names\n",
    "class_names = ['Squat', 'Leg land', 'Walk', 'Lateral squat slide', 'Jogging']\n",
    "\n",
    "# Create a heatmap\n",
    "plt.figure(figsize=(10, 8))\n",
    "sns.heatmap(conf_matrix, annot=True, cmap=\"Blues\", fmt=\"d\", xticklabels=class_names, yticklabels=class_names)\n",
    "\n",
    "# Add labels and title\n",
    "plt.xlabel(\"Predicted\")\n",
    "plt.ylabel(\"True\")\n",
    "plt.title(\"Confusion Matrix\")\n",
    "\n",
    "plt.savefig('graphs/best_confusion_matrix.png')\n",
    "# Show the heatmap\n",
    "plt.show()"
   ]
  },
  {
   "cell_type": "code",
   "execution_count": 217,
   "id": "e24de786-00c1-4ea5-8d50-2551a954fc77",
   "metadata": {},
   "outputs": [
    {
     "name": "stdout",
     "output_type": "stream",
     "text": [
      "Classification Report:\n",
      "                     precision    recall  f1-score   support\n",
      "\n",
      "              Squat       1.00      0.97      0.99        40\n",
      "           Leg land       1.00      1.00      1.00        66\n",
      "               Walk       0.98      1.00      0.99        84\n",
      "Lateral squat slide       1.00      1.00      1.00        69\n",
      "            Jogging       1.00      0.99      1.00       101\n",
      "\n",
      "           accuracy                           0.99       360\n",
      "          macro avg       1.00      0.99      0.99       360\n",
      "       weighted avg       0.99      0.99      0.99       360\n",
      "\n"
     ]
    }
   ],
   "source": [
    "# Calculate and print classification report\n",
    "class_report = classification_report(y_test, y_pred_labels, target_names=class_names)\n",
    "print(\"Classification Report:\")\n",
    "print(class_report)"
   ]
  },
  {
   "cell_type": "markdown",
   "id": "dd5a7c57-9254-4659-ad62-6dbab0a5e6d9",
   "metadata": {},
   "source": [
    "### Save the best_model and best_model_history"
   ]
  },
  {
   "cell_type": "code",
   "execution_count": 219,
   "id": "480cbdf0-5263-4119-9715-7f3ee3157a1e",
   "metadata": {},
   "outputs": [],
   "source": [
    "best_model.save('models/best_model.h5')"
   ]
  },
  {
   "cell_type": "code",
   "execution_count": 220,
   "id": "7f03c5dc-be1c-4794-99bb-9f79c2293846",
   "metadata": {},
   "outputs": [],
   "source": [
    "with open('models/histories/best_model_history.pkl', 'wb') as f:\n",
    "    pickle.dump(best_model_history.history, f)"
   ]
  }
 ],
 "metadata": {
  "kernelspec": {
   "display_name": "Python 3 (ipykernel)",
   "language": "python",
   "name": "python3"
  },
  "language_info": {
   "codemirror_mode": {
    "name": "ipython",
    "version": 3
   },
   "file_extension": ".py",
   "mimetype": "text/x-python",
   "name": "python",
   "nbconvert_exporter": "python",
   "pygments_lexer": "ipython3",
   "version": "3.10.8"
  }
 },
 "nbformat": 4,
 "nbformat_minor": 5
}
