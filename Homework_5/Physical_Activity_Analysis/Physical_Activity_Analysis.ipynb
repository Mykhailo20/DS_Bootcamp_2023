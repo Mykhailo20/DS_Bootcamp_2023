{
 "cells": [
  {
   "cell_type": "code",
   "execution_count": null,
   "id": "8f641968-9595-458a-b449-e9028c13ab75",
   "metadata": {},
   "outputs": [],
   "source": [
    "import numpy as np\n",
    "import pandas as pd\n",
    "import matplotlib.pyplot as plt\n",
    "import seaborn as sns\n",
    "\n",
    "import datetime\n",
    "import dateutil.tz\n",
    "\n",
    "import tensorflow as tf"
   ]
  },
  {
   "cell_type": "markdown",
   "id": "bb90e5f1-ff70-4a9e-b65e-1e9d7a2fe1a7",
   "metadata": {},
   "source": [
    "# Functions"
   ]
  },
  {
   "cell_type": "markdown",
   "id": "fffbc252-8614-427b-8559-226bd8c2387b",
   "metadata": {
    "tags": []
   },
   "source": [
    "## Create a dataframe for each type of activity by connecting smaller dataframes"
   ]
  },
  {
   "cell_type": "markdown",
   "id": "57510dc6-fcbf-4f2e-aa70-d1eb1353d001",
   "metadata": {},
   "source": [
    "### Implement the necessary columns in smaller dataframes"
   ]
  },
  {
   "cell_type": "code",
   "execution_count": null,
   "id": "ab123620-c2e3-4e3b-8058-4194182417a2",
   "metadata": {},
   "outputs": [],
   "source": [
    "def add_datetime_column(df, timestamp_col_name, local_timezone=datetime.timezone.utc, reordering=False):\n",
    "    \"\"\" A function to add a 'datetime' column that contains information about the date and time of the recording\n",
    "    Args:\n",
    "        1) df - a dataframe that contains the required data\n",
    "        2) timestamp_col_name - the name of the df dataframe column that contains the timestamp information\n",
    "        3) local_timezone - the time zone in which the measurements were made (object of class 'dateutil.tz.tz.tzlocal')\n",
    "        4) reordering - rearrange the dataframe columns so that the 'datetime' column is next to the 'timestamp' column\n",
    "    Returns:\n",
    "        A dataframe that contains a 'datetime' column\n",
    "    \"\"\"\n",
    "    df['datetime'] = df[timestamp_col_name].apply(lambda timestamp:\n",
    "        datetime.datetime.fromtimestamp(timestamp / 1000.0, tz=local_timezone).strftime(\"%d.%m.%Y, %H:%M:%S.%f\")[:-3])\n",
    "    df['datetime'] = df['datetime'].apply(lambda timestamp_str: \n",
    "        datetime.datetime.strptime(timestamp_str, \"%d.%m.%Y, %H:%M:%S.%f\"))\n",
    "    \n",
    "    if reordering:\n",
    "        # Reorder the columns\n",
    "        new_column_order = [timestamp_col_name, 'datetime'] + [col for col in df.columns if col != timestamp_col_name and col != 'datetime']\n",
    "        df = df.reindex(columns=new_column_order)\n",
    "    return df\n",
    "\n",
    "\n",
    "def add_time_column(df, timestamp_col_name, initial_time=0, timecol_position=1):\n",
    "    \"\"\"A function to add a 'time' column to the original dataframe, which contains the recording time relative to the initial time instant_time\n",
    "    Args:\n",
    "        1) df - a dataframe that contains the required data\n",
    "        2) timestamp_col_name - the name of the df dataframe column that contains the timestamp information\n",
    "        3) initial_time - initial moment of time (s)\n",
    "        4) timecol_position - index of column 'time'position among other columns (column indexing starts at 0)\n",
    "    Returns:\n",
    "        A dataframe that contains a 'time' column\n",
    "    \"\"\"\n",
    "    # Convert the 'timestamp' column to pandas Timestamp type\n",
    "    df['temp_timestamp'] = pd.to_datetime(df['timestamp'], unit='ms')\n",
    "\n",
    "    # Calculate the time difference relative to the start\n",
    "    df['time'] = initial_time + (df['temp_timestamp'] - df['temp_timestamp'].iloc[0]).dt.total_seconds()\n",
    "    \n",
    "    # Drop unnecessary 'temp_timestamp' column\n",
    "    df.drop('temp_timestamp', axis=1, inplace=True)\n",
    "    \n",
    "    # Pop the 'time' column and store it in a variable\n",
    "    time_column = df.pop('time')\n",
    "\n",
    "    # Insert the 'time' column at the desired position\n",
    "    df.insert(timecol_position, 'time', time_column)\n",
    "    return df"
   ]
  },
  {
   "cell_type": "markdown",
   "id": "d9406c5c-5d3f-49d5-b35e-36d7befa9378",
   "metadata": {},
   "source": [
    "### Concatenate smaller dataframes to produce a single dataframe"
   ]
  },
  {
   "cell_type": "code",
   "execution_count": null,
   "id": "976094c0-3c9e-4b2e-91fb-1693f37ad0c6",
   "metadata": {},
   "outputs": [],
   "source": [
    "def concat_dataframes(dfs, timestamp_col_name, timecol_position=1):\n",
    "    \"\"\" A function to concatenate dataframes that contain data about measurements taken at different times (eg, different hours, days, months) and a timestamp column, so that the 'time' column of the output dataframe displays the time as if the measurements were occurring continuously\n",
    "    Args:\n",
    "        1) dfs - the list of dataframes, that contain timestamp column, and from which the output dataframe will consist\n",
    "        2) timestamp_col_name - the name of the df dataframe column that contains the timestamp information\n",
    "        3) timecol_position - index of column 'time'position among other columns (column indexing starts at 0) \n",
    "    Returns:\n",
    "        A dataframe concatenated_df, whose \"time\" column shows the time as if the measurements were continuous\n",
    "    \"\"\"\n",
    "    dfs[0] = add_time_column(df=dfs[0], timestamp_col_name=timestamp_col_name, initial_time=0, timecol_position=timecol_position)\n",
    "    for i in range(1, len(dfs)):\n",
    "        time_diffs = dfs[(i-1)][timestamp_col_name].diff()\n",
    "        init_time = dfs[(i-1)]['time'].iloc[-1] + round(time_diffs.mean() / 1000, 3)\n",
    "        dfs[i] = add_time_column(df=dfs[i], timestamp_col_name=timestamp_col_name, initial_time=init_time, timecol_position=timecol_position)\n",
    "        \n",
    "    # Concatenate dfs\n",
    "    concatenated_df = pd.concat(dfs)\n",
    "    concatenated_df.reset_index(inplace=True)\n",
    "    concatenated_df.drop('index', axis=1, inplace=True)\n",
    "    \n",
    "    return concatenated_df"
   ]
  },
  {
   "cell_type": "markdown",
   "id": "a7072c87-8e1d-44b9-af32-db16bc4e6735",
   "metadata": {
    "tags": []
   },
   "source": [
    "## Create activity dataframe"
   ]
  },
  {
   "cell_type": "code",
   "execution_count": null,
   "id": "bd1b7b99-5f61-45b9-bca3-b0551e501d66",
   "metadata": {},
   "outputs": [],
   "source": [
    "def create_activities_df(path, row_index=0):\n",
    "    \"\"\" A function for creating a dataframe containing information about the beginning, end and name of each physical activity\n",
    "    Args:\n",
    "        1) path - the path to the Label Studio file that contains the labeled signals\n",
    "        2) row_index - the row index of the labeled dataframe (labeled_activities) obtained from Label Studio\n",
    "    Returns:\n",
    "        Dataframe containing information about the beginning, end and name of each physical activity\n",
    "    \"\"\"\n",
    "    labeled_activities = pd.read_csv(path)\n",
    "    labels = labeled_activities['label']\n",
    "    labels = np.array(labels)[row_index]    # the original type of labels is pd.Series\n",
    "    labels = labels.split('},')\n",
    "    \n",
    "    activities_dict = {'start_time': [], 'end_time': [], 'activity': []}\n",
    "    for label in labels:\n",
    "        start_time, end_time, _, activity = label.split(',')\n",
    "        activities_dict['start_time'].append(float(start_time.split(':')[1]))\n",
    "        activities_dict['end_time'].append(float(end_time.split(':')[1]))\n",
    "        activities_dict['activity'].append(activity.split(':')[1].strip('[]}\"'))\n",
    "    \n",
    "    activities_df = pd.DataFrame.from_dict(activities_dict)\n",
    "    activities_df = activities_df.sort_values(by='start_time').reset_index(drop=True)\n",
    "    return activities_df\n",
    "\n",
    "def add_activity_column(path, df, df_merge_col, row_index=0):\n",
    "    \"\"\" Function to add 'activity' column to dataframe df\n",
    "    Args:\n",
    "        1) path - the path to the Label Studio file that contains the labeled signals\n",
    "        2) df - a dataframe that contains the results of accelerometer and gyroscope measurements\n",
    "        3) df_merge_col - the name of the column of the dataframe df, which contains data about the measurement time ('time' column)\n",
    "        4) row_index - the row index of the labeled dataframe (labeled_activities) obtained from Label Studio\n",
    "    \"\"\"\n",
    "    activities_df_local = create_activities_df(path, row_index)\n",
    "    merged_df = pd.merge_asof(df, activities_df_local, left_on=df_merge_col, right_on='start_time', direction='backward')\n",
    "    df['activity'] = merged_df['activity']\n",
    "    \n",
    "    \n",
    "def display_activity_freq_spectrum_one_axes(df, activity_name, axes_name, sampling_rate, is_divided_by_g=False, x_lim=10, color='blue'):\n",
    "    \"\"\" Function to display the frequency spectrum of the specified type of activity on the OX, OY and OZ axes for the specified device \n",
    "    (accelerometer or gyroscope)\n",
    "    Args:\n",
    "        1) df - a dataframe that contains the results of accelerometer and gyroscope measurements\n",
    "        2) activity_name - selected activity type (among the values of the 'activity' column of df)\n",
    "        3) axes_name - the column name of the dataframe df that contain the measurement results for the OX, OY, or OZ axes\n",
    "        4) sampling_rate - actual sampling rate of your dataset (samples per second)\n",
    "        5) is_divided_by_g - True if the content of the column was divided by the free fall acceleration g (g=9.81 m/s^2)\n",
    "        6) x_lim - the limits of the graph along the OX axis are [-x_lim; x_lim]\n",
    "        7) color - the color of the graph\n",
    "    \"\"\"\n",
    "    activity_data = df[df['activity'] == activity_name]\n",
    "    \n",
    "    signal = np.array(activity_data[axes_name])\n",
    "    \n",
    "    if is_divided_by_g:\n",
    "        signal *= 9.81\n",
    "        \n",
    "    fft_result = fft(signal)\n",
    "\n",
    "    fft_freqs = fftfreq(len(activity_data), 1/sampling_rate)\n",
    "\n",
    "    fig = plt.figure(figsize=(12, 5))\n",
    "    axes = fig.add_axes([0.1, 0.1, 1, 1])\n",
    "    axes.plot(fft_freqs, np.abs(fft_result), color=color)\n",
    "    axes.set_title(f'{activity_name} {axes_name}')\n",
    "\n",
    "    axes.set_xlabel('Frequency (Hz)')\n",
    "    axes.set_xlim(-x_lim, x_lim)\n",
    "    axes.set_ylabel('Amplitude')\n",
    "    axes.grid(alpha=0.5)\n",
    "\n",
    "    plt.show()\n",
    "\n",
    "    \n",
    "def display_activity_freq_spectrum(df, activity_name, axes_names, sampling_rate, is_divided_by_g=False, x_lim=10):\n",
    "    \"\"\" Function to display the frequency spectrum of the specified type of activity on the OX, OY and OZ axes for the specified device \n",
    "    (accelerometer or gyroscope)\n",
    "    Args:\n",
    "        1) df - a dataframe that contains the results of accelerometer and gyroscope measurements\n",
    "        2) activity_name - selected activity type (among the values of the 'activity' column of df)\n",
    "        3) axes_names - an array containing the column names of the dataframe df that contain the measurement results for the OX, OY, and OZ axes, \n",
    "        respectively\n",
    "        4) sampling_rate - actual sampling rate of your dataset (samples per second)\n",
    "        5) is_divided_by_g - True if the content of the column was divided by the free fall acceleration g (g=9.81 m/s^2)\n",
    "        6) x_lim - the limits of the graph along the OX axis are [-x_lim; x_lim]\n",
    "    \"\"\"\n",
    "    activity_data = df[df['activity'] == activity_name]\n",
    "    \n",
    "    signal_x = np.array(activity_data[axes_names[0]])\n",
    "    signal_y = np.array(activity_data[axes_names[1]])\n",
    "    signal_z = np.array(activity_data[axes_names[2]])\n",
    "    \n",
    "    if is_divided_by_g:\n",
    "        signal_x *= 9.81\n",
    "        signal_y *= 9.81\n",
    "        signal_z *= 9.81\n",
    "        \n",
    "    fft_x = fft(signal_x)\n",
    "    fft_y = fft(signal_y)\n",
    "    fft_z = fft(signal_z)\n",
    "\n",
    "    fft_freqs = fftfreq(len(activity_data), 1/sampling_rate)\n",
    "\n",
    "    fig, axes = plt.subplots(1, 3, figsize=(12, 4))\n",
    "    axes[0].plot(fft_freqs, np.abs(fft_x), label='X', color='blue')\n",
    "    axes[0].set_title(f'{activity_name} {axes_names[0]}')\n",
    "\n",
    "    axes[1].plot(fft_freqs, np.abs(fft_y), label='Y', color='yellow')\n",
    "    axes[1].set_title(f'{activity_name} {axes_names[1]}')\n",
    "\n",
    "    axes[2].plot(fft_freqs, np.abs(fft_z), label='Z', color='green')\n",
    "    axes[2].set_title(f'{activity_name} {axes_names[2]}')\n",
    "\n",
    "    for ax in axes:\n",
    "        ax.set_xlabel('Frequency (Hz)')\n",
    "        ax.set_xlim(-x_lim, x_lim)\n",
    "        ax.set_xticks([i for i in range(-x_lim, x_lim+1, 2)])\n",
    "        ax.set_ylabel('Amplitude')\n",
    "        ax.grid(alpha=0.5)\n",
    "        ax.legend()\n",
    "\n",
    "    plt.tight_layout()\n",
    "    plt.show()"
   ]
  },
  {
   "cell_type": "markdown",
   "id": "cb56c5f5-4402-4004-a4c6-7323fcc39510",
   "metadata": {
    "jp-MarkdownHeadingCollapsed": true,
    "tags": []
   },
   "source": [
    "## Exploring measurement time and frequency stability"
   ]
  },
  {
   "cell_type": "code",
   "execution_count": null,
   "id": "e724409a-63f5-44c4-b48a-ede3fbfe93c4",
   "metadata": {},
   "outputs": [],
   "source": [
    "def get_measurement_time_df(df):\n",
    "    \"\"\" A function for building a dataframe that contains information about the time of measurement of each reading of the device\n",
    "    Args:\n",
    "        1) df - a dataframe that contains a 'time' column\n",
    "    Returns:\n",
    "        time_measurement_df - dataframe that contains information about the time of measurement of each reading of the device\n",
    "    \"\"\"\n",
    "    period_dict = {'start_time': [], 'end_time': [], 'measurement_time': []}\n",
    "    prev_time = None\n",
    "    curr_time = None\n",
    "    for index, row in df.iterrows():\n",
    "        if(index == len(df)):\n",
    "            break\n",
    "            \n",
    "        prev_time = curr_time\n",
    "        curr_time = row['time']\n",
    "\n",
    "        if prev_time != None:\n",
    "            period_dict['start_time'].append(prev_time)\n",
    "            period_dict['end_time'].append(curr_time)\n",
    "            period_dict['measurement_time'].append(curr_time - prev_time)\n",
    "    \n",
    "    time_measurement_df = pd.DataFrame.from_dict(period_dict)\n",
    "    return time_measurement_df\n",
    "\n",
    "\n",
    "def display_time_distribution(df, x):\n",
    "    \"\"\" A function that is designed to display the measurement time distribution using a histogram\n",
    "    Args:\n",
    "        1) df - a dataframe that contains a column with measurement time data\n",
    "        2) x - name of measurement time column\n",
    "    \"\"\"\n",
    "    # Plot the measurement time distribution using seaborn's histogram\n",
    "    # plt.figure(figsize=(15, 6)) - original size\n",
    "    plt.figure(figsize=(25, 6))\n",
    "    sns.histplot(df[x], bins=60, kde=True, color='blue')\n",
    "    plt.xlabel('Period, s')\n",
    "    plt.ylabel('Count')\n",
    "    plt.title('Measurement Time Distribution')\n",
    "    plt.xticks([i/1000 for i in range(0, 38, 1)])\n",
    "\n",
    "    plt.show()\n",
    "\n",
    "\n",
    "def display_data_collection_stability(df):\n",
    "    \"\"\"A function that displays the stability of data collection relative to the time when the measurements were taken and \n",
    "       relative to the measurement number\n",
    "    Args:\n",
    "        1) df - time_measurement_df\n",
    "    \"\"\"\n",
    "    fig, axes = plt.subplots(2, 1, figsize=(15, 14))\n",
    "    axes[0].plot(range(len(df[df['lost_data'] == 0])), df[df['lost_data'] == 0]['measurement_time'])\n",
    "    axes[0].set_title(f'Stability of Data Collection (Filtered)\\nAverage frequency: {freq:.3f} Hz')\n",
    "    axes[0].set_xlabel('number of measurement')\n",
    "    axes[0].set_ylabel('measurement time')\n",
    "    \n",
    "    axes[1].plot(df[df['lost_data'] == 0]['start_time'], df[df['lost_data'] == 0]['measurement_time'])\n",
    "    axes[1].set_title(f'Stability of Data Collection (Filtered)\\nAverage frequency: {freq:.3f} Hz')\n",
    "    axes[1].set_xlabel('time of measurement')\n",
    "    axes[1].set_ylabel('measurement time')\n",
    "    \n",
    "    plt.show()\n",
    "\n",
    "    \n",
    "def display_data_collection_stability_measurement_number(df):\n",
    "    \"\"\"A function that displays the stability of data collection relative to the measurement number\n",
    "    Args:\n",
    "        1) df - time_measurement_df\n",
    "    \"\"\"\n",
    "    plt.figure(figsize=(12, 3))\n",
    "    plt.plot(range(len(df[df['lost_data'] == 0])), df[df['lost_data'] == 0]['measurement_time'])\n",
    "    plt.title(f'Stability of Data Collection (Filtered)\\nAverage frequency: {freq:.3f} Hz')\n",
    "    plt.xlabel('number of measurement')\n",
    "    plt.ylabel('measurement time, s')\n",
    "    \n",
    "    plt.show()\n",
    "    \n",
    "\n",
    "def display_data_collection_stability_measurement_time(df):\n",
    "    \"\"\"A function that displays the stability of data collection relative to the time when the measurements were taken\n",
    "    Args:\n",
    "        1) df - time_measurement_df\n",
    "    \"\"\"\n",
    "    plt.figure(figsize=(12, 3))\n",
    "    plt.plot(time_measurement_df[time_measurement_df['lost_data'] == 0]['start_time'], \n",
    "             time_measurement_df[time_measurement_df['lost_data'] == 0]['measurement_time'])\n",
    "    plt.title(f'Stability of Data Collection (Filtered)\\nAverage frequency: {freq:.3f} Hz')\n",
    "    plt.xlabel('time of measurement')\n",
    "    plt.ylabel('measurement time')\n",
    "    \n",
    "    plt.show()\n",
    "    \n",
    "\n",
    "def display_data_collection_losses_measurement_number(df):\n",
    "    \"\"\"A function that displays the loses of data collection relative to the measurement number\n",
    "    Args:\n",
    "        1) df - time_measurement_df\n",
    "    \"\"\"\n",
    "    plt.figure(figsize=(12, 3))\n",
    "    plt.plot(range(len(df[df['lost_data'] == 1])), df[df['lost_data'] == 1]['measurement_time'])\n",
    "    plt.title(f'Data Collection Losses (Filtered)\\nAverage frequency: {freq:.3f} Hz')\n",
    "    plt.xlabel('number of measurement')\n",
    "    plt.ylabel('measurement time, s')\n",
    "    \n",
    "    plt.show()\n",
    "    \n",
    "\n",
    "def display_data_collection_losses_measurement_time(df):\n",
    "    \"\"\"A function that displays data collection losses relative to the time when the measurements were taken\n",
    "    Args:\n",
    "        1) df - time_measurement_df\n",
    "    \"\"\"\n",
    "    plt.figure(figsize=(12, 3))\n",
    "    plt.plot(time_measurement_df[time_measurement_df['lost_data'] == 1]['start_time'], \n",
    "             time_measurement_df[time_measurement_df['lost_data'] == 1]['measurement_time'])\n",
    "    plt.title(f'Data Collection Losses (Filtered)\\nAverage frequency: {freq:.3f} Hz')\n",
    "    plt.xlabel('time of measurement, s')\n",
    "    plt.ylabel('measurement time, s')\n",
    "    \n",
    "    plt.show()"
   ]
  },
  {
   "cell_type": "markdown",
   "id": "3bc0f1fc-9064-468f-ae5a-d20ce3be2753",
   "metadata": {
    "tags": []
   },
   "source": [
    "## Visualizing results"
   ]
  },
  {
   "cell_type": "code",
   "execution_count": null,
   "id": "6f61686a-e765-4063-80f4-719aa97be529",
   "metadata": {},
   "outputs": [],
   "source": [
    "def display_three_axes(df, y, x=None, title=None, x_label=None, y_label=None, filename=None):\n",
    "    \"\"\" Function for visualization of three axes (X, Y, Z) of the measurement results of the device\n",
    "    Args:\n",
    "        1) df - a dataframe containing the results of the device measurement\n",
    "        2) x - the name of the column of the dataframe that contains the data for the OX axis (for the three lines, this is the same data)\n",
    "        3) y - the list containing the dataframe column names corresponding to the OX, OY, and OZ axis measurements, respectively\n",
    "        4) title - title of the graph\n",
    "        5) x_label - the name of the OX axis of the graph\n",
    "        6) y_label - the name of the OY axis of the graph\n",
    "        7) filename - the relative path where the file will be saved (with the file name, the file extension is not required) or just the filename\n",
    "    Returns:\n",
    "        Nothing, but plots graph\n",
    "    \"\"\"\n",
    "    plt.figure(figsize=(12, 6))\n",
    "    if x is None:\n",
    "        plt.plot(df[y[0]], label='X')\n",
    "        plt.plot(df[y[1]], label='Y')\n",
    "        plt.plot(df[y[2]], label='Z')\n",
    "    else:\n",
    "        plt.plot(df[x], df[y[0]], label='X')\n",
    "        plt.plot(df[x], df[y[1]], label='Y')\n",
    "        plt.plot(df[x], df[y[2]], label='Z')\n",
    "        \n",
    "    plt.title(title)\n",
    "    plt.xlabel(x_label)\n",
    "    plt.ylabel(y_label)\n",
    "    plt.legend()\n",
    "    if filename:\n",
    "        plt.savefig(f'{filename}.png', bbox_inches='tight')\n",
    "    plt.show()\n",
    "    \n",
    "\n",
    "def display_three_axes_sep(df, x, y, title=None, x_label=None, y_labels=None):\n",
    "    \"\"\" Function for visualization of three axes (X, Y, Z) of the measurement results of the device, a separate graph for each axis\n",
    "    Args:\n",
    "        1) df - a dataframe containing the results of the device measurement;\n",
    "        2) x - the name of the column of the dataframe that contains the data for the OX axis (for the three lines, this is the same data);\n",
    "        3) y - the list containing the dataframe column names corresponding to the OX, OY, and OZ axis measurements, respectively;\n",
    "        4) title - title of the graph;\n",
    "        5) x_label - the name of the OX axis of the graph;\n",
    "        6) y_labels - the list of names of the OY axis of the graph.\n",
    "    Returns:\n",
    "        Nothing, but plots graph\n",
    "    \"\"\"\n",
    "    fig, axes = plt.subplots(3, 1, figsize=(10, 18))\n",
    "    axes[0].plot(df[x], df[y[0]], color='blue')\n",
    "    axes[0].set_xlabel(x_label)\n",
    "    axes[0].set_ylabel(y_labels[0])\n",
    "    axes[0].set_title(title + ' accX')\n",
    "\n",
    "    axes[1].plot(df[x], df[y[1]], color='yellow')\n",
    "    axes[1].set_xlabel(x_label)\n",
    "    axes[1].set_ylabel(y_labels[1])\n",
    "    axes[1].set_title(title + ' accY')\n",
    "\n",
    "    axes[2].plot(df[x], df[y[2]], color='green')\n",
    "    axes[2].set_xlabel(x_label)\n",
    "    axes[2].set_ylabel(y_labels[2])\n",
    "    axes[2].set_title(title + ' accZ')\n",
    "\n",
    "    plt.show()"
   ]
  },
  {
   "cell_type": "markdown",
   "id": "906922fa-c4a1-4812-a252-261dd086badb",
   "metadata": {
    "tags": []
   },
   "source": [
    "# Work with datasets"
   ]
  },
  {
   "cell_type": "markdown",
   "id": "e7fddbd8-600f-41a3-8e03-2afa5bef395e",
   "metadata": {
    "jp-MarkdownHeadingCollapsed": true,
    "tags": []
   },
   "source": [
    "## squats_df"
   ]
  },
  {
   "cell_type": "markdown",
   "id": "081b8237-0d40-4af0-acd4-8d83e794f354",
   "metadata": {},
   "source": [
    "#### Create a squats_df dataframe using concat_dataframes() function"
   ]
  },
  {
   "cell_type": "code",
   "execution_count": null,
   "id": "b92d943a-8814-4a77-8a46-636b1f3c65c1",
   "metadata": {},
   "outputs": [],
   "source": [
    "columns = ['timestamp', 'accX', 'accY', 'accZ', 'gyrX', 'gyrY', 'gyrZ']\n",
    "squats_df_1 = pd.read_csv('data/40_Hz/original_data/train/Squats/1_HIMU-2023-08-19_13-20-06.csv', names=columns, skiprows=4)\n",
    "\n",
    "squats_df_2 = pd.read_csv('data/40_Hz/original_data/train/Squats/2_HIMU-2023-08-19_20-18-08.csv', names=columns, skiprows=4)\n",
    "\n",
    "squats_df_3 = pd.read_csv('data/40_Hz/original_data/train/Squats/3_HIMU-2023-08-19_20-35-09.csv', names=columns, skiprows=4)\n",
    "\n",
    "squats_df_4 = pd.read_csv('data/40_Hz/original_data/train/Squats/4_HIMU-2023-08-20_12-13-25.csv', names=columns, skiprows=4)\n",
    "\n",
    "squats_df_5 = pd.read_csv('data/40_Hz/original_data/train/Squats/5_HIMU-2023-08-20_12-27-08.csv', names=columns, skiprows=4)\n",
    "\n",
    "squats_df = concat_dataframes(dfs=[squats_df_1, squats_df_2, squats_df_3, squats_df_4, squats_df_5], \n",
    "                                  timestamp_col_name='timestamp', \n",
    "                                  timecol_position=1)\n",
    "squats_df.head()"
   ]
  },
  {
   "cell_type": "code",
   "execution_count": null,
   "id": "1a084d10-c0d3-4d01-aed9-ecd76e98252f",
   "metadata": {},
   "outputs": [],
   "source": [
    "squats_df.info()"
   ]
  },
  {
   "cell_type": "code",
   "execution_count": null,
   "id": "e237c913-f128-46dd-b348-d7b33456edd5",
   "metadata": {},
   "outputs": [],
   "source": [
    "time_diffs = squats_df['time'].diff()\n",
    "measurement_time = squats_df['time'].iloc[-1] - squats_df['time'].iloc[0]\n",
    "print(f\"measurement_time = {measurement_time} s\")\n",
    "print(f\"Average measurement period = {time_diffs.mean()} s\")\n",
    "print(f\"Average measurement frequency = {1 / time_diffs.mean()} Hz\")"
   ]
  },
  {
   "cell_type": "markdown",
   "id": "64ec1041-197d-4b1c-89f1-8c9fd5f13e67",
   "metadata": {
    "jp-MarkdownHeadingCollapsed": true,
    "tags": []
   },
   "source": [
    "#### Visualise accelerometer and gyroscope behaviour (Raw data) for squats_df"
   ]
  },
  {
   "cell_type": "code",
   "execution_count": null,
   "id": "e6fe366e-592a-4a9a-8b29-aa4dd1fab48b",
   "metadata": {},
   "outputs": [],
   "source": [
    "display_three_axes(df=squats_df, x='time', y=['accX', 'accY', 'accZ'], title='Accelerometer readings (Raw Data)', \n",
    "                   x_label='Time, s', y_label='Linear acceleration, m/s^2', filename='graphs/squats_acc')\n",
    "display_three_axes(df=squats_df, x='time', y=['gyrX', 'gyrY', 'gyrZ'], title='Gyroscope readings (Raw Data)', \n",
    "                   x_label='Time, s', y_label='Angular velocity, rad/s')"
   ]
  },
  {
   "cell_type": "markdown",
   "id": "558f283c-55a8-4d0b-821b-660dc3be30a9",
   "metadata": {
    "jp-MarkdownHeadingCollapsed": true,
    "tags": []
   },
   "source": [
    "## leg_land_df"
   ]
  },
  {
   "cell_type": "markdown",
   "id": "fcba4892-3a4b-4bfd-8460-79443d9c2616",
   "metadata": {},
   "source": [
    "#### 1) Create a leg_land_df dataframe using concat_dataframes() function"
   ]
  },
  {
   "cell_type": "code",
   "execution_count": null,
   "id": "f8d03547-22ac-407b-9350-7d334ae68b27",
   "metadata": {},
   "outputs": [],
   "source": [
    "columns = ['timestamp', 'accX', 'accY', 'accZ', 'gyrX', 'gyrY', 'gyrZ']\n",
    "leg_land_df_1 = pd.read_csv('data/40_Hz/original_data/train/Leg_land/1_HIMU-2023-08-20_15-04-38.csv', names=columns, skiprows=4)\n",
    "\n",
    "leg_land_df_2 = pd.read_csv('data/40_Hz/original_data/train/Leg_land/2_HIMU-2023-08-21_08-06-02.csv', names=columns, skiprows=4)\n",
    "\n",
    "leg_land_df_3 = pd.read_csv('data/40_Hz/original_data/train/Leg_land/3_HIMU-2023-08-21_08-17-19.csv', names=columns, skiprows=4)\n",
    "\n",
    "leg_land_df_4 = pd.read_csv('data/40_Hz/original_data/train/Leg_land/4_HIMU-2023-08-21_08-30-01.csv', names=columns, skiprows=4)\n",
    "\n",
    "leg_land_df_5 = pd.read_csv('data/40_Hz/original_data/train/Leg_land/5_HIMU-2023-08-21_08-38-01.csv', names=columns, skiprows=4)\n",
    "\n",
    "leg_land_df = concat_dataframes(dfs=[leg_land_df_1, leg_land_df_2, leg_land_df_3, leg_land_df_4, leg_land_df_5], \n",
    "                                timestamp_col_name='timestamp', \n",
    "                                timecol_position=1)\n",
    "leg_land_df.head()"
   ]
  },
  {
   "cell_type": "code",
   "execution_count": null,
   "id": "23f7767f-e497-4014-844d-c5be3c603d23",
   "metadata": {},
   "outputs": [],
   "source": [
    "leg_land_df.info()"
   ]
  },
  {
   "cell_type": "code",
   "execution_count": null,
   "id": "60466708-a6c6-4b16-a9dd-2d9e1b009a5b",
   "metadata": {},
   "outputs": [],
   "source": [
    "time_diffs = leg_land_df['time'].diff()\n",
    "measurement_time = leg_land_df['time'].iloc[-1] - leg_land_df['time'].iloc[0]\n",
    "print(f\"measurement_time = {measurement_time} s\")\n",
    "print(f\"Average measurement period = {time_diffs.mean()} s\")\n",
    "print(f\"Average measurement frequency = {1 / time_diffs.mean()} Hz\")"
   ]
  },
  {
   "cell_type": "markdown",
   "id": "73324683-1f83-4a3a-92a7-43e3356e96b5",
   "metadata": {
    "jp-MarkdownHeadingCollapsed": true,
    "tags": []
   },
   "source": [
    "#### 2) Visualise accelerometer and gyroscope behaviour (Raw data) for leg_land_df"
   ]
  },
  {
   "cell_type": "code",
   "execution_count": null,
   "id": "d06ded00-5fff-4cd5-9214-cbbca7eee804",
   "metadata": {},
   "outputs": [],
   "source": [
    "display_three_axes(df=leg_land_df, x='time', y=['accX', 'accY', 'accZ'], title='Accelerometer readings (Raw Data)', \n",
    "                   x_label='Time, s', y_label='Linear acceleration, m/s^2', filename='graphs/squats_acc')\n",
    "display_three_axes(df=leg_land_df, x='time', y=['gyrX', 'gyrY', 'gyrZ'], title='Gyroscope readings (Raw Data)', \n",
    "                   x_label='Time, s', y_label='Angular velocity, rad/s')"
   ]
  },
  {
   "cell_type": "markdown",
   "id": "1586c4f3-a4e3-4994-a61b-b539c949e548",
   "metadata": {},
   "source": [
    "#### 3) Save leg_land_df to a separate file"
   ]
  },
  {
   "cell_type": "code",
   "execution_count": null,
   "id": "43697467-2fa8-4cac-bac2-f37ed8ed9ca6",
   "metadata": {},
   "outputs": [],
   "source": [
    "leg_land_df.to_csv('data/40_Hz/concatenated_data/Leg_land/Leg_land_1_2023-08-21.csv', index=False)"
   ]
  },
  {
   "cell_type": "markdown",
   "id": "4666a6ef-6a73-4a6a-88a0-c9f0d9a6e163",
   "metadata": {
    "jp-MarkdownHeadingCollapsed": true,
    "tags": []
   },
   "source": [
    "## walk_df"
   ]
  },
  {
   "cell_type": "markdown",
   "id": "abc7ffde-e020-4757-98b7-2e56c92be193",
   "metadata": {
    "tags": []
   },
   "source": [
    "#### 1) Read a walk_df from the csv-file"
   ]
  },
  {
   "cell_type": "code",
   "execution_count": null,
   "id": "38953052-591c-41cf-96ea-84b78361dfb1",
   "metadata": {},
   "outputs": [],
   "source": [
    "columns = ['timestamp', 'accX', 'accY', 'accZ', 'gyrX', 'gyrY', 'gyrZ']\n",
    "walk_df = pd.read_csv('data/40_Hz/original_data/train/Walk/1_HIMU-2023-08-19_20-25-23.csv', names=columns, skiprows=4)\n",
    "\n",
    "walk_df.head()"
   ]
  },
  {
   "cell_type": "code",
   "execution_count": null,
   "id": "24909aa8-92ff-4022-85a1-48ec53f803f2",
   "metadata": {},
   "outputs": [],
   "source": [
    "walk_df.info()"
   ]
  },
  {
   "cell_type": "markdown",
   "id": "6eaff42f-4184-45f0-9ada-5c3c7bf56960",
   "metadata": {
    "tags": []
   },
   "source": [
    "##### 1.1) Add 'time' column"
   ]
  },
  {
   "cell_type": "code",
   "execution_count": null,
   "id": "ee9776ba-bf5f-47e0-b4b3-020b32a374e5",
   "metadata": {},
   "outputs": [],
   "source": [
    "walk_df = add_time_column(df=walk_df, timestamp_col_name='timestamp', initial_time=0, timecol_position=1)\n",
    "walk_df.head()"
   ]
  },
  {
   "cell_type": "code",
   "execution_count": null,
   "id": "5c699d99-c703-4dd3-93c1-69a28ae2d77d",
   "metadata": {},
   "outputs": [],
   "source": [
    "walk_df[-1:]"
   ]
  },
  {
   "cell_type": "code",
   "execution_count": null,
   "id": "51c59a3e-614f-4a02-bb89-0c9dcd199908",
   "metadata": {},
   "outputs": [],
   "source": [
    "time_diffs = walk_df['time'].diff()\n",
    "measurement_time = walk_df['time'].iloc[-1] - walk_df['time'].iloc[0]\n",
    "print(f\"measurement_time = {measurement_time} s\")\n",
    "print(f\"Average measurement period = {time_diffs.mean()} s\")\n",
    "print(f\"Average measurement frequency = {1 / time_diffs.mean()} Hz\")"
   ]
  },
  {
   "cell_type": "markdown",
   "id": "0fe0736e-3702-4bde-a0f1-c9b1188f93ea",
   "metadata": {
    "tags": []
   },
   "source": [
    "#### 2) Visualise accelerometer and gyroscope behaviour (Raw data)"
   ]
  },
  {
   "cell_type": "code",
   "execution_count": null,
   "id": "085f25c3-4f7f-42ac-94ed-71a00c44a83f",
   "metadata": {},
   "outputs": [],
   "source": [
    "display_three_axes(df=walk_df, x='time', y=['accX', 'accY', 'accZ'], title='Accelerometer readings (Raw Data)', \n",
    "                   x_label='Time, s', y_label='Linear acceleration, m/s^2')\n",
    "display_three_axes(df=walk_df, x='time', y=['gyrX', 'gyrY', 'gyrZ'], title='Gyroscope readings (Raw Data)', \n",
    "                   x_label='Time, s', y_label='Angular velocity, rad/s')"
   ]
  },
  {
   "cell_type": "markdown",
   "id": "9bb28417-10fc-445a-9ecb-9ddf415bf3a5",
   "metadata": {},
   "source": [
    "#### 3) Save walk_df to a separate file"
   ]
  },
  {
   "cell_type": "code",
   "execution_count": null,
   "id": "a8323404-2ee6-4e54-bda5-a3ec71448a14",
   "metadata": {},
   "outputs": [],
   "source": [
    "walk_df.to_csv('data/40_Hz/concatenated_data/Walk/Walk_1_2023-08-21.csv', index=False)"
   ]
  },
  {
   "cell_type": "markdown",
   "id": "d9fe4e71-4e5f-4522-b71a-a5648a56b10c",
   "metadata": {
    "jp-MarkdownHeadingCollapsed": true,
    "tags": []
   },
   "source": [
    "## lateral_squat_slide_df"
   ]
  },
  {
   "cell_type": "markdown",
   "id": "0e121292-91c2-4e44-8791-f1a7b0765282",
   "metadata": {},
   "source": [
    "#### 1) Create a lateral_squat_slide_df dataframe using concat_dataframes() function"
   ]
  },
  {
   "cell_type": "code",
   "execution_count": null,
   "id": "20d3a31b-e37b-4fe8-9d4d-5accdfd25a96",
   "metadata": {},
   "outputs": [],
   "source": [
    "columns = ['timestamp', 'accX', 'accY', 'accZ', 'gyrX', 'gyrY', 'gyrZ']\n",
    "lateral_squat_slide_df_1 = pd.read_csv('data/40_Hz/original_data/train/Lateral_squat_slide/1_HIMU-2023-08-21_08-10-01.csv', names=columns, skiprows=4)\n",
    "\n",
    "lateral_squat_slide_df_2 = pd.read_csv('data/40_Hz/original_data/train/Lateral_squat_slide/2_HIMU-2023-08-21_08-23-07.csv', names=columns, skiprows=4)\n",
    "\n",
    "lateral_squat_slide_df_3 = pd.read_csv('data/40_Hz/original_data/train/Lateral_squat_slide/3_HIMU-2023-08-21_08-56-02.csv', names=columns, skiprows=4)\n",
    "\n",
    "lateral_squat_slide_df_4 = pd.read_csv('data/40_Hz/original_data/train/Lateral_squat_slide/4_HIMU-2023-08-21_09-20-01.csv', names=columns, skiprows=4)\n",
    "\n",
    "lateral_squat_slide_df = concat_dataframes(dfs=[lateral_squat_slide_df_1, lateral_squat_slide_df_2, lateral_squat_slide_df_3, lateral_squat_slide_df_4], \n",
    "                                timestamp_col_name='timestamp', \n",
    "                                timecol_position=1)\n",
    "lateral_squat_slide_df.head()"
   ]
  },
  {
   "cell_type": "code",
   "execution_count": null,
   "id": "a745b1c0-77bb-4c5a-bfe0-f2e91bedf383",
   "metadata": {},
   "outputs": [],
   "source": [
    "lateral_squat_slide_df.info()"
   ]
  },
  {
   "cell_type": "code",
   "execution_count": null,
   "id": "e79d8092-9819-453c-96a3-e60a6e338a30",
   "metadata": {},
   "outputs": [],
   "source": [
    "time_diffs = lateral_squat_slide_df['time'].diff()\n",
    "measurement_time = lateral_squat_slide_df['time'].iloc[-1] - lateral_squat_slide_df['time'].iloc[0]\n",
    "print(f\"measurement_time = {measurement_time} s\")\n",
    "print(f\"Average measurement period = {time_diffs.mean()} s\")\n",
    "print(f\"Average measurement frequency = {1 / time_diffs.mean()} Hz\")"
   ]
  },
  {
   "cell_type": "markdown",
   "id": "f243fe9b-d8f9-4b4b-905c-ce4b6ab7efcf",
   "metadata": {},
   "source": [
    "#### 2) Visualise accelerometer and gyroscope behaviour (Raw data) for lateral_squat_slide_df"
   ]
  },
  {
   "cell_type": "code",
   "execution_count": null,
   "id": "4cce827c-7d73-43fb-8538-2a11f9fe0fca",
   "metadata": {},
   "outputs": [],
   "source": [
    "display_three_axes(df=lateral_squat_slide_df, x='time', y=['accX', 'accY', 'accZ'], title='Accelerometer readings (Raw Data)', \n",
    "                   x_label='Time, s', y_label='Linear acceleration, m/s^2', filename='graphs/squats_acc')\n",
    "display_three_axes(df=lateral_squat_slide_df, x='time', y=['gyrX', 'gyrY', 'gyrZ'], title='Gyroscope readings (Raw Data)', \n",
    "                   x_label='Time, s', y_label='Angular velocity, rad/s')"
   ]
  },
  {
   "cell_type": "markdown",
   "id": "f2053c3b-67e0-4c16-b79d-669830e6932b",
   "metadata": {},
   "source": [
    "#### 3) Save lateral_squat_slide_df to a separate file"
   ]
  },
  {
   "cell_type": "code",
   "execution_count": null,
   "id": "c1cc8a9c-4f11-4952-9a39-4865005e0b8c",
   "metadata": {},
   "outputs": [],
   "source": [
    "lateral_squat_slide_df.to_csv('data/40_Hz/concatenated_data/Lateral_squat_slide/Lateral_squat_slide_1_2023-08-21.csv', index=False)"
   ]
  },
  {
   "cell_type": "markdown",
   "id": "1f7e2325-2f25-4b10-8da6-a0c965d83ecb",
   "metadata": {
    "jp-MarkdownHeadingCollapsed": true,
    "tags": []
   },
   "source": [
    "## jogging_df"
   ]
  },
  {
   "cell_type": "markdown",
   "id": "9147c728-2018-4c0e-9eb3-40287e2a79d5",
   "metadata": {},
   "source": [
    "#### 1) Create a jogging_df dataframe using concat_dataframes() function"
   ]
  },
  {
   "cell_type": "code",
   "execution_count": null,
   "id": "59d54c5e-4b4a-498a-b1c1-1c99c0ad0650",
   "metadata": {},
   "outputs": [],
   "source": [
    "columns = ['timestamp', 'accX', 'accY', 'accZ', 'gyrX', 'gyrY', 'gyrZ']\n",
    "jogging_df_1 = pd.read_csv('data/40_Hz/original_data/train/Jogging/1_HIMU-2023-08-20_09-47-23.csv', names=columns, skiprows=4)\n",
    "\n",
    "jogging_df_2 = pd.read_csv('data/40_Hz/original_data/train/Jogging/2_HIMU-2023-08-20_10-00-50.csv', names=columns, skiprows=4)\n",
    "\n",
    "jogging_df = concat_dataframes(dfs=[jogging_df_1, jogging_df_2], \n",
    "                                timestamp_col_name='timestamp', \n",
    "                                timecol_position=1)\n",
    "jogging_df.head()"
   ]
  },
  {
   "cell_type": "code",
   "execution_count": null,
   "id": "fdd0c02e-0cc6-4e8e-a461-13306423a8a0",
   "metadata": {},
   "outputs": [],
   "source": [
    "jogging_df.info()"
   ]
  },
  {
   "cell_type": "code",
   "execution_count": null,
   "id": "f16a690e-e75b-4925-94a9-02bae679f45d",
   "metadata": {},
   "outputs": [],
   "source": [
    "time_diffs = jogging_df['time'].diff()\n",
    "measurement_time = jogging_df['time'].iloc[-1] - jogging_df['time'].iloc[0]\n",
    "print(f\"measurement_time = {measurement_time} s\")\n",
    "print(f\"Average measurement period = {time_diffs.mean()} s\")\n",
    "print(f\"Average measurement frequency = {1 / time_diffs.mean()} Hz\")"
   ]
  },
  {
   "cell_type": "markdown",
   "id": "96a84e0d-c725-4115-8043-223143e2a10a",
   "metadata": {},
   "source": [
    "#### 2) Visualise accelerometer and gyroscope behaviour (Raw data) for jogging_df"
   ]
  },
  {
   "cell_type": "code",
   "execution_count": null,
   "id": "db5a3b9f-db1a-4c97-8f1b-2b08c975c17e",
   "metadata": {},
   "outputs": [],
   "source": [
    "display_three_axes(df=jogging_df, x='time', y=['accX', 'accY', 'accZ'], title='Accelerometer readings (Raw Data)', \n",
    "                   x_label='Time, s', y_label='Linear acceleration, m/s^2', filename='graphs/squats_acc')\n",
    "display_three_axes(df=jogging_df, x='time', y=['gyrX', 'gyrY', 'gyrZ'], title='Gyroscope readings (Raw Data)', \n",
    "                   x_label='Time, s', y_label='Angular velocity, rad/s')"
   ]
  },
  {
   "cell_type": "markdown",
   "id": "dbd9456c-ce4f-4a90-9a45-9de1d4adb695",
   "metadata": {},
   "source": [
    "#### 3) Save jogging_df to a separate file"
   ]
  },
  {
   "cell_type": "code",
   "execution_count": null,
   "id": "5edc23e0-986b-4f24-a5ce-d7e2eba2f0bd",
   "metadata": {},
   "outputs": [],
   "source": [
    "jogging_df.to_csv('data/40_Hz/concatenated_data/Jogging/Jogging_1_2023-08-21.csv', index=False)"
   ]
  },
  {
   "cell_type": "markdown",
   "id": "da5aae8e-3bc4-4c50-b3ea-aa83c8c774f4",
   "metadata": {
    "tags": []
   },
   "source": [
    "## train_df"
   ]
  },
  {
   "cell_type": "code",
   "execution_count": null,
   "id": "cc9ff2fc-f5c3-40aa-8e39-498b5bcf67e3",
   "metadata": {},
   "outputs": [],
   "source": [
    "columns = ['timestamp', 'accX', 'accY', 'accZ', 'gyrX', 'gyrY', 'gyrZ']\n",
    "\n",
    "# squats\n",
    "squats_df_1 = pd.read_csv('data/40_Hz/original_data/train/Squats/1_HIMU-2023-08-19_13-20-06.csv', names=columns, skiprows=4)\n",
    "squats_df_2 = pd.read_csv('data/40_Hz/original_data/train/Squats/2_HIMU-2023-08-19_20-18-08.csv', names=columns, skiprows=4)\n",
    "squats_df_3 = pd.read_csv('data/40_Hz/original_data/train/Squats/3_HIMU-2023-08-19_20-35-09.csv', names=columns, skiprows=4)\n",
    "squats_df_4 = pd.read_csv('data/40_Hz/original_data/train/Squats/4_HIMU-2023-08-20_12-13-25.csv', names=columns, skiprows=4)\n",
    "squats_df_5 = pd.read_csv('data/40_Hz/original_data/train/Squats/5_HIMU-2023-08-20_12-27-08.csv', names=columns, skiprows=4)\n",
    "\n",
    "# leg_land\n",
    "leg_land_df_1 = pd.read_csv('data/40_Hz/original_data/train/Leg_land/1_HIMU-2023-08-20_15-04-38.csv', names=columns, skiprows=4)\n",
    "leg_land_df_2 = pd.read_csv('data/40_Hz/original_data/train/Leg_land/2_HIMU-2023-08-21_08-06-02.csv', names=columns, skiprows=4)\n",
    "leg_land_df_3 = pd.read_csv('data/40_Hz/original_data/train/Leg_land/3_HIMU-2023-08-21_08-17-19.csv', names=columns, skiprows=4)\n",
    "leg_land_df_4 = pd.read_csv('data/40_Hz/original_data/train/Leg_land/4_HIMU-2023-08-21_08-30-01.csv', names=columns, skiprows=4)\n",
    "leg_land_df_5 = pd.read_csv('data/40_Hz/original_data/train/Leg_land/5_HIMU-2023-08-21_08-38-01.csv', names=columns, skiprows=4)\n",
    "\n",
    "# walk\n",
    "walk_df = pd.read_csv('data/40_Hz/original_data/train/Walk/1_HIMU-2023-08-19_20-25-23.csv', names=columns, skiprows=4)\n",
    "\n",
    "# lateral squat slide\n",
    "lateral_squat_slide_df_1 = pd.read_csv('data/40_Hz/original_data/train/Lateral_squat_slide/1_HIMU-2023-08-21_08-10-01.csv', names=columns, skiprows=4)\n",
    "lateral_squat_slide_df_2 = pd.read_csv('data/40_Hz/original_data/train/Lateral_squat_slide/2_HIMU-2023-08-21_08-23-07.csv', names=columns, skiprows=4)\n",
    "lateral_squat_slide_df_3 = pd.read_csv('data/40_Hz/original_data/train/Lateral_squat_slide/3_HIMU-2023-08-21_08-56-02.csv', names=columns, skiprows=4)\n",
    "lateral_squat_slide_df_4 = pd.read_csv('data/40_Hz/original_data/train/Lateral_squat_slide/4_HIMU-2023-08-21_09-20-01.csv', names=columns, skiprows=4)\n",
    "\n",
    "# jogging\n",
    "jogging_df_1 = pd.read_csv('data/40_Hz/original_data/train/Jogging/1_HIMU-2023-08-20_09-47-23.csv', names=columns, skiprows=4)\n",
    "jogging_df_2 = pd.read_csv('data/40_Hz/original_data/train/Jogging/2_HIMU-2023-08-20_10-00-50.csv', names=columns, skiprows=4)\n",
    "\n",
    "# concatenate all the small dataframes\n",
    "train_df = concat_dataframes(dfs=[squats_df_1, squats_df_2, squats_df_3, squats_df_4, squats_df_5,\n",
    "                                  leg_land_df_1, leg_land_df_2, leg_land_df_3, leg_land_df_4, leg_land_df_5,\n",
    "                                  walk_df,\n",
    "                                  lateral_squat_slide_df_1, lateral_squat_slide_df_2, lateral_squat_slide_df_3, lateral_squat_slide_df_4,\n",
    "                                  jogging_df_1, jogging_df_2], \n",
    "                             timestamp_col_name='timestamp', \n",
    "                             timecol_position=1)\n",
    "\n",
    "train_df.head()"
   ]
  },
  {
   "cell_type": "code",
   "execution_count": null,
   "id": "686f6a17-1b4c-4afe-aca9-bc0fef087b33",
   "metadata": {},
   "outputs": [],
   "source": [
    "train_df.info()"
   ]
  },
  {
   "cell_type": "code",
   "execution_count": null,
   "id": "c7c73310-c857-48fc-ba53-d91b5a5b9ca8",
   "metadata": {},
   "outputs": [],
   "source": [
    "time_diffs = train_df['time'].diff()\n",
    "measurement_time = train_df['time'].iloc[-1] - train_df['time'].iloc[0]\n",
    "print(f\"measurement_time = {measurement_time} s\")\n",
    "print(f\"Average measurement period = {time_diffs.mean()} s\")\n",
    "print(f\"Average measurement frequency = {1 / time_diffs.mean()} Hz\")"
   ]
  },
  {
   "cell_type": "markdown",
   "id": "2dd71d89-6ff5-4bdf-9a3e-5422904343ee",
   "metadata": {},
   "source": [
    "#### 2) Visualise accelerometer and gyroscope behaviour (Raw data) for train_df"
   ]
  },
  {
   "cell_type": "code",
   "execution_count": null,
   "id": "d48891a5-8271-4fa1-ac71-cc4c17d5ffbc",
   "metadata": {},
   "outputs": [],
   "source": [
    "display_three_axes(df=train_df, x='time', y=['accX', 'accY', 'accZ'], title='Accelerometer readings (Raw Data)', \n",
    "                   x_label='Time, s', y_label='Linear acceleration, m/s^2', filename='graphs/squats_acc')\n",
    "display_three_axes(df=train_df, x='time', y=['gyrX', 'gyrY', 'gyrZ'], title='Gyroscope readings (Raw Data)', \n",
    "                   x_label='Time, s', y_label='Angular velocity, rad/s')"
   ]
  },
  {
   "cell_type": "markdown",
   "id": "e14eda8f-fab8-4fae-856a-d6af48db8efa",
   "metadata": {},
   "source": [
    "#### 3) Save train_df to a separate file"
   ]
  },
  {
   "cell_type": "code",
   "execution_count": null,
   "id": "3b76459b-d68b-4023-a20d-09a7a799ad82",
   "metadata": {},
   "outputs": [],
   "source": [
    "train_df.to_csv('data/40_Hz/concatenated_data/All/Train_1_2023-08-21.csv', index=False)"
   ]
  },
  {
   "cell_type": "code",
   "execution_count": null,
   "id": "80ed41e7-b399-40c6-ba7b-1787e458aa15",
   "metadata": {},
   "outputs": [],
   "source": [
    "read_train_df = pd.read_csv('data/40_Hz/concatenated_data/All/Train_1_2023-08-21.csv')\n",
    "read_train_df.head()"
   ]
  },
  {
   "cell_type": "markdown",
   "id": "b579b473-acec-41c6-8f0a-c5cd0cbe83a9",
   "metadata": {
    "tags": []
   },
   "source": [
    "## test_df"
   ]
  },
  {
   "cell_type": "code",
   "execution_count": null,
   "id": "198a2c60-bfa8-46ca-9855-e5ded9d31054",
   "metadata": {},
   "outputs": [],
   "source": [
    "columns = ['timestamp', 'accX', 'accY', 'accZ', 'gyrX', 'gyrY', 'gyrZ']\n",
    "test_df = pd.read_csv('data/40_Hz/original_data/test/Test1_HIMU-2023-08-20_09-31-52.csv', names=columns, skiprows=4)\n",
    "\n",
    "test_df.head()"
   ]
  },
  {
   "cell_type": "code",
   "execution_count": null,
   "id": "94345834-da52-4618-a22e-6be35a83dc80",
   "metadata": {},
   "outputs": [],
   "source": [
    "test_df.info()"
   ]
  },
  {
   "cell_type": "markdown",
   "id": "4dae1b38-48fa-426e-8ccc-5ea22c16a6d3",
   "metadata": {
    "jp-MarkdownHeadingCollapsed": true,
    "tags": []
   },
   "source": [
    "#### 1) Add 'time' column"
   ]
  },
  {
   "cell_type": "code",
   "execution_count": null,
   "id": "4185cecd-f024-4d9a-a4dc-c90d57b2b2e2",
   "metadata": {},
   "outputs": [],
   "source": [
    "test_df = add_time_column(df=test_df, timestamp_col_name='timestamp', initial_time=0, timecol_position=1)\n",
    "test_df.head()"
   ]
  },
  {
   "cell_type": "code",
   "execution_count": null,
   "id": "d53dcc4d-45d3-472f-b77a-fedba3d3398c",
   "metadata": {},
   "outputs": [],
   "source": [
    "test_df[-1:]"
   ]
  },
  {
   "cell_type": "code",
   "execution_count": null,
   "id": "1006858e-8a0c-43bf-aba6-83d26a9e013f",
   "metadata": {},
   "outputs": [],
   "source": [
    "time_diffs = test_df['time'].diff()\n",
    "measurement_time = test_df['time'].iloc[-1] - test_df['time'].iloc[0]\n",
    "print(f\"measurement_time = {measurement_time} s\")\n",
    "print(f\"Average measurement period = {time_diffs.mean()} s\")\n",
    "print(f\"Average measurement frequency = {1 / time_diffs.mean()} Hz\")"
   ]
  },
  {
   "cell_type": "markdown",
   "id": "04d62fae-5bf4-42d7-8267-6695a4dbaeac",
   "metadata": {
    "jp-MarkdownHeadingCollapsed": true,
    "tags": []
   },
   "source": [
    "#### 2) Visualise accelerometer and gyroscope behaviour (Raw data)"
   ]
  },
  {
   "cell_type": "code",
   "execution_count": null,
   "id": "1581a01b-4c7e-4fa9-a589-e2e44cb49abe",
   "metadata": {},
   "outputs": [],
   "source": [
    "display_three_axes(df=test_df, x='time', y=['accX', 'accY', 'accZ'], title='Accelerometer readings (Raw Data)', \n",
    "                   x_label='Time, s', y_label='Linear acceleration, m/s^2')\n",
    "display_three_axes(df=test_df, x='time', y=['gyrX', 'gyrY', 'gyrZ'], title='Gyroscope readings (Raw Data)', \n",
    "                   x_label='Time, s', y_label='Angular velocity, rad/s')"
   ]
  },
  {
   "cell_type": "markdown",
   "id": "7832fbc2-16e6-4a4b-9ca7-288b100b2007",
   "metadata": {
    "jp-MarkdownHeadingCollapsed": true,
    "tags": []
   },
   "source": [
    "#### 3) Save test_df to a separate file"
   ]
  },
  {
   "cell_type": "code",
   "execution_count": null,
   "id": "ba6406c3-d59b-47f1-a4c2-4dfe883051b9",
   "metadata": {},
   "outputs": [],
   "source": [
    "test_df.to_csv('data/40_Hz/concatenated_data/All/Test_1_2023-08-23.csv', index=False)"
   ]
  },
  {
   "cell_type": "code",
   "execution_count": null,
   "id": "e1cc0646-867c-4723-b473-60b515f849b9",
   "metadata": {},
   "outputs": [],
   "source": [
    "read_test_df = pd.read_csv('data/40_Hz/concatenated_data/All/Test_1_2023-08-23.csv')\n",
    "read_test_df.head()"
   ]
  },
  {
   "cell_type": "markdown",
   "id": "8641935d-4f95-43fe-b61a-4a23922ac629",
   "metadata": {
    "jp-MarkdownHeadingCollapsed": true,
    "tags": []
   },
   "source": [
    "## train_activities_df"
   ]
  },
  {
   "cell_type": "code",
   "execution_count": null,
   "id": "b6d6dcb4-583b-4295-86e9-3ca17b71b65a",
   "metadata": {},
   "outputs": [],
   "source": [
    "labels_df = create_activities_df(path='data/40_Hz/labeled_data/Train_test_1_labeled_1.csv', row_index=0)\n",
    "labels_df"
   ]
  },
  {
   "cell_type": "code",
   "execution_count": null,
   "id": "db45f31c-8401-487b-9102-816215730d3e",
   "metadata": {},
   "outputs": [],
   "source": [
    "df = pd.read_csv('data/40_Hz/concatenated_data/All/Train_1_2023-08-21.csv')\n",
    "df.head()"
   ]
  },
  {
   "cell_type": "code",
   "execution_count": null,
   "id": "75c88487-4b5a-4d07-a4dd-c30a6e5a2e39",
   "metadata": {},
   "outputs": [],
   "source": [
    "add_activity_column(path='data/40_Hz/labeled_data/Train_test_1_labeled_1.csv', df=df, df_merge_col='time', row_index=0)\n",
    "df.head()"
   ]
  },
  {
   "cell_type": "markdown",
   "id": "bdb75339-7c3e-40c7-b5a5-ad667d3689fb",
   "metadata": {
    "tags": []
   },
   "source": [
    "### Check that the 'activity' column is filled in correctly"
   ]
  },
  {
   "cell_type": "code",
   "execution_count": null,
   "id": "78201ea4-9334-4163-877f-b14e05f63216",
   "metadata": {},
   "outputs": [],
   "source": [
    "df[df['time'] > 4.730][:5]"
   ]
  },
  {
   "cell_type": "code",
   "execution_count": null,
   "id": "64e7c497-0e4b-4e54-8ff7-69c5231b656e",
   "metadata": {},
   "outputs": [],
   "source": [
    "df[df['time'] > 79.900][:5]"
   ]
  },
  {
   "cell_type": "code",
   "execution_count": null,
   "id": "5dd2456e-fc1b-4078-b9c8-a076475cdc4b",
   "metadata": {},
   "outputs": [],
   "source": [
    "df[df['time'] > 87.200][:5]"
   ]
  },
  {
   "cell_type": "code",
   "execution_count": null,
   "id": "721b6140-064b-4487-ba37-22e7a62ec13c",
   "metadata": {},
   "outputs": [],
   "source": [
    "df[df['time'] > 627.850][:5]"
   ]
  },
  {
   "cell_type": "code",
   "execution_count": null,
   "id": "7a472171-0c80-4fcc-a425-05a1b156faa1",
   "metadata": {},
   "outputs": [],
   "source": [
    "df[df['time'] > 798.500][:5]"
   ]
  },
  {
   "cell_type": "code",
   "execution_count": null,
   "id": "601db645-af52-4de1-b35f-f60342e2ecfe",
   "metadata": {},
   "outputs": [],
   "source": [
    "df[df['time'] > 1667.950][:5]"
   ]
  },
  {
   "cell_type": "code",
   "execution_count": null,
   "id": "ca2560d5-7e0d-48be-b095-940e81b5c815",
   "metadata": {},
   "outputs": [],
   "source": [
    "df[df['time'] > 1847.925][:5]"
   ]
  },
  {
   "cell_type": "markdown",
   "id": "97d435aa-81f7-4c69-8aac-d968d4677bbb",
   "metadata": {},
   "source": [
    "## test_activities_df"
   ]
  },
  {
   "cell_type": "code",
   "execution_count": 85,
   "id": "0f98f073-6fd7-44da-a11a-4a575e1d560d",
   "metadata": {},
   "outputs": [
    {
     "data": {
      "text/html": [
       "<div>\n",
       "<style scoped>\n",
       "    .dataframe tbody tr th:only-of-type {\n",
       "        vertical-align: middle;\n",
       "    }\n",
       "\n",
       "    .dataframe tbody tr th {\n",
       "        vertical-align: top;\n",
       "    }\n",
       "\n",
       "    .dataframe thead th {\n",
       "        text-align: right;\n",
       "    }\n",
       "</style>\n",
       "<table border=\"1\" class=\"dataframe\">\n",
       "  <thead>\n",
       "    <tr style=\"text-align: right;\">\n",
       "      <th></th>\n",
       "      <th>start_time</th>\n",
       "      <th>end_time</th>\n",
       "      <th>activity</th>\n",
       "    </tr>\n",
       "  </thead>\n",
       "  <tbody>\n",
       "    <tr>\n",
       "      <th>0</th>\n",
       "      <td>0.000</td>\n",
       "      <td>3.253</td>\n",
       "      <td>No activity</td>\n",
       "    </tr>\n",
       "    <tr>\n",
       "      <th>1</th>\n",
       "      <td>3.253</td>\n",
       "      <td>39.227</td>\n",
       "      <td>Squat</td>\n",
       "    </tr>\n",
       "    <tr>\n",
       "      <th>2</th>\n",
       "      <td>39.227</td>\n",
       "      <td>48.445</td>\n",
       "      <td>No activity</td>\n",
       "    </tr>\n",
       "    <tr>\n",
       "      <th>3</th>\n",
       "      <td>48.445</td>\n",
       "      <td>105.684</td>\n",
       "      <td>Leg land</td>\n",
       "    </tr>\n",
       "    <tr>\n",
       "      <th>4</th>\n",
       "      <td>105.684</td>\n",
       "      <td>112.070</td>\n",
       "      <td>No activity</td>\n",
       "    </tr>\n",
       "    <tr>\n",
       "      <th>5</th>\n",
       "      <td>112.070</td>\n",
       "      <td>185.733</td>\n",
       "      <td>Walk</td>\n",
       "    </tr>\n",
       "    <tr>\n",
       "      <th>6</th>\n",
       "      <td>185.733</td>\n",
       "      <td>206.894</td>\n",
       "      <td>No activity</td>\n",
       "    </tr>\n",
       "    <tr>\n",
       "      <th>7</th>\n",
       "      <td>206.894</td>\n",
       "      <td>267.142</td>\n",
       "      <td>Lateral squat slide</td>\n",
       "    </tr>\n",
       "    <tr>\n",
       "      <th>8</th>\n",
       "      <td>267.142</td>\n",
       "      <td>275.858</td>\n",
       "      <td>No activity</td>\n",
       "    </tr>\n",
       "    <tr>\n",
       "      <th>9</th>\n",
       "      <td>275.858</td>\n",
       "      <td>361.676</td>\n",
       "      <td>Jogging</td>\n",
       "    </tr>\n",
       "    <tr>\n",
       "      <th>10</th>\n",
       "      <td>361.676</td>\n",
       "      <td>365.243</td>\n",
       "      <td>No activity</td>\n",
       "    </tr>\n",
       "  </tbody>\n",
       "</table>\n",
       "</div>"
      ],
      "text/plain": [
       "    start_time  end_time             activity\n",
       "0        0.000     3.253          No activity\n",
       "1        3.253    39.227                Squat\n",
       "2       39.227    48.445          No activity\n",
       "3       48.445   105.684             Leg land\n",
       "4      105.684   112.070          No activity\n",
       "5      112.070   185.733                 Walk\n",
       "6      185.733   206.894          No activity\n",
       "7      206.894   267.142  Lateral squat slide\n",
       "8      267.142   275.858          No activity\n",
       "9      275.858   361.676              Jogging\n",
       "10     361.676   365.243          No activity"
      ]
     },
     "execution_count": 85,
     "metadata": {},
     "output_type": "execute_result"
    }
   ],
   "source": [
    "test_labels_df = create_activities_df(path='data/40_Hz/labeled_data/Train_test_1_labeled_1.csv', row_index=1)\n",
    "test_labels_df"
   ]
  },
  {
   "cell_type": "code",
   "execution_count": 86,
   "id": "cb578aa6-cb3c-48b4-a34a-10eff3baa4e2",
   "metadata": {},
   "outputs": [
    {
     "data": {
      "text/html": [
       "<div>\n",
       "<style scoped>\n",
       "    .dataframe tbody tr th:only-of-type {\n",
       "        vertical-align: middle;\n",
       "    }\n",
       "\n",
       "    .dataframe tbody tr th {\n",
       "        vertical-align: top;\n",
       "    }\n",
       "\n",
       "    .dataframe thead th {\n",
       "        text-align: right;\n",
       "    }\n",
       "</style>\n",
       "<table border=\"1\" class=\"dataframe\">\n",
       "  <thead>\n",
       "    <tr style=\"text-align: right;\">\n",
       "      <th></th>\n",
       "      <th>timestamp</th>\n",
       "      <th>time</th>\n",
       "      <th>accX</th>\n",
       "      <th>accY</th>\n",
       "      <th>accZ</th>\n",
       "      <th>gyrX</th>\n",
       "      <th>gyrY</th>\n",
       "      <th>gyrZ</th>\n",
       "    </tr>\n",
       "  </thead>\n",
       "  <tbody>\n",
       "    <tr>\n",
       "      <th>0</th>\n",
       "      <td>1692513112541</td>\n",
       "      <td>0.000</td>\n",
       "      <td>0.18195</td>\n",
       "      <td>-0.01395</td>\n",
       "      <td>9.904051</td>\n",
       "      <td>0.024200</td>\n",
       "      <td>0.000550</td>\n",
       "      <td>-0.067650</td>\n",
       "    </tr>\n",
       "    <tr>\n",
       "      <th>1</th>\n",
       "      <td>1692513112574</td>\n",
       "      <td>0.033</td>\n",
       "      <td>0.18495</td>\n",
       "      <td>0.09000</td>\n",
       "      <td>9.717000</td>\n",
       "      <td>0.009487</td>\n",
       "      <td>-0.031213</td>\n",
       "      <td>0.028325</td>\n",
       "    </tr>\n",
       "    <tr>\n",
       "      <th>2</th>\n",
       "      <td>1692513112599</td>\n",
       "      <td>0.058</td>\n",
       "      <td>0.18495</td>\n",
       "      <td>0.14505</td>\n",
       "      <td>9.745951</td>\n",
       "      <td>-0.002475</td>\n",
       "      <td>-0.047575</td>\n",
       "      <td>0.090338</td>\n",
       "    </tr>\n",
       "    <tr>\n",
       "      <th>3</th>\n",
       "      <td>1692513112631</td>\n",
       "      <td>0.090</td>\n",
       "      <td>0.14400</td>\n",
       "      <td>0.13605</td>\n",
       "      <td>9.772051</td>\n",
       "      <td>0.003438</td>\n",
       "      <td>-0.046887</td>\n",
       "      <td>0.097488</td>\n",
       "    </tr>\n",
       "    <tr>\n",
       "      <th>4</th>\n",
       "      <td>1692513112660</td>\n",
       "      <td>0.119</td>\n",
       "      <td>0.17505</td>\n",
       "      <td>0.06195</td>\n",
       "      <td>10.002001</td>\n",
       "      <td>0.017600</td>\n",
       "      <td>-0.039600</td>\n",
       "      <td>0.078238</td>\n",
       "    </tr>\n",
       "  </tbody>\n",
       "</table>\n",
       "</div>"
      ],
      "text/plain": [
       "       timestamp   time     accX     accY       accZ      gyrX      gyrY  \\\n",
       "0  1692513112541  0.000  0.18195 -0.01395   9.904051  0.024200  0.000550   \n",
       "1  1692513112574  0.033  0.18495  0.09000   9.717000  0.009487 -0.031213   \n",
       "2  1692513112599  0.058  0.18495  0.14505   9.745951 -0.002475 -0.047575   \n",
       "3  1692513112631  0.090  0.14400  0.13605   9.772051  0.003438 -0.046887   \n",
       "4  1692513112660  0.119  0.17505  0.06195  10.002001  0.017600 -0.039600   \n",
       "\n",
       "       gyrZ  \n",
       "0 -0.067650  \n",
       "1  0.028325  \n",
       "2  0.090338  \n",
       "3  0.097488  \n",
       "4  0.078238  "
      ]
     },
     "execution_count": 86,
     "metadata": {},
     "output_type": "execute_result"
    }
   ],
   "source": [
    "test_df = pd.read_csv('data/40_Hz/concatenated_data/All/Test_1_2023-08-23.csv')\n",
    "test_df.head()"
   ]
  },
  {
   "cell_type": "code",
   "execution_count": 87,
   "id": "51347e91-cd4d-47f7-b3de-c4e5043ddeb8",
   "metadata": {},
   "outputs": [
    {
     "data": {
      "text/html": [
       "<div>\n",
       "<style scoped>\n",
       "    .dataframe tbody tr th:only-of-type {\n",
       "        vertical-align: middle;\n",
       "    }\n",
       "\n",
       "    .dataframe tbody tr th {\n",
       "        vertical-align: top;\n",
       "    }\n",
       "\n",
       "    .dataframe thead th {\n",
       "        text-align: right;\n",
       "    }\n",
       "</style>\n",
       "<table border=\"1\" class=\"dataframe\">\n",
       "  <thead>\n",
       "    <tr style=\"text-align: right;\">\n",
       "      <th></th>\n",
       "      <th>timestamp</th>\n",
       "      <th>time</th>\n",
       "      <th>accX</th>\n",
       "      <th>accY</th>\n",
       "      <th>accZ</th>\n",
       "      <th>gyrX</th>\n",
       "      <th>gyrY</th>\n",
       "      <th>gyrZ</th>\n",
       "      <th>activity</th>\n",
       "    </tr>\n",
       "  </thead>\n",
       "  <tbody>\n",
       "    <tr>\n",
       "      <th>0</th>\n",
       "      <td>1692513112541</td>\n",
       "      <td>0.000</td>\n",
       "      <td>0.18195</td>\n",
       "      <td>-0.01395</td>\n",
       "      <td>9.904051</td>\n",
       "      <td>0.024200</td>\n",
       "      <td>0.000550</td>\n",
       "      <td>-0.067650</td>\n",
       "      <td>No activity</td>\n",
       "    </tr>\n",
       "    <tr>\n",
       "      <th>1</th>\n",
       "      <td>1692513112574</td>\n",
       "      <td>0.033</td>\n",
       "      <td>0.18495</td>\n",
       "      <td>0.09000</td>\n",
       "      <td>9.717000</td>\n",
       "      <td>0.009487</td>\n",
       "      <td>-0.031213</td>\n",
       "      <td>0.028325</td>\n",
       "      <td>No activity</td>\n",
       "    </tr>\n",
       "    <tr>\n",
       "      <th>2</th>\n",
       "      <td>1692513112599</td>\n",
       "      <td>0.058</td>\n",
       "      <td>0.18495</td>\n",
       "      <td>0.14505</td>\n",
       "      <td>9.745951</td>\n",
       "      <td>-0.002475</td>\n",
       "      <td>-0.047575</td>\n",
       "      <td>0.090338</td>\n",
       "      <td>No activity</td>\n",
       "    </tr>\n",
       "    <tr>\n",
       "      <th>3</th>\n",
       "      <td>1692513112631</td>\n",
       "      <td>0.090</td>\n",
       "      <td>0.14400</td>\n",
       "      <td>0.13605</td>\n",
       "      <td>9.772051</td>\n",
       "      <td>0.003438</td>\n",
       "      <td>-0.046887</td>\n",
       "      <td>0.097488</td>\n",
       "      <td>No activity</td>\n",
       "    </tr>\n",
       "    <tr>\n",
       "      <th>4</th>\n",
       "      <td>1692513112660</td>\n",
       "      <td>0.119</td>\n",
       "      <td>0.17505</td>\n",
       "      <td>0.06195</td>\n",
       "      <td>10.002001</td>\n",
       "      <td>0.017600</td>\n",
       "      <td>-0.039600</td>\n",
       "      <td>0.078238</td>\n",
       "      <td>No activity</td>\n",
       "    </tr>\n",
       "  </tbody>\n",
       "</table>\n",
       "</div>"
      ],
      "text/plain": [
       "       timestamp   time     accX     accY       accZ      gyrX      gyrY  \\\n",
       "0  1692513112541  0.000  0.18195 -0.01395   9.904051  0.024200  0.000550   \n",
       "1  1692513112574  0.033  0.18495  0.09000   9.717000  0.009487 -0.031213   \n",
       "2  1692513112599  0.058  0.18495  0.14505   9.745951 -0.002475 -0.047575   \n",
       "3  1692513112631  0.090  0.14400  0.13605   9.772051  0.003438 -0.046887   \n",
       "4  1692513112660  0.119  0.17505  0.06195  10.002001  0.017600 -0.039600   \n",
       "\n",
       "       gyrZ     activity  \n",
       "0 -0.067650  No activity  \n",
       "1  0.028325  No activity  \n",
       "2  0.090338  No activity  \n",
       "3  0.097488  No activity  \n",
       "4  0.078238  No activity  "
      ]
     },
     "execution_count": 87,
     "metadata": {},
     "output_type": "execute_result"
    }
   ],
   "source": [
    "add_activity_column(path='data/40_Hz/labeled_data/Train_test_1_labeled_1.csv', df=test_df, df_merge_col='time', row_index=1)\n",
    "test_df.head()"
   ]
  },
  {
   "cell_type": "markdown",
   "id": "da2ffbb1-575a-4a85-8599-48d66e0e9428",
   "metadata": {},
   "source": [
    "### Check that the 'activity' column is filled in correctly"
   ]
  },
  {
   "cell_type": "code",
   "execution_count": 88,
   "id": "29b234ce-f79b-4bdf-8a20-b77a694f18c8",
   "metadata": {},
   "outputs": [
    {
     "data": {
      "text/html": [
       "<div>\n",
       "<style scoped>\n",
       "    .dataframe tbody tr th:only-of-type {\n",
       "        vertical-align: middle;\n",
       "    }\n",
       "\n",
       "    .dataframe tbody tr th {\n",
       "        vertical-align: top;\n",
       "    }\n",
       "\n",
       "    .dataframe thead th {\n",
       "        text-align: right;\n",
       "    }\n",
       "</style>\n",
       "<table border=\"1\" class=\"dataframe\">\n",
       "  <thead>\n",
       "    <tr style=\"text-align: right;\">\n",
       "      <th></th>\n",
       "      <th>timestamp</th>\n",
       "      <th>time</th>\n",
       "      <th>accX</th>\n",
       "      <th>accY</th>\n",
       "      <th>accZ</th>\n",
       "      <th>gyrX</th>\n",
       "      <th>gyrY</th>\n",
       "      <th>gyrZ</th>\n",
       "      <th>activity</th>\n",
       "    </tr>\n",
       "  </thead>\n",
       "  <tbody>\n",
       "    <tr>\n",
       "      <th>113</th>\n",
       "      <td>1692513115767</td>\n",
       "      <td>3.226</td>\n",
       "      <td>-0.02295</td>\n",
       "      <td>0.22200</td>\n",
       "      <td>9.768001</td>\n",
       "      <td>0.048400</td>\n",
       "      <td>0.013200</td>\n",
       "      <td>-0.222887</td>\n",
       "      <td>No activity</td>\n",
       "    </tr>\n",
       "    <tr>\n",
       "      <th>114</th>\n",
       "      <td>1692513115794</td>\n",
       "      <td>3.253</td>\n",
       "      <td>-0.11805</td>\n",
       "      <td>0.32700</td>\n",
       "      <td>9.643050</td>\n",
       "      <td>0.050737</td>\n",
       "      <td>0.007975</td>\n",
       "      <td>-0.208450</td>\n",
       "      <td>Squat</td>\n",
       "    </tr>\n",
       "    <tr>\n",
       "      <th>115</th>\n",
       "      <td>1692513115822</td>\n",
       "      <td>3.281</td>\n",
       "      <td>-0.07500</td>\n",
       "      <td>0.37500</td>\n",
       "      <td>9.436951</td>\n",
       "      <td>0.053075</td>\n",
       "      <td>0.007012</td>\n",
       "      <td>-0.165687</td>\n",
       "      <td>Squat</td>\n",
       "    </tr>\n",
       "    <tr>\n",
       "      <th>116</th>\n",
       "      <td>1692513115850</td>\n",
       "      <td>3.309</td>\n",
       "      <td>-0.08205</td>\n",
       "      <td>0.34395</td>\n",
       "      <td>9.598050</td>\n",
       "      <td>0.066000</td>\n",
       "      <td>0.020213</td>\n",
       "      <td>-0.181088</td>\n",
       "      <td>Squat</td>\n",
       "    </tr>\n",
       "    <tr>\n",
       "      <th>117</th>\n",
       "      <td>1692513115876</td>\n",
       "      <td>3.335</td>\n",
       "      <td>-0.24000</td>\n",
       "      <td>0.29595</td>\n",
       "      <td>9.865951</td>\n",
       "      <td>0.075213</td>\n",
       "      <td>0.027088</td>\n",
       "      <td>-0.220963</td>\n",
       "      <td>Squat</td>\n",
       "    </tr>\n",
       "  </tbody>\n",
       "</table>\n",
       "</div>"
      ],
      "text/plain": [
       "         timestamp   time     accX     accY      accZ      gyrX      gyrY  \\\n",
       "113  1692513115767  3.226 -0.02295  0.22200  9.768001  0.048400  0.013200   \n",
       "114  1692513115794  3.253 -0.11805  0.32700  9.643050  0.050737  0.007975   \n",
       "115  1692513115822  3.281 -0.07500  0.37500  9.436951  0.053075  0.007012   \n",
       "116  1692513115850  3.309 -0.08205  0.34395  9.598050  0.066000  0.020213   \n",
       "117  1692513115876  3.335 -0.24000  0.29595  9.865951  0.075213  0.027088   \n",
       "\n",
       "         gyrZ     activity  \n",
       "113 -0.222887  No activity  \n",
       "114 -0.208450        Squat  \n",
       "115 -0.165687        Squat  \n",
       "116 -0.181088        Squat  \n",
       "117 -0.220963        Squat  "
      ]
     },
     "execution_count": 88,
     "metadata": {},
     "output_type": "execute_result"
    }
   ],
   "source": [
    "test_df[test_df['time'] > 3.220][:5]"
   ]
  },
  {
   "cell_type": "code",
   "execution_count": 89,
   "id": "fe68f3bf-ad5e-4a84-9a52-e20ea5720be2",
   "metadata": {},
   "outputs": [
    {
     "data": {
      "text/html": [
       "<div>\n",
       "<style scoped>\n",
       "    .dataframe tbody tr th:only-of-type {\n",
       "        vertical-align: middle;\n",
       "    }\n",
       "\n",
       "    .dataframe tbody tr th {\n",
       "        vertical-align: top;\n",
       "    }\n",
       "\n",
       "    .dataframe thead th {\n",
       "        text-align: right;\n",
       "    }\n",
       "</style>\n",
       "<table border=\"1\" class=\"dataframe\">\n",
       "  <thead>\n",
       "    <tr style=\"text-align: right;\">\n",
       "      <th></th>\n",
       "      <th>timestamp</th>\n",
       "      <th>time</th>\n",
       "      <th>accX</th>\n",
       "      <th>accY</th>\n",
       "      <th>accZ</th>\n",
       "      <th>gyrX</th>\n",
       "      <th>gyrY</th>\n",
       "      <th>gyrZ</th>\n",
       "      <th>activity</th>\n",
       "    </tr>\n",
       "  </thead>\n",
       "  <tbody>\n",
       "    <tr>\n",
       "      <th>1330</th>\n",
       "      <td>1692513151667</td>\n",
       "      <td>39.126</td>\n",
       "      <td>0.03105</td>\n",
       "      <td>-0.11895</td>\n",
       "      <td>9.763050</td>\n",
       "      <td>-0.106563</td>\n",
       "      <td>-0.115225</td>\n",
       "      <td>0.149050</td>\n",
       "      <td>Squat</td>\n",
       "    </tr>\n",
       "    <tr>\n",
       "      <th>1331</th>\n",
       "      <td>1692513151704</td>\n",
       "      <td>39.163</td>\n",
       "      <td>-0.05100</td>\n",
       "      <td>0.14505</td>\n",
       "      <td>9.727051</td>\n",
       "      <td>-0.075762</td>\n",
       "      <td>-0.022412</td>\n",
       "      <td>0.131450</td>\n",
       "      <td>Squat</td>\n",
       "    </tr>\n",
       "    <tr>\n",
       "      <th>1332</th>\n",
       "      <td>1692513151722</td>\n",
       "      <td>39.181</td>\n",
       "      <td>-0.27900</td>\n",
       "      <td>0.35100</td>\n",
       "      <td>9.519000</td>\n",
       "      <td>-0.052525</td>\n",
       "      <td>0.034650</td>\n",
       "      <td>0.087313</td>\n",
       "      <td>Squat</td>\n",
       "    </tr>\n",
       "    <tr>\n",
       "      <th>1333</th>\n",
       "      <td>1692513151768</td>\n",
       "      <td>39.227</td>\n",
       "      <td>0.32295</td>\n",
       "      <td>0.12600</td>\n",
       "      <td>9.520950</td>\n",
       "      <td>0.028050</td>\n",
       "      <td>0.075075</td>\n",
       "      <td>-0.201025</td>\n",
       "      <td>No activity</td>\n",
       "    </tr>\n",
       "    <tr>\n",
       "      <th>1334</th>\n",
       "      <td>1692513151796</td>\n",
       "      <td>39.255</td>\n",
       "      <td>0.21105</td>\n",
       "      <td>-0.00900</td>\n",
       "      <td>10.078951</td>\n",
       "      <td>0.073150</td>\n",
       "      <td>0.068750</td>\n",
       "      <td>-0.321887</td>\n",
       "      <td>No activity</td>\n",
       "    </tr>\n",
       "  </tbody>\n",
       "</table>\n",
       "</div>"
      ],
      "text/plain": [
       "          timestamp    time     accX     accY       accZ      gyrX      gyrY  \\\n",
       "1330  1692513151667  39.126  0.03105 -0.11895   9.763050 -0.106563 -0.115225   \n",
       "1331  1692513151704  39.163 -0.05100  0.14505   9.727051 -0.075762 -0.022412   \n",
       "1332  1692513151722  39.181 -0.27900  0.35100   9.519000 -0.052525  0.034650   \n",
       "1333  1692513151768  39.227  0.32295  0.12600   9.520950  0.028050  0.075075   \n",
       "1334  1692513151796  39.255  0.21105 -0.00900  10.078951  0.073150  0.068750   \n",
       "\n",
       "          gyrZ     activity  \n",
       "1330  0.149050        Squat  \n",
       "1331  0.131450        Squat  \n",
       "1332  0.087313        Squat  \n",
       "1333 -0.201025  No activity  \n",
       "1334 -0.321887  No activity  "
      ]
     },
     "execution_count": 89,
     "metadata": {},
     "output_type": "execute_result"
    }
   ],
   "source": [
    "test_df[test_df['time'] > 39.1][:5]"
   ]
  },
  {
   "cell_type": "code",
   "execution_count": 90,
   "id": "44186247-407d-4511-a9b4-895ae2e0c423",
   "metadata": {},
   "outputs": [
    {
     "data": {
      "text/html": [
       "<div>\n",
       "<style scoped>\n",
       "    .dataframe tbody tr th:only-of-type {\n",
       "        vertical-align: middle;\n",
       "    }\n",
       "\n",
       "    .dataframe tbody tr th {\n",
       "        vertical-align: top;\n",
       "    }\n",
       "\n",
       "    .dataframe thead th {\n",
       "        text-align: right;\n",
       "    }\n",
       "</style>\n",
       "<table border=\"1\" class=\"dataframe\">\n",
       "  <thead>\n",
       "    <tr style=\"text-align: right;\">\n",
       "      <th></th>\n",
       "      <th>timestamp</th>\n",
       "      <th>time</th>\n",
       "      <th>accX</th>\n",
       "      <th>accY</th>\n",
       "      <th>accZ</th>\n",
       "      <th>gyrX</th>\n",
       "      <th>gyrY</th>\n",
       "      <th>gyrZ</th>\n",
       "      <th>activity</th>\n",
       "    </tr>\n",
       "  </thead>\n",
       "  <tbody>\n",
       "    <tr>\n",
       "      <th>1649</th>\n",
       "      <td>1692513160957</td>\n",
       "      <td>48.416</td>\n",
       "      <td>-0.05400</td>\n",
       "      <td>-0.17205</td>\n",
       "      <td>9.850950</td>\n",
       "      <td>0.074525</td>\n",
       "      <td>0.047988</td>\n",
       "      <td>-0.124850</td>\n",
       "      <td>No activity</td>\n",
       "    </tr>\n",
       "    <tr>\n",
       "      <th>1650</th>\n",
       "      <td>1692513160986</td>\n",
       "      <td>48.445</td>\n",
       "      <td>0.02205</td>\n",
       "      <td>0.02595</td>\n",
       "      <td>9.382051</td>\n",
       "      <td>0.080025</td>\n",
       "      <td>0.039875</td>\n",
       "      <td>-0.186450</td>\n",
       "      <td>Leg land</td>\n",
       "    </tr>\n",
       "    <tr>\n",
       "      <th>1651</th>\n",
       "      <td>1692513161014</td>\n",
       "      <td>48.473</td>\n",
       "      <td>-0.01305</td>\n",
       "      <td>0.05400</td>\n",
       "      <td>9.436951</td>\n",
       "      <td>0.074112</td>\n",
       "      <td>0.026537</td>\n",
       "      <td>-0.188650</td>\n",
       "      <td>Leg land</td>\n",
       "    </tr>\n",
       "    <tr>\n",
       "      <th>1652</th>\n",
       "      <td>1692513161046</td>\n",
       "      <td>48.505</td>\n",
       "      <td>0.15600</td>\n",
       "      <td>-0.24900</td>\n",
       "      <td>9.913951</td>\n",
       "      <td>0.088000</td>\n",
       "      <td>0.003575</td>\n",
       "      <td>-0.144237</td>\n",
       "      <td>Leg land</td>\n",
       "    </tr>\n",
       "    <tr>\n",
       "      <th>1653</th>\n",
       "      <td>1692513161075</td>\n",
       "      <td>48.534</td>\n",
       "      <td>0.04605</td>\n",
       "      <td>-0.18405</td>\n",
       "      <td>10.021050</td>\n",
       "      <td>0.094463</td>\n",
       "      <td>-0.006738</td>\n",
       "      <td>-0.129663</td>\n",
       "      <td>Leg land</td>\n",
       "    </tr>\n",
       "  </tbody>\n",
       "</table>\n",
       "</div>"
      ],
      "text/plain": [
       "          timestamp    time     accX     accY       accZ      gyrX      gyrY  \\\n",
       "1649  1692513160957  48.416 -0.05400 -0.17205   9.850950  0.074525  0.047988   \n",
       "1650  1692513160986  48.445  0.02205  0.02595   9.382051  0.080025  0.039875   \n",
       "1651  1692513161014  48.473 -0.01305  0.05400   9.436951  0.074112  0.026537   \n",
       "1652  1692513161046  48.505  0.15600 -0.24900   9.913951  0.088000  0.003575   \n",
       "1653  1692513161075  48.534  0.04605 -0.18405  10.021050  0.094463 -0.006738   \n",
       "\n",
       "          gyrZ     activity  \n",
       "1649 -0.124850  No activity  \n",
       "1650 -0.186450     Leg land  \n",
       "1651 -0.188650     Leg land  \n",
       "1652 -0.144237     Leg land  \n",
       "1653 -0.129663     Leg land  "
      ]
     },
     "execution_count": 90,
     "metadata": {},
     "output_type": "execute_result"
    }
   ],
   "source": [
    "test_df[test_df['time'] > 48.4][:5]"
   ]
  },
  {
   "cell_type": "code",
   "execution_count": 91,
   "id": "e81cbc65-80b8-4486-a6d0-083c5896bf33",
   "metadata": {},
   "outputs": [
    {
     "data": {
      "text/html": [
       "<div>\n",
       "<style scoped>\n",
       "    .dataframe tbody tr th:only-of-type {\n",
       "        vertical-align: middle;\n",
       "    }\n",
       "\n",
       "    .dataframe tbody tr th {\n",
       "        vertical-align: top;\n",
       "    }\n",
       "\n",
       "    .dataframe thead th {\n",
       "        text-align: right;\n",
       "    }\n",
       "</style>\n",
       "<table border=\"1\" class=\"dataframe\">\n",
       "  <thead>\n",
       "    <tr style=\"text-align: right;\">\n",
       "      <th></th>\n",
       "      <th>timestamp</th>\n",
       "      <th>time</th>\n",
       "      <th>accX</th>\n",
       "      <th>accY</th>\n",
       "      <th>accZ</th>\n",
       "      <th>gyrX</th>\n",
       "      <th>gyrY</th>\n",
       "      <th>gyrZ</th>\n",
       "      <th>activity</th>\n",
       "    </tr>\n",
       "  </thead>\n",
       "  <tbody>\n",
       "    <tr>\n",
       "      <th>9451</th>\n",
       "      <td>1692513388368</td>\n",
       "      <td>275.827</td>\n",
       "      <td>-0.97305</td>\n",
       "      <td>-1.77300</td>\n",
       "      <td>11.352000</td>\n",
       "      <td>-0.194425</td>\n",
       "      <td>-0.006463</td>\n",
       "      <td>-0.091987</td>\n",
       "      <td>No activity</td>\n",
       "    </tr>\n",
       "    <tr>\n",
       "      <th>9452</th>\n",
       "      <td>1692513388399</td>\n",
       "      <td>275.858</td>\n",
       "      <td>-1.24305</td>\n",
       "      <td>-2.27100</td>\n",
       "      <td>12.858001</td>\n",
       "      <td>-0.293287</td>\n",
       "      <td>0.019387</td>\n",
       "      <td>-0.059125</td>\n",
       "      <td>Jogging</td>\n",
       "    </tr>\n",
       "    <tr>\n",
       "      <th>9453</th>\n",
       "      <td>1692513388429</td>\n",
       "      <td>275.888</td>\n",
       "      <td>-2.08395</td>\n",
       "      <td>-1.60605</td>\n",
       "      <td>12.894001</td>\n",
       "      <td>-0.384037</td>\n",
       "      <td>0.260288</td>\n",
       "      <td>-0.095425</td>\n",
       "      <td>Jogging</td>\n",
       "    </tr>\n",
       "    <tr>\n",
       "      <th>9454</th>\n",
       "      <td>1692513388459</td>\n",
       "      <td>275.918</td>\n",
       "      <td>-1.50195</td>\n",
       "      <td>-0.55995</td>\n",
       "      <td>10.633950</td>\n",
       "      <td>-0.395725</td>\n",
       "      <td>0.393525</td>\n",
       "      <td>-0.108488</td>\n",
       "      <td>Jogging</td>\n",
       "    </tr>\n",
       "    <tr>\n",
       "      <th>9455</th>\n",
       "      <td>1692513388488</td>\n",
       "      <td>275.947</td>\n",
       "      <td>-0.25695</td>\n",
       "      <td>-1.88595</td>\n",
       "      <td>13.138051</td>\n",
       "      <td>-0.279537</td>\n",
       "      <td>0.582450</td>\n",
       "      <td>-0.191950</td>\n",
       "      <td>Jogging</td>\n",
       "    </tr>\n",
       "  </tbody>\n",
       "</table>\n",
       "</div>"
      ],
      "text/plain": [
       "          timestamp     time     accX     accY       accZ      gyrX      gyrY  \\\n",
       "9451  1692513388368  275.827 -0.97305 -1.77300  11.352000 -0.194425 -0.006463   \n",
       "9452  1692513388399  275.858 -1.24305 -2.27100  12.858001 -0.293287  0.019387   \n",
       "9453  1692513388429  275.888 -2.08395 -1.60605  12.894001 -0.384037  0.260288   \n",
       "9454  1692513388459  275.918 -1.50195 -0.55995  10.633950 -0.395725  0.393525   \n",
       "9455  1692513388488  275.947 -0.25695 -1.88595  13.138051 -0.279537  0.582450   \n",
       "\n",
       "          gyrZ     activity  \n",
       "9451 -0.091987  No activity  \n",
       "9452 -0.059125      Jogging  \n",
       "9453 -0.095425      Jogging  \n",
       "9454 -0.108488      Jogging  \n",
       "9455 -0.191950      Jogging  "
      ]
     },
     "execution_count": 91,
     "metadata": {},
     "output_type": "execute_result"
    }
   ],
   "source": [
    "test_df[test_df['time'] > 275.82][:5]"
   ]
  },
  {
   "cell_type": "code",
   "execution_count": 92,
   "id": "ba61a9a7-087c-42cd-b7de-516669c5ef5e",
   "metadata": {},
   "outputs": [
    {
     "data": {
      "text/html": [
       "<div>\n",
       "<style scoped>\n",
       "    .dataframe tbody tr th:only-of-type {\n",
       "        vertical-align: middle;\n",
       "    }\n",
       "\n",
       "    .dataframe tbody tr th {\n",
       "        vertical-align: top;\n",
       "    }\n",
       "\n",
       "    .dataframe thead th {\n",
       "        text-align: right;\n",
       "    }\n",
       "</style>\n",
       "<table border=\"1\" class=\"dataframe\">\n",
       "  <thead>\n",
       "    <tr style=\"text-align: right;\">\n",
       "      <th></th>\n",
       "      <th>timestamp</th>\n",
       "      <th>time</th>\n",
       "      <th>accX</th>\n",
       "      <th>accY</th>\n",
       "      <th>accZ</th>\n",
       "      <th>gyrX</th>\n",
       "      <th>gyrY</th>\n",
       "      <th>gyrZ</th>\n",
       "      <th>activity</th>\n",
       "    </tr>\n",
       "  </thead>\n",
       "  <tbody>\n",
       "    <tr>\n",
       "      <th>12433</th>\n",
       "      <td>1692513474130</td>\n",
       "      <td>361.589</td>\n",
       "      <td>-0.55605</td>\n",
       "      <td>-0.61695</td>\n",
       "      <td>10.318050</td>\n",
       "      <td>-0.092400</td>\n",
       "      <td>0.492525</td>\n",
       "      <td>-1.094500</td>\n",
       "      <td>Jogging</td>\n",
       "    </tr>\n",
       "    <tr>\n",
       "      <th>12434</th>\n",
       "      <td>1692513474159</td>\n",
       "      <td>361.618</td>\n",
       "      <td>-0.93495</td>\n",
       "      <td>0.14805</td>\n",
       "      <td>8.386950</td>\n",
       "      <td>-0.385962</td>\n",
       "      <td>0.465850</td>\n",
       "      <td>-1.782962</td>\n",
       "      <td>Jogging</td>\n",
       "    </tr>\n",
       "    <tr>\n",
       "      <th>12435</th>\n",
       "      <td>1692513474188</td>\n",
       "      <td>361.647</td>\n",
       "      <td>-1.85595</td>\n",
       "      <td>1.37805</td>\n",
       "      <td>5.848950</td>\n",
       "      <td>-0.528275</td>\n",
       "      <td>0.306762</td>\n",
       "      <td>-1.761513</td>\n",
       "      <td>Jogging</td>\n",
       "    </tr>\n",
       "    <tr>\n",
       "      <th>12436</th>\n",
       "      <td>1692513474217</td>\n",
       "      <td>361.676</td>\n",
       "      <td>-3.22995</td>\n",
       "      <td>1.95495</td>\n",
       "      <td>4.497000</td>\n",
       "      <td>-0.393388</td>\n",
       "      <td>0.295350</td>\n",
       "      <td>-1.294013</td>\n",
       "      <td>No activity</td>\n",
       "    </tr>\n",
       "    <tr>\n",
       "      <th>12437</th>\n",
       "      <td>1692513474250</td>\n",
       "      <td>361.709</td>\n",
       "      <td>-1.41105</td>\n",
       "      <td>0.04200</td>\n",
       "      <td>7.396051</td>\n",
       "      <td>0.051975</td>\n",
       "      <td>0.497613</td>\n",
       "      <td>-0.239800</td>\n",
       "      <td>No activity</td>\n",
       "    </tr>\n",
       "  </tbody>\n",
       "</table>\n",
       "</div>"
      ],
      "text/plain": [
       "           timestamp     time     accX     accY       accZ      gyrX  \\\n",
       "12433  1692513474130  361.589 -0.55605 -0.61695  10.318050 -0.092400   \n",
       "12434  1692513474159  361.618 -0.93495  0.14805   8.386950 -0.385962   \n",
       "12435  1692513474188  361.647 -1.85595  1.37805   5.848950 -0.528275   \n",
       "12436  1692513474217  361.676 -3.22995  1.95495   4.497000 -0.393388   \n",
       "12437  1692513474250  361.709 -1.41105  0.04200   7.396051  0.051975   \n",
       "\n",
       "           gyrY      gyrZ     activity  \n",
       "12433  0.492525 -1.094500      Jogging  \n",
       "12434  0.465850 -1.782962      Jogging  \n",
       "12435  0.306762 -1.761513      Jogging  \n",
       "12436  0.295350 -1.294013  No activity  \n",
       "12437  0.497613 -0.239800  No activity  "
      ]
     },
     "execution_count": 92,
     "metadata": {},
     "output_type": "execute_result"
    }
   ],
   "source": [
    "test_df[test_df['time'] > 361.58][:5]"
   ]
  }
 ],
 "metadata": {
  "kernelspec": {
   "display_name": "Python 3 (ipykernel)",
   "language": "python",
   "name": "python3"
  },
  "language_info": {
   "codemirror_mode": {
    "name": "ipython",
    "version": 3
   },
   "file_extension": ".py",
   "mimetype": "text/x-python",
   "name": "python",
   "nbconvert_exporter": "python",
   "pygments_lexer": "ipython3",
   "version": "3.10.8"
  }
 },
 "nbformat": 4,
 "nbformat_minor": 5
}
