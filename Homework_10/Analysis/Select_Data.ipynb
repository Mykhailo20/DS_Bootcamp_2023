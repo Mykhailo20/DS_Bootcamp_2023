{
 "cells": [
  {
   "cell_type": "code",
   "execution_count": 7,
   "id": "f2ecc83e-226e-4ddd-b19d-881f509a72df",
   "metadata": {},
   "outputs": [],
   "source": [
    "import os\n",
    "import shutil"
   ]
  },
  {
   "cell_type": "markdown",
   "id": "80684ae8-8f68-4c7c-873c-7bbed5e14551",
   "metadata": {},
   "source": [
    "# Move the LongPlate files to the 1_chosen_data folder"
   ]
  },
  {
   "cell_type": "markdown",
   "id": "c5195410-b62f-490c-82fd-1628a703dd71",
   "metadata": {},
   "source": [
    "## Train files"
   ]
  },
  {
   "cell_type": "code",
   "execution_count": 14,
   "id": "03e4d1b3-9b6b-47a7-8a92-58df259924ad",
   "metadata": {},
   "outputs": [
    {
     "name": "stdout",
     "output_type": "stream",
     "text": [
      "len(train_images) = 6176\n",
      "len(train_labels) = 6176\n"
     ]
    }
   ],
   "source": [
    "source_folder = 'data/Vehicle Registration Plates.v1-original-images.yolov8/train'\n",
    "destination_folder = 'data/1_chosen_data/train'\n",
    "\n",
    "if not os.path.exists(destination_folder):\n",
    "    os.makedirs(destination_folder)\n",
    "\n",
    "train_images_folder = source_folder + '/images'\n",
    "train_labels_folder = source_folder + '/labels'\n",
    "train_images = os.listdir(train_images_folder)\n",
    "train_labels = os.listdir(train_labels_folder)\n",
    "\n",
    "print(f\"len(train_images) = {len(train_images)}\")\n",
    "print(f\"len(train_labels) = {len(train_labels)}\")"
   ]
  },
  {
   "cell_type": "code",
   "execution_count": 21,
   "id": "2e9c7fd4-c6bb-401f-952a-e4ce559e2ef8",
   "metadata": {},
   "outputs": [
    {
     "name": "stdout",
     "output_type": "stream",
     "text": [
      "CarLongPlate0_jpg.rf.68e0b9ccbdf0663f58876e02d480971e.jpg\n",
      "CarLongPlate100_jpg.rf.6067d4cebf8aa075fc1c9b317f824c84.jpg\n",
      "CarLongPlate102_jpg.rf.3c1ac339e94f9a48376022e310a8e5c7.jpg\n",
      "CarLongPlate103_jpg.rf.344c8ec636c3fac0667537ff778ffa3a.jpg\n",
      "CarLongPlate104_jpg.rf.870fdbc5cf820aede6c9b2dfd8319b7a.jpg\n",
      "CarLongPlate106_jpg.rf.5561c4ab0b29b8e8ba22b23381bfbe1d.jpg\n",
      "CarLongPlate107_jpg.rf.f672816f379274ac85026b64c585c948.jpg\n",
      "CarLongPlate108_jpg.rf.534e54495e2a4dfd7ea8c1df359381bc.jpg\n",
      "CarLongPlate109_jpg.rf.d8b0fcae17838a8f950f0a60fb3d8f3b.jpg\n",
      "CarLongPlate10_jpg.rf.1125e4c8cd5267366d855b201cdd7951.jpg\n"
     ]
    }
   ],
   "source": [
    "counter = 0\n",
    "for filename in train_images:\n",
    "    if filename.startswith('CarLongPlate'):\n",
    "        print(filename)\n",
    "        counter += 1\n",
    "        if counter == 10:\n",
    "            break"
   ]
  },
  {
   "cell_type": "code",
   "execution_count": 10,
   "id": "e3206fce-1c5e-4a2c-a04c-c6686dcd138d",
   "metadata": {},
   "outputs": [
    {
     "name": "stdout",
     "output_type": "stream",
     "text": [
      "len(train_car_long_plate_images) = 3436\n",
      "len(train_car_long_plate_labels) = 3436\n"
     ]
    }
   ],
   "source": [
    "train_car_long_plate_images = [image_name for image_name in train_images if image_name.startswith('CarLongPlate')]\n",
    "train_car_long_plate_labels = [label for label in train_labels if label.startswith('CarLongPlate')]\n",
    "\n",
    "print(f\"len(train_car_long_plate_images) = {len(train_car_long_plate_images)}\")\n",
    "print(f\"len(train_car_long_plate_labels) = {len(train_car_long_plate_labels)}\")"
   ]
  },
  {
   "cell_type": "code",
   "execution_count": null,
   "id": "b7f7cd95-5e07-4304-9cf7-78302e11ed55",
   "metadata": {},
   "outputs": [],
   "source": [
    "images_destination_folder = destination_folder + '/images'\n",
    "labels_destination_folder = destination_folder + '/labels'\n",
    "\n",
    "if not os.path.exists(images_destination_folder):\n",
    "    os.makedirs(images_destination_folder)\n",
    "    \n",
    "if not os.path.exists(labels_destination_folder):\n",
    "    os.makedirs(labels_destination_folder)\n",
    "\n",
    "for long_plate_image, long_plate_label in zip(train_car_long_plate_images, train_car_long_plate_labels):\n",
    "    source_image_path = os.path.join(train_images_folder, long_plate_image)\n",
    "    destination_image_path = os.path.join(images_destination_folder, long_plate_image)\n",
    "    \n",
    "    source_label_path = os.path.join(train_labels_folder, long_plate_label)\n",
    "    destination_label_path = os.path.join(labels_destination_folder, long_plate_label)\n",
    "    \n",
    "    shutil.copy(source_image_path, destination_image_path)\n",
    "    shutil.copy(source_label_path, destination_label_path)\n",
    "\n",
    "print(\"Copy process completed\")"
   ]
  },
  {
   "cell_type": "code",
   "execution_count": 19,
   "id": "c5a3cc8b-fbfe-44c1-826c-cc45c73352ac",
   "metadata": {},
   "outputs": [
    {
     "name": "stdout",
     "output_type": "stream",
     "text": [
      "len(long_plate_images) = 3436\n",
      "len(long_plate_labels) = 3436\n"
     ]
    }
   ],
   "source": [
    "long_plate_images = os.listdir(images_destination_folder)\n",
    "long_plate_labels = os.listdir(labels_destination_folder)\n",
    "\n",
    "print(f\"len(long_plate_images) = {len(long_plate_images)}\")\n",
    "print(f\"len(long_plate_labels) = {len(long_plate_labels)}\")"
   ]
  },
  {
   "cell_type": "markdown",
   "id": "49093bc8-3925-4226-ad9c-2f8d1fdda8ef",
   "metadata": {},
   "source": [
    "## Valid files"
   ]
  },
  {
   "cell_type": "code",
   "execution_count": 20,
   "id": "fa755b7f-1e32-4e28-b7a5-c4a3e6aa70d4",
   "metadata": {},
   "outputs": [
    {
     "name": "stdout",
     "output_type": "stream",
     "text": [
      "len(valid_images) = 1765\n",
      "len(valid_labels) = 1765\n"
     ]
    }
   ],
   "source": [
    "source_folder = 'data/Vehicle Registration Plates.v1-original-images.yolov8/valid'\n",
    "destination_folder = 'data/1_chosen_data/valid'\n",
    "\n",
    "if not os.path.exists(destination_folder):\n",
    "    os.makedirs(destination_folder)\n",
    "\n",
    "valid_images_folder = source_folder + '/images'\n",
    "valid_labels_folder = source_folder + '/labels'\n",
    "valid_images = os.listdir(valid_images_folder)\n",
    "valid_labels = os.listdir(valid_labels_folder)\n",
    "\n",
    "print(f\"len(valid_images) = {len(valid_images)}\")\n",
    "print(f\"len(valid_labels) = {len(valid_labels)}\")"
   ]
  },
  {
   "cell_type": "code",
   "execution_count": 23,
   "id": "3d073c91-4480-425b-b525-966e75a104f6",
   "metadata": {},
   "outputs": [
    {
     "name": "stdout",
     "output_type": "stream",
     "text": [
      "len(valid_car_long_plate_images) = 978\n",
      "len(valid_car_long_plate_labels) = 978\n"
     ]
    }
   ],
   "source": [
    "valid_car_long_plate_images = [image_name for image_name in valid_images if image_name.startswith('CarLongPlate')]\n",
    "valid_car_long_plate_labels = [label for label in valid_labels if label.startswith('CarLongPlate')]\n",
    "\n",
    "print(f\"len(valid_car_long_plate_images) = {len(valid_car_long_plate_images)}\")\n",
    "print(f\"len(valid_car_long_plate_labels) = {len(valid_car_long_plate_labels)}\")"
   ]
  },
  {
   "cell_type": "code",
   "execution_count": 25,
   "id": "8a5d2060-2405-4d78-b017-99e2833fc80b",
   "metadata": {},
   "outputs": [
    {
     "name": "stdout",
     "output_type": "stream",
     "text": [
      "\n",
      "Copy process completed\n"
     ]
    }
   ],
   "source": [
    "images_destination_folder = destination_folder + '/images'\n",
    "labels_destination_folder = destination_folder + '/labels'\n",
    "\n",
    "if not os.path.exists(images_destination_folder):\n",
    "    os.makedirs(images_destination_folder)\n",
    "    \n",
    "if not os.path.exists(labels_destination_folder):\n",
    "    os.makedirs(labels_destination_folder)\n",
    "\n",
    "for long_plate_image, long_plate_label in zip(valid_car_long_plate_images, valid_car_long_plate_labels):\n",
    "    source_image_path = os.path.join(valid_images_folder, long_plate_image)\n",
    "    destination_image_path = os.path.join(images_destination_folder, long_plate_image)\n",
    "    \n",
    "    source_label_path = os.path.join(valid_labels_folder, long_plate_label)\n",
    "    destination_label_path = os.path.join(labels_destination_folder, long_plate_label)\n",
    "    \n",
    "    shutil.copy(source_image_path, destination_image_path)\n",
    "    shutil.copy(source_label_path, destination_label_path)\n",
    "\n",
    "print(\"Copy process completed\")"
   ]
  },
  {
   "cell_type": "code",
   "execution_count": 26,
   "id": "5ee3ae4e-d009-4142-9db9-3250deed0eff",
   "metadata": {},
   "outputs": [
    {
     "name": "stdout",
     "output_type": "stream",
     "text": [
      "len(long_plate_images) = 978\n",
      "len(long_plate_labels) = 978\n"
     ]
    }
   ],
   "source": [
    "long_plate_images = os.listdir(images_destination_folder)\n",
    "long_plate_labels = os.listdir(labels_destination_folder)\n",
    "\n",
    "print(f\"len(long_plate_images) = {len(long_plate_images)}\")\n",
    "print(f\"len(long_plate_labels) = {len(long_plate_labels)}\")"
   ]
  },
  {
   "cell_type": "markdown",
   "id": "0d07e18c-b7d2-482b-bfdc-7af04f4ac240",
   "metadata": {},
   "source": [
    "## Test files"
   ]
  },
  {
   "cell_type": "code",
   "execution_count": 27,
   "id": "cd6986b2-9a56-487c-9055-c9ba185bac59",
   "metadata": {},
   "outputs": [
    {
     "name": "stdout",
     "output_type": "stream",
     "text": [
      "len(test_images) = 882\n",
      "len(test_labels) = 882\n"
     ]
    }
   ],
   "source": [
    "source_folder = 'data/Vehicle Registration Plates.v1-original-images.yolov8/test'\n",
    "destination_folder = 'data/1_chosen_data/test'\n",
    "\n",
    "if not os.path.exists(destination_folder):\n",
    "    os.makedirs(destination_folder)\n",
    "\n",
    "test_images_folder = source_folder + '/images'\n",
    "test_labels_folder = source_folder + '/labels'\n",
    "test_images = os.listdir(test_images_folder)\n",
    "test_labels = os.listdir(test_labels_folder)\n",
    "\n",
    "print(f\"len(test_images) = {len(test_images)}\")\n",
    "print(f\"len(test_labels) = {len(test_labels)}\")"
   ]
  },
  {
   "cell_type": "code",
   "execution_count": 28,
   "id": "31c44bc3-487a-47b1-ab32-2e85b12d9e5d",
   "metadata": {},
   "outputs": [
    {
     "name": "stdout",
     "output_type": "stream",
     "text": [
      "len(test_car_long_plate_images) = 490\n",
      "len(test_car_long_plate_labels) = 490\n"
     ]
    }
   ],
   "source": [
    "test_car_long_plate_images = [image_name for image_name in test_images if image_name.startswith('CarLongPlate')]\n",
    "test_car_long_plate_labels = [label for label in test_labels if label.startswith('CarLongPlate')]\n",
    "\n",
    "print(f\"len(test_car_long_plate_images) = {len(test_car_long_plate_images)}\")\n",
    "print(f\"len(test_car_long_plate_labels) = {len(test_car_long_plate_labels)}\")"
   ]
  },
  {
   "cell_type": "code",
   "execution_count": 31,
   "id": "5c602a11-4281-489a-9002-1c3bdde6c760",
   "metadata": {},
   "outputs": [
    {
     "name": "stdout",
     "output_type": "stream",
     "text": [
      "Copy process completed\n"
     ]
    }
   ],
   "source": [
    "images_destination_folder = destination_folder + '/images'\n",
    "labels_destination_folder = destination_folder + '/labels'\n",
    "\n",
    "if not os.path.exists(images_destination_folder):\n",
    "    os.makedirs(images_destination_folder)\n",
    "    \n",
    "if not os.path.exists(labels_destination_folder):\n",
    "    os.makedirs(labels_destination_folder)\n",
    "\n",
    "for long_plate_image, long_plate_label in zip(test_car_long_plate_images, test_car_long_plate_labels):\n",
    "    source_image_path = os.path.join(test_images_folder, long_plate_image)\n",
    "    destination_image_path = os.path.join(images_destination_folder, long_plate_image)\n",
    "    \n",
    "    source_label_path = os.path.join(test_labels_folder, long_plate_label)\n",
    "    destination_label_path = os.path.join(labels_destination_folder, long_plate_label)\n",
    "    \n",
    "    shutil.copy(source_image_path, destination_image_path)\n",
    "    shutil.copy(source_label_path, destination_label_path)\n",
    "\n",
    "print(\"Copy process completed\")"
   ]
  },
  {
   "cell_type": "code",
   "execution_count": 32,
   "id": "b976aa71-3e85-4ca2-86de-f6e2cbdbee29",
   "metadata": {},
   "outputs": [
    {
     "name": "stdout",
     "output_type": "stream",
     "text": [
      "len(long_plate_images) = 490\n",
      "len(long_plate_labels) = 490\n"
     ]
    }
   ],
   "source": [
    "long_plate_images = os.listdir(images_destination_folder)\n",
    "long_plate_labels = os.listdir(labels_destination_folder)\n",
    "\n",
    "print(f\"len(long_plate_images) = {len(long_plate_images)}\")\n",
    "print(f\"len(long_plate_labels) = {len(long_plate_labels)}\")"
   ]
  }
 ],
 "metadata": {
  "kernelspec": {
   "display_name": "Python 3 (ipykernel)",
   "language": "python",
   "name": "python3"
  },
  "language_info": {
   "codemirror_mode": {
    "name": "ipython",
    "version": 3
   },
   "file_extension": ".py",
   "mimetype": "text/x-python",
   "name": "python",
   "nbconvert_exporter": "python",
   "pygments_lexer": "ipython3",
   "version": "3.10.8"
  }
 },
 "nbformat": 4,
 "nbformat_minor": 5
}
