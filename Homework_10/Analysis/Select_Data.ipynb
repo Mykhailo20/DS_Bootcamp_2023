{
 "cells": [
  {
   "cell_type": "code",
   "execution_count": 1,
   "id": "f2ecc83e-226e-4ddd-b19d-881f509a72df",
   "metadata": {},
   "outputs": [],
   "source": [
    "import os\n",
    "import shutil\n",
    "\n",
    "import numpy as np\n",
    "import pandas as pd\n",
    "import matplotlib.pyplot as plt\n",
    "\n",
    "import imutils\n",
    "import cv2\n",
    "import easyocr"
   ]
  },
  {
   "cell_type": "markdown",
   "id": "3a3303f6-423e-4ed2-ae68-3292efe9767d",
   "metadata": {
    "tags": []
   },
   "source": [
    "# Help Functions"
   ]
  },
  {
   "cell_type": "markdown",
   "id": "f093260f-d2a0-47a5-b920-8046a7c45d39",
   "metadata": {},
   "source": [
    "## Numerical Plate localization algorithm"
   ]
  },
  {
   "cell_type": "markdown",
   "id": "5236c332-bf37-4e7e-9181-d2ad55b19e87",
   "metadata": {},
   "source": [
    "### YOLO model"
   ]
  },
  {
   "cell_type": "code",
   "execution_count": 2,
   "id": "93ceae20-78c0-4f5c-9bdd-55bf04640085",
   "metadata": {},
   "outputs": [],
   "source": [
    "# Get the names of the output layers\n",
    "def getOutputsNames(net):\n",
    "    # Get the names of all the layers in the network\n",
    "    layersNames = net.getLayerNames()\n",
    "    # Get the names of the output layers, i.e. the layers with unconnected outputs\n",
    "    return [layersNames[i - 1] for i in net.getUnconnectedOutLayers()]"
   ]
  },
  {
   "cell_type": "code",
   "execution_count": 3,
   "id": "0c088d9b-406a-4c2e-962a-c3720817751f",
   "metadata": {},
   "outputs": [],
   "source": [
    "# Draw the predicted bounding box\n",
    "def drawPred(classId, conf, left, top, right, bottom):\n",
    "    # Draw a bounding box.\n",
    "    #    cv2.rectangle(frame, (left, top), (right, bottom), (255, 178, 50), 3)\n",
    "    cv2.rectangle(frame, (left, top), (right, bottom), (0, 255, 0), 3)\n",
    "\n",
    "    label = '%.2f' % conf\n",
    "\n",
    "    # Get the label for the class name and its confidence\n",
    "    if classes:\n",
    "        assert(classId < len(classes))\n",
    "        label = '%s: %s' % (classes[classId], label)\n",
    "\n",
    "    # Display the label at the top of the bounding box\n",
    "    labelSize, baseLine = cv2.getTextSize(\n",
    "        label, cv2.FONT_HERSHEY_SIMPLEX, 1, 1)\n",
    "    top = max(top, labelSize[1])\n",
    "    #cv2.rectangle(frame, (left, top - round(1.7*labelSize[1])), (left + round(\n",
    "    #   1.3*labelSize[0]), top + baseLine), (255, 0, 255), cv2.FILLED)\n",
    "    # cv2.putText(frame, label, (left, top),\n",
    "    #           cv2.FONT_HERSHEY_SIMPLEX, 1.3, (255, 255, 255), 2)"
   ]
  },
  {
   "cell_type": "code",
   "execution_count": 4,
   "id": "598d0c6a-2e2a-4dd9-9eb2-51401fae6547",
   "metadata": {},
   "outputs": [],
   "source": [
    "# Remove the bounding boxes with low confidence using non-maxima suppression\n",
    "def postprocess(frame, outs):\n",
    "    frameHeight = frame.shape[0]\n",
    "    frameWidth = frame.shape[1]\n",
    "\n",
    "    classIds = []\n",
    "    confidences = []\n",
    "    boxes = []\n",
    "    # Scan through all the bounding boxes output from the network and keep only the\n",
    "    # ones with high confidence scores. Assign the box's class label as the class with the highest score.\n",
    "    classIds = []\n",
    "    confidences = []\n",
    "    boxes = []\n",
    "    for out in outs:\n",
    "        print(\"out.shape : \", out.shape)\n",
    "        for detection in out:\n",
    "            # if detection[4]>0.001:\n",
    "            scores = detection[5:]\n",
    "            classId = np.argmax(scores)\n",
    "            # if scores[classId]>confThreshold:\n",
    "            confidence = scores[classId]\n",
    "            if detection[4] > confThreshold:\n",
    "                print(detection[4], \" - \", scores[classId],\n",
    "                      \" - th : \", confThreshold)\n",
    "                print(f\"detection: {detection}\")\n",
    "            if confidence > confThreshold:\n",
    "                center_x = int(detection[0] * frameWidth)\n",
    "                center_y = int(detection[1] * frameHeight)\n",
    "                width = int(detection[2] * frameWidth)\n",
    "                height = int(detection[3] * frameHeight)\n",
    "                left = int(center_x - width / 2)\n",
    "                top = int(center_y - height / 2)\n",
    "                classIds.append(classId)\n",
    "                confidences.append(float(confidence))\n",
    "                boxes.append([left, top, width, height])\n",
    "\n",
    "    # Perform non maximum suppression to eliminate redundant overlapping boxes with\n",
    "    # lower confidences.\n",
    "    indices = cv2.dnn.NMSBoxes(boxes, confidences, confThreshold, nmsThreshold)\n",
    "    return indices, boxes, classIds, confidences"
   ]
  },
  {
   "cell_type": "markdown",
   "id": "893fec7f-810b-4506-b3d0-a61c38845532",
   "metadata": {},
   "source": [
    "### Opencv Algorithm"
   ]
  },
  {
   "cell_type": "code",
   "execution_count": 5,
   "id": "e9c421ab-3bef-4704-b077-16f40e5cc32e",
   "metadata": {},
   "outputs": [],
   "source": [
    "def opencv_license_plates_localization(file_path, min_aspect_ratio=2, max_aspect_ratio=5):\n",
    "    \n",
    "    # Extract the filename\n",
    "    file_name = os.path.basename(file_path)\n",
    "    \n",
    "    img = cv2.imread(file_path)\n",
    "    gray = cv2.cvtColor(img, cv2.COLOR_BGR2GRAY) # Make the image gray\n",
    "    \n",
    "    bfilter = cv2.bilateralFilter(gray, 11, 17, 17) # Noise reduction\n",
    "    edged = cv2.Canny(bfilter, 30, 200) # Edge detection\n",
    "    \n",
    "    keypoints = cv2.findContours(edged.copy(), cv2.RETR_TREE, cv2.CHAIN_APPROX_SIMPLE) # Find keypoints\n",
    "    contours = imutils.grab_contours(keypoints) # Grab contours\n",
    "    contours = sorted(contours, key=cv2.contourArea, reverse=True)[:30] # Select the 10 largest contours \n",
    "    \n",
    "    # Find the position of the license plate (rectangle search)\n",
    "    location = None\n",
    "    for contour in contours:\n",
    "        approx = cv2.approxPolyDP(contour, 10, True)\n",
    "        if len(approx) == 4:\n",
    "            x, y, w, h = cv2.boundingRect(approx)\n",
    "            aspect_ratio = float(w) / h\n",
    "            \n",
    "            # Check if the aspect ratio falls within the desired range\n",
    "            if min_aspect_ratio <= aspect_ratio <= max_aspect_ratio:\n",
    "                location = approx\n",
    "                return location\n",
    "    \n",
    "    if location is None:\n",
    "        return None"
   ]
  },
  {
   "cell_type": "markdown",
   "id": "5bfe34e4-cace-4177-8d5b-ae97542f932b",
   "metadata": {},
   "source": [
    "## License plate alignment"
   ]
  },
  {
   "cell_type": "code",
   "execution_count": 29,
   "id": "1c274e2b-5923-451d-bf24-e684b03da52f",
   "metadata": {},
   "outputs": [],
   "source": [
    "def align_license_plate(license_plate_image):\n",
    "    # Convert the license plate image to grayscale\n",
    "    gray_license_plate = cv2.cvtColor(license_plate_image, cv2.COLOR_BGR2GRAY)\n",
    "\n",
    "    # Perform edge detection on the grayscale image\n",
    "    edges = cv2.Canny(gray_license_plate, 50, 150, apertureSize=3)\n",
    "\n",
    "    # Find lines in the edge-detected image\n",
    "    lines = cv2.HoughLinesP(edges, 1, np.pi / 180, threshold=25, minLineLength=10, maxLineGap=10)\n",
    "\n",
    "    # Check if any lines were found\n",
    "    if lines is None:\n",
    "        print(f'lines is None')\n",
    "        return license_plate_image  # No lines found, return the original image\n",
    "\n",
    "    # Calculate the angle of the detected lines\n",
    "    angles = []\n",
    "    for line in lines:\n",
    "        x1, y1, x2, y2 = line[0]\n",
    "        angle = np.arctan2(y2 - y1, x2 - x1)\n",
    "        angles.append(angle)\n",
    "\n",
    "    # Calculate the median angle to align the license plate\n",
    "    median_angle = np.median(angles)\n",
    "\n",
    "    # Rotate the license plate image to align it with the median angle\n",
    "    aligned_license_plate = license_plate_image.copy()\n",
    "    M = cv2.getRotationMatrix2D((aligned_license_plate.shape[1] / 2, aligned_license_plate.shape[0] / 2), median_angle * 180 / np.pi, 1)\n",
    "    aligned_license_plate = cv2.warpAffine(aligned_license_plate, M, (aligned_license_plate.shape[1], aligned_license_plate.shape[0]))\n",
    "\n",
    "    return aligned_license_plate"
   ]
  },
  {
   "cell_type": "markdown",
   "id": "80684ae8-8f68-4c7c-873c-7bbed5e14551",
   "metadata": {
    "tags": []
   },
   "source": [
    "# Move the LongPlate files to the 1_chosen_data folder"
   ]
  },
  {
   "cell_type": "markdown",
   "id": "c5195410-b62f-490c-82fd-1628a703dd71",
   "metadata": {
    "tags": []
   },
   "source": [
    "## Train files"
   ]
  },
  {
   "cell_type": "code",
   "execution_count": 14,
   "id": "03e4d1b3-9b6b-47a7-8a92-58df259924ad",
   "metadata": {},
   "outputs": [
    {
     "name": "stdout",
     "output_type": "stream",
     "text": [
      "len(train_images) = 6176\n",
      "len(train_labels) = 6176\n"
     ]
    }
   ],
   "source": [
    "source_folder = 'data/Vehicle Registration Plates.v1-original-images.yolov8/train'\n",
    "destination_folder = 'data/1_chosen_data/train'\n",
    "\n",
    "if not os.path.exists(destination_folder):\n",
    "    os.makedirs(destination_folder)\n",
    "\n",
    "train_images_folder = source_folder + '/images'\n",
    "train_labels_folder = source_folder + '/labels'\n",
    "train_images = os.listdir(train_images_folder)\n",
    "train_labels = os.listdir(train_labels_folder)\n",
    "\n",
    "print(f\"len(train_images) = {len(train_images)}\")\n",
    "print(f\"len(train_labels) = {len(train_labels)}\")"
   ]
  },
  {
   "cell_type": "code",
   "execution_count": 21,
   "id": "2e9c7fd4-c6bb-401f-952a-e4ce559e2ef8",
   "metadata": {},
   "outputs": [
    {
     "name": "stdout",
     "output_type": "stream",
     "text": [
      "CarLongPlate0_jpg.rf.68e0b9ccbdf0663f58876e02d480971e.jpg\n",
      "CarLongPlate100_jpg.rf.6067d4cebf8aa075fc1c9b317f824c84.jpg\n",
      "CarLongPlate102_jpg.rf.3c1ac339e94f9a48376022e310a8e5c7.jpg\n",
      "CarLongPlate103_jpg.rf.344c8ec636c3fac0667537ff778ffa3a.jpg\n",
      "CarLongPlate104_jpg.rf.870fdbc5cf820aede6c9b2dfd8319b7a.jpg\n",
      "CarLongPlate106_jpg.rf.5561c4ab0b29b8e8ba22b23381bfbe1d.jpg\n",
      "CarLongPlate107_jpg.rf.f672816f379274ac85026b64c585c948.jpg\n",
      "CarLongPlate108_jpg.rf.534e54495e2a4dfd7ea8c1df359381bc.jpg\n",
      "CarLongPlate109_jpg.rf.d8b0fcae17838a8f950f0a60fb3d8f3b.jpg\n",
      "CarLongPlate10_jpg.rf.1125e4c8cd5267366d855b201cdd7951.jpg\n"
     ]
    }
   ],
   "source": [
    "counter = 0\n",
    "for filename in train_images:\n",
    "    if filename.startswith('CarLongPlate'):\n",
    "        print(filename)\n",
    "        counter += 1\n",
    "        if counter == 10:\n",
    "            break"
   ]
  },
  {
   "cell_type": "code",
   "execution_count": 10,
   "id": "e3206fce-1c5e-4a2c-a04c-c6686dcd138d",
   "metadata": {},
   "outputs": [
    {
     "name": "stdout",
     "output_type": "stream",
     "text": [
      "len(train_car_long_plate_images) = 3436\n",
      "len(train_car_long_plate_labels) = 3436\n"
     ]
    }
   ],
   "source": [
    "train_car_long_plate_images = [image_name for image_name in train_images if image_name.startswith('CarLongPlate')]\n",
    "train_car_long_plate_labels = [label for label in train_labels if label.startswith('CarLongPlate')]\n",
    "\n",
    "print(f\"len(train_car_long_plate_images) = {len(train_car_long_plate_images)}\")\n",
    "print(f\"len(train_car_long_plate_labels) = {len(train_car_long_plate_labels)}\")"
   ]
  },
  {
   "cell_type": "code",
   "execution_count": null,
   "id": "b7f7cd95-5e07-4304-9cf7-78302e11ed55",
   "metadata": {},
   "outputs": [],
   "source": [
    "images_destination_folder = destination_folder + '/images'\n",
    "labels_destination_folder = destination_folder + '/labels'\n",
    "\n",
    "if not os.path.exists(images_destination_folder):\n",
    "    os.makedirs(images_destination_folder)\n",
    "    \n",
    "if not os.path.exists(labels_destination_folder):\n",
    "    os.makedirs(labels_destination_folder)\n",
    "\n",
    "for long_plate_image, long_plate_label in zip(train_car_long_plate_images, train_car_long_plate_labels):\n",
    "    source_image_path = os.path.join(train_images_folder, long_plate_image)\n",
    "    destination_image_path = os.path.join(images_destination_folder, long_plate_image)\n",
    "    \n",
    "    source_label_path = os.path.join(train_labels_folder, long_plate_label)\n",
    "    destination_label_path = os.path.join(labels_destination_folder, long_plate_label)\n",
    "    \n",
    "    shutil.copy(source_image_path, destination_image_path)\n",
    "    shutil.copy(source_label_path, destination_label_path)\n",
    "\n",
    "print(\"Copy process completed\")"
   ]
  },
  {
   "cell_type": "code",
   "execution_count": 19,
   "id": "c5a3cc8b-fbfe-44c1-826c-cc45c73352ac",
   "metadata": {},
   "outputs": [
    {
     "name": "stdout",
     "output_type": "stream",
     "text": [
      "len(long_plate_images) = 3436\n",
      "len(long_plate_labels) = 3436\n"
     ]
    }
   ],
   "source": [
    "long_plate_images = os.listdir(images_destination_folder)\n",
    "long_plate_labels = os.listdir(labels_destination_folder)\n",
    "\n",
    "print(f\"len(long_plate_images) = {len(long_plate_images)}\")\n",
    "print(f\"len(long_plate_labels) = {len(long_plate_labels)}\")"
   ]
  },
  {
   "cell_type": "markdown",
   "id": "49093bc8-3925-4226-ad9c-2f8d1fdda8ef",
   "metadata": {
    "jp-MarkdownHeadingCollapsed": true,
    "tags": []
   },
   "source": [
    "## Valid files"
   ]
  },
  {
   "cell_type": "code",
   "execution_count": 20,
   "id": "fa755b7f-1e32-4e28-b7a5-c4a3e6aa70d4",
   "metadata": {},
   "outputs": [
    {
     "name": "stdout",
     "output_type": "stream",
     "text": [
      "len(valid_images) = 1765\n",
      "len(valid_labels) = 1765\n"
     ]
    }
   ],
   "source": [
    "source_folder = 'data/Vehicle Registration Plates.v1-original-images.yolov8/valid'\n",
    "destination_folder = 'data/1_chosen_data/valid'\n",
    "\n",
    "if not os.path.exists(destination_folder):\n",
    "    os.makedirs(destination_folder)\n",
    "\n",
    "valid_images_folder = source_folder + '/images'\n",
    "valid_labels_folder = source_folder + '/labels'\n",
    "valid_images = os.listdir(valid_images_folder)\n",
    "valid_labels = os.listdir(valid_labels_folder)\n",
    "\n",
    "print(f\"len(valid_images) = {len(valid_images)}\")\n",
    "print(f\"len(valid_labels) = {len(valid_labels)}\")"
   ]
  },
  {
   "cell_type": "code",
   "execution_count": 23,
   "id": "3d073c91-4480-425b-b525-966e75a104f6",
   "metadata": {},
   "outputs": [
    {
     "name": "stdout",
     "output_type": "stream",
     "text": [
      "len(valid_car_long_plate_images) = 978\n",
      "len(valid_car_long_plate_labels) = 978\n"
     ]
    }
   ],
   "source": [
    "valid_car_long_plate_images = [image_name for image_name in valid_images if image_name.startswith('CarLongPlate')]\n",
    "valid_car_long_plate_labels = [label for label in valid_labels if label.startswith('CarLongPlate')]\n",
    "\n",
    "print(f\"len(valid_car_long_plate_images) = {len(valid_car_long_plate_images)}\")\n",
    "print(f\"len(valid_car_long_plate_labels) = {len(valid_car_long_plate_labels)}\")"
   ]
  },
  {
   "cell_type": "code",
   "execution_count": 25,
   "id": "8a5d2060-2405-4d78-b017-99e2833fc80b",
   "metadata": {},
   "outputs": [
    {
     "name": "stdout",
     "output_type": "stream",
     "text": [
      "\n",
      "Copy process completed\n"
     ]
    }
   ],
   "source": [
    "images_destination_folder = destination_folder + '/images'\n",
    "labels_destination_folder = destination_folder + '/labels'\n",
    "\n",
    "if not os.path.exists(images_destination_folder):\n",
    "    os.makedirs(images_destination_folder)\n",
    "    \n",
    "if not os.path.exists(labels_destination_folder):\n",
    "    os.makedirs(labels_destination_folder)\n",
    "\n",
    "for long_plate_image, long_plate_label in zip(valid_car_long_plate_images, valid_car_long_plate_labels):\n",
    "    source_image_path = os.path.join(valid_images_folder, long_plate_image)\n",
    "    destination_image_path = os.path.join(images_destination_folder, long_plate_image)\n",
    "    \n",
    "    source_label_path = os.path.join(valid_labels_folder, long_plate_label)\n",
    "    destination_label_path = os.path.join(labels_destination_folder, long_plate_label)\n",
    "    \n",
    "    shutil.copy(source_image_path, destination_image_path)\n",
    "    shutil.copy(source_label_path, destination_label_path)\n",
    "\n",
    "print(\"Copy process completed\")"
   ]
  },
  {
   "cell_type": "code",
   "execution_count": 26,
   "id": "5ee3ae4e-d009-4142-9db9-3250deed0eff",
   "metadata": {},
   "outputs": [
    {
     "name": "stdout",
     "output_type": "stream",
     "text": [
      "len(long_plate_images) = 978\n",
      "len(long_plate_labels) = 978\n"
     ]
    }
   ],
   "source": [
    "long_plate_images = os.listdir(images_destination_folder)\n",
    "long_plate_labels = os.listdir(labels_destination_folder)\n",
    "\n",
    "print(f\"len(long_plate_images) = {len(long_plate_images)}\")\n",
    "print(f\"len(long_plate_labels) = {len(long_plate_labels)}\")"
   ]
  },
  {
   "cell_type": "markdown",
   "id": "0d07e18c-b7d2-482b-bfdc-7af04f4ac240",
   "metadata": {
    "jp-MarkdownHeadingCollapsed": true,
    "tags": []
   },
   "source": [
    "## Test files"
   ]
  },
  {
   "cell_type": "code",
   "execution_count": 27,
   "id": "cd6986b2-9a56-487c-9055-c9ba185bac59",
   "metadata": {},
   "outputs": [
    {
     "name": "stdout",
     "output_type": "stream",
     "text": [
      "len(test_images) = 882\n",
      "len(test_labels) = 882\n"
     ]
    }
   ],
   "source": [
    "source_folder = 'data/Vehicle Registration Plates.v1-original-images.yolov8/test'\n",
    "destination_folder = 'data/1_chosen_data/test'\n",
    "\n",
    "if not os.path.exists(destination_folder):\n",
    "    os.makedirs(destination_folder)\n",
    "\n",
    "test_images_folder = source_folder + '/images'\n",
    "test_labels_folder = source_folder + '/labels'\n",
    "test_images = os.listdir(test_images_folder)\n",
    "test_labels = os.listdir(test_labels_folder)\n",
    "\n",
    "print(f\"len(test_images) = {len(test_images)}\")\n",
    "print(f\"len(test_labels) = {len(test_labels)}\")"
   ]
  },
  {
   "cell_type": "code",
   "execution_count": 28,
   "id": "31c44bc3-487a-47b1-ab32-2e85b12d9e5d",
   "metadata": {},
   "outputs": [
    {
     "name": "stdout",
     "output_type": "stream",
     "text": [
      "len(test_car_long_plate_images) = 490\n",
      "len(test_car_long_plate_labels) = 490\n"
     ]
    }
   ],
   "source": [
    "test_car_long_plate_images = [image_name for image_name in test_images if image_name.startswith('CarLongPlate')]\n",
    "test_car_long_plate_labels = [label for label in test_labels if label.startswith('CarLongPlate')]\n",
    "\n",
    "print(f\"len(test_car_long_plate_images) = {len(test_car_long_plate_images)}\")\n",
    "print(f\"len(test_car_long_plate_labels) = {len(test_car_long_plate_labels)}\")"
   ]
  },
  {
   "cell_type": "code",
   "execution_count": 31,
   "id": "5c602a11-4281-489a-9002-1c3bdde6c760",
   "metadata": {},
   "outputs": [
    {
     "name": "stdout",
     "output_type": "stream",
     "text": [
      "Copy process completed\n"
     ]
    }
   ],
   "source": [
    "images_destination_folder = destination_folder + '/images'\n",
    "labels_destination_folder = destination_folder + '/labels'\n",
    "\n",
    "if not os.path.exists(images_destination_folder):\n",
    "    os.makedirs(images_destination_folder)\n",
    "    \n",
    "if not os.path.exists(labels_destination_folder):\n",
    "    os.makedirs(labels_destination_folder)\n",
    "\n",
    "for long_plate_image, long_plate_label in zip(test_car_long_plate_images, test_car_long_plate_labels):\n",
    "    source_image_path = os.path.join(test_images_folder, long_plate_image)\n",
    "    destination_image_path = os.path.join(images_destination_folder, long_plate_image)\n",
    "    \n",
    "    source_label_path = os.path.join(test_labels_folder, long_plate_label)\n",
    "    destination_label_path = os.path.join(labels_destination_folder, long_plate_label)\n",
    "    \n",
    "    shutil.copy(source_image_path, destination_image_path)\n",
    "    shutil.copy(source_label_path, destination_label_path)\n",
    "\n",
    "print(\"Copy process completed\")"
   ]
  },
  {
   "cell_type": "code",
   "execution_count": 32,
   "id": "b976aa71-3e85-4ca2-86de-f6e2cbdbee29",
   "metadata": {},
   "outputs": [
    {
     "name": "stdout",
     "output_type": "stream",
     "text": [
      "len(long_plate_images) = 490\n",
      "len(long_plate_labels) = 490\n"
     ]
    }
   ],
   "source": [
    "long_plate_images = os.listdir(images_destination_folder)\n",
    "long_plate_labels = os.listdir(labels_destination_folder)\n",
    "\n",
    "print(f\"len(long_plate_images) = {len(long_plate_images)}\")\n",
    "print(f\"len(long_plate_labels) = {len(long_plate_labels)}\")"
   ]
  },
  {
   "cell_type": "markdown",
   "id": "c482cf34-1876-4e18-8cd0-f30e1cddc9e5",
   "metadata": {
    "jp-MarkdownHeadingCollapsed": true,
    "tags": []
   },
   "source": [
    "# Change the contents of the labels folder to match the contents of the images after removing the broken images"
   ]
  },
  {
   "cell_type": "markdown",
   "id": "551b551c-94cf-4f58-9293-186ef4268936",
   "metadata": {},
   "source": [
    "## Train files"
   ]
  },
  {
   "cell_type": "code",
   "execution_count": 5,
   "id": "a79649ec-10ef-482c-bcfd-d30741989dd5",
   "metadata": {},
   "outputs": [
    {
     "name": "stdout",
     "output_type": "stream",
     "text": [
      "len(train_images) = 2715\n",
      "len(train_labels) = 3436\n"
     ]
    }
   ],
   "source": [
    "images_folder = 'data/1_selected_data/train/images'\n",
    "labels_folder = 'data/1_selected_data/train/labels'\n",
    "\n",
    "# List all image files in the 'images' folder\n",
    "image_files = os.listdir(images_folder)\n",
    "\n",
    "# List all label files in the 'labels' folder\n",
    "label_files = os.listdir(labels_folder)\n",
    "\n",
    "print(f\"len(train_images) = {len(image_files)}\")\n",
    "print(f\"len(train_labels) = {len(label_files)}\")"
   ]
  },
  {
   "cell_type": "code",
   "execution_count": 7,
   "id": "b7ffbf17-65fd-437e-89fb-73960d2f84ee",
   "metadata": {},
   "outputs": [
    {
     "data": {
      "text/plain": [
       "'CarLongPlate0_jpg.rf.68e0b9ccbdf0663f58876e02d480971e.jpg'"
      ]
     },
     "execution_count": 7,
     "metadata": {},
     "output_type": "execute_result"
    }
   ],
   "source": [
    "test_label = label_files[0]\n",
    "image_filename = os.path.splitext(test_label)[0] + '.jpg'\n",
    "image_filename"
   ]
  },
  {
   "cell_type": "code",
   "execution_count": null,
   "id": "565e4870-5ae0-4779-860f-fa76e690fd8e",
   "metadata": {},
   "outputs": [
    {
     "data": {
      "text/plain": [
       "True"
      ]
     },
     "execution_count": 9,
     "metadata": {},
     "output_type": "execute_result"
    }
   ],
   "source": [
    "image_files[0] == image_filename"
   ]
  },
  {
   "cell_type": "code",
   "execution_count": 10,
   "id": "6708054d-8281-45e8-bf7a-da3b1e115244",
   "metadata": {},
   "outputs": [
    {
     "name": "stdout",
     "output_type": "stream",
     "text": [
      "Deletion process completed.\n"
     ]
    }
   ],
   "source": [
    "# Loop through each label file and check if the corresponding image exists\n",
    "for label_file in label_files:\n",
    "    if label_file.endswith('.txt'):\n",
    "        # Extract the image filename without the extension\n",
    "        image_filename = os.path.splitext(label_file)[0] + '.jpg'\n",
    "\n",
    "        # Check if the corresponding image exists in the 'images' folder\n",
    "        if image_filename not in image_files:\n",
    "            # If the image does not exist, delete the label file\n",
    "            label_file_path = os.path.join(labels_folder, label_file)\n",
    "            os.remove(label_file_path)\n",
    "\n",
    "print(\"Deletion process completed\")"
   ]
  },
  {
   "cell_type": "code",
   "execution_count": 11,
   "id": "f816de03-13d4-4d61-bdc4-cc4bdbbefb76",
   "metadata": {},
   "outputs": [
    {
     "name": "stdout",
     "output_type": "stream",
     "text": [
      "len(train_images) = 2715\n",
      "len(train_labels) = 2715\n"
     ]
    }
   ],
   "source": [
    "images_folder = 'data/1_selected_data/train/images'\n",
    "labels_folder = 'data/1_selected_data/train/labels'\n",
    "\n",
    "# List all image files in the 'images' folder\n",
    "image_files = os.listdir(images_folder)\n",
    "\n",
    "# List all label files in the 'labels' folder\n",
    "label_files = os.listdir(labels_folder)\n",
    "\n",
    "print(f\"len(train_images) = {len(image_files)}\")\n",
    "print(f\"len(train_labels) = {len(label_files)}\")"
   ]
  },
  {
   "cell_type": "markdown",
   "id": "47bbd1c9-30ea-455a-be53-c175bff73538",
   "metadata": {},
   "source": [
    "## Valid files"
   ]
  },
  {
   "cell_type": "code",
   "execution_count": 12,
   "id": "ab47d6c4-f7dc-4006-9d47-176801f4b576",
   "metadata": {},
   "outputs": [
    {
     "name": "stdout",
     "output_type": "stream",
     "text": [
      "len(valid_images) = 796\n",
      "len(valid_labels) = 978\n"
     ]
    }
   ],
   "source": [
    "images_folder = 'data/1_selected_data/valid/images'\n",
    "labels_folder = 'data/1_selected_data/valid/labels'\n",
    "\n",
    "# List all image files in the 'images' folder\n",
    "image_files = os.listdir(images_folder)\n",
    "\n",
    "# List all label files in the 'labels' folder\n",
    "label_files = os.listdir(labels_folder)\n",
    "\n",
    "print(f\"len(valid_images) = {len(image_files)}\")\n",
    "print(f\"len(valid_labels) = {len(label_files)}\")"
   ]
  },
  {
   "cell_type": "code",
   "execution_count": 13,
   "id": "bddca036-75a9-4276-8b38-68ffd4e057d7",
   "metadata": {},
   "outputs": [
    {
     "name": "stdout",
     "output_type": "stream",
     "text": [
      "Deletion process completed\n"
     ]
    }
   ],
   "source": [
    "# Loop through each label file and check if the corresponding image exists\n",
    "for label_file in label_files:\n",
    "    if label_file.endswith('.txt'):\n",
    "        # Extract the image filename without the extension\n",
    "        image_filename = os.path.splitext(label_file)[0] + '.jpg'\n",
    "\n",
    "        # Check if the corresponding image exists in the 'images' folder\n",
    "        if image_filename not in image_files:\n",
    "            # If the image does not exist, delete the label file\n",
    "            label_file_path = os.path.join(labels_folder, label_file)\n",
    "            os.remove(label_file_path)\n",
    "\n",
    "print(\"Deletion process completed\")"
   ]
  },
  {
   "cell_type": "code",
   "execution_count": 14,
   "id": "e3751fc7-9bee-4c52-81ce-d450c4a406ee",
   "metadata": {},
   "outputs": [
    {
     "name": "stdout",
     "output_type": "stream",
     "text": [
      "len(valid_images) = 796\n",
      "len(valid_labels) = 796\n"
     ]
    }
   ],
   "source": [
    "images_folder = 'data/1_selected_data/valid/images'\n",
    "labels_folder = 'data/1_selected_data/valid/labels'\n",
    "\n",
    "# List all image files in the 'images' folder\n",
    "image_files = os.listdir(images_folder)\n",
    "\n",
    "# List all label files in the 'labels' folder\n",
    "label_files = os.listdir(labels_folder)\n",
    "\n",
    "print(f\"len(valid_images) = {len(image_files)}\")\n",
    "print(f\"len(valid_labels) = {len(label_files)}\")"
   ]
  },
  {
   "cell_type": "markdown",
   "id": "2ab1f8a4-5325-44b2-8b48-ce6e6e46900b",
   "metadata": {},
   "source": [
    "## Test files"
   ]
  },
  {
   "cell_type": "code",
   "execution_count": 15,
   "id": "eb00ff42-de31-4a6f-a179-4f3e14f169a1",
   "metadata": {},
   "outputs": [
    {
     "name": "stdout",
     "output_type": "stream",
     "text": [
      "len(test_images) = 394\n",
      "len(test_labels) = 490\n"
     ]
    }
   ],
   "source": [
    "images_folder = 'data/1_selected_data/test/images'\n",
    "labels_folder = 'data/1_selected_data/test/labels'\n",
    "\n",
    "# List all image files in the 'images' folder\n",
    "image_files = os.listdir(images_folder)\n",
    "\n",
    "# List all label files in the 'labels' folder\n",
    "label_files = os.listdir(labels_folder)\n",
    "\n",
    "print(f\"len(test_images) = {len(image_files)}\")\n",
    "print(f\"len(test_labels) = {len(label_files)}\")"
   ]
  },
  {
   "cell_type": "code",
   "execution_count": 16,
   "id": "c351d426-fe82-4357-a5a3-d5669f92640d",
   "metadata": {},
   "outputs": [
    {
     "name": "stdout",
     "output_type": "stream",
     "text": [
      "Deletion process completed\n",
      "len(test_images) = 394\n",
      "len(test_labels) = 394\n"
     ]
    }
   ],
   "source": [
    "# Loop through each label file and check if the corresponding image exists\n",
    "for label_file in label_files:\n",
    "    if label_file.endswith('.txt'):\n",
    "        # Extract the image filename without the extension\n",
    "        image_filename = os.path.splitext(label_file)[0] + '.jpg'\n",
    "\n",
    "        # Check if the corresponding image exists in the 'images' folder\n",
    "        if image_filename not in image_files:\n",
    "            # If the image does not exist, delete the label file\n",
    "            label_file_path = os.path.join(labels_folder, label_file)\n",
    "            os.remove(label_file_path)\n",
    "\n",
    "print(\"Deletion process completed\")\n",
    "\n",
    "images_folder = 'data/1_selected_data/test/images'\n",
    "labels_folder = 'data/1_selected_data/test/labels'\n",
    "\n",
    "# List all image files in the 'images' folder\n",
    "image_files = os.listdir(images_folder)\n",
    "\n",
    "# List all label files in the 'labels' folder\n",
    "label_files = os.listdir(labels_folder)\n",
    "\n",
    "print(f\"len(test_images) = {len(image_files)}\")\n",
    "print(f\"len(test_labels) = {len(label_files)}\")"
   ]
  },
  {
   "cell_type": "markdown",
   "id": "d4c26acc-04aa-4b1d-8b44-3b2272c4585d",
   "metadata": {},
   "source": [
    "# Filter images using an improved algorithm from Homework_9"
   ]
  },
  {
   "cell_type": "markdown",
   "id": "cd91fb41-e8cd-4ea9-861d-51de2f9a1178",
   "metadata": {},
   "source": [
    "## Rewrite the algorithm from Homework_9"
   ]
  },
  {
   "cell_type": "code",
   "execution_count": 6,
   "id": "db5c636c-e7e3-4c5a-8aee-34ef35b3b07e",
   "metadata": {},
   "outputs": [],
   "source": [
    "# Initialize the parameters\n",
    "confThreshold = 0.5  # Confidence threshold\n",
    "nmsThreshold = 0.4  # Non-maximum suppression threshold\n",
    "\n",
    "inpWidth = 416  # 608     # Width of network's input image\n",
    "inpHeight = 416  # 608     # Height of network's input image\n",
    "\n",
    "# Load names of classes\n",
    "classesFile = \"yolo-license-plate-detection/model/classes.names\"\n",
    "\n",
    "classes = None\n",
    "with open(classesFile, 'rt') as f:\n",
    "    classes = f.read().rstrip('\\n').split('\\n')\n",
    "\n",
    "# Give the configuration and weight files for the model and load the network using them.\n",
    "modelConfiguration = \"yolo-license-plate-detection/model/config/darknet-yolov3.cfg\"\n",
    "modelWeights = \"yolo-license-plate-detection/model/weights/model.weights\"\n",
    "\n",
    "net = cv2.dnn.readNetFromDarknet(modelConfiguration, modelWeights)\n",
    "net.setPreferableBackend(cv2.dnn.DNN_BACKEND_OPENCV)\n",
    "net.setPreferableTarget(cv2.dnn.DNN_TARGET_CPU)"
   ]
  },
  {
   "cell_type": "code",
   "execution_count": null,
   "id": "cb11c4bf-2879-49cd-92d3-17f571ed3091",
   "metadata": {},
   "outputs": [],
   "source": [
    "image_dir = 'data/1_selected_data/train/images'\n",
    "\n",
    "output_dir = 'data/2_filtered_data/train/images'\n",
    "output_plates_dir = 'data/2_filtered_data/train/plates'\n",
    "\n",
    "if not os.path.isdir(image_dir):\n",
    "    print(\"Input image dir \", image_dir, \" doesn't exist\")\n",
    "\n",
    "if not os.path.exists(output_dir):\n",
    "    os.makedirs(output_dir)\n",
    "\n",
    "title = \"\"\n",
    "reader = easyocr.Reader(['en'])\n",
    "\n",
    "# license_plates_dict = {'image_name': [], 'x': [], 'y': [], 'width': [], 'height': [] }\n",
    "for image_name in [k for k in os.listdir(image_dir) if 'out_py' not in k]:\n",
    "    license_plate = None\n",
    "    image_path = os.path.join(image_dir, image_name)\n",
    "    print(f\"Image_path = {image_path}\")\n",
    "    \n",
    "    output_img_path = os.path.join(output_dir, image_name)\n",
    "    output_plate_path = os.path.join(output_plates_dir, image_name)\n",
    "    \n",
    "    image = cv2.imread(image_path)\n",
    "    frame = image.copy()\n",
    "    # Create a 4D blob from the frame\n",
    "    blob = cv2.dnn.blobFromImage(frame, 1/255, (inpWidth, inpHeight), [0, 0, 0], 1, crop=False)\n",
    "    \n",
    "    # Set input to the network\n",
    "    net.setInput(blob)\n",
    "\n",
    "    # Run forward pass and get output\n",
    "    outs = net.forward(getOutputsNames(net))\n",
    "\n",
    "    # Remove bounding boxes with low confidence and draw predictions\n",
    "    indices, boxes, classIds, confidences = postprocess(frame, outs)\n",
    "    if len(indices) != 0:\n",
    "        # Loop through detected boxes and find the license plate\n",
    "        for i in indices:\n",
    "            box = boxes[i]\n",
    "            left, top, width, height = box[0], box[1], box[2], box[3]\n",
    "            classId = classIds[i]\n",
    "            confidence = confidences[i]\n",
    "            # Check if the detected object is a license plate\n",
    "            if classes[classId] == 'License Plate':\n",
    "                print(f\"left, top, width, height = {left, top, width, height}\")\n",
    "                # Extract the license plate region\n",
    "                if left < 0:\n",
    "                    left = 0\n",
    "                license_plate = frame[top:top+height, left:left+width]\n",
    "                break\n",
    "        title = \"YOLO\"\n",
    "    \n",
    "    else:\n",
    "        # OpenCV algorithm\n",
    "        location = opencv_license_plates_localization(file_path=image_path, min_aspect_ratio=2)\n",
    "        if location is not None:\n",
    "            left, top, width, height = cv2.boundingRect(location)\n",
    "            img = cv2.imread(image_path)\n",
    "            gray = cv2.cvtColor(img, cv2.COLOR_BGR2GRAY) # Make the image gray\n",
    "            # Extract the license plate from the original image\n",
    "            mask = np.zeros(gray.shape, np.uint8) # create a blank mask\n",
    "            new_image = cv2.drawContours(mask, [location], 0, 255, -1) # draw contours inside the mask image with location coordinates\n",
    "            new_image = cv2.bitwise_and(img, img, mask=mask) # Applying masks on top of the original image\n",
    "            (x, y) = np.where(mask==255)\n",
    "            (x1, y1) = (np.min(x), np.min(y))\n",
    "            (x2, y2) = (np.max(x), np.max(y))\n",
    "            license_plate = img[x1:x2 + 1, y1:y2 + 1]\n",
    "            title = \"OpenCV\"\n",
    "    \n",
    "    if license_plate is None:                               #if not isinstance(license_plate, np.ndarray):\n",
    "        print(f\"\\nNO LICENSE PLATE DETECTED IN THIS IMAGE: {image_name}!!!\\n\")\n",
    "        plt.imshow(cv2.cvtColor(image, cv2.COLOR_BGR2RGB))\n",
    "        plt.title(image_name)\n",
    "        plt.show()\n",
    "        continue\n",
    "    \n",
    "    # Check if the detected object is a license plate by trying to read sone symbols on object using easyOCR\n",
    "    license_plate = align_license_plate(license_plate.copy())\n",
    "    result = reader.readtext(license_plate)\n",
    "    if result != []:\n",
    "        text = result[0][-2]\n",
    "                    \n",
    "        if text != '' and len(text) >= 3:\n",
    "            \"\"\"\n",
    "            license_plates_dict['image_name'].append(image_name)\n",
    "            license_plates_dict['x'].append(left)\n",
    "            license_plates_dict['y'].append(top)\n",
    "            license_plates_dict['width'].append(width)\n",
    "            license_plates_dict['height'].append(height)\n",
    "            \"\"\"\n",
    "            \n",
    "            cv2.imwrite(output_img_path, image)\n",
    "            cv2.imwrite(output_plate_path, license_plate)\n",
    "            \n",
    "            \"\"\"\n",
    "            # Display the original image, license plate, and license plate on the original image\n",
    "            fig, axes = plt.subplots(1, 3, figsize=(12, 6))\n",
    "            axes[0].imshow(cv2.cvtColor(image, cv2.COLOR_BGR2RGB))\n",
    "            axes[0].set_title('Original Image')\n",
    "        \n",
    "            axes[1].imshow(cv2.cvtColor(license_plate, cv2.COLOR_BGR2RGB))\n",
    "            axes[1].set_title('License Plate')\n",
    "            \n",
    "            if title == 'YOLO':\n",
    "                drawPred(classId, confidence, left, top, left + width, top + height)\n",
    "            else:\n",
    "                temp_image = img.copy()\n",
    "                frame = cv2.rectangle(temp_image, tuple([left, top]), tuple([left + width, top + height]), (0, 255, 0), 3) # draw green rectangle\n",
    "                \n",
    "            axes[2].imshow(cv2.cvtColor(frame, cv2.COLOR_BGR2RGB))\n",
    "            axes[2].set_title(f\"{title}: {text}\")\n",
    "        \n",
    "            plt.show()\n",
    "            \"\"\"\n",
    "        else:\n",
    "            print(f\"\\nNO TEXT WAS DETECTED OR IT IS TOO SHORT ON THE SELECTED PART OF THE IMAGE: {image_name}!!!\")\n",
    "            print(f\"\\nTHE DETECTED TEXT IS: '{text}' AND ITS LENGTH IS {len(text)}.\\n\")\n",
    "            plt.imshow(cv2.cvtColor(image, cv2.COLOR_BGR2RGB))\n",
    "            plt.title(image_name)\n",
    "            plt.show()\n",
    "    else:\n",
    "        print(f\"\\nNO TEXT WAS DETECTED ON THE SELECTED PART OF THE IMAGE: {image_name}!!!\\n\")\n",
    "        plt.imshow(cv2.cvtColor(image, cv2.COLOR_BGR2RGB))\n",
    "        plt.title(image_name)\n",
    "        plt.show()"
   ]
  }
 ],
 "metadata": {
  "kernelspec": {
   "display_name": "Python 3 (ipykernel)",
   "language": "python",
   "name": "python3"
  },
  "language_info": {
   "codemirror_mode": {
    "name": "ipython",
    "version": 3
   },
   "file_extension": ".py",
   "mimetype": "text/x-python",
   "name": "python",
   "nbconvert_exporter": "python",
   "pygments_lexer": "ipython3",
   "version": "3.10.8"
  }
 },
 "nbformat": 4,
 "nbformat_minor": 5
}
